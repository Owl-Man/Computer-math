{
  "cells": [
    {
      "cell_type": "markdown",
      "metadata": {
        "id": "UB-0r6DTTb9a"
      },
      "source": [
        "# **Диагностическая работа по библиотеке Pandas**\n"
      ]
    },
    {
      "cell_type": "code",
      "execution_count": 1,
      "metadata": {
        "id": "FRfly0eVyQoA"
      },
      "outputs": [],
      "source": [
        "import numpy as np\n",
        "import pandas as pd\n",
        "\n",
        "%matplotlib inline"
      ]
    },
    {
      "cell_type": "markdown",
      "metadata": {
        "id": "SOQkJRvByQoB"
      },
      "source": [
        "**Считаем данные из файла в память в виде объекта Pandas.DataFrame**"
      ]
    },
    {
      "cell_type": "code",
      "execution_count": null,
      "metadata": {
        "id": "iZ9c1RkxyQoB"
      },
      "outputs": [
        {
          "data": {
            "text/html": [
              "<div>\n",
              "<style scoped>\n",
              "    .dataframe tbody tr th:only-of-type {\n",
              "        vertical-align: middle;\n",
              "    }\n",
              "\n",
              "    .dataframe tbody tr th {\n",
              "        vertical-align: top;\n",
              "    }\n",
              "\n",
              "    .dataframe thead th {\n",
              "        text-align: right;\n",
              "    }\n",
              "</style>\n",
              "<table border=\"1\" class=\"dataframe\">\n",
              "  <thead>\n",
              "    <tr style=\"text-align: right;\">\n",
              "      <th></th>\n",
              "      <th>PassengerId</th>\n",
              "      <th>Survived</th>\n",
              "      <th>Pclass</th>\n",
              "      <th>Name</th>\n",
              "      <th>Sex</th>\n",
              "      <th>Age</th>\n",
              "      <th>SibSp</th>\n",
              "      <th>Parch</th>\n",
              "      <th>Ticket</th>\n",
              "      <th>Fare</th>\n",
              "      <th>Cabin</th>\n",
              "      <th>Embarked</th>\n",
              "    </tr>\n",
              "  </thead>\n",
              "  <tbody>\n",
              "    <tr>\n",
              "      <th>0</th>\n",
              "      <td>1</td>\n",
              "      <td>0</td>\n",
              "      <td>3</td>\n",
              "      <td>Braund, Mr. Owen Harris</td>\n",
              "      <td>male</td>\n",
              "      <td>22.0</td>\n",
              "      <td>1</td>\n",
              "      <td>0</td>\n",
              "      <td>A/5 21171</td>\n",
              "      <td>7.2500</td>\n",
              "      <td>NaN</td>\n",
              "      <td>S</td>\n",
              "    </tr>\n",
              "    <tr>\n",
              "      <th>1</th>\n",
              "      <td>2</td>\n",
              "      <td>1</td>\n",
              "      <td>1</td>\n",
              "      <td>Cumings, Mrs. John Bradley (Florence Briggs Th...</td>\n",
              "      <td>female</td>\n",
              "      <td>38.0</td>\n",
              "      <td>1</td>\n",
              "      <td>0</td>\n",
              "      <td>PC 17599</td>\n",
              "      <td>71.2833</td>\n",
              "      <td>C85</td>\n",
              "      <td>C</td>\n",
              "    </tr>\n",
              "    <tr>\n",
              "      <th>2</th>\n",
              "      <td>3</td>\n",
              "      <td>1</td>\n",
              "      <td>3</td>\n",
              "      <td>Heikkinen, Miss. Laina</td>\n",
              "      <td>female</td>\n",
              "      <td>26.0</td>\n",
              "      <td>0</td>\n",
              "      <td>0</td>\n",
              "      <td>STON/O2. 3101282</td>\n",
              "      <td>7.9250</td>\n",
              "      <td>NaN</td>\n",
              "      <td>S</td>\n",
              "    </tr>\n",
              "    <tr>\n",
              "      <th>3</th>\n",
              "      <td>4</td>\n",
              "      <td>1</td>\n",
              "      <td>1</td>\n",
              "      <td>Futrelle, Mrs. Jacques Heath (Lily May Peel)</td>\n",
              "      <td>female</td>\n",
              "      <td>35.0</td>\n",
              "      <td>1</td>\n",
              "      <td>0</td>\n",
              "      <td>113803</td>\n",
              "      <td>53.1000</td>\n",
              "      <td>C123</td>\n",
              "      <td>S</td>\n",
              "    </tr>\n",
              "    <tr>\n",
              "      <th>4</th>\n",
              "      <td>5</td>\n",
              "      <td>0</td>\n",
              "      <td>3</td>\n",
              "      <td>Allen, Mr. William Henry</td>\n",
              "      <td>male</td>\n",
              "      <td>35.0</td>\n",
              "      <td>0</td>\n",
              "      <td>0</td>\n",
              "      <td>373450</td>\n",
              "      <td>8.0500</td>\n",
              "      <td>NaN</td>\n",
              "      <td>S</td>\n",
              "    </tr>\n",
              "    <tr>\n",
              "      <th>...</th>\n",
              "      <td>...</td>\n",
              "      <td>...</td>\n",
              "      <td>...</td>\n",
              "      <td>...</td>\n",
              "      <td>...</td>\n",
              "      <td>...</td>\n",
              "      <td>...</td>\n",
              "      <td>...</td>\n",
              "      <td>...</td>\n",
              "      <td>...</td>\n",
              "      <td>...</td>\n",
              "      <td>...</td>\n",
              "    </tr>\n",
              "    <tr>\n",
              "      <th>886</th>\n",
              "      <td>887</td>\n",
              "      <td>0</td>\n",
              "      <td>2</td>\n",
              "      <td>Montvila, Rev. Juozas</td>\n",
              "      <td>male</td>\n",
              "      <td>27.0</td>\n",
              "      <td>0</td>\n",
              "      <td>0</td>\n",
              "      <td>211536</td>\n",
              "      <td>13.0000</td>\n",
              "      <td>NaN</td>\n",
              "      <td>S</td>\n",
              "    </tr>\n",
              "    <tr>\n",
              "      <th>887</th>\n",
              "      <td>888</td>\n",
              "      <td>1</td>\n",
              "      <td>1</td>\n",
              "      <td>Graham, Miss. Margaret Edith</td>\n",
              "      <td>female</td>\n",
              "      <td>19.0</td>\n",
              "      <td>0</td>\n",
              "      <td>0</td>\n",
              "      <td>112053</td>\n",
              "      <td>30.0000</td>\n",
              "      <td>B42</td>\n",
              "      <td>S</td>\n",
              "    </tr>\n",
              "    <tr>\n",
              "      <th>888</th>\n",
              "      <td>889</td>\n",
              "      <td>0</td>\n",
              "      <td>3</td>\n",
              "      <td>Johnston, Miss. Catherine Helen \"Carrie\"</td>\n",
              "      <td>female</td>\n",
              "      <td>NaN</td>\n",
              "      <td>1</td>\n",
              "      <td>2</td>\n",
              "      <td>W./C. 6607</td>\n",
              "      <td>23.4500</td>\n",
              "      <td>NaN</td>\n",
              "      <td>S</td>\n",
              "    </tr>\n",
              "    <tr>\n",
              "      <th>889</th>\n",
              "      <td>890</td>\n",
              "      <td>1</td>\n",
              "      <td>1</td>\n",
              "      <td>Behr, Mr. Karl Howell</td>\n",
              "      <td>male</td>\n",
              "      <td>26.0</td>\n",
              "      <td>0</td>\n",
              "      <td>0</td>\n",
              "      <td>111369</td>\n",
              "      <td>30.0000</td>\n",
              "      <td>C148</td>\n",
              "      <td>C</td>\n",
              "    </tr>\n",
              "    <tr>\n",
              "      <th>890</th>\n",
              "      <td>891</td>\n",
              "      <td>0</td>\n",
              "      <td>3</td>\n",
              "      <td>Dooley, Mr. Patrick</td>\n",
              "      <td>male</td>\n",
              "      <td>32.0</td>\n",
              "      <td>0</td>\n",
              "      <td>0</td>\n",
              "      <td>370376</td>\n",
              "      <td>7.7500</td>\n",
              "      <td>NaN</td>\n",
              "      <td>Q</td>\n",
              "    </tr>\n",
              "  </tbody>\n",
              "</table>\n",
              "<p>891 rows × 12 columns</p>\n",
              "</div>"
            ],
            "text/plain": [
              "     PassengerId  Survived  Pclass  \\\n",
              "0              1         0       3   \n",
              "1              2         1       1   \n",
              "2              3         1       3   \n",
              "3              4         1       1   \n",
              "4              5         0       3   \n",
              "..           ...       ...     ...   \n",
              "886          887         0       2   \n",
              "887          888         1       1   \n",
              "888          889         0       3   \n",
              "889          890         1       1   \n",
              "890          891         0       3   \n",
              "\n",
              "                                                  Name     Sex   Age  SibSp  \\\n",
              "0                              Braund, Mr. Owen Harris    male  22.0      1   \n",
              "1    Cumings, Mrs. John Bradley (Florence Briggs Th...  female  38.0      1   \n",
              "2                               Heikkinen, Miss. Laina  female  26.0      0   \n",
              "3         Futrelle, Mrs. Jacques Heath (Lily May Peel)  female  35.0      1   \n",
              "4                             Allen, Mr. William Henry    male  35.0      0   \n",
              "..                                                 ...     ...   ...    ...   \n",
              "886                              Montvila, Rev. Juozas    male  27.0      0   \n",
              "887                       Graham, Miss. Margaret Edith  female  19.0      0   \n",
              "888           Johnston, Miss. Catherine Helen \"Carrie\"  female   NaN      1   \n",
              "889                              Behr, Mr. Karl Howell    male  26.0      0   \n",
              "890                                Dooley, Mr. Patrick    male  32.0      0   \n",
              "\n",
              "     Parch            Ticket     Fare Cabin Embarked  \n",
              "0        0         A/5 21171   7.2500   NaN        S  \n",
              "1        0          PC 17599  71.2833   C85        C  \n",
              "2        0  STON/O2. 3101282   7.9250   NaN        S  \n",
              "3        0            113803  53.1000  C123        S  \n",
              "4        0            373450   8.0500   NaN        S  \n",
              "..     ...               ...      ...   ...      ...  \n",
              "886      0            211536  13.0000   NaN        S  \n",
              "887      0            112053  30.0000   B42        S  \n",
              "888      2        W./C. 6607  23.4500   NaN        S  \n",
              "889      0            111369  30.0000  C148        C  \n",
              "890      0            370376   7.7500   NaN        Q  \n",
              "\n",
              "[891 rows x 12 columns]"
            ]
          },
          "execution_count": 2,
          "metadata": {},
          "output_type": "execute_result"
        }
      ],
      "source": [
        "df = pd.read_csv(\"https://raw.githubusercontent.com/datasciencedojo/datasets/refs/heads/master/titanic.csv\")\n",
        "df"
      ]
    },
    {
      "cell_type": "markdown",
      "metadata": {
        "id": "FH15MXoTq-ko"
      },
      "source": [
        "## **Задание 1**\n"
      ]
    },
    {
      "cell_type": "markdown",
      "metadata": {
        "id": "2xz9_OVkq9nr"
      },
      "source": [
        "Проанализируйте зависимость между портом посадки (Embarked) и вероятностью выживания пассажиров (Survived). Рассчитайте процент выживших для каждого порта посадки (Southampton - 'S', Cherbourg - 'C', Queenstown - 'Q'). Какой порт посадки связан с наибольшим процентом выживших пассажиров? Обоснуйте, почему так могло произойти."
      ]
    },
    {
      "cell_type": "code",
      "execution_count": 3,
      "metadata": {
        "id": "uEdkSLhHrVf0"
      },
      "outputs": [
        {
          "name": "stdout",
          "output_type": "stream",
          "text": [
            "Embarked\n",
            "C    0.553571\n",
            "Q    0.389610\n",
            "S    0.336957\n",
            "Name: Survived, dtype: float64\n"
          ]
        }
      ],
      "source": [
        "survival_by_embarked = df.groupby('Embarked')['Survived'].mean()\n",
        "print(survival_by_embarked)"
      ]
    },
    {
      "cell_type": "markdown",
      "metadata": {
        "id": "Hj1wMBPhrBCW"
      },
      "source": [
        "## **Задание 2**\n"
      ]
    },
    {
      "cell_type": "markdown",
      "metadata": {
        "id": "LvabjATTrCEm"
      },
      "source": [
        "Исследуйте влияние наличия родственников на борту (SibSp - количество братьев/сестер/супругов и Parch - количество родителей/детей) на вероятность выживания. Создайте новую переменную \"Family_Size\", равную сумме SibSp и Parch плюс 1 (сам пассажир). Разделите пассажиров на группы: одиночки (Family_Size = 1), малые семьи (2-4) и большие семьи (5+). Для какой группы процент выживания был наибольшим?"
      ]
    },
    {
      "cell_type": "code",
      "execution_count": null,
      "metadata": {
        "id": "N834PsOjrYlP"
      },
      "outputs": [
        {
          "name": "stdout",
          "output_type": "stream",
          "text": [
            "Family_Group\n",
            "Alone           0.303538\n",
            "Small Family    0.578767\n",
            "Large Family    0.161290\n",
            "Name: Survived, dtype: float64\n"
          ]
        },
        {
          "name": "stderr",
          "output_type": "stream",
          "text": [
            "C:\\Users\\Owl\\AppData\\Local\\Temp\\ipykernel_11200\\2357192276.py:6: FutureWarning: The default of observed=False is deprecated and will be changed to True in a future version of pandas. Pass observed=False to retain current behavior or observed=True to adopt the future default and silence this warning.\n",
            "  survival_by_family_size = df.groupby('Family_Group')['Survived'].mean()\n"
          ]
        }
      ],
      "source": [
        "df['Family_Size'] = df['SibSp'] + df['Parch'] + 1\n",
        "df['Family_Group'] = pd.cut(df['Family_Size'], \n",
        "                            bins=[0, 1, 4, float('inf')], \n",
        "                            labels=['Alone', 'Small Family', 'Large Family'])\n",
        "\n",
        "survival_by_family_size = df.groupby('Family_Group')['Survived'].mean()\n",
        "print(survival_by_family_size)"
      ]
    },
    {
      "cell_type": "markdown",
      "metadata": {
        "id": "2bQyzQGrrMfe"
      },
      "source": [
        "## **Задание 3**\n"
      ]
    },
    {
      "cell_type": "markdown",
      "metadata": {
        "id": "cWdH3Wj8rLji"
      },
      "source": [
        "Проведите анализ возрастных групп пассажиров с учетом пола и класса. Создайте возрастные категории: дети (до 18 лет), молодые взрослые (18-35), взрослые среднего возраста (36-55) и пожилые (старше 55). Определите, какая комбинация возрастной категории, пола и класса имела наивысший процент выживания, а какая - наименьший. Визуализируйте результаты с помощью подходящего графика."
      ]
    },
    {
      "cell_type": "code",
      "execution_count": 34,
      "metadata": {
        "id": "EB83txCdrY-G"
      },
      "outputs": [
        {
          "name": "stdout",
          "output_type": "stream",
          "text": [
            "0      Young Adults\n",
            "1       Middle Aged\n",
            "2      Young Adults\n",
            "3      Young Adults\n",
            "4      Young Adults\n",
            "           ...     \n",
            "886    Young Adults\n",
            "887    Young Adults\n",
            "888    Young Adults\n",
            "889    Young Adults\n",
            "890    Young Adults\n",
            "Name: Age_Group, Length: 891, dtype: category\n",
            "Categories (4, object): ['Children' < 'Young Adults' < 'Middle Aged' < 'Elderly']\n",
            "Pclass                      1         2         3\n",
            "Age_Group    Sex                                 \n",
            "Children     female  0.909091  1.000000  0.511628\n",
            "             male    0.800000  0.600000  0.215686\n",
            "Young Adults female  0.977778  0.928571  0.546512\n",
            "             male    0.392157  0.095238  0.133065\n",
            "Middle Aged  female  0.967742  0.894737  0.142857\n",
            "             male    0.382979  0.041667  0.071429\n",
            "Elderly      female  1.000000  0.000000  1.000000\n",
            "             male    0.157895  0.166667  0.000000\n"
          ]
        },
        {
          "name": "stderr",
          "output_type": "stream",
          "text": [
            "C:\\Users\\Owl\\AppData\\Local\\Temp\\ipykernel_11200\\4268396223.py:10: FutureWarning: The default of observed=False is deprecated and will be changed to True in a future version of pandas. Pass observed=False to retain current behavior or observed=True to adopt the future default and silence this warning.\n",
            "  survival = df.groupby(['Age_Group', 'Sex', 'Pclass'])['Survived'].mean().unstack()\n"
          ]
        },
        {
          "data": {
            "image/png": "[encoded data removed]",
            "text/plain": [
              "<Figure size 640x480 with 2 Axes>"
            ]
          },
          "metadata": {},
          "output_type": "display_data"
        }
      ],
      "source": [
        "import seaborn as sns\n",
        "import matplotlib.pyplot as plt\n",
        "\n",
        "df['Age_Group'] = pd.cut(df['Age'], \n",
        "                         bins=[0, 18, 35, 55, float('inf')], \n",
        "                         labels=['Children', 'Young Adults', 'Middle Aged', 'Elderly'])\n",
        "\n",
        "print(df['Age_Group'])\n",
        "\n",
        "survival = df.groupby(['Age_Group', 'Sex', 'Pclass'])['Survived'].mean().unstack()\n",
        "print(survival)\n",
        "\n",
        "sns.heatmap(survival, annot=True)\n",
        "plt.title('Survival Rate by Age Group, Sex, and Class')\n",
        "plt.show()"
      ]
    },
    {
      "cell_type": "markdown",
      "metadata": {
        "id": "Wmf-unJdrQiH"
      },
      "source": [
        "## **Задание 4**\n"
      ]
    },
    {
      "cell_type": "markdown",
      "metadata": {
        "id": "W1-o520WrPJB"
      },
      "source": [
        "Проанализируйте распределение стоимости билетов (Fare) в зависимости от класса (Pclass). Рассчитайте средние значения, медианы и интерквартильные размахи. Найдите и опишите выбросы в данных о стоимости билетов. Определите, существуют ли пассажиры третьего класса, которые заплатили за билет больше, чем некоторые пассажиры первого класса? Если да, то сколько таких пассажиров?"
      ]
    },
    {
      "cell_type": "code",
      "execution_count": null,
      "metadata": {
        "id": "Zdc1bw56rZMe"
      },
      "outputs": [
        {
          "name": "stdout",
          "output_type": "stream",
          "text": [
            "             mean   median\n",
            "Pclass                    \n",
            "1       84.154687  60.2875\n",
            "2       20.662183  14.2500\n",
            "3       13.675550   8.0500\n"
          ]
        },
        {
          "data": {
            "image/png": "[encoded data removed]",
            "text/plain": [
              "<Figure size 1000x600 with 1 Axes>"
            ]
          },
          "metadata": {},
          "output_type": "display_data"
        },
        {
          "name": "stdout",
          "output_type": "stream",
          "text": [
            "Pclass\n",
            "1    20\n",
            "2     7\n",
            "3    52\n",
            "Name: Fare, dtype: int64\n",
            "Пассажиров 3-го класса, заплативших больше медианы 1-го класса: 7\n"
          ]
        }
      ],
      "source": [
        "import seaborn as sns\n",
        "import matplotlib.pyplot as plt\n",
        "\n",
        "fare_stats = df.groupby('Pclass')['Fare'].agg(['mean', 'median'])\n",
        "print(fare_stats)\n",
        "\n",
        "def find_outliers(group):\n",
        "    Q1 = group.quantile(0.25)\n",
        "    Q3 = group.quantile(0.75)\n",
        "    IQR = Q3 - Q1\n",
        "    lower_bound = Q1 - 1.5 * IQR\n",
        "    upper_bound = Q3 + 1.5 * IQR\n",
        "    outliers = group[(group < lower_bound) | (group > upper_bound)]\n",
        "    return outliers\n",
        "\n",
        "plt.figure(figsize=(10, 6))\n",
        "sns.boxplot(x='Pclass', y='Fare', data=df)\n",
        "plt.title('Распределение цен по классам')\n",
        "plt.show()\n",
        "\n",
        "outliers_by_class = df.groupby('Pclass')['Fare'].apply(find_outliers)\n",
        "\n",
        "\n",
        "outliers_count = outliers_by_class.groupby('Pclass').count()\n",
        "print(outliers_count)\n",
        "\n",
        "median_fare_1st = df[df['Pclass'] == 1]['Fare'].median()\n",
        "\n",
        "third_class_above_median = df[(df['Pclass'] == 3) & (df['Fare'] > median_fare_1st)]\n",
        "print(f\"Пассажиров 3-го класса, заплативших больше медианы 1-го класса: {len(third_class_above_median)}\")"
      ]
    },
    {
      "cell_type": "markdown",
      "metadata": {
        "id": "kUnjhCsxrTCg"
      },
      "source": [
        "## **Задание 5**\n"
      ]
    },
    {
      "cell_type": "markdown",
      "metadata": {
        "id": "2NDha2pCq7pG"
      },
      "source": [
        "\n",
        "Проведите анализ выживаемости на основе информации о каютах пассажиров (Cabin). Несмотря на то, что многие значения отсутствуют, первая буква номера каюты указывает на палубу. Создайте новую переменную \"Deck\", извлекая первую букву из номера каюты. Исследуйте связь между палубой и вероятностью выживания. Учитывайте также отсутствующие значения как отдельную категорию. Как расположение каюты (палуба) влияло на шансы выживания пассажира?"
      ]
    },
    {
      "cell_type": "code",
      "execution_count": 32,
      "metadata": {
        "id": "EZcX7P21rZiw"
      },
      "outputs": [
        {
          "name": "stdout",
          "output_type": "stream",
          "text": [
            "Deck\n",
            "U    687\n",
            "C     59\n",
            "B     47\n",
            "D     33\n",
            "E     32\n",
            "A     15\n",
            "F     13\n",
            "G      4\n",
            "T      1\n",
            "Name: count, dtype: int64\n",
            "Deck\n",
            "D    0.757576\n",
            "E    0.750000\n",
            "B    0.744681\n",
            "F    0.615385\n",
            "C    0.593220\n",
            "G    0.500000\n",
            "A    0.466667\n",
            "U    0.299854\n",
            "T    0.000000\n",
            "Name: Survived, dtype: float64\n"
          ]
        }
      ],
      "source": [
        "#print(df['Cabin'])\n",
        "df['Deck'] = df['Cabin'].str[0] \n",
        "df['Deck'] = df['Deck'].fillna('Unknown') \n",
        "print(df['Deck'].value_counts())\n",
        "\n",
        "\n",
        "survival_by_deck = df.groupby('Deck')['Survived'].mean().sort_values(ascending=False)\n",
        "print(survival_by_deck)"
      ]
    }
  ],
  "metadata": {
    "anaconda-cloud": {},
    "colab": {
      "provenance": []
    },
    "kernelspec": {
      "display_name": "Python 3",
      "language": "python",
      "name": "python3"
    },
    "language_info": {
      "codemirror_mode": {
        "name": "ipython",
        "version": 3
      },
      "file_extension": ".py",
      "mimetype": "text/x-python",
      "name": "python",
      "nbconvert_exporter": "python",
      "pygments_lexer": "ipython3",
      "version": "3.11.4"
    },
    "name": "seminar02_practice_pandas_titanic.ipynb"
  },
  "nbformat": 4,
  "nbformat_minor": 0
}
