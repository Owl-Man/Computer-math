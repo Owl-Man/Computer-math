{
 "cells": [
  {
   "cell_type": "markdown",
   "id": "824b4bd4",
   "metadata": {},
   "source": [
    "### 1."
   ]
  },
  {
   "cell_type": "markdown",
   "id": "304b8251",
   "metadata": {},
   "source": [
    "Задача 1. Создайте массив размером 3×3 с элементами [[1, 2, 3], [4, 5, 6], [7, 8, 9]] и вычислите его определитель используя NumPy."
   ]
  },
  {
   "cell_type": "code",
   "execution_count": null,
   "id": "a0e1da58",
   "metadata": {},
   "outputs": [],
   "source": [
    "import numpy as np\n",
    "\n",
    "# Создаем массив 3x3\n",
    "A = np.array([[1, 2, 3], [4, 5, 6], [7, 8, 9]])\n",
    "\n",
    "# Вычисляем определитель\n",
    "det = np.linalg.det(A)\n",
    "print(f\"Определитель: {det}\")"
   ]
  },
  {
   "cell_type": "markdown",
   "id": "aefbb89b",
   "metadata": {},
   "source": [
    "Задача 2: Постройте график функции $ y = \\sin(x) + \\cos(2x) $ на интервале $[0, 2\\pi]$ с помощью Matplotlib."
   ]
  },
  {
   "cell_type": "code",
   "execution_count": null,
   "id": "0e4df076",
   "metadata": {},
   "outputs": [],
   "source": [
    "import numpy as np\n",
    "import matplotlib.pyplot as plt\n",
    "\n",
    "# Создаем массив x на интервале [0, 2π]\n",
    "x = np.linspace(0, 2 * np.pi, 1000)\n",
    "y = np.sin(x) + np.cos(2 * x)\n",
    "\n",
    "# Строим график\n",
    "plt.plot(x, y, label='y = sin(x) + cos(2x)')\n",
    "plt.xlabel('x')\n",
    "plt.ylabel('y')\n",
    "plt.title('График функции y = sin(x) + cos(2x)')\n",
    "plt.grid(True)\n",
    "plt.legend()\n",
    "plt.show()"
   ]
  },
  {
   "cell_type": "markdown",
   "id": "85920d85",
   "metadata": {},
   "source": [
    "Задача 3: Используя SymPy, найдите производную функции $ f(x) = x^3 e^x + \\ln(x) $."
   ]
  },
  {
   "cell_type": "code",
   "execution_count": null,
   "id": "736be5b6",
   "metadata": {},
   "outputs": [],
   "source": [
    "from sympy import symbols, diff, exp, ln\n",
    "\n",
    "# Определяем переменную и функцию\n",
    "x = symbols('x')\n",
    "f = x**3 * exp(x) + ln(x)\n",
    "\n",
    "# Вычисляем производную\n",
    "f_prime = diff(f, x)\n",
    "print(f\"Производная: {f_prime}\")"
   ]
  },
  {
   "cell_type": "markdown",
   "id": "bb875d0b",
   "metadata": {},
   "source": [
    "Задача 4: Решите систему линейных уравнений методами SciPy:\n",
    "$$\\begin{cases} \n",
    "2x + 3y - z = 7 \\\\ \n",
    "x - 2y + 4z = -2 \\\\ \n",
    "3x + y + 2z = 10 \n",
    "\\end{cases}$$"
   ]
  },
  {
   "cell_type": "code",
   "execution_count": null,
   "id": "0c6b68d0",
   "metadata": {},
   "outputs": [],
   "source": [
    "import numpy as np\n",
    "from scipy.linalg import solve\n",
    "\n",
    "# Матрица коэффициентов и вектор правой части\n",
    "A = np.array([[2, 3, -1], [1, -2, 4], [3, 1, 2]])\n",
    "b = np.array([7, -2, 10])\n",
    "\n",
    "# Решаем систему\n",
    "solution = solve(A, b)\n",
    "print(f\"Решение: x = {solution[0]}, y = {solution[1]}, z = {solution[2]}\")"
   ]
  },
  {
   "cell_type": "markdown",
   "id": "7c118233",
   "metadata": {},
   "source": [
    "Задача 5: Загрузите CSV-файл с данными о продажах (столбцы: дата, продукт, количество, цена) в Pandas DataFrame. Выполните группировку по продуктам, рассчитайте общую выручку для каждого продукта и постройте столбчатую диаграмму результатов."
   ]
  },
  {
   "cell_type": "code",
   "execution_count": null,
   "id": "34eef0ea",
   "metadata": {},
   "outputs": [],
   "source": [
    "import pandas as pd\n",
    "import matplotlib.pyplot as plt\n",
    "\n",
    "# Создаем пример DataFrame\n",
    "data = {\n",
    "    'Дата': ['2025-01-01', '2025-01-01', '2025-01-02', '2025-01-02', '2025-01-03'],\n",
    "    'Продукт': ['Яблоки', 'Груши', 'Яблоки', 'Бананы', 'Груши'],\n",
    "    'Количество': [10, 5, 8, 12, 7],\n",
    "    'Цена': [100, 150, 100, 80, 150]\n",
    "}\n",
    "df = pd.DataFrame(data)\n",
    "\n",
    "# Рассчитываем выручку (Количество * Цена)\n",
    "df['Выручка'] = df['Количество'] * df['Цена']\n",
    "\n",
    "# Группируем по продуктам и суммируем выручку\n",
    "revenue = df.groupby('Продукт')['Выручка'].sum()\n",
    "\n",
    "# Строим столбчатую диаграмму\n",
    "revenue.plot(kind='bar', color='skyblue')\n",
    "plt.xlabel('Продукт')\n",
    "plt.ylabel('Общая выручка')\n",
    "plt.title('Общая выручка по продуктам')\n",
    "plt.xticks(rotation=45)\n",
    "plt.show()\n",
    "\n",
    "# Выводим результат группировки\n",
    "print(revenue)"
   ]
  },
  {
   "cell_type": "markdown",
   "id": "47557b03",
   "metadata": {},
   "source": [
    "### 2"
   ]
  },
  {
   "cell_type": "markdown",
   "id": "7cd28dcc",
   "metadata": {},
   "source": [
    "Задача 1: Создайте единичную матрицу 5×5 и умножьте её на вектор $[2, 4, 6, 8, 10]^T$ используя NumPy."
   ]
  },
  {
   "cell_type": "code",
   "execution_count": null,
   "id": "91b9618c",
   "metadata": {},
   "outputs": [],
   "source": [
    "import numpy as np\n",
    "\n",
    "# Создаем единичную матрицу 5x5\n",
    "I = np.eye(5)\n",
    "\n",
    "# Создаем вектор\n",
    "v = np.array([2, 4, 6, 8, 10])\n",
    "\n",
    "# Умножаем матрицу на вектор\n",
    "result = I @ v\n",
    "print(f\"Результат: {result}\")"
   ]
  },
  {
   "cell_type": "markdown",
   "id": "d76d16ad",
   "metadata": {},
   "source": [
    "Задача 2: Постройте гистограмму для 1000 случайных чисел с нормальным распределением ($\\mu=0$, $\\sigma=2$) в Matplotlib."
   ]
  },
  {
   "cell_type": "code",
   "execution_count": null,
   "id": "3d6f0ce2",
   "metadata": {},
   "outputs": [],
   "source": [
    "import numpy as np\n",
    "import matplotlib.pyplot as plt\n",
    "\n",
    "# Генерируем 1000 случайных чисел с нормальным распределением\n",
    "data = np.random.normal(loc=0, scale=2, size=1000)\n",
    "\n",
    "# Строим гистограмму\n",
    "plt.hist(data, bins=30, color='skyblue', edgecolor='black', density=True)\n",
    "plt.xlabel('Значение')\n",
    "plt.ylabel('Плотность')\n",
    "plt.title('Гистограмма нормального распределения (μ=0, σ=2)')\n",
    "plt.grid(True)\n",
    "plt.show()"
   ]
  },
  {
   "cell_type": "markdown",
   "id": "773bf321",
   "metadata": {},
   "source": [
    "Задача 3: Вычислите определённый интеграл $\\int_0^{\\pi} x \\sin(x) \\, dx$ с помощью SciPy."
   ]
  },
  {
   "cell_type": "code",
   "execution_count": null,
   "id": "a2e3329f",
   "metadata": {},
   "outputs": [],
   "source": [
    "from scipy.integrate import quad\n",
    "import numpy as np\n",
    "\n",
    "# Определяем подынтегральную функцию\n",
    "def f(x):\n",
    "    return x * np.sin(x)\n",
    "\n",
    "# Вычисляем интеграл\n",
    "result, error = quad(f, 0, np.pi)\n",
    "print(f\"Значение интеграла: {result}, погрешность: {error}\")"
   ]
  },
  {
   "cell_type": "markdown",
   "id": "eaa6ff67",
   "metadata": {},
   "source": [
    "Задача 4: Используя SymPy, разложите функцию $ f(x) = e^{\\sin(x)} $ в ряд Тейлора до 5-го члена в точке $ x_0 = 0 $."
   ]
  },
  {
   "cell_type": "code",
   "execution_count": null,
   "id": "cfd166a6",
   "metadata": {},
   "outputs": [],
   "source": [
    "from sympy import symbols, exp, sin, series\n",
    "\n",
    "# Определяем переменную и функцию\n",
    "x = symbols('x')\n",
    "f = exp(sin(x))\n",
    "\n",
    "# Разложение в ряд Тейлора до 5-го члена в точке x=0\n",
    "taylor_series = series(f, x, 0, 6)  # 6, так как n=5 включает член x^5\n",
    "print(f\"Ряд Тейлора: {taylor_series}\")"
   ]
  },
  {
   "cell_type": "markdown",
   "id": "08b9a24a",
   "metadata": {},
   "source": [
    "Задача 5: Реализуйте метод наименьших квадратов для линейной регрессии: даны точки (1,2), (2,3), (3,5), (4,4), (5,6). Найдите коэффициенты прямой $ y = ax + b $ используя NumPy и визуализируйте результат."
   ]
  },
  {
   "cell_type": "code",
   "execution_count": null,
   "id": "a775a03f",
   "metadata": {},
   "outputs": [],
   "source": [
    "import numpy as np\n",
    "import matplotlib.pyplot as plt\n",
    "\n",
    "# Данные\n",
    "x = np.array([1, 2, 3, 4, 5])\n",
    "y = np.array([2, 3, 5, 4, 6])\n",
    "\n",
    "# Метод наименьших квадратов\n",
    "coefficients = np.polyfit(x, y, 1)  # Линейная регрессия (степень 1)\n",
    "a, b = coefficients\n",
    "print(f\"Коэффициенты: a = {a}, b = {b}\")\n",
    "\n",
    "# Построение линии регрессии\n",
    "y_fit = a * x + b\n",
    "\n",
    "# Визуализация\n",
    "plt.scatter(x, y, color='blue', label='Точки')\n",
    "plt.plot(x, y_fit, color='red', label=f'y = {a:.2f}x + {b:.2f}')\n",
    "plt.xlabel('x')\n",
    "plt.ylabel('y')\n",
    "plt.title('Линейная регрессия')\n",
    "plt.legend()\n",
    "plt.grid(True)\n",
    "plt.show()"
   ]
  },
  {
   "cell_type": "markdown",
   "id": "e6b30b3c",
   "metadata": {},
   "source": [
    "### 3"
   ]
  },
  {
   "cell_type": "markdown",
   "id": "032eabe0",
   "metadata": {},
   "source": [
    "Задача 1: Вычислите скалярное произведение векторов $\\vec{a} = [2, 3, 4]$"
   ]
  },
  {
   "cell_type": "code",
   "execution_count": null,
   "id": "621519f1",
   "metadata": {},
   "outputs": [],
   "source": [
    "import numpy as np\n",
    "\n",
    "# Определяем векторы\n",
    "a = np.array([2, 3, 4])\n",
    "b = np.array([5, -1, 2])\n",
    "\n",
    "# Вычисляем скалярное произведение\n",
    "dot_product = np.dot(a, b)\n",
    "print(f\"Скалярное произведение: {dot_product}\")"
   ]
  },
  {
   "cell_type": "markdown",
   "id": "e86e22fb",
   "metadata": {},
   "source": [
    "Задача 2: Постройте круговую диаграмму для данных [30, 25, 20, 15, 10] с подписями \"A\", \"B\", \"C\", \"D\", \"E\" используя Matplotlib."
   ]
  },
  {
   "cell_type": "code",
   "execution_count": null,
   "id": "ad58ec76",
   "metadata": {},
   "outputs": [],
   "source": [
    "import matplotlib.pyplot as plt\n",
    "\n",
    "# Данные и подписи\n",
    "data = [30, 25, 20, 15, 10]\n",
    "labels = ['A', 'B', 'C', 'D', 'E']\n",
    "\n",
    "# Строим круговую диаграмму\n",
    "plt.pie(data, labels=labels, autopct='%1.1f%%', colors=['#ff9999', '#66b3ff', '#99ff99', '#ffcc99', '#ffb3e6'])\n",
    "plt.title('Круговая диаграмма')\n",
    "plt.show()"
   ]
  },
  {
   "cell_type": "markdown",
   "id": "88cf5f7e",
   "metadata": {},
   "source": [
    "Задача 3: Решите уравнение $ x^3 - 6x^2 + 11x - 6 = 0 $ с помощью SymPy."
   ]
  },
  {
   "cell_type": "code",
   "execution_count": null,
   "id": "4b4c13e7",
   "metadata": {},
   "outputs": [],
   "source": [
    "from sympy import symbols, solve\n",
    "\n",
    "# Определяем переменную и уравнение\n",
    "x = symbols('x')\n",
    "equation = x**3 - 6*x**2 + 11*x - 6\n",
    "\n",
    "# Решаем уравнение\n",
    "roots = solve(equation, x)\n",
    "print(f\"Корни уравнения: {roots}\")"
   ]
  },
  {
   "cell_type": "markdown",
   "id": "90aa04cc",
   "metadata": {},
   "source": [
    "Задача 4: Выполните кубическую интерполяцию для точек (0, 1), (1, 2), (2, 5), (3, 10), (4, 8) используя SciPy."
   ]
  },
  {
   "cell_type": "code",
   "execution_count": null,
   "id": "63444138",
   "metadata": {},
   "outputs": [],
   "source": [
    "import numpy as np\n",
    "from scipy.interpolate import CubicSpline\n",
    "import matplotlib.pyplot as plt\n",
    "\n",
    "# Данные\n",
    "x = np.array([0, 1, 2, 3, 4])\n",
    "y = np.array([1, 2, 5, 10, 8])\n",
    "\n",
    "# Кубическая интерполяция\n",
    "cs = CubicSpline(x, y)\n",
    "\n",
    "# Создаем точки для гладкого графика\n",
    "x_new = np.linspace(0, 4, 100)\n",
    "y_new = cs(x_new)\n",
    "\n",
    "# Визуализация\n",
    "plt.scatter(x, y, color='blue', label='Точки')\n",
    "plt.plot(x_new, y_new, color='red', label='Кубическая интерполяция')\n",
    "plt.xlabel('x')\n",
    "plt.ylabel('y')\n",
    "plt.title('Кубическая интерполяция')\n",
    "plt.legend()\n",
    "plt.grid(True)\n",
    "plt.show()"
   ]
  },
  {
   "cell_type": "markdown",
   "id": "9df1a51d",
   "metadata": {},
   "source": [
    "Задача 5: Создайте DataFrame с данными о студентах (имя, группа, оценки по 5 предметам), рассчитайте средний балл каждого студента, найдите лучшего студента в каждой группе и визуализируйте распределение средних баллов."
   ]
  },
  {
   "cell_type": "code",
   "execution_count": null,
   "id": "e8d48701",
   "metadata": {},
   "outputs": [],
   "source": [
    "import pandas as pd\n",
    "import matplotlib.pyplot as plt\n",
    "\n",
    "# Создаем DataFrame с тестовыми данными\n",
    "data = {\n",
    "    'Имя': ['Анна', 'Борис', 'Вера', 'Глеб', 'Дарья'],\n",
    "    'Группа': ['Г1', 'Г1', 'Г2', 'Г2', 'Г1'],\n",
    "    'Математика': [5, 4, 3, 5, 4],\n",
    "    'Физика': [4, 5, 4, 4, 3],\n",
    "    'Химия': [3, 4, 5, 5, 4],\n",
    "    'История': [5, 3, 4, 3, 5],\n",
    "    'Литература': [4, 5, 5, 4, 4]\n",
    "}\n",
    "df = pd.DataFrame(data)\n",
    "\n",
    "# Рассчитываем средний балл\n",
    "df['Средний_балл'] = df[['Математика', 'Физика', 'Химия', 'История', 'Литература']].mean(axis=1)\n",
    "\n",
    "# Находим лучшего студента в каждой группе\n",
    "best_students = df.loc[df.groupby('Группа')['Средний_балл'].idxmax()]\n",
    "print(\"Лучшие студенты по группам:\")\n",
    "print(best_students[['Имя', 'Группа', 'Средний_балл']])\n",
    "\n",
    "# Визуализируем распределение средних баллов\n",
    "plt.hist(df['Средний_балл'], bins=5, color='skyblue', edgecolor='black')\n",
    "plt.xlabel('Средний балл')\n",
    "plt.ylabel('Количество студентов')\n",
    "plt.title('Распределение средних баллов')\n",
    "plt.grid(True)\n",
    "plt.show()"
   ]
  },
  {
   "cell_type": "markdown",
   "id": "21ab2209",
   "metadata": {},
   "source": [
    "### 4"
   ]
  },
  {
   "cell_type": "markdown",
   "id": "6497027b",
   "metadata": {},
   "source": [
    "Задача 1: Найдите среднее, медиану и стандартное отклонение для массива [12, 15, 18, 22, 25, 30, 28, 19, 16, 21] используя NumPy."
   ]
  },
  {
   "cell_type": "code",
   "execution_count": null,
   "id": "7f4ab79a",
   "metadata": {},
   "outputs": [],
   "source": [
    "import numpy as np\n",
    "\n",
    "# Создаем массив\n",
    "data = np.array([12, 15, 18, 22, 25, 30, 28, 19, 16, 21])\n",
    "\n",
    "# Вычисляем среднее, медиану и стандартное отклонение\n",
    "mean = np.mean(data)\n",
    "median = np.median(data)\n",
    "std = np.std(data)\n",
    "\n",
    "print(f\"Среднее: {mean}\")\n",
    "print(f\"Медиана: {median}\")\n",
    "print(f\"Стандартное отклонение: {std}\")"
   ]
  },
  {
   "cell_type": "markdown",
   "id": "8373ad27",
   "metadata": {},
   "source": [
    "Задача 2: Постройте столбчатую диаграмму для сравнения данных [45, 38, 52, 41, 35, 48] с подписями осей используя Matplotlib."
   ]
  },
  {
   "cell_type": "code",
   "execution_count": null,
   "id": "ac97d03f",
   "metadata": {},
   "outputs": [],
   "source": [
    "import matplotlib.pyplot as plt\n",
    "\n",
    "# Данные\n",
    "data = [45, 38, 52, 41, 35, 48]\n",
    "labels = ['A', 'B', 'C', 'D', 'E', 'F']\n",
    "\n",
    "# Строим столбчатую диаграмму\n",
    "plt.bar(labels, data, color='skyblue', edgecolor='black')\n",
    "plt.xlabel('Категории')\n",
    "plt.ylabel('Значения')\n",
    "plt.title('Столбчатая диаграмма')\n",
    "plt.grid(True, axis='y')\n",
    "plt.show()"
   ]
  },
  {
   "cell_type": "markdown",
   "id": "2a2ff231",
   "metadata": {},
   "source": [
    "Задача 3: Найдите предел $\\lim_{x \\to 0} \\frac{\\sin(3x) - 3x}{x^3}$ используя SymPy."
   ]
  },
  {
   "cell_type": "code",
   "execution_count": null,
   "id": "215f64ce",
   "metadata": {},
   "outputs": [],
   "source": [
    "from sympy import symbols, sin, limit\n",
    "\n",
    "# Определяем переменную и выражение\n",
    "x = symbols('x')\n",
    "expr = (sin(3*x) - 3*x) / x**3\n",
    "\n",
    "# Вычисляем предел\n",
    "lim = limit(expr, x, 0)\n",
    "print(f\"Предел: {lim}\")"
   ]
  },
  {
   "cell_type": "markdown",
   "id": "20cc3b0d",
   "metadata": {},
   "source": [
    "Задача 4: Решите ОДУ первого порядка $\\frac{dy}{dx} = x^2 - 2y$ с начальным условием $y(0) = 1$ на интервале [0, 5] используя SciPy."
   ]
  },
  {
   "cell_type": "code",
   "execution_count": null,
   "id": "c486ec48",
   "metadata": {},
   "outputs": [],
   "source": [
    "import numpy as np\n",
    "from scipy.integrate import odeint\n",
    "import matplotlib.pyplot as plt\n",
    "\n",
    "# Определяем правую часть ОДУ\n",
    "def dydx(y, x):\n",
    "    return x**2 - 2*y\n",
    "\n",
    "# Начальное условие и интервал\n",
    "y0 = [1]\n",
    "x = np.linspace(0, 5, 100)\n",
    "\n",
    "# Решаем ОДУ\n",
    "y = odeint(dydx, y0, x)\n",
    "\n",
    "# Визуализация\n",
    "plt.plot(x, y, label='y(x)')\n",
    "plt.xlabel('x')\n",
    "plt.ylabel('y')\n",
    "plt.title('Решение ОДУ: dy/dx = x² - 2y, y(0)=1')\n",
    "plt.grid(True)\n",
    "plt.legend()\n",
    "plt.show()\n",
    "\n",
    "# Выводим несколько точек для примера\n",
    "print(f\"Примеры значений: x={x[0]:.1f}, y={y[0][0]:.3f}; x={x[-1]:.1f}, y={y[-1][0]:.3f}\")"
   ]
  },
  {
   "cell_type": "markdown",
   "id": "ba0e2ae7",
   "metadata": {},
   "source": [
    "Задача 5: Постройте 3D-поверхность функции $ z = x^2 - y^2 + xy $ для $ x, y \\in [-3, 3] $ используя Matplotlib, найдите и отметьте точки экстремума."
   ]
  },
  {
   "cell_type": "code",
   "execution_count": null,
   "id": "893ecaa1",
   "metadata": {},
   "outputs": [],
   "source": [
    "import numpy as np\n",
    "import matplotlib.pyplot as plt\n",
    "from mpl_toolkits.mplot3d import Axes3D\n",
    "from sympy import symbols, diff, solve\n",
    "\n",
    "# Определяем функцию\n",
    "def f(x, y):\n",
    "    return x**2 - y**2 + x*y\n",
    "\n",
    "# Создаем сетку\n",
    "x = np.linspace(-3, 3, 100)\n",
    "y = np.linspace(-3, 3, 100)\n",
    "X, Y = np.meshgrid(x, y)\n",
    "Z = f(X, Y)\n",
    "\n",
    "# Создаем 3D-график\n",
    "fig = plt.figure()\n",
    "ax = fig.add_subplot(111, projection='3d')\n",
    "ax.plot_surface(X, Y, Z, cmap='viridis')\n",
    "ax.set_xlabel('x')\n",
    "ax.set_ylabel('y')\n",
    "ax.set_zlabel('z')\n",
    "ax.set_title('Поверхность: z = x² - y² + xy')\n",
    "\n",
    "# Находим точки экстремума с помощью SymPy\n",
    "x_sym, y_sym = symbols('x y')\n",
    "f_sym = x_sym**2 - y_sym**2 + x_sym*y_sym\n",
    "fx = diff(f_sym, x_sym)\n",
    "fy = diff(f_sym, y_sym)\n",
    "critical_points = solve([fx, fy], [x_sym, y_sym])\n",
    "print(f\"Критические точки: {critical_points}\")\n",
    "\n",
    "# Отмечаем критическую точку (0, 0)\n",
    "x_c = 0\n",
    "y_c = 0\n",
    "z_c = f(x_c, y_c)\n",
    "ax.scatter([x_c], [y_c], [z_c], color='red', s=100, label='Седловая точка (0, 0)')\n",
    "ax.legend()\n",
    "\n",
    "plt.show()"
   ]
  },
  {
   "cell_type": "markdown",
   "id": "99503a11",
   "metadata": {},
   "source": [
    "### 5"
   ]
  },
  {
   "cell_type": "markdown",
   "id": "29637871",
   "metadata": {},
   "source": [
    "Задача 1: Транспонируйте матрицу $ A = \\begin{pmatrix} 1 & 2 & 3 \\\\ 4 & 5 & 6 \\end{pmatrix} $ и вычислите $ A^T \\cdot A $ используя NumPy."
   ]
  },
  {
   "cell_type": "code",
   "execution_count": null,
   "id": "ec485e0c",
   "metadata": {},
   "outputs": [],
   "source": [
    "import numpy as np\n",
    "\n",
    "# Создаем матрицу A\n",
    "A = np.array([[1, 2, 3], [4, 5, 6]])\n",
    "\n",
    "# Транспонируем матрицу\n",
    "A_T = A.T\n",
    "\n",
    "# Вычисляем A^T * A\n",
    "result = A_T @ A\n",
    "print(f\"A^T * A:\\n{result}\")"
   ]
  },
  {
   "cell_type": "markdown",
   "id": "2fdc68c8",
   "metadata": {},
   "source": [
    "Задача 2: Постройте на одних осях графики функций $ y_1 = e^{-x} $ и $ y_2 = \\cos(x) $ для $ x \\in [0, 5] $ с легендой в Matplotlib."
   ]
  },
  {
   "cell_type": "code",
   "execution_count": null,
   "id": "82f79c3f",
   "metadata": {},
   "outputs": [],
   "source": [
    "import numpy as np\n",
    "import matplotlib.pyplot as plt\n",
    "\n",
    "# Создаем массив x\n",
    "x = np.linspace(0, 5, 100)\n",
    "y1 = np.exp(-x)\n",
    "y2 = np.cos(x)\n",
    "\n",
    "# Строим графики\n",
    "plt.plot(x, y1, label='y = e^(-x)', color='blue')\n",
    "plt.plot(x, y2, label='y = cos(x)', color='red')\n",
    "plt.xlabel('x')\n",
    "plt.ylabel('y')\n",
    "plt.title('Графики функций y = e^(-x) и y = cos(x)')\n",
    "plt.grid(True)\n",
    "plt.legend()\n",
    "plt.show()"
   ]
  },
  {
   "cell_type": "markdown",
   "id": "03d755ff",
   "metadata": {},
   "source": [
    "Задача 3: Упростите выражение $ \\frac{\\sin^2(x) + \\cos^2(x)}{\\tan(x) \\cdot \\cot(x)} $ с помощью SymPy."
   ]
  },
  {
   "cell_type": "code",
   "execution_count": null,
   "id": "e9cfb61d",
   "metadata": {},
   "outputs": [],
   "source": [
    "from sympy import symbols, sin, cos, tan, cot, simplify\n",
    "\n",
    "# Определяем переменную и выражение\n",
    "x = symbols('x')\n",
    "expr = (sin(x)**2 + cos(x)**2) / (tan(x) * cot(x))\n",
    "\n",
    "# Упрощаем выражение\n",
    "simplified = simplify(expr)\n",
    "print(f\"Упрощенное выражение: {simplified}\")"
   ]
  },
  {
   "cell_type": "markdown",
   "id": "e59a7e98",
   "metadata": {},
   "source": [
    "Задача 4: Вычислите двойной интеграл $ \\int_0^1 \\int_0^x (x^2 + y^2) \\, dy \\, dx $ численно используя SciPy."
   ]
  },
  {
   "cell_type": "code",
   "execution_count": null,
   "id": "3aba684d",
   "metadata": {},
   "outputs": [],
   "source": [
    "from scipy.integrate import dblquad\n",
    "import numpy as np\n",
    "\n",
    "# Определяем подынтегральную функцию\n",
    "def f(y, x):\n",
    "    return x**2 + y**2\n",
    "\n",
    "# Вычисляем двойной интеграл\n",
    "result, error = dblquad(f, 0, 1, lambda x: 0, lambda x: x)\n",
    "print(f\"Значение интеграла: {result}, погрешность: {error}\")"
   ]
  },
  {
   "cell_type": "markdown",
   "id": "489a1d85",
   "metadata": {},
   "source": [
    "Задача 5: Реализуйте алгоритм k-средних для набора точек на плоскости, используя SciPy для кластеризации и Matplotlib для визуализации результатов с разными цветами кластеров."
   ]
  },
  {
   "cell_type": "code",
   "execution_count": null,
   "id": "30b05929",
   "metadata": {},
   "outputs": [],
   "source": [
    "import numpy as np\n",
    "from scipy.cluster.vq import kmeans, vq\n",
    "import matplotlib.pyplot as plt\n",
    "\n",
    "# Генерируем тестовые данные (3 кластера)\n",
    "np.random.seed(42)\n",
    "points = np.vstack([\n",
    "    np.random.normal(loc=[2, 2], scale=0.5, size=(50, 2)),\n",
    "    np.random.normal(loc=[-2, -2], scale=0.5, size=(50, 2)),\n",
    "    np.random.normal(loc=[2, -2], scale=0.5, size=(50, 2))\n",
    "])\n",
    "\n",
    "# Применяем k-средние (k=3)\n",
    "centroids, _ = kmeans(points, 3)\n",
    "labels, _ = vq(points, centroids)\n",
    "\n",
    "# Визуализация\n",
    "colors = ['red', 'blue', 'green']\n",
    "plt.scatter(points[:, 0], points[:, 1], c=[colors[label] for label in labels], alpha=0.6)\n",
    "plt.scatter(centroids[:, 0], centroids[:, 1], c='black', marker='x', s=200, label='Центроиды')\n",
    "plt.xlabel('x')\n",
    "plt.ylabel('y')\n",
    "plt.title('Кластеризация k-средних (k=3)')\n",
    "plt.legend()\n",
    "plt.grid(True)\n",
    "plt.show()\n",
    "\n",
    "# Вывод центроидов\n",
    "print(f\"Центроиды:\\n{centroids}\")"
   ]
  }
 ],
 "metadata": {
  "language_info": {
   "name": "python"
  }
 },
 "nbformat": 4,
 "nbformat_minor": 5
}
