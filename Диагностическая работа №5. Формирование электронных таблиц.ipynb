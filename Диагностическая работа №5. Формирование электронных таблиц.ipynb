{
 "cells": [
  {
   "cell_type": "markdown",
   "id": "98efe7bd",
   "metadata": {},
   "source": [
    "# **Диагностическая работа №5. Формирование электронных таблиц**"
   ]
  },
  {
   "cell_type": "markdown",
   "id": "14804610",
   "metadata": {},
   "source": [
    "## Задание №1. Создание генератора числовых последовательностей\n",
    "\n"
   ]
  },
  {
   "cell_type": "markdown",
   "id": "45b84bae",
   "metadata": {},
   "source": [
    "Напишите функцию-генератор, которая создает последовательность чисел Фибоначчи. Генератор должен выдавать числа последовательности по одному при каждом вызове функции next(). Используйте этот генератор для вывода первых 10 чисел Фибоначчи."
   ]
  },
  {
   "cell_type": "code",
   "execution_count": null,
   "id": "ada00320",
   "metadata": {},
   "outputs": [
    {
     "name": "stdout",
     "output_type": "stream",
     "text": [
      "0\n",
      "1\n",
      "1\n",
      "2\n",
      "3\n",
      "5\n",
      "8\n",
      "13\n",
      "21\n",
      "34\n"
     ]
    }
   ],
   "source": [
    "def generator():\n",
    "    a, b = 0, 1\n",
    "    while True:\n",
    "        yield a\n",
    "        a, b = b, a + b\n",
    "\n",
    "fib_gen = generator()\n",
    "for i in range(10):\n",
    "    print(next(fib_gen))"
   ]
  },
  {
   "cell_type": "markdown",
   "id": "0cb2bffe",
   "metadata": {},
   "source": [
    "## Задание №2. Оптимизация чтения крупных файлов\n",
    "\n"
   ]
  },
  {
   "cell_type": "markdown",
   "id": "442058c5",
   "metadata": {},
   "source": [
    "Создайте CSV-файл с произвольными числовыми данными объемом не менее 500,000 строк. Напишите функцию-генератор, которая будет читать этот файл по частям (chunks) и возвращать каждую часть как pandas DataFrame. Сравните время чтения всего файла сразу с использованием `pd.read_csv()` и чтение по частям с использованием вашего генератора."
   ]
  },
  {
   "cell_type": "code",
   "execution_count": 8,
   "id": "87e80e10",
   "metadata": {},
   "outputs": [
    {
     "name": "stdout",
     "output_type": "stream",
     "text": [
      "Время обычного чтения разом 1.2682 с\n",
      "Время чтения по кускам 3.8641 с\n",
      "Разница -2.5959 seconds\n"
     ]
    }
   ],
   "source": [
    "import pandas as pd\n",
    "import numpy as np\n",
    "import time\n",
    "import os\n",
    "\n",
    "def create_csv(filename, num_rows=5000000):\n",
    "    data = {\n",
    "        '1': np.random.randint(1, 100, num_rows),\n",
    "        '2': np.random.randint(1, 100, num_rows),\n",
    "        '3': np.random.randint(1, 100, num_rows)\n",
    "    }\n",
    "    df = pd.DataFrame(data)\n",
    "    df.to_csv(filename, index=False)\n",
    "\n",
    "\n",
    "def read_csv_chunks(filename, chunk_size=10000):\n",
    "    for chunk in pd.read_csv(filename, chunksize=chunk_size):\n",
    "        yield chunk\n",
    "\n",
    "def compare_reading_times(filename):\n",
    "    start_time = time.time()\n",
    "    df = pd.read_csv(filename)\n",
    "    full_time = time.time() - start_time\n",
    "    print(f\"Время обычного чтения разом {full_time:.4f} с\")\n",
    "\n",
    "    start_time = time.time()\n",
    "    chunk_gen = read_csv_chunks(filename, chunk_size=10000)\n",
    "    for chunk in chunk_gen:\n",
    "        pass  \n",
    "    chunk_time = time.time() - start_time\n",
    "    print(f\"Время чтения по кускам {chunk_time:.4f} с\")\n",
    "\n",
    "    print(f\"Разница {full_time - chunk_time:.4f} seconds\")\n",
    "\n",
    "filename = \"data.csv\"\n",
    "    \n",
    "create_csv(filename)\n",
    "    \n",
    "compare_reading_times(filename)"
   ]
  },
  {
   "cell_type": "markdown",
   "id": "4af27a38",
   "metadata": {},
   "source": [
    "## Задание №3. Сравнение производительности вычислений\n",
    "\n"
   ]
  },
  {
   "cell_type": "markdown",
   "id": "a798f450",
   "metadata": {},
   "source": [
    "Напишите функцию для умножения матриц размером 100x100. Реализуйте три версии функции: \n",
    "1. Последовательную (без оптимизации)\n",
    "2. С использованием ThreadPoolExecutor\n",
    "3. С использованием multiprocessing\n",
    "\n",
    "Сравните время выполнения каждой версии и постройте график производительности."
   ]
  },
  {
   "cell_type": "code",
   "execution_count": null,
   "id": "6aee2642",
   "metadata": {},
   "outputs": [],
   "source": [
    "import numpy as np\n",
    "import time\n",
    "from concurrent.futures import ThreadPoolExecutor\n",
    "from multiprocessing import Pool\n",
    "import matplotlib.pyplot as plt\n",
    "\n",
    "def matrix_multiply(a, b):\n",
    "    n = len(a)\n",
    "    result = [[0] * n for _ in range(n)]\n",
    "    for i in range(n):\n",
    "        for j in range(n):\n",
    "            for k in range(n):\n",
    "                result[i][j] += a[i][k] * b[k][j]\n",
    "    return result\n",
    "\n",
    "def multiply_row(args):\n",
    "    i, a, b, n = args\n",
    "    row = [0] * n\n",
    "    for j in range(n):\n",
    "        for k in range(n):\n",
    "            row[j] += a[i][k] * b[k][j]\n",
    "    return i, row\n",
    "\n",
    "def matrix_multiply_threaded(a, b):\n",
    "    n = len(a)\n",
    "    result = [[0] * n for _ in range(n)]\n",
    "    with ThreadPoolExecutor() as executor:\n",
    "        tasks = [(i, a, b, n) for i in range(n)]\n",
    "        for i, row in executor.map(multiply_row, tasks):\n",
    "            result[i] = row\n",
    "    return result\n",
    "\n",
    "def matrix_multiply_multiprocessing(a, b):\n",
    "    n = len(a)\n",
    "    result = [[0] * n for _ in range(n)]\n",
    "    with Pool() as pool:\n",
    "        tasks = [(i, a, b, n) for i in range(n)]\n",
    "        for i, row in pool.map(multiply_row, tasks):\n",
    "            result[i] = row\n",
    "    return result\n",
    "\n",
    "np.random.seed(0)\n",
    "matrix_a = np.random.randint(1, 10, (100, 100)).tolist()\n",
    "matrix_b = np.random.randint(1, 10, (100, 100)).tolist()\n",
    "\n",
    "times = {}\n",
    "\n",
    "start_time = time.time()\n",
    "matrix_multiply(matrix_a, matrix_b)\n",
    "times['Sequential'] = time.time() - start_time\n",
    "\n",
    "start_time = time.time()\n",
    "matrix_multiply_threaded(matrix_a, matrix_b)\n",
    "times['Threaded'] = time.time() - start_time\n",
    "\n",
    "start_time = time.time()\n",
    "matrix_multiply_multiprocessing(matrix_a, matrix_b)\n",
    "times['Multiprocessing'] = time.time() - start_time\n",
    "\n",
    "print(f\"Последовательная: {times['Sequential']}\")\n",
    "print(f\"ThreadPoolExecutor: {times['Threaded']}\")\n",
    "print(f\"Multiprocessing: {times['Multiprocessing']}\")\n",
    "\n",
    "\n",
    "plt.bar(times.keys(), times.values())\n",
    "plt.ylabel('Время')\n",
    "\n",
    "plt.show()"
   ]
  },
  {
   "cell_type": "markdown",
   "id": "2dd80b0a",
   "metadata": {},
   "source": [
    "## Задание №4. Обработка геопространственных данных"
   ]
  },
  {
   "cell_type": "markdown",
   "id": "51f5d200",
   "metadata": {},
   "source": [
    "Сгенерируйте набор данных из 1000 точек с координатами (широта, долгота). Напишите функцию для расчета расстояния между всеми парами точек. Оптимизируйте функцию с использованием numpy для векторизации вычислений, а затем используйте multiprocessing для параллельной обработки. Сравните время выполнения обеих версий."
   ]
  },
  {
   "cell_type": "code",
   "execution_count": null,
   "id": "32631972",
   "metadata": {},
   "outputs": [],
   "source": [
    "# Ваш код"
   ]
  },
  {
   "cell_type": "markdown",
   "id": "e5dc1d9d",
   "metadata": {},
   "source": [
    "## Задание №5. Создание электронной таблицы с графиками"
   ]
  },
  {
   "cell_type": "markdown",
   "id": "e5114655",
   "metadata": {},
   "source": [
    "\n",
    "Напишите программу, которая:\n",
    "1. Генерирует случайные данные о ежедневных продажах за год (365 дней)\n",
    "2. Сохраняет эти данные в Excel-файл на лист \"Данные\" \n",
    "3. Создает в этом же файле второй лист \"Статистика\" с рассчитанными месячными показателями (сумма, среднее, максимум, минимум)\n",
    "4. Использует многопоточность для параллельной обработки данных по месяцам\n",
    "\n",
    "Используйте библиотеки pandas, openpyxl или xlsxwriter для работы с Excel."
   ]
  },
  {
   "cell_type": "code",
   "execution_count": null,
   "id": "6b688009",
   "metadata": {},
   "outputs": [],
   "source": [
    "# Ваш код"
   ]
  }
 ],
 "metadata": {
  "kernelspec": {
   "display_name": "Python 3",
   "language": "python",
   "name": "python3"
  },
  "language_info": {
   "codemirror_mode": {
    "name": "ipython",
    "version": 3
   },
   "file_extension": ".py",
   "mimetype": "text/x-python",
   "name": "python",
   "nbconvert_exporter": "python",
   "pygments_lexer": "ipython3",
   "version": "3.11.4"
  }
 },
 "nbformat": 4,
 "nbformat_minor": 5
}
