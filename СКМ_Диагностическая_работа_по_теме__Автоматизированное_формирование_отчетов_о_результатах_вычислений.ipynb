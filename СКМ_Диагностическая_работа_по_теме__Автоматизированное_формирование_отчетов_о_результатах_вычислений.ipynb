{
  "cells": [
    {
      "cell_type": "markdown",
      "metadata": {
        "id": "tm-C6BP2ZG-m"
      },
      "source": [
        "# **Диагностическая работа по теме \"Автоматизированное формирование отчетов о результатах вычислений\"**"
      ]
    },
    {
      "cell_type": "markdown",
      "metadata": {
        "id": "PviNwvJ9ZMqm"
      },
      "source": [
        "## **Задание 1. Создание базового документа в Markdown**\n"
      ]
    },
    {
      "cell_type": "markdown",
      "metadata": {
        "id": "x2eRDfFcZLiO"
      },
      "source": [
        "Создайте Markdown-документ, содержащий:\n",
        "- Заголовок первого уровня \"Отчет о координатных преобразованиях\"\n",
        "- Подзаголовок второго уровня \"Введение\"\n",
        "- Краткий абзац текста, описывающий цель координатных преобразований\n",
        "- Маркированный список из трех преимуществ автоматической генерации отчетов\n",
        "- Нумерованный список из двух типов систем координат\n",
        "- Ссылку на какой-либо ресурс о Markdown\n",
        "\n",
        "Сохраните этот документ как `report_template.md`."
      ]
    },
    {
      "cell_type": "code",
      "execution_count": 42,
      "metadata": {
        "id": "_B7XMqz7ZKuS"
      },
      "outputs": [],
      "source": [
        "def create_markdown_report():\n",
        "    report_content = \"# Отчет о координатных преобразованиях\\n\\n\"\n",
        "    report_content += \"## Введение\\n\\n\"\n",
        "    report_content += \"Цель координатных преобразований заключается в переводе координат точек из одной системы отсчета в другую для дальнейшего успользования.\\n\\n\"\n",
        "    \n",
        "    report_content += \"Автоматическая генерация отчетов: \\n\\n\"\n",
        "    report_content += \"- Экономит время\\n\"\n",
        "    report_content += \"- Убирает человеческий фактор (некоторые опечатки/ошибки)\\n\"\n",
        "    report_content += \"- Делает по сдандарту, который ты описал\\n\\n\"\n",
        "\n",
        "    report_content += \"1. Декартова система координат\\n\"\n",
        "    report_content += \"2. Полярная система координат\\n\\n\"\n",
        "    \n",
        "    report_content += \"[Руководство по Markdown](https://www.markdownguide.org)\\n\"\n",
        "\n",
        "    with open('report_template.md', 'w', encoding='utf-8') as f:\n",
        "        f.write(report_content)\n",
        "\n",
        "    return report_content\n",
        "\n",
        "report = create_markdown_report()"
      ]
    },
    {
      "cell_type": "markdown",
      "metadata": {
        "id": "vHg6awL1ZQvt"
      },
      "source": [
        "## **Задание 2. Конвертация Markdown в документ Word**\n",
        "\n"
      ]
    },
    {
      "cell_type": "markdown",
      "metadata": {
        "id": "w1QHhnV1ZSA8"
      },
      "source": [
        "Используя файл `report_template.md`, созданный в задании 1:\n",
        "- Установите Pandoc, если он еще не установлен\n",
        "- Используя командную строку или Python, сконвертируйте Markdown-документ в формат Word (.docx)\n",
        "- Документируйте использованную команду или код Python для конвертации\n",
        "- Проверьте, что все элементы (заголовки, списки, ссылки) корректно отображаются в полученном документе"
      ]
    },
    {
      "cell_type": "code",
      "execution_count": 43,
      "metadata": {
        "id": "pbCdpppgaKwK"
      },
      "outputs": [],
      "source": [
        "!pandoc report_template.md -o report_template.docx"
      ]
    },
    {
      "cell_type": "markdown",
      "metadata": {
        "id": "GM49xveEZnOu"
      },
      "source": [
        "## **Задание 3. Добавление математических формул с LaTeX**\n"
      ]
    },
    {
      "cell_type": "markdown",
      "metadata": {
        "id": "9tpXyDaZZlvG"
      },
      "source": [
        "Дополните ваш Markdown-документ из задания 1 следующим содержимым:\n",
        "- Добавьте подзаголовок \"Математическое описание преобразований координат\"\n",
        "- Добавьте описание линейного преобразования координат в виде системы уравнений:\n",
        "  ```\n",
        "  $$\n",
        "  \\begin{cases}\n",
        "  x' = ax + by + c\\\\\n",
        "  y' = dx + ey + f\n",
        "  \\end{cases}\n",
        "  $$\n",
        "  ```\n",
        "- Добавьте эту же систему в матричной форме:\n",
        "  ```\n",
        "  $$\n",
        "  \\begin{pmatrix}\n",
        "  x'\\\\\n",
        "  y'\\\\\n",
        "  1\n",
        "  \\end{pmatrix} =\n",
        "  \\begin{pmatrix}\n",
        "  a & b & c\\\\\n",
        "  d & e & f\\\\\n",
        "  0 & 0 & 1\n",
        "  \\end{pmatrix}\n",
        "  \\begin{pmatrix}\n",
        "  x\\\\\n",
        "  y\\\\\n",
        "  1\n",
        "  \\end{pmatrix}\n",
        "  $$\n",
        "  ```\n",
        "- Конвертируйте обновленный документ в формат Word и проверьте корректность отображения формул"
      ]
    },
    {
      "cell_type": "code",
      "execution_count": null,
      "metadata": {
        "id": "JNO3TF60aLRl"
      },
      "outputs": [],
      "source": [
        "def append_math_to_report():\n",
        "    report_content = \"\\n## Математическое описание преобразований координат\\n\\n\"\n",
        "    report_content += \"Линейное преобразование координат можно описать следующей системой уравнений:\\n\\n\"\n",
        "    report_content += \"$$\\n\"\n",
        "    report_content += \"\\\\begin{cases}\\n\"\n",
        "    report_content += \"x' = ax + by + c\\\\\\\\\\n\"\n",
        "    report_content += \"y' = dx + ey + f\\n\"\n",
        "    report_content += \"\\\\end{cases}\\n\"\n",
        "    report_content += \"$$\\n\\n\"\n",
        "    \n",
        "    report_content += \"Та же система в матричной форме:\\n\\n\"\n",
        "    report_content += \"$$\\n\"\n",
        "    report_content += \"\\\\begin{pmatrix}\\n\"\n",
        "    report_content += \"x'\\\\\\\\\\n\"\n",
        "    report_content += \"y'\\\\\\\\\\n\"\n",
        "    report_content += \"1\\n\"\n",
        "    report_content += \"\\\\end{pmatrix} =\\n\"\n",
        "    report_content += \"\\\\begin{pmatrix}\\n\"\n",
        "    report_content += \"a & b & c\\\\\\\\\\n\"\n",
        "    report_content += \"d & e & f\\\\\\\\\\n\"\n",
        "    report_content += \"0 & 0 & 1\\n\"\n",
        "    report_content += \"\\\\end{pmatrix}\\n\"\n",
        "    report_content += \"\\\\begin{pmatrix}\\n\"\n",
        "    report_content += \"x\\\\\\\\\\n\"\n",
        "    report_content += \"y\\\\\\\\\\n\"\n",
        "    report_content += \"1\\n\"\n",
        "    report_content += \"\\\\end{pmatrix}\\n\"\n",
        "    report_content += \"$$\\n\"\n",
        "\n",
        "    with open('report_template.md', 'a', encoding='utf-8') as f:\n",
        "        f.write(report_content)\n",
        "\n",
        "    return report_content\n",
        "\n",
        "appended_content = append_math_to_report()"
      ]
    },
    {
      "cell_type": "code",
      "execution_count": 20,
      "metadata": {},
      "outputs": [],
      "source": [
        "!pandoc report_template.md -o report_template.docx"
      ]
    },
    {
      "cell_type": "markdown",
      "metadata": {
        "id": "Ns5O4uNHZ4lO"
      },
      "source": [
        "## **Задание 4: Использование SymPy для генерации математических выражений**\n",
        "\n"
      ]
    },
    {
      "cell_type": "markdown",
      "metadata": {
        "id": "e3Vq-KbAZ8GK"
      },
      "source": [
        "Напишите Python-скрипт, который:\n",
        "- Использует SymPy для определения символов a, b, c, d, e, f, x, y\n",
        "- Создает две матрицы для представления преобразования координат:\n",
        "  - Матрица преобразования A размером 3x3\n",
        "  - Вектор координат точки B размером 3x1\n",
        "- Вычисляет результат умножения матрицы A на вектор B\n",
        "- Генерирует LaTeX-представление для этих матриц и результата\n",
        "- Сохраняет эти выражения в новый Markdown-файл `symbolic_math.md`\n",
        "- Использует функцию, аналогичную `union_eq` из примера, для объединения выражений"
      ]
    },
    {
      "cell_type": "code",
      "execution_count": 35,
      "metadata": {
        "id": "XKMCYFCnaLoa"
      },
      "outputs": [],
      "source": [
        "from sympy import symbols, Matrix, latex\n",
        "\n",
        "def union_eq(*args):\n",
        "    \"\"\"Функция для объединения выражений в LaTeX с разделителем '=' между многочленами\"\"\"\n",
        "    eq = '$$'\n",
        "    for i in range(len(args)):\n",
        "        flag = 1 if len(args[i]) == 1 else 0  # Проверка на скаляр\n",
        "        eq += latex(args[i])\n",
        "        \n",
        "        # Добавляем '=' между выражениями, если это не последнее и не скаляр\n",
        "        if (i != (len(args) - 1)) and flag != 1 and (len(args[i + 1]) != 1):\n",
        "            eq += \" = \"\n",
        "    \n",
        "    return eq + '$$'\n",
        "\n",
        "def generate_sym_math_report():\n",
        "    a, b, c, d, e, f, x, y = symbols('a b c d e f x y')\n",
        "    \n",
        "    A = Matrix([\n",
        "        [a, b, c],\n",
        "        [d, e, f],\n",
        "        [1, 1, 1]\n",
        "    ])\n",
        "    \n",
        "    B = Matrix([x, y, 1])\n",
        "    \n",
        "    result = A * B\n",
        "    \n",
        "    latex_exp = union_eq(A, B, result)\n",
        "    \n",
        "    report_content = \"# Символьное представление преобразования координат\\n\\n\"\n",
        "    report_content += \"## Уравнение преобразования\\n\\n\"\n",
        "    report_content += latex_exp + \"\\n\"\n",
        "    \n",
        "    with open('symbolic_math.md', 'w', encoding='utf-8') as f:\n",
        "        f.write(report_content)\n",
        "    \n",
        "    return report_content\n",
        "\n",
        "report = generate_sym_math_report()"
      ]
    },
    {
      "cell_type": "code",
      "execution_count": 36,
      "metadata": {},
      "outputs": [],
      "source": [
        "!pandoc symbolic_math.md -o symbolic_math.docx"
      ]
    },
    {
      "cell_type": "markdown",
      "metadata": {
        "id": "mctIdQV4TX_h"
      },
      "source": [
        "## **Задание 5: Создание автоматизированного отчета с данными координатных преобразований**\n",
        "\n"
      ]
    },
    {
      "cell_type": "markdown",
      "metadata": {
        "id": "5VDDdg4daEss"
      },
      "source": [
        "Создайте Python-скрипт, который:\n",
        "- Генерирует набор из 5 случайных точек с координатами (x, y)\n",
        "- Определяет параметры преобразования координат (a, b, c, d, e, f) с произвольными значениями\n",
        "- Вычисляет новые координаты (x', y') для каждой точки\n",
        "- Формирует Markdown-отчет, содержащий:\n",
        "  - Заголовок и введение\n",
        "  - Таблицу с исходными и преобразованными координатами\n",
        "  - Параметры преобразования в математической форме\n",
        "  - График, показывающий исходные и преобразованные точки (по желанию, если знакомы с matplotlib)\n",
        "- Конвертирует полученный Markdown-документ в формат Word\n",
        "- Документирует весь процесс: от генерации данных до создания финального отчета"
      ]
    },
    {
      "cell_type": "code",
      "execution_count": 60,
      "metadata": {
        "id": "mYtU13U2aL8Q"
      },
      "outputs": [],
      "source": [
        "import random\n",
        "import matplotlib.pyplot as plt\n",
        "from sympy import Matrix, latex\n",
        "\n",
        "def generate_transformation_report():\n",
        "    # 5 случайных точек\n",
        "    points = [(random.uniform(-10, 10), random.uniform(-10, 10)) for _ in range(5)]\n",
        "    \n",
        "    transformation_params = {\n",
        "        'a': 5.0,\n",
        "        'b': 3.5,\n",
        "        'c': 2.0,\n",
        "        'd': -5.0,\n",
        "        'e': 0.5,\n",
        "        'f': -2.0\n",
        "    }\n",
        "    \n",
        "    transformed_points = []\n",
        "    for x, y in points:\n",
        "        x_prime = transformation_params['a'] * x + transformation_params['b'] * y\n",
        "        y_prime = transformation_params['d'] * x + transformation_params['e'] * y\n",
        "        transformed_points.append((x_prime, y_prime))\n",
        "    \n",
        "    report_content = \"# Отчет о преобразовании координат\\n\\n\"\n",
        "\n",
        "    report_content += \"## Таблица координат\\n\\n\"\n",
        "    report_content += \"| Точка | Исходная X | Исходная Y | Преобразованная X' | Преобразованная Y' |\\n\"\n",
        "    report_content += \"|-------|------------|------------|-------------------|-------------------|\\n\"\n",
        "    for i, ((x, y), (x_prime, y_prime)) in enumerate(zip(points, transformed_points), 1):\n",
        "        report_content += f\"| Точка {i} | {x:.2f} | {y:.2f} | {x_prime:.2f} | {y_prime:.2f} |\\n\"\n",
        "    \n",
        "\n",
        "    A = Matrix([\n",
        "        [transformation_params['a'], transformation_params['b'], transformation_params['c']],\n",
        "        [transformation_params['d'], transformation_params['e'], transformation_params['f']],\n",
        "        [0, 0, 1]\n",
        "    ])\n",
        "    report_content += \"\\n## Параметры преобразования\\n\\n\"\n",
        "    report_content += \"Матрица преобразования:\\n\\n\"\n",
        "    report_content += f\"$$ {latex(A)} $$\\n\\n\"\n",
        "    report_content += \"Система уравнений:\\n\\n\"\n",
        "    report_content += \"$$\\n\"\n",
        "    report_content += \"\\\\begin{cases}\\n\"\n",
        "    report_content += f\"x' = {transformation_params['a']}x + {transformation_params['b']}y + {transformation_params['c']}\\\\\\\\\\n\"\n",
        "    report_content += f\"y' = {transformation_params['d']}x + {transformation_params['e']}y + {transformation_params['f']}\\n\"\n",
        "    report_content += \"\\\\end{cases}\\n\"\n",
        "    report_content += \"$$\\n\"\n",
        "    \n",
        "    original_x, original_y = zip(*points)\n",
        "    transformed_x, transformed_y = zip(*transformed_points)\n",
        "    \n",
        "    plt.figure(figsize=(8, 6))\n",
        "    plt.scatter(original_x, original_y, color='blue', label='Исходные точки')\n",
        "    plt.scatter(transformed_x, transformed_y, color='red', label='Преобразованные точки')\n",
        "    for (x1, y1), (x2, y2) in zip(points, transformed_points):\n",
        "        plt.plot([x1, x2], [y1, y2], 'gray', linestyle='--')\n",
        "    plt.xlabel('X')\n",
        "    plt.ylabel('Y')\n",
        "    plt.title('Преобразование координат')\n",
        "    plt.legend()\n",
        "    plt.grid(True)\n",
        "    plt.savefig('transformation_plot.png')\n",
        "    plt.close()\n",
        "    \n",
        "    report_content += \" График преобразования\\n\\n\"\n",
        "    report_content += \"![График преобразования](transformation_plot.png)\\n\"\n",
        "    #report_content += \"!(transformation_plot.png)\\n\"\n",
        "\n",
        "    with open('trans_report.md', 'w', encoding='utf-8') as f:\n",
        "        f.write(report_content)\n",
        "    \n",
        "    return report_content\n",
        "\n",
        "report = generate_transformation_report()"
      ]
    },
    {
      "cell_type": "code",
      "execution_count": 61,
      "metadata": {},
      "outputs": [],
      "source": [
        "!pandoc trans_report.md -o trans_report.docx"
      ]
    }
  ],
  "metadata": {
    "colab": {
      "provenance": []
    },
    "kernelspec": {
      "display_name": "Python 3",
      "name": "python3"
    },
    "language_info": {
      "codemirror_mode": {
        "name": "ipython",
        "version": 3
      },
      "file_extension": ".py",
      "mimetype": "text/x-python",
      "name": "python",
      "nbconvert_exporter": "python",
      "pygments_lexer": "ipython3",
      "version": "3.11.4"
    }
  },
  "nbformat": 4,
  "nbformat_minor": 0
}
