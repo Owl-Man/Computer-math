{
  "cells": [
    {
      "cell_type": "markdown",
      "metadata": {
        "id": "zje7F1Y5Wt09"
      },
      "source": [
        "# **Диагностическая работа по теме: \"Библиотека SciPy\"**\n"
      ]
    },
    {
      "cell_type": "markdown",
      "metadata": {
        "id": "upvoIed0W4_q"
      },
      "source": [
        "Для каждого задания необходимо:\n",
        "1. Импортировать соответствующие модули из библиотеки SciPy\n",
        "2. Реализовать решение с использованием подходящих функций\n",
        "3. Вывести и проинтерпретировать результаты\n",
        "4. Где возможно, визуализировать решение с помощью matplotlib"
      ]
    },
    {
      "cell_type": "markdown",
      "metadata": {
        "id": "BKqGa4zlW6Xp"
      },
      "source": [
        "## **Задание 1. Вычисление определенного интеграла**\n"
      ]
    },
    {
      "cell_type": "markdown",
      "metadata": {
        "id": "Ui3JnyCYXMB4"
      },
      "source": [
        "Вычислите определенный интеграл функции f(x) = 3x² + sin(x) на интервале [0, 2] с помощью scipy.integrate.quad."
      ]
    },
    {
      "cell_type": "code",
      "execution_count": null,
      "metadata": {
        "id": "qLvH5Re0fFXc"
      },
      "outputs": [
        {
          "name": "stdout",
          "output_type": "stream",
          "text": [
            "9.416146836547142\n"
          ]
        }
      ],
      "source": [
        "from scipy import integrate\n",
        "import numpy as np\n",
        "\n",
        "def target_function_f(x):\n",
        "    return 3.0 * x ** 2 + np.sin(x)\n",
        "result = integrate.quad(target_function_f, 0.0, 2.0)\n",
        "print(result)"
      ]
    },
    {
      "cell_type": "markdown",
      "metadata": {
        "id": "iFS4KUdoW7_u"
      },
      "source": [
        "## **Задание 2: Решение системы линейных уравнений**\n"
      ]
    },
    {
      "cell_type": "markdown",
      "metadata": {
        "id": "yEGq17ZLXNco"
      },
      "source": [
        "Решите следующую систему уравнений с помощью scipy.linalg:\n",
        "2x + 5y - z = 10\n",
        "3x + y + 4z = 5\n",
        "x - 2y + 3z = 8"
      ]
    },
    {
      "cell_type": "code",
      "execution_count": 4,
      "metadata": {
        "id": "zGIlTNl8fH_x"
      },
      "outputs": [
        {
          "name": "stdout",
          "output_type": "stream",
          "text": [
            "[ 53.25 -25.75 -32.25]\n"
          ]
        }
      ],
      "source": [
        "from scipy import linalg\n",
        "import numpy as np\n",
        "\n",
        "a = np.array([[2, 5, -1],\n",
        "              [3, 1, 4],\n",
        "              [1, -2, 3]])\n",
        "\n",
        "b = np.array([10,\n",
        "              5,\n",
        "              8])\n",
        "\n",
        "result = linalg.solve(a, b)\n",
        "print(result)"
      ]
    },
    {
      "cell_type": "markdown",
      "metadata": {
        "id": "s9Bx3-WdXPYo"
      },
      "source": [
        "## **Задание 3: Оптимизация функции**\n"
      ]
    },
    {
      "cell_type": "markdown",
      "metadata": {
        "id": "3rozqcC8exOx"
      },
      "source": [
        "Найдите минимум функции f(x) = x⁴ - 4x³ + 6x² + 2 с помощью модуля scipy.optimize."
      ]
    },
    {
      "cell_type": "code",
      "execution_count": 8,
      "metadata": {
        "id": "FzLjn8H2fISg"
      },
      "outputs": [
        {
          "name": "stdout",
          "output_type": "stream",
          "text": [
            "Точка минимума: x0 = 0.0\n",
            "Точка минимума: x1 = 0.0\n",
            "Значение функции в точке минимума: f(x1, x2) = 2.0\n"
          ]
        }
      ],
      "source": [
        "from scipy.optimize import minimize\n",
        "\n",
        "def f(x_a):\n",
        "    x = x_a[0]\n",
        "    return x**4 - 4 * x**3 + 6*x**2 +2\n",
        "\n",
        "x0 = [0, 0]\n",
        "\n",
        "result = minimize(f, x0)\n",
        "\n",
        "x_min = result.x  # Точка минимума\n",
        "f_min = result.fun  # Значение функции в точке минимума\n",
        "\n",
        "for i in range(0, len(x_min)):\n",
        "    print(f\"Точка минимума: x{i} = {x_min[i]}\")\n",
        "    \n",
        "print(f\"Значение функции в точке минимума: f(x1, x2) = {f_min}\")"
      ]
    },
    {
      "cell_type": "markdown",
      "metadata": {
        "id": "XcFztO9fXQqB"
      },
      "source": [
        "## **Задание 4: Интерполяция данных**\n"
      ]
    },
    {
      "cell_type": "markdown",
      "metadata": {
        "id": "ARrmO_96evy_"
      },
      "source": [
        "Имеются точки с координатами: (0, 1), (2, 3), (4, 8), (6, 10). С помощью scipy.interpolate выполните кубическую интерполяцию и определите значение функции в точке x = 3."
      ]
    },
    {
      "cell_type": "code",
      "execution_count": 33,
      "metadata": {
        "id": "SLZQptYxfIej"
      },
      "outputs": [
        {
          "name": "stdout",
          "output_type": "stream",
          "text": [
            "Значение в x = 3: 5.5\n"
          ]
        },
        {
          "data": {
            "image/png": "[encoded data removed]",
            "text/plain": [
              "<Figure size 640x480 with 1 Axes>"
            ]
          },
          "metadata": {},
          "output_type": "display_data"
        }
      ],
      "source": [
        "import numpy as np\n",
        "import matplotlib.pyplot as plt\n",
        "from scipy.interpolate import interp1d\n",
        "\n",
        "x = np.array([0, 2, 4, 6])\n",
        "y = np.array([1, 3, 8, 10])\n",
        "\n",
        "cs = interp1d(x, y, 'cubic')\n",
        "\n",
        "x_new = 3\n",
        "y_new = cs(x_new)\n",
        "\n",
        "\n",
        "print(f\"Значение в x = {x_new}: {y_new}\")\n",
        "\n",
        "x_smooth = np.linspace(min(x), max(x), 100)\n",
        "y_smooth = cs(x_smooth)\n",
        "\n",
        "plt.plot(x_smooth, y_smooth, 'b-', label='Кубическая интерполяция')\n",
        "plt.scatter(x, y, color='red', label='Заданные точки', zorder=5)\n",
        "plt.scatter([x_new], [y_new], color='blue', label=f'Точка x = {x_new}', zorder=5)\n",
        "plt.xlabel('x')\n",
        "plt.ylabel('y')\n",
        "plt.grid(True)\n",
        "plt.legend()\n",
        "plt.show()"
      ]
    },
    {
      "cell_type": "markdown",
      "metadata": {
        "id": "RyzH9BTsW24o"
      },
      "source": [
        "## **Задание 5: Поиск корней уравнения**\n",
        "\n"
      ]
    },
    {
      "cell_type": "markdown",
      "metadata": {
        "id": "0JS9n9nNezxE"
      },
      "source": [
        "С помощью функции scipy.optimize.root найдите действительный корень уравнения x³ - 5x² + 7x - 3 = 0 в окрестности точки x = 2.\n"
      ]
    },
    {
      "cell_type": "code",
      "execution_count": 30,
      "metadata": {
        "id": "dIIpsDXpfI1v"
      },
      "outputs": [
        {
          "name": "stdout",
          "output_type": "stream",
          "text": [
            "0.9999999821164194\n"
          ]
        },
        {
          "data": {
            "image/png": "[encoded data removed]",
            "text/plain": [
              "<Figure size 640x480 with 1 Axes>"
            ]
          },
          "metadata": {},
          "output_type": "display_data"
        }
      ],
      "source": [
        "from scipy.optimize import root\n",
        "\n",
        "def f(x):\n",
        "    return x**3 - 5 * x **2 + 7 * x - 3\n",
        "\n",
        "def f_in_arr(x):\n",
        "    return [f(x[0])]\n",
        "\n",
        "x0 = [2]\n",
        "sol = root(f_in_arr, x0)\n",
        "\n",
        "print(f\"{sol.x[0]}\")\n",
        "\n",
        "x = np.linspace(-5, 5, 100)\n",
        "y = f(x)\n",
        "plt.plot(x, y)\n",
        "plt.title(r'График функции $f(x) = x^3 + \\cos(x)$')\n",
        "plt.xlabel('x')\n",
        "plt.ylabel('f(x)')\n",
        "plt.grid(True)\n",
        "plt.show()"
      ]
    }
  ],
  "metadata": {
    "colab": {
      "provenance": []
    },
    "kernelspec": {
      "display_name": "Python 3",
      "name": "python3"
    },
    "language_info": {
      "codemirror_mode": {
        "name": "ipython",
        "version": 3
      },
      "file_extension": ".py",
      "mimetype": "text/x-python",
      "name": "python",
      "nbconvert_exporter": "python",
      "pygments_lexer": "ipython3",
      "version": "3.11.4"
    }
  },
  "nbformat": 4,
  "nbformat_minor": 0
}
