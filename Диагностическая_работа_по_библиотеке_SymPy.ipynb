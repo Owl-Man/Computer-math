{
  "cells": [
    {
      "cell_type": "markdown",
      "metadata": {
        "id": "5IwP5dxOX8aJ"
      },
      "source": [
        "# **Диагностическая работа по библиотеке SymPy**"
      ]
    },
    {
      "cell_type": "markdown",
      "metadata": {
        "id": "CUrdVRAPZj0C"
      },
      "source": [
        "### **Для удовлетворительной оценки необходимо выполнить по 3 задания из каждого раздела**"
      ]
    },
    {
      "cell_type": "markdown",
      "metadata": {
        "id": "vw35TLHOYEp4"
      },
      "source": [
        "## **Раздел 1: Символьные преобразования выражений**\n"
      ]
    },
    {
      "cell_type": "markdown",
      "metadata": {
        "id": "wpVuk7g-YHf3"
      },
      "source": [
        "1. Создайте символьные переменные x, y, z и выражение f(x, y, z) = x²y - 3xy²z + 4z³."
      ]
    },
    {
      "cell_type": "code",
      "execution_count": 34,
      "metadata": {
        "id": "XQBdsDKzYH5a"
      },
      "outputs": [
        {
          "data": {
            "text/latex": [
              "$\\displaystyle x^{2} y - 3 x y^{2} z + 4 z^{3}$"
            ],
            "text/plain": [
              "x**2*y - 3*x*y**2*z + 4*z**3"
            ]
          },
          "metadata": {},
          "output_type": "display_data"
        }
      ],
      "source": [
        "import sympy as sym\n",
        "x, y, z = sym.symbols('x y z')\n",
        "f = x**2*y - 3*x*y**2*z + 4*z**3\n",
        "\n",
        "display(f)"
      ]
    },
    {
      "cell_type": "markdown",
      "metadata": {
        "id": "SlOGrnSLYJOp"
      },
      "source": [
        "2. Выполните подстановку значений x = 2, y = -1, z = 3 в выражение и вычислите результат.\n"
      ]
    },
    {
      "cell_type": "code",
      "execution_count": 35,
      "metadata": {
        "id": "aJkg7-dtYQTe"
      },
      "outputs": [
        {
          "data": {
            "text/latex": [
              "$\\displaystyle 86$"
            ],
            "text/plain": [
              "86"
            ]
          },
          "metadata": {},
          "output_type": "display_data"
        }
      ],
      "source": [
        "fs = f.subs({x: 2, y: -1, z: 3})\n",
        "display(fs)"
      ]
    },
    {
      "cell_type": "markdown",
      "metadata": {
        "id": "kspe9ZagYKo8"
      },
      "source": [
        "3. Раскройте скобки в выражении (x + y)⁴ - (x - y)⁴.\n"
      ]
    },
    {
      "cell_type": "code",
      "execution_count": 7,
      "metadata": {
        "id": "EaX19AnSYQjA"
      },
      "outputs": [
        {
          "data": {
            "text/latex": [
              "$\\displaystyle 8 x^{3} y + 8 x y^{3}$"
            ],
            "text/plain": [
              "8*x**3*y + 8*x*y**3"
            ]
          },
          "metadata": {},
          "output_type": "display_data"
        }
      ],
      "source": [
        "f = sym.expand((x + y)**4 - (x - y)**4)\n",
        "display(f)"
      ]
    },
    {
      "cell_type": "markdown",
      "metadata": {
        "id": "todhItmVYMQt"
      },
      "source": [
        "4. Разложите на множители выражение x³ - 2x² - 5x + 6.\n"
      ]
    },
    {
      "cell_type": "code",
      "execution_count": 28,
      "metadata": {
        "id": "G4awhvW5YQ4X"
      },
      "outputs": [
        {
          "data": {
            "text/latex": [
              "$\\displaystyle x^{3} - 2 x^{2} - 5 x + 6$"
            ],
            "text/plain": [
              "x**3 - 2*x**2 - 5*x + 6"
            ]
          },
          "metadata": {},
          "output_type": "display_data"
        },
        {
          "data": {
            "text/latex": [
              "$\\displaystyle \\left(x - 3\\right) \\left(x - 1\\right) \\left(x + 2\\right)$"
            ],
            "text/plain": [
              "(x - 3)*(x - 1)*(x + 2)"
            ]
          },
          "metadata": {},
          "output_type": "display_data"
        }
      ],
      "source": [
        "x = sym.symbols('x')\n",
        "f = x**3 - 2*x**2 - 5*x + 6\n",
        "display(f)\n",
        "factored = sym.factor(f)\n",
        "display(factored)"
      ]
    },
    {
      "cell_type": "markdown",
      "metadata": {
        "id": "0bAHI-NyYDgM"
      },
      "source": [
        "\n",
        "\n",
        "5. Приведите подобные в выражении x³y + 2xy² + 3x²y - 5xy² + 2x³y, сгруппировав по степеням x."
      ]
    },
    {
      "cell_type": "code",
      "execution_count": null,
      "metadata": {
        "id": "KNgiRHqYYRJ0"
      },
      "outputs": [
        {
          "data": {
            "text/latex": [
              "$\\displaystyle 3 x^{3} y + 3 x^{2} y - 3 x y^{2}$"
            ],
            "text/plain": [
              "3*x**3*y + 3*x**2*y - 3*x*y**2"
            ]
          },
          "metadata": {},
          "output_type": "display_data"
        },
        {
          "data": {
            "text/latex": [
              "$\\displaystyle 3 x^{3} y + 3 x^{2} y - 3 x y^{2}$"
            ],
            "text/plain": [
              "3*x**3*y + 3*x**2*y - 3*x*y**2"
            ]
          },
          "metadata": {},
          "output_type": "display_data"
        }
      ],
      "source": [
        "x, y = sym.symbols('x y')\n",
        "f = x**3*y + 2*x*y**2 + 3*x**2*y - 5*x*y**2 + 2*x**3*y\n",
        "display(f)\n",
        "f_group = sym.collect(f, x)\n",
        "display(f_group)"
      ]
    },
    {
      "cell_type": "markdown",
      "metadata": {
        "id": "MMA-tmAnYUTd"
      },
      "source": [
        "## **Раздел 2: Решение уравнений и систем**\n"
      ]
    },
    {
      "cell_type": "markdown",
      "metadata": {
        "id": "JbKiCDIXYU5i"
      },
      "source": [
        "1. Решите уравнение x⁴ - 5x² + 4 = 0 и представьте все корни в аналитическом виде.\n"
      ]
    },
    {
      "cell_type": "code",
      "execution_count": 19,
      "metadata": {
        "id": "frOYUvZ6Ygdr"
      },
      "outputs": [
        {
          "data": {
            "text/latex": [
              "$\\displaystyle x^{4} - 5 x^{2} + 4 = 0$"
            ],
            "text/plain": [
              "Eq(x**4 - 5*x**2 + 4, 0)"
            ]
          },
          "metadata": {},
          "output_type": "display_data"
        },
        {
          "data": {
            "text/plain": [
              "[-2, -1, 1, 2]"
            ]
          },
          "metadata": {},
          "output_type": "display_data"
        }
      ],
      "source": [
        "x= sym.symbols('x')\n",
        "\n",
        "eq = sym.Eq(x**4 - 5*x**2 + 4, 0)\n",
        "display(eq)\n",
        "f_sol = sym.solve(eq, x)\n",
        "display(f_sol)"
      ]
    },
    {
      "cell_type": "markdown",
      "metadata": {
        "id": "aakIySWzYU7y"
      },
      "source": [
        "\n",
        "2. Найдите решения системы уравнений:\n",
        "   ```\n",
        "   3x - 2y + 4z = 10\n",
        "   2x + y - 3z = -5\n",
        "   x - 4y + z = 3\n",
        "   ```"
      ]
    },
    {
      "cell_type": "code",
      "execution_count": 20,
      "metadata": {
        "id": "4VacDEQFYgq1"
      },
      "outputs": [
        {
          "data": {
            "text/plain": [
              "{x: 34/59, y: -6/59, z: 119/59}"
            ]
          },
          "metadata": {},
          "output_type": "display_data"
        }
      ],
      "source": [
        "x, y, z = sym.symbols('x y z')\n",
        "eq1 = sym.Eq(3*x - 2*y + 4*z, 10)\n",
        "eq2 = sym.Eq(2*x + y - 3*z, -5)\n",
        "eq3 = sym.Eq(x - 4*y + z, 3)\n",
        "\n",
        "f_sol = sym.solve([eq1, eq2, eq3], (x, y, z))\n",
        "display(f_sol)"
      ]
    },
    {
      "cell_type": "markdown",
      "metadata": {
        "id": "i1zvGE2CYU-L"
      },
      "source": [
        "3. Решите тригонометрическое уравнение sin(2x) = cos(x) на интервале [0, 2π].\n"
      ]
    },
    {
      "cell_type": "code",
      "execution_count": 23,
      "metadata": {
        "id": "Fu9WmRXUYhFk"
      },
      "outputs": [
        {
          "data": {
            "text/latex": [
              "$\\displaystyle \\sin{\\left(2 x \\right)} = \\cos{\\left(x \\right)}$"
            ],
            "text/plain": [
              "Eq(sin(2*x), cos(x))"
            ]
          },
          "metadata": {},
          "output_type": "display_data"
        },
        {
          "data": {
            "text/plain": [
              "[(-pi/2, Interval(0, 2*pi)),\n",
              " (pi/6, Interval(0, 2*pi)),\n",
              " (pi/2, Interval(0, 2*pi)),\n",
              " (5*pi/6, Interval(0, 2*pi))]"
            ]
          },
          "metadata": {},
          "output_type": "display_data"
        }
      ],
      "source": [
        "x = sym.symbols('x')\n",
        "eq = sym.Eq(sym.sin(2*x), sym.cos(x))\n",
        "\n",
        "display(eq)\n",
        "\n",
        "f_sol = sym.solve(eq, x, sym.Interval(0, 2*sym.pi))\n",
        "display(f_sol)"
      ]
    },
    {
      "cell_type": "markdown",
      "metadata": {
        "id": "C-osxhvjYY8j"
      },
      "source": [
        "4. Решите уравнение с параметром a: ax² + 2x + 1 = 0, выразив решения через a.\n"
      ]
    },
    {
      "cell_type": "code",
      "execution_count": 30,
      "metadata": {
        "id": "Y3_a6stgYhSx"
      },
      "outputs": [
        {
          "data": {
            "text/latex": [
              "$\\displaystyle a x^{2} + 2 x + 1 = 0$"
            ],
            "text/plain": [
              "Eq(a*x**2 + 2*x + 1, 0)"
            ]
          },
          "metadata": {},
          "output_type": "display_data"
        },
        {
          "data": {
            "text/plain": [
              "[(-sqrt(1 - a) - 1)/a, (sqrt(1 - a) - 1)/a]"
            ]
          },
          "metadata": {},
          "output_type": "display_data"
        }
      ],
      "source": [
        "x, a = sym.symbols('x a')\n",
        "eq = sym.Eq(a*x**2 + 2*x + 1, 0)\n",
        "display(eq)\n",
        "f_sol = sym.solve(eq, x)\n",
        "display(f_sol)"
      ]
    },
    {
      "cell_type": "markdown",
      "metadata": {
        "id": "x1naWSQaYZDC"
      },
      "source": [
        "\n",
        "5. Найдите все значения x, при которых √(x² - 9) = x - 1."
      ]
    },
    {
      "cell_type": "code",
      "execution_count": 31,
      "metadata": {
        "id": "lugxMeunYhfY"
      },
      "outputs": [
        {
          "data": {
            "text/latex": [
              "$\\displaystyle \\sqrt{x^{2} - 9} = x - 1$"
            ],
            "text/plain": [
              "Eq(sqrt(x**2 - 9), x - 1)"
            ]
          },
          "metadata": {},
          "output_type": "display_data"
        },
        {
          "data": {
            "text/plain": [
              "[5]"
            ]
          },
          "metadata": {},
          "output_type": "display_data"
        }
      ],
      "source": [
        "x = sym.symbols('x')\n",
        "eq = sym.Eq(sym.sqrt(x**2 - 9), x - 1)\n",
        "display(eq)\n",
        "f_sol = sym.solve(eq, x)\n",
        "display(f_sol)"
      ]
    },
    {
      "cell_type": "markdown",
      "metadata": {
        "id": "kTEB2OTmYSE3"
      },
      "source": [
        "## **Раздел 3: Символьное дифференцирование и интегрирование**\n"
      ]
    },
    {
      "cell_type": "markdown",
      "metadata": {
        "id": "1hjL8_5AYetR"
      },
      "source": [
        "1. Найдите первую и вторую производные функции f(x) = ln(x²) · sin(3x).\n"
      ]
    },
    {
      "cell_type": "code",
      "execution_count": 16,
      "metadata": {
        "id": "4O_jpS2vYpdR"
      },
      "outputs": [
        {
          "data": {
            "text/latex": [
              "$\\displaystyle \\log{\\left(x^{2} \\right)} \\sin{\\left(3 x \\right)}$"
            ],
            "text/plain": [
              "log(x**2)*sin(3*x)"
            ]
          },
          "metadata": {},
          "output_type": "display_data"
        },
        {
          "data": {
            "text/latex": [
              "$\\displaystyle 3 \\log{\\left(x^{2} \\right)} \\cos{\\left(3 x \\right)} + \\frac{2 \\sin{\\left(3 x \\right)}}{x}$"
            ],
            "text/plain": [
              "3*log(x**2)*cos(3*x) + 2*sin(3*x)/x"
            ]
          },
          "metadata": {},
          "output_type": "display_data"
        },
        {
          "data": {
            "text/latex": [
              "$\\displaystyle - 9 \\log{\\left(x^{2} \\right)} \\sin{\\left(3 x \\right)} + \\frac{12 \\cos{\\left(3 x \\right)}}{x} - \\frac{2 \\sin{\\left(3 x \\right)}}{x^{2}}$"
            ],
            "text/plain": [
              "-9*log(x**2)*sin(3*x) + 12*cos(3*x)/x - 2*sin(3*x)/x**2"
            ]
          },
          "metadata": {},
          "output_type": "display_data"
        }
      ],
      "source": [
        "x = sym.symbols('x')\n",
        "f = sym.ln(x**2) * sym.sin(3*x)\n",
        "display(f)\n",
        "f_diff = sym.diff(f, x)\n",
        "f_diff2 = sym.diff(f, x, 2)\n",
        "display(f_diff)\n",
        "display(f_diff2)"
      ]
    },
    {
      "cell_type": "markdown",
      "metadata": {
        "id": "ZZo6yu8rYev8"
      },
      "source": [
        "2. Вычислите частные производные ∂f/∂x и ∂f/∂y для функции f(x, y) = e^(xy) · cos(x + y).\n"
      ]
    },
    {
      "cell_type": "code",
      "execution_count": 18,
      "metadata": {
        "id": "WwrHNYdoYpvA"
      },
      "outputs": [
        {
          "data": {
            "text/latex": [
              "$\\displaystyle e^{x y} \\cos{\\left(x + y \\right)}$"
            ],
            "text/plain": [
              "exp(x*y)*cos(x + y)"
            ]
          },
          "metadata": {},
          "output_type": "display_data"
        },
        {
          "data": {
            "text/latex": [
              "$\\displaystyle y e^{x y} \\cos{\\left(x + y \\right)} - e^{x y} \\sin{\\left(x + y \\right)}$"
            ],
            "text/plain": [
              "y*exp(x*y)*cos(x + y) - exp(x*y)*sin(x + y)"
            ]
          },
          "metadata": {},
          "output_type": "display_data"
        },
        {
          "data": {
            "text/latex": [
              "$\\displaystyle x e^{x y} \\cos{\\left(x + y \\right)} - e^{x y} \\sin{\\left(x + y \\right)}$"
            ],
            "text/plain": [
              "x*exp(x*y)*cos(x + y) - exp(x*y)*sin(x + y)"
            ]
          },
          "metadata": {},
          "output_type": "display_data"
        }
      ],
      "source": [
        "x, y = sym.symbols('x y')\n",
        "f = sym.exp(x*y) * sym.cos(x + y)\n",
        "display(f)\n",
        "df_dx = sym.diff(f, x)\n",
        "df_dy = sym.diff(f, y)\n",
        "display(df_dx)\n",
        "display(df_dy)"
      ]
    },
    {
      "cell_type": "markdown",
      "metadata": {
        "id": "1_Qvcb3AYeyT"
      },
      "source": [
        "3. Найдите неопределённый интеграл ∫ (x³ + 2x²√x - 3/x) dx.\n"
      ]
    },
    {
      "cell_type": "code",
      "execution_count": null,
      "metadata": {
        "id": "5cZ82s8kYp8X"
      },
      "outputs": [
        {
          "data": {
            "text/latex": [
              "$\\displaystyle 2 x^{\\frac{5}{2}} + x^{3} - \\frac{3}{x}$"
            ],
            "text/plain": [
              "2*x**(5/2) + x**3 - 3/x"
            ]
          },
          "metadata": {},
          "output_type": "display_data"
        },
        {
          "data": {
            "text/latex": [
              "$\\displaystyle \\frac{4 x^{\\frac{7}{2}}}{7} + \\frac{x^{4}}{4} - 3 \\log{\\left(x \\right)}$"
            ],
            "text/plain": [
              "4*x**(7/2)/7 + x**4/4 - 3*log(x)"
            ]
          },
          "metadata": {},
          "output_type": "display_data"
        }
      ],
      "source": [
        "x = sym.symbols('x')\n",
        "f = x**3 + 2*x**2*sym.sqrt(x) - 3/x\n",
        "display(f)\n",
        "\n",
        "integ = sym.integrate(f, x)\n",
        "display(integ)"
      ]
    },
    {
      "cell_type": "markdown",
      "metadata": {
        "id": "SzWJHi4YYl8K"
      },
      "source": [
        "4. Вычислите определённый интеграл ∫[0,π/2] sin²(x)cos²(x) dx.\n"
      ]
    },
    {
      "cell_type": "code",
      "execution_count": 40,
      "metadata": {
        "id": "Yt8KuKsAYqX8"
      },
      "outputs": [
        {
          "data": {
            "text/latex": [
              "$\\displaystyle \\sin^{2}{\\left(x \\right)} \\cos^{2}{\\left(x \\right)}$"
            ],
            "text/plain": [
              "sin(x)**2*cos(x)**2"
            ]
          },
          "metadata": {},
          "output_type": "display_data"
        },
        {
          "data": {
            "text/latex": [
              "$\\displaystyle \\frac{\\pi}{16}$"
            ],
            "text/plain": [
              "pi/16"
            ]
          },
          "metadata": {},
          "output_type": "display_data"
        }
      ],
      "source": [
        "x = sym.symbols('x')\n",
        "f = sym.sin(x)**2 * sym.cos(x)**2\n",
        "display(f)\n",
        "integ = sym.integrate(f, (x, 0, sym.pi/2))\n",
        "display(integ)"
      ]
    },
    {
      "cell_type": "markdown",
      "metadata": {
        "id": "K3ETGx9hYna2"
      },
      "source": [
        "5. Найдите предел lim[x→0] (sin(3x) - 3sin(x))/x³.\n"
      ]
    },
    {
      "cell_type": "code",
      "execution_count": 41,
      "metadata": {
        "id": "ct8PaEa8Yqnf"
      },
      "outputs": [
        {
          "data": {
            "text/latex": [
              "$\\displaystyle \\frac{- 3 \\sin{\\left(x \\right)} + \\sin{\\left(3 x \\right)}}{x^{3}}$"
            ],
            "text/plain": [
              "(-3*sin(x) + sin(3*x))/x**3"
            ]
          },
          "metadata": {},
          "output_type": "display_data"
        },
        {
          "data": {
            "text/latex": [
              "$\\displaystyle -4$"
            ],
            "text/plain": [
              "-4"
            ]
          },
          "metadata": {},
          "output_type": "display_data"
        }
      ],
      "source": [
        "x = sym.symbols('x')\n",
        "f = (sym.sin(3*x) - 3*sym.sin(x))/x**3\n",
        "display(f)\n",
        "f_l = sym.limit(f, x, 0)\n",
        "display(f_l)"
      ]
    },
    {
      "cell_type": "markdown",
      "metadata": {
        "id": "3NA33Z_RYrXk"
      },
      "source": [
        "## **Раздел 4: Работа с матрицами**\n",
        "\n"
      ]
    },
    {
      "cell_type": "markdown",
      "metadata": {
        "id": "oEVCvGI9YvWZ"
      },
      "source": [
        "1. Создайте символьную матрицу A размером 3×3, где элемент a_ij = i·j + i + j.\n"
      ]
    },
    {
      "cell_type": "code",
      "execution_count": 60,
      "metadata": {
        "id": "QEb9rQYIZGKl"
      },
      "outputs": [
        {
          "data": {
            "text/latex": [
              "$\\displaystyle \\left[\\begin{matrix}3 & 5 & 7\\\\5 & 8 & 11\\\\7 & 11 & 15\\end{matrix}\\right]$"
            ],
            "text/plain": [
              "Matrix([\n",
              "[3,  5,  7],\n",
              "[5,  8, 11],\n",
              "[7, 11, 15]])"
            ]
          },
          "metadata": {},
          "output_type": "display_data"
        }
      ],
      "source": [
        "def f(i, j):\n",
        "    return (i+1)*(j+1) + (i+1) + (j+1)\n",
        "\n",
        "A = sym.Matrix(3, 3, f)\n",
        "display(A)"
      ]
    },
    {
      "cell_type": "markdown",
      "metadata": {
        "id": "3H5h6ok1YvZk"
      },
      "source": [
        "2. Для матрицы A найдите:\n",
        "   - Детерминант\n",
        "   - Обратную матрицу A^(-1)\n",
        "   - Собственные значения и собственные векторы"
      ]
    },
    {
      "cell_type": "code",
      "execution_count": 67,
      "metadata": {
        "id": "elAQdiVfZGYz"
      },
      "outputs": [
        {
          "data": {
            "text/latex": [
              "$\\displaystyle 0$"
            ],
            "text/plain": [
              "0"
            ]
          },
          "metadata": {},
          "output_type": "display_data"
        },
        {
          "data": {
            "text/latex": [
              "$\\displaystyle \\left[\\begin{matrix}- \\frac{28}{9} & - \\frac{11}{18} & \\frac{17}{9}\\\\- \\frac{11}{18} & - \\frac{1}{9} & \\frac{7}{18}\\\\\\frac{17}{9} & \\frac{7}{18} & - \\frac{10}{9}\\end{matrix}\\right]$"
            ],
            "text/plain": [
              "Matrix([\n",
              "[ -28/9, -11/18,  17/9],\n",
              "[-11/18,   -1/9,  7/18],\n",
              "[  17/9,   7/18, -10/9]])"
            ]
          },
          "metadata": {},
          "output_type": "display_data"
        },
        {
          "data": {
            "text/plain": [
              "{13 - 5*sqrt(7): 1, 13 + 5*sqrt(7): 1, 0: 1}"
            ]
          },
          "metadata": {},
          "output_type": "display_data"
        },
        {
          "data": {
            "text/plain": [
              "[(0,\n",
              "  1,\n",
              "  [Matrix([\n",
              "   [ 1],\n",
              "   [-2],\n",
              "   [ 1]])]),\n",
              " (13 - 5*sqrt(7),\n",
              "  1,\n",
              "  [Matrix([\n",
              "   [-2*sqrt(7)/5 - 3/5],\n",
              "   [   1/5 - sqrt(7)/5],\n",
              "   [                 1]])]),\n",
              " (13 + 5*sqrt(7),\n",
              "  1,\n",
              "  [Matrix([\n",
              "   [-3/5 + 2*sqrt(7)/5],\n",
              "   [   1/5 + sqrt(7)/5],\n",
              "   [                 1]])])]"
            ]
          },
          "metadata": {},
          "output_type": "display_data"
        }
      ],
      "source": [
        "det_A = A.det()\n",
        "inv_A = A.pinv()\n",
        "e = A.eigenvals()\n",
        "ee = A.eigenvects()\n",
        "\n",
        "display(det_A)\n",
        "display(inv_A)\n",
        "display(e)\n",
        "display(ee)"
      ]
    },
    {
      "cell_type": "markdown",
      "metadata": {
        "id": "2OwWIw-OYx5f"
      },
      "source": [
        "3. Пусть символьная матрица B = [[a, b], [c, d]]. Выразите условие, при котором det(B) = 1.\n"
      ]
    },
    {
      "cell_type": "code",
      "execution_count": 47,
      "metadata": {
        "id": "Gst1jHFuZG82"
      },
      "outputs": [
        {
          "data": {
            "text/latex": [
              "$\\displaystyle \\left[\\begin{matrix}a & b\\\\c & d\\end{matrix}\\right]$"
            ],
            "text/plain": [
              "Matrix([\n",
              "[a, b],\n",
              "[c, d]])"
            ]
          },
          "metadata": {},
          "output_type": "display_data"
        },
        {
          "data": {
            "text/latex": [
              "$\\displaystyle a d - b c = 1$"
            ],
            "text/plain": [
              "Eq(a*d - b*c, 1)"
            ]
          },
          "metadata": {},
          "output_type": "display_data"
        }
      ],
      "source": [
        "a, b, c, d = sym.symbols('a b c d')\n",
        "B = sym.Matrix([[a, b], [c, d]])\n",
        "display(B)\n",
        "eq = sym.Eq(B.det(), 1)\n",
        "display(eq)"
      ]
    },
    {
      "cell_type": "markdown",
      "metadata": {
        "id": "N6197S7aYzOm"
      },
      "source": [
        "4. Решите матричное уравнение AX = B, где A = [[2, 1], [3, 2]], B = [[4], [5]].\n"
      ]
    },
    {
      "cell_type": "code",
      "execution_count": 49,
      "metadata": {
        "id": "2_l-2YYdZHM_"
      },
      "outputs": [
        {
          "data": {
            "text/latex": [
              "$\\displaystyle \\left[\\begin{matrix}2 & 1\\\\3 & 2\\end{matrix}\\right]$"
            ],
            "text/plain": [
              "Matrix([\n",
              "[2, 1],\n",
              "[3, 2]])"
            ]
          },
          "metadata": {},
          "output_type": "display_data"
        },
        {
          "data": {
            "text/latex": [
              "$\\displaystyle \\left[\\begin{matrix}4\\\\5\\end{matrix}\\right]$"
            ],
            "text/plain": [
              "Matrix([\n",
              "[4],\n",
              "[5]])"
            ]
          },
          "metadata": {},
          "output_type": "display_data"
        },
        {
          "data": {
            "text/latex": [
              "$\\displaystyle \\left[\\begin{matrix}3\\\\-2\\end{matrix}\\right]$"
            ],
            "text/plain": [
              "Matrix([\n",
              "[ 3],\n",
              "[-2]])"
            ]
          },
          "metadata": {},
          "output_type": "display_data"
        }
      ],
      "source": [
        "A = sym.Matrix([[2, 1], [3, 2]])\n",
        "B = sym.Matrix([[4], [5]])\n",
        "X = A.solve(B)\n",
        "display(A)\n",
        "display(B)\n",
        "display(X)"
      ]
    },
    {
      "cell_type": "markdown",
      "metadata": {
        "id": "u3RmVOefYukJ"
      },
      "source": [
        "\n",
        "5. Для матрицы C = [[x, y, z], [2x, 0, -z], [3y, x, 4z]] найдите значения переменных x, y, z, при которых rank(C) = 1."
      ]
    },
    {
      "cell_type": "code",
      "execution_count": null,
      "metadata": {
        "id": "ZjGk7oYVZIg1"
      },
      "outputs": [],
      "source": [
        "x, y, z = sym.symbols('x y z') \n",
        "\n",
        "C = sym.Matrix()\n"
      ]
    },
    {
      "cell_type": "markdown",
      "metadata": {
        "id": "u8FoFiuBYrej"
      },
      "source": [
        "## **Раздел 5: Дифференциальные уравнения**\n"
      ]
    },
    {
      "cell_type": "markdown",
      "metadata": {
        "id": "HA4T3rbcY3T-"
      },
      "source": [
        "1. Решите дифференциальное уравнение y' = y·sin(x) с начальным условием y(0) = 1.\n"
      ]
    },
    {
      "cell_type": "code",
      "execution_count": 57,
      "metadata": {
        "id": "YEqYzstZZJl2"
      },
      "outputs": [
        {
          "data": {
            "text/latex": [
              "$\\displaystyle \\frac{d}{d x} y{\\left(x \\right)} = y{\\left(x \\right)} \\sin{\\left(x \\right)}$"
            ],
            "text/plain": [
              "Eq(Derivative(y(x), x), y(x)*sin(x))"
            ]
          },
          "metadata": {},
          "output_type": "display_data"
        },
        {
          "data": {
            "text/latex": [
              "$\\displaystyle y{\\left(x \\right)} = e e^{- \\cos{\\left(x \\right)}}$"
            ],
            "text/plain": [
              "Eq(y(x), E*exp(-cos(x)))"
            ]
          },
          "metadata": {},
          "output_type": "display_data"
        }
      ],
      "source": [
        "x = sym.symbols('x')\n",
        "y = sym.Function('y')(x)\n",
        "eq = sym.Eq(y.diff(x), y*sym.sin(x))\n",
        "display(eq)\n",
        "f_sol = sym.dsolve(eq, y, ics={y.subs(x, 0): 1})\n",
        "display(f_sol)"
      ]
    },
    {
      "cell_type": "markdown",
      "metadata": {
        "id": "1owUa1hUY6MC"
      },
      "source": [
        "2. Найдите общее решение дифференциального уравнения y'' - 4y' + 4y = e^(2x).\n"
      ]
    },
    {
      "cell_type": "code",
      "execution_count": 54,
      "metadata": {
        "id": "GKShXsRdZJ0R"
      },
      "outputs": [
        {
          "data": {
            "text/latex": [
              "$\\displaystyle y{\\left(x \\right)} = \\left(C_{1} + x \\left(C_{2} + \\frac{x}{2}\\right)\\right) e^{2 x}$"
            ],
            "text/plain": [
              "Eq(y(x), (C1 + x*(C2 + x/2))*exp(2*x))"
            ]
          },
          "metadata": {},
          "output_type": "display_data"
        }
      ],
      "source": [
        "x = sym.symbols('x')\n",
        "y = sym.Function('y')(x)\n",
        "eq = sym.Eq(y.diff(x, 2) - 4*y.diff(x) + 4*y, sym.exp(2*x))\n",
        "f_sol = sym.dsolve(eq, y)\n",
        "display(f_sol)"
      ]
    },
    {
      "cell_type": "markdown",
      "metadata": {
        "id": "_Z0BvKHMY6Sm"
      },
      "source": [
        "3. Решите систему дифференциальных уравнений:\n",
        "   ```\n",
        "   x'(t) = 2x(t) - 3y(t)\n",
        "   y'(t) = x(t) + 2y(t)\n",
        "   ```\n",
        "\n",
        "      с начальными условиями x(0) = 1, y(0) = 0.\n"
      ]
    },
    {
      "cell_type": "code",
      "execution_count": null,
      "metadata": {
        "id": "RASn0VLuZKC9"
      },
      "outputs": [],
      "source": [
        "# Ваш код"
      ]
    },
    {
      "cell_type": "markdown",
      "metadata": {
        "id": "kvffsFKYZBLw"
      },
      "source": [
        "4. Решите дифференциальное уравнение y' = x²y с начальным условием y(1) = 2.\n"
      ]
    },
    {
      "cell_type": "code",
      "execution_count": 55,
      "metadata": {
        "id": "13FBpeCFZKgd"
      },
      "outputs": [
        {
          "data": {
            "text/latex": [
              "$\\displaystyle y{\\left(x \\right)} = \\frac{2 e^{\\frac{x^{3}}{3}}}{e^{\\frac{1}{3}}}$"
            ],
            "text/plain": [
              "Eq(y(x), 2*exp(-1/3)*exp(x**3/3))"
            ]
          },
          "metadata": {},
          "output_type": "display_data"
        }
      ],
      "source": [
        "x = sym.symbols('x')\n",
        "y = sym.Function('y')(x)\n",
        "eq = sym.Eq(y.diff(x), x**2*y)\n",
        "f_sol = sym.dsolve(eq, y, ics={y.subs(x, 1): 2})\n",
        "display(f_sol)"
      ]
    },
    {
      "cell_type": "markdown",
      "metadata": {
        "id": "TSBtcm1BW4Ro"
      },
      "source": [
        "5. Найдите частное решение неоднородного дифференциального уравнения y'' + y = tan(x) при условиях y(0) = 0, y'(0) = 1.\n"
      ]
    },
    {
      "cell_type": "code",
      "execution_count": null,
      "metadata": {
        "id": "r9XPcMh8ZKu3"
      },
      "outputs": [],
      "source": [
        "# Ваш код"
      ]
    }
  ],
  "metadata": {
    "colab": {
      "provenance": []
    },
    "kernelspec": {
      "display_name": "Python 3",
      "name": "python3"
    },
    "language_info": {
      "codemirror_mode": {
        "name": "ipython",
        "version": 3
      },
      "file_extension": ".py",
      "mimetype": "text/x-python",
      "name": "python",
      "nbconvert_exporter": "python",
      "pygments_lexer": "ipython3",
      "version": "3.11.4"
    }
  },
  "nbformat": 4,
  "nbformat_minor": 0
}
