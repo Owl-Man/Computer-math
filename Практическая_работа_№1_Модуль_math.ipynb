{
  "cells": [
    {
      "cell_type": "markdown",
      "metadata": {
        "colab_type": "text",
        "id": "view-in-github"
      },
      "source": [
        "<a href=\"https://colab.research.google.com/github/Alexandre77777/computer_math/blob/main/1.%20%D0%9C%D0%BE%D0%B4%D1%83%D0%BB%D1%8C%20math/%D0%9F%D1%80%D0%B0%D0%BA%D1%82%D0%B8%D1%87%D0%B5%D1%81%D0%BA%D0%B0%D1%8F_%D1%80%D0%B0%D0%B1%D0%BE%D1%82%D0%B0_%E2%84%961_%D0%9C%D0%BE%D0%B4%D1%83%D0%BB%D1%8C_math.ipynb\" target=\"_parent\"><img src=\"https://colab.research.google.com/assets/colab-badge.svg\" alt=\"Open In Colab\"/></a>"
      ]
    },
    {
      "cell_type": "markdown",
      "metadata": {
        "id": "5RnujUcdXQsu"
      },
      "source": [
        "### Задание 1: Решение квадратного уравнения"
      ]
    },
    {
      "cell_type": "markdown",
      "metadata": {
        "id": "ON9A-LvlXV_T"
      },
      "source": [
        "Напишите функцию для решения квадратного уравнения вида $ax^2 + bx + c = 0$.\n",
        "\n",
        "Программа должна запросить у пользователя значения коэффициентов $a$, $b$, и $c$, вычислить дискриминант по формуле $D = b^2 - 4ac$, а затем найти корни уравнения. Используйте функции `sqrt` и `pow` из библиотеки `math`."
      ]
    },
    {
      "cell_type": "markdown",
      "metadata": {
        "id": "pkFrJTHxb-jx"
      },
      "source": [
        "Примеры листинга программы:\n",
        "\n",
        "\n",
        "\n",
        "```\n",
        "Введите коэффициент a: 1\n",
        "Введите коэффициент b: -2\n",
        "Введите коэффициент c: 1\n",
        "Уравнение имеет один корень: x = 1.0\n",
        "```\n",
        "\n",
        "\n",
        "\n",
        "```\n",
        "Введите коэффициент a: 1\n",
        "Введите коэффициент b: -3\n",
        "Введите коэффициент c: 2\n",
        "Уравнение имеет два корня: x1 = 2.0, x2 = 1.0\n",
        "```\n",
        "\n",
        "```\n",
        "Введите коэффициент a: 1\n",
        "Введите коэффициент b: 2\n",
        "Введите коэффициент c: 3\n",
        "Корней нет\n",
        "```\n"
      ]
    },
    {
      "cell_type": "code",
      "execution_count": null,
      "metadata": {
        "id": "_-P5nt8tXTNv"
      },
      "outputs": [
        {
          "name": "stdout",
          "output_type": "stream",
          "text": [
            "x1 = 2.0; x2 = 1.0\n"
          ]
        }
      ],
      "source": [
        "# Ваш код\n",
        "import math\n",
        "\n",
        "def D(a, b, c):\n",
        "\n",
        "    D = math.pow(b, 2) - 4 * a * c\n",
        "\n",
        "    if (D > 0):\n",
        "        x1 = (-b + math.sqrt(D)) / (2 * a)\n",
        "        x2 = (-b - math.sqrt(D)) / (2 * a)\n",
        "        print(f\"x1 = {x1}; x2 = {x2}\")\n",
        "    elif (D == 0):   \n",
        "        x1 = (-b + math.sqrt(D)) / (2 * a)\n",
        "        print(f\"x = {x1}\")\n",
        "    else:\n",
        "        print(\"Корней нет\")\n",
        "\n",
        "\n",
        "a = int(input('Введите а'))\n",
        "b = int(input('Введите b'))\n",
        "c = int(input('Введите c'))\n",
        "\n",
        "D(a, b, c)"
      ]
    },
    {
      "cell_type": "markdown",
      "metadata": {
        "id": "SJjSHhMTPk-K"
      },
      "source": [
        "\n",
        "\n",
        "### Задание 2: Расчет интеграла методом трапеций\n",
        "Реализуйте функцию для вычисления определенного интеграла функции $f(x)$, используя метод трапеций. Функция $f(x)$ задается внутри вашей программы (например, $f(x) = x^2$), а интервал интегрирования и количество разбиений задаются пользователем. Используйте базовые операции Python и функции из библиотеки `math` для вычислений.\n",
        "\n",
        "\n",
        "\n",
        "\n",
        "\n"
      ]
    },
    {
      "cell_type": "markdown",
      "metadata": {
        "id": "vv5aTieQajgD"
      },
      "source": [
        "Чтобы написать программу для вычисления определенного интеграла функции $f(x)$ методом трапеций, следуйте этому алгоритму:\n",
        "\n",
        "*Шаг 1*: Определение целевой функции\n",
        "  Определите функцию $f(x)$, значение которой вы хотите интегрировать. Например, $f(x) = x^2$.\n",
        "\n",
        "\n",
        "*Шаг 2*: Реализация метода трапеций\n",
        "1. Создайте функцию для вычисления интеграла, например, с именем `trapezoidal_integral`, которая принимает четыре аргумента: функцию `f`, начало интервала `a`, конец интервала `b` и количество разбиений `n`.\n",
        "2. В этой функции, рассчитайте ширину одного разбиения $h = \\frac{b - a}{n}$.\n",
        "3. Инициализируйте переменную для хранения суммы значений, например, `integral`, начальным значением которой будет среднее арифметическое значений функции на концах интервала, умноженное на $h$ и деленное на 2.\n",
        "4. Используйте цикл `for` для перебора всех точек разбиения (кроме первой и последней), добавляя в `integral` значение функции в каждой точке, умноженное на $h$.\n",
        "5. После завершения цикла, верните полученное значение интеграла."
      ]
    },
    {
      "cell_type": "code",
      "execution_count": 16,
      "metadata": {
        "id": "ieN0p64UYDRj"
      },
      "outputs": [
        {
          "name": "stdout",
          "output_type": "stream",
          "text": [
            "Значение интеграла: 1.9998355038874436\n"
          ]
        }
      ],
      "source": [
        "import math\n",
        "\n",
        "def trapezoidal_integral(f, a, b, n):\n",
        "    h = (b - a) / n\n",
        "    integral = (f(a) + f(b)) / 2\n",
        "    \n",
        "    for i in range(1, n):\n",
        "        integral += f(a + i * h)\n",
        "    \n",
        "    integral *= h\n",
        "    return integral\n",
        "\n",
        "\n",
        "def f(x):\n",
        "    return math.sin(x)\n",
        "\n",
        "a, b = 0, math.pi\n",
        "n = 100\n",
        "result = trapezoidal_integral(f, a, b, n)\n",
        "print(f\"Значение интеграла: {result}\")\n",
        "\n"
      ]
    },
    {
      "cell_type": "markdown",
      "metadata": {
        "id": "5pLFAgLcdE5Y"
      },
      "source": [
        "Проверка:\n",
        "\n",
        "Функция: $f(x) = x^2$\n",
        "\n",
        "```\n",
        "Входные данные:\n",
        "\n",
        "a = 0  # Начало интервала\n",
        "b = 1  # Конец интервала\n",
        "n = 100  # Количество разбиений\n",
        "\n",
        "Значение интеграла: 0.33335000000000015\n",
        "```\n",
        "\n",
        "Функция: $f(x) = \\sin(x)$\n",
        "\n",
        "```\n",
        "Входные данные:\n",
        "\n",
        "a = 0  # Начало интервала\n",
        "b = PI  # Конец интервала\n",
        "n = 1000  # Количество разбиений\n",
        "\n",
        "Значение интеграла: ~1.9999983550656637\n",
        "```\n",
        "\n"
      ]
    },
    {
      "cell_type": "markdown",
      "metadata": {
        "id": "525gZFYHYD1_"
      },
      "source": [
        "### Задание 3: Нахождение корней уравнения методом бисекции\n",
        "Разработайте программу для нахождения корня уравнения $f(x) = 0$ на заданном интервале с заданной точностью, используя метод бисекции. Функция $f(x)$ задается внутри программы (например, $f(x) = x^3 - x - 2$), а интервал поиска корня (начало и конец интервала) и точность задаются пользователем. Для вычислений используйте базовые операции Python и функции из библиотеки `math`.\n",
        "\n",
        "\n"
      ]
    },
    {
      "cell_type": "markdown",
      "metadata": {
        "id": "deeMps2EZg6z"
      },
      "source": [
        "**Метод бисекции** — это простой численный метод для нахождения корня функции, который заключается в последовательном делении пополам интервала, на концах которого значения функции имеют разные знаки. Алгоритм метода следующий:\n",
        "\n",
        "1. Проверяем, что на концах интервала [a, b] значения функции имеют разные знаки, т.е. $f(a) \\cdot f(b) < 0$. Если это условие не выполняется, метод бисекции не применим.\n",
        "2. Вычисляем середину интервала $c = \\frac{a + b}{2}$ и проверяем значение функции в этой точке ($f(c)$).\n",
        "3. Если $f(c) = 0$ или длина интервала $\\frac{b - a}{2}$ меньше заданной точности, то корень найден.\n",
        "4. Если $f(c) \\neq 0$, выбираем подинтервал [a, c] или [c, b], на концах которого значения функции имеют разные знаки, и повторяем шаги 2-4."
      ]
    },
    {
      "cell_type": "code",
      "execution_count": 1,
      "metadata": {
        "id": "-aNXlcMlXQZc"
      },
      "outputs": [
        {
          "name": "stdout",
          "output_type": "stream",
          "text": [
            "1.521484375\n"
          ]
        }
      ],
      "source": [
        "import math\n",
        "\n",
        "a = int(input('Введите a'))\n",
        "b = int(input('Введите b'))\n",
        "\n",
        "accuracy = float(input('Введите точность'))\n",
        "\n",
        "def f(x):\n",
        "    return math.pow(x, 3) - x - 2\n",
        "\n",
        "def bisekcia(a, b, accuracy):\n",
        "    if f(a) * f(b) >= 0:\n",
        "        print('Метод бисекции не применим')\n",
        "\n",
        "    while (b - a) / 2 > accuracy:\n",
        "        c = (a + b) / 2\n",
        "\n",
        "        if f(a) * f(c) < 0:\n",
        "            b = c\n",
        "        else:\n",
        "            a = c\n",
        "    \n",
        "    return c\n",
        "\n",
        "print(bisekcia(a, b, accuracy))"
      ]
    },
    {
      "cell_type": "markdown",
      "metadata": {
        "id": "MxcTpremfxGq"
      },
      "source": [
        "Примеры листинга программы:\n",
        "\n",
        "\n",
        "\n",
        "```\n",
        "Введите начало интервала a: 1\n",
        "Введите конец интервала b: 2\n",
        "Введите точность (например, 0.001): 0.001\n",
        "Найден корень: ~1.521484375\n",
        "```"
      ]
    },
    {
      "cell_type": "markdown",
      "metadata": {
        "id": "N226OfIShWQ9"
      },
      "source": [
        "### Задание 4: Расчет сложных процентов\n",
        "\n",
        "Написать программу для расчета итоговой суммы депозита, если известны первоначальная сумма, годовая процентная ставка и срок вклада в годах. Использовать формулу сложных процентов с ежедневной капитализацией.\n",
        "\n",
        "**Формула**: $A = P \\cdot exp(rt)$, где $P$ - первоначальная сумма, $r$ - годовая процентная ставка (в десятичной дроби), $t$ - срок вклада в годах, $A$ - итоговая сумма."
      ]
    },
    {
      "cell_type": "code",
      "execution_count": 8,
      "metadata": {
        "id": "4WPiyJBLjUMB"
      },
      "outputs": [
        {
          "name": "stdout",
          "output_type": "stream",
          "text": [
            "11051.709180756478\n"
          ]
        }
      ],
      "source": [
        "import math\n",
        "P = int(input())\n",
        "r = float(input())\n",
        "t = int(input())\n",
        "\n",
        "if P < 0 or t < 0:\n",
        "    print(\"Введены некорректные данные\")\n",
        "else:\n",
        "    print(P * math.exp(r * t))"
      ]
    },
    {
      "cell_type": "markdown",
      "metadata": {
        "id": "v0KFWVCIzvh2"
      },
      "source": [
        "\n",
        "\n",
        "```\n",
        "# Пример входных данных\n",
        "P = 10000  # первоначальная сумма\n",
        "r = 0.05   # годовая процентная ставка в десятичной форме\n",
        "t = 2      # срок вклада в годах\n",
        "\n",
        "# Пример выходных данных\n",
        "Итоговая сумма депозита: 11051.71\n",
        "```\n",
        "\n"
      ]
    },
    {
      "cell_type": "markdown",
      "metadata": {
        "id": "uZg7DKODbYJt"
      },
      "source": [
        "### Задание 5: Расчет годового процента по заданной итоговой сумме\n",
        "\n",
        "Написать программу, которая рассчитывает годовую процентную ставку по формуле сложных процентов, зная первоначальную сумму, итоговую сумму и срок вклада.\n",
        "\n",
        "**Формула**: $r = \\frac{1}{t} \\cdot log(\\frac{A}{P})$, где $P$ - первоначальная сумма, $A$ - итоговая сумма, $t$ - срок вклада в годах, $r$ - годовая процентная ставка.\n",
        "\n"
      ]
    },
    {
      "cell_type": "code",
      "execution_count": 56,
      "metadata": {
        "id": "MGnRI9j4jV0i"
      },
      "outputs": [
        {
          "name": "stdout",
          "output_type": "stream",
          "text": [
            "5.0%\n"
          ]
        }
      ],
      "source": [
        "import math\n",
        "P = int(input())\n",
        "A = float(input())\n",
        "t = int(input())\n",
        "\n",
        "r = round((1/t) * math.log(A / P), 6)\n",
        "\n",
        "print(f\"{r * 100}%\")\n",
        "\n"
      ]
    },
    {
      "cell_type": "markdown",
      "metadata": {
        "id": "NrGyrUpJ1ol8"
      },
      "source": [
        "\n",
        "\n",
        "```\n",
        "# Пример входных данных\n",
        "P = 10000  # первоначальная сумма\n",
        "A = 11051.71  # итоговая сумма\n",
        "t = 2  # срок вклада в годах\n",
        "\n",
        "# Пример выходных данных\n",
        "Годовая процентная ставка: 5.00%\n",
        "\n",
        "```\n",
        "\n"
      ]
    },
    {
      "cell_type": "markdown",
      "metadata": {
        "id": "ISJbONDvh7yk"
      },
      "source": [
        "### Задание 6: Вычисление квадратного корня при помощи итерационных методов\n",
        "\n",
        "Написать программу, которая использует метод Ньютона (метод касательных) для нахождения квадратного корня из числа, введенного пользователем. Сравнить результат с результатом, полученным при помощи функции `sqrt()`.\n",
        "\n",
        "**Формула метода Ньютона**: $x_{n+1} = \\frac{1}{2}(x_n + \\frac{a}{x_n})$, где $a$- это число, из которого мы хотим извлечь квадратный корень.\n",
        "\n",
        "Метод Ньютона (или метод касательных) - это численный метод нахождения корней уравнений. В случае извлечения квадратного корня из числа $a$, мы используем его для решения уравнения $x^2 - a = 0$."
      ]
    },
    {
      "cell_type": "markdown",
      "metadata": {
        "id": "Uy7qlc1Vi0ZF"
      },
      "source": [
        "Алгоритм:\n",
        "\n",
        "1. Напишите функцию `sqrt_newton_method(a, epsilon=1e-10)`, которая будет вычислять квадратный корень из числа `a` с заданной точностью `epsilon`, используя метод Ньютона.\n",
        "\n",
        "   Шаги для реализации метода Ньютона:\n",
        "   - Инициализируйте начальное приближение `x` значением `a`.\n",
        "   - В цикле выполняйте следующие шаги, пока разница между последовательными приближениями не станет меньше `epsilon`:\n",
        "     - Вычислите следующее приближение по формуле `next_x = 0.5 * (x + a / x)`.\n",
        "     - Проверьте условие остановки: если `abs(x - next_x) < epsilon`, выйдите из цикла.\n",
        "     - Обновите текущее приближение `x` значением `next_x`.\n",
        "   - Верните последнее вычисленное приближение `x` как результат функции.\n",
        "\n",
        "2. Напишите функцию `main()`, в которой реализуйте следующую логику:\n",
        "   - Спросите у пользователя число `a` для извлечения квадратного корня, используя ввод с клавиатуры.\n",
        "   - Вызовите функцию `sqrt_newton_method(a)` для вычисления квадратного корня из числа `a` методом Ньютона и сохраните результат в переменной.\n",
        "   - Выведите полученный квадратный корень на экран.\n",
        "   - Вычислите квадратный корень из числа `a`, используя стандартную функцию `sqrt` из модуля `math`, и сохраните результат в другой переменной.\n",
        "   - Выведите полученный квадратный корень на экран.\n",
        "   - Сравните результаты, полученные двумя методами, выведите разницу между ними на экран."
      ]
    },
    {
      "cell_type": "code",
      "execution_count": 20,
      "metadata": {
        "id": "euhduGDljXqb"
      },
      "outputs": [
        {
          "name": "stdout",
          "output_type": "stream",
          "text": [
            "Квадратный корень методом Ньютона: 1.414213562373095\n",
            "Квадратный корень с использованием math.sqrt: 1.4142135623730951\n",
            "Разница между методами: 2.220446049250313e-16\n"
          ]
        }
      ],
      "source": [
        "import math\n",
        "\n",
        "def sqrt_newton_method(a, epsilon=1e-10):\n",
        "    x = A\n",
        "\n",
        "    while True:\n",
        "        next_x = 0.5 * (x + a / x)\n",
        "\n",
        "        if (abs(x - next_x) < epsilon):\n",
        "            break\n",
        "\n",
        "        x = next_x\n",
        "\n",
        "    return x\n",
        "\n",
        "def main():\n",
        "    a = int(input())\n",
        "    sqrt_newton = sqrt_newton_method(a, 1e-20)\n",
        "    sqrt_math_lib = math.sqrt(a)\n",
        "\n",
        "    print(f\"Квадратный корень методом Ньютона: {sqrt_newton}\")\n",
        "    print(f\"Квадратный корень с использованием math.sqrt: {sqrt_math_lib}\")\n",
        "    print(f\"Разница между методами: {abs(sqrt_newton - sqrt_math_lib)}\")\n",
        "\n",
        "    \n",
        "main()\n"
      ]
    },
    {
      "cell_type": "markdown",
      "metadata": {
        "id": "2q029pUP2J3V"
      },
      "source": [
        "\n",
        "\n",
        "```\n",
        "# Пример 1\n",
        "# Входные данные:\n",
        "Введите число для извлечения квадратного корня: 25\n",
        "\n",
        "# Выходные данные:\n",
        "Квадратный корень из 25 методом Ньютона: 5.0\n",
        "Квадратный корень из 25 стандартной функцией: 5.0\n",
        "Разница между методами: 0.0\n",
        "\n",
        "# Пример 2\n",
        "# Входные данные:\n",
        "Введите число для извлечения квадратного корня: 2\n",
        "\n",
        "# Выходные данные:\n",
        "Квадратный корень из 2 методом Ньютона: 1.414213562373095\n",
        "Квадратный корень из 2 стандартной функцией: 1.4142135623730951\n",
        "Разница между методами: 2.220446049250313e-16```\n",
        "\n"
      ]
    },
    {
      "cell_type": "markdown",
      "metadata": {
        "id": "hEGfd1Uajt4L"
      },
      "source": [
        "### Задание 7: Расчет угла между двумя векторами\n",
        "\n",
        "Даны два вектора $A(x_1, y_1)$ и $B(x_2, y_2)$. Написать программу на Python, которая вычисляет угол между этими векторами.\n",
        "\n",
        "**Формула**: Угол между векторами можно вычислить, используя формулу:\n",
        "$\\theta = \\arccos\\left(\\frac{A \\cdot B}{|A| |B|}\\right) $\n",
        "где $(A \\cdot B = x_1x_2 + y_1y_2$) - скалярное произведение векторов, $(|A| = \\sqrt{x_1^2 + y_1^2}$) и $(|B| = \\sqrt{x_2^2 + y_2^2}$) - длины векторов $(A$) и $(B$) соответственно."
      ]
    },
    {
      "cell_type": "code",
      "execution_count": 96,
      "metadata": {
        "id": "VkNn7RGdj7cF"
      },
      "outputs": [
        {
          "name": "stdout",
          "output_type": "stream",
          "text": [
            "Угол 70.3461759419467\n"
          ]
        }
      ],
      "source": [
        "import math\n",
        "\n",
        "x1, y1 = map(int, input(\"Введите координаты вектора A (x1, y1): \").split())\n",
        "x2, y2 = map(int, input(\"Введите координаты вектора B (x2, y2): \").split())\n",
        "\n",
        "AB = x1 * x2 + y1 * y2\n",
        "\n",
        "A_Length = math.sqrt(x1**2 + y1**2)   \n",
        "B_Length = math.sqrt(x2**2 + y2**2)\n",
        "\n",
        "angle = math.degrees(math.acos(AB / (A_Length * B_Length)))\n",
        "\n",
        "if (math.isclose(angle, 0, abs_tol=1e-5)):\n",
        "    angle = 0\n",
        "\n",
        "print(f\"Угол {angle}\")"
      ]
    },
    {
      "cell_type": "markdown",
      "metadata": {
        "id": "zzvx_2hE3APe"
      },
      "source": [
        "```\n",
        "# Пример 1:\n",
        "# Входные данные\n",
        "Вектор A с координатами (3, 0)\n",
        "Вектор B с координатами (0, 4)\n",
        "\n",
        "# Выходные данные\n",
        "Угол между векторами: 90.0 градусов\n",
        "\n",
        "# Пример 2:\n",
        "# Входные данные\n",
        "Вектор A с координатами (5, 5)\n",
        "Вектор B с координатами (5, 5)\n",
        "\n",
        "# Выходные данные\n",
        "Угол между векторами: 0.0 градусов\n",
        "\n",
        "# Пример 3:\n",
        "# Входные данные\n",
        "Вектор A с координатами (2, 3)\n",
        "Вектор B с координатами (4, -1)\n",
        "\n",
        "# Выходные данные\n",
        "Угол между векторами: приблизительно 70.3461759419467 градусов\n",
        "```"
      ]
    },
    {
      "cell_type": "markdown",
      "metadata": {
        "id": "OyehGOeQfO1h"
      },
      "source": [
        "### Задание 8: Расчет координат точки на окружности\n",
        "\n",
        "Дана окружность с центром в точке $O(0, 0)$ и радиусом $R$, и угол $\\theta$ в градусах, отсчитываемый от положительного направления оси X. Написать программу на Python для расчета координат точки $P(x, y)$, находящейся на этой окружности.\n",
        "\n",
        "**Формула**: Координаты точки $P$ можно вычислить следующим образом:\n",
        "$x = R \\cdot \\cos(\\theta_{рад})$,\n",
        "$y = R \\cdot \\sin(\\theta_{рад})$,\n",
        "где $\\theta_{рад}$ - угол в радианах, который можно вычислить, используя функцию перевода из градусов в радианы, что была упомянута в теории."
      ]
    },
    {
      "cell_type": "code",
      "execution_count": 90,
      "metadata": {
        "id": "mqM7J6bvtHTD"
      },
      "outputs": [
        {
          "name": "stdout",
          "output_type": "stream",
          "text": [
            "Координаты точки P: (1.0, 0.0)\n"
          ]
        }
      ],
      "source": [
        "import math\n",
        "\n",
        "R = int(input())\n",
        "theta = int(input())\n",
        "\n",
        "x = round(R * math.cos(math.radians(theta)), 6)\n",
        "y = round(R * math.sin(math.radians(theta)), 6)\n",
        "\n",
        "print(f\"Координаты точки P: ({x}, {y})\")"
      ]
    },
    {
      "cell_type": "markdown",
      "metadata": {
        "id": "vf0bV5gp6srb"
      },
      "source": [
        "\n",
        "\n",
        "```\n",
        "# Пример входных-выходных данных\n",
        "\n",
        "# Пример 1\n",
        "# Входные данные:\n",
        "Радиус R = 5\n",
        "Угол theta = 45 градусов\n",
        "\n",
        "# Выходные данные:\n",
        "Координаты точки P: (3.5355339059327378, 3.5355339059327378)\n",
        "\n",
        "# Пример 2\n",
        "# Входные данные:\n",
        "Радиус R = 10\n",
        "Угол theta = 90 градусов\n",
        "\n",
        "# Выходные данные:\n",
        "Координаты точки P: (0.0, 10.0)\n",
        "\n",
        "# Пример 3\n",
        "# Входные данные:\n",
        "Радиус R = 1\n",
        "Угол theta = 0 градусов\n",
        "\n",
        "# Выходные данные:\n",
        "Координаты точки P: (1.0, 0.0)\n",
        "\n",
        "```\n",
        "\n"
      ]
    },
    {
      "cell_type": "markdown",
      "metadata": {
        "id": "7nd3IQvSlWfi"
      },
      "source": [
        "### Задание 9: Вычисление вероятности ошибки в теории вероятностей\n",
        "\n",
        "В теории вероятностей функция ошибок `erf(x)` часто используется для вычисления вероятностей, связанных с нормально распределенными случайными переменными. Напишите программу на Python, которая использует `math.erf(x)` для вычисления вероятности того, что случайная величина $Z$, следующая стандартному нормальному распределению, окажется в интервале от $-x$ до $x$.\n",
        "\n",
        "**Формула**:\n",
        "$P(-x \\leq Z \\leq x) = \\frac{1}{2} \\left[ \\text{erf}\\left(\\frac{x}{\\sqrt{2}}\\right) - \\text{erf}\\left(\\frac{-x}{\\sqrt{2}}\\right) \\right]$"
      ]
    },
    {
      "cell_type": "code",
      "execution_count": 95,
      "metadata": {
        "id": "dYOYeIU_tKLs"
      },
      "outputs": [
        {
          "name": "stdout",
          "output_type": "stream",
          "text": [
            "вероятность = 0.9544997361036417\n"
          ]
        }
      ],
      "source": [
        "x = int(input())\n",
        "\n",
        "print(f\"вероятность = {1/2 * (math.erf(x / math.sqrt(2)) - math.erf(-x / math.sqrt(2)))}\")"
      ]
    },
    {
      "cell_type": "markdown",
      "metadata": {
        "id": "g3zmjvBj7eky"
      },
      "source": [
        "\n",
        "\n",
        "```\n",
        "# Примеры входных и выходных данных\n",
        "\n",
        "# Входные данные: x = 1\n",
        "# Выходные данные: вероятность = 0.6826894921370859\n",
        "\n",
        "# Входные данные: x = 2\n",
        "# Выходные данные: вероятность = 0.9544997361036416\n",
        "\n",
        "# Входные данные: x = 0\n",
        "# Выходные данные: вероятность = 0.0\n",
        "```\n",
        "\n"
      ]
    },
    {
      "cell_type": "markdown",
      "metadata": {
        "id": "H3oPpRd5j0Z2"
      },
      "source": [
        "### Задание 10. Практическое применение: расчет объемов n-мерных сфер\n",
        "\n",
        "Гамма-функция находит применение в формуле для расчета объема n-мерной сферы радиуса R: $V_n(R) = \\frac{\\pi^{n/2} R^n}{\\Gamma(\\frac{n}{2} + 1)}$. Напишите функцию на Python, которая принимает в качестве параметров размерность пространства `n` и радиус `R`, а затем вычисляет и возвращает объем n-мерной сферы, используя гамма-функцию."
      ]
    },
    {
      "cell_type": "code",
      "execution_count": 101,
      "metadata": {
        "id": "5pPM-uJitV9-"
      },
      "outputs": [
        {
          "name": "stdout",
          "output_type": "stream",
          "text": [
            "Объем 10-мерной сферы радиуса 2.0: 2611.3679768344014\n"
          ]
        }
      ],
      "source": [
        "def n_sphere_volume(n, R):\n",
        "    return (math.pi**(n/2) * R**n) / math.gamma(n / 2 + 1)\n",
        "\n",
        "n = int(input(\"n: \"))\n",
        "R = float(input(\"R: \"))\n",
        "\n",
        "print(f\"Объем {n}-мерной сферы радиуса {R}: {n_sphere_volume(n, R)}\")"
      ]
    },
    {
      "cell_type": "markdown",
      "metadata": {
        "id": "E0_SrXl-9HuZ"
      },
      "source": [
        "```\n",
        "# Примеры входных и выходных данных\n",
        "# Пример 1\n",
        "# Входные данные:\n",
        "n1 = 2\n",
        "R1 = 1\n",
        "# Выходные данные:\n",
        "Объем 2-мерной сферы радиуса 1: 3.141592653589793\n",
        "\n",
        "# Пример 2\n",
        "# Входные данные:\n",
        "n2 = 3\n",
        "R2 = 1\n",
        "# Выходные данные:\n",
        "Объем 3-мерной сферы радиуса 1: 4.1887902047863905\n",
        "\n",
        "# Пример 3\n",
        "# Входные данные:\n",
        "n3 = 10\n",
        "R3 = 2\n",
        "# Выходные данные:\n",
        "Объем 10-мерной сферы радиуса 2: 2611.3679768344014\n",
        "\n",
        "```"
      ]
    },
    {
      "cell_type": "markdown",
      "metadata": {
        "id": "Gpta9ZTenjdY"
      },
      "source": [
        "### **Комплексное задание: Анализ функций и их применение**\n",
        "\n",
        "**Цель задания:** Применить различные математические функции из модуля `math` в Python, включая округление и сравнение, экспоненциальные и логарифмические функции, а также тригонометрические функции и их обратные аналоги.\n",
        "\n",
        "**Задача:** Вы разрабатываете программу для анализа погодных условий на различных планетах. Программа должна учитывать угол падения солнечных лучей, интенсивность солнечного света и атмосферное давление, чтобы рассчитать эффективную температуру на поверхности планеты в определенный момент времени.\n",
        "\n",
        "1. **Исходные данные:**\n",
        "    - Угол падения солнечных лучей к поверхности (в градусах) (a).\n",
        "    - Интенсивность солнечного света (в ваттах на квадратный метр) \\( I \\).\n",
        "    - Атмосферное давление на уровне моря (в паскалях) \\( P \\).\n",
        "\n",
        "2. **Расчеты:**\n",
        "\n",
        "    a. Используйте тригонометрические функции (`math.sin`, `math.cos`) для расчета эффективного угла падения солнечных лучей в радианах:\n",
        "    \n",
        "      ![image.png](data:image/png;base64,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)\n",
        "      \n",
        "      ![image.png](data:image/png;base64,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)\n",
        "\n",
        "    b. Примените экспоненциальную функцию (`math.exp`) для оценки влияния атмосферного давления на распространение солнечного света:\n",
        "\n",
        "      ![image.png](data:image/png;base64,iVBORw0KGgoAAAANSUhEUgAAAGEAAAAeCAIAAACzEOfgAAAMP2lDQ1BJQ0MgUHJvZmlsZQAASImVVwdYU8kWnluSkEBoAQSkhN4EASkBpITQQu8INkISIJQYE4KKHV1UcO1iARu6KqJgBcSO2FkEe18sKCjrYsGuvEkBXfeV7833zZ3//nPmP2fOnbn3DgAaJzkiUR6qCUC+sEAcHxpIH5OaRid1AxSQgRZQBSYcrkTEjI2NBLAMtn8v724ARNZedZRp/bP/vxYtHl/CBQCJhTiDJ+HmQ3wQALySKxIXAECU8RZTCkQyDCvQEcMAIV4ow1kKXCnDGQq8V26TGM+CuAUAFTUOR5wFgHo75OmF3Cyood4HsbOQJxACoEGH2C8/fxIP4nSIbaGNCGKZPiPjB52sv2lmDGlyOFlDWDEXeVEJEkhEeZxp/2c6/nfJz5MO+rCGVS1bHBYvmzPM263cSREyrAZxrzAjOgZibYg/CHhye4hRSrY0LElhjxpxJSyYM6AHsTOPExQBsRHEIcK86Egln5EpCGFDDFcIOlVQwE6EWB/ihXxJcILSZrN4UrzSF1qfKWYxlfx5jljuV+brgTQ3ianUf53NZyv1MfWi7MQUiCkQWxYKkqMhVofYSZKbEKG0GV2UzYoetBFL42XxW0IczxeGBir0scJMcUi80r40XzI4X2xztoAdrcT7C7ITwxT5wVq4HHn8cC5YO1/ITBrU4UvGRA7OhccPClbMHevmC5MSlDofRAWB8YqxOEWUF6u0x835eaEy3hxiN0lhgnIsnlwAF6RCH88UFcQmKuLEi3I44bGKePBlIBKwQBCgAymsGWASyAGCtt6GXnin6AkBHCAGWYAPHJXM4IgUeY8QXhNAEfgTIj6QDI0LlPfyQSHkvw6xiqsjyJT3FspH5IKnEOeDCJAH76XyUcIhb8ngCWQE//DOgZUL482DVdb/7/lB9jvDhEykkpEOeqRrDFoSg4lBxDBiCNEON8T9cB88El4DYHXFGbjX4Dy+2xOeEjoIjwjXCZ2E2xMFxeKfoowCnVA/RJmLjB9zgVtDTXc8EPeF6lAZ18MNgSPuBv0wcX/o2R2yLGXcsqzQf9L+2wx+eBpKO7IzGSUPIweQbX8eqW6v7j6kIsv1j/lRxJoxlG/WUM/P/lk/ZJ8H24ifLbGF2AHsHHYKu4AdxRoAHTuBNWKt2DEZHlpdT+Sra9BbvDyeXKgj+Ie/wScry6TEuca5x/mLoq+AP1X2jgasSaJpYkFWdgGdCb8IfDpbyHUaQXd1dnUDQPZ9Uby+3sTJvxuIXut3bt4fAPieGBgYOPKdCz8BwD5PuP0Pf+dsGfDToQrA+cNcqbhQweGyCwG+JTTgTjMAJsAC2ML5uAIP4AMCQDAIBzEgEaSCCTD6bLjOxWAKmAHmghJQBpaB1WA92AS2gp1gD9gPGsBRcAqcBZdAO7gO7sLV0wVegD7wDnxGEISEUBEaYoCYIlaIA+KKMBA/JBiJROKRVCQdyUKEiBSZgcxDypAVyHpkC1KN7EMOI6eQC0gHcht5iPQgr5FPKIaqoTqoMWqNjkQZKBONQBPR8WgWOhktQuejS9C1aBW6G61HT6GX0OtoJ/oC7ccAporpYWaYI8bAWFgMloZlYmJsFlaKlWNVWC3WBJ/zVawT68U+4kSchtNxR7iCw/AknItPxmfhi/H1+E68Hm/Br+IP8T78G4FKMCI4ELwJbMIYQhZhCqGEUE7YTjhEOAP3UhfhHZFI1CPaED3hXkwl5hCnExcTNxDriCeJHcTHxH4SiWRAciD5kmJIHFIBqYS0jrSbdIJ0hdRF+qCiqmKq4qoSopKmIlQpVilX2aVyXOWKyjOVz2RNshXZmxxD5pGnkZeSt5GbyJfJXeTPFC2KDcWXkkjJocylrKXUUs5Q7lHeqKqqmqt6qcapClTnqK5V3at6XvWh6kc1bTV7NZbaODWp2hK1HWon1W6rvaFSqdbUAGoatYC6hFpNPU19QP2gTlN3Umer89Rnq1eo16tfUX+pQdaw0mBqTNAo0ijXOKBxWaNXk6xprcnS5GjO0qzQPKx5U7Nfi6blohWjla+1WGuX1gWtbm2StrV2sDZPe772Vu3T2o9pGM2CxqJxafNo22hnaF06RB0bHbZOjk6Zzh6dNp0+XW1dN91k3am6FbrHdDv1MD1rPbZent5Svf16N/Q+DTMexhzGH7ZoWO2wK8Pe6w/XD9Dn65fq1+lf1/9kQDcINsg1WG7QYHDfEDe0N4wznGK40fCMYe9wneE+w7nDS4fvH37HCDWyN4o3mm601ajVqN/YxDjUWGS8zvi0ca+JnkmASY7JKpPjJj2mNFM/U4HpKtMTps/punQmPY++lt5C7zMzMgszk5ptMWsz+2xuY55kXmxeZ37fgmLBsMi0WGXRbNFnaWoZZTnDssbyjhXZimGVbbXG6pzVe2sb6xTrBdYN1t02+jZsmyKbGpt7tlRbf9vJtlW21+yIdgy7XLsNdu32qL27fbZ9hf1lB9TBw0HgsMGhYwRhhNcI4YiqETcd1RyZjoWONY4PnfScIp2KnRqcXo60HJk2cvnIcyO/Obs75zlvc77rou0S7lLs0uTy2tXeleta4XptFHVUyKjZoxpHvXJzcOO7bXS75U5zj3Jf4N7s/tXD00PsUevR42npme5Z6XmTocOIZSxmnPcieAV6zfY66vXR28O7wHu/918+jj65Prt8ukfbjOaP3jb6sa+5L8d3i2+nH90v3W+zX6e/mT/Hv8r/UYBFAC9ge8Azph0zh7mb+TLQOVAceCjwPcubNZN1MggLCg0qDWoL1g5OCl4f/CDEPCQrpCakL9Q9dHroyTBCWETY8rCbbGM2l13N7gv3DJ8Z3hKhFpEQsT7iUaR9pDiyKQqNCo9aGXUv2ipaGN0QA2LYMStj7sfaxE6OPRJHjIuNq4h7Gu8SPyP+XAItYWLCroR3iYGJSxPvJtkmSZOakzWSxyVXJ79PCUpZkdI5ZuSYmWMupRqmClIb00hpyWnb0/rHBo9dPbZrnPu4knE3xtuMnzr+wgTDCXkTjk3UmMiZeCCdkJ6Sviv9CyeGU8Xpz2BnVGb0cVncNdwXvADeKl4P35e/gv8s0zdzRWZ3lm/WyqyebP/s8uxeAUuwXvAqJyxnU8773JjcHbkDeSl5dfkq+en5h4XawlxhyySTSVMndYgcRCWizsnek1dP7hNHiLdLEMl4SWOBDvyRb5XaSn+RPiz0K6wo/DAlecqBqVpThVNbp9lPWzTtWVFI0W/T8enc6c0zzGbMnfFwJnPmllnIrIxZzbMtZs+f3TUndM7OuZS5uXN/L3YuXlH8dl7KvKb5xvPnzH/8S+gvNSXqJeKSmwt8FmxaiC8ULGxbNGrRukXfSnmlF8ucy8rLvizmLr74q8uva38dWJK5pG2px9KNy4jLhMtuLPdfvnOF1oqiFY9XRq2sX0VfVbrq7eqJqy+Uu5VvWkNZI13TuTZybeM6y3XL1n1Zn73+ekVgRV2lUeWiyvcbeBuubAzYWLvJeFPZpk+bBZtvbQndUl9lXVW+lbi1cOvTbcnbzv3G+K16u+H2su1fdwh3dO6M39lS7Vldvcto19IatEZa07N73O72PUF7Gmsda7fU6dWV7QV7pXuf70vfd2N/xP7mA4wDtQetDlYeoh0qrUfqp9X3NWQ3dDamNnYcDj/c3OTTdOiI05EdR82OVhzTPbb0OOX4/OMDJ4pO9J8Unew9lXXqcfPE5runx5y+1hLX0nYm4sz5syFnT59jnjtx3vf80QveFw5fZFxsuORxqb7VvfXQ7+6/H2rzaKu/7Hm5sd2rvaljdMfxK/5XTl0Nunr2GvvapevR1ztuJN24dXPczc5bvFvdt/Nuv7pTeOfz3Tn3CPdK72veL39g9KDqD7s/6jo9Oo89DHrY+ijh0d3H3McvnkiefOma/5T6tPyZ6bPqbtfuoz0hPe3Pxz7veiF68bm35E+tPytf2r48+FfAX619Y/q6XolfDbxe/MbgzY63bm+b+2P7H7zLf/f5fekHgw87PzI+nvuU8unZ5ylfSF/WfrX72vQt4tu9gfyBARFHzJH/CmCwopmZALzeAQA1FQAaPJ9RxirOf/KCKM6scgT+E1acEeXFA4Ba+P8e1wv/bm4CsHcbPH5BfY1xAMRSAUj0AuioUUN18KwmP1fKChGeAzaHfs3IzwD/pijOnD/E/XMLZKpu4Of2X7/4fEh7J+4FAAAAOGVYSWZNTQAqAAAACAABh2kABAAAAAEAAAAaAAAAAAACoAIABAAAAAEAAABhoAMABAAAAAEAAAAeAAAAAEu/6JkAAAejSURBVGgF5VkJUJNXEJYA4VBBBCKI1AOUswpKKiB4MQjKKFMEOTzGC9tGpkRaBYfx7DhTKko5lap4VFEI8cKhWFEMiFBRooijxYmKWq2AHAlECCTph7/9+U1CVKz1IPPPP/v27dt/3/d29+170ZDLm/r1sV9HR0d7u4ScNJ2uTafTyaYyoaXM+uQ5Dx78FRf3c2tra2hoICZ77VqVvn5/NvvrnibeFzEaNWpEc7PIzY3p5+cDXBwd7YODl6jBiNYTeJ82v6bmvpfXFGKOXO5xK6tRaubbF/2otPQSjaZZWVl148bNp08baDSt9PSEvohRYuJOiaSdOnMtLe1Vq1jgFBeXjh49MiwsiNqrhv5k/cjX10smk1FnTqO9SCzwIBcXJ2qXevqTxcjGZnRPM79z596aNeyeepX5fStni0QtGRkH7e3tKiqutbW1KcOhkqPRB2tIlUCoYfYtP1IDhJqujzsfVVcL0tJ2q5ne23d5eU3+6GNNLpe/PRBqNGhoaKjwo507M9rbX6osoMLWdszUqR46Ojpq1L2XLszhXX9XRT5yd5947979/fsPy2RyT093PNbWVgcOHPH3D62pefCuDeqdfmxYVIe6dau6sbH7PkMqlba2iknNN2/+efu2gGw2Nwurqm4+e/ZimxMKRUQXqVMFRmPHOmAYKi4ci8ePH4fHz29GcvJPTU2i+PgkUvUHQtTW1mVlcefNW0z4Pt6xsT8AESxqYWExysjMTM7SpRFnz/JgMPb77dtTxeJnOTknWKzvgB3qSYiBz2JF5eb+BpnExDRf37mhocuiozcQc1SBEToEgrsmJsZmZgxCCG/4FH5NTc0k5wMhGAzT4OC5pDE5OSclEsmECU5BQf4JCWlYaZw5DAwGEBF5925NQUEhegMCZpeVldfVNcTHp3R2dri4OPv4eCUlpUOPmdmQWbNmhITMTUnZSgSyCowAbUtLq63tS3VqWdmljg7JmDHWpDXvi6DGlLINcAojo0HgDx1q/vjx348ePQGNtE5kdjs7m7y8HHCKiy9aW49iMIwdHGz09fXBkUg6AC4IHHEROvX1T+EoaOKnImfzeCVSqYzJdCEk8BaLxenpe7FiERErSGavCfg/YY0aDdra2pqamgoCXG5ufv7vmAPhKRER4aQACRycgjyl4UMymRQyXSEg7z67HT2ae/58SWQkC14WHb2KEABqhD/K5dJBgwzDwgLnzw9PTY03NzdTgdGVK1ehViRqzso6ivHwz8uX+djXVq/+llgi0jIFoqSkrKjoIqJ96dIFI0cOh13btqXq6NCFQmFs7PekMFID4dUkR5mYM8c3PHwxlf/jjwlnzhTu25dmaTkMU/fx+ZKKESmJ6KDRXlQDMIDgI9Co2x8CzcbGesmSlQcP/kJExuHDOc7OY1msZZBfsCBYV1cXxLBhFrt2/bp+/WoVGMHHjI2Nzc3NiQ/AP3Gl8Mpdv6Ghcd26LUeO7GWzo+vq6oFRenpGdXV1UFAALCBUEW9v72l4qJxX0qdPn0ViBtAEQNnZx0CoHAVn/xeZfnp6uoaGBoSYXN5VIhw/npedzc3M3OPgYNfZ2YmUBIw4nGOdnVIWaznOurhO2rw5Ljc3C8JAVixuBaGIEZIRLnonTHD2959FaH/NN7ZbfInBMIEFxJDr12+YmjK8vafieU0lPYkdOpSNa/miotILF8qwe1hZjUhMjCOFuwJJJsc1PtYfGTo1dRe6eLwLLi7jBw4cABqpA/f8IGg0DaQhEHx+JRROmeIBIwsKeE5On+/YsQcARUZ+ExLSdckNBO/ff7hlyzrQihjxeBcBuasrE31qfthc4SZ6enpYB1x6oqZ48qQWtsIHhwxhDBjQ/+HDR+3t+PuhDaXWiBGfUVUhGJFNqRxl2th4MJICycf1M6IjKakbF7ILe/+5c0UeHhO53JOuri7jxjmiZMGEUQRs3boZUcnhHIdT19bWIg/MmTMTth06xMG1/969qcOHW6JEsLAwh+NDIeYCTJlMZ/gpwiImJsre3hZ8RYz4/KtaWlqenq6kESqJhQu/QgB6erqFhS1DBkWhUFLyh1TaCe2zZ890dLTLzy+or69vaWlBgoyKWklVcvlyxY4dGVSOMo2KDHmB5MPtjYwGk00QuNzA7gMCwYV9mto1bZonHpITHBxA0iCmT59MbS5aFEJtggZSeKhMRYwEgnsmJkYWFkOpQgr0qVP5SMPu7l+A7+bmyuGcyMhIwcVoeXnF2rVRhPDy5Yv4/OuDBxsqAITeyZMn4VHQqb6J+oVaGWPxhcIWAiP1A/+T3m6MNm2KQ7wg/yNQ2ewYLE5PEYdUh3BFqQoL8HcePBkEIpSo0yhmdW+3FGZvSDabtWJFZFTUWkPDQY2NjU5OYyMilvdGUa/GdGO0YUP0a2owNTWl03UUfPj52JeOl8CM2E1eU60aMSSRzMzdyGKo9JBE1Ei+iy4VdfYrPxMY6N/U1CgQ3CEk8/LOEAQSJHXs8+aLCoXK7zWNcu7/BwjWam7cGPOmRhsYDLS0tDx5Mh9VQnk5f9KkiSJRS3JyelsbUtIVRCj2YNSfFRWVxH7HZI5/0098UPK9v2PDoRn3CajTlA8NH9QM396YfwAktmLA/3jo1AAAAABJRU5ErkJggg==)\n",
        "\n",
        "    c. Вычислите интенсивность солнечного света на поверхности, учитывая атмосферное давление и угол падения. Используйте логарифмическую функцию (`math.log`) для моделирования затухания света в атмосфере:\n",
        "\n",
        "      ![image.png](data:image/png;base64,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)"
      ]
    },
    {
      "cell_type": "markdown",
      "metadata": {
        "id": "3irprKAxxcCS"
      },
      "source": [
        "3. **Округление и сравнение:**\n",
        "    - Округлите конечный результат до двух знаков после запятой с использованием `round`.\n",
        "    - Сравните полученную температуру с температурой замерзания воды (0 градусов Цельсия), используя соответствующие сравнения, и определите, существует ли на планете вода в жидком состоянии.\n",
        "\n",
        "4. **Вывод:**\n",
        "    - На основе проведенных расчетов программа должна выводить эффективную температуру на поверхности планеты и делать вывод о наличии жидкой воды.\n",
        "\n",
        "**Ход работы:**\n",
        "\n",
        "- Напишите функцию `calculate_temperature(angle, intensity, pressure)`, которая принимает угол падения солнечных лучей, интенсивность солнечного света и атмосферное давление в качестве аргументов.\n",
        "- Внутри функции проведите необходимые расчеты и верните округленную эффективную температуру на поверхности планеты."
      ]
    },
    {
      "cell_type": "code",
      "execution_count": null,
      "metadata": {
        "id": "rGLRw1Pazivl"
      },
      "outputs": [
        {
          "name": "stdout",
          "output_type": "stream",
          "text": [
            "301.47\n",
            "False\n"
          ]
        }
      ],
      "source": [
        "import math\n",
        "\n",
        "def calculate_temperature(angle, intensity, pressure):\n",
        "    theta = math.radians(angle)\n",
        "    pressure_eff = math.exp((-pressure) / 101325)\n",
        "    surface_intensity = intensity * math.sin(theta) * math.log(pressure_eff + 1)\n",
        "\n",
        "    return surface_intensity\n",
        "\n",
        "temp = calculate_temperature(int(input()), int(input()), int(input()))\n",
        "\n",
        "print(round(temp, 2))\n",
        "print(math.isclose(temp, 0, abs_tol=1e-5))"
      ]
    },
    {
      "cell_type": "markdown",
      "metadata": {
        "id": "5JGzg3RS_8TV"
      },
      "source": [
        "\n",
        "\n",
        "```\n",
        "# Пример №1\n",
        "#Входные данные:\n",
        "Угол: 45\n",
        "Интенсивность: 1361\n",
        "Давление: 101325\n",
        "\n",
        "#Выходные данные:\n",
        "Эффективная температура на поверхности: 301.47°C. На планете может существовать вода в жидком состоянии.\n",
        "\n",
        "# Пример №2\n",
        "#Входные данные:\n",
        "Угол: 187\n",
        "Интенсивность: 6500\n",
        "Давление: 101325\n",
        "\n",
        "#Выходные данные:\n",
        "Эффективная температура на поверхности: -248.15°C. Жидкой воды на планете не существует.\n",
        "\n",
        "# Пример №3\n",
        "#Входные данные:\n",
        "Угол: 210\n",
        "Интенсивность: 24000\n",
        "Давление: 101325\n",
        "\n",
        "#Выходные данные:\n",
        "Эффективная температура на поверхности: -3759.14°C. Жидкой воды на планете не существует.\n",
        "```\n",
        "\n"
      ]
    },
    {
      "cell_type": "markdown",
      "metadata": {
        "id": "nLwGZB0cl6Px"
      },
      "source": [
        "# Дополнительно:"
      ]
    },
    {
      "cell_type": "markdown",
      "metadata": {
        "id": "tok0rhVPbOjb"
      },
      "source": [
        "### Комплексное задание: Анализ и обработка числовой последовательности\n",
        "\n",
        "#### Цель:\n",
        "Разработка программы для анализа и обработки заданной числовой последовательности с использованием представленных математических функций.\n",
        "\n",
        "#### Задачи:\n",
        "1. **Подготовка данных:**\n",
        "   - Получить последовательность чисел от пользователя или сгенерировать случайную последовательность вещественных чисел.\n",
        "\n",
        "2. **Обработка данных:**\n",
        "   - Используя функцию `modf`, разделить каждое число на дробную и целую части.\n",
        "   - Для каждой дробной части применить округление вверх (`ceil`) и вниз (`floor`), сравнивать результаты и записывать в отдельные списки.\n",
        "   - Для каждой целой части вычислить абсолютное значение с помощью `fabs` и затем использовать `copysign`, чтобы присвоить знак следующего числа в последовательности. Если такового нет, использовать знак предыдущего.\n",
        "\n",
        "3. **Анализ данных:**\n",
        "   - Вычислить НОД (`gcd`) для пар целых частей, начиная с первого элемента.\n",
        "   - Для каждого числа использовать `fmod`, чтобы найти остаток от деления на следующее число в последовательности. Если следующего числа нет, использовать первое.\n",
        "   - Проверить, есть ли в последовательности бесконечные (`isinf`) или нечисловые значения (`isnan`), и исключить их из дальнейшего анализа.\n",
        "   - Использовать `isclose` для сравнения каждого числа с последующим, учитывая приближённое равенство. Зафиксировать пары чисел, которые удовлетворяют этому условию.\n",
        "\n",
        "4. **Дополнительная обработка:**\n",
        "   - Для каждого числа в последовательности использовать `ldexp`, чтобы умножить его дробную часть на 2 в степени, равной его порядковому номеру в последовательности (начиная с 0).\n",
        "   - Проверить каждое число на конечность (`isfinite`) и записать в новый список только конечные числа.\n",
        "\n",
        "5. **Вывод результатов:**\n",
        "   - Вывести исходную последовательность.\n",
        "   - Вывести отдельные списки, полученные в результате обработки данных.\n",
        "   - Вывести анализ данных, включая пары чисел, удовлетворяющих условию приближённого равенства, и список конечных чисел.\n",
        "   - Вывести результаты дополнительной обработки.\n",
        "\n",
        "#### Технические требования:\n",
        "- Программа должна быть написана на Python.\n",
        "- Использовать модуль `math` для математических функций.\n",
        "- Предусмотреть обработку исключений для нечисловых входных данных.\n",
        "- Предусмотреть интерактивный ввод последовательности чисел или возможность генерации случайной последовательности."
      ]
    },
    {
      "cell_type": "code",
      "execution_count": 10,
      "metadata": {},
      "outputs": [
        {
          "name": "stdout",
          "output_type": "stream",
          "text": [
            "[56.508545917017784, -31.198642467199207, -83.11394198072475, 86.4687959484881, -51.14665955310824, -29.62766252439934, -29.01308497955381, -76.09787459167536, 0.7518947689561202, 13.565106793721142, -17.132109013076118, 46.38115773403953, 51.88300169066531, 41.841496714322574, -13.540004523435158, -11.403662143062363, 35.8594133755272, -36.47540072361517, -71.32733765812861, 50.748355224993276, -37.565253322604875, 76.86601149288128, 17.979611232698403, -40.15718639615222, -29.630469190817266, 16.670586130174, 83.27618136694272, -29.468532304009628, 3.482091075884796, -51.21024248096848, -74.35335027307246, -4.6704489571225025, -97.6419870545605, -83.09392775070313, 12.044734652021873, -34.10538093776816, 90.42970915682241, -29.58376926384645, 7.003313151631275, 78.12864860628238, 51.367981041007425, 77.15898769777533, -11.859454049245912, 37.72958819779035, -5.172001109581231, 45.934604974330284, 23.821606666824096, 72.99492965277892, 61.231956514852016, -90.5192959193333, 97.15262641059809, 26.010158138481472, -90.60078876131483, 21.53492603289429, -96.22784036676977, -49.69295899219532, -41.88635865528434, 39.86032793226789, -22.92202316816936, -5.3154782780249406, 7.754834426524383, 26.44254686406775, -7.1936213772404045, -43.349469504074435, 77.59552482228253, -24.438928466528708, -37.56925416544945, -30.188590278272613, -14.859054053186242, 73.76602802534455, 41.352565300528056, -12.26132893163583, -18.599935957152212, 14.74171175381909, -39.06232622086969, 72.47714931171447, 13.317439742469702, 70.45200726640707, -5.505826701105775, -20.271933906626046, -59.78621037888594, -89.61370358594642, 32.831102260003775, 77.81402498401806, 16.84681092730898, -48.53244913455461, -92.26836634894396, -6.334465373273332, 49.611908273619235, -39.85657979471973, 90.43371060568671, 45.65266276557921, -12.690608464766925, 73.42786512257453, -94.28930418113923, -77.53335506024708, -50.57653249536751, -44.57660498230076, -14.334914693298401, 74.13842300136665, 13.31322419397749, 39.583518394618125, 46.591368362529636, 93.0018223132736, 85.56205323401221, -42.42770579470785, -42.574339333403024, 54.0272151680378, -34.01640538330568, -27.468995760121544, -7.918259635668321, -32.11196210827305, -18.008956447076585, -62.81390039666066, -71.3339482023128, -18.487564695781458, 43.58289066305588, -93.41659684450639, 95.4464102605881, -48.0863013664407, 33.51666171234072, -35.99103056745618, -17.648870066689184, 7.750898756757579, -27.629168304925926, 73.56369547719112, 62.72068379601103, 20.16519453578924, -58.08904148664775, -32.92594150272939, 45.560641244159115, 80.24702286712065, -76.69238386642117, 41.28197043725325, -87.51663930384213, -9.283109278818813, 27.79369421956784, -71.48236089027537, -92.34547624830016, -73.39892196696502, 82.95905316490064, 46.77730680877633, 73.78957151154222, 88.39713963544384, 37.48406044227525, -23.357463904240873, 61.89755084004841, 5.225414774892755, 27.803309273342137, 63.992595982967885, -51.43979340630034, -87.80753660149506, -72.27160974248986, -60.4994847839589, -85.06878174467833, 27.77434921792397, -46.100040380493624, 57.89079708662507, -5.601362490369354, 55.90728985004006, -65.9504942484805, -79.3486116861452, -86.14887928192621, 72.07370610709287, 41.343068701055074, -65.88247244622916, 45.369720313475426, 44.32895982915116, -87.00796890476997, -30.28006578968163, 39.01061695893125, -68.75693954737056, -64.35218605792053, -76.53252494523097, -16.402760761317055, -62.50553489509079, -15.947623787713326, -80.44291497417322, -13.257172670182712, -38.63950282267514, 32.22126172693706, -36.52013763854085, 69.78980130564742, 8.613121269237368, -26.545166999613315, 15.539993613118412, -89.52541273636658, -0.24672334529950035, 3.486249908882442, 61.55712332338376, -76.05969380292312, 19.958824323288525, -39.90935638790596, -61.98058836576057, -39.91717301142845, 60.282524871896214, -49.08996039488485, -23.738211767046096, 41.075695957328975, 98.05183838429915, -0.719166150880767, -32.424338373222966, 7.347506316801216, -73.14108924101141, 74.38221585817575, -78.83667036872164, 90.50526246414276, 79.10020255972748, 79.3272500836481, 44.372946095363545, 0.21327214584043475, 22.977397850844667, -81.69188249991191, -38.91013605069307, 31.1910306198468, 5.742082877740003, 23.002656171709518, 80.5375699698701, -37.02434676910313, 31.158510297980712, 67.8385003300586, 96.46013370476146, 47.127742549495025, 2.7106226733186105, -14.671305873339307, 18.67518020680818, 48.92777139030426, -15.866054157838903, 2.983266953004531, 9.269125183097373, 11.806681496410448, 56.19423338500394, -15.568512059688572, 21.977814651674322, -69.81823060160903, 24.12036365979209, 21.108090288368842, 16.79864550214245, 18.860562976554434, -43.84153175864623, -53.84212106590902, -29.401441835380353, -20.470360814942097, 58.675987378168, 46.03469453540359, -25.663998979757196, 69.38790029316974, -39.80994554702204, -74.00866882202251, 14.514606813580585, -72.43994759220283, 53.217581626883884, -99.09139547317871, 88.25029558382465, -66.2971896506802, -78.90912315856065, 59.94861524488755, -90.58949496668312, 30.141405852836556, 90.68602789509407, -62.11614810119206, -92.39733720617487, 44.23394303200777, 91.13264973820515, -3.863159819812182, 10.297890323625694, 59.18028504772576, 11.504342801580833, 24.015620828591082, -48.75634644781268, -51.281465003335214, 94.48710826950736, 48.312374738545714, 73.00894638160719, -78.94737739327844, 79.42486979132573, 18.431124385766708, 9.038826020635526, -14.468774565156778, 13.925980866625423, -66.10116109617869, 67.945962905297, -20.95315292854545, -9.82348576522709, -35.82069401668558, -45.923323205488465, -22.64500843958723, 86.85770067477321, 41.84358673037306, -24.49860512796964, -55.90366073422053, 93.1551087918844, 3.510646953526006, 60.71606717462899, -62.707468230547626, -11.465353856358547, -30.22267565415666, -0.23478308364342126, -73.4807499340574, 44.97562310741563, -56.36784643188302, -32.16201750377947, -18.760242969534843, -97.8019963523759, 42.96485088754747, 85.98478079810346, 20.548390045142668, 94.18051619453524, -68.27903875972862, -34.52383782991805, -24.123974541868193, 13.18666941121731, 80.66552322690993, -89.60409321860303, -22.280173652477913, 87.77033973481832, -45.74813483142024, 52.6427171149806, -0.29959994248667954, -58.596293987318184, -43.67563919871576, -44.75346081817975, 22.409276827112777, 48.918166163664125, -40.89691187677247, -68.57981066998008, -8.505774958325233, 93.26089015081953, -93.90406600177369, -58.06604202002617, -45.82660829023466, -66.1736214903206, -32.87721827997521, -46.42680218527375, 3.2598815027396313, -18.962474620719718, 11.392242439365077, 29.835128898896784, -80.90840071070954, 97.42535522185787, 81.5952595149077, 63.68167626456918, -97.68372615773369, 80.53189192143552, 17.395090744522506, -48.741875703787386, -18.39655188611384, 83.3306891846992, -64.4906637131601, -80.26245846971942, 72.90717995123674, -46.14581625400778, 87.13324476846407, 15.992717338034936, -84.84589531200263, 71.5022811063912, -31.88232151534808, 48.02964640717917, 97.35243573978983, -8.719764781073195, 27.09044064532928, -51.208261197259056, 74.71088553408381, -17.72237827791598, -23.85221615857091, -75.88938176548425, -77.57290608618759, 70.68323562265718, 91.14690781358067, -58.261345120328926, 1.825757520055987, -80.80374060339659, 44.19573216577854, -8.745706953789863, 32.75189700385468, 43.47921833073124, -57.14320476073671, -66.99813314667588, 27.185137772881802, -61.19003159347245, -40.65328077301318, -44.905491844638014, -74.13132935499146, -45.619455304117174, -42.36885243283823, -30.82799691752298, 39.68520739376336, 92.64654960116226, -37.18617678900975, 62.79465009681999, 56.121674878566694, -69.98231604675564, 9.549930652818745, -30.764117742228052, -6.354942535270425, -32.49720263386868, 51.46782853553063, -79.63712293334618, -25.221727915948705, -63.376192675043754, 79.15450568860675, -13.798868947939383, -18.001799589316363, 43.881887115412155, -79.51716151272788, -55.004575462364926, 17.606062778437817, -88.45425956494195, 54.355025025768214, 12.129160075769036, 47.24872524175103, -6.157593374149911, 77.15075009650195, 95.94128122224615, 66.58883242821295, 95.01955355392548, 80.76035757425129, 62.961955913092794, -25.712002351141933, -59.93795342634722, -51.399918964707346, 60.741831334250804, 13.346738321500425, -96.12991371623009, 12.95785745678566, 2.362908310224455, -75.58948940314338, 29.310838990487866, -81.68990897219342, 78.86637544370512, 27.584649309930313, -58.172065385160884, -9.784317878678905, 0.518556527743911, 73.2598015209727, 45.91298642751315, -30.891705296069773, 43.5420750147112, 20.509509222426914, -67.93494096636547, -58.57970335366836, 57.09330211330524, 31.261053789373477, 8.648537111518294, 58.18786180954609, -99.54290760017341, -68.24307541036127, 44.835864581009844, -5.342203387460785, 70.02743722158974, -8.177334936472747, 2.153910402027819, -30.837924251949048, -26.673842571662433, 78.31109537226831, -35.0374959817413, -7.562817686403207, -24.24264124574536, -68.15352498924125, 57.509111607481145, 68.09391107293618, -19.513644056301786, -12.649352347484367, -6.203300922142944, -9.96437946334116, 52.25521302845462, -65.74138776862664, 46.73242282850046, -33.54602740687508, -55.00735388195193, -92.14483828142168, 2.4569575912564545, -6.790826802857765, 36.00808280183071, 17.52508212059793, -10.505418217802841, 2.0743412953557936, 14.647329334298192, -8.5200207912455, -9.274428629776324, 11.698613071256744, 47.7451955424884, -23.650928945290772, 48.22460922503424, -3.073516102258168, 61.172763914562296, 83.56192140872795, -25.93143789201733, 23.20404469781427, -86.97106554497425, 84.23353255348843, -84.74712884862214, 27.011434937300294, 0.6790937846084404, -61.515727855898426, 93.0437982555602, -1.8532870650467714, 30.511646868923123, -33.136716114407164, 16.903438263399863, -52.11357437687687, -97.44895370438414, -70.90502966843431, 57.29241858036775, 25.040997743128912, 12.844451745630536, -36.27714749915762, -73.75587763595334, 95.97061235644989, 40.42940567624541, -64.12029267883244, 56.371764156155365, 65.18989166164758, -22.373085017991585, -84.79535036374735, -21.863436470272674, 1.7809676371896899, 45.4468220918437, -22.633099819291715, 93.15641728829723, 92.47856167077589, 49.13354915031843, -91.59804989993113, 24.509647353248724, -28.775298483093565, -49.799282916349476, 72.85623516262942, -27.34673771877955, 12.335745065720772, -29.936716768984, -30.35267561621022, -66.05185857208954, -70.46941813581034, 80.8762733199006, 94.30241690914758, 77.74686771943013, -74.46217317286785, -18.965025765891227, -6.375512781800424, 42.32066563253798, 73.80977026596045, -86.67061918399537, -48.666237023077706, -49.070486223400025, 4.064364426143754, 9.459550305760317, -74.93050980318256, -4.441505420975105, 49.20873344540081, 10.587101075003844, 53.59909568844995, -99.20031477485158, 17.666447915780694, -92.81411189693654, -39.77476762559176, 42.17916922027871, -34.82948287851329, 18.543999803221524, 97.8660460310594, 27.263950292071755, 92.37886228960775, -23.309819170479756, -21.002749305856057, -99.80087108032917, 7.911942710559799, 87.46840068315194, -4.490579617367402, -98.12808631062282, 21.668795406240136, 8.56791864705157, 35.13334166796383, -36.9008508488786, -63.69734932235682, -40.51746097177917, -50.161943903815384, -96.32130803631995, 26.39833160336221, -32.02980554397317, -26.323404229026565, -56.894240087647496, 10.45949751693999, 61.73234439711638, 48.900321126631894, 15.287994533202507, -80.01436018892647, -28.25411818621575, -80.39399161772604, -63.51652882995398, 77.31279432894408, -50.903861582900724, -35.57111082208104, 82.578138849949, -66.83590707934644, 40.20977515447518, -65.9032926060396, -72.82445989786173, -81.81570832947966, 67.3696193455784, 67.47968264019781, -56.31939242194921, 14.615074190240037, 33.68228513143703, -68.01842305043454, -15.658588773062831, 85.8496302021598, 40.53337608749311, 59.32911472589794, -40.7373682359288, 80.48102956441662, 46.83710172407217, 27.839485820886026, -68.6459872373931, -58.354498668789724, 89.5472186957584, 71.26182624868605, -52.593806390537544, 39.2053661805102, 51.470328423589365, 64.22880282119453, -82.37683519619665, 23.850602868718582, -75.1631933405374, 50.251464391983006, -60.02901786381132, -25.91818192093875, 39.37064422265678, 28.03379862437069, -65.37488983870972, -95.49697414778755, -5.614989843693593, -93.61782604737003, -2.189318583149685, -41.23358297239885, -33.50050358111072, -21.769702441976023, 57.45929012338365, 72.45282820095957, 38.662564211213294, -31.051548000125464, 69.67428506891355, 67.07837784407465, 33.154546449346356, -3.7616442586702874, 45.72198051265056, 32.0238559940812, 45.17646345457703, -81.90215900695013, -9.73158529095086, -51.886289434621766, 50.20390107363866, -47.60284345901131, -54.75033541048611, 26.755033670198756, -84.02960466578888, 27.025345786930018, -87.00822201901525, 37.86720691378173, 94.62234062511027, -86.2252122667623, 19.110074044325344, 59.44309227166963, -59.1290032187922, 56.43487728734746, 19.226198043087166, 38.22481543248685, -96.74284373500024, 77.08413100177273, -67.82579259590544, -20.730317630542828, 80.54884211118252, 22.5551317634238, -71.1615084677532, -15.329050509306128, -58.57185735319619, -52.668093669108096, -64.9282908855998, 22.20668868526647, 77.66063564318574, 16.942242696533995, 72.76877826594489, 61.566080905157065, -51.10934181245818, -53.77688569846421, -23.63660472556856, -51.409588465981535, -37.25886693829232, 95.29990391232326, 69.36709136462039, -77.00744621074517, 37.44353641327973, 10.686065129225895, 35.04521578337784, 1.8924582589587686, 18.859645062561455, -98.44981104903442, -9.587261291665271, 4.200445744655639, 90.19115905120628, -0.7203329584006894, 20.75366659140998, 6.3326083061137695, -1.328020636952786, 48.537940886580884, -26.924823693349254, 87.84401239876618, -15.25749548358381, 41.75219281970115, -51.48970940114373, -37.52773288475111, -58.33538447776607, -81.97007668372396, 94.93280666194872, 21.320200145938628, 34.479778310648925, 94.40209881210808, 4.5721706129406385, 49.38675721547244, -27.380967353104623, -70.98246308990426, 66.11894302344984, -22.367253270458647, -76.52696793434781, -10.460612749076105, -73.35517659533733, 45.0591092716098, -14.971037312717158, -96.14051140693758, 20.213266909629837, -30.112071332129204, -53.187518860545424, -15.264586978581846, 58.29251311253009, 24.612244276370745, -26.970848058445213, 86.15700167972827, 45.74590025995681, 42.409930489224706, -59.049727799172636, -50.78146022359369, -52.85531146421645, -86.44225279417088, -99.21672610525916, -78.84962285534421, 52.40388562067017, -12.941205731995083, -16.19748244353154, -38.16766383867866, 84.00020936221017, -41.56803866402714, 15.481899581593936, -73.80368683710864, -89.19315248390866, -64.85299351639506, 90.24582415869642, -91.2885526339653, 66.2641040860145, 82.09218512542034, -93.32991279507428, 3.3791910506035094, -90.51200100974481, 85.45205518723685, 53.35247493539518, 10.776353995457825, -39.18252547402184, 22.156710074987245, -33.23560585003908, -20.03557492259577, -12.318469892399037, 26.149612680757215, -65.79388740413603, 32.077414346373985, 62.396079842341464, 76.11311690889974, -30.61061388120629, -63.037092683625474, 81.67995447419463, 23.00883153992035, -61.735234151243205, 28.474193734690715, 20.024235935127436, 0.8879610837694116, 24.71322978292632, -67.67348594102513, 1.4324741029197554, -87.59356233088478, -29.094267663752916, 76.17905314097143, 61.00684235333395, 98.35434468077784, -67.97060355445839, -98.77045891630512, -89.90880846202667, -57.31544162136488, -51.694624118407084, -54.45767398465877, -50.38663247403896, -75.90227314841185, -7.262806247917936, 46.22177832183095, 38.14850323282201, -54.07641004563748, -62.06805631589063, -81.57643145132042, 22.37057325843699, -95.07304929354916, 0.3425748219203655, 62.49411082895705, 62.1143601563177, -91.65078719477128, -54.21273416584034, -11.677867702142521, 4.315306370407583, 91.31943374752149, 22.73168754145425, -4.0452889655608, 98.97440579208606, -68.32031430454101, -86.73023607350592, -52.061138553895915, -31.15856834714444, -51.80423987549598, -70.59118726911875, 18.418581841691434, -13.922258938882209, 3.4886623150810294, -14.025441176814653, 32.25397010444138, 44.833066342963264, -96.27135022691049, 8.386032037498879, -31.976184774339472, 99.41346262340986, 32.1537964037295, -75.00712093801505, -85.83476558978056, -18.172024942707907, -90.37987240668494, -86.86320911593026, 2.92534400782867, 86.60639602875361, 41.91953103351349, -48.98493051012609, 48.97511823861777, 72.70749003851395, -97.2964666873932, 37.72305148894537, 90.54996778817352, -48.98727506452436, -19.746120285263217, 50.81883953319738, -96.02749116890972, 61.298792336864835, 33.084831183326656, -87.1978667064657, 16.155662054137522, -86.9379276582243, -92.67587206372865, -2.7649923764698485, 29.211604781820824, -70.30977540419852, -65.19931322944086, 91.73190305601136, 71.70882996904143, -96.51752773602938, 86.56646976940186, -58.46849539707477, 4.971980188071797, 50.62742152905463, 20.10582924350399, -71.40894837853322, -75.28056315284665, -15.803200523154757, -57.61625942040973, 22.406032813274976, -88.69871426200328, -55.47310124531704, -26.82846003371108, 44.11259073290063, 98.95110687538568, 20.04592207032323, -59.42366813672129, 17.02046227035288, -71.28954760045549, -75.14323600508087, 8.567398586198905, -76.61423000510985, 57.056164040231664, -15.120193053028984, 50.48031102714424, -14.009141700804648, 24.970931308990288, -27.27528438075977, 20.011465465728378, -57.43936017014588, -64.45792802681885, -64.26036146734428, 76.24207801578984, 75.78163189259496, 23.581294266294165, 28.89383374984439, -98.92467065360981, 27.141204022728175, 38.62757966396737, -38.97102902892231, -49.36971514393254, -19.438036613377548, 95.6676181800207, -14.744439656499964, 43.66722115834651, -59.06416686218694, 32.67309335860372, -82.15853159565162, -2.687008942214902, 18.32901549092925, 15.1579527356281, -29.951628263736055, 67.455873803435, 39.86091410977372, -76.2498216493328, 32.88688764161108, 71.37884824809873, 71.05231995272698, -17.616113204943204, 38.636000527634366, -46.39215628390154, 52.21903902459769, 63.79634005515081, 54.67579606051871, 19.790602329336934, -75.36595792924096, -82.57183133462345, 19.293838987438107, 95.97872762613022, -38.80955515853197, -55.58234052200923, 40.99361936550858, 2.6158318221835515, -38.77102765860185, 98.29392164068423, 32.857422587515885, 69.04745769359505, -95.74132468425991, -37.302333550813806, 67.79642010398507, -28.625935321725635, 55.311629690865146, -66.30522054595909, -29.842081758894352, -90.7462032708315, -91.51306354953157, 26.70582119492184, -81.56540742720108, -75.85686346489548, -86.07604089291436, 60.758874178640156, 20.77696735370094, -21.128097211778837, 90.96413445032115, -97.0155354022349, -76.3336018606181, 41.891662549557225, 70.83920036065038, -42.58661715227954, -2.592430750702718, -16.142117597751863, -84.8234569808461, 77.8878517780889, 44.36559743416285, 7.801290425536706, 66.5993081657455, -55.70091952261984, -46.57586067459887, 2.9018443543075847, -1.1423184314441386, 77.98624332925971, 39.97245413884241, 9.696339888096446, 86.29696396181001, -64.765664235087, 30.311475799086622, 16.77956560474196, -82.40397018637857, 19.875429330659358, 46.68840359636505, -7.476993866855381, 41.566738878822775, 29.690763094359625, 42.09584788156903, 98.62353342527163, 37.450586922099404, -28.148056823407444, 17.576852349597488, 88.20136211698534, 69.75960572239265, -93.0368181166956, -11.202044281225838, -93.39172144661528, -26.179924018560087, -45.51920115123931, 2.9959081491585096]\n",
            "[0.5085459170177842, -0.19864246719920686, -0.11394198072474637, 0.4687959484880935, -0.1466595531082433, -0.6276625243993408, -0.013084979553809717, -0.09787459167536383, 0.7518947689561202, 0.5651067937211423, -0.13210901307611778, 0.3811577340395331, 0.88300169066531, 0.8414967143225738, -0.540004523435158, -0.4036621430623626, 0.8594133755271969, -0.4754007236151665, -0.32733765812861293, 0.7483552249932757, -0.5652533226048746, 0.8660114928812845, 0.979611232698403, -0.15718639615221974, -0.6304691908172657, 0.6705861301740015, 0.27618136694272266, -0.46853230400962786, 0.4820910758847958, -0.21024248096848197, -0.3533502730724649, -0.6704489571225025, -0.6419870545605022, -0.09392775070313064, 0.04473465202187299, -0.10538093776816027, 0.42970915682241184, -0.5837692638464489, 0.003313151631274991, 0.12864860628238262, 0.36798104100742535, 0.15898769777533062, -0.8594540492459117, 0.7295881977903491, -0.17200110958123105, 0.9346049743302842, 0.8216066668240956, 0.9949296527789215, 0.23195651485201552, -0.5192959193333024, 0.15262641059808857, 0.010158138481472179, -0.6007887613148313, 0.5349260328942904, -0.22784036676976882, -0.6929589921953223, -0.8863586552843401, 0.860327932267893, -0.9220231681693605, -0.31547827802494055, 0.7548344265243827, 0.4425468640677508, -0.1936213772404045, -0.34946950407443467, 0.5955248222825276, -0.4389284665287079, -0.5692541654494505, -0.18859027827261343, -0.8590540531862416, 0.7660280253445535, 0.352565300528056, -0.2613289316358305, -0.599935957152212, 0.7417117538190894, -0.06232622086969286, 0.47714931171447006, 0.31743974246970197, 0.45200726640706534, -0.5058267011057751, -0.271933906626046, -0.78621037888594, -0.6137035859464248, 0.8311022600037745, 0.8140249840180616, 0.8468109273089794, -0.5324491345546107, -0.2683663489439567, -0.33446537327333203, 0.6119082736192354, -0.8565797947197282, 0.4337106056867128, 0.6526627655792083, -0.6906084647669246, 0.4278651225745307, -0.2893041811392294, -0.5333550602470751, -0.5765324953675091, -0.5766049823007577, -0.3349146932984013, 0.13842300136664676, 0.31322419397749, 0.5835183946181246, 0.5913683625296358, 0.0018223132736068237, 0.5620532340122111, -0.42770579470784753, -0.5743393334030245, 0.027215168037798776, -0.016405383305681198, -0.468995760121544, -0.9182596356683206, -0.11196210827304753, -0.00895644707658505, -0.8139003966606566, -0.3339482023127971, -0.4875646957814581, 0.5828906630558777, -0.4165968445063868, 0.4464102605880953, -0.08630136644070063, 0.5166617123407207, -0.9910305674561783, -0.6488700666891845, 0.7508987567575787, -0.6291683049259262, 0.5636954771911178, 0.7206837960110306, 0.16519453578924015, -0.08904148664775136, -0.9259415027293869, 0.5606412441591146, 0.24702286712064847, -0.6923838664211672, 0.2819704372532499, -0.5166393038421262, -0.283109278818813, 0.7936942195678398, -0.4823608902753733, -0.3454762483001588, -0.3989219669650197, 0.959053164900638, 0.7773068087763306, 0.7895715115422206, 0.39713963544383546, 0.4840604422752506, -0.3574639042408734, 0.8975508400484102, 0.22541477489275508, 0.803309273342137, 0.9925959829678845, -0.43979340630033903, -0.8075366014950589, -0.2716097424898578, -0.4994847839588985, -0.06878174467833276, 0.7743492179239695, -0.10004038049362407, 0.8907970866250707, -0.601362490369354, 0.9072898500400584, -0.9504942484804957, -0.34861168614520466, -0.14887928192621303, 0.07370610709287462, 0.34306870105507414, -0.8824724462291584, 0.3697203134754261, 0.3289598291511595, -0.007968904769967367, -0.280065789681629, 0.010616958931251474, -0.756939547370564, -0.3521860579205338, -0.5325249452309748, -0.4027607613170545, -0.5055348950907899, -0.9476237877133258, -0.44291497417322034, -0.2571726701827117, -0.6395028226751407, 0.22126172693705826, -0.5201376385408523, 0.7898013056474156, 0.613121269237368, -0.5451669996133148, 0.539993613118412, -0.5254127363665759, -0.24672334529950035, 0.48624990888244213, 0.5571233233837631, -0.0596938029231211, 0.9588243232885247, -0.9093563879059587, -0.9805883657605676, -0.9171730114284529, 0.28252487189621434, -0.08996039488484797, -0.7382117670460957, 0.07569595732897483, 0.051838384299145446, -0.719166150880767, -0.42433837322296597, 0.3475063168012156, -0.1410892410114144, 0.3822158581757549, -0.8366703687216415, 0.5052624641427599, 0.10020255972747805, 0.3272500836480958, 0.3729460953635453, 0.21327214584043475, 0.9773978508446675, -0.6918824999119124, -0.9101360506930689, 0.19103061984679925, 0.7420828777400033, 0.0026561717095177073, 0.5375699698701055, -0.024346769103132715, 0.1585102979807118, 0.8385003300585936, 0.46013370476146065, 0.12774254949502506, 0.7106226733186105, -0.6713058733393069, 0.6751802068081787, 0.9277713903042581, -0.8660541578389029, 0.9832669530045308, 0.26912518309737266, 0.8066814964104481, 0.19423338500394038, -0.5685120596885724, 0.977814651674322, -0.8182306016090308, 0.12036365979209052, 0.10809028836884238, 0.798645502142449, 0.8605629765544336, -0.8415317586462265, -0.8421210659090193, -0.4014418353803535, -0.47036081494209725, 0.6759873781680028, 0.034694535403588134, -0.6639989797571957, 0.38790029316973573, -0.8099455470220391, -0.008668822022514178, 0.5146068135805848, -0.4399475922028273, 0.21758162688388438, -0.09139547317870722, 0.2502955838246521, -0.2971896506801954, -0.9091231585606465, 0.9486152448875487, -0.5894949666831195, 0.14140585283655582, 0.686027895094071, -0.11614810119205998, -0.3973372061748677, 0.23394303200777244, 0.1326497382051457, -0.8631598198121821, 0.297890323625694, 0.1802850477257607, 0.5043428015808331, 0.015620828591082159, -0.7563464478126818, -0.28146500333521374, 0.48710826950735964, 0.3123747385457136, 0.008946381607188414, -0.947377393278444, 0.4248697913257331, 0.431124385766708, 0.03882602063552554, -0.46877456515677807, 0.925980866625423, -0.10116109617868574, 0.9459629052969944, -0.9531529285454496, -0.8234857652270904, -0.8206940166855787, -0.9233232054884652, -0.6450084395872295, 0.8577006747732128, 0.8435867303730618, -0.49860512796963974, -0.9036607342205301, 0.15510879188440185, 0.5106469535260061, 0.7160671746289893, -0.7074682305476259, -0.4653538563585471, -0.22267565415666013, -0.23478308364342126, -0.48074993405739974, 0.975623107415629, -0.3678464318830166, -0.16201750377946667, -0.7602429695348434, -0.8019963523758946, 0.9648508875474704, 0.9847807981034578, 0.5483900451426678, 0.1805161945352438, -0.27903875972862124, -0.5238378299180511, -0.12397454186819346, 0.1866694112173093, 0.6655232269099258, -0.6040932186030261, -0.28017365247791304, 0.7703397348183216, -0.7481348314202378, 0.6427171149805986, -0.29959994248667954, -0.5962939873181838, -0.6756391987157571, -0.7534608181797466, 0.4092768271127767, 0.9181661636641252, -0.8969118767724709, -0.5798106699800769, -0.5057749583252331, 0.2608901508195345, -0.9040660017736855, -0.06604202002616688, -0.8266082902346596, -0.17362149032059904, -0.8772182799752102, -0.42680218527375047, 0.2598815027396313, -0.9624746207197177, 0.3922424393650772, 0.8351288988967838, -0.9084007107095431, 0.42535522185787045, 0.5952595149076956, 0.6816762645691767, -0.6837261577336875, 0.5318919214355162, 0.3950907445225056, -0.741875703787386, -0.3965518861138406, 0.33068918469919595, -0.49066371316010304, -0.26245846971941944, 0.907179951236742, -0.14581625400777654, 0.13324476846406696, 0.9927173380349359, -0.8458953120026251, 0.5022811063911945, -0.8823215153480817, 0.029646407179171774, 0.3524357397898257, -0.7197647810731951, 0.09044064532928076, -0.20826119725905556, 0.7108855340838147, -0.7223782779159791, -0.8522161585709114, -0.8893817654842451, -0.5729060861875865, 0.683235622657179, 0.1469078135806683, -0.2613451203289259, 0.825757520055987, -0.8037406033965908, 0.19573216577853714, -0.7457069537898633, 0.7518970038546797, 0.47921833073124276, -0.14320476073670818, -0.9981331466758832, 0.18513777288180222, -0.19003159347244747, -0.6532807730131793, -0.9054918446380142, -0.1313293549914647, -0.6194553041171744, -0.36885243283823144, -0.8279969175229809, 0.6852073937633634, 0.6465496011622633, -0.18617678900974965, 0.7946500968199928, 0.12167487856669368, -0.982316046755642, 0.5499306528187446, -0.7641177422280521, -0.35494253527042474, -0.4972026338686817, 0.46782853553062864, -0.637122933346177, -0.2217279159487049, -0.37619267504375387, 0.15450568860674707, -0.7988689479393827, -0.0017995893163629262, 0.8818871154121553, -0.5171615127278812, -0.004575462364925897, 0.606062778437817, -0.45425956494194963, 0.3550250257682137, 0.1291600757690361, 0.24872524175103194, -0.15759337414991137, 0.1507500965019517, 0.9412812222461469, 0.5888324282129531, 0.019553553925476308, 0.7603575742512874, 0.9619559130927939, -0.7120023511419333, -0.9379534263472209, -0.39991896470734645, 0.7418313342508043, 0.3467383215004247, -0.1299137162300923, 0.9578574567856606, 0.362908310224455, -0.5894894031433751, 0.31083899048786634, -0.6899089721934217, 0.8663754437051239, 0.5846493099303132, -0.17206538516088443, -0.7843178786789053, 0.518556527743911, 0.25980152097270093, 0.9129864275131467, -0.8917052960697731, 0.5420750147112017, 0.5095092224269138, -0.934940966365474, -0.5797033536683571, 0.09330211330524207, 0.26105378937347723, 0.6485371115182943, 0.18786180954609222, -0.5429076001734074, -0.24307541036127134, 0.8358645810098437, -0.3422033874607848, 0.027437221589735827, -0.17733493647274656, 0.1539104020278188, -0.8379242519490475, -0.6738425716624334, 0.3110953722683121, -0.03749598174130142, -0.5628176864032071, -0.24264124574536083, -0.15352498924124802, 0.5091116074811453, 0.09391107293618006, -0.5136440563017857, -0.649352347484367, -0.20330092214294382, -0.9643794633411602, 0.25521302845461946, -0.7413877686266375, 0.7324228285004608, -0.5460274068750834, -0.0073538819519285425, -0.1448382814216842, 0.4569575912564545, -0.7908268028577652, 0.008082801830710196, 0.5250821205979292, -0.5054182178028412, 0.07434129535579359, 0.6473293342981918, -0.5200207912454999, -0.2744286297763239, 0.6986130712567444, 0.7451955424884034, -0.6509289452907723, 0.22460922503424285, -0.07351610225816785, 0.1727639145622959, 0.5619214087279545, -0.9314378920173283, 0.20404469781426826, -0.9710655449742518, 0.2335325534884305, -0.7471288486221397, 0.011434937300293768, 0.6790937846084404, -0.515727855898426, 0.04379825556020478, -0.8532870650467714, 0.5116468689231226, -0.13671611440716447, 0.9034382633998632, -0.11357437687686911, -0.44895370438413806, -0.9050296684343095, 0.2924185803677517, 0.040997743128912134, 0.8444517456305363, -0.27714749915762127, -0.7558776359533397, 0.970612356449891, 0.42940567624540904, -0.12029267883244188, 0.37176415615536484, 0.18989166164757876, -0.3730850179915848, -0.795350363747346, -0.8634364702726742, 0.7809676371896899, 0.4468220918436998, -0.633099819291715, 0.15641728829723434, 0.47856167077588907, 0.13354915031843007, -0.5980498999311266, 0.5096473532487238, -0.7752984830935645, -0.7992829163494761, 0.8562351626294173, -0.3467377187795506, 0.3357450657207721, -0.9367167689839988, -0.35267561621022026, -0.05185857208954303, -0.46941813581034353, 0.876273319900605, 0.30241690914758124, 0.7468677194301279, -0.46217317286784976, -0.9650257658912267, -0.375512781800424, 0.3206656325379811, 0.8097702659604522, -0.6706191839953703, -0.6662370230777057, -0.07048622340002453, 0.06436442614375437, 0.45955030576031675, -0.9305098031825594, -0.4415054209751048, 0.20873344540081007, 0.5871010750038437, 0.5990956884499496, -0.20031477485157723, 0.6664479157806937, -0.814111896936538, -0.7747676255917568, 0.17916922027870896, -0.8294828785132893, 0.5439998032215243, 0.8660460310593976, 0.2639502920717547, 0.3788622896077527, -0.3098191704797557, -0.002749305856056594, -0.8008710803291734, 0.9119427105597993, 0.46840068315194117, -0.49057961736740197, -0.1280863106228196, 0.668795406240136, 0.5679186470515702, 0.1333416679638333, -0.9008508488785978, -0.6973493223568212, -0.5174609717791725, -0.16194390381538426, -0.3213080363199481, 0.39833160336220885, -0.02980554397316837, -0.32340422902656485, -0.8942400876474963, 0.4594975169399902, 0.7323443971163783, 0.9003211266318942, 0.28799453320250734, -0.014360188926474393, -0.25411818621574866, -0.3939916177260443, -0.5165288299539768, 0.3127943289440793, -0.9038615829007242, -0.5711108220810388, 0.5781388499489992, -0.8359070793464412, 0.20977515447518158, -0.9032926060395994, -0.824459897861729, -0.8157083294796621, 0.3696193455783998, 0.47968264019780804, -0.31939242194921036, 0.615074190240037, 0.6822851314370268, -0.01842305043453507, -0.6585887730628315, 0.8496302021598012, 0.5333760874931102, 0.3291147258979379, -0.7373682359287983, 0.48102956441661604, 0.8371017240721699, 0.8394858208860256, -0.6459872373931006, -0.3544986687897236, 0.5472186957584029, 0.26182624868604876, -0.5938063905375444, 0.20536618051019673, 0.4703284235893648, 0.22880282119453454, -0.3768351961966516, 0.8506028687185818, -0.1631933405374042, 0.2514643919830064, -0.02901786381131899, -0.9181819209387498, 0.37064422265677877, 0.03379862437068937, -0.3748898387097199, -0.49697414778755444, -0.6149898436935928, -0.6178260473700306, -0.18931858314968508, -0.23358297239884962, -0.5005035811107206, -0.7697024419760226, 0.4592901233836528, 0.45282820095957277, 0.6625642112132937, -0.051548000125464455, 0.674285068913548, 0.07837784407465165, 0.15454644934635553, -0.7616442586702874, 0.7219805126505605, 0.023855994081202425, 0.17646345457703205, -0.9021590069501286, -0.7315852909508607, -0.8862894346217658, 0.2039010736386615, -0.6028434590113108, -0.7503354104861089, 0.7550336701987561, -0.02960466578888088, 0.025345786930017766, -0.00822201901524977, 0.8672069137817289, 0.6223406251102688, -0.22521226676229844, 0.11007404432534429, 0.4430922716696273, -0.12900321879219945, 0.43487728734746156, 0.22619804308716596, 0.22481543248684943, -0.7428437350002355, 0.08413100177273236, -0.8257925959054404, -0.7303176305428281, 0.5488421111825232, 0.5551317634238018, -0.16150846775319394, -0.32905050930612845, -0.5718573531961866, -0.6680936691080959, -0.9282908855997931, 0.20668868526647088, 0.6606356431857421, 0.9422426965339952, 0.7687782659448885, 0.5660809051570652, -0.10934181245818309, -0.7768856984642127, -0.6366047255685601, -0.4095884659815354, -0.25886693829232144, 0.2999039123232592, 0.3670913646203928, -0.007446210745172266, 0.44353641327973037, 0.686065129225895, 0.04521578337784149, 0.8924582589587686, 0.8596450625614551, -0.44981104903442315, -0.5872612916652713, 0.2004457446556387, 0.1911590512062844, -0.7203329584006894, 0.7536665914099814, 0.33260830611376946, -0.32802063695278605, 0.5379408865808841, -0.9248236933492535, 0.8440123987661821, -0.2574954835838099, 0.7521928197011505, -0.4897094011437275, -0.52773288475111, -0.3353844777660697, -0.9700766837239598, 0.9328066619487174, 0.3202001459386281, 0.47977831064892484, 0.4020988121080791, 0.5721706129406385, 0.3867572154724428, -0.38096735310462293, -0.9824630899042575, 0.11894302344984453, -0.3672532704586473, -0.5269679343478089, -0.4606127490761054, -0.35517659533732626, 0.05910927160979895, -0.9710373127171579, -0.14051140693757702, 0.2132669096298372, -0.11207133212920439, -0.1875188605454241, -0.2645869785818462, 0.29251311253008794, 0.6122442763707454, -0.9708480584452133, 0.15700167972826762, 0.7459002599568123, 0.4099304892247062, -0.04972779917263637, -0.7814602235936903, -0.8553114642164488, -0.4422527941708836, -0.2167261052591556, -0.849622855344208, 0.40388562067016665, -0.9412057319950833, -0.1974824435315412, -0.16766383867866352, 0.00020936221017109347, -0.5680386640271422, 0.481899581593936, -0.8036868371086427, -0.19315248390866202, -0.8529935163950597, 0.24582415869642205, -0.2885526339652955, 0.2641040860144983, 0.09218512542034318, -0.3299127950742786, 0.37919105060350944, -0.5120010097448073, 0.45205518723685145, 0.35247493539517905, 0.7763539954578249, -0.18252547402183694, 0.1567100749872452, -0.23560585003907875, -0.035574922595770886, -0.3184698923990368, 0.14961268075721534, -0.7938874041360293, 0.0774143463739847, 0.3960798423414644, 0.11311690889974102, -0.6106138812062909, -0.03709268362547391, 0.6799544741946306, 0.008831539920350906, -0.7352341512432048, 0.474193734690715, 0.024235935127435937, 0.8879610837694116, 0.7132297829263194, -0.6734859410251346, 0.4324741029197554, -0.5935623308847795, -0.09426766375291606, 0.17905314097143332, 0.006842353333951223, 0.3543446807778423, -0.9706035544583926, -0.7704589163051168, -0.9088084620266699, -0.31544162136488296, -0.6946241184070843, -0.4576739846587685, -0.3866324740389615, -0.9022731484118509, -0.2628062479179363, 0.22177832183095347, 0.1485032328220086, -0.07641004563748055, -0.06805631589062955, -0.576431451320417, 0.3705732584369912, -0.07304929354916112, 0.3425748219203655, 0.49411082895704794, 0.11436015631770147, -0.6507871947712829, -0.2127341658403381, -0.677867702142521, 0.31530637040758336, 0.31943374752148657, 0.7316875414542494, -0.04528896556080042, 0.9744057920860598, -0.3203143045410144, -0.730236073505921, -0.06113855389591549, -0.15856834714443835, -0.8042398754959805, -0.5911872691187483, 0.4185818416914344, -0.9222589388822087, 0.4886623150810294, -0.025441176814652522, 0.2539701044413789, 0.8330663429632637, -0.27135022691048505, 0.3860320374988788, -0.9761847743394725, 0.4134626234098562, 0.1537964037295012, -0.007120938015049205, -0.8347655897805595, -0.1720249427079068, -0.3798724066849388, -0.8632091159302604, 0.9253440078286701, 0.6063960287536077, 0.9195310335134934, -0.984930510126091, 0.9751182386177675, 0.7074900385139529, -0.29646668739320603, 0.723051488945373, 0.5499677881735181, -0.9872750645243613, -0.7461202852632169, 0.8188395331973766, -0.027491168909719477, 0.2987923368648353, 0.0848311833266564, -0.19786670646570315, 0.15566205413752243, -0.9379276582242966, -0.6758720637286473, -0.7649923764698485, 0.21160478182082443, -0.30977540419851834, -0.19931322944086105, 0.7319030560113617, 0.7088299690414317, -0.5175277360293791, 0.5664697694018628, -0.4684953970747685, 0.9719801880717966, 0.6274215290546294, 0.10582924350399026, -0.40894837853322485, -0.28056315284665345, -0.8032005231547572, -0.6162594204097331, 0.406032813274976, -0.6987142620032785, -0.47310124531703934, -0.8284600337110817, 0.11259073290062815, 0.9511068753856762, 0.045922070323229036, -0.42366813672128956, 0.02046227035287984, -0.2895476004554922, -0.14323600508086543, 0.5673985861989053, -0.6142300051098459, 0.0561640402316641, -0.12019305302898431, 0.48031102714423923, -0.009141700804647712, 0.9709313089902878, -0.27528438075977135, 0.011465465728377922, -0.439360170145882, -0.45792802681884837, -0.260361467344282, 0.24207801578984345, 0.7816318925949588, 0.5812942662941651, 0.89383374984439, -0.9246706536098088, 0.141204022728175, 0.6275796639673672, -0.9710290289223096, -0.3697151439325381, -0.4380366133775482, 0.6676181800206962, -0.7444396564999636, 0.6672211583465071, -0.06416686218693712, 0.6730933586037224, -0.158531595651624, -0.6870089422149022, 0.3290154909292511, 0.15795273562810053, -0.9516282637360547, 0.45587380343499717, 0.8609141097737165, -0.2498216493328016, 0.8868876416110822, 0.3788482480987341, 0.052319952726975316, -0.6161132049432041, 0.6360005276343657, -0.3921562839015422, 0.21903902459769142, 0.7963400551508073, 0.6757960605187066, 0.7906023293369344, -0.36595792924096315, -0.5718313346234538, 0.2938389874381073, 0.9787276261302225, -0.8095551585319711, -0.5823405220092326, 0.9936193655085788, 0.6158318221835515, -0.7710276586018523, 0.293921640684232, 0.8574225875158845, 0.04745769359504948, -0.7413246842599079, -0.3023335508138061, 0.7964201039850707, -0.6259353217256347, 0.31162969086514636, -0.305220545959088, -0.8420817588943521, -0.7462032708315007, -0.5130635495315659, 0.7058211949218389, -0.5654074272010803, -0.8568634648954827, -0.07604089291436367, 0.7588741786401556, 0.7769673537009396, -0.1280972117788366, 0.9641344503211542, -0.015535402234903017, -0.3336018606181028, 0.8916625495572248, 0.8392003606503806, -0.5866171522795369, -0.592430750702718, -0.14211759775186295, -0.8234569808461032, 0.8878517780889013, 0.36559743416285073, 0.8012904255367062, 0.599308165745498, -0.7009195226198415, -0.5758606745988715, 0.9018443543075847, -0.14231843144413858, 0.9862433292597075, 0.9724541388424086, 0.6963398880964462, 0.2969639618100075, -0.7656642350870015, 0.3114757990866224, 0.7795656047419612, -0.4039701863785723, 0.8754293306593581, 0.688403596365049, -0.4769938668553806, 0.5667388788227754, 0.6907630943596246, 0.09584788156902846, 0.6235334252716314, 0.4505869220994043, -0.14805682340744397, 0.5768523495974875, 0.20136211698533657, 0.7596057223926493, -0.0368181166955992, -0.20204428122583806, -0.3917214466152785, -0.17992401856008655, -0.519201151239308, 0.9959081491585096]\n",
            "[56, -31, -83, 86, -51, -29, -29, -76, 0, 13, -17, 46, 51, 41, -13, -11, 35, -36, -71, 50, -37, 76, 17, -40, -29, 16, 83, -29, 3, -51, -74, -4, -97, -83, 12, -34, 90, -29, 7, 78, 51, 77, -11, 37, -5, 45, 23, 72, 61, -90, 97, 26, -90, 21, -96, -49, -41, 39, -22, -5, 7, 26, -7, -43, 77, -24, -37, -30, -14, 73, 41, -12, -18, 14, -39, 72, 13, 70, -5, -20, -59, -89, 32, 77, 16, -48, -92, -6, 49, -39, 90, 45, -12, 73, -94, -77, -50, -44, -14, 74, 13, 39, 46, 93, 85, -42, -42, 54, -34, -27, -7, -32, -18, -62, -71, -18, 43, -93, 95, -48, 33, -35, -17, 7, -27, 73, 62, 20, -58, -32, 45, 80, -76, 41, -87, -9, 27, -71, -92, -73, 82, 46, 73, 88, 37, -23, 61, 5, 27, 63, -51, -87, -72, -60, -85, 27, -46, 57, -5, 55, -65, -79, -86, 72, 41, -65, 45, 44, -87, -30, 39, -68, -64, -76, -16, -62, -15, -80, -13, -38, 32, -36, 69, 8, -26, 15, -89, 0, 3, 61, -76, 19, -39, -61, -39, 60, -49, -23, 41, 98, 0, -32, 7, -73, 74, -78, 90, 79, 79, 44, 0, 22, -81, -38, 31, 5, 23, 80, -37, 31, 67, 96, 47, 2, -14, 18, 48, -15, 2, 9, 11, 56, -15, 21, -69, 24, 21, 16, 18, -43, -53, -29, -20, 58, 46, -25, 69, -39, -74, 14, -72, 53, -99, 88, -66, -78, 59, -90, 30, 90, -62, -92, 44, 91, -3, 10, 59, 11, 24, -48, -51, 94, 48, 73, -78, 79, 18, 9, -14, 13, -66, 67, -20, -9, -35, -45, -22, 86, 41, -24, -55, 93, 3, 60, -62, -11, -30, 0, -73, 44, -56, -32, -18, -97, 42, 85, 20, 94, -68, -34, -24, 13, 80, -89, -22, 87, -45, 52, 0, -58, -43, -44, 22, 48, -40, -68, -8, 93, -93, -58, -45, -66, -32, -46, 3, -18, 11, 29, -80, 97, 81, 63, -97, 80, 17, -48, -18, 83, -64, -80, 72, -46, 87, 15, -84, 71, -31, 48, 97, -8, 27, -51, 74, -17, -23, -75, -77, 70, 91, -58, 1, -80, 44, -8, 32, 43, -57, -66, 27, -61, -40, -44, -74, -45, -42, -30, 39, 92, -37, 62, 56, -69, 9, -30, -6, -32, 51, -79, -25, -63, 79, -13, -18, 43, -79, -55, 17, -88, 54, 12, 47, -6, 77, 95, 66, 95, 80, 62, -25, -59, -51, 60, 13, -96, 12, 2, -75, 29, -81, 78, 27, -58, -9, 0, 73, 45, -30, 43, 20, -67, -58, 57, 31, 8, 58, -99, -68, 44, -5, 70, -8, 2, -30, -26, 78, -35, -7, -24, -68, 57, 68, -19, -12, -6, -9, 52, -65, 46, -33, -55, -92, 2, -6, 36, 17, -10, 2, 14, -8, -9, 11, 47, -23, 48, -3, 61, 83, -25, 23, -86, 84, -84, 27, 0, -61, 93, -1, 30, -33, 16, -52, -97, -70, 57, 25, 12, -36, -73, 95, 40, -64, 56, 65, -22, -84, -21, 1, 45, -22, 93, 92, 49, -91, 24, -28, -49, 72, -27, 12, -29, -30, -66, -70, 80, 94, 77, -74, -18, -6, 42, 73, -86, -48, -49, 4, 9, -74, -4, 49, 10, 53, -99, 17, -92, -39, 42, -34, 18, 97, 27, 92, -23, -21, -99, 7, 87, -4, -98, 21, 8, 35, -36, -63, -40, -50, -96, 26, -32, -26, -56, 10, 61, 48, 15, -80, -28, -80, -63, 77, -50, -35, 82, -66, 40, -65, -72, -81, 67, 67, -56, 14, 33, -68, -15, 85, 40, 59, -40, 80, 46, 27, -68, -58, 89, 71, -52, 39, 51, 64, -82, 23, -75, 50, -60, -25, 39, 28, -65, -95, -5, -93, -2, -41, -33, -21, 57, 72, 38, -31, 69, 67, 33, -3, 45, 32, 45, -81, -9, -51, 50, -47, -54, 26, -84, 27, -87, 37, 94, -86, 19, 59, -59, 56, 19, 38, -96, 77, -67, -20, 80, 22, -71, -15, -58, -52, -64, 22, 77, 16, 72, 61, -51, -53, -23, -51, -37, 95, 69, -77, 37, 10, 35, 1, 18, -98, -9, 4, 90, 0, 20, 6, -1, 48, -26, 87, -15, 41, -51, -37, -58, -81, 94, 21, 34, 94, 4, 49, -27, -70, 66, -22, -76, -10, -73, 45, -14, -96, 20, -30, -53, -15, 58, 24, -26, 86, 45, 42, -59, -50, -52, -86, -99, -78, 52, -12, -16, -38, 84, -41, 15, -73, -89, -64, 90, -91, 66, 82, -93, 3, -90, 85, 53, 10, -39, 22, -33, -20, -12, 26, -65, 32, 62, 76, -30, -63, 81, 23, -61, 28, 20, 0, 24, -67, 1, -87, -29, 76, 61, 98, -67, -98, -89, -57, -51, -54, -50, -75, -7, 46, 38, -54, -62, -81, 22, -95, 0, 62, 62, -91, -54, -11, 4, 91, 22, -4, 98, -68, -86, -52, -31, -51, -70, 18, -13, 3, -14, 32, 44, -96, 8, -31, 99, 32, -75, -85, -18, -90, -86, 2, 86, 41, -48, 48, 72, -97, 37, 90, -48, -19, 50, -96, 61, 33, -87, 16, -86, -92, -2, 29, -70, -65, 91, 71, -96, 86, -58, 4, 50, 20, -71, -75, -15, -57, 22, -88, -55, -26, 44, 98, 20, -59, 17, -71, -75, 8, -76, 57, -15, 50, -14, 24, -27, 20, -57, -64, -64, 76, 75, 23, 28, -98, 27, 38, -38, -49, -19, 95, -14, 43, -59, 32, -82, -2, 18, 15, -29, 67, 39, -76, 32, 71, 71, -17, 38, -46, 52, 63, 54, 19, -75, -82, 19, 95, -38, -55, 40, 2, -38, 98, 32, 69, -95, -37, 67, -28, 55, -66, -29, -90, -91, 26, -81, -75, -86, 60, 20, -21, 90, -97, -76, 41, 70, -42, -2, -16, -84, 77, 44, 7, 66, -55, -46, 2, -1, 77, 39, 9, 86, -64, 30, 16, -82, 19, 46, -7, 41, 29, 42, 98, 37, -28, 17, 88, 69, -93, -11, -93, -26, -45, 2]\n",
            "[1, 0, 0, 1, 0, 0, 0, 0, 1, 1, 0, 1, 1, 1, 0, 0, 1, 0, 0, 1, 0, 1, 1, 0, 0, 1, 1, 0, 1, 0, 0, 0, 0, 0, 1, 0, 1, 0, 1, 1, 1, 1, 0, 1, 0, 1, 1, 1, 1, 0, 1, 1, 0, 1, 0, 0, 0, 1, 0, 0, 1, 1, 0, 0, 1, 0, 0, 0, 0, 1, 1, 0, 0, 1, 0, 1, 1, 1, 0, 0, 0, 0, 1, 1, 1, 0, 0, 0, 1, 0, 1, 1, 0, 1, 0, 0, 0, 0, 0, 1, 1, 1, 1, 1, 1, 0, 0, 1, 0, 0, 0, 0, 0, 0, 0, 0, 1, 0, 1, 0, 1, 0, 0, 1, 0, 1, 1, 1, 0, 0, 1, 1, 0, 1, 0, 0, 1, 0, 0, 0, 1, 1, 1, 1, 1, 0, 1, 1, 1, 1, 0, 0, 0, 0, 0, 1, 0, 1, 0, 1, 0, 0, 0, 1, 1, 0, 1, 1, 0, 0, 1, 0, 0, 0, 0, 0, 0, 0, 0, 0, 1, 0, 1, 1, 0, 1, 0, 0, 1, 1, 0, 1, 0, 0, 0, 1, 0, 0, 1, 1, 0, 0, 1, 0, 1, 0, 1, 1, 1, 1, 1, 1, 0, 0, 1, 1, 1, 1, 0, 1, 1, 1, 1, 1, 0, 1, 1, 0, 1, 1, 1, 1, 0, 1, 0, 1, 1, 1, 1, 0, 0, 0, 0, 1, 1, 0, 1, 0, 0, 1, 0, 1, 0, 1, 0, 0, 1, 0, 1, 1, 0, 0, 1, 1, 0, 1, 1, 1, 1, 0, 0, 1, 1, 1, 0, 1, 1, 1, 0, 1, 0, 1, 0, 0, 0, 0, 0, 1, 1, 0, 0, 1, 1, 1, 0, 0, 0, 0, 0, 1, 0, 0, 0, 0, 1, 1, 1, 1, 0, 0, 0, 1, 1, 0, 0, 1, 0, 1, 0, 0, 0, 0, 1, 1, 0, 0, 0, 1, 0, 0, 0, 0, 0, 0, 1, 0, 1, 1, 0, 1, 1, 1, 0, 1, 1, 0, 0, 1, 0, 0, 1, 0, 1, 1, 0, 1, 0, 1, 1, 0, 1, 0, 1, 0, 0, 0, 0, 1, 1, 0, 1, 0, 1, 0, 1, 1, 0, 0, 1, 0, 0, 0, 0, 0, 0, 0, 1, 1, 0, 1, 1, 0, 1, 0, 0, 0, 1, 0, 0, 0, 1, 0, 0, 1, 0, 0, 1, 0, 1, 1, 1, 0, 1, 1, 1, 1, 1, 1, 0, 0, 0, 1, 1, 0, 1, 1, 0, 1, 0, 1, 1, 0, 0, 1, 1, 1, 0, 1, 1, 0, 0, 1, 1, 1, 1, 0, 0, 1, 0, 1, 0, 1, 0, 0, 1, 0, 0, 0, 0, 1, 1, 0, 0, 0, 0, 1, 0, 1, 0, 0, 0, 1, 0, 1, 1, 0, 1, 1, 0, 0, 1, 1, 0, 1, 0, 1, 1, 0, 1, 0, 1, 0, 1, 1, 0, 1, 0, 1, 0, 1, 0, 0, 0, 1, 1, 1, 0, 0, 1, 1, 0, 1, 1, 0, 0, 0, 1, 1, 0, 1, 1, 1, 0, 1, 0, 0, 1, 0, 1, 0, 0, 0, 0, 1, 1, 1, 0, 0, 0, 1, 1, 0, 0, 0, 1, 1, 0, 0, 1, 1, 1, 0, 1, 0, 0, 1, 0, 1, 1, 1, 1, 0, 0, 0, 1, 1, 0, 0, 1, 1, 1, 0, 0, 0, 0, 0, 1, 0, 0, 0, 1, 1, 1, 1, 0, 0, 0, 0, 1, 0, 0, 1, 0, 1, 0, 0, 0, 1, 1, 0, 1, 1, 0, 0, 1, 1, 1, 0, 1, 1, 1, 0, 0, 1, 1, 0, 1, 1, 1, 0, 1, 0, 1, 0, 0, 1, 1, 0, 0, 0, 0, 0, 0, 0, 0, 1, 1, 1, 0, 1, 1, 1, 0, 1, 1, 1, 0, 0, 0, 1, 0, 0, 1, 0, 1, 0, 1, 1, 0, 1, 1, 0, 1, 1, 1, 0, 1, 0, 0, 1, 1, 0, 0, 0, 0, 0, 1, 1, 1, 1, 1, 0, 0, 0, 0, 0, 1, 1, 0, 1, 1, 1, 1, 1, 0, 0, 1, 1, 0, 1, 1, 0, 1, 0, 1, 0, 1, 0, 0, 0, 0, 1, 1, 1, 1, 1, 1, 0, 0, 1, 0, 0, 0, 0, 1, 0, 0, 1, 0, 0, 0, 1, 1, 0, 1, 1, 1, 0, 0, 0, 0, 0, 0, 1, 0, 0, 0, 1, 0, 1, 0, 0, 0, 1, 0, 1, 1, 0, 1, 0, 1, 1, 1, 0, 1, 0, 0, 0, 1, 0, 1, 1, 1, 0, 0, 1, 1, 0, 1, 1, 1, 1, 0, 1, 0, 0, 1, 1, 1, 0, 0, 0, 0, 0, 0, 0, 0, 0, 1, 1, 0, 0, 0, 1, 0, 1, 1, 1, 0, 0, 0, 1, 1, 1, 0, 1, 0, 0, 0, 0, 0, 0, 1, 0, 1, 0, 1, 1, 0, 1, 0, 1, 1, 0, 0, 0, 0, 0, 1, 1, 1, 0, 1, 1, 0, 1, 1, 0, 0, 1, 0, 1, 1, 0, 1, 0, 0, 0, 1, 0, 0, 1, 1, 0, 1, 0, 1, 1, 1, 0, 0, 0, 0, 1, 0, 0, 0, 1, 1, 1, 0, 1, 0, 0, 1, 0, 1, 0, 1, 0, 1, 0, 1, 0, 0, 0, 1, 1, 1, 1, 0, 1, 1, 0, 0, 0, 1, 0, 1, 0, 1, 0, 0, 1, 1, 0, 1, 1, 0, 1, 1, 1, 0, 1, 0, 1, 1, 1, 1, 0, 0, 1, 1, 0, 0, 1, 1, 0, 1, 1, 1, 0, 0, 1, 0, 1, 0, 0, 0, 0, 1, 0, 0, 0, 1, 1, 0, 1, 0, 0, 1, 1, 0, 0, 0, 0, 1, 1, 1, 1, 0, 0, 1, 0, 1, 1, 1, 1, 0, 1, 1, 0, 1, 1, 0, 1, 1, 1, 1, 1, 0, 1, 1, 1, 0, 0, 0, 0, 0, 1]\n",
            "[0, -1, -1, 0, -1, -1, -1, -1, 0, 0, -1, 0, 0, 0, -1, -1, 0, -1, -1, 0, -1, 0, 0, -1, -1, 0, 0, -1, 0, -1, -1, -1, -1, -1, 0, -1, 0, -1, 0, 0, 0, 0, -1, 0, -1, 0, 0, 0, 0, -1, 0, 0, -1, 0, -1, -1, -1, 0, -1, -1, 0, 0, -1, -1, 0, -1, -1, -1, -1, 0, 0, -1, -1, 0, -1, 0, 0, 0, -1, -1, -1, -1, 0, 0, 0, -1, -1, -1, 0, -1, 0, 0, -1, 0, -1, -1, -1, -1, -1, 0, 0, 0, 0, 0, 0, -1, -1, 0, -1, -1, -1, -1, -1, -1, -1, -1, 0, -1, 0, -1, 0, -1, -1, 0, -1, 0, 0, 0, -1, -1, 0, 0, -1, 0, -1, -1, 0, -1, -1, -1, 0, 0, 0, 0, 0, -1, 0, 0, 0, 0, -1, -1, -1, -1, -1, 0, -1, 0, -1, 0, -1, -1, -1, 0, 0, -1, 0, 0, -1, -1, 0, -1, -1, -1, -1, -1, -1, -1, -1, -1, 0, -1, 0, 0, -1, 0, -1, -1, 0, 0, -1, 0, -1, -1, -1, 0, -1, -1, 0, 0, -1, -1, 0, -1, 0, -1, 0, 0, 0, 0, 0, 0, -1, -1, 0, 0, 0, 0, -1, 0, 0, 0, 0, 0, -1, 0, 0, -1, 0, 0, 0, 0, -1, 0, -1, 0, 0, 0, 0, -1, -1, -1, -1, 0, 0, -1, 0, -1, -1, 0, -1, 0, -1, 0, -1, -1, 0, -1, 0, 0, -1, -1, 0, 0, -1, 0, 0, 0, 0, -1, -1, 0, 0, 0, -1, 0, 0, 0, -1, 0, -1, 0, -1, -1, -1, -1, -1, 0, 0, -1, -1, 0, 0, 0, -1, -1, -1, -1, -1, 0, -1, -1, -1, -1, 0, 0, 0, 0, -1, -1, -1, 0, 0, -1, -1, 0, -1, 0, -1, -1, -1, -1, 0, 0, -1, -1, -1, 0, -1, -1, -1, -1, -1, -1, 0, -1, 0, 0, -1, 0, 0, 0, -1, 0, 0, -1, -1, 0, -1, -1, 0, -1, 0, 0, -1, 0, -1, 0, 0, -1, 0, -1, 0, -1, -1, -1, -1, 0, 0, -1, 0, -1, 0, -1, 0, 0, -1, -1, 0, -1, -1, -1, -1, -1, -1, -1, 0, 0, -1, 0, 0, -1, 0, -1, -1, -1, 0, -1, -1, -1, 0, -1, -1, 0, -1, -1, 0, -1, 0, 0, 0, -1, 0, 0, 0, 0, 0, 0, -1, -1, -1, 0, 0, -1, 0, 0, -1, 0, -1, 0, 0, -1, -1, 0, 0, 0, -1, 0, 0, -1, -1, 0, 0, 0, 0, -1, -1, 0, -1, 0, -1, 0, -1, -1, 0, -1, -1, -1, -1, 0, 0, -1, -1, -1, -1, 0, -1, 0, -1, -1, -1, 0, -1, 0, 0, -1, 0, 0, -1, -1, 0, 0, -1, 0, -1, 0, 0, -1, 0, -1, 0, -1, 0, 0, -1, 0, -1, 0, -1, 0, -1, -1, -1, 0, 0, 0, -1, -1, 0, 0, -1, 0, 0, -1, -1, -1, 0, 0, -1, 0, 0, 0, -1, 0, -1, -1, 0, -1, 0, -1, -1, -1, -1, 0, 0, 0, -1, -1, -1, 0, 0, -1, -1, -1, 0, 0, -1, -1, 0, 0, 0, -1, 0, -1, -1, 0, -1, 0, 0, 0, 0, -1, -1, -1, 0, 0, -1, -1, 0, 0, 0, -1, -1, -1, -1, -1, 0, -1, -1, -1, 0, 0, 0, 0, -1, -1, -1, -1, 0, -1, -1, 0, -1, 0, -1, -1, -1, 0, 0, -1, 0, 0, -1, -1, 0, 0, 0, -1, 0, 0, 0, -1, -1, 0, 0, -1, 0, 0, 0, -1, 0, -1, 0, -1, -1, 0, 0, -1, -1, -1, -1, -1, -1, -1, -1, 0, 0, 0, -1, 0, 0, 0, -1, 0, 0, 0, -1, -1, -1, 0, -1, -1, 0, -1, 0, -1, 0, 0, -1, 0, 0, -1, 0, 0, 0, -1, 0, -1, -1, 0, 0, -1, -1, -1, -1, -1, 0, 0, 0, 0, 0, -1, -1, -1, -1, -1, 0, 0, -1, 0, 0, 0, 0, 0, -1, -1, 0, 0, -1, 0, 0, -1, 0, -1, 0, -1, 0, -1, -1, -1, -1, 0, 0, 0, 0, 0, 0, -1, -1, 0, -1, -1, -1, -1, 0, -1, -1, 0, -1, -1, -1, 0, 0, -1, 0, 0, 0, -1, -1, -1, -1, -1, -1, 0, -1, -1, -1, 0, -1, 0, -1, -1, -1, 0, -1, 0, 0, -1, 0, -1, 0, 0, 0, -1, 0, -1, -1, -1, 0, -1, 0, 0, 0, -1, -1, 0, 0, -1, 0, 0, 0, 0, -1, 0, -1, -1, 0, 0, 0, -1, -1, -1, -1, -1, -1, -1, -1, -1, 0, 0, -1, -1, -1, 0, -1, 0, 0, 0, -1, -1, -1, 0, 0, 0, -1, 0, -1, -1, -1, -1, -1, -1, 0, -1, 0, -1, 0, 0, -1, 0, -1, 0, 0, -1, -1, -1, -1, -1, 0, 0, 0, -1, 0, 0, -1, 0, 0, -1, -1, 0, -1, 0, 0, -1, 0, -1, -1, -1, 0, -1, -1, 0, 0, -1, 0, -1, 0, 0, 0, -1, -1, -1, -1, 0, -1, -1, -1, 0, 0, 0, -1, 0, -1, -1, 0, -1, 0, -1, 0, -1, 0, -1, 0, -1, -1, -1, 0, 0, 0, 0, -1, 0, 0, -1, -1, -1, 0, -1, 0, -1, 0, -1, -1, 0, 0, -1, 0, 0, -1, 0, 0, 0, -1, 0, -1, 0, 0, 0, 0, -1, -1, 0, 0, -1, -1, 0, 0, -1, 0, 0, 0, -1, -1, 0, -1, 0, -1, -1, -1, -1, 0, -1, -1, -1, 0, 0, -1, 0, -1, -1, 0, 0, -1, -1, -1, -1, 0, 0, 0, 0, -1, -1, 0, -1, 0, 0, 0, 0, -1, 0, 0, -1, 0, 0, -1, 0, 0, 0, 0, 0, -1, 0, 0, 0, -1, -1, -1, -1, -1, 0]\n",
            "[-56.0, -31.0, 83.0, -86.0, -51.0, -29.0, -29.0, 76.0, 0.0, -13.0, 17.0, 46.0, 51.0, -41.0, -13.0, 11.0, -35.0, -36.0, 71.0, -50.0, 37.0, 76.0, -17.0, -40.0, 29.0, 16.0, -83.0, 29.0, -3.0, -51.0, -74.0, -4.0, -97.0, 83.0, -12.0, 34.0, -90.0, 29.0, 7.0, 78.0, 51.0, -77.0, 11.0, -37.0, 5.0, 45.0, 23.0, 72.0, -61.0, 90.0, 97.0, -26.0, 90.0, -21.0, -96.0, -49.0, 41.0, -39.0, -22.0, 5.0, 7.0, -26.0, -7.0, 43.0, -77.0, -24.0, -37.0, -30.0, 14.0, 73.0, -41.0, -12.0, 18.0, -14.0, 39.0, 72.0, 13.0, -70.0, -5.0, -20.0, -59.0, 89.0, 32.0, 77.0, -16.0, -48.0, -92.0, 6.0, -49.0, 39.0, 90.0, -45.0, 12.0, -73.0, -94.0, -77.0, -50.0, -44.0, 14.0, 74.0, 13.0, 39.0, 46.0, 93.0, -85.0, -42.0, 42.0, -54.0, -34.0, -27.0, -7.0, -32.0, -18.0, -62.0, -71.0, 18.0, -43.0, 93.0, -95.0, 48.0, -33.0, -35.0, 17.0, -7.0, 27.0, 73.0, 62.0, -20.0, -58.0, 32.0, 45.0, -80.0, 76.0, -41.0, -87.0, 9.0, -27.0, -71.0, -92.0, 73.0, 82.0, 46.0, 73.0, 88.0, -37.0, 23.0, 61.0, 5.0, 27.0, -63.0, -51.0, -87.0, -72.0, -60.0, 85.0, -27.0, 46.0, -57.0, 5.0, -55.0, -65.0, -79.0, 86.0, 72.0, -41.0, 65.0, 45.0, -44.0, -87.0, 30.0, -39.0, -68.0, -64.0, -76.0, -16.0, -62.0, -15.0, -80.0, -13.0, 38.0, -32.0, 36.0, 69.0, -8.0, 26.0, -15.0, -89.0, 0.0, 3.0, -61.0, 76.0, -19.0, -39.0, -61.0, 39.0, -60.0, -49.0, 23.0, 41.0, -98.0, -0.0, 32.0, -7.0, 73.0, -74.0, 78.0, 90.0, 79.0, 79.0, 44.0, 0.0, -22.0, -81.0, 38.0, 31.0, 5.0, 23.0, -80.0, 37.0, 31.0, 67.0, 96.0, 47.0, -2.0, 14.0, 18.0, -48.0, 15.0, 2.0, 9.0, 11.0, -56.0, 15.0, -21.0, 69.0, 24.0, 21.0, 16.0, -18.0, -43.0, -53.0, -29.0, 20.0, 58.0, -46.0, 25.0, -69.0, -39.0, 74.0, -14.0, 72.0, -53.0, 99.0, -88.0, -66.0, 78.0, -59.0, 90.0, 30.0, -90.0, -62.0, 92.0, 44.0, -91.0, 3.0, 10.0, 59.0, 11.0, -24.0, -48.0, 51.0, 94.0, 48.0, -73.0, 78.0, 79.0, 18.0, -9.0, 14.0, -13.0, 66.0, -67.0, -20.0, -9.0, -35.0, -45.0, 22.0, 86.0, -41.0, -24.0, 55.0, 93.0, 3.0, -60.0, -62.0, -11.0, -30.0, -0.0, 73.0, -44.0, -56.0, -32.0, -18.0, 97.0, 42.0, 85.0, 20.0, -94.0, -68.0, -34.0, 24.0, 13.0, -80.0, -89.0, 22.0, -87.0, 45.0, -52.0, -0.0, -58.0, -43.0, 44.0, 22.0, -48.0, -40.0, -68.0, 8.0, -93.0, -93.0, -58.0, -45.0, -66.0, -32.0, 46.0, -3.0, 18.0, 11.0, -29.0, 80.0, 97.0, 81.0, -63.0, 97.0, 80.0, -17.0, -48.0, 18.0, -83.0, -64.0, 80.0, -72.0, 46.0, 87.0, -15.0, 84.0, -71.0, 31.0, 48.0, -97.0, 8.0, -27.0, 51.0, -74.0, -17.0, -23.0, -75.0, 77.0, 70.0, -91.0, 58.0, -1.0, 80.0, -44.0, 8.0, 32.0, -43.0, -57.0, 66.0, -27.0, -61.0, -40.0, -44.0, -74.0, -45.0, -42.0, 30.0, 39.0, -92.0, 37.0, 62.0, -56.0, 69.0, -9.0, -30.0, -6.0, 32.0, -51.0, -79.0, -25.0, 63.0, -79.0, -13.0, 18.0, -43.0, -79.0, 55.0, -17.0, 88.0, 54.0, 12.0, -47.0, 6.0, 77.0, 95.0, 66.0, 95.0, 80.0, -62.0, -25.0, -59.0, 51.0, 60.0, -13.0, 96.0, 12.0, -2.0, 75.0, -29.0, 81.0, 78.0, -27.0, -58.0, 9.0, 0.0, 73.0, -45.0, 30.0, 43.0, -20.0, -67.0, 58.0, 57.0, 31.0, 8.0, -58.0, -99.0, 68.0, -44.0, 5.0, -70.0, 8.0, -2.0, -30.0, 26.0, -78.0, -35.0, -7.0, -24.0, 68.0, 57.0, -68.0, -19.0, -12.0, -6.0, 9.0, -52.0, 65.0, -46.0, -33.0, -55.0, 92.0, -2.0, 6.0, 36.0, -17.0, 10.0, 2.0, -14.0, -8.0, 9.0, 11.0, -47.0, 23.0, -48.0, 3.0, 61.0, -83.0, 25.0, -23.0, 86.0, -84.0, 84.0, 27.0, -0.0, 61.0, -93.0, 1.0, -30.0, 33.0, -16.0, -52.0, -97.0, 70.0, 57.0, 25.0, -12.0, -36.0, 73.0, 95.0, -40.0, 64.0, 56.0, -65.0, -22.0, -84.0, 21.0, 1.0, -45.0, 22.0, 93.0, 92.0, -49.0, 91.0, -24.0, -28.0, 49.0, -72.0, 27.0, -12.0, -29.0, -30.0, -66.0, 70.0, 80.0, 94.0, -77.0, -74.0, -18.0, 6.0, 42.0, -73.0, -86.0, -48.0, 49.0, 4.0, -9.0, -74.0, 4.0, 49.0, 10.0, -53.0, 99.0, -17.0, -92.0, 39.0, -42.0, 34.0, 18.0, 97.0, 27.0, -92.0, -23.0, -21.0, 99.0, 7.0, -87.0, -4.0, 98.0, 21.0, 8.0, -35.0, -36.0, -63.0, -40.0, -50.0, 96.0, -26.0, -32.0, -26.0, 56.0, 10.0, 61.0, 48.0, -15.0, -80.0, -28.0, -80.0, 63.0, -77.0, -50.0, 35.0, -82.0, 66.0, -40.0, -65.0, -72.0, 81.0, 67.0, -67.0, 56.0, 14.0, -33.0, -68.0, 15.0, 85.0, 40.0, -59.0, 40.0, 80.0, 46.0, -27.0, -68.0, 58.0, 89.0, -71.0, 52.0, 39.0, 51.0, -64.0, 82.0, -23.0, 75.0, -50.0, -60.0, 25.0, 39.0, -28.0, -65.0, -95.0, -5.0, -93.0, -2.0, -41.0, -33.0, 21.0, 57.0, 72.0, -38.0, 31.0, 69.0, 67.0, -33.0, 3.0, 45.0, 32.0, -45.0, -81.0, -9.0, 51.0, -50.0, -47.0, 54.0, -26.0, 84.0, -27.0, 87.0, 37.0, -94.0, 86.0, 19.0, -59.0, 59.0, 56.0, 19.0, -38.0, 96.0, -77.0, -67.0, 20.0, 80.0, -22.0, -71.0, -15.0, -58.0, -52.0, 64.0, 22.0, 77.0, 16.0, 72.0, -61.0, -51.0, -53.0, -23.0, -51.0, 37.0, 95.0, -69.0, 77.0, 37.0, 10.0, 35.0, 1.0, -18.0, -98.0, 9.0, 4.0, -90.0, 0.0, 20.0, -6.0, 1.0, -48.0, 26.0, -87.0, 15.0, -41.0, -51.0, -37.0, -58.0, 81.0, 94.0, 21.0, 34.0, 94.0, 4.0, -49.0, -27.0, 70.0, -66.0, -22.0, -76.0, -10.0, 73.0, -45.0, -14.0, 96.0, -20.0, -30.0, -53.0, 15.0, 58.0, -24.0, 26.0, 86.0, 45.0, -42.0, -59.0, -50.0, -52.0, -86.0, -99.0, 78.0, -52.0, -12.0, -16.0, 38.0, -84.0, 41.0, -15.0, -73.0, -89.0, 64.0, -90.0, 91.0, 66.0, -82.0, 93.0, -3.0, 90.0, 85.0, 53.0, -10.0, 39.0, -22.0, -33.0, -20.0, 12.0, -26.0, 65.0, 32.0, 62.0, -76.0, -30.0, 63.0, 81.0, -23.0, 61.0, 28.0, 20.0, 0.0, -24.0, 67.0, -1.0, -87.0, 29.0, 76.0, 61.0, -98.0, -67.0, -98.0, -89.0, -57.0, -51.0, -54.0, -50.0, -75.0, 7.0, 46.0, -38.0, -54.0, -62.0, 81.0, -22.0, 95.0, 0.0, 62.0, -62.0, -91.0, -54.0, 11.0, 4.0, 91.0, -22.0, 4.0, -98.0, -68.0, -86.0, -52.0, -31.0, -51.0, 70.0, -18.0, 13.0, -3.0, 14.0, 32.0, -44.0, 96.0, -8.0, 31.0, 99.0, -32.0, -75.0, -85.0, -18.0, -90.0, 86.0, 2.0, 86.0, -41.0, 48.0, 48.0, -72.0, 97.0, 37.0, -90.0, -48.0, 19.0, -50.0, 96.0, 61.0, -33.0, 87.0, -16.0, -86.0, -92.0, 2.0, -29.0, -70.0, 65.0, 91.0, -71.0, 96.0, -86.0, 58.0, 4.0, 50.0, -20.0, -71.0, -75.0, -15.0, 57.0, -22.0, -88.0, -55.0, 26.0, 44.0, 98.0, -20.0, 59.0, -17.0, -71.0, 75.0, -8.0, 76.0, -57.0, 15.0, -50.0, 14.0, -24.0, 27.0, -20.0, -57.0, -64.0, 64.0, 76.0, 75.0, 23.0, -28.0, 98.0, 27.0, -38.0, -38.0, -49.0, 19.0, -95.0, 14.0, -43.0, 59.0, -32.0, -82.0, 2.0, 18.0, -15.0, 29.0, 67.0, -39.0, 76.0, 32.0, 71.0, -71.0, 17.0, -38.0, 46.0, 52.0, 63.0, 54.0, -19.0, -75.0, 82.0, 19.0, -95.0, -38.0, 55.0, 40.0, -2.0, 38.0, 98.0, 32.0, -69.0, -95.0, 37.0, -67.0, 28.0, -55.0, -66.0, -29.0, -90.0, 91.0, -26.0, -81.0, -75.0, 86.0, 60.0, -20.0, 21.0, -90.0, -97.0, 76.0, 41.0, -70.0, -42.0, -2.0, -16.0, 84.0, 77.0, 44.0, 7.0, -66.0, -55.0, 46.0, -2.0, 1.0, 77.0, 39.0, 9.0, -86.0, 64.0, 30.0, -16.0, 82.0, 19.0, -46.0, 7.0, 41.0, 29.0, 42.0, 98.0, -37.0, 28.0, 17.0, 88.0, -69.0, -93.0, -11.0, -93.0, -26.0, 45.0, -2.0]\n",
            "[1, 1, 1, 1, 1, 29, 1, 13, 1, 1, 1, 1, 1, 1, 1, 1, 1, 1, 1, 1, 1, 1, 1, 1, 1, 1, 1, 3, 1, 2, 1, 1, 1, 2, 2, 1, 1, 1, 3, 1, 11, 1, 1, 5, 1, 1, 1, 1, 1, 1, 2, 3, 3, 1, 1, 1, 1, 1, 1, 1, 1, 1, 1, 1, 1, 1, 2, 1, 1, 1, 6, 2, 1, 3, 1, 1, 5, 5, 1, 1, 1, 1, 1, 16, 4, 2, 1, 1, 3, 45, 3, 1, 1, 1, 1, 2, 2, 2, 1, 13, 1, 1, 1, 1, 42, 6, 2, 1, 1, 1, 2, 2, 1, 1, 1, 1, 1, 1, 3, 1, 1, 1, 1, 1, 1, 2, 2, 2, 1, 5, 4, 1, 1, 3, 9, 1, 1, 1, 1, 2, 1, 1, 1, 1, 1, 1, 1, 9, 3, 3, 3, 12, 5, 1, 1, 1, 1, 5, 5, 1, 1, 2, 1, 1, 5, 1, 1, 3, 3, 1, 4, 4, 4, 2, 1, 5, 1, 1, 2, 4, 3, 1, 2, 1, 1, 3, 1, 1, 19, 1, 1, 1, 3, 1, 1, 1, 1, 32, 1, 1, 1, 2, 6, 1, 79, 1, 22, 1, 1, 1, 1, 1, 1, 1, 1, 1, 1, 1, 1, 2, 2, 6, 3, 1, 1, 1, 1, 1, 3, 3, 3, 3, 1, 2, 1, 1, 1, 1, 2, 2, 1, 1, 3, 1, 2, 2, 1, 1, 11, 22, 6, 1, 1, 30, 30, 2, 2, 4, 1, 1, 1, 1, 1, 1, 24, 3, 1, 2, 1, 1, 1, 1, 9, 1, 1, 1, 1, 1, 1, 1, 5, 1, 2, 1, 1, 1, 1, 3, 3, 2, 1, 1, 73, 1, 4, 8, 2, 1, 1, 1, 5, 2, 2, 34, 2, 1, 1, 1, 1, 1, 3, 1, 58, 1, 1, 22, 2, 8, 4, 4, 1, 93, 1, 1, 3, 2, 2, 1, 3, 1, 1, 1, 1, 1, 9, 1, 1, 1, 1, 6, 1, 1, 16, 8, 2, 1, 3, 3, 1, 1, 1, 1, 1, 1, 3, 1, 1, 1, 1, 1, 7, 7, 1, 1, 1, 4, 4, 8, 1, 1, 3, 3, 1, 1, 4, 2, 1, 3, 6, 3, 1, 1, 1, 2, 1, 3, 3, 6, 2, 1, 1, 1, 1, 1, 1, 1, 1, 1, 1, 1, 1, 2, 6, 1, 1, 1, 1, 1, 1, 5, 2, 1, 1, 1, 3, 1, 1, 12, 2, 1, 1, 1, 3, 3, 1, 1, 73, 1, 15, 1, 1, 1, 1, 1, 1, 1, 2, 1, 1, 4, 1, 5, 2, 2, 2, 2, 26, 1, 7, 1, 4, 1, 1, 1, 1, 6, 3, 1, 13, 1, 1, 11, 1, 2, 2, 6, 1, 1, 2, 2, 2, 1, 1, 1, 1, 1, 3, 1, 1, 1, 1, 1, 2, 84, 3, 61, 1, 1, 1, 3, 1, 4, 1, 1, 1, 1, 1, 12, 1, 1, 5, 8, 8, 1, 1, 2, 21, 1, 1, 1, 1, 1, 1, 7, 1, 4, 7, 1, 9, 3, 1, 1, 6, 2, 10, 2, 1, 1, 2, 6, 6, 1, 1, 2, 1, 1, 1, 1, 2, 1, 1, 1, 1, 1, 1, 1, 3, 2, 2, 1, 1, 1, 23, 1, 3, 1, 1, 1, 2, 7, 1, 1, 1, 9, 1, 10, 2, 2, 2, 2, 2, 2, 1, 1, 3, 5, 4, 4, 1, 7, 1, 5, 1, 2, 2, 5, 1, 9, 1, 67, 1, 14, 1, 1, 1, 5, 5, 1, 1, 40, 2, 1, 1, 2, 1, 1, 1, 13, 3, 1, 2, 1, 1, 25, 10, 5, 1, 1, 1, 5, 5, 1, 1, 1, 1, 3, 3, 3, 2, 1, 1, 1, 1, 3, 3, 1, 1, 9, 9, 3, 1, 1, 1, 2, 2, 3, 3, 1, 1, 2, 1, 1, 59, 1, 1, 19, 2, 1, 1, 1, 20, 2, 1, 1, 1, 2, 4, 2, 11, 1, 8, 1, 1, 1, 1, 1, 1, 1, 1, 1, 1, 1, 5, 1, 1, 2, 1, 1, 2, 20, 2, 1, 1, 2, 1, 3, 1, 1, 1, 1, 1, 1, 1, 1, 2, 2, 1, 1, 1, 2, 22, 2, 2, 1, 1, 1, 2, 4, 10, 1, 1, 1, 2, 2, 2, 1, 3, 1, 1, 2, 2, 1, 3, 26, 4, 4, 2, 2, 1, 1, 1, 1, 1, 2, 1, 1, 2, 1, 3, 3, 5, 1, 1, 1, 1, 11, 1, 4, 2, 13, 1, 2, 2, 2, 3, 9, 1, 1, 1, 4, 24, 1, 1, 1, 29, 1, 1, 1, 1, 1, 1, 1, 3, 3, 2, 25, 1, 1, 2, 2, 2, 1, 1, 1, 62, 62, 1, 1, 1, 1, 1, 1, 2, 2, 2, 2, 2, 1, 1, 1, 2, 1, 1, 1, 2, 4, 4, 8, 1, 1, 1, 1, 5, 1, 18, 2, 2, 2, 1, 1, 48, 24, 1, 1, 1, 6, 1, 1, 2, 1, 1, 3, 1, 2, 2, 2, 1, 1, 5, 13, 1, 1, 2, 2, 2, 2, 10, 1, 1, 15, 3, 1, 22, 11, 1, 2, 2, 2, 1, 1, 1, 1, 1, 4, 19, 3, 5, 2, 2, 3, 1, 1, 1, 64, 4, 1, 1, 1, 14, 1, 1, 38, 1, 1, 19, 1, 1, 1, 1, 2, 2, 2, 3, 1, 1, 1, 1, 4, 1, 71, 1, 1, 2, 2, 1, 9, 1, 1, 1, 1, 19, 19, 1, 5, 2, 2, 2, 2, 1, 1, 1, 1, 1, 1, 11, 1, 1, 1, 13, 1, 3, 1, 2, 20, 1, 3, 1, 1, 1, 1, 14, 2, 2, 4, 7, 11, 1, 1, 11, 1, 2, 1, 1, 1, 3, 1, 2, 2, 2, 2, 1, 1, 1, 1, 1, 1, 14, 1, 1, 1, 1, 1, 3, 1, 1, 1, 1, 1]\n",
            "[25.309903449818577, -31.198642467199207, -83.11394198072475, 35.32213639537985, -21.518997028708903, -0.6145775448455311, -29.01308497955381, -0.15650292710722624, 0.7518947689561202, 13.565106793721142, -17.132109013076118, 46.38115773403953, 10.041504976342736, 1.2214831440170997, -2.1363423803727954, -11.403662143062363, 35.8594133755272, -36.47540072361517, -20.578982433135337, 13.183101902388401, -37.565253322604875, 4.9475665620876725, 17.979611232698403, -10.526717205334954, -12.959883060643264, 16.670586130174, 24.339116758923467, -1.6118036969312612, 3.482091075884796, -51.21024248096848, -4.296615916234927, -4.6704489571225025, -14.548059303857372, -10.825519838571893, 12.044734652021873, -34.10538093776816, 1.6784013652830652, -1.570516657321349, 7.003313151631275, 26.760667565274957, 51.367981041007425, 6.00226340229986, -11.859454049245912, 1.5255804307217318, -5.172001109581231, 22.11299830750619, 23.821606666824096, 11.762973137926906, 61.231956514852016, -90.5192959193333, 19.122151995153672, 26.010158138481472, -4.46108462973767, 21.53492603289429, -46.53488137457445, -7.806600336910982, -2.026030723016447, 16.938304764098532, -1.6601100560695983, -5.3154782780249406, 7.754834426524383, 4.861682732346537, -7.1936213772404045, -43.349469504074435, 4.278739422696404, -24.438928466528708, -7.380663887176837, -0.4704821719001302, -14.859054053186242, 32.4134627248165, 4.568578505620565, -12.26132893163583, -3.8582242033331227, 14.74171175381909, -39.06232622086969, 5.88995059936596, 13.317439742469702, 4.382086853137764, -5.505826701105775, -20.271933906626046, -59.78621037888594, -23.951499065938876, 32.831102260003775, 10.426781274782144, 16.84681092730898, -48.53244913455461, -3.5858511231173082, -6.334465373273332, 9.755328478899507, -39.85657979471973, 44.781047840107504, 7.5808373712784345, -12.690608464766925, 73.42786512257453, -16.755949120892154, -26.956822564879566, -5.999927513066751, -1.5718609024055539, -14.334914693298401, 7.572302031479197, 13.31322419397749, 39.583518394618125, 46.591368362529636, 7.439769079261396, 0.706641644596516, -42.42770579470785, -42.574339333403024, 20.010809784732118, -6.547409623184137, -3.7142168531165822, -7.918259635668321, -14.103005661196462, -18.008956447076585, -62.81390039666066, -15.871254114968423, -18.487564695781458, 43.58289066305588, -93.41659684450639, 47.360108894147395, -14.56963965409998, 33.51666171234072, -0.6932904340778094, -2.147072553174027, 7.750898756757579, -27.629168304925926, 10.843011681180087, 2.22510018864331, 20.16519453578924, -25.163099983918364, -32.92594150272939, 45.560641244159115, 3.5546390006994812, -35.41041342916792, 41.28197043725325, -3.9686557944728094, -9.283109278818813, 27.79369421956784, -71.48236089027537, -18.94655428133514, -73.39892196696502, 36.18174635612431, 46.77730680877633, 73.78957151154222, 13.429018750893334, 14.126596538034377, -23.357463904240873, 4.417988316228104, 5.225414774892755, 27.803309273342137, 12.552802576667546, -51.43979340630034, -15.535926859005201, -11.77212495853096, -60.4994847839589, -1.7457340909064243, 27.77434921792397, -46.100040380493624, 1.877172182931531, -5.601362490369354, 55.90728985004006, -65.9504942484805, -79.3486116861452, -14.075173174833338, 30.7306374060378, 41.343068701055074, -20.512752132753732, 1.0407604843242666, 44.32895982915116, -26.44783732540671, -30.28006578968163, 39.01061695893125, -4.40475348945003, -64.35218605792053, -10.921481899962757, -16.402760761317055, -14.662663531950813, -15.947623787713326, -0.89987895307695, -13.257172670182712, -6.418241095738082, 32.22126172693706, -36.52013763854085, 0.8848311517484717, 8.613121269237368, -11.005173386494903, 15.539993613118412, -0.2115617379474486, -0.24672334529950035, 3.486249908882442, 61.55712332338376, -16.183220833057547, 19.958824323288525, -39.90935638790596, -22.063415354332115, -39.91717301142845, 11.192564477011366, -1.6135368607926566, -23.738211767046096, 41.075695957328975, 0.24524186451483843, -0.719166150880767, -3.0343131060181037, 7.347506316801216, -73.14108924101141, 74.38221585817575, -78.83667036872164, 11.405059904415282, 79.10020255972748, 34.95430398828455, 0.01233976055311814, 0.21327214584043475, 22.977397850844667, -3.8716103985257746, -7.71910543084627, 2.480616231146783, 5.742082877740003, 23.002656171709518, 6.48887643166384, -5.865836471122421, 31.158510297980712, 67.8385003300586, 2.2046486057714105, 1.0471571030786464, 2.7106226733186105, -14.671305873339307, 18.67518020680818, 1.3296089167875493, -0.9497193928162488, 2.983266953004531, 9.269125183097373, 11.806681496410448, 9.488697205938223, -15.568512059688572, 21.977814651674322, -21.57750328202485, 3.012273371423248, 4.309444786226393, 16.79864550214245, 18.860562976554434, -43.84153175864623, -24.440679230528666, -8.931081020438256, -20.470360814942097, 12.641292842764415, 20.370695555646392, -25.663998979757196, 29.577954746147697, -39.80994554702204, -1.4356347541195902, 14.514606813580585, -19.222365965318943, 53.217581626883884, -10.841099889354055, 21.953105933144457, -66.2971896506802, -18.960507913673098, 59.94861524488755, -0.16527740817345205, 30.141405852836556, 28.56987979390201, -62.11614810119206, -3.929451142159323, 44.23394303200777, 2.2799738825249563, -3.863159819812182, 10.297890323625694, 1.6585710398215951, 11.504342801580833, 24.015620828591082, -48.75634644781268, -51.281465003335214, 46.174733530961646, 48.312374738545714, 73.00894638160719, -78.94737739327844, 5.700372248258901, 0.3534723444956569, 9.038826020635526, -0.5427936985313551, 13.925980866625423, -66.10116109617869, 5.0865041196606455, -1.3061813980912689, -9.82348576522709, -35.82069401668558, -0.6333063263140062, -22.64500843958723, 3.1705272140270893, 17.344981602403422, -24.49860512796964, -55.90366073422053, 1.8782880002082436, 3.510646953526006, 60.71606717462899, -5.38069894875489, -11.465353856358547, -0.1704409477987383, -0.23478308364342126, -28.50512682664177, 44.97562310741563, -24.20582892810355, -13.401774534244623, -18.760242969534843, -11.872294577280954, 42.96485088754747, 3.7912206175327867, 20.548390045142668, 25.901477434806623, -33.75520092981057, -10.399863288049858, -10.937305130650884, 13.18666941121731, 80.66552322690993, -0.48339860869137397, -22.280173652477913, 42.022204903398084, -45.74813483142024, 0.21272717981167943, -0.29959994248667954, -14.920654788602427, -43.67563919871576, -22.34418399106697, 22.409276827112777, 8.021254286891654, -40.89691187677247, -0.533611003378212, -8.505774958325233, 93.26089015081953, -35.83802398174752, -12.239433729791507, -45.82660829023466, -0.4191849303701787, -32.87721827997521, -0.7884611469189124, 3.2598815027396313, -7.5702321813546405, 11.392242439365077, 29.835128898896784, -80.90840071070954, 15.830095706950175, 17.91358325033852, 63.68167626456918, -17.15183423629817, 10.951528943345494, 17.395090744522506, -11.948771931559705, -18.39655188611384, 18.840025471539093, -64.4906637131601, -7.355278518482677, 26.761363697228965, -46.14581625400778, 7.1696580782893875, 15.992717338034936, -13.34361420561143, 7.737638075695031, -31.88232151534808, 48.02964640717917, 1.4350231479846798, -8.719764781073195, 27.09044064532928, -51.208261197259056, 3.8213724224198984, -17.72237827791598, -23.85221615857091, -75.88938176548425, -6.889670463530408, 70.68323562265718, 32.88556269325174, -1.6628619985933284, 1.825757520055987, -36.608008437618054, 0.4671973968292207, -8.745706953789863, 32.75189700385468, 43.47921833073124, -57.14320476073671, -12.627857600912279, 27.185137772881802, -20.536750820459268, -40.65328077301318, -44.905491844638014, -28.51187405087429, -3.250602871278943, -11.54085551531525, -30.82799691752298, 39.68520739376336, 18.274196023142764, -37.18617678900975, 6.672975218253299, 56.121674878566694, -3.1328014770244295, 9.549930652818745, -5.344347601146353, -6.354942535270425, -32.49720263386868, 51.46782853553063, -3.9719391855000623, -25.221727915948705, -63.376192675043754, 10.160160948909834, -13.798868947939383, -18.001799589316363, 43.881887115412155, -24.512586050362955, -2.186387127051475, 17.606062778437817, -34.099234539173736, 5.838384722692069, 12.129160075769036, 4.145571622701652, -6.157593374149911, 77.15075009650195, 29.352448794033194, 66.58883242821295, 14.259195979674189, 17.798401661158493, 11.537951210808927, -25.712002351141933, -8.538034461639874, -51.399918964707346, 7.354878048249105, 13.346738321500425, -5.424911518730468, 1.1433159056633855, 2.362908310224455, -16.967811422167642, 29.310838990487866, -2.823533528488298, 23.697076823844498, 27.584649309930313, -9.250475991766358, -0.45030037928850675, 0.518556527743911, 27.346815093459554, 15.021281131443374, -30.891705296069773, 2.523056569857374, 20.509509222426914, -9.355237612697117, -1.486401240363115, 25.832248323931765, 5.315442454818594, 8.648537111518294, 58.18786180954609, -31.299832189812136, -23.407210829351428, 2.098237481323565, -5.342203387460785, 4.608757729807763, -1.7156037303892901, 2.153910402027819, -4.164081680286614, -26.673842571662433, 8.23610340878571, -4.786225236128473, -7.562817686403207, -24.24264124574536, -10.644413381760103, 57.509111607481145, 9.552978904030823, -6.864291708817419, -0.24275050319847935, -6.203300922142944, -9.96437946334116, 52.25521302845462, -19.008964940126177, 13.186395421625377, -33.54602740687508, -55.00735388195193, -1.237407404932867, 2.4569575912564545, -6.790826802857765, 0.9579185606348517, 7.019663902795088, -0.1337117410238733, 2.0743412953557936, 6.127308543052692, -8.5200207912455, -9.274428629776324, 11.698613071256744, 0.4433376519068588, -23.650928945290772, 2.121867691161725, -3.073516102258168, 61.172763914562296, 5.76760773267597, -2.72739319420306, 23.20404469781427, -2.7375329914858213, 84.23353255348843, -3.7128240367212584, 0.5267773375711187, 0.6790937846084404, -61.515727855898426, 0.3794450032216332, -1.8532870650467714, 30.511646868923123, -16.2332778510073, 16.903438263399863, -52.11357437687687, -26.54392403594983, -13.612611088066558, 7.210423094109927, 12.196545997498376, 12.844451745630536, -36.27714749915762, -73.75587763595334, 15.111801003959073, 40.42940567624541, -7.748528522677077, 56.371764156155365, 20.44372162566441, -22.373085017991585, -19.205040952929323, -0.4918248239963958, 1.7809676371896899, 0.18062245326026982, -22.633099819291715, 0.6778556175213453, 43.34501252045746, 49.13354915031843, -18.069107840184955, 24.509647353248724, -28.775298483093565, -49.799282916349476, 18.162759725070316, -2.6752475873380064, 12.335745065720772, -29.936716768984, -30.35267561621022, -66.05185857208954, -70.46941813581034, 80.8762733199006, 16.555549189717453, 3.284694546562278, -17.56709587519417, -6.214000202290379, -6.375512781800424, 42.32066563253798, 73.80977026596045, -38.004382160917665, -48.666237023077706, -0.29811310967497207, 4.064364426143754, 9.459550305760317, -3.8664230675808824, -4.441505420975105, 6.860329145385435, 10.587101075003844, 53.59909568844995, -10.868075195948109, 17.666447915780694, -13.264576645753024, -39.77476762559176, 7.34968634176542, -16.285483075291765, 18.543999803221524, 16.074195154844134, 27.263950292071755, 22.449404778168486, -2.307069864623699, -21.002749305856057, -4.857558553611582, 7.911942710559799, 2.147387953171304, -4.490579617367402, -11.452904685662276, 4.5329581121369955, 8.56791864705157, 35.13334166796383, -36.9008508488786, -23.17988835057765, -40.51746097177917, -50.161943903815384, -17.12631322623332, 26.39833160336221, -5.7064013149466035, -26.323404229026565, -4.596752502947545, 10.45949751693999, 12.832023270484484, 3.036337527024372, 15.287994533202507, -23.506123816494977, -28.25411818621575, -16.877462787772068, -63.51652882995398, 26.408932746043355, -15.332750760819685, -35.57111082208104, 15.742231770602558, -26.62613192487126, 40.20977515447518, -65.9032926060396, -72.82445989786173, -14.446088983901262, 67.3696193455784, 11.160290218248598, -12.4741698512291, 14.615074190240037, 33.68228513143703, -5.384067958183209, -15.658588773062831, 4.782878027173581, 40.53337608749311, 18.59174648996914, -40.7373682359288, 33.643927840344446, 18.997615903186144, 27.839485820886026, -10.291488568603377, -58.354498668789724, 18.285392447072354, 18.668019858148504, -13.388440210027348, 39.2053661805102, 51.470328423589365, 64.22880282119453, -10.825026590040906, 23.850602868718582, -24.911728948554398, 50.251464391983006, -8.19265402193382, -25.91818192093875, 11.33684559828609, 28.03379862437069, -65.37488983870972, -0.04214680499647727, -5.614989843693593, -1.666445555083257, -2.189318583149685, -7.733079391288129, -11.730801139134698, -21.769702441976023, 57.45929012338365, 33.79026398974628, 7.611016211087829, -31.051548000125464, 2.5959072248388964, 0.7692849453819406, 3.0613923799840563, -3.7616442586702874, 13.698124518569358, 32.0238559940812, 45.17646345457703, -4.049476679343243, -9.73158529095086, -1.6823883609831043, 2.6010576146273507, -47.60284345901131, -1.2402680700885966, 26.755033670198756, -2.9535673049988276, 27.025345786930018, -11.273808191451792, 37.86720691378173, 8.39712835834797, -9.784916089460921, 19.110074044325344, 0.31408905287742783, -2.694125931444738, 17.98248120117313, 19.226198043087166, 38.22481543248685, -19.658712733227503, 9.258338405867292, -5.634839704276956, -20.730317630542828, 12.883446820911118, 22.5551317634238, -9.84530643052868, -15.329050509306128, -5.903763684088091, -52.668093669108096, -20.51491351506685, 22.20668868526647, 9.891664857049761, 16.942242696533995, 11.202697360787823, 10.456739092698882, -51.10934181245818, -6.503676247327093, -23.63660472556856, -14.150721527689214, -37.25886693829232, 25.932812547702866, 69.36709136462039, -2.1203733841857115, 5.385341025602045, 10.686065129225895, 0.9809671221200063, 1.8924582589587686, 18.859645062561455, -2.57719813238171, -1.186369802353994, 4.200445744655639, 0.14953925112010324, -0.7203329584006894, 1.755841673068673, 1.0205257583026253, -1.328020636952786, 21.61311719323163, -26.924823693349254, 11.556534980847132, -15.25749548358381, 41.75219281970115, -13.961976516392617, -37.52773288475111, -58.33538447776607, -81.97007668372396, 9.652006078194205, 21.320200145938628, 34.479778310648925, 2.9586865532953084, 4.5721706129406385, 22.00578986236782, -27.380967353104623, -4.863520066454413, 21.38443648253255, -22.367253270458647, -3.302678690815071, -10.460612749076105, -28.296067323727527, 0.14599733345832533, -14.971037312717158, -15.287443768418228, 20.213266909629837, -30.112071332129204, -7.3937579247998855, -15.264586978581846, 9.068024559788597, 24.612244276370745, -26.970848058445213, 40.411101419771455, 3.335969770732106, 42.409930489224706, -8.268267575578946, -50.78146022359369, -52.85531146421645, -86.44225279417088, -20.367103249914948, -26.44573723467404, 0.6390626926898335, -12.941205731995083, -16.19748244353154, -38.16766383867866, 0.8641320341558867, -10.60423950083927, 15.481899581593936, -73.80368683710864, -24.340158967513602, -64.85299351639506, 90.24582415869642, -25.024448547950797, 66.2641040860145, 82.09218512542034, -2.0917544287795238, 3.3791910506035094, -5.059945822507956, 32.09958025184167, 10.24705895356388, 10.776353995457825, -17.02581539903459, 22.156710074987245, -13.200030927443308, -7.717105030196734, -12.318469892399037, 26.149612680757215, -1.63905871138806, 32.077414346373985, 62.396079842341464, 14.89188914648716, -30.61061388120629, -63.037092683625474, 12.653459854433578, 23.00883153992035, -4.786846681861775, 8.449957799563279, 0.4890920922003801, 0.8879610837694116, 24.71322978292632, -0.34720310379663033, 1.4324741029197554, -0.3107593396260313, -29.094267663752916, 15.172210787637482, 61.00684235333395, 30.38374112631945, -67.97060355445839, -8.861650454278447, -32.59336684066179, -5.620817502957799, -51.694624118407084, -4.071041510619807, -50.38663247403896, -3.274210669232488, -7.262806247917936, 8.073275089008945, 38.14850323282201, -54.07641004563748, -62.06805631589063, -14.464711676009443, 22.37057325843699, -0.1798236216079232, 0.3425748219203655, 0.3797506726393465, 62.1143601563177, -37.438053028930945, -7.501263357270254, -3.0472549613273543, 4.315306370407583, 0.3926835817044889, 2.5052427136502473, -4.0452889655608, 30.654091487545045, -68.32031430454101, -34.669097519610006, -20.902570206751477, -31.15856834714444, -51.80423987549598, -15.335441744044445, 4.496322902809226, -3.4562719936391204, 3.4886623150810294, -14.025441176814653, 32.25397010444138, 44.833066342963264, -4.024997814422818, 8.386032037498879, -31.976184774339472, 2.9520734122213526, 32.1537964037295, -75.00712093801505, -13.146665818948932, -18.172024942707907, -3.5166632907546784, -2.0282328888988275, 2.92534400782867, 2.767333961726621, 41.91953103351349, -0.009812271508323533, 48.97511823861777, 72.70749003851395, -21.85036370950246, 37.72305148894537, 41.56269272364916, -9.495034493997927, -19.746120285263217, 50.81883953319738, -34.728698832044884, 28.21396115353818, 33.084831183326656, -6.419556435778091, 16.155662054137522, -86.9379276582243, -1.431123640223646, -2.7649923764698485, 29.211604781820824, -5.110462174757657, -65.19931322944086, 20.02307308696993, 71.70882996904143, -9.951057966627516, 28.097974372327094, -3.7767133282850054, 4.971980188071797, 10.415763042046649, 20.10582924350399, -71.40894837853322, -12.067761060227625, -15.803200523154757, -12.804193793859781, 22.406032813274976, -33.22561301668624, -1.816181177894876, -26.82846003371108, 44.11259073290063, 18.76741859409276, 20.04592207032323, -8.36228132566265, 17.02046227035288, -71.28954760045549, -6.604047315489623, 8.567398586198905, -19.558065964878182, 11.695584881144711, -15.120193053028984, 8.452885924730296, -14.009141700804648, 24.970931308990288, -7.263818915031393, 20.011465465728378, -57.43936017014588, -0.19756655947456636, -64.26036146734428, 0.46044612319488465, 5.037749093712463, 23.581294266294165, 28.89383374984439, -17.501058585425284, 27.141204022728175, 38.62757966396737, -38.97102902892231, -10.493641917177442, -19.438036613377548, 7.200980241020915, -14.744439656499964, 43.66722115834651, -26.391073503583215, 32.67309335860372, -1.5482633292045591, -2.687008942214902, 3.1710627553011506, 15.1579527356281, -29.951628263736055, 27.59495969366128, 39.86091410977372, -10.476046366110637, 32.88688764161108, 0.32652829537175876, 0.5878671329541589, -17.616113204943204, 38.636000527634366, -46.39215628390154, 52.21903902459769, 9.1205439946321, 15.094591401844838, 19.790602329336934, -75.36595792924096, -5.3964753848710245, 19.293838987438107, 18.35961730906628, -38.80955515853197, -14.588721156500654, 1.7561420327553066, 2.6158318221835515, -38.77102765860185, 32.57907646565246, 32.857422587515885, 69.04745769359505, -21.136657582632296, -37.302333550813806, 10.544549460533801, -28.625935321725635, 55.311629690865146, -6.621057028170384, -29.842081758894352, -90.7462032708315, -11.395599964766049, 26.70582119492184, -5.708543962305598, -75.85686346489548, -25.317166714274208, 19.204939471238276, 20.77696735370094, -21.128097211778837, 90.96413445032115, -20.6819335416168, -34.44193931106088, 41.891662549557225, 28.252583208370844, -1.107725141036049, -2.592430750702718, -16.142117597751863, -6.935605202757202, 33.52225434392605, 5.35914530647932, 7.801290425536706, 10.898388643125656, -9.12505884802097, -0.14635100567751635, 0.6172074914193075, -1.1423184314441386, 38.0137891904173, 1.1870945864566238, 9.696339888096446, 21.531299726723006, -4.142712636913757, 13.531910194344661, 16.77956560474196, -2.9022528637411398, 19.875429330659358, 1.8264403952327655, -7.476993866855381, 11.87597578446315, 29.690763094359625, 42.09584788156903, 23.722359581072823, 9.30253009869196, -10.571204473809956, 17.576852349597488, 18.441756394592687, 69.75960572239265, -3.4204638668888947, -11.202044281225838, -14.851949390935019, -26.179924018560087, -0.5805789138616646, 2.9959081491585096]\n",
            "{}\n",
            "[56.508545917017784, -31.198642467199207, -83.11394198072475, 86.4687959484881, -51.14665955310824, -29.62766252439934, -29.01308497955381, -76.09787459167536, 0.7518947689561202, 13.565106793721142, -17.132109013076118, 46.38115773403953, 51.88300169066531, 41.841496714322574, -13.540004523435158, -11.403662143062363, 35.8594133755272, -36.47540072361517, -71.32733765812861, 50.748355224993276, -37.565253322604875, 76.86601149288128, 17.979611232698403, -40.15718639615222, -29.630469190817266, 16.670586130174, 83.27618136694272, -29.468532304009628, 3.482091075884796, -51.21024248096848, -74.35335027307246, -4.6704489571225025, -97.6419870545605, -83.09392775070313, 12.044734652021873, -34.10538093776816, 90.42970915682241, -29.58376926384645, 7.003313151631275, 78.12864860628238, 51.367981041007425, 77.15898769777533, -11.859454049245912, 37.72958819779035, -5.172001109581231, 45.934604974330284, 23.821606666824096, 72.99492965277892, 61.231956514852016, -90.5192959193333, 97.15262641059809, 26.010158138481472, -90.60078876131483, 21.53492603289429, -96.22784036676977, -49.69295899219532, -41.88635865528434, 39.86032793226789, -22.92202316816936, -5.3154782780249406, 7.754834426524383, 26.44254686406775, -7.1936213772404045, -43.349469504074435, 77.59552482228253, -24.438928466528708, -37.56925416544945, -30.188590278272613, -14.859054053186242, 73.76602802534455, 41.352565300528056, -12.26132893163583, -18.599935957152212, 14.74171175381909, -39.06232622086969, 72.47714931171447, 13.317439742469702, 70.45200726640707, -5.505826701105775, -20.271933906626046, -59.78621037888594, -89.61370358594642, 32.831102260003775, 77.81402498401806, 16.84681092730898, -48.53244913455461, -92.26836634894396, -6.334465373273332, 49.611908273619235, -39.85657979471973, 90.43371060568671, 45.65266276557921, -12.690608464766925, 73.42786512257453, -94.28930418113923, -77.53335506024708, -50.57653249536751, -44.57660498230076, -14.334914693298401, 74.13842300136665, 13.31322419397749, 39.583518394618125, 46.591368362529636, 93.0018223132736, 85.56205323401221, -42.42770579470785, -42.574339333403024, 54.0272151680378, -34.01640538330568, -27.468995760121544, -7.918259635668321, -32.11196210827305, -18.008956447076585, -62.81390039666066, -71.3339482023128, -18.487564695781458, 43.58289066305588, -93.41659684450639, 95.4464102605881, -48.0863013664407, 33.51666171234072, -35.99103056745618, -17.648870066689184, 7.750898756757579, -27.629168304925926, 73.56369547719112, 62.72068379601103, 20.16519453578924, -58.08904148664775, -32.92594150272939, 45.560641244159115, 80.24702286712065, -76.69238386642117, 41.28197043725325, -87.51663930384213, -9.283109278818813, 27.79369421956784, -71.48236089027537, -92.34547624830016, -73.39892196696502, 82.95905316490064, 46.77730680877633, 73.78957151154222, 88.39713963544384, 37.48406044227525, -23.357463904240873, 61.89755084004841, 5.225414774892755, 27.803309273342137, 63.992595982967885, -51.43979340630034, -87.80753660149506, -72.27160974248986, -60.4994847839589, -85.06878174467833, 27.77434921792397, -46.100040380493624, 57.89079708662507, -5.601362490369354, 55.90728985004006, -65.9504942484805, -79.3486116861452, -86.14887928192621, 72.07370610709287, 41.343068701055074, -65.88247244622916, 45.369720313475426, 44.32895982915116, -87.00796890476997, -30.28006578968163, 39.01061695893125, -68.75693954737056, -64.35218605792053, -76.53252494523097, -16.402760761317055, -62.50553489509079, -15.947623787713326, -80.44291497417322, -13.257172670182712, -38.63950282267514, 32.22126172693706, -36.52013763854085, 69.78980130564742, 8.613121269237368, -26.545166999613315, 15.539993613118412, -89.52541273636658, -0.24672334529950035, 3.486249908882442, 61.55712332338376, -76.05969380292312, 19.958824323288525, -39.90935638790596, -61.98058836576057, -39.91717301142845, 60.282524871896214, -49.08996039488485, -23.738211767046096, 41.075695957328975, 98.05183838429915, -0.719166150880767, -32.424338373222966, 7.347506316801216, -73.14108924101141, 74.38221585817575, -78.83667036872164, 90.50526246414276, 79.10020255972748, 79.3272500836481, 44.372946095363545, 0.21327214584043475, 22.977397850844667, -81.69188249991191, -38.91013605069307, 31.1910306198468, 5.742082877740003, 23.002656171709518, 80.5375699698701, -37.02434676910313, 31.158510297980712, 67.8385003300586, 96.46013370476146, 47.127742549495025, 2.7106226733186105, -14.671305873339307, 18.67518020680818, 48.92777139030426, -15.866054157838903, 2.983266953004531, 9.269125183097373, 11.806681496410448, 56.19423338500394, -15.568512059688572, 21.977814651674322, -69.81823060160903, 24.12036365979209, 21.108090288368842, 16.79864550214245, 18.860562976554434, -43.84153175864623, -53.84212106590902, -29.401441835380353, -20.470360814942097, 58.675987378168, 46.03469453540359, -25.663998979757196, 69.38790029316974, -39.80994554702204, -74.00866882202251, 14.514606813580585, -72.43994759220283, 53.217581626883884, -99.09139547317871, 88.25029558382465, -66.2971896506802, -78.90912315856065, 59.94861524488755, -90.58949496668312, 30.141405852836556, 90.68602789509407, -62.11614810119206, -92.39733720617487, 44.23394303200777, 91.13264973820515, -3.863159819812182, 10.297890323625694, 59.18028504772576, 11.504342801580833, 24.015620828591082, -48.75634644781268, -51.281465003335214, 94.48710826950736, 48.312374738545714, 73.00894638160719, -78.94737739327844, 79.42486979132573, 18.431124385766708, 9.038826020635526, -14.468774565156778, 13.925980866625423, -66.10116109617869, 67.945962905297, -20.95315292854545, -9.82348576522709, -35.82069401668558, -45.923323205488465, -22.64500843958723, 86.85770067477321, 41.84358673037306, -24.49860512796964, -55.90366073422053, 93.1551087918844, 3.510646953526006, 60.71606717462899, -62.707468230547626, -11.465353856358547, -30.22267565415666, -0.23478308364342126, -73.4807499340574, 44.97562310741563, -56.36784643188302, -32.16201750377947, -18.760242969534843, -97.8019963523759, 42.96485088754747, 85.98478079810346, 20.548390045142668, 94.18051619453524, -68.27903875972862, -34.52383782991805, -24.123974541868193, 13.18666941121731, 80.66552322690993, -89.60409321860303, -22.280173652477913, 87.77033973481832, -45.74813483142024, 52.6427171149806, -0.29959994248667954, -58.596293987318184, -43.67563919871576, -44.75346081817975, 22.409276827112777, 48.918166163664125, -40.89691187677247, -68.57981066998008, -8.505774958325233, 93.26089015081953, -93.90406600177369, -58.06604202002617, -45.82660829023466, -66.1736214903206, -32.87721827997521, -46.42680218527375, 3.2598815027396313, -18.962474620719718, 11.392242439365077, 29.835128898896784, -80.90840071070954, 97.42535522185787, 81.5952595149077, 63.68167626456918, -97.68372615773369, 80.53189192143552, 17.395090744522506, -48.741875703787386, -18.39655188611384, 83.3306891846992, -64.4906637131601, -80.26245846971942, 72.90717995123674, -46.14581625400778, 87.13324476846407, 15.992717338034936, -84.84589531200263, 71.5022811063912, -31.88232151534808, 48.02964640717917, 97.35243573978983, -8.719764781073195, 27.09044064532928, -51.208261197259056, 74.71088553408381, -17.72237827791598, -23.85221615857091, -75.88938176548425, -77.57290608618759, 70.68323562265718, 91.14690781358067, -58.261345120328926, 1.825757520055987, -80.80374060339659, 44.19573216577854, -8.745706953789863, 32.75189700385468, 43.47921833073124, -57.14320476073671, -66.99813314667588, 27.185137772881802, -61.19003159347245, -40.65328077301318, -44.905491844638014, -74.13132935499146, -45.619455304117174, -42.36885243283823, -30.82799691752298, 39.68520739376336, 92.64654960116226, -37.18617678900975, 62.79465009681999, 56.121674878566694, -69.98231604675564, 9.549930652818745, -30.764117742228052, -6.354942535270425, -32.49720263386868, 51.46782853553063, -79.63712293334618, -25.221727915948705, -63.376192675043754, 79.15450568860675, -13.798868947939383, -18.001799589316363, 43.881887115412155, -79.51716151272788, -55.004575462364926, 17.606062778437817, -88.45425956494195, 54.355025025768214, 12.129160075769036, 47.24872524175103, -6.157593374149911, 77.15075009650195, 95.94128122224615, 66.58883242821295, 95.01955355392548, 80.76035757425129, 62.961955913092794, -25.712002351141933, -59.93795342634722, -51.399918964707346, 60.741831334250804, 13.346738321500425, -96.12991371623009, 12.95785745678566, 2.362908310224455, -75.58948940314338, 29.310838990487866, -81.68990897219342, 78.86637544370512, 27.584649309930313, -58.172065385160884, -9.784317878678905, 0.518556527743911, 73.2598015209727, 45.91298642751315, -30.891705296069773, 43.5420750147112, 20.509509222426914, -67.93494096636547, -58.57970335366836, 57.09330211330524, 31.261053789373477, 8.648537111518294, 58.18786180954609, -99.54290760017341, -68.24307541036127, 44.835864581009844, -5.342203387460785, 70.02743722158974, -8.177334936472747, 2.153910402027819, -30.837924251949048, -26.673842571662433, 78.31109537226831, -35.0374959817413, -7.562817686403207, -24.24264124574536, -68.15352498924125, 57.509111607481145, 68.09391107293618, -19.513644056301786, -12.649352347484367, -6.203300922142944, -9.96437946334116, 52.25521302845462, -65.74138776862664, 46.73242282850046, -33.54602740687508, -55.00735388195193, -92.14483828142168, 2.4569575912564545, -6.790826802857765, 36.00808280183071, 17.52508212059793, -10.505418217802841, 2.0743412953557936, 14.647329334298192, -8.5200207912455, -9.274428629776324, 11.698613071256744, 47.7451955424884, -23.650928945290772, 48.22460922503424, -3.073516102258168, 61.172763914562296, 83.56192140872795, -25.93143789201733, 23.20404469781427, -86.97106554497425, 84.23353255348843, -84.74712884862214, 27.011434937300294, 0.6790937846084404, -61.515727855898426, 93.0437982555602, -1.8532870650467714, 30.511646868923123, -33.136716114407164, 16.903438263399863, -52.11357437687687, -97.44895370438414, -70.90502966843431, 57.29241858036775, 25.040997743128912, 12.844451745630536, -36.27714749915762, -73.75587763595334, 95.97061235644989, 40.42940567624541, -64.12029267883244, 56.371764156155365, 65.18989166164758, -22.373085017991585, -84.79535036374735, -21.863436470272674, 1.7809676371896899, 45.4468220918437, -22.633099819291715, 93.15641728829723, 92.47856167077589, 49.13354915031843, -91.59804989993113, 24.509647353248724, -28.775298483093565, -49.799282916349476, 72.85623516262942, -27.34673771877955, 12.335745065720772, -29.936716768984, -30.35267561621022, -66.05185857208954, -70.46941813581034, 80.8762733199006, 94.30241690914758, 77.74686771943013, -74.46217317286785, -18.965025765891227, -6.375512781800424, 42.32066563253798, 73.80977026596045, -86.67061918399537, -48.666237023077706, -49.070486223400025, 4.064364426143754, 9.459550305760317, -74.93050980318256, -4.441505420975105, 49.20873344540081, 10.587101075003844, 53.59909568844995, -99.20031477485158, 17.666447915780694, -92.81411189693654, -39.77476762559176, 42.17916922027871, -34.82948287851329, 18.543999803221524, 97.8660460310594, 27.263950292071755, 92.37886228960775, -23.309819170479756, -21.002749305856057, -99.80087108032917, 7.911942710559799, 87.46840068315194, -4.490579617367402, -98.12808631062282, 21.668795406240136, 8.56791864705157, 35.13334166796383, -36.9008508488786, -63.69734932235682, -40.51746097177917, -50.161943903815384, -96.32130803631995, 26.39833160336221, -32.02980554397317, -26.323404229026565, -56.894240087647496, 10.45949751693999, 61.73234439711638, 48.900321126631894, 15.287994533202507, -80.01436018892647, -28.25411818621575, -80.39399161772604, -63.51652882995398, 77.31279432894408, -50.903861582900724, -35.57111082208104, 82.578138849949, -66.83590707934644, 40.20977515447518, -65.9032926060396, -72.82445989786173, -81.81570832947966, 67.3696193455784, 67.47968264019781, -56.31939242194921, 14.615074190240037, 33.68228513143703, -68.01842305043454, -15.658588773062831, 85.8496302021598, 40.53337608749311, 59.32911472589794, -40.7373682359288, 80.48102956441662, 46.83710172407217, 27.839485820886026, -68.6459872373931, -58.354498668789724, 89.5472186957584, 71.26182624868605, -52.593806390537544, 39.2053661805102, 51.470328423589365, 64.22880282119453, -82.37683519619665, 23.850602868718582, -75.1631933405374, 50.251464391983006, -60.02901786381132, -25.91818192093875, 39.37064422265678, 28.03379862437069, -65.37488983870972, -95.49697414778755, -5.614989843693593, -93.61782604737003, -2.189318583149685, -41.23358297239885, -33.50050358111072, -21.769702441976023, 57.45929012338365, 72.45282820095957, 38.662564211213294, -31.051548000125464, 69.67428506891355, 67.07837784407465, 33.154546449346356, -3.7616442586702874, 45.72198051265056, 32.0238559940812, 45.17646345457703, -81.90215900695013, -9.73158529095086, -51.886289434621766, 50.20390107363866, -47.60284345901131, -54.75033541048611, 26.755033670198756, -84.02960466578888, 27.025345786930018, -87.00822201901525, 37.86720691378173, 94.62234062511027, -86.2252122667623, 19.110074044325344, 59.44309227166963, -59.1290032187922, 56.43487728734746, 19.226198043087166, 38.22481543248685, -96.74284373500024, 77.08413100177273, -67.82579259590544, -20.730317630542828, 80.54884211118252, 22.5551317634238, -71.1615084677532, -15.329050509306128, -58.57185735319619, -52.668093669108096, -64.9282908855998, 22.20668868526647, 77.66063564318574, 16.942242696533995, 72.76877826594489, 61.566080905157065, -51.10934181245818, -53.77688569846421, -23.63660472556856, -51.409588465981535, -37.25886693829232, 95.29990391232326, 69.36709136462039, -77.00744621074517, 37.44353641327973, 10.686065129225895, 35.04521578337784, 1.8924582589587686, 18.859645062561455, -98.44981104903442, -9.587261291665271, 4.200445744655639, 90.19115905120628, -0.7203329584006894, 20.75366659140998, 6.3326083061137695, -1.328020636952786, 48.537940886580884, -26.924823693349254, 87.84401239876618, -15.25749548358381, 41.75219281970115, -51.48970940114373, -37.52773288475111, -58.33538447776607, -81.97007668372396, 94.93280666194872, 21.320200145938628, 34.479778310648925, 94.40209881210808, 4.5721706129406385, 49.38675721547244, -27.380967353104623, -70.98246308990426, 66.11894302344984, -22.367253270458647, -76.52696793434781, -10.460612749076105, -73.35517659533733, 45.0591092716098, -14.971037312717158, -96.14051140693758, 20.213266909629837, -30.112071332129204, -53.187518860545424, -15.264586978581846, 58.29251311253009, 24.612244276370745, -26.970848058445213, 86.15700167972827, 45.74590025995681, 42.409930489224706, -59.049727799172636, -50.78146022359369, -52.85531146421645, -86.44225279417088, -99.21672610525916, -78.84962285534421, 52.40388562067017, -12.941205731995083, -16.19748244353154, -38.16766383867866, 84.00020936221017, -41.56803866402714, 15.481899581593936, -73.80368683710864, -89.19315248390866, -64.85299351639506, 90.24582415869642, -91.2885526339653, 66.2641040860145, 82.09218512542034, -93.32991279507428, 3.3791910506035094, -90.51200100974481, 85.45205518723685, 53.35247493539518, 10.776353995457825, -39.18252547402184, 22.156710074987245, -33.23560585003908, -20.03557492259577, -12.318469892399037, 26.149612680757215, -65.79388740413603, 32.077414346373985, 62.396079842341464, 76.11311690889974, -30.61061388120629, -63.037092683625474, 81.67995447419463, 23.00883153992035, -61.735234151243205, 28.474193734690715, 20.024235935127436, 0.8879610837694116, 24.71322978292632, -67.67348594102513, 1.4324741029197554, -87.59356233088478, -29.094267663752916, 76.17905314097143, 61.00684235333395, 98.35434468077784, -67.97060355445839, -98.77045891630512, -89.90880846202667, -57.31544162136488, -51.694624118407084, -54.45767398465877, -50.38663247403896, -75.90227314841185, -7.262806247917936, 46.22177832183095, 38.14850323282201, -54.07641004563748, -62.06805631589063, -81.57643145132042, 22.37057325843699, -95.07304929354916, 0.3425748219203655, 62.49411082895705, 62.1143601563177, -91.65078719477128, -54.21273416584034, -11.677867702142521, 4.315306370407583, 91.31943374752149, 22.73168754145425, -4.0452889655608, 98.97440579208606, -68.32031430454101, -86.73023607350592, -52.061138553895915, -31.15856834714444, -51.80423987549598, -70.59118726911875, 18.418581841691434, -13.922258938882209, 3.4886623150810294, -14.025441176814653, 32.25397010444138, 44.833066342963264, -96.27135022691049, 8.386032037498879, -31.976184774339472, 99.41346262340986, 32.1537964037295, -75.00712093801505, -85.83476558978056, -18.172024942707907, -90.37987240668494, -86.86320911593026, 2.92534400782867, 86.60639602875361, 41.91953103351349, -48.98493051012609, 48.97511823861777, 72.70749003851395, -97.2964666873932, 37.72305148894537, 90.54996778817352, -48.98727506452436, -19.746120285263217, 50.81883953319738, -96.02749116890972, 61.298792336864835, 33.084831183326656, -87.1978667064657, 16.155662054137522, -86.9379276582243, -92.67587206372865, -2.7649923764698485, 29.211604781820824, -70.30977540419852, -65.19931322944086, 91.73190305601136, 71.70882996904143, -96.51752773602938, 86.56646976940186, -58.46849539707477, 4.971980188071797, 50.62742152905463, 20.10582924350399, -71.40894837853322, -75.28056315284665, -15.803200523154757, -57.61625942040973, 22.406032813274976, -88.69871426200328, -55.47310124531704, -26.82846003371108, 44.11259073290063, 98.95110687538568, 20.04592207032323, -59.42366813672129, 17.02046227035288, -71.28954760045549, -75.14323600508087, 8.567398586198905, -76.61423000510985, 57.056164040231664, -15.120193053028984, 50.48031102714424, -14.009141700804648, 24.970931308990288, -27.27528438075977, 20.011465465728378, -57.43936017014588, -64.45792802681885, -64.26036146734428, 76.24207801578984, 75.78163189259496, 23.581294266294165, 28.89383374984439, -98.92467065360981, 27.141204022728175, 38.62757966396737, -38.97102902892231, -49.36971514393254, -19.438036613377548, 95.6676181800207, -14.744439656499964, 43.66722115834651, -59.06416686218694, 32.67309335860372, -82.15853159565162, -2.687008942214902, 18.32901549092925, 15.1579527356281, -29.951628263736055, 67.455873803435, 39.86091410977372, -76.2498216493328, 32.88688764161108, 71.37884824809873, 71.05231995272698, -17.616113204943204, 38.636000527634366, -46.39215628390154, 52.21903902459769, 63.79634005515081, 54.67579606051871, 19.790602329336934, -75.36595792924096, -82.57183133462345, 19.293838987438107, 95.97872762613022, -38.80955515853197, -55.58234052200923, 40.99361936550858, 2.6158318221835515, -38.77102765860185, 98.29392164068423, 32.857422587515885, 69.04745769359505, -95.74132468425991, -37.302333550813806, 67.79642010398507, -28.625935321725635, 55.311629690865146, -66.30522054595909, -29.842081758894352, -90.7462032708315, -91.51306354953157, 26.70582119492184, -81.56540742720108, -75.85686346489548, -86.07604089291436, 60.758874178640156, 20.77696735370094, -21.128097211778837, 90.96413445032115, -97.0155354022349, -76.3336018606181, 41.891662549557225, 70.83920036065038, -42.58661715227954, -2.592430750702718, -16.142117597751863, -84.8234569808461, 77.8878517780889, 44.36559743416285, 7.801290425536706, 66.5993081657455, -55.70091952261984, -46.57586067459887, 2.9018443543075847, -1.1423184314441386, 77.98624332925971, 39.97245413884241, 9.696339888096446, 86.29696396181001, -64.765664235087, 30.311475799086622, 16.77956560474196, -82.40397018637857, 19.875429330659358, 46.68840359636505, -7.476993866855381, 41.566738878822775, 29.690763094359625, 42.09584788156903, 98.62353342527163, 37.450586922099404, -28.148056823407444, 17.576852349597488, 88.20136211698534, 69.75960572239265, -93.0368181166956, -11.202044281225838, -93.39172144661528, -26.179924018560087, -45.51920115123931, 2.9959081491585096]\n",
            "[56.508545917017784, -62.397284934398414, -332.455767922899, 691.7503675879047, -818.3465528497319, -948.0852007807789, -1856.8374386914438, -9740.527947734447, 192.48506085276676, 6945.334678385225, -17543.279629389945, 94988.61103931296, 212512.7749249651, 342765.5410837305, -221839.43411196163, -373675.2011038675, 2350082.5149785504, -4780903.723645687, -18698033.603052467, 26606753.664201275, -39390023.06800373, 161199709.73431897, 75411955.31175184, -336862895.0602537, -497116781.7956865, 559372048.7050667, 5588569929.793493, -3955199453.3387775, 934716705.7886658, -27493289584.49869, -79836301942.71973, -10029712764.239227, -419369141115.7927, -713771404370.9136, 206926965677.72754, -1171851965962.6885, 6214282294645.504, -4065962287380.176, 1925056060793.793, 42951678802516.33, 56479692449964.78, 169674408322258.62, -52158430504884.19, 331872967477365.0, -90986805741679.0, 1616180233170350.0, 1676296545438680.0, 1.027312306200596e+16, 1.7235263533965872e+16, -5.095783342151864e+16, 1.0938413302520864e+17, 5.856966925015642e+16, -4.080296785049305e+17, 1.9396936971438784e+17, -1.7334866640738076e+18, -1.7903775328015055e+18, -3.018230227709528e+18, 5.744478656724079e+18, -6.606823359919706e+18, -3.0641646070027633e+18, 8.940715375005467e+18, 6.097236183231611e+19, -3.3174723127279944e+19, -3.99828284836369e+20, 1.4313847876618226e+21, -9.016373177155002e+20, -2.77212166652077e+21, -4.455049590474969e+21, -4.385618676744691e+21, 4.3543777290163755e+22, 4.8820492088973e+22, -2.895124439109846e+22, -8.783571414757754e+22, 1.3923153097272152e+23, -7.378664803534205e+23, 2.7381092854686335e+24, 1.0062372972396013e+24, 1.0646406328504621e+25, -1.6640340143226023e+24, -1.2253632156620742e+25, -7.2277093383947335e+25, -2.1667264011268543e+26, 1.5876146883410707e+26, 7.525710714505381e+26, 3.258647153310352e+26, -1.8775081871326955e+27, -7.138919066425596e+27, -9.802110391302337e+26, 1.535414191931672e+28, -2.4670027978428117e+28, 1.1195151125992652e+29, 1.1303051827500668e+29, -6.2840849365715784e+28, 7.271943538758521e+29, -1.8675920787550507e+30, -3.071412627494707e+30, -4.007085735950948e+30, -7.06344500774378e+30, -4.542915803795046e+30, 4.69908082088284e+31, 1.687651664046855e+31, 1.0035614170416565e+32, 2.3624630428086092e+32, 9.431505270219234e+32, 1.7354046102216847e+33, -1.7210722149429801e+33, -3.454040755859754e+33, 8.76641686226212e+33, -1.103895467564908e+34, -1.78283975490482e+34, -1.0278488657835937e+34, -8.336741998808778e+34, -9.350784798564628e+34, -6.522968354038014e+35, -1.4815481406310194e+36, -7.679433927349236e+35, 3.6207249004104305e+36, -1.552149447458384e+37, 3.1717510153886586e+37, -3.1958828995011717e+37, 4.455128507329568e+37, -9.568057085482684e+37, -9.383748874645464e+37, 8.242169295981338e+37, -5.87607424178573e+38, 3.129053552053716e+39, 5.335685684251596e+39, 3.430930063029769e+39, -1.9766676529245087e+40, -2.2408234615298234e+40, 6.201393136399278e+40, 2.184531750366599e+41, -4.175530545099998e+41, 4.495208515695598e+41, -1.9059436267057556e+42, -4.0433643491612055e+41, 2.4211722379549056e+42, -1.2453983721901889e+43, -3.217770212578599e+43, -5.115158301975372e+43, 1.1562804415886279e+44, 1.3039610002700157e+44, 4.113906081469143e+44, 9.856610436444826e+44, 8.359224809295015e+44, -1.041777702024704e+45, 5.521446038788059e+45, 9.322451476121647e+44, 9.920552252491946e+45, 4.5666642483477795e+46, -7.341732645241341e+46, -2.506462080333559e+47, -4.125979530124569e+47, -6.907820005424373e+47, -1.9426275594623845e+48, 1.2685080268061301e+48, -4.210955281069511e+48, 1.0575936841061701e+49, -2.0466001127396787e+48, 4.085429782728346e+49, -9.638675532693654e+49, -2.3193625179847047e+50, -5.0362691249902984e+50, 8.426867158721803e+50, 9.66767401582016e+50, -3.0811949232503044e+51, 4.2437069134969255e+51, 8.292716463549471e+51, -3.2553545987880344e+52, -2.2658235253814866e+52, 5.838241849217711e+52, -2.058002016795525e+53, -3.852321803856845e+53, -9.162949469513584e+53, -3.927680894470056e+53, -2.9934204220676203e+54, -1.5274788963798405e+54, -1.5409801061521787e+55, -5.079139500386034e+54, -2.960743288851229e+55, 4.937893991760377e+55, -1.1193389616574474e+56, 4.278102371952842e+56, 1.055965595043473e+56, -6.50885600935164e+56, 7.620790693500275e+56, -8.780626932010242e+57, -4.8397110591871904e+55, 1.3677215845648522e+57, 4.830004070482802e+58, -1.1935860899082707e+59, 6.264178539799615e+58, -2.5051509024069e+59, -7.7811691758200635e+59, -1.0022566239270717e+60, 3.0271963318949638e+60, -4.930282809356722e+60, -4.76822944889285e+60, 1.6501524632061784e+61, 7.878161470463213e+61, -1.1556554479936056e+60, -1.0420780578371729e+62, 4.722794972360449e+61, -9.402655911993853e+62, 1.912441799660592e+63, -4.053940636742536e+63, 9.307926365393675e+63, 1.6269967974632762e+64, 3.263333788310049e+64, 3.6507942510844464e+64, 3.5094028793010827e+62, 7.561882575789477e+64, -5.376974597990141e+65, -5.122144495792288e+65, 8.21199728520051e+65, 3.023559534027917e+65, 2.4224624359066098e+66, 1.6963192117887586e+67, -1.5596475223142368e+67, 2.62509929956695e+67, 1.143076469298663e+68, 3.250700075233236e+68, 3.1764035641939795e+68, 3.6539121353719515e+67, -3.9553762388268165e+68, 1.0069637247499515e+69, 5.276360428900567e+69, -3.421983791307684e+69, 1.2868594871500023e+69, 7.996643858798338e+69, 2.037168022139264e+70, 1.9391917248782364e+71, -1.0744992123292044e+71, 3.0337060396526676e+71, -1.927470871976145e+72, 1.3317810541778395e+72, 2.3309229605676006e+72, 3.710079687214124e+72, 8.330932583798267e+72, -3.87306408515762e+73, -9.513079356674376e+73, -1.0389570241418834e+74, -1.446719876833396e+74, 8.293719685767173e+74, 1.3013802386855577e+75, -1.4510195605715024e+75, 7.846259709703817e+75, -9.00327493615913e+75, -3.347507181474458e+76, 1.3130286307833443e+76, -1.3106207618660716e+77, 1.925679675229468e+77, -7.171249817050312e+77, 1.2773357626827194e+78, -1.9191725250537092e+78, -4.568526115207214e+78, 6.941575406089553e+78, -2.0979093770291156e+79, 1.396054542499926e+79, 8.400579707685183e+79, -1.1508093702418528e+80, -3.423641828821695e+80, 3.278042034483587e+80, 1.3507123085976743e+81, -1.1451477672798888e+80, 6.10516088478393e+80, 7.017071459672136e+81, 2.7281651472329196e+81, 1.1390234255662154e+82, -4.6248748800169005e+82, -9.728799493138839e+82, 3.585100897490945e+83, 3.666208887270504e+83, 1.1080641327322226e+84, -2.3963845966363563e+84, 4.8217569941464855e+84, 2.237848249560752e+84, 2.194930766566139e+84, -7.027009564089231e+84, 1.3526784911661955e+85, -1.284126694015479e+86, 2.639930169768876e+86, -1.6282015355333472e+86, -1.5267024167463144e+86, -1.113403967426422e+87, -2.8548419654057726e+87, -2.8154722214256134e+87, 2.159817640334536e+88, 2.0809787975742733e+88, -2.4367451179534513e+88, -1.1120875793398905e+89, 3.7062560153988576e+89, 2.793482087711538e+88, 9.66256352939536e+89, -1.9958963870387086e+90, -7.298543214627406e+89, -3.8477923505378447e+90, -5.978269850204974e+88, -3.742073279592821e+91, 4.5808481163933134e+91, -1.148233310902432e+92, -1.3103037345339647e+92, -1.5286115941487435e+92, -1.593809481016991e+93, 1.400335151612494e+93, 5.604930940895086e+93, 2.678899825773378e+93, 2.4556684769026685e+94, -3.560623574607463e+94, -3.600706544674846e+94, -5.032079773077787e+94, 5.501280255729491e+94, 6.730488744470963e+95, -1.4952592303155062e+96, -7.435962824962415e+95, 5.858634619123308e+96, -6.107338932342216e+96, 1.4055520161656296e+97, -1.5998539827854944e+95, -6.258046215496101e+97, -9.329059911401598e+97, -1.911856242404527e+98, 1.9146369914830303e+98, 8.359085499728919e+98, -1.3976843772477743e+99, -4.687538768543614e+99, -1.1627664026523787e+99, 2.549811869703611e+100, -5.134793410561282e+100, -6.350249624679153e+100, -1.0023428219716294e+101, -2.8947660313244085e+101, -2.8764287804690027e+101, -8.123764538327803e+101, 1.1408285087318388e+101, -1.3272219634511575e+102, 1.5947321940739234e+102, 8.352884135437642e+102, -4.5303541272456654e+103, 1.0910396355648052e+104, 1.8275255348514796e+104, 2.8526139917327577e+104, -8.751464482324819e+104, 1.442967052069331e+105, 6.233690085560011e+104, -3.4934195146061395e+105, -2.637029143111977e+105, 2.3889852539325803e+106, -3.6977311992603456e+106, -9.204091870813104e+106, 1.6721251631390056e+107, -2.1167073142459796e+107, 7.993599051327859e+107, 2.9343420064562837e+107, -3.1135030955282643e+108, 5.24769224824452e+108, -4.6798118572800835e+108, 1.4099958727853816e+109, 5.715908521791241e+109, -1.0239369450060975e+109, 6.362305344166286e+109, -2.405295640231357e+110, 7.018467842941497e+110, -3.329740804296934e+110, -8.962871254708782e+110, -5.703342229011834e+111, -1.1659729485627328e+112, 2.124833135974998e+112, 5.479997293781894e+112, -7.005657597172478e+112, 4.390778144431141e+111, -3.886510605403912e+113, 4.251466095337394e+113, -1.682609372974016e+113, 1.2602445787983944e+114, 3.3460320900036345e+114, -8.795144172126509e+114, -2.062391294837645e+115, 1.6736702609014475e+115, -7.534406262511173e+115, -1.0011380130762686e+116, -2.211708084893211e+116, -7.302307746480834e+116, -8.98749030284483e+116, -1.6694177860928153e+117, -2.4293698511333408e+117, 6.254707150537056e+117, 2.920367937167651e+118, -2.3443359492172523e+118, 7.9175526150890385e+118, 1.4152362120430856e+119, -3.529527872655747e+119, 9.632932524992045e+118, -6.206299944478101e+119, -2.5640702479611506e+119, -2.62237179810853e+120, 8.306424622579493e+120, -2.5705368873228165e+121, -1.628220095902493e+121, -8.182658290437208e+121, 2.043967126644343e+122, -7.12642553171074e+121, -1.8594057917942856e+122, 9.065119812319722e+122, -3.2853308899529375e+123, -4.545137865021248e+123, 2.909648221645537e+123, -2.9236608125163407e+124, 3.5931713727027414e+124, 1.603610732899901e+124, 1.2493620735516e+125, -3.2564110826920683e+124, 8.160154215669994e+125, 2.0295218113711876e+126, 2.8172124884124055e+126, 8.040095107661711e+126, 1.3667101802519955e+127, 2.131014490268594e+127, -1.7405002366741791e+127, -8.114655614885635e+127, -1.3917480233760722e+128, 3.289395213005377e+128, 1.445550658569732e+128, -2.082316394214375e+129, 5.6137279173698465e+128, 2.047363831795491e+128, -1.3099042903885132e+130, 1.0158659372272556e+130, -5.662478373067219e+130, 1.0933520453895762e+131, 7.648312116459443e+130, -3.2258384547570014e+131, -1.0851472663942984e+131, 1.1502287753312493e+130, 3.250003703592112e+132, 4.073649473092672e+132, -5.4817596847439446e+132, 1.5453157351990385e+133, 1.4557720233552502e+133, -9.644090981853602e+133, -1.66320300215607e+134, 3.242001787020192e+134, 3.5502725713132134e+134, 1.9644036503622406e+134, 2.6433244529462216e+135, -9.043954996598189e+135, -1.2400427468318972e+136, 1.629422130737589e+136, -3.8829202950696666e+135, 1.0179730627166196e+137, -2.3774414773454995e+136, 1.25243639108555e+136, -3.5862716037137925e+137, -6.2040261461916715e+137, 3.642850346148551e+138, -3.2597259368808064e+138, -1.4072188823719834e+138, -9.021691103546174e+138, -5.072550006725517e+139, 8.5606091399486e+139, 2.0272452180603467e+140, -1.161893654711578e+140, -1.5063513699796873e+140, -1.4774433640192865e+140, -4.746442740552324e+140, 4.978260361268053e+141, -1.2526128049467267e+142, 1.78084562033234e+142, -2.5566958600164267e+142, -8.384723009653428e+142, -2.809111477774704e+143, 1.4980476169321697e+142, -8.280958487214146e+142, 8.781889084865096e+143, 8.548265578772703e+143, -1.0248523153715386e+144, 4.047232457273466e+143, 5.715659889418286e+144, -6.649340638433188e+144, -1.4476217065006687e+145, 3.652012839590346e+145, 2.980969899386335e+146, -2.9532901259435203e+146, 1.204360831502447e+147, -1.535159109855567e+146, 6.110911586211433e+147, 1.6694995649236184e+148, -1.0361782866817828e+148, 1.854392138159851e+148, -1.3900892046564378e+149, 2.692668499321318e+149, -5.418172961313357e+149, 3.4538663058420505e+149, 1.7366712628264956e+148, -3.1463282156467653e+150, 9.517771729147944e+150, -3.7915827952871923e+149, 1.2484567286522084e+151, -2.7117353826355287e+151, 2.766577802628269e+151, -1.7058808490916578e+152, -6.37976979610474e+152, -9.283994326770006e+152, 1.5003237190770417e+153, 1.3115034691953067e+153, 1.3454370466471105e+153, -7.599953529920356e+153, -3.0903270032725345e+154, 8.042222108714099e+154, 6.775871325360368e+154, -2.1492814216237247e+155, 3.779108932388769e+155, 8.740535463731372e+155, -5.99948053443015e+155, -4.54767908411725e+156, -2.345126055055345e+156, 3.8206195214212886e+155, 1.9498952372278796e+157, -1.9421456335122036e+157, 1.5987498885671338e+158, 3.174233068848933e+158, 3.3729187324101827e+158, -1.257604157251148e+159, 6.730150792048329e+158, -1.5802928135704047e+159, -5.46979201344541e+159, 1.6004586005451004e+160, -1.2014708550661334e+160, 1.0839346414480342e+160, -5.261043282629482e+160, -1.0668286799301803e+161, -4.643150276331092e+161, -9.907369917019677e+161, 2.274096135563417e+162, 5.303230553641595e+162, 8.744411391636734e+162, -1.6749944902953975e+163, -8.532201603203519e+162, -5.736576480265679e+162, 7.615881056339012e+163, 2.65651034897275e+164, -6.238778307655631e+164, -7.00624656229226e+164, -1.412888879202536e+165, 2.3405088234020837e+164, 1.0894771548354662e+165, -1.7259822294307442e+166, -2.0461516807130405e+165, 4.533982202050823e+166, 1.9509434396900514e+166, 1.975400128248285e+167, -7.312075400210137e+167, 2.6043949458680927e+167, -2.7365388343142225e+168, -2.345444976171744e+168, 4.974456242110036e+168, -8.215322478717148e+168, 8.748044807907011e+168, 9.233569509676838e+169, 5.1446561977240545e+169, 3.486343551287433e+170, -1.7594076335755086e+170, -3.1705434679298987e+170, -3.013157899372969e+171, 4.7774999195189406e+170, 1.0563278641198408e+172, -1.0846258394633005e+171, -4.7402458951159756e+172, 2.093496823149975e+172, 1.6555521552845027e+172, 1.3577411718483198e+173, -2.852094454735092e+173, -9.846431862919435e+173, -1.2526499861026234e+174, -3.101643431100502e+174, -1.1911593893518791e+175, 6.529109953679718e+174, -1.5843889328592706e+175, -2.6042312544415832e+175, -1.1257340193908043e+176, 4.1391227521147324e+175, 4.88585136755672e+176, 7.740503076104705e+176, 4.8399178567879725e+176, -5.066235860260039e+177, -3.577908425863826e+177, -2.0361091300185685e+178, -3.2173196443014217e+178, 7.832291106973818e+178, -1.0313787409883282e+179, -1.4414343570177387e+179, 6.692563922013276e+179, -1.0833462382266853e+180, 1.3035241251929602e+180, -4.272917792332515e+180, -9.443319691922712e+180, -2.1218472218262637e+181, 3.494391054300796e+181, 7.000199842466232e+181, -1.1684909784239823e+182, 6.0645477892751804e+181, 2.7953033309677345e+182, -1.1289740216740476e+183, -5.1980446320423476e+182, 5.699750033704608e+183, 5.382204004299559e+183, 1.5755973455554565e+184, -2.1637163997468746e+184, 8.549306500534227e+184, 9.950785679631374e+184, 1.1829286895965001e+185, -5.833678700191101e+185, -9.918173214326298e+185, 3.0439635200249087e+186, 4.844782509847592e+186, -7.151249602781125e+186, 1.0661611264390425e+187, 2.7993955254809653e+187, 6.986620397869706e+187, -1.7921420042528975e+188, 1.0377593925763903e+188, -6.540825009289893e+188, 8.745930566290996e+188, -2.0895296427751244e+189, -1.8043543385469391e+189, 5.481757395733701e+189, 7.806551605839237e+189, -3.640979648104318e+190, -1.063718929960651e+191, -1.2508817251173705e+190, -4.171150118086037e+191, -1.9509054743510153e+190, -7.34866303763154e+191, -1.194094205072323e+192, -1.5519214789815702e+192, 8.192331222458232e+192, 2.06601078903538e+193, 2.204945666733322e+193, -3.5417710958954416e+193, 1.589423941010994e+194, 3.060411156400149e+194, 3.025312987586791e+194, -6.86491142192106e+193, 1.6688305680723792e+195, 2.3377110611244813e+195, 6.595677818421983e+195, -2.391511916315269e+196, -5.683171840676981e+195, -6.060239729004025e+196, 1.1727478651978525e+197, -2.2239759002798514e+197, -5.115804756075327e+197, 4.999915615959623e+197, -3.1406496269101524e+198, 2.0201723547414427e+198, -1.3007907920499344e+199, 1.1322450437691262e+199, 5.658493717086022e+199, -1.0312677083289272e+200, 4.571192519588452e+199, 2.843796608042449e+200, -5.657540762584871e+200, 1.0799526503202406e+201, 7.358351618802545e+200, 2.925920474611985e+201, -1.4810371956216372e+202, 2.3601635180069293e+202, -4.153383042252344e+202, -2.538885176622298e+202, 1.972996891556227e+203, 1.1049495856551418e+203, -6.972238523877545e+203, -3.003809188330529e+203, -2.2954935556942027e+204, -4.1282375212757006e+204, -1.0178435859487042e+205, 6.96243050145377e+204, 4.869765015647275e+205, 2.12475059177361e+205, 1.8252070573258863e+206, 3.0884356735882612e+206, -5.1277558092540494e+206, -1.0790776334226795e+207, -9.485759972203913e+206, -4.12630343587855e+207, -5.981039539585119e+207, 3.0596340697224236e+208, 4.454105562414867e+208, -9.889395324699608e+208, 9.617094246505201e+208, 5.489272932863798e+208, 3.600441361712021e+209, 3.8885107930198233e+208, 7.75033563156555e+209, -8.091552899994995e+210, -1.5759467911816727e+210, 1.380932216498076e+210, 5.930221921593871e+211, -9.472623138880044e+209, 5.458355336312035e+211, 3.331038030143247e+211, -1.3971138060864977e+211, 1.0212646617789472e+213, -1.1330258540179735e+213, 7.393143093676967e+213, -2.5682079923491636e+213, 1.4055821338833935e+214, -3.466788722959986e+214, -5.053464961300399e+214, -1.5710824971372801e+215, -4.4152191305393115e+215, 1.022688183413283e+216, 4.593547272841161e+215, 1.4857692755498872e+216, 8.135767968040334e+216, 7.88078224642326e+215, 1.7025011200174311e+217, -1.8877986818384143e+217, -9.787864579559592e+217, 1.8234454886060124e+218, -1.2336999112058056e+218, -8.441922877508374e+218, -2.307884095315005e+218, -3.236813166386546e+219, 3.976486048437029e+219, -2.642401146715926e+219, -3.393776827631729e+220, 1.4270636975972394e+220, -4.251845488377521e+220, -1.5020229569123686e+221, -8.621481340286166e+220, 6.584754828718671e+221, 5.560425711328593e+221, -1.2186568223239633e+222, 7.785874412287999e+222, 8.267971896818682e+222, 1.5330078168245222e+223, -4.2689857424072754e+223, -7.342466688768753e+223, -1.5284647666362135e+224, -4.999457351944663e+224, -1.1476558621023513e+225, -1.8241325922907795e+225, 2.4246567646547377e+225, -1.1975440999929909e+225, -2.997742240823008e+225, -1.4127728617286718e+226, 6.218521346658644e+226, -6.154549797759774e+226, 4.584489670487854e+226, -4.370939601635241e+227, -1.0564726481674508e+228, -1.536337978730223e+228, 4.275765220976703e+228, -8.65033749903422e+228, 1.25581323808148e+229, 3.1115625645438043e+229, -7.075018465195324e+229, 5.123296136135341e+228, -2.744560920663454e+230, 5.182260222752494e+230, 6.471147078611024e+230, 2.614138210466454e+230, -1.9009868656391348e+231, 2.1499183285799435e+231, -6.449859923845119e+231, -7.776398139244078e+231, -9.562323688705536e+231, 4.059774679353162e+232, -2.042924011154338e+233, 1.9920306450788772e+233, 7.749683427509975e+233, 1.8906718569994537e+234, -1.5207530197441277e+234, -6.2634385201513726e+234, 1.6231629708734132e+235, 9.144736575596935e+234, -4.9072674791539546e+235, 4.5267661759265615e+235, 6.36682005991083e+235, 5.6466458534336796e+234, 3.143084962380008e+236, -1.7213736762163067e+237, 7.287413019558373e+235, -8.912279325099195e+237, -5.920440572997256e+237, 3.100360265058099e+238, 4.965753238726279e+238, 1.6011430416695961e+239, -2.213032058167399e+239, -6.431668414024309e+239, -1.1709242821637192e+240, -1.492891374836499e+240, -2.69297265409248e+240, -5.673821189230788e+240, -1.0499337267534517e+241, -3.163234080262495e+241, -6.0535621105408475e+240, 7.705187124083549e+241, 1.2718738507461047e+242, -3.6058228266263986e+242, -8.277413906703166e+242, -2.1758112892009545e+243, 1.1933384428724317e+243, -1.0143175437876538e+244, 7.309740342099977e+241, 2.6669544510558643e+244, 5.3014969601462246e+244, -1.5644896558068097e+245, -1.850835424582155e+245, -7.973702695234338e+244, 5.893022752804074e+244, 2.494133461937721e+246, 1.2417042072382022e+246, -4.419427566801557e+245, 2.1625659926358828e+247, -2.9855635330928964e+247, -7.580135796312827e+247, -9.100182769356919e+247, -1.0892910707166806e+248, -3.622110957919821e+248, -9.871358543414867e+248, 5.1512499578004745e+248, -7.787465548413608e+248, 3.9027915955316415e+248, -3.138072361539197e+249, 1.4433099231413445e+250, 4.012405873021058e+250, -1.7231912182814638e+251, 3.00208457223979e+250, -2.2894072085792753e+251, 1.4235463021373683e+252, 9.20849485820615e+251, -4.296243459490489e+252, -9.832854418362185e+252, -4.163415010706738e+252, -4.141408771230522e+253, -7.96053471974888e+253, 5.361833341996272e+252, 3.1747996858788685e+254, 3.073355319235385e+254, -7.18271855786329e+254, 1.4362559545668863e+255, 4.264474258158544e+255, -1.1413357203731881e+256, 8.850201371472612e+255, 4.248783793858976e+256, -4.597159899302519e+256, -3.706108258630387e+256, 1.9076164650790245e+257, -7.209280059784845e+257, 9.204034301088347e+257, 9.935397075479496e+257, -5.237115613877283e+258, 1.9406224760307034e+258, -2.0886014558576784e+259, -4.452900282512603e+259, -2.6570530301266034e+258, 5.614249331095339e+259, -2.702601329031676e+260, -5.012325798876531e+260, 1.410414194547275e+261, 2.205103094851475e+261, -5.93598024706347e+261, 1.06479489614479e+262, -1.438361888844772e+262, 2.446277013302973e+261, 4.981866091359332e+262, 3.9569287126104115e+262, -2.8107283191776375e+263, -5.926237972745591e+263, -2.4881197246381468e+263, -1.8142673227963576e+264, 1.4110785245537083e+264, -1.117206708511862e+265, -1.3974254614370371e+265, -1.3516739573098497e+265, 4.444969260867544e+265, 1.9941455311617652e+266, 8.079644013460918e+265, -4.790221999610984e+266, 2.74408481897838e+266, -2.2986986159946487e+267, -4.845918046059672e+267, 1.1050072800655059e+267, -1.976312437444801e+268, 2.9435995537142374e+268, -1.5601397069591192e+268, 1.0417371970963952e+269, -5.781994489406006e+268, 2.0612510074849887e+269, -4.502932366726693e+269, 6.607467353471581e+269, -3.793112481227478e+270, -8.51319271622618e+270, -1.697419876599951e+271, 4.0278272858160506e+271, 8.007004337878806e+271, 4.983147519193611e+271, 1.2211563482868722e+272, -8.361818000111824e+272, 4.588335889166276e+272, 1.3060313015987967e+273, -2.6352872331147406e+273, -6.676928131651889e+273, -5.257732320697439e+273, 5.1753655799070595e+274, -1.5952705198466575e+274, 9.44912553076575e+274, -2.5561723977218248e+275, 2.828044949362339e+275, -1.4222590911486202e+276, -9.303045762480613e+274, 1.2691857270320417e+276, 2.0992133781114642e+276, -8.295956564064431e+276, 3.7367651209924885e+277, 4.4162462106804665e+277, -1.689564795210558e+278, 1.4574336406673408e+278, 6.326529637133634e+278, 1.2595176834616467e+279, -6.245483922340702e+278, 2.7395432501100945e+279, -6.579010087481063e+279, 1.4810675425345987e+280, 3.6188597244647108e+280, 6.202990205877249e+280, 4.490502974347507e+280, -3.4201188282594775e+281, -7.49424495596684e+281, 3.502229590303752e+281, 3.4844236043515467e+282, -2.8178937857049907e+282, -8.07147267275367e+282, 1.1905899440666708e+283, 1.51944771457859e+282, -4.504154194328183e+283, 2.2838238043794957e+284, 1.5268607173948734e+284, 6.417171067361264e+284, -1.7796121080694478e+285, -1.3867300178934557e+285, 5.040721151444445e+285, -4.2567249844397426e+285, 1.644986571715565e+286, -3.943879362887587e+286, -3.5500544127721858e+286, -2.1590582183022135e+287, -4.3546071310321704e+287, 2.54156849098452e+287, -1.5525009918864302e+288, -2.8876912280675884e+288, -6.553422244996544e+288, 9.251786060156117e+288, 6.327439720825691e+288, -1.2868746362010597e+289, 1.1080925674919851e+290, -2.363617141197181e+290, -3.719474598764553e+290, 4.082474060050406e+290, 1.380700503662036e+291, -1.6600798273289492e+291, -2.0211241374725933e+290, -2.5169600767846036e+291, -2.6452199161946387e+292, 4.857866068805479e+292, 5.534165482230772e+292, 1.9462662372091782e+292, 3.323039595607992e+293, -5.558507023069705e+293, -9.29579801856374e+293, 1.1583235868645658e+293, -9.11954068720274e+292, 1.2451847042057574e+295, 1.276458163861274e+295, 6.192750721155924e+294, 1.1023037392988509e+296, -1.6545526189334755e+296, 1.5487197501773623e+296, 1.7146538706138283e+296, -1.6841232933239975e+297, 8.12404388401943e+296, 3.816759209388079e+297, -1.2224828009360461e+297, 1.3592260278723956e+298, 1.9417668584921088e+298, 5.506111246570436e+298, 2.5799796127026632e+299, 1.959405577695653e+299, -2.9453989415868377e+299, 3.678466519499194e+299, 3.691739010699319e+300, 5.839688903551884e+300, -1.5576523655822279e+301, -3.7509646454422465e+300, -6.254377085624412e+301, -3.506501740171203e+301, -1.2193553956448992e+302, 1.6050706840814113e+301]\n"
          ]
        }
      ],
      "source": [
        "import math\n",
        "import random\n",
        "\n",
        "input_mode = input(\"Введите 'random' для случайной генерации последовательности или 'manual' для ручного ввода: \").lower()\n",
        "\n",
        "num_list = []\n",
        "\n",
        "if input_mode == 'random':\n",
        "    for i in range(0, 1000):\n",
        "        num_list.append(random.uniform(-100.0, 100.0))\n",
        "elif input_mode == 'manual':\n",
        "    num_list = list(map(float, input(\"Введите числа: \").split()))\n",
        "\n",
        "int_parts, frac_parts = [], []\n",
        "ceil_values, floor_values = [], []\n",
        "\n",
        "fabs_copysign_values = []\n",
        "gcd_values, fmod_values = [], []\n",
        "close_pairs, finite_numbers = {}, []\n",
        "ldexp_values = []\n",
        "\n",
        "for i in range(0, len(num_list)):\n",
        "    frac_part, int_part = math.modf(num_list[i])\n",
        "\n",
        "    int_parts.append(int(int_part))\n",
        "    frac_parts.append(frac_part)\n",
        "\n",
        "    ceil_values.append(math.ceil(frac_part))\n",
        "    floor_values.append(math.floor(frac_part))\n",
        "\n",
        "    if i == len(num_list) - 1:\n",
        "        fabs_copysign_values.append(math.copysign(math.fabs(int_part), num_list[i-1]))\n",
        "        if num_list[i-1] != 0:\n",
        "            fmod_values.append(math.fmod(num_list[i], num_list[0]))\n",
        "    else:\n",
        "        fabs_copysign_values.append(math.copysign(math.fabs(int_part), num_list[i+1]))\n",
        "\n",
        "        if num_list[i+1] != 0:\n",
        "            fmod_values.append(math.fmod(num_list[i], num_list[i+1]))\n",
        "\n",
        "    if i != len(num_list) - 1:\n",
        "        if not math.isinf(num_list[i]) and not math.isnan(num_list[i]):\n",
        "            if not math.isinf(num_list[i+1]) and not math.isnan(num_list[i+1]):\n",
        "                if math.isclose(num_list[i], num_list[i+1], abs_tol=1e-09):\n",
        "                    close_pairs[num_list[i]] = num_list[i+1]\n",
        "    \n",
        "    if math.isfinite(num_list[i]):\n",
        "        finite_numbers.append(num_list[i])\n",
        "    \n",
        "    ldexp_values.append(math.ldexp(num_list[i], i))\n",
        "\n",
        "for i in range(0, len(int_parts)):\n",
        "    if i != len(num_list) - 1 and int_parts[i+1] != 0:\n",
        "        gcd_values.append(math.gcd(int_parts[i], int_parts[i+1]))\n",
        "\n",
        "print(num_list)\n",
        "print(frac_parts)\n",
        "print(int_parts)\n",
        "print(ceil_values)\n",
        "print(floor_values)\n",
        "print(fabs_copysign_values)\n",
        "print(gcd_values)\n",
        "print(fmod_values)\n",
        "print(close_pairs)\n",
        "print(finite_numbers)\n",
        "print(ldexp_values)"
      ]
    }
  ],
  "metadata": {
    "colab": {
      "authorship_tag": "ABX9TyOq7QKhPjNeAeTfkcbEuGbI",
      "collapsed_sections": [
        "nLwGZB0cl6Px"
      ],
      "include_colab_link": true,
      "provenance": []
    },
    "kernelspec": {
      "display_name": "Python 3",
      "name": "python3"
    },
    "language_info": {
      "codemirror_mode": {
        "name": "ipython",
        "version": 3
      },
      "file_extension": ".py",
      "mimetype": "text/x-python",
      "name": "python",
      "nbconvert_exporter": "python",
      "pygments_lexer": "ipython3",
      "version": "3.10.7"
    }
  },
  "nbformat": 4,
  "nbformat_minor": 0
}
