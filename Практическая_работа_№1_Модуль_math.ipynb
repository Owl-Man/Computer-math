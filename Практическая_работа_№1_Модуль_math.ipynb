{
  "cells": [
    {
      "cell_type": "markdown",
      "metadata": {
        "colab_type": "text",
        "id": "view-in-github"
      },
      "source": [
        "<a href=\"https://colab.research.google.com/github/Alexandre77777/computer_math/blob/main/1.%20%D0%9C%D0%BE%D0%B4%D1%83%D0%BB%D1%8C%20math/%D0%9F%D1%80%D0%B0%D0%BA%D1%82%D0%B8%D1%87%D0%B5%D1%81%D0%BA%D0%B0%D1%8F_%D1%80%D0%B0%D0%B1%D0%BE%D1%82%D0%B0_%E2%84%961_%D0%9C%D0%BE%D0%B4%D1%83%D0%BB%D1%8C_math.ipynb\" target=\"_parent\"><img src=\"https://colab.research.google.com/assets/colab-badge.svg\" alt=\"Open In Colab\"/></a>"
      ]
    },
    {
      "cell_type": "markdown",
      "metadata": {
        "id": "5RnujUcdXQsu"
      },
      "source": [
        "### Задание 1: Решение квадратного уравнения"
      ]
    },
    {
      "cell_type": "markdown",
      "metadata": {
        "id": "ON9A-LvlXV_T"
      },
      "source": [
        "Напишите функцию для решения квадратного уравнения вида $ax^2 + bx + c = 0$.\n",
        "\n",
        "Программа должна запросить у пользователя значения коэффициентов $a$, $b$, и $c$, вычислить дискриминант по формуле $D = b^2 - 4ac$, а затем найти корни уравнения. Используйте функции `sqrt` и `pow` из библиотеки `math`."
      ]
    },
    {
      "cell_type": "markdown",
      "metadata": {
        "id": "pkFrJTHxb-jx"
      },
      "source": [
        "Примеры листинга программы:\n",
        "\n",
        "\n",
        "\n",
        "```\n",
        "Введите коэффициент a: 1\n",
        "Введите коэффициент b: -2\n",
        "Введите коэффициент c: 1\n",
        "Уравнение имеет один корень: x = 1.0\n",
        "```\n",
        "\n",
        "\n",
        "\n",
        "```\n",
        "Введите коэффициент a: 1\n",
        "Введите коэффициент b: -3\n",
        "Введите коэффициент c: 2\n",
        "Уравнение имеет два корня: x1 = 2.0, x2 = 1.0\n",
        "```\n",
        "\n",
        "```\n",
        "Введите коэффициент a: 1\n",
        "Введите коэффициент b: 2\n",
        "Введите коэффициент c: 3\n",
        "Корней нет\n",
        "```\n"
      ]
    },
    {
      "cell_type": "code",
      "execution_count": 21,
      "metadata": {
        "id": "_-P5nt8tXTNv"
      },
      "outputs": [
        {
          "name": "stdout",
          "output_type": "stream",
          "text": [
            "x1 = 2.0; x2 = 1.0\n"
          ]
        }
      ],
      "source": [
        "# Ваш код\n",
        "import math\n",
        "\n",
        "a = int(input('Введите а'))\n",
        "b = int(input('Введите b'))\n",
        "c = int(input('Введите c'))\n",
        "\n",
        "D = math.pow(b, 2) - 4 * a * c\n",
        "\n",
        "if (D > 0):\n",
        "    x1 = (-b + math.sqrt(D)) / (2 * a)\n",
        "    x2 = (-b - math.sqrt(D)) / (2 * a)\n",
        "    print(f\"x1 = {x1}; x2 = {x2}\")\n",
        "elif (D == 0):   \n",
        "    x1 = (-b + math.sqrt(D)) / (2 * a)\n",
        "    print(f\"x = {x1}\")\n",
        "else:\n",
        "    print(\"Корней нет\")"
      ]
    },
    {
      "cell_type": "markdown",
      "metadata": {
        "id": "SJjSHhMTPk-K"
      },
      "source": [
        "\n",
        "\n",
        "### Задание 2: Расчет интеграла методом трапеций\n",
        "Реализуйте функцию для вычисления определенного интеграла функции $f(x)$, используя метод трапеций. Функция $f(x)$ задается внутри вашей программы (например, $f(x) = x^2$), а интервал интегрирования и количество разбиений задаются пользователем. Используйте базовые операции Python и функции из библиотеки `math` для вычислений.\n",
        "\n",
        "\n",
        "\n",
        "\n",
        "\n"
      ]
    },
    {
      "cell_type": "markdown",
      "metadata": {
        "id": "vv5aTieQajgD"
      },
      "source": [
        "Чтобы написать программу для вычисления определенного интеграла функции $f(x)$ методом трапеций, следуйте этому алгоритму:\n",
        "\n",
        "*Шаг 1*: Определение целевой функции\n",
        "  Определите функцию $f(x)$, значение которой вы хотите интегрировать. Например, $f(x) = x^2$.\n",
        "\n",
        "\n",
        "*Шаг 2*: Реализация метода трапеций\n",
        "1. Создайте функцию для вычисления интеграла, например, с именем `trapezoidal_integral`, которая принимает четыре аргумента: функцию `f`, начало интервала `a`, конец интервала `b` и количество разбиений `n`.\n",
        "2. В этой функции, рассчитайте ширину одного разбиения $h = \\frac{b - a}{n}$.\n",
        "3. Инициализируйте переменную для хранения суммы значений, например, `integral`, начальным значением которой будет среднее арифметическое значений функции на концах интервала, умноженное на $h$ и деленное на 2.\n",
        "4. Используйте цикл `for` для перебора всех точек разбиения (кроме первой и последней), добавляя в `integral` значение функции в каждой точке, умноженное на $h$.\n",
        "5. После завершения цикла, верните полученное значение интеграла."
      ]
    },
    {
      "cell_type": "code",
      "execution_count": 16,
      "metadata": {
        "id": "ieN0p64UYDRj"
      },
      "outputs": [
        {
          "name": "stdout",
          "output_type": "stream",
          "text": [
            "Значение интеграла: 1.9998355038874436\n"
          ]
        }
      ],
      "source": [
        "import math\n",
        "\n",
        "def trapezoidal_integral(f, a, b, n):\n",
        "    h = (b - a) / n\n",
        "    integral = (f(a) + f(b)) / 2\n",
        "    \n",
        "    for i in range(1, n):\n",
        "        integral += f(a + i * h)\n",
        "    \n",
        "    integral *= h\n",
        "    return integral\n",
        "\n",
        "\n",
        "def f(x):\n",
        "    return math.sin(x)\n",
        "\n",
        "a, b = 0, math.pi\n",
        "n = 100\n",
        "result = trapezoidal_integral(f, a, b, n)\n",
        "print(f\"Значение интеграла: {result}\")\n",
        "\n"
      ]
    },
    {
      "cell_type": "markdown",
      "metadata": {
        "id": "5pLFAgLcdE5Y"
      },
      "source": [
        "Проверка:\n",
        "\n",
        "Функция: $f(x) = x^2$\n",
        "\n",
        "```\n",
        "Входные данные:\n",
        "\n",
        "a = 0  # Начало интервала\n",
        "b = 1  # Конец интервала\n",
        "n = 100  # Количество разбиений\n",
        "\n",
        "Значение интеграла: 0.33335000000000015\n",
        "```\n",
        "\n",
        "Функция: $f(x) = \\sin(x)$\n",
        "\n",
        "```\n",
        "Входные данные:\n",
        "\n",
        "a = 0  # Начало интервала\n",
        "b = PI  # Конец интервала\n",
        "n = 1000  # Количество разбиений\n",
        "\n",
        "Значение интеграла: ~1.9999983550656637\n",
        "```\n",
        "\n"
      ]
    },
    {
      "cell_type": "markdown",
      "metadata": {
        "id": "525gZFYHYD1_"
      },
      "source": [
        "### Задание 3: Нахождение корней уравнения методом бисекции\n",
        "Разработайте программу для нахождения корня уравнения $f(x) = 0$ на заданном интервале с заданной точностью, используя метод бисекции. Функция $f(x)$ задается внутри программы (например, $f(x) = x^3 - x - 2$), а интервал поиска корня (начало и конец интервала) и точность задаются пользователем. Для вычислений используйте базовые операции Python и функции из библиотеки `math`.\n",
        "\n",
        "\n"
      ]
    },
    {
      "cell_type": "markdown",
      "metadata": {
        "id": "deeMps2EZg6z"
      },
      "source": [
        "**Метод бисекции** — это простой численный метод для нахождения корня функции, который заключается в последовательном делении пополам интервала, на концах которого значения функции имеют разные знаки. Алгоритм метода следующий:\n",
        "\n",
        "1. Проверяем, что на концах интервала [a, b] значения функции имеют разные знаки, т.е. $f(a) \\cdot f(b) < 0$. Если это условие не выполняется, метод бисекции не применим.\n",
        "2. Вычисляем середину интервала $c = \\frac{a + b}{2}$ и проверяем значение функции в этой точке ($f(c)$).\n",
        "3. Если $f(c) = 0$ или длина интервала $\\frac{b - a}{2}$ меньше заданной точности, то корень найден.\n",
        "4. Если $f(c) \\neq 0$, выбираем подинтервал [a, c] или [c, b], на концах которого значения функции имеют разные знаки, и повторяем шаги 2-4."
      ]
    },
    {
      "cell_type": "code",
      "execution_count": 1,
      "metadata": {
        "id": "-aNXlcMlXQZc"
      },
      "outputs": [
        {
          "name": "stdout",
          "output_type": "stream",
          "text": [
            "1.521484375\n"
          ]
        }
      ],
      "source": [
        "import math\n",
        "\n",
        "a = int(input('Введите a'))\n",
        "b = int(input('Введите b'))\n",
        "\n",
        "accuracy = float(input('Введите точность'))\n",
        "\n",
        "def f(x):\n",
        "    return math.pow(x, 3) - x - 2\n",
        "\n",
        "def bisekcia(a, b, accuracy):\n",
        "    if f(a) * f(b) >= 0:\n",
        "        print('Метод бисекции не применим')\n",
        "\n",
        "    while (b - a) / 2 > accuracy:\n",
        "        c = (a + b) / 2\n",
        "\n",
        "        if f(a) * f(c) < 0:\n",
        "            b = c\n",
        "        else:\n",
        "            a = c\n",
        "    \n",
        "    return c\n",
        "\n",
        "print(bisekcia(a, b, accuracy))"
      ]
    },
    {
      "cell_type": "markdown",
      "metadata": {
        "id": "MxcTpremfxGq"
      },
      "source": [
        "Примеры листинга программы:\n",
        "\n",
        "\n",
        "\n",
        "```\n",
        "Введите начало интервала a: 1\n",
        "Введите конец интервала b: 2\n",
        "Введите точность (например, 0.001): 0.001\n",
        "Найден корень: ~1.521484375\n",
        "```"
      ]
    },
    {
      "cell_type": "markdown",
      "metadata": {
        "id": "N226OfIShWQ9"
      },
      "source": [
        "### Задание 4: Расчет сложных процентов\n",
        "\n",
        "Написать программу для расчета итоговой суммы депозита, если известны первоначальная сумма, годовая процентная ставка и срок вклада в годах. Использовать формулу сложных процентов с ежедневной капитализацией.\n",
        "\n",
        "**Формула**: $A = P \\cdot exp(rt)$, где $P$ - первоначальная сумма, $r$ - годовая процентная ставка (в десятичной дроби), $t$ - срок вклада в годах, $A$ - итоговая сумма."
      ]
    },
    {
      "cell_type": "code",
      "execution_count": 8,
      "metadata": {
        "id": "4WPiyJBLjUMB"
      },
      "outputs": [
        {
          "name": "stdout",
          "output_type": "stream",
          "text": [
            "11051.709180756478\n"
          ]
        }
      ],
      "source": [
        "import math\n",
        "P = int(input())\n",
        "r = float(input())\n",
        "t = int(input())\n",
        "\n",
        "if P < 0 or t < 0:\n",
        "    print(\"Введены некорректные данные\")\n",
        "else:\n",
        "    print(P * math.exp(r * t))"
      ]
    },
    {
      "cell_type": "markdown",
      "metadata": {
        "id": "v0KFWVCIzvh2"
      },
      "source": [
        "\n",
        "\n",
        "```\n",
        "# Пример входных данных\n",
        "P = 10000  # первоначальная сумма\n",
        "r = 0.05   # годовая процентная ставка в десятичной форме\n",
        "t = 2      # срок вклада в годах\n",
        "\n",
        "# Пример выходных данных\n",
        "Итоговая сумма депозита: 11051.71\n",
        "```\n",
        "\n"
      ]
    },
    {
      "cell_type": "markdown",
      "metadata": {
        "id": "uZg7DKODbYJt"
      },
      "source": [
        "### Задание 5: Расчет годового процента по заданной итоговой сумме\n",
        "\n",
        "Написать программу, которая рассчитывает годовую процентную ставку по формуле сложных процентов, зная первоначальную сумму, итоговую сумму и срок вклада.\n",
        "\n",
        "**Формула**: $r = \\frac{1}{t} \\cdot log(\\frac{A}{P})$, где $P$ - первоначальная сумма, $A$ - итоговая сумма, $t$ - срок вклада в годах, $r$ - годовая процентная ставка.\n",
        "\n"
      ]
    },
    {
      "cell_type": "code",
      "execution_count": 56,
      "metadata": {
        "id": "MGnRI9j4jV0i"
      },
      "outputs": [
        {
          "name": "stdout",
          "output_type": "stream",
          "text": [
            "5.0%\n"
          ]
        }
      ],
      "source": [
        "import math\n",
        "P = int(input())\n",
        "A = float(input())\n",
        "t = int(input())\n",
        "\n",
        "r = round((1/t) * math.log(A / P), 6)\n",
        "\n",
        "print(f\"{r * 100}%\")\n",
        "\n"
      ]
    },
    {
      "cell_type": "markdown",
      "metadata": {
        "id": "NrGyrUpJ1ol8"
      },
      "source": [
        "\n",
        "\n",
        "```\n",
        "# Пример входных данных\n",
        "P = 10000  # первоначальная сумма\n",
        "A = 11051.71  # итоговая сумма\n",
        "t = 2  # срок вклада в годах\n",
        "\n",
        "# Пример выходных данных\n",
        "Годовая процентная ставка: 5.00%\n",
        "\n",
        "```\n",
        "\n"
      ]
    },
    {
      "cell_type": "markdown",
      "metadata": {
        "id": "ISJbONDvh7yk"
      },
      "source": [
        "### Задание 6: Вычисление квадратного корня при помощи итерационных методов\n",
        "\n",
        "Написать программу, которая использует метод Ньютона (метод касательных) для нахождения квадратного корня из числа, введенного пользователем. Сравнить результат с результатом, полученным при помощи функции `sqrt()`.\n",
        "\n",
        "**Формула метода Ньютона**: $x_{n+1} = \\frac{1}{2}(x_n + \\frac{a}{x_n})$, где $a$- это число, из которого мы хотим извлечь квадратный корень.\n",
        "\n",
        "Метод Ньютона (или метод касательных) - это численный метод нахождения корней уравнений. В случае извлечения квадратного корня из числа $a$, мы используем его для решения уравнения $x^2 - a = 0$."
      ]
    },
    {
      "cell_type": "markdown",
      "metadata": {
        "id": "Uy7qlc1Vi0ZF"
      },
      "source": [
        "Алгоритм:\n",
        "\n",
        "1. Напишите функцию `sqrt_newton_method(a, epsilon=1e-10)`, которая будет вычислять квадратный корень из числа `a` с заданной точностью `epsilon`, используя метод Ньютона.\n",
        "\n",
        "   Шаги для реализации метода Ньютона:\n",
        "   - Инициализируйте начальное приближение `x` значением `a`.\n",
        "   - В цикле выполняйте следующие шаги, пока разница между последовательными приближениями не станет меньше `epsilon`:\n",
        "     - Вычислите следующее приближение по формуле `next_x = 0.5 * (x + a / x)`.\n",
        "     - Проверьте условие остановки: если `abs(x - next_x) < epsilon`, выйдите из цикла.\n",
        "     - Обновите текущее приближение `x` значением `next_x`.\n",
        "   - Верните последнее вычисленное приближение `x` как результат функции.\n",
        "\n",
        "2. Напишите функцию `main()`, в которой реализуйте следующую логику:\n",
        "   - Спросите у пользователя число `a` для извлечения квадратного корня, используя ввод с клавиатуры.\n",
        "   - Вызовите функцию `sqrt_newton_method(a)` для вычисления квадратного корня из числа `a` методом Ньютона и сохраните результат в переменной.\n",
        "   - Выведите полученный квадратный корень на экран.\n",
        "   - Вычислите квадратный корень из числа `a`, используя стандартную функцию `sqrt` из модуля `math`, и сохраните результат в другой переменной.\n",
        "   - Выведите полученный квадратный корень на экран.\n",
        "   - Сравните результаты, полученные двумя методами, выведите разницу между ними на экран."
      ]
    },
    {
      "cell_type": "code",
      "execution_count": 20,
      "metadata": {
        "id": "euhduGDljXqb"
      },
      "outputs": [
        {
          "name": "stdout",
          "output_type": "stream",
          "text": [
            "Квадратный корень методом Ньютона: 1.414213562373095\n",
            "Квадратный корень с использованием math.sqrt: 1.4142135623730951\n",
            "Разница между методами: 2.220446049250313e-16\n"
          ]
        }
      ],
      "source": [
        "import math\n",
        "\n",
        "def sqrt_newton_method(a, epsilon=1e-10):\n",
        "    x = A\n",
        "\n",
        "    while True:\n",
        "        next_x = 0.5 * (x + a / x)\n",
        "\n",
        "        if (abs(x - next_x) < epsilon):\n",
        "            break\n",
        "\n",
        "        x = next_x\n",
        "\n",
        "    return x\n",
        "\n",
        "def main():\n",
        "    a = int(input())\n",
        "    sqrt_newton = sqrt_newton_method(a, 1e-20)\n",
        "    sqrt_math_lib = math.sqrt(a)\n",
        "\n",
        "    print(f\"Квадратный корень методом Ньютона: {sqrt_newton}\")\n",
        "    print(f\"Квадратный корень с использованием math.sqrt: {sqrt_math_lib}\")\n",
        "    print(f\"Разница между методами: {abs(sqrt_newton - sqrt_math_lib)}\")\n",
        "\n",
        "    \n",
        "main()\n"
      ]
    },
    {
      "cell_type": "markdown",
      "metadata": {
        "id": "2q029pUP2J3V"
      },
      "source": [
        "\n",
        "\n",
        "```\n",
        "# Пример 1\n",
        "# Входные данные:\n",
        "Введите число для извлечения квадратного корня: 25\n",
        "\n",
        "# Выходные данные:\n",
        "Квадратный корень из 25 методом Ньютона: 5.0\n",
        "Квадратный корень из 25 стандартной функцией: 5.0\n",
        "Разница между методами: 0.0\n",
        "\n",
        "# Пример 2\n",
        "# Входные данные:\n",
        "Введите число для извлечения квадратного корня: 2\n",
        "\n",
        "# Выходные данные:\n",
        "Квадратный корень из 2 методом Ньютона: 1.414213562373095\n",
        "Квадратный корень из 2 стандартной функцией: 1.4142135623730951\n",
        "Разница между методами: 2.220446049250313e-16```\n",
        "\n"
      ]
    },
    {
      "cell_type": "markdown",
      "metadata": {
        "id": "hEGfd1Uajt4L"
      },
      "source": [
        "### Задание 7: Расчет угла между двумя векторами\n",
        "\n",
        "Даны два вектора $A(x_1, y_1)$ и $B(x_2, y_2)$. Написать программу на Python, которая вычисляет угол между этими векторами.\n",
        "\n",
        "**Формула**: Угол между векторами можно вычислить, используя формулу:\n",
        "$\\theta = \\arccos\\left(\\frac{A \\cdot B}{|A| |B|}\\right) $\n",
        "где $(A \\cdot B = x_1x_2 + y_1y_2$) - скалярное произведение векторов, $(|A| = \\sqrt{x_1^2 + y_1^2}$) и $(|B| = \\sqrt{x_2^2 + y_2^2}$) - длины векторов $(A$) и $(B$) соответственно."
      ]
    },
    {
      "cell_type": "code",
      "execution_count": 96,
      "metadata": {
        "id": "VkNn7RGdj7cF"
      },
      "outputs": [
        {
          "name": "stdout",
          "output_type": "stream",
          "text": [
            "Угол 70.3461759419467\n"
          ]
        }
      ],
      "source": [
        "import math\n",
        "\n",
        "x1, y1 = map(int, input(\"Введите координаты вектора A (x1, y1): \").split())\n",
        "x2, y2 = map(int, input(\"Введите координаты вектора B (x2, y2): \").split())\n",
        "\n",
        "AB = x1 * x2 + y1 * y2\n",
        "\n",
        "A_Length = math.sqrt(x1**2 + y1**2)   \n",
        "B_Length = math.sqrt(x2**2 + y2**2)\n",
        "\n",
        "angle = math.degrees(math.acos(AB / (A_Length * B_Length)))\n",
        "\n",
        "if (math.isclose(angle, 0, abs_tol=1e-5)):\n",
        "    angle = 0\n",
        "\n",
        "print(f\"Угол {angle}\")"
      ]
    },
    {
      "cell_type": "markdown",
      "metadata": {
        "id": "zzvx_2hE3APe"
      },
      "source": [
        "```\n",
        "# Пример 1:\n",
        "# Входные данные\n",
        "Вектор A с координатами (3, 0)\n",
        "Вектор B с координатами (0, 4)\n",
        "\n",
        "# Выходные данные\n",
        "Угол между векторами: 90.0 градусов\n",
        "\n",
        "# Пример 2:\n",
        "# Входные данные\n",
        "Вектор A с координатами (5, 5)\n",
        "Вектор B с координатами (5, 5)\n",
        "\n",
        "# Выходные данные\n",
        "Угол между векторами: 0.0 градусов\n",
        "\n",
        "# Пример 3:\n",
        "# Входные данные\n",
        "Вектор A с координатами (2, 3)\n",
        "Вектор B с координатами (4, -1)\n",
        "\n",
        "# Выходные данные\n",
        "Угол между векторами: приблизительно 70.3461759419467 градусов\n",
        "```"
      ]
    },
    {
      "cell_type": "markdown",
      "metadata": {
        "id": "OyehGOeQfO1h"
      },
      "source": [
        "### Задание 8: Расчет координат точки на окружности\n",
        "\n",
        "Дана окружность с центром в точке $O(0, 0)$ и радиусом $R$, и угол $\\theta$ в градусах, отсчитываемый от положительного направления оси X. Написать программу на Python для расчета координат точки $P(x, y)$, находящейся на этой окружности.\n",
        "\n",
        "**Формула**: Координаты точки $P$ можно вычислить следующим образом:\n",
        "$x = R \\cdot \\cos(\\theta_{рад})$,\n",
        "$y = R \\cdot \\sin(\\theta_{рад})$,\n",
        "где $\\theta_{рад}$ - угол в радианах, который можно вычислить, используя функцию перевода из градусов в радианы, что была упомянута в теории."
      ]
    },
    {
      "cell_type": "code",
      "execution_count": 90,
      "metadata": {
        "id": "mqM7J6bvtHTD"
      },
      "outputs": [
        {
          "name": "stdout",
          "output_type": "stream",
          "text": [
            "Координаты точки P: (1.0, 0.0)\n"
          ]
        }
      ],
      "source": [
        "import math\n",
        "\n",
        "R = int(input())\n",
        "theta = int(input())\n",
        "\n",
        "x = round(R * math.cos(math.radians(theta)), 6)\n",
        "y = round(R * math.sin(math.radians(theta)), 6)\n",
        "\n",
        "print(f\"Координаты точки P: ({x}, {y})\")"
      ]
    },
    {
      "cell_type": "markdown",
      "metadata": {
        "id": "vf0bV5gp6srb"
      },
      "source": [
        "\n",
        "\n",
        "```\n",
        "# Пример входных-выходных данных\n",
        "\n",
        "# Пример 1\n",
        "# Входные данные:\n",
        "Радиус R = 5\n",
        "Угол theta = 45 градусов\n",
        "\n",
        "# Выходные данные:\n",
        "Координаты точки P: (3.5355339059327378, 3.5355339059327378)\n",
        "\n",
        "# Пример 2\n",
        "# Входные данные:\n",
        "Радиус R = 10\n",
        "Угол theta = 90 градусов\n",
        "\n",
        "# Выходные данные:\n",
        "Координаты точки P: (0.0, 10.0)\n",
        "\n",
        "# Пример 3\n",
        "# Входные данные:\n",
        "Радиус R = 1\n",
        "Угол theta = 0 градусов\n",
        "\n",
        "# Выходные данные:\n",
        "Координаты точки P: (1.0, 0.0)\n",
        "\n",
        "```\n",
        "\n"
      ]
    },
    {
      "cell_type": "markdown",
      "metadata": {
        "id": "7nd3IQvSlWfi"
      },
      "source": [
        "### Задание 9: Вычисление вероятности ошибки в теории вероятностей\n",
        "\n",
        "В теории вероятностей функция ошибок `erf(x)` часто используется для вычисления вероятностей, связанных с нормально распределенными случайными переменными. Напишите программу на Python, которая использует `math.erf(x)` для вычисления вероятности того, что случайная величина $Z$, следующая стандартному нормальному распределению, окажется в интервале от $-x$ до $x$.\n",
        "\n",
        "**Формула**:\n",
        "$P(-x \\leq Z \\leq x) = \\frac{1}{2} \\left[ \\text{erf}\\left(\\frac{x}{\\sqrt{2}}\\right) - \\text{erf}\\left(\\frac{-x}{\\sqrt{2}}\\right) \\right]$"
      ]
    },
    {
      "cell_type": "code",
      "execution_count": 95,
      "metadata": {
        "id": "dYOYeIU_tKLs"
      },
      "outputs": [
        {
          "name": "stdout",
          "output_type": "stream",
          "text": [
            "вероятность = 0.9544997361036417\n"
          ]
        }
      ],
      "source": [
        "x = int(input())\n",
        "\n",
        "print(f\"вероятность = {1/2 * (math.erf(x / math.sqrt(2)) - math.erf(-x / math.sqrt(2)))}\")"
      ]
    },
    {
      "cell_type": "markdown",
      "metadata": {
        "id": "g3zmjvBj7eky"
      },
      "source": [
        "\n",
        "\n",
        "```\n",
        "# Примеры входных и выходных данных\n",
        "\n",
        "# Входные данные: x = 1\n",
        "# Выходные данные: вероятность = 0.6826894921370859\n",
        "\n",
        "# Входные данные: x = 2\n",
        "# Выходные данные: вероятность = 0.9544997361036416\n",
        "\n",
        "# Входные данные: x = 0\n",
        "# Выходные данные: вероятность = 0.0\n",
        "```\n",
        "\n"
      ]
    },
    {
      "cell_type": "markdown",
      "metadata": {
        "id": "H3oPpRd5j0Z2"
      },
      "source": [
        "### Задание 10. Практическое применение: расчет объемов n-мерных сфер\n",
        "\n",
        "Гамма-функция находит применение в формуле для расчета объема n-мерной сферы радиуса R: $V_n(R) = \\frac{\\pi^{n/2} R^n}{\\Gamma(\\frac{n}{2} + 1)}$. Напишите функцию на Python, которая принимает в качестве параметров размерность пространства `n` и радиус `R`, а затем вычисляет и возвращает объем n-мерной сферы, используя гамма-функцию."
      ]
    },
    {
      "cell_type": "code",
      "execution_count": 101,
      "metadata": {
        "id": "5pPM-uJitV9-"
      },
      "outputs": [
        {
          "name": "stdout",
          "output_type": "stream",
          "text": [
            "Объем 10-мерной сферы радиуса 2.0: 2611.3679768344014\n"
          ]
        }
      ],
      "source": [
        "def n_sphere_volume(n, R):\n",
        "    return (math.pi**(n/2) * R**n) / math.gamma(n / 2 + 1)\n",
        "\n",
        "n = int(input(\"n: \"))\n",
        "R = float(input(\"R: \"))\n",
        "\n",
        "print(f\"Объем {n}-мерной сферы радиуса {R}: {n_sphere_volume(n, R)}\")"
      ]
    },
    {
      "cell_type": "markdown",
      "metadata": {
        "id": "E0_SrXl-9HuZ"
      },
      "source": [
        "```\n",
        "# Примеры входных и выходных данных\n",
        "# Пример 1\n",
        "# Входные данные:\n",
        "n1 = 2\n",
        "R1 = 1\n",
        "# Выходные данные:\n",
        "Объем 2-мерной сферы радиуса 1: 3.141592653589793\n",
        "\n",
        "# Пример 2\n",
        "# Входные данные:\n",
        "n2 = 3\n",
        "R2 = 1\n",
        "# Выходные данные:\n",
        "Объем 3-мерной сферы радиуса 1: 4.1887902047863905\n",
        "\n",
        "# Пример 3\n",
        "# Входные данные:\n",
        "n3 = 10\n",
        "R3 = 2\n",
        "# Выходные данные:\n",
        "Объем 10-мерной сферы радиуса 2: 2611.3679768344014\n",
        "\n",
        "```"
      ]
    },
    {
      "cell_type": "markdown",
      "metadata": {
        "id": "Gpta9ZTenjdY"
      },
      "source": [
        "### **Комплексное задание: Анализ функций и их применение**\n",
        "\n",
        "**Цель задания:** Применить различные математические функции из модуля `math` в Python, включая округление и сравнение, экспоненциальные и логарифмические функции, а также тригонометрические функции и их обратные аналоги.\n",
        "\n",
        "**Задача:** Вы разрабатываете программу для анализа погодных условий на различных планетах. Программа должна учитывать угол падения солнечных лучей, интенсивность солнечного света и атмосферное давление, чтобы рассчитать эффективную температуру на поверхности планеты в определенный момент времени.\n",
        "\n",
        "1. **Исходные данные:**\n",
        "    - Угол падения солнечных лучей к поверхности (в градусах) (a).\n",
        "    - Интенсивность солнечного света (в ваттах на квадратный метр) \\( I \\).\n",
        "    - Атмосферное давление на уровне моря (в паскалях) \\( P \\).\n",
        "\n",
        "2. **Расчеты:**\n",
        "\n",
        "    a. Используйте тригонометрические функции (`math.sin`, `math.cos`) для расчета эффективного угла падения солнечных лучей в радианах:\n",
        "    \n",
        "      ![image.png](data:image/png;base64,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)\n",
        "      \n",
        "      ![image.png](data:image/png;base64,iVBORw0KGgoAAAANSUhEUgAAALcAAAATCAIAAABdgQswAAAMP2lDQ1BJQ0MgUHJvZmlsZQAASImVVwdYU8kWnluSkEBoAQSkhN4EASkBpITQQu8INkISIJQYE4KKHV1UcO1iARu6KqJgBcSO2FkEe18sKCjrYsGuvEkBXfeV7833zZ3//nPmP2fOnbn3DgAaJzkiUR6qCUC+sEAcHxpIH5OaRid1AxSQgRZQBSYcrkTEjI2NBLAMtn8v724ARNZedZRp/bP/vxYtHl/CBQCJhTiDJ+HmQ3wQALySKxIXAECU8RZTCkQyDCvQEcMAIV4ow1kKXCnDGQq8V26TGM+CuAUAFTUOR5wFgHo75OmF3Cyood4HsbOQJxACoEGH2C8/fxIP4nSIbaGNCGKZPiPjB52sv2lmDGlyOFlDWDEXeVEJEkhEeZxp/2c6/nfJz5MO+rCGVS1bHBYvmzPM263cSREyrAZxrzAjOgZibYg/CHhye4hRSrY0LElhjxpxJSyYM6AHsTOPExQBsRHEIcK86Egln5EpCGFDDFcIOlVQwE6EWB/ihXxJcILSZrN4UrzSF1qfKWYxlfx5jljuV+brgTQ3ianUf53NZyv1MfWi7MQUiCkQWxYKkqMhVofYSZKbEKG0GV2UzYoetBFL42XxW0IczxeGBir0scJMcUi80r40XzI4X2xztoAdrcT7C7ITwxT5wVq4HHn8cC5YO1/ITBrU4UvGRA7OhccPClbMHevmC5MSlDofRAWB8YqxOEWUF6u0x835eaEy3hxiN0lhgnIsnlwAF6RCH88UFcQmKuLEi3I44bGKePBlIBKwQBCgAymsGWASyAGCtt6GXnin6AkBHCAGWYAPHJXM4IgUeY8QXhNAEfgTIj6QDI0LlPfyQSHkvw6xiqsjyJT3FspH5IKnEOeDCJAH76XyUcIhb8ngCWQE//DOgZUL482DVdb/7/lB9jvDhEykkpEOeqRrDFoSg4lBxDBiCNEON8T9cB88El4DYHXFGbjX4Dy+2xOeEjoIjwjXCZ2E2xMFxeKfoowCnVA/RJmLjB9zgVtDTXc8EPeF6lAZ18MNgSPuBv0wcX/o2R2yLGXcsqzQf9L+2wx+eBpKO7IzGSUPIweQbX8eqW6v7j6kIsv1j/lRxJoxlG/WUM/P/lk/ZJ8H24ifLbGF2AHsHHYKu4AdxRoAHTuBNWKt2DEZHlpdT+Sra9BbvDyeXKgj+Ie/wScry6TEuca5x/mLoq+AP1X2jgasSaJpYkFWdgGdCb8IfDpbyHUaQXd1dnUDQPZ9Uby+3sTJvxuIXut3bt4fAPieGBgYOPKdCz8BwD5PuP0Pf+dsGfDToQrA+cNcqbhQweGyCwG+JTTgTjMAJsAC2ML5uAIP4AMCQDAIBzEgEaSCCTD6bLjOxWAKmAHmghJQBpaB1WA92AS2gp1gD9gPGsBRcAqcBZdAO7gO7sLV0wVegD7wDnxGEISEUBEaYoCYIlaIA+KKMBA/JBiJROKRVCQdyUKEiBSZgcxDypAVyHpkC1KN7EMOI6eQC0gHcht5iPQgr5FPKIaqoTqoMWqNjkQZKBONQBPR8WgWOhktQuejS9C1aBW6G61HT6GX0OtoJ/oC7ccAporpYWaYI8bAWFgMloZlYmJsFlaKlWNVWC3WBJ/zVawT68U+4kSchtNxR7iCw/AknItPxmfhi/H1+E68Hm/Br+IP8T78G4FKMCI4ELwJbMIYQhZhCqGEUE7YTjhEOAP3UhfhHZFI1CPaED3hXkwl5hCnExcTNxDriCeJHcTHxH4SiWRAciD5kmJIHFIBqYS0jrSbdIJ0hdRF+qCiqmKq4qoSopKmIlQpVilX2aVyXOWKyjOVz2RNshXZmxxD5pGnkZeSt5GbyJfJXeTPFC2KDcWXkkjJocylrKXUUs5Q7lHeqKqqmqt6qcapClTnqK5V3at6XvWh6kc1bTV7NZbaODWp2hK1HWon1W6rvaFSqdbUAGoatYC6hFpNPU19QP2gTlN3Umer89Rnq1eo16tfUX+pQdaw0mBqTNAo0ijXOKBxWaNXk6xprcnS5GjO0qzQPKx5U7Nfi6blohWjla+1WGuX1gWtbm2StrV2sDZPe772Vu3T2o9pGM2CxqJxafNo22hnaF06RB0bHbZOjk6Zzh6dNp0+XW1dN91k3am6FbrHdDv1MD1rPbZent5Svf16N/Q+DTMexhzGH7ZoWO2wK8Pe6w/XD9Dn65fq1+lf1/9kQDcINsg1WG7QYHDfEDe0N4wznGK40fCMYe9wneE+w7nDS4fvH37HCDWyN4o3mm601ajVqN/YxDjUWGS8zvi0ca+JnkmASY7JKpPjJj2mNFM/U4HpKtMTps/punQmPY++lt5C7zMzMgszk5ptMWsz+2xuY55kXmxeZ37fgmLBsMi0WGXRbNFnaWoZZTnDssbyjhXZimGVbbXG6pzVe2sb6xTrBdYN1t02+jZsmyKbGpt7tlRbf9vJtlW21+yIdgy7XLsNdu32qL27fbZ9hf1lB9TBw0HgsMGhYwRhhNcI4YiqETcd1RyZjoWONY4PnfScIp2KnRqcXo60HJk2cvnIcyO/Obs75zlvc77rou0S7lLs0uTy2tXeleta4XptFHVUyKjZoxpHvXJzcOO7bXS75U5zj3Jf4N7s/tXD00PsUevR42npme5Z6XmTocOIZSxmnPcieAV6zfY66vXR28O7wHu/918+jj65Prt8ukfbjOaP3jb6sa+5L8d3i2+nH90v3W+zX6e/mT/Hv8r/UYBFAC9ge8Azph0zh7mb+TLQOVAceCjwPcubNZN1MggLCg0qDWoL1g5OCl4f/CDEPCQrpCakL9Q9dHroyTBCWETY8rCbbGM2l13N7gv3DJ8Z3hKhFpEQsT7iUaR9pDiyKQqNCo9aGXUv2ipaGN0QA2LYMStj7sfaxE6OPRJHjIuNq4h7Gu8SPyP+XAItYWLCroR3iYGJSxPvJtkmSZOakzWSxyVXJ79PCUpZkdI5ZuSYmWMupRqmClIb00hpyWnb0/rHBo9dPbZrnPu4knE3xtuMnzr+wgTDCXkTjk3UmMiZeCCdkJ6Sviv9CyeGU8Xpz2BnVGb0cVncNdwXvADeKl4P35e/gv8s0zdzRWZ3lm/WyqyebP/s8uxeAUuwXvAqJyxnU8773JjcHbkDeSl5dfkq+en5h4XawlxhyySTSVMndYgcRCWizsnek1dP7hNHiLdLEMl4SWOBDvyRb5XaSn+RPiz0K6wo/DAlecqBqVpThVNbp9lPWzTtWVFI0W/T8enc6c0zzGbMnfFwJnPmllnIrIxZzbMtZs+f3TUndM7OuZS5uXN/L3YuXlH8dl7KvKb5xvPnzH/8S+gvNSXqJeKSmwt8FmxaiC8ULGxbNGrRukXfSnmlF8ucy8rLvizmLr74q8uva38dWJK5pG2px9KNy4jLhMtuLPdfvnOF1oqiFY9XRq2sX0VfVbrq7eqJqy+Uu5VvWkNZI13TuTZybeM6y3XL1n1Zn73+ekVgRV2lUeWiyvcbeBuubAzYWLvJeFPZpk+bBZtvbQndUl9lXVW+lbi1cOvTbcnbzv3G+K16u+H2su1fdwh3dO6M39lS7Vldvcto19IatEZa07N73O72PUF7Gmsda7fU6dWV7QV7pXuf70vfd2N/xP7mA4wDtQetDlYeoh0qrUfqp9X3NWQ3dDamNnYcDj/c3OTTdOiI05EdR82OVhzTPbb0OOX4/OMDJ4pO9J8Unew9lXXqcfPE5runx5y+1hLX0nYm4sz5syFnT59jnjtx3vf80QveFw5fZFxsuORxqb7VvfXQ7+6/H2rzaKu/7Hm5sd2rvaljdMfxK/5XTl0Nunr2GvvapevR1ztuJN24dXPczc5bvFvdt/Nuv7pTeOfz3Tn3CPdK72veL39g9KDqD7s/6jo9Oo89DHrY+ijh0d3H3McvnkiefOma/5T6tPyZ6bPqbtfuoz0hPe3Pxz7veiF68bm35E+tPytf2r48+FfAX619Y/q6XolfDbxe/MbgzY63bm+b+2P7H7zLf/f5fekHgw87PzI+nvuU8unZ5ylfSF/WfrX72vQt4tu9gfyBARFHzJH/CmCwopmZALzeAQA1FQAaPJ9RxirOf/KCKM6scgT+E1acEeXFA4Ba+P8e1wv/bm4CsHcbPH5BfY1xAMRSAUj0AuioUUN18KwmP1fKChGeAzaHfs3IzwD/pijOnD/E/XMLZKpu4Of2X7/4fEh7J+4FAAAAOGVYSWZNTQAqAAAACAABh2kABAAAAAEAAAAaAAAAAAACoAIABAAAAAEAAAC3oAMABAAAAAEAAAATAAAAAOSArEEAAA3NSURBVGgF7ZoJXI/pFse1SVRExNgG42MNie64mLnTIIxmkBlq0hAmRlRMytVkaSbEZM9eZGtRobJlDxMS2bJkJ0mlpEjofv89///bqxq36H4+M3fm/fSp5z3vOec5z3nOc87vPKgVFmZV+fv5K3ng5cuX6kXPWxb94sWLqlWrSgzqhYWFDx+m/d7Pkyc5EiuDvLxnO3bs2rp1O1okekFBwaFDR9eu3cBXifiHHfzww+TExPOVax7ekzukcpVXrracnKeenrNLbOurV6927963ZcvW169fi+n8/NYcPfqbNLVafn6at7fvpUuXk5NvdO1q2qCBkfiWlZV14sTpVq1arlvnJyhHjhz39V1qbT1kzZr1jRs39vdfCv3WrTsTJ7p98YUFgZKZmblnT7ik+p0HCxcu37lzr6/vL+3bt31nJWUKZmY+trAY3Lfv515eHmUyVJSIc8PDo+LjEzw8XAcPtqyo+Pvw29p+z+5u3rxGTU2tnHrIIvb2jtOm/diq1UeSCEqmTPGsX9/o9etXqamPFizwFp/GjHEaM8bOzMyUV00Sy4wZ7suXryVKHBxGdO7cUZK/du26o6OreM3OfuLh4fXtt18PHTo4NHSbkZGhoDs7u7do0QzBpKTL6uqSaMUGU6fOmj3bU5K5fv1mRsbj+/dTKj1KgoMjatSoQfRLc73noG/fXr16/cvMzLyw8D01VVj87t17HH0eDQ2NcgovWODXrl1reYgg7uw8VV9f19V1Ym5unrm55aNH6XXrKjZ3ypSJ7u4zgoMDNHlUE6hRekpEZcuWLVq3bklB0dLSSktLI1l17GgM/9atgSqpKg8fPurfvzevCxfOkYgVHVy9ek0uMm/erJSU1ObNP5QTK2V85cq1fv16hYREnD9/0di4XaXoREmR6ypLWXn1hIVtqFCIPH2au2fP/s2b/eUTQElISIyJ2QaxRo3qKOTVwuJzXtl9PT3d0NDt1tZWyuNPtpELb9sWLV6bN2+Wmpom+1QyuRUWUslKEuHHcYQXs8pkFUPyG3S+SnR//40ZGZnSK4Nq1apVNETQiWa5ktLjrKxsjp2trTWHgUApzVAhCtlbvgpWLBdn4SWWKf/6DmPJb9KkhoZ16tWrW35VoaERDRrUq1evjlxk8eKV7du3rl5dByLggVnAWBIDaXL7dkUkKHMJu8bCRKxgR3h45MCBX/DZyWksvyMiog4cOMLngIBNERGRFB0KU1xcPOOCgpcHDx6hRvTs+c8BAyzEBCtX+h87dgKLbt++Y2X15bBhVtDxmq/vsqtXkw0MDKpW1fzggwaOjt/PmDE3Ono3iNvNbTo8n3zS3dS0I2zgJAcHe0vLvlu2hJ06lYBh5LPp0910dXV//nleenoGWXDaNFcDg5oENPEOnKJCmZl1dnEZL2wo/Ts4OLxPn08bNjRq0qRRXNwpOQNrCQ/fkZR0xd7eNi0tnUF6emb//n1sbIYINnyyevV6zhkR1rhxQ4y5cCGpYcP63t4KsxWOe6U8DziaMv/s2TMtLe3U1FQyeZcuJvK5Kjqm+P70k1f16tU5jZzJu3fvh4Ss27t3f0RENO6NjAwm9GfOnHPz5m0GU6Y4rV4dyOyY4eMzS19fT5ruwIFYY2NFKZAe8GlKyoMJE74XlJMnTyPVqVN7iaFPH/NFi1ZkZ2cro6QIAKktXx6gpxfCmSMhS6wM2K0WLZqDXvEacEZbW9Ejde1q0rFj+4MHj/bo8bG9vZ2WllLVr78uYec2bVrbpEnDS5eSRoxwZFe6dTObPNkjJ+eJv78fjh42bOSePQdGjRo+daqzpqYGa54xYyo6UcJSJ0+e0L//EAoklCFDvszNzV26dBXgiRCB0r37P7y85q1evZgQCQvb7uOz2M9vvqmpCfxWVsPr1KljZzcMttLPxYsYYwOdgA4M3HL69BmkBBtrAV0xaXR0zPjxoxwcRsbHnxk3bhIB0bNnN3g4cwTWxo2rMJ5qTTc3btyoBw8eqGaBrEyoo0Y50kEEBfkD+EiTkyb9OyoqRL5bVlZ2z58/VwmW8Revent7Sh+8vHyMjIw4IVDy8vKGDBnBwNz807t3U44fPylSi5ubs7v7zMTEC7GxcXPmTMeH1tajnJzcAwKWSXoePcqoW/eNRAJKI/LAoytW+MP2228niX76EkmEXEXc3LlzX7m1Ghrq/IwfP9rEpAOHyc5OGV9CgIOro6MNA/Gho1NNEDFFR4df6qiWiDSE5KFPP+1OiMDWtm2bpk0bRkbuIiETuXPnzhTetLb++tat29ra2mSRqlW1ilQp1SJlZFQXipqaohqifPRoO3SSnAYOHADl3r2UsWPt2VQcFBCwmS5MbDaYC9i0d++BMqOERXEcmRENw4YNpusLC4uUooTp8CDLbNq0kYmJAr+TALS1q509e05ECfWbQIeNT2SsuXMXL106j7F4cIKwFkdzwDw93cVlA/3gqlXr9+8/NGiQpYq3SlhYMaqTiG8ZPHnyJDs7Ky3tEXvGEmjQYMbUWrVqMa8QpEbr6emzo3Z2Q/kEsV27NrGxx+RqHz9+zL7IKcnJyazX1LSTIJJNGzX6wMCglpynSZPGnC5llBThBGVlrVfPUHhKcOOgIjjDVyWDXAtjUK9EOXXqNOnuxo3bLi6K3MDz/Hl+fn5BVFQMjL17fyaIX33VXwyKfpetVk2tmE6BpOqhWUdHhzM9f/4vCHKwUlJSCDtprgcPUkUcyJQrh1FRu27fvitxEnxnzpwrzUaVlIhkBwk+kaLy85VXRHl5z0ljMjaWD/BXWBsbe5zY3b075tChWMHA6QL1S8zvMHByGjdunIul5VA9Pb2PPmru4vKDUFI0Y3HDoa7+GnghXYVhuWS8il8BFuUGZGRk9ejRrXv3jyHShdDGShskY0NETRklUIv0KrXMnj1d8J09e548JkDvm1MU65FvJ2gVtl69Phs9engxR5Uqrq4//Z44QSZ9org2a9YUwaIdKg4+YDaoIigovGvXzvr6+iJ1sWYEjY3bCHAgn670ODHxYmDgCoJDfFq8eMW6dVsSEs517txBzixfSxEwV360sRm8YMFyMC+NQGTkzrFjR0pSwgxMhiLW8uOPE0l1EsN7DihA0dGhGzYEJyScpUdzcHDmjgRUx4wsX+GCoqdEhypfiMqAYn8KCk6WGj0uqDQ0NO3srFXMb/xVRokCub5+LU0psezff1gUKhWD9EU5IMu9eqU0FBKdc7Vq2lff7GwvXLjEzQe1gIRM3haSKGRAxWEzxJjXefMAGb8yePkSY5R4kNcGDeq3adNqx46dSUlXBbaASF4B59+6dZex9Ii5pFcxAFyDfqQQgUgJWL9+C+hEHiUl1oJVUISG+Phz3ByQz7iXW7bMl3QrnwJO4ToTE2Nq2Zkz56Uo4YDm5OQ0aqSov+KpKC6ZMMGNy6SJEx0Qz8zMsra237QpxNXViRklv/GpyPjiLg80LRkv5iX/HT58TDIMouRkVNGIWFr2MzIqTqVC6s6de8bGrZWFTZBUCEy8VQEAR0XtMTMTdUsRiSUYiiik/OIoARxYWPTi2gpgLLRwOwlKsrX9hp1es2aDUrUiIJacP3+JV319XRolygeVSSq0imOpOiVC5LvvhpFp0tPT27ZtJSighOHDh964cYuWRFA4akuWrBZj+e8VKwI6dGgnpwBLqcGnTp2RA0lWIl+LYrmq4/fy5QtPT29KPsiAFV2+fFWujbGwlqagZcvmERE7JOMXLvQ7d+6CnBlcEh0d8pYfOXRFEDyxbJlyUbVrg0ZqFiWS4iwiU64yV0EqLkaCwdDQMCMjQ8YM/jMUdoKy1dU13Nyc5F8ZA4ZYMiGu4e7uTDkg91L1k5NvHjlyDCDCT0jINno/dgIwzxkCJ2Iu+0QHKEDQ8eMnZs9e8JD+Oi0drGBu/okAd3wFmW7cGPLgwcPo6L1gn5kzp1Ivoe/cGUP/nZr6MC4uvmbNmlxwYUqbNq337Tt47FgcQIG2+fr1Gz4+C9FJpaTlIYUI0z/8sAlmDBo0QL7fwNWCgheBgcFgDhryffsOe3q66ekpWiHxUDE9PH6mgyWAOPCdOilaQbrcadNmcT3w4kU+bTZxhrOktaBKU1NrzpwFHBIuclgyAJY8RMmj8yQ+CMr164Pi4k7269c7JuYgPR2d+f37qfiUBpDSzpHdtWsvpzAoKAwwYW//RvFVmVbev9QCEtLJkwmXL18hi5A+J01yJG5wZm7uU8pQ27at589fmph4jqRFRFKylyxZefp0IngItMB5ENcqjx9n4Xb5PyOwKfyrHDfstHurVi2SWhDJMhzORtjaDqW2ZUnUShxgExvTtGljUohcLX0XPgWFsVo5/cSJeDjpmeXEEmP8zpqLD7jqM/mAaMAXFb2LUyn4L3/p5ydP9gwNXaerW0OwcgBoA8eMGfnNNwPLFCbUgNLUWUmkTLbyEKlxtWsb0Nndu3efY00KLI9UaR7uXgcOtAHTiKARDNy+EFvEWWl+KCNGjKMyAAr/V1FS5qx/UiK3diCYyMgguf14EFz5lks8OfMfZOzjs4isyeVKeey5du2Gu7tncPA6is4buKQ8wn9BHktLC4op9Vda+44d0WlpGTY2X0uUP8Vg0qTxFy9e5vq7PNZS993cXMTty9+5pDwe49bn+cqVAXRYFG8uXsn8eJyuuFzCfyQmwAqQi383AAW/xS5Ad5cunblVFzx/R8lbfPX/+ekd/q/afwB2DR7Yjaut+wAAAABJRU5ErkJggg==)\n",
        "\n",
        "    b. Примените экспоненциальную функцию (`math.exp`) для оценки влияния атмосферного давления на распространение солнечного света:\n",
        "\n",
        "      ![image.png](data:image/png;base64,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)\n",
        "\n",
        "    c. Вычислите интенсивность солнечного света на поверхности, учитывая атмосферное давление и угол падения. Используйте логарифмическую функцию (`math.log`) для моделирования затухания света в атмосфере:\n",
        "\n",
        "      ![image.png](data:image/png;base64,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)"
      ]
    },
    {
      "cell_type": "markdown",
      "metadata": {
        "id": "3irprKAxxcCS"
      },
      "source": [
        "3. **Округление и сравнение:**\n",
        "    - Округлите конечный результат до двух знаков после запятой с использованием `round`.\n",
        "    - Сравните полученную температуру с температурой замерзания воды (0 градусов Цельсия), используя соответствующие сравнения, и определите, существует ли на планете вода в жидком состоянии.\n",
        "\n",
        "4. **Вывод:**\n",
        "    - На основе проведенных расчетов программа должна выводить эффективную температуру на поверхности планеты и делать вывод о наличии жидкой воды.\n",
        "\n",
        "**Ход работы:**\n",
        "\n",
        "- Напишите функцию `calculate_temperature(angle, intensity, pressure)`, которая принимает угол падения солнечных лучей, интенсивность солнечного света и атмосферное давление в качестве аргументов.\n",
        "- Внутри функции проведите необходимые расчеты и верните округленную эффективную температуру на поверхности планеты."
      ]
    },
    {
      "cell_type": "code",
      "execution_count": 111,
      "metadata": {
        "id": "rGLRw1Pazivl"
      },
      "outputs": [
        {
          "name": "stdout",
          "output_type": "stream",
          "text": [
            "199.9387948461159\n"
          ]
        }
      ],
      "source": [
        "def calculate_temperature(angle, intensity, pressure):\n",
        "    theta = (math.pi * angle) / 180\n",
        "    pressure_eff = math.exp((-pressure) / 101325)\n",
        "    surface_intensity = intensity * math.sin(theta) * math.log(pressure_eff + 1)\n",
        "\n",
        "    const_steffan_bolz = 5.67 * 10**-8\n",
        "\n",
        "    return math.pow(surface_intensity * math.cos(theta) / const_steffan_bolz * pressure_eff,0.25)\n",
        "    #return math.pow(surface_intensity / const_steffan_bolz, 0.25)\n",
        "\n",
        "\n",
        "print(calculate_temperature(int(input()), int(input()), int(input())))"
      ]
    },
    {
      "cell_type": "markdown",
      "metadata": {
        "id": "5JGzg3RS_8TV"
      },
      "source": [
        "\n",
        "\n",
        "```\n",
        "# Пример №1\n",
        "#Входные данные:\n",
        "Угол: 45\n",
        "Интенсивность: 1361\n",
        "Давление: 101325\n",
        "\n",
        "#Выходные данные:\n",
        "Эффективная температура на поверхности: 301.47°C. На планете может существовать вода в жидком состоянии.\n",
        "\n",
        "# Пример №2\n",
        "#Входные данные:\n",
        "Угол: 187\n",
        "Интенсивность: 6500\n",
        "Давление: 101325\n",
        "\n",
        "#Выходные данные:\n",
        "Эффективная температура на поверхности: -248.15°C. Жидкой воды на планете не существует.\n",
        "\n",
        "# Пример №3\n",
        "#Входные данные:\n",
        "Угол: 210\n",
        "Интенсивность: 24000\n",
        "Давление: 101325\n",
        "\n",
        "#Выходные данные:\n",
        "Эффективная температура на поверхности: -3759.14°C. Жидкой воды на планете не существует.\n",
        "```\n",
        "\n"
      ]
    },
    {
      "cell_type": "markdown",
      "metadata": {
        "id": "nLwGZB0cl6Px"
      },
      "source": [
        "# Дополнительно:"
      ]
    },
    {
      "cell_type": "markdown",
      "metadata": {
        "id": "tok0rhVPbOjb"
      },
      "source": [
        "### Комплексное задание: Анализ и обработка числовой последовательности\n",
        "\n",
        "#### Цель:\n",
        "Разработка программы для анализа и обработки заданной числовой последовательности с использованием представленных математических функций.\n",
        "\n",
        "#### Задачи:\n",
        "1. **Подготовка данных:**\n",
        "   - Получить последовательность чисел от пользователя или сгенерировать случайную последовательность вещественных чисел.\n",
        "\n",
        "2. **Обработка данных:**\n",
        "   - Используя функцию `modf`, разделить каждое число на дробную и целую части.\n",
        "   - Для каждой дробной части применить округление вверх (`ceil`) и вниз (`floor`), сравнивать результаты и записывать в отдельные списки.\n",
        "   - Для каждой целой части вычислить абсолютное значение с помощью `fabs` и затем использовать `copysign`, чтобы присвоить знак следующего числа в последовательности. Если такового нет, использовать знак предыдущего.\n",
        "\n",
        "3. **Анализ данных:**\n",
        "   - Вычислить НОД (`gcd`) для пар целых частей, начиная с первого элемента.\n",
        "   - Для каждого числа использовать `fmod`, чтобы найти остаток от деления на следующее число в последовательности. Если следующего числа нет, использовать первое.\n",
        "   - Проверить, есть ли в последовательности бесконечные (`isinf`) или нечисловые значения (`isnan`), и исключить их из дальнейшего анализа.\n",
        "   - Использовать `isclose` для сравнения каждого числа с последующим, учитывая приближённое равенство. Зафиксировать пары чисел, которые удовлетворяют этому условию.\n",
        "\n",
        "4. **Дополнительная обработка:**\n",
        "   - Для каждого числа в последовательности использовать `ldexp`, чтобы умножить его дробную часть на 2 в степени, равной его порядковому номеру в последовательности (начиная с 0).\n",
        "   - Проверить каждое число на конечность (`isfinite`) и записать в новый список только конечные числа.\n",
        "\n",
        "5. **Вывод результатов:**\n",
        "   - Вывести исходную последовательность.\n",
        "   - Вывести отдельные списки, полученные в результате обработки данных.\n",
        "   - Вывести анализ данных, включая пары чисел, удовлетворяющих условию приближённого равенства, и список конечных чисел.\n",
        "   - Вывести результаты дополнительной обработки.\n",
        "\n",
        "#### Технические требования:\n",
        "- Программа должна быть написана на Python.\n",
        "- Использовать модуль `math` для математических функций.\n",
        "- Предусмотреть обработку исключений для нечисловых входных данных.\n",
        "- Предусмотреть интерактивный ввод последовательности чисел или возможность генерации случайной последовательности."
      ]
    },
    {
      "cell_type": "code",
      "execution_count": 45,
      "metadata": {},
      "outputs": [
        {
          "name": "stdout",
          "output_type": "stream",
          "text": [
            "[-0.10680849047368213, 0.5136630709021262, -0.6206760051004636, 0.6962950637811218, -0.0025065107638795325, -0.4474097564835944, 0.9405564050925364, -0.8185936231797228, -0.4550293932033327, 0.3931839077982886, -0.05278156473937656, -0.9299008397118484, -0.32855191978360665, 0.6023800824894181, 0.8393100847147252, 0.1492085601193338, -0.8870544605259809, -0.2621468743875255, -0.1712047632788085, -0.0723306112103046, -0.103988788247932, 0.9653269824136999, 0.060094568782119495, -0.8941258771171192, -0.3286643178641242, -0.24726687855263663, 0.7083242346993757, -0.7140966311106354, 0.0977552371882382, 0.39384206149983925, -0.9766334931073004, -0.14326228522749318, -0.5556390425760753, 0.152273416913431, -0.4686914504793833, -0.16670475870094492, 0.41698743350403333, -0.8580163468318176, 0.3255278701731754, 0.10153333912126072, -0.44917545153906246, 0.28602893180203637, -0.7105767282288014, -0.028804359576085403, 0.6569116867404716, 0.4054423884082041, -0.7405836246897621, 0.43319479604980415, 0.4350488819706868, 0.21373681287121826, -0.543657630502814, -0.4995802547864514, 0.779993139326848, 0.2971719295277353, -0.6520131309579469, -0.9436052399798598, -0.6351667074894607, -0.3109464183175987, 0.68916313923242, -0.8774482994417809, 0.5835954664405847, -0.020898811177744392, 0.5373597687388951, -0.21459058435016232, 0.4736505886453557, -0.6076930985206559, 0.8642268298432896, 0.7882035894527633, 0.7454693434350474, -0.3397837348155477, -0.05328458589870877, 0.9673267109281483, 0.7666846845800137, 0.02001856000896396, 0.37039295230903235, 0.29434109280006737, 0.2962891808155348, 0.8451163690566261, 0.9824171849366792, -0.5847886675718144, -0.7928401679751289, -0.29705208580215015, 0.6453252742271047, -0.03159012881451417, 0.9722888774254841, 0.4691340399228352, 0.647123229421652, -0.5742917127347482, 0.8268887651749424, -0.234113939886349, -0.21206468311001458, 0.5318211433263116, -0.6781431747865057, 0.794979836633317, 0.07328145307300815, -0.2567485080436853, 0.28378412775873585, 0.6963786315144773, -0.1643767278848003, -0.04126815257284022, -0.07445341974212738, 0.3047805693765042, 0.4336909293165121, -0.848636143477961, -0.4427786441977304, -0.21272389011831194, -0.8514409025242102, 0.35677431285984085, -0.4573328489164794, -0.7795218960019099, -0.5634786839432735, 0.0743136809795999, -0.22853859485557848, 0.5787712362775039, -0.3612155513436335, 0.9727028394659669, -0.47190800010795897, -0.0037841052511851103, 0.15157109180839257, 0.8991866778835629, -0.14315322435493272, 0.45506177259348135, -0.3344237772449503, 0.8619738131148722, 0.6155034658776799, -0.366486723075262, -0.14890748570257983, 0.9990597054934653, 0.8318184296714719, 0.9162763321099305, -0.5686170807769884, -0.9174336423849212, 0.743249006104179, 0.4409260746590462, -0.2633001374286934, 0.9500423929885642, 0.0857240411969542, -0.43783571413230504, -0.6516436071479461, 0.6494058158742746, 0.3567174296630071, 0.5636737747646947, 0.4932214548389027, 0.29695038524374695, 0.5865388034847854, -0.3626432868559277, 0.9469499329599955, -0.5198574834592335, -0.9216111106045162, -0.2166612121978062, 0.32812344513416747, 0.5070293175389509, 0.8605778765270315, 0.321406071223862, -0.514653041118919, -0.9583250494196704, 0.08013566784518389, -0.43255290073533104, -0.01977129873759509, 0.4440468593040521, -0.7655897751089071, -0.6952906949720585, 0.785703676764598, 0.4667779716536984, -0.019153754952753843, 0.23590168858302718, -0.24119690764366908, -0.21823452307756952, -0.05262596678363707, 0.9107834667631209, 0.31751830662815905, 0.04267561079890925, 0.5765690925690876, 0.5346730620395874, -0.4181769477267636, -0.9941585588672126, 0.8000689728943087, 0.4856002275740252, 0.38230955055709614, -0.7299250845733525, 0.42988433182199515, -0.5564174989952875, 0.2583105342725105, -0.54275144633867, -0.24271039861818622, 0.16717287072611953, 0.08352845869100634, -0.4975442244683279, 0.3552524349503017, -0.7359545840836716, -0.4779775609582515, -0.38660152905762857, 0.29115288523772165, 0.9656586856145708, 0.7068687893836056, -0.06442284684268174, -0.16409592972462406, 0.02022978181125268, 0.4352427652459028, 0.2794166782658891, -0.6788899987320036, -0.3848263561116596, 0.7501158349281525, -0.5491023740657539, -0.9710546849228479, 0.334731201016524, -0.48149490489814184, 0.35304684807812237, 0.46657881682270386, 0.4860396734338792, 0.9891346670242172, 0.2578938780150395, 0.22527608724902848, -0.8476962514883155, -0.307317035727138, 0.1973969543370231, 0.1043021218486615, 0.6266048348293509, -0.3218241890442144, -0.5675855702556305, 0.9342435102084039, 0.6008959653086094, 0.308933565072806, 0.5235851697610769, -0.8511903186487331, 0.6438186347390058, 0.778325064828806, -0.6781712136584019, -0.38563905880164384, -0.1881271546010197, -0.5395358189930164, 0.7027622057686926, 0.9037907593218364, -0.20897908375546592, 0.1471886631986763, -0.07971034094478568, -0.23931063902017513, 0.9531938143043135, 0.706914671568569, -0.10447321255449538, -0.5893416913444867, -0.551740314578538, -0.3339953515312999, -0.002296733302245002, -0.8311323826582111, -0.6564418314444325, 0.9767334343009111, 0.20580088864002732, 0.21401356429910834, -0.40040322031626374, -0.025466779424576202, 0.3433385775873319, 0.3343024396289138, -0.5331493269245442, -0.6536425430688837, -0.02840142278526514, 0.647604628367219, 0.13568314289247496, -0.30885705603751035, -0.6497740686376261, 0.7559854548399869, -0.3345097804518673, 0.28324088274985115, -0.7125743177399357, 0.6910347239537202, -0.7802416108806796, -0.861843905316249, 0.7739169815118885, 0.9597069533290892, 0.9878632199382338, -0.4736038890700556, 0.37181641340490046, 0.32770526287791313, -0.2089590828725818, -0.6508239927520947, -0.9987526538910885, 0.5539546985557706, -0.13367926794552432, -0.5738170617106846, -0.9253980438220424, 0.10567933123545004, -0.2952580987471407, -0.43598743229000547, 0.24192121307441994, -0.2514328552268381, -0.8638864513853406, -0.769515895635493, 0.24507965344179183, 0.7170115734594162, -0.6401987920048811, 0.9904583265516465, -0.3820238663743112, -0.9033264933781382, 0.17618410574975485, -0.4857393902161391, -0.4982237523272346, 0.17341927919349587, 0.397168000591563, 0.22451319472438058, 0.045414370899834466, -0.37893428725040224, 0.8268720441674873, 0.6112895405474035, -0.14873180082835802, -0.18966985617859677, 0.3302882622435561, 0.11596077415796913, 0.3941286270134583, 0.2686556460336931, 0.672540161251618, 0.002564020392640032, 0.8360087900716877, -0.5500571646432633, -0.6052989408661631, -0.31303107711998024, -0.11108293550534398, 0.7345573447902325, -0.12920410155970785, -0.3008337277517086, 0.06327943922414647, -0.913191962364678, 0.10479290555488774, -0.5053080411703945, 0.23039337339963595, 0.4300168233438342, 0.9477505463814566, 0.4217463350009041, 0.02690950579017226, -0.30264986895048196, -0.2996216133758409, 0.5070840784570407, 0.6867506169138835, 0.1287771529779036, -0.9073367164425292, 0.9080385885856401, -0.5410658410998224, 0.6090635574652765, -0.9081383469412003, 0.28567610337697147, 0.393277408221536, 0.17757112904342875, 0.7157813303553553, -0.5450704208461872, 0.9803274803442719, -0.6850226875124577, 0.5321832397416983, -0.8280740481833178, -0.6629752289912574, 0.9307195365134362, 0.6364439511602029, 0.9006664877439334, 0.22511310267921658, 0.056263628123076614, 0.03824292870015711, 0.20246533423087953, -0.7922618248958742, -0.4360106911022257, 0.7419504897037825, -0.6851963215972035, 0.006273453182416233, -0.42988124531970584, 0.3446539984922907, 0.3711405886502632, 0.10574187088235476, -0.3028342694107451, -0.023364678093280133, 0.25340876535879886, 0.2488835372175231, 0.49842117084943993, -0.631881990743203, 0.918127728284901, 0.031960944262920066, -0.8245996718629272, 0.38468477698458514, 0.8235625115294738, 0.8092361974246103, -0.3033789776369744, 0.4412191708810127, 0.025063651726611624, 0.03009884726071732, 0.7649767982536844, 0.729338028568705, -0.1506066042405365, 0.3146052751956745, 0.647684685011825, 0.22306002189790775, 0.10182646813257179, -0.9463763971794634, -0.5884919123250398, 0.5435185073743298, 0.9343238724055851, -0.8514634274149415, 0.18621675247666758, 0.5460317764961644, 0.8559278246949589, 0.534983879840695, 0.8156275717519037, 0.8635216537196015, -0.4552907213602708, -0.6135659712706101, -0.04215828569392954, 0.7883442857939258, 0.6591299188278583, 0.4721397728554848, -0.6912074677591988, 0.11590756410163294, 0.9924572481577343, 0.5260305098913136, -0.3748012437938115, -0.20583556046939577, -0.8935889640133468, -0.33935850869019646, -0.7811205888654342, 0.7921258838050846, -0.6713772213052636, 0.7484430264198636, -0.6380886324102164, 0.6966618354910707, 0.09305924027853507, 0.4598922535145107, -0.6483428718578068, 0.8069551349274207, 0.4631367093302856, 0.7785235190903279, 0.8625390644313029, 0.8857738458852964, -0.016151370731620318, 0.00881572514200002, -0.32014160104249356, 0.18978412331405536, -0.9103368816617774, -0.8742502332718445, -0.4921940392902684, 0.677579806744518, -0.530875687744242, -0.8551747180845837, 0.4446592094276127, -0.21027997189359127, 0.170220532621272, -0.804727949455355, -0.2368603979856161, 0.02882963850143483, 0.9229099172656987, 0.9212652187005688, -0.640774799677061, -0.42665539788343665, 0.35522688798522495, -0.36046254441615133, 0.9207606682554683, 0.5726409950173093, 0.2987893980674414, -0.5023911502666607, -0.04800336995953103, 0.8455455975660868, -0.49185930507796627, 0.1321673993529089, -0.5072919641709319, -0.43563418888501815, 0.7122981613490253, 0.7090315254007749, -0.883698252174085, 0.8367539390982728, -0.16453953761156015, 0.9748333879049653, 0.5570837982878487, -0.031115352095660853, -0.2772261351970613, 0.15766284956836785, 0.13072903334233388, -0.9570571273802386, 0.4572164058968724, 0.18351566467208613, 0.695700262333844, 0.13478330549975226, 0.6619777950000696, 0.24366030353047563, 0.9383039950865566, -0.9494322154054942, 0.5121179484011122, -0.2858609868280979, -0.5075986798913164, -0.6518046470802972, 0.7167455095784305, -0.10386282173266181, -0.07606342288083567, -0.3510958277609717, 0.29839884267110506, -0.3084496158246566, -0.9688357629266591, 0.7010771410173078, 0.34762126913736324, 0.5908626932350103, -0.4349043446280234, -0.9997858470487913, 0.10507295481198753, -0.5179867350101404, -0.8904791908189793, 0.9051452173979726, 0.21558614882428628, 0.6137701344614186, 0.8265757102881253, 0.02320402451907455, -0.16450619694096247, 0.7553623423804368, 0.42919230592156055, 0.547423349249101, -0.03746049038110044, -0.024882131382099715, -0.7268287244176292, 0.8304203769629055, -0.44846669725899346, 0.44105040734628176, 0.6842503153523296, -0.5712917311583396, 0.5403538452346481, -0.7502979533600467, -0.957382486974808, -0.6367407979382165, -0.5837319735922932, 0.5099909293386418, 0.23368032166675334, 0.9165339305594955, 0.6230229201330246, 0.8460462427213997, 0.42131795553534346, 0.5751365191805462, 0.23644774914689037, -0.2515250227340431, 0.3140057652165069, 0.5056310523600018, 0.8616556782366729, 0.32288922711677515, -0.02492092897610121, 0.27198510030970624, 0.36546294084166675, -0.8549763865931794, -0.49504551542442243, 0.2373284520056984, -0.5278386965071462, 0.007872297993543498, 0.1850816719293107, -0.34114140992878106, 0.780021609311774, -0.35632091125243903, -0.19030512901515806, -0.9380817115281275, 0.8293883374673783, -0.5838705833006088, -0.1469924335050763, -0.9749197709363244, -0.8407196768253158, 0.6361427849963377, 0.8840529878241625, 0.10771213388147771, 0.1263225364104983, 0.3883604478424303, 0.11822084691462464, 0.7251114008143134, -0.8768981290253919, 0.7122264537627387, -0.3122472022999432, -0.2217075860867439, -0.8183791225005237, -0.7443640665291298, 0.21844172677080564, 0.7101097012833293, -0.3196775454996157, 0.4860034774472126, 0.6414470019659575, 0.5351563870796667, -0.38005451529036804, 0.01575310646546768, 0.08892423040077801, 0.8329065085178229, 0.8506927135517799, -0.5061701665252372, 0.24672531506114126, -0.2879620305634347, 0.8505304743778765, -0.7870735410105141, 0.5640646595311409, 0.23781524540399346, 0.32047154478659934, -0.4862121679275475, -0.9309677806927397, 0.2784890231328916, -0.17188037567919423, -0.21195334347468986, -0.5207973137469821, 0.7733269590397356, 0.00647697443670836, 0.6314858666583234, -0.7144835471946038, 0.41424197672631635, 0.7634420349787661, -0.9239052144766191, 0.7903390189702861, 0.6784926282688417, -0.5328164895023804, -0.5969553115831587, 0.47707777953598907, 0.012503061018549033, 0.187906282319787, -0.2937570632814257, -0.23107128488744877, -0.6025066773685523, -0.6084566283555759, 0.6357100190861331, 0.632756079723066, 0.8754648952790376, 0.7780516153284225, -0.34170947243300276, -0.3537915686821833, 0.525907597675058, -0.4520825210347681, -0.24307830864194102, -0.8695387801414256, -0.5580946393678232, -0.7135325554705929, 0.5526859828508748, -0.06277108371078555, -0.37631619386877446, 0.7087428449031989, -0.48835468824955797, -0.13878359026071507, 0.5163161028835646, -0.3436313158840818, -0.26545110916222825, 0.5520334757455032, 0.8474839828015206, -0.625250089608393, 0.43326474930118763, -0.20512249176903197, -0.7622105109164465, -0.26642259982672556, -0.011739677331149778, 0.03436102513174433, -0.8508436442888012, 0.41170750482771723, -0.28689585262853257, 0.35798054086228603, -0.7946456846804324, -0.48701070542254143, 0.19783417868984543, 0.7426306804899241, -0.2744573978130944, -0.9446828796565825, -0.6433350218571263, -0.4115132889230324, -0.37558100691433793, 0.7415591916690687, -0.7369617707129095, 0.3187242788297908, 0.07652353455500815, -0.7205327413296345, 0.38996495344616733, 0.9075202777874267, -0.6564882417618776, 0.2460069510224514, 0.6724455718136824, 0.3052371452414775, 0.1053929587435789, 0.641579511926949, -0.8459960688996944, -0.41437615703418373, -0.3098256792458045, 0.20001517349604114, 0.10401885441289949, -0.47810456023606207, -0.7896012235997176, 0.4175694515299, -0.5706293166190477, 0.3152342826967498, -0.8919680735107249, -0.6734342564186022, -0.10688013880749736, -0.8252708156949211, -0.18398870746992202, 0.6988463567742258, 0.8256152627879771, 0.03035447601035912, 0.3753429984953698, 0.017738604508878097, -0.432843653774853, 0.20688934212199683, -0.36986844505716476, 0.2963723909631426, 0.43604570515893215, 0.5817506768596559, -0.8660939646414931, 0.8421578425443386, -0.27653437184163465, 0.4613368325808267, -0.8265977169233878, -0.09106518560369636, -0.5749333461651531, -0.9719865907620573, -0.38406313584096097, -0.22718673341182694, -0.5103890928835142, 0.4437802385842531, -0.9728191141077502, -0.8244147152806889, -0.14725846838477707, 0.7473369238975209, 0.952388074971509, -0.6579927572642816, 0.11315844538430042, 0.6261780051497112, -0.340640899266063, 0.9678404754887993, 0.5295200073302055, 0.9461074429041503, -0.38211892452149954, 0.8692141027637064, 0.5511121797834022, -0.2723237269927097, -0.33048179989304316, -0.285714838861324, 0.5746453586830427, -0.5249221223983511, 0.5357372782061702, 0.8984390383049998, 0.7902661754226585, 0.9056282067206212, -0.3756173989751801, 0.23703272767900785, 0.4067581422286821, 0.7819256540380763, 0.42995233780703757, -0.17895294651899007, 0.6339007021175576, -0.9540653228008011, 0.05815004319873651, 0.5628396534972069, -0.3713212049178054, 0.1041643031817614, -0.8603902281340794, 0.11466045931450708, -0.7034795333785837, 0.3323482834098286, 0.9669139455888001, -0.9009440511324556, 0.6525879182854624, 0.5695115292974435, -0.24237899622778514, 0.3508886751373552, 0.5294759166608571, -0.8615410184360854, 0.5192839353736076, -0.31128195048360396, 0.16870932382681758, 0.38263940943014063, -0.6580519948074084, 0.8858877923221087, -0.6506419322491581, -0.699168434544454, -0.31896018977900553, -0.1411524677768483, 0.8024316603837747, 0.3334463292205214, 0.6461259690110097, 0.1787249710673109, 0.12689253518036026, 0.7929296448019443, 0.5516141209352838, -0.5116149327500068, -0.7069323019553764, -0.02248153670973352, -0.6816390950491353, 0.4875576479656445, 0.24095609959182696, 0.5804597258990043, 0.4626944031883937, 0.9366185747903302, -0.35414654259759004, 0.6142740937585103, 0.4060659870689278, -0.8884859524448814, 0.2911968052483189, -0.5979646259463465, 0.2411951640124812, -0.4623310259905935, -0.22089329088146314, -0.2780969895709262, -0.9893310351292826, -0.6700676925403997, 0.35815755091206825, -0.8770883974831207, 0.7083668408562573, -0.475384463674942, -0.24295070710250855, 0.8814084300567089, 0.07380956433077301, 0.6840750412160901, -0.7451777518273275, 0.07673315332255015, 0.49352934287946937, 0.7192449117813453, -0.10592088924676091, -0.8744922383386893, 0.3398494211720049, -0.7793415807782225, -0.5931188757216006, 0.7314069133328189, -0.34635845670155163, -0.2650953612699425, 0.35379632637381064, 0.4190036192656237, 0.10739342532203011, -0.7430911106762039, -0.9027075302910674, 0.8556881457870702, 0.43213967388985, 0.397199170865008, 0.9607623858470902, -0.9988496127325561, -0.17248227479164768, -0.8836565600342396, -0.3256235580682869, 0.778195294683286, 0.9961961931515759, 0.3045448515837563, -0.2889151213863883, -0.39839186248451597, 0.0185612049110091, -0.40008240450528376, 0.3888271795306366, -0.22351439885255786, 0.40173769992468067, -0.5229597528780516, 0.23544537988399838, -0.43913149421172193, -0.4694008226117319, -0.3608647965401417, -0.15600112443613057, 0.7124017109123884, 0.3039941767894163, 0.2641394556387695, 0.32422267267619986, 0.6027117300148745, 0.4168992544030914, 0.6292356051772003, -0.8893234559465952, -0.6105123441841656, -0.6671297171656292, 0.8560900217528626, 0.873724651895003, 0.7646188868693002, 0.3075232898448377, -0.058091908227709155, -0.5185769923859525, -0.5735472286977767, 0.8056853819342109, -0.7966380229210799, -0.37941237350231916, -0.8278941450059563, 0.8916083748890742, 0.29004262714644824, 0.5727479206562975, 0.9703165686300395, -0.02508496483799405, 0.8552040966094978, 0.5528650590962911, 0.2058122986597084, 0.7401913720142659, -0.8988433509494769, -0.25526513041475596, 0.05997255684007996, 0.9294051209495535, 0.5519572852969645, 0.47695081748759094, 0.15762188949399558, -0.5327001276974386, -0.8370594821231379, 0.3718434863862967, 0.14074904786133402, 0.0993712290376152, 0.26609834831506873, -0.9612367594668996, -0.954214432593659, -0.34377661583533836, 0.6872573784544898, 0.03547327660541555, 0.8168138764883679, 0.9333931598309846, -0.7586180239636278, 0.5180753450705708, 0.21682537345338915, -0.579714214142129, -0.4873148884052938, -0.3431189828701946, 0.9545920721695609, 0.8910344058039641, 0.9837449318044378, -0.9548579929769119, -0.3404154398176331, 0.19801446877264084, 0.9831072448523059, 0.6220937688951835, -0.3637665063884583, -0.6405048979496684, 0.9581940196795387, -0.9945085799551237, -0.6278151002465933, -0.8441331963204277, 0.14078921752016527, 0.6336790196907032, 0.42267275108966373, 0.9248195582492542, 0.3910491451334508, -0.42985364032213624, -0.7361231019247327, 0.5239870853307877, 0.7560997931783078, -0.678858024873378, -0.9076403693363062, -0.2913073655866043, 0.427327066334243, -0.7029746098294538, -0.7925136705241727, -0.7050375703070131, 0.9954571165303179, 0.7744239898150198, 0.2635823723107933, -0.46203776427941534, -0.3084397337722322, 0.22665946559621375, -0.4558631015860044, -0.30635452374288263, 0.6122593941374248, 0.9865826275583913, -0.4267955066345621, 0.24272329401219395, -0.6396422510923259, 0.7335146673041493, -0.6663939685446252, -0.18214056210297258, -0.38681219042834414, -0.6025043254548734, -0.20788120462572124, 0.20676109776249518, 0.8658599298910588, -0.29653338261199735, -0.6900815332738688, -0.5864438058077539, 0.4542710289986758, 0.8032956914891258, 0.7951745411376407, -0.15718009346782225, 0.20449614185261566, -0.10127895788661334, -0.5064636461136942, -0.6401779893316899, -0.13317609423475574, -0.4570035794894096, -0.7878766420225531, 0.9695196975387717, -0.7195049240421909, -0.09100013240736615, -0.7243497155485912, 0.16883351005816394, 0.8709861045836362, 0.8598411233643617, 0.8289018528578538, 0.22173187752488843, 0.4595618310537759, 0.7819947589324556, 0.6655294105781024, -0.29884157433579617, 0.2273252479389214, -0.9813585241332419, -0.5053348079647151, -0.4633374688472358, 0.3235618787435044, -0.6857699098971182, -0.9557938166322728, 0.6292658955186994, -0.6303042603794324, -0.19720351180309592, 0.2401716586128657, 0.8630814434073386, -0.08111839868939796, 0.8799829422896437, 0.11945443604571437, 0.7326489880970826, 0.08838919185686223, 0.5794622846376001, 0.4953259605317726, 0.6414224009135125, 0.15475050002527269, 0.14641786931485967, -0.4370844897367334, 0.7392907415329546, -0.4735726957544131, 0.12767340855921816, 0.706652332937324, 0.45600710160937297, 0.6522816247323249, -0.060274106810510375]\n",
            "[-67, 26, -19, 38, -81, -17, 57, -85, -16, 12, -25, -6, -35, 43, 55, 23, -60, -7, -7, -53, -95, 80, 96, -26, -36, -8, 39, -80, 23, 62, -3, -96, -23, 53, -49, -41, 71, -43, 91, 50, -18, 84, -69, -28, 0, 84, -30, 34, 72, 57, -50, -87, 82, 43, -46, -76, -70, -10, 62, -99, 48, -86, 27, -53, 13, -6, 81, 62, 93, -62, -2, 33, 93, 78, 64, 82, 76, 53, 33, -27, -84, -48, 58, -90, 14, 72, 54, -19, 65, -48, -48, 35, -41, 15, 88, -66, 93, 70, -24, -24, -33, 15, 4, -92, -73, -60, -61, 95, -80, -36, -83, 43, -86, 72, -75, 73, -15, -98, 75, 71, -83, 16, -93, 77, 52, -46, -80, 67, 82, 40, -11, -20, 40, 52, -41, 60, 67, -12, -40, 70, 41, 19, 38, 48, 94, -65, 7, -43, -51, -46, 58, 99, 80, 38, -43, -65, 73, -85, -97, 59, -2, -88, 30, 82, -73, 84, -65, -64, -8, 79, 66, 59, 33, 28, -17, -19, 72, 50, 68, -6, 42, -74, 48, -59, -8, 97, 45, -29, 85, -86, -91, -18, 50, 20, 75, -36, -76, 77, 10, 21, -95, 0, 45, -96, -23, 37, -68, 29, 39, 34, 57, 14, 71, -17, -40, 64, 83, 73, -61, -55, 59, 50, 88, 63, -80, 70, 52, -77, -92, -83, -3, 36, 12, -5, 93, -71, -8, 94, 69, -80, -72, -76, -29, -73, -40, -60, 76, 47, 62, -91, -84, 7, 47, -1, -84, -84, 6, 26, -16, -53, 59, -23, 9, -34, 98, -17, -27, 42, 91, 18, -56, 42, 23, -3, -24, -49, 35, -9, -47, -69, 98, -86, -1, 85, -25, -60, -96, 95, 29, -33, 70, -78, -43, 25, -42, -40, 5, 30, 51, 32, -2, 91, 30, -68, -8, 94, 71, 31, 78, 86, 84, 4, -20, -81, -55, -48, 80, -81, -19, 52, -19, 98, -24, 55, 26, 50, 74, 8, -86, -45, 96, 24, 28, -85, 13, -45, 29, -10, 48, 33, 72, 8, -11, 31, -27, 43, -43, -73, 94, 29, 38, 11, 55, 67, 4, -80, -9, 65, -29, 52, -51, 26, 24, 63, -63, -55, 23, 16, 65, -57, 45, 19, -67, 98, 51, 63, -57, 14, 67, 16, 30, 20, -55, 29, 42, 31, 43, -98, -79, 63, 6, -30, 55, 60, 19, 30, 15, 37, -94, -62, -70, 20, 47, 54, -31, 53, 45, 28, -26, -67, 0, -85, -92, 1, -80, 52, -30, 9, 67, 42, -36, 58, 77, 88, 29, 75, -8, 37, -67, 27, -94, -37, -86, 30, -29, -19, 53, -62, 50, -94, -39, 87, 8, 73, -50, -21, 98, -1, 50, 67, 47, -38, -24, 31, -61, 34, -89, -11, 62, 78, -20, 0, -37, 47, 5, -54, -61, 28, 92, -26, 71, 34, 55, 95, 69, 85, 11, -26, 19, -94, -75, -90, 69, -93, -8, -5, 48, 0, -7, 12, 91, 96, -91, -59, 80, -88, -6, 63, 54, 58, 65, 1, -38, 18, 78, 91, -37, -31, -80, 83, -25, 3, 17, -76, 32, -96, -42, -18, -71, 31, 99, 99, 46, 47, 0, 10, 40, -93, 12, 76, 18, 47, -17, 93, 91, 0, -92, 76, -21, 67, 73, -30, 27, -80, -62, -62, 32, -99, -7, -34, -8, 97, 44, 20, 85, 4, 62, 70, -36, 24, -1, -46, -41, -13, 98, 64, -97, 79, 72, 26, -23, 72, 88, 88, 98, -71, 25, -35, 85, -13, 99, 6, 0, -74, -89, 29, -99, -34, -20, 51, 47, 95, -43, 95, 93, -37, 88, 22, -85, -60, 36, 70, 14, -45, -80, -69, -47, 63, 73, 51, 39, -60, -71, 36, -79, -66, -59, -8, -16, 79, -87, -74, 6, -5, -79, 86, -45, -29, 62, 85, -58, 21, -33, -1, -5, -64, 55, -65, 99, -23, 30, -46, -50, 77, 12, -79, -67, -92, -85, -38, 71, -18, 48, 68, -98, 40, 57, -9, 88, 55, 7, 60, 69, -66, -97, -25, 70, 9, -14, -90, 21, -78, 20, -45, -37, -66, -73, -53, 75, 79, 86, 57, 88, -50, 81, -69, 69, 71, 43, -43, 44, -58, 57, -40, -16, -31, -98, -2, -23, -65, 68, -39, -43, -30, 1, 83, -48, 75, 47, -28, 42, 75, 17, -63, 0, 14, -71, -37, -26, 16, -89, 77, 8, 95, 62, -2, 62, 89, 66, 73, -2, 41, -26, 25, 34, -3, 35, -88, 75, -95, 60, 88, -74, 92, 23, -70, 95, 93, -36, 95, -31, 74, 51, -31, 64, -89, -56, -8, -60, 49, 71, 1, 66, 62, 65, 41, -2, -5, -22, -92, 4, 5, 8, 10, 0, -66, 17, 13, -90, 24, -79, 60, -13, -47, -67, -72, -32, 70, -13, 64, -2, -13, 24, 6, 71, -85, 59, 54, 41, -64, -4, 11, -86, -33, 85, -34, -16, 93, 98, 15, -15, -17, 85, 73, 45, 47, 0, -90, -47, -21, 55, 47, 79, -57, -26, 52, -25, 47, -70, 21, -93, 29, -11, -51, -73, -9, 96, 42, 89, 89, 72, 36, 71, -90, -48, -56, 82, 49, 39, 17, -59, -47, -24, 51, -36, -75, -31, 98, 38, 24, 79, -49, 21, 97, 68, 21, -81, -13, 81, 91, 9, 82, 4, -83, -49, 54, 98, 38, 88, -95, -63, -55, 64, 23, 76, 50, -59, 20, 16, 0, -44, -68, 33, 52, 48, -21, -9, 98, 77, 56, -11, -94, 20, -33, -33, -63, 80, 29, 21, 97, 31, -3, -83, 42, 3, -57, -56, -28, 91, -71, -93, -33, 17, 1, 41, -42, -1, 72, -23, -56, 60, 79, -24, 84, -81, 52, -82, -93, -19, -20, -85, 37, 95, -54, -36, -37, 36, 51, 33, -37, 50, -58, -36, -28, -65, -71, -74, 39, -38, -47, -41, 36, 49, 23, 77, 53, 89, 23, 72, -55, 61, -55, -32, -49, 37, -72, -56, 87, -19, -40, 51, 84, -20, 84, 72, 87, 80, 42, 64, 99, 43, 1, -93, 28, -30, 39, 93, 98, 63, -74]\n",
            "[0, 1, 0, 1, 0, 0, 1, 0, 0, 1, 0, 0, 0, 1, 1, 1, 0, 0, 0, 0, 0, 1, 1, 0, 0, 0, 1, 0, 1, 1, 0, 0, 0, 1, 0, 0, 1, 0, 1, 1, 0, 1, 0, 0, 1, 1, 0, 1, 1, 1, 0, 0, 1, 1, 0, 0, 0, 0, 1, 0, 1, 0, 1, 0, 1, 0, 1, 1, 1, 0, 0, 1, 1, 1, 1, 1, 1, 1, 1, 0, 0, 0, 1, 0, 1, 1, 1, 0, 1, 0, 0, 1, 0, 1, 1, 0, 1, 1, 0, 0, 0, 1, 1, 0, 0, 0, 0, 1, 0, 0, 0, 1, 0, 1, 0, 1, 0, 0, 1, 1, 0, 1, 0, 1, 1, 0, 0, 1, 1, 1, 0, 0, 1, 1, 0, 1, 1, 0, 0, 1, 1, 1, 1, 1, 1, 0, 1, 0, 0, 0, 1, 1, 1, 1, 0, 0, 1, 0, 0, 1, 0, 0, 1, 1, 0, 1, 0, 0, 0, 1, 1, 1, 1, 1, 0, 0, 1, 1, 1, 0, 1, 0, 1, 0, 0, 1, 1, 0, 1, 0, 0, 0, 1, 1, 1, 0, 0, 1, 1, 1, 0, 0, 1, 0, 0, 1, 0, 1, 1, 1, 1, 1, 1, 0, 0, 1, 1, 1, 0, 0, 1, 1, 1, 1, 0, 1, 1, 0, 0, 0, 0, 1, 1, 0, 1, 0, 0, 1, 1, 0, 0, 0, 0, 0, 0, 0, 1, 1, 1, 0, 0, 1, 1, 0, 0, 0, 1, 1, 0, 0, 1, 0, 1, 0, 1, 0, 0, 1, 1, 1, 0, 1, 1, 0, 0, 0, 1, 0, 0, 0, 1, 0, 0, 1, 0, 0, 0, 1, 1, 0, 1, 0, 0, 1, 0, 0, 1, 1, 1, 1, 0, 1, 1, 0, 0, 1, 1, 1, 1, 1, 1, 1, 0, 0, 0, 0, 1, 0, 0, 1, 0, 1, 0, 1, 1, 1, 1, 1, 0, 0, 1, 1, 1, 0, 1, 0, 1, 0, 1, 1, 1, 1, 0, 1, 0, 1, 0, 0, 1, 1, 1, 1, 1, 1, 1, 0, 0, 1, 0, 1, 0, 1, 1, 1, 0, 0, 1, 1, 1, 0, 1, 1, 0, 1, 1, 1, 0, 1, 1, 1, 1, 1, 0, 1, 1, 1, 1, 0, 0, 1, 1, 0, 1, 1, 1, 1, 1, 1, 0, 0, 0, 1, 1, 1, 0, 1, 1, 1, 0, 0, 0, 0, 0, 1, 0, 1, 0, 1, 1, 1, 0, 1, 1, 1, 1, 1, 0, 1, 0, 1, 0, 0, 0, 1, 0, 0, 1, 0, 1, 0, 0, 1, 1, 1, 0, 0, 1, 0, 1, 1, 1, 0, 0, 1, 0, 1, 0, 0, 1, 1, 0, 1, 0, 1, 1, 0, 0, 1, 1, 0, 1, 1, 1, 1, 1, 1, 1, 0, 1, 0, 0, 0, 1, 0, 0, 0, 1, 0, 0, 1, 1, 1, 0, 0, 1, 0, 0, 1, 1, 1, 1, 1, 0, 1, 1, 1, 0, 0, 0, 1, 0, 1, 1, 0, 1, 0, 0, 0, 0, 1, 1, 1, 1, 1, 1, 1, 1, 0, 1, 1, 1, 1, 0, 1, 1, 0, 0, 1, 0, 1, 1, 0, 1, 0, 0, 0, 1, 0, 0, 0, 0, 1, 1, 1, 1, 1, 1, 1, 0, 1, 0, 0, 0, 0, 1, 1, 0, 1, 1, 1, 0, 1, 1, 1, 1, 0, 1, 0, 1, 0, 1, 1, 1, 0, 0, 1, 0, 0, 0, 1, 1, 1, 0, 1, 1, 0, 1, 1, 0, 0, 1, 1, 1, 0, 0, 0, 0, 1, 1, 1, 1, 0, 0, 1, 0, 0, 0, 0, 0, 1, 0, 0, 1, 0, 0, 1, 0, 0, 1, 1, 0, 1, 0, 0, 0, 0, 1, 0, 1, 0, 1, 0, 0, 1, 1, 0, 0, 0, 0, 0, 1, 0, 1, 1, 0, 1, 1, 0, 1, 1, 1, 1, 1, 0, 0, 0, 1, 1, 0, 0, 1, 0, 1, 0, 0, 0, 0, 0, 1, 1, 1, 1, 1, 0, 1, 0, 1, 1, 1, 0, 1, 0, 1, 0, 0, 0, 0, 0, 0, 0, 1, 0, 0, 0, 1, 1, 0, 1, 1, 0, 1, 1, 1, 0, 1, 1, 0, 0, 0, 1, 0, 1, 1, 1, 1, 0, 1, 1, 1, 1, 0, 1, 0, 1, 1, 0, 1, 0, 1, 0, 1, 1, 0, 1, 1, 0, 1, 1, 0, 1, 0, 1, 1, 0, 1, 0, 0, 0, 0, 1, 1, 1, 1, 1, 1, 1, 0, 0, 0, 0, 1, 1, 1, 1, 1, 0, 1, 1, 0, 1, 0, 1, 0, 0, 0, 0, 0, 1, 0, 1, 0, 0, 1, 1, 1, 0, 1, 1, 1, 0, 0, 1, 0, 0, 1, 0, 0, 1, 1, 1, 0, 0, 1, 1, 1, 1, 0, 0, 0, 0, 1, 1, 1, 0, 0, 1, 0, 1, 0, 1, 0, 1, 0, 0, 0, 0, 1, 1, 1, 1, 1, 1, 1, 0, 0, 0, 1, 1, 1, 1, 0, 0, 0, 1, 0, 0, 0, 1, 1, 1, 1, 0, 1, 1, 1, 1, 0, 0, 1, 1, 1, 1, 1, 0, 0, 1, 1, 1, 1, 0, 0, 0, 1, 1, 1, 1, 0, 1, 1, 0, 0, 0, 1, 1, 1, 0, 0, 1, 1, 1, 0, 0, 1, 0, 0, 0, 1, 1, 1, 1, 1, 0, 0, 1, 1, 0, 0, 0, 1, 0, 0, 0, 1, 1, 1, 0, 0, 1, 0, 0, 1, 1, 0, 1, 0, 1, 0, 0, 0, 0, 0, 1, 1, 0, 0, 0, 1, 1, 1, 0, 1, 0, 0, 0, 0, 0, 0, 1, 0, 0, 0, 1, 1, 1, 1, 1, 1, 1, 1, 0, 1, 0, 0, 0, 1, 0, 0, 1, 0, 0, 1, 1, 0, 1, 1, 1, 1, 1, 1, 1, 1, 1, 0, 1, 0, 1, 1, 1, 1, 0]\n",
            "[-1, 0, -1, 0, -1, -1, 0, -1, -1, 0, -1, -1, -1, 0, 0, 0, -1, -1, -1, -1, -1, 0, 0, -1, -1, -1, 0, -1, 0, 0, -1, -1, -1, 0, -1, -1, 0, -1, 0, 0, -1, 0, -1, -1, 0, 0, -1, 0, 0, 0, -1, -1, 0, 0, -1, -1, -1, -1, 0, -1, 0, -1, 0, -1, 0, -1, 0, 0, 0, -1, -1, 0, 0, 0, 0, 0, 0, 0, 0, -1, -1, -1, 0, -1, 0, 0, 0, -1, 0, -1, -1, 0, -1, 0, 0, -1, 0, 0, -1, -1, -1, 0, 0, -1, -1, -1, -1, 0, -1, -1, -1, 0, -1, 0, -1, 0, -1, -1, 0, 0, -1, 0, -1, 0, 0, -1, -1, 0, 0, 0, -1, -1, 0, 0, -1, 0, 0, -1, -1, 0, 0, 0, 0, 0, 0, -1, 0, -1, -1, -1, 0, 0, 0, 0, -1, -1, 0, -1, -1, 0, -1, -1, 0, 0, -1, 0, -1, -1, -1, 0, 0, 0, 0, 0, -1, -1, 0, 0, 0, -1, 0, -1, 0, -1, -1, 0, 0, -1, 0, -1, -1, -1, 0, 0, 0, -1, -1, 0, 0, 0, -1, -1, 0, -1, -1, 0, -1, 0, 0, 0, 0, 0, 0, -1, -1, 0, 0, 0, -1, -1, 0, 0, 0, 0, -1, 0, 0, -1, -1, -1, -1, 0, 0, -1, 0, -1, -1, 0, 0, -1, -1, -1, -1, -1, -1, -1, 0, 0, 0, -1, -1, 0, 0, -1, -1, -1, 0, 0, -1, -1, 0, -1, 0, -1, 0, -1, -1, 0, 0, 0, -1, 0, 0, -1, -1, -1, 0, -1, -1, -1, 0, -1, -1, 0, -1, -1, -1, 0, 0, -1, 0, -1, -1, 0, -1, -1, 0, 0, 0, 0, -1, 0, 0, -1, -1, 0, 0, 0, 0, 0, 0, 0, -1, -1, -1, -1, 0, -1, -1, 0, -1, 0, -1, 0, 0, 0, 0, 0, -1, -1, 0, 0, 0, -1, 0, -1, 0, -1, 0, 0, 0, 0, -1, 0, -1, 0, -1, -1, 0, 0, 0, 0, 0, 0, 0, -1, -1, 0, -1, 0, -1, 0, 0, 0, -1, -1, 0, 0, 0, -1, 0, 0, -1, 0, 0, 0, -1, 0, 0, 0, 0, 0, -1, 0, 0, 0, 0, -1, -1, 0, 0, -1, 0, 0, 0, 0, 0, 0, -1, -1, -1, 0, 0, 0, -1, 0, 0, 0, -1, -1, -1, -1, -1, 0, -1, 0, -1, 0, 0, 0, -1, 0, 0, 0, 0, 0, -1, 0, -1, 0, -1, -1, -1, 0, -1, -1, 0, -1, 0, -1, -1, 0, 0, 0, -1, -1, 0, -1, 0, 0, 0, -1, -1, 0, -1, 0, -1, -1, 0, 0, -1, 0, -1, 0, 0, -1, -1, 0, 0, -1, 0, 0, 0, 0, 0, 0, 0, -1, 0, -1, -1, -1, 0, -1, -1, -1, 0, -1, -1, 0, 0, 0, -1, -1, 0, -1, -1, 0, 0, 0, 0, 0, -1, 0, 0, 0, -1, -1, -1, 0, -1, 0, 0, -1, 0, -1, -1, -1, -1, 0, 0, 0, 0, 0, 0, 0, 0, -1, 0, 0, 0, 0, -1, 0, 0, -1, -1, 0, -1, 0, 0, -1, 0, -1, -1, -1, 0, -1, -1, -1, -1, 0, 0, 0, 0, 0, 0, 0, -1, 0, -1, -1, -1, -1, 0, 0, -1, 0, 0, 0, -1, 0, 0, 0, 0, -1, 0, -1, 0, -1, 0, 0, 0, -1, -1, 0, -1, -1, -1, 0, 0, 0, -1, 0, 0, -1, 0, 0, -1, -1, 0, 0, 0, -1, -1, -1, -1, 0, 0, 0, 0, -1, -1, 0, -1, -1, -1, -1, -1, 0, -1, -1, 0, -1, -1, 0, -1, -1, 0, 0, -1, 0, -1, -1, -1, -1, 0, -1, 0, -1, 0, -1, -1, 0, 0, -1, -1, -1, -1, -1, 0, -1, 0, 0, -1, 0, 0, -1, 0, 0, 0, 0, 0, -1, -1, -1, 0, 0, -1, -1, 0, -1, 0, -1, -1, -1, -1, -1, 0, 0, 0, 0, 0, -1, 0, -1, 0, 0, 0, -1, 0, -1, 0, -1, -1, -1, -1, -1, -1, -1, 0, -1, -1, -1, 0, 0, -1, 0, 0, -1, 0, 0, 0, -1, 0, 0, -1, -1, -1, 0, -1, 0, 0, 0, 0, -1, 0, 0, 0, 0, -1, 0, -1, 0, 0, -1, 0, -1, 0, -1, 0, 0, -1, 0, 0, -1, 0, 0, -1, 0, -1, 0, 0, -1, 0, -1, -1, -1, -1, 0, 0, 0, 0, 0, 0, 0, -1, -1, -1, -1, 0, 0, 0, 0, 0, -1, 0, 0, -1, 0, -1, 0, -1, -1, -1, -1, -1, 0, -1, 0, -1, -1, 0, 0, 0, -1, 0, 0, 0, -1, -1, 0, -1, -1, 0, -1, -1, 0, 0, 0, -1, -1, 0, 0, 0, 0, -1, -1, -1, -1, 0, 0, 0, -1, -1, 0, -1, 0, -1, 0, -1, 0, -1, -1, -1, -1, 0, 0, 0, 0, 0, 0, 0, -1, -1, -1, 0, 0, 0, 0, -1, -1, -1, 0, -1, -1, -1, 0, 0, 0, 0, -1, 0, 0, 0, 0, -1, -1, 0, 0, 0, 0, 0, -1, -1, 0, 0, 0, 0, -1, -1, -1, 0, 0, 0, 0, -1, 0, 0, -1, -1, -1, 0, 0, 0, -1, -1, 0, 0, 0, -1, -1, 0, -1, -1, -1, 0, 0, 0, 0, 0, -1, -1, 0, 0, -1, -1, -1, 0, -1, -1, -1, 0, 0, 0, -1, -1, 0, -1, -1, 0, 0, -1, 0, -1, 0, -1, -1, -1, -1, -1, 0, 0, -1, -1, -1, 0, 0, 0, -1, 0, -1, -1, -1, -1, -1, -1, 0, -1, -1, -1, 0, 0, 0, 0, 0, 0, 0, 0, -1, 0, -1, -1, -1, 0, -1, -1, 0, -1, -1, 0, 0, -1, 0, 0, 0, 0, 0, 0, 0, 0, 0, -1, 0, -1, 0, 0, 0, 0, -1]\n",
            "[67.0, -26.0, 19.0, -38.0, -81.0, 17.0, -57.0, -85.0, 16.0, -12.0, -25.0, -6.0, 35.0, 43.0, 55.0, -23.0, -60.0, -7.0, -7.0, -53.0, 95.0, 80.0, -96.0, -26.0, -36.0, 8.0, -39.0, 80.0, 23.0, -62.0, -3.0, -96.0, 23.0, -53.0, -49.0, 41.0, -71.0, 43.0, 91.0, -50.0, 18.0, -84.0, -69.0, 28.0, 0.0, -84.0, 30.0, 34.0, 72.0, -57.0, -50.0, 87.0, 82.0, -43.0, -46.0, -76.0, -70.0, 10.0, -62.0, 99.0, -48.0, 86.0, -27.0, 53.0, -13.0, 6.0, 81.0, 62.0, -93.0, -62.0, 2.0, 33.0, 93.0, 78.0, 64.0, 82.0, 76.0, 53.0, -33.0, -27.0, -84.0, 48.0, -58.0, 90.0, 14.0, 72.0, -54.0, 19.0, -65.0, -48.0, 48.0, -35.0, 41.0, 15.0, -88.0, 66.0, 93.0, -70.0, -24.0, -24.0, 33.0, 15.0, -4.0, -92.0, -73.0, -60.0, 61.0, -95.0, -80.0, -36.0, 83.0, -43.0, 86.0, -72.0, 75.0, -73.0, -15.0, 98.0, 75.0, -71.0, 83.0, -16.0, 93.0, 77.0, -52.0, -46.0, 80.0, 67.0, 82.0, -40.0, -11.0, 20.0, 40.0, -52.0, 41.0, 60.0, -67.0, -12.0, 40.0, 70.0, 41.0, 19.0, 38.0, 48.0, -94.0, 65.0, -7.0, -43.0, -51.0, 46.0, 58.0, 99.0, 80.0, -38.0, -43.0, 65.0, -73.0, -85.0, 97.0, -59.0, -2.0, 88.0, 30.0, -82.0, 73.0, -84.0, -65.0, -64.0, 8.0, 79.0, 66.0, 59.0, 33.0, -28.0, -17.0, 19.0, 72.0, 50.0, -68.0, 6.0, -42.0, 74.0, -48.0, -59.0, 8.0, 97.0, -45.0, 29.0, -85.0, -86.0, -91.0, 18.0, 50.0, 20.0, -75.0, -36.0, 76.0, 77.0, 10.0, -21.0, -95.0, 0.0, -45.0, -96.0, 23.0, -37.0, 68.0, 29.0, 39.0, 34.0, 57.0, 14.0, -71.0, -17.0, 40.0, 64.0, 83.0, -73.0, -61.0, 55.0, 59.0, 50.0, 88.0, -63.0, 80.0, 70.0, -52.0, -77.0, -92.0, -83.0, 3.0, 36.0, -12.0, 5.0, -93.0, -71.0, 8.0, 94.0, -69.0, -80.0, -72.0, -76.0, -29.0, -73.0, -40.0, 60.0, 76.0, 47.0, -62.0, -91.0, 84.0, 7.0, -47.0, -1.0, -84.0, 84.0, 6.0, -26.0, -16.0, 53.0, -59.0, 23.0, -9.0, 34.0, -98.0, -17.0, 27.0, 42.0, 91.0, -18.0, 56.0, 42.0, -23.0, -3.0, -24.0, 49.0, -35.0, -9.0, -47.0, 69.0, -98.0, -86.0, 1.0, -85.0, -25.0, -60.0, 96.0, 95.0, -29.0, 33.0, -70.0, -78.0, 43.0, -25.0, -42.0, 40.0, 5.0, 30.0, 51.0, -32.0, 2.0, 91.0, -30.0, -68.0, 8.0, 94.0, 71.0, 31.0, 78.0, 86.0, 84.0, -4.0, -20.0, -81.0, -55.0, 48.0, -80.0, -81.0, 19.0, -52.0, 19.0, -98.0, 24.0, 55.0, 26.0, 50.0, 74.0, -8.0, -86.0, 45.0, 96.0, 24.0, -28.0, 85.0, -13.0, 45.0, -29.0, 10.0, 48.0, 33.0, 72.0, -8.0, 11.0, -31.0, 27.0, -43.0, -43.0, 73.0, 94.0, 29.0, 38.0, 11.0, 55.0, 67.0, -4.0, -80.0, 9.0, -65.0, 29.0, -52.0, 51.0, 26.0, 24.0, -63.0, -63.0, 55.0, 23.0, 16.0, -65.0, 57.0, 45.0, -19.0, 67.0, 98.0, 51.0, -63.0, 57.0, 14.0, 67.0, 16.0, 30.0, -20.0, 55.0, 29.0, 42.0, 31.0, -43.0, -98.0, 79.0, 63.0, -6.0, 30.0, 55.0, 60.0, 19.0, 30.0, 15.0, -37.0, -94.0, -62.0, 70.0, 20.0, 47.0, -54.0, 31.0, 53.0, 45.0, -28.0, -26.0, -67.0, -0.0, -85.0, 92.0, -1.0, 80.0, -52.0, 30.0, 9.0, 67.0, -42.0, 36.0, 58.0, 77.0, 88.0, 29.0, -75.0, 8.0, -37.0, 67.0, -27.0, -94.0, -37.0, 86.0, -30.0, -29.0, 19.0, -53.0, 62.0, -50.0, -94.0, 39.0, 87.0, 8.0, -73.0, -50.0, 21.0, -98.0, 1.0, 50.0, 67.0, -47.0, -38.0, 24.0, -31.0, 61.0, -34.0, -89.0, 11.0, 62.0, -78.0, 20.0, -0.0, 37.0, 47.0, -5.0, -54.0, 61.0, 28.0, -92.0, 26.0, 71.0, 34.0, 55.0, 95.0, 69.0, 85.0, -11.0, 26.0, -19.0, -94.0, -75.0, 90.0, -69.0, -93.0, -8.0, 5.0, -48.0, -0.0, 7.0, 12.0, 91.0, -96.0, -91.0, 59.0, -80.0, -88.0, 6.0, 63.0, 54.0, 58.0, 65.0, -1.0, 38.0, 18.0, 78.0, -91.0, -37.0, -31.0, 80.0, -83.0, 25.0, 3.0, -17.0, 76.0, -32.0, -96.0, -42.0, -18.0, 71.0, 31.0, 99.0, 99.0, 46.0, 47.0, 0.0, 10.0, -40.0, 93.0, 12.0, 76.0, 18.0, -47.0, 17.0, 93.0, -91.0, -0.0, 92.0, -76.0, 21.0, 67.0, -73.0, 30.0, -27.0, -80.0, -62.0, 62.0, -32.0, -99.0, -7.0, -34.0, 8.0, 97.0, 44.0, 20.0, 85.0, 4.0, 62.0, -70.0, 36.0, -24.0, -1.0, -46.0, -41.0, 13.0, 98.0, -64.0, 97.0, 79.0, 72.0, -26.0, 23.0, 72.0, 88.0, 88.0, -98.0, 71.0, -25.0, 35.0, -85.0, 13.0, 99.0, 6.0, -0.0, -74.0, 89.0, -29.0, -99.0, -34.0, 20.0, 51.0, 47.0, -95.0, 43.0, 95.0, -93.0, 37.0, 88.0, -22.0, -85.0, 60.0, 36.0, 70.0, -14.0, -45.0, -80.0, -69.0, 47.0, 63.0, 73.0, 51.0, -39.0, -60.0, 71.0, -36.0, -79.0, -66.0, -59.0, -8.0, 16.0, -79.0, -87.0, 74.0, -6.0, -5.0, 79.0, -86.0, -45.0, 29.0, 62.0, -85.0, 58.0, -21.0, -33.0, -1.0, -5.0, 64.0, -55.0, 65.0, -99.0, 23.0, -30.0, -46.0, 50.0, 77.0, -12.0, -79.0, -67.0, -92.0, -85.0, 38.0, -71.0, 18.0, 48.0, -68.0, 98.0, 40.0, -57.0, 9.0, 88.0, 55.0, 7.0, 60.0, -69.0, -66.0, -97.0, 25.0, 70.0, -9.0, -14.0, 90.0, -21.0, 78.0, -20.0, -45.0, -37.0, -66.0, -73.0, 53.0, 75.0, 79.0, 86.0, 57.0, -88.0, 50.0, -81.0, 69.0, 69.0, 71.0, -43.0, 43.0, -44.0, 58.0, -57.0, -40.0, -16.0, -31.0, -98.0, -2.0, -23.0, 65.0, -68.0, -39.0, -43.0, 30.0, 1.0, -83.0, 48.0, 75.0, -47.0, 28.0, 42.0, 75.0, -17.0, 63.0, 0.0, -14.0, -71.0, -37.0, 26.0, -16.0, 89.0, 77.0, 8.0, 95.0, -62.0, 2.0, 62.0, 89.0, 66.0, -73.0, 2.0, -41.0, 26.0, 25.0, -34.0, 3.0, -35.0, 88.0, -75.0, 95.0, 60.0, -88.0, 74.0, 92.0, -23.0, 70.0, 95.0, -93.0, 36.0, -95.0, 31.0, 74.0, -51.0, 31.0, -64.0, -89.0, -56.0, -8.0, 60.0, 49.0, 71.0, 1.0, 66.0, 62.0, 65.0, -41.0, -2.0, -5.0, -22.0, 92.0, 4.0, 5.0, 8.0, 10.0, -0.0, 66.0, 17.0, -13.0, 90.0, -24.0, 79.0, -60.0, -13.0, -47.0, -67.0, -72.0, 32.0, -70.0, 13.0, -64.0, -2.0, 13.0, 24.0, 6.0, -71.0, 85.0, 59.0, 54.0, -41.0, -64.0, 4.0, -11.0, -86.0, 33.0, -85.0, -34.0, 16.0, 93.0, 98.0, -15.0, -15.0, 17.0, 85.0, 73.0, 45.0, -47.0, -0.0, -90.0, -47.0, 21.0, 55.0, 47.0, -79.0, -57.0, 26.0, -52.0, 25.0, -47.0, 70.0, -21.0, 93.0, -29.0, -11.0, -51.0, -73.0, 9.0, 96.0, 42.0, 89.0, 89.0, 72.0, 36.0, -71.0, -90.0, -48.0, 56.0, 82.0, 49.0, 39.0, -17.0, -59.0, -47.0, 24.0, -51.0, -36.0, -75.0, 31.0, 98.0, 38.0, 24.0, -79.0, 49.0, 21.0, 97.0, 68.0, -21.0, -81.0, 13.0, 81.0, 91.0, 9.0, 82.0, -4.0, -83.0, 49.0, 54.0, 98.0, 38.0, -88.0, -95.0, -63.0, 55.0, 64.0, 23.0, 76.0, -50.0, 59.0, 20.0, -16.0, -0.0, -44.0, 68.0, 33.0, 52.0, -48.0, -21.0, 9.0, 98.0, 77.0, -56.0, -11.0, 94.0, -20.0, -33.0, -33.0, 63.0, 80.0, 29.0, 21.0, 97.0, -31.0, -3.0, 83.0, 42.0, -3.0, -57.0, -56.0, 28.0, -91.0, -71.0, -93.0, 33.0, 17.0, 1.0, -41.0, -42.0, 1.0, -72.0, -23.0, 56.0, 60.0, -79.0, 24.0, -84.0, 81.0, -52.0, -82.0, -93.0, -19.0, -20.0, 85.0, 37.0, -95.0, -54.0, -36.0, 37.0, 36.0, 51.0, -33.0, 37.0, -50.0, -58.0, -36.0, -28.0, -65.0, -71.0, 74.0, -39.0, -38.0, -47.0, 41.0, 36.0, 49.0, 23.0, 77.0, 53.0, 89.0, 23.0, -72.0, 55.0, -61.0, -55.0, -32.0, 49.0, -37.0, -72.0, 56.0, -87.0, -19.0, 40.0, 51.0, -84.0, 20.0, 84.0, 72.0, 87.0, 80.0, 42.0, 64.0, 99.0, 43.0, -1.0, 93.0, -28.0, 30.0, 39.0, 93.0, 98.0, -63.0, 74.0]\n",
            "[1, 1, 19, 1, 1, 1, 1, 1, 4, 1, 1, 1, 1, 1, 1, 1, 1, 7, 1, 1, 5, 16, 2, 2, 4, 1, 1, 1, 1, 1, 3, 1, 1, 1, 1, 1, 1, 1, 1, 2, 6, 3, 1, 84, 6, 2, 2, 3, 1, 1, 1, 1, 1, 2, 2, 10, 2, 1, 3, 2, 1, 1, 1, 1, 3, 1, 31, 31, 2, 1, 3, 3, 2, 2, 2, 1, 1, 3, 3, 12, 2, 2, 2, 2, 18, 1, 1, 1, 48, 1, 1, 1, 1, 22, 3, 1, 2, 24, 3, 3, 1, 4, 1, 1, 1, 1, 5, 4, 1, 1, 43, 2, 3, 1, 1, 1, 1, 1, 1, 1, 1, 1, 1, 2, 2, 1, 1, 2, 1, 1, 20, 4, 1, 1, 1, 1, 4, 10, 1, 1, 19, 2, 2, 1, 1, 1, 1, 1, 2, 1, 1, 2, 1, 1, 1, 1, 1, 1, 1, 2, 2, 2, 1, 1, 1, 1, 8, 1, 1, 1, 1, 1, 1, 1, 1, 2, 2, 2, 6, 2, 2, 1, 1, 1, 1, 1, 1, 1, 1, 1, 2, 10, 5, 3, 4, 1, 1, 1, 1, 45, 3, 1, 1, 1, 1, 1, 1, 1, 1, 1, 1, 1, 8, 1, 1, 1, 1, 1, 1, 2, 1, 1, 10, 2, 1, 1, 1, 1, 3, 12, 1, 1, 1, 1, 2, 1, 1, 8, 4, 1, 1, 1, 20, 4, 1, 1, 1, 7, 7, 1, 1, 1, 84, 6, 2, 2, 1, 1, 1, 1, 1, 2, 1, 1, 3, 7, 1, 2, 14, 1, 1, 3, 1, 7, 1, 1, 1, 1, 2, 1, 1, 5, 5, 12, 1, 1, 1, 1, 2, 1, 1, 1, 2, 5, 5, 3, 1, 2, 1, 1, 2, 4, 2, 1, 1, 1, 2, 2, 4, 4, 1, 1, 1, 16, 1, 1, 1, 1, 1, 2, 1, 1, 2, 2, 2, 2, 1, 3, 24, 4, 1, 1, 1, 1, 1, 2, 3, 3, 8, 1, 1, 1, 1, 43, 1, 1, 1, 1, 1, 11, 1, 1, 4, 1, 1, 1, 1, 1, 1, 2, 3, 63, 1, 1, 1, 1, 1, 3, 1, 1, 1, 1, 3, 3, 1, 1, 1, 2, 10, 5, 1, 1, 1, 1, 1, 1, 1, 3, 6, 5, 5, 1, 1, 15, 1, 1, 2, 2, 10, 1, 1, 1, 1, 1, 1, 2, 1, 85, 1, 1, 1, 4, 2, 3, 1, 1, 6, 2, 1, 11, 1, 1, 1, 1, 1, 1, 1, 1, 1, 2, 1, 1, 1, 1, 2, 2, 1, 3, 1, 1, 1, 1, 7, 1, 1, 1, 1, 1, 2, 1, 1, 1, 1, 1, 1, 2, 2, 37, 1, 1, 1, 1, 1, 4, 2, 1, 1, 1, 5, 1, 1, 1, 1, 1, 1, 1, 15, 3, 3, 1, 1, 1, 7, 1, 1, 1, 1, 1, 1, 8, 2, 3, 9, 2, 1, 1, 1, 2, 6, 13, 1, 1, 1, 1, 1, 1, 1, 1, 4, 32, 6, 6, 1, 1, 1, 99, 1, 1, 10, 10, 1, 3, 4, 2, 1, 1, 1, 1, 92, 4, 1, 1, 1, 1, 3, 1, 2, 62, 2, 1, 1, 1, 2, 1, 1, 4, 5, 1, 2, 2, 2, 12, 1, 1, 1, 1, 1, 2, 1, 1, 1, 2, 1, 1, 8, 88, 2, 1, 1, 5, 5, 1, 1, 3, 74, 1, 1, 1, 1, 2, 1, 1, 1, 1, 1, 1, 1, 1, 22, 1, 5, 12, 2, 14, 1, 5, 1, 1, 1, 1, 1, 3, 3, 1, 1, 1, 1, 1, 1, 8, 1, 1, 1, 2, 1, 1, 1, 1, 1, 1, 1, 1, 1, 3, 1, 1, 1, 1, 5, 1, 1, 1, 2, 2, 1, 1, 1, 1, 1, 1, 1, 1, 1, 6, 4, 2, 2, 1, 3, 1, 11, 1, 1, 3, 3, 1, 1, 5, 1, 1, 2, 3, 3, 2, 5, 1, 1, 1, 1, 1, 1, 1, 1, 1, 2, 1, 3, 69, 1, 1, 43, 1, 2, 1, 1, 8, 1, 1, 2, 1, 1, 1, 1, 1, 1, 1, 1, 1, 3, 1, 1, 14, 3, 1, 1, 14, 1, 1, 1, 2, 1, 1, 1, 1, 1, 2, 2, 1, 1, 1, 1, 1, 1, 1, 1, 1, 1, 1, 1, 5, 5, 4, 2, 2, 23, 1, 5, 1, 3, 1, 1, 1, 1, 1, 1, 1, 1, 8, 4, 1, 1, 1, 1, 2, 1, 1, 1, 1, 1, 2, 4, 1, 1, 2, 66, 1, 1, 1, 6, 1, 1, 1, 1, 1, 1, 8, 2, 1, 1, 2, 1, 1, 6, 1, 1, 1, 1, 1, 1, 4, 1, 1, 1, 1, 17, 2, 1, 1, 1, 15, 1, 17, 1, 1, 1, 90, 1, 1, 1, 1, 1, 1, 1, 26, 1, 1, 1, 7, 3, 1, 1, 1, 1, 1, 3, 6, 1, 89, 1, 36, 1, 1, 6, 8, 2, 1, 1, 1, 1, 1, 1, 3, 3, 3, 1, 1, 2, 2, 1, 1, 7, 1, 1, 1, 3, 1, 1, 1, 1, 1, 2, 1, 1, 1, 2, 2, 2, 1, 1, 1, 1, 1, 1, 2, 1, 1, 4, 44, 4, 1, 1, 4, 3, 3, 1, 7, 7, 1, 1, 2, 1, 33, 3, 1, 1, 1, 1, 1, 1, 1, 1, 3, 3, 1, 28, 7, 1, 1, 3, 1, 1, 1, 1, 1, 1, 1, 1, 4, 1, 1, 12, 3, 1, 2, 1, 1, 1, 5, 1, 1, 1, 18, 1, 1, 3, 3, 1, 1, 2, 2, 4, 1, 1, 1, 1, 1, 1, 1, 1, 1, 1, 1, 1, 1, 1, 1, 1, 1, 1, 1, 1, 1, 1, 8, 1, 1, 1, 1, 3, 4, 4, 12, 3, 1, 2, 2, 1, 1, 1, 1, 1, 2, 3, 3, 1, 7, 1]\n",
            "[-14.07948234866943, 6.8929870658016625, -19.620676005100464, 38.69629506378112, -11.212867484829502, -17.447409756483594, 57.940556405092536, -3.5434466571630594, -4.061845485405044, 12.393183907798289, -4.263079045603831, -6.9299008397118484, -35.32855191978361, 43.60238008248942, 9.540892964476058, 23.149208560119334, -2.789879465425777, -0.09094211110871697, -7.1712047632788085, -53.072330611210305, -14.138661805834232, 80.9653269824137, 15.377716937430762, -26.89412587711712, -3.3395968036535777, -8.247266878552637, 39.708324234699376, -11.42083091954592, 23.097755237188238, 2.744339664890333, -3.9766334931073004, -1.9207061149231919, -23.555639042576075, 3.6835819664340477, -8.301986691778438, -41.166704758700945, 27.558971086672216, -43.85801634683182, 41.223994531051915, 13.203182436043136, -18.449175451539062, 14.575452203573235, -13.65296800907663, -0.43851351647627723, 0.6569116867404716, 22.92427513902868, -30.740583624689762, 34.433194796049804, 15.221312069099469, 6.670079182368404, -50.543657630502814, -4.719587115459603, 39.48282120979911, 43.297171929527735, -46.65201313095795, -6.308438532490399, -8.769488197583868, -10.310946418317599, 62.68916313923242, -2.7102573665606116, 48.583595466440585, -3.408819504961059, 27.537359768738895, -12.793638818414095, 0.2582643916040439, -6.607693098520656, 19.076023240390526, 62.78820358945276, 31.4056856086195, -0.7412461578542846, -2.0532845858987088, 33.96732671092815, 15.74666612457105, 13.649625607699932, 64.37039295230903, 5.998051911984533, 22.45117281175891, 19.862699184119947, 6.397628517364865, -27.584788667571814, -36.49578808217298, -48.29705208580215, 58.645325274227105, -0.19785686426160964, 14.972288877425484, 17.822010810501183, 15.498539803952156, -19.574291712734748, 17.592774825288593, -0.022049256776334403, -12.680243539783703, 35.53182114332631, -10.088183501519872, 15.794979836633317, 21.816532945029323, -66.25674850804369, 22.58740549624426, 22.367625175744877, -0.12310857531196007, -24.04126815257284, -2.464892280989119, 2.003707781426968, 4.433690929316512, -19.40585749928023, -13.230054754079418, -60.21272389011831, -61.85144090252421, 14.899441463943361, -6.89828905691266, -36.77952189600191, -40.489165002963674, 43.0743136809796, -13.649767358578075, 72.5787712362775, -1.3885127118776666, 12.085070839034131, -15.471908000107959, -22.852213013442793, 3.2523844139248297, 71.89918667788356, -0.867844361387526, 16.45506177259348, -15.472449964130078, 25.246470347237192, 6.249016742802418, -46.36648672307526, -12.149847780209114, 67.99905970549347, 0.9992657654516108, 6.2104250897789655, -11.568617080776988, -20.91743364238492, 40.74324900610418, 11.177625937230353, -41.26330013742869, 60.950042392988564, 4.896545470535429, -12.437835714132305, -40.651643607147946, 29.292688386211267, 2.2293698801336177, 19.563673774764695, 38.4932214548389, 48.29695038524375, 29.223895516628858, -1.7870438231759636, 7.9469499329599955, -43.51985748345923, -5.70494989840671, -46.216661212197806, 58.32812344513417, 18.64645144101192, 4.2177657340793075, 38.32140607122386, -43.51465304111892, -65.95832504941967, 73.08013566784518, -85.43255290073533, -37.57572443943354, 1.3666615820170023, -2.765589775108907, -27.123883341442863, 30.785703676764598, 9.447624216700945, -73.01915375495275, 18.994704780939358, -1.0229623845660996, -7.84985275559211, -8.052625966783637, 13.593265160134962, 7.27484269582925, 25.46610651822982, 5.0418960305295, 11.116496114312824, -17.418176947726764, -19.994158558867213, 22.314468745320283, 50.485600227574025, 1.0830587048235714, -6.7299250845733525, 42.429884331821995, -26.298106964722777, 48.25831053427251, -1.8437786560113665, -8.242710398618186, 7.000115953344107, 15.585984234222678, -29.497544224468328, 85.3552524349503, -86.73595458408367, -17.931571444727737, -18.38660152905763, 8.35983551400858, 20.96565868561457, 3.578023095698242, -36.06442284684268, -76.16409592972462, 3.9735304250899333, 10.435242765245903, 21.27941667826589, -0.2419536830404212, -0.3848263561116596, 45.75011583492815, -0.6648836343743625, -23.971054684922848, 37.334731201016524, -9.775401208741897, 29.353046848078122, 4.980539143388825, 34.48603967343388, 0.9575591549640592, 14.25789387801504, 17.682187332784082, -17.847696251488316, -40.30731703572714, 64.19739695433702, 9.47769728701931, 12.304780645785137, -5.754238618788584, -55.56758557025563, 9.333347544899794, 50.60089596530861, 24.78534839531173, 63.52358516976108, -10.207371683909727, 17.8654935699102, 52.778325064828806, -77.6781712136584, -9.197511904200624, -1.7788033177616427, -3.5395358189930164, 10.89518068712502, 2.4858325918109045, -5.208979083755466, 22.06747832225389, -5.165225228783385, -8.239310639020175, 25.246279142735744, 69.70691467156857, -7.515131521210009, -72.58934169134449, -17.88374961151594, -29.3339953515313, -32.171164350644034, -40.83113238265821, -60.65644183144443, 29.770932545660884, 47.20580088864003, 62.21401356429911, -7.3749364408916875, -3.2487424259639255, 7.343338577587332, 1.3398226318925879, -1.5331493269245442, -0.6252411202836186, -4.257145882378637, 6.647604628367219, 9.826826086854965, -16.30885705603751, -53.649774068637626, 13.086965893936252, -4.768028014952165, 9.283240882749851, -34.712574317739936, 9.789826669550322, -17.78024161088068, -27.86184390531625, 42.77391698151189, 16.008254073576154, 18.987863219938234, -14.101787475665155, 19.044111150526987, 0.8649916827698405, -3.208959082872582, -24.650823992752095, -14.444797955335318, 8.152916894719198, -9.133679267945524, -47.573817061710685, -69.92539804382204, 11.81042123248831, -0.13601216134681238, -1.4359874322900055, 9.487622647393906, -25.251432855226838, -60.86388645138534, -1.5244362421937012, 6.094044933063543, 29.717011573459416, -33.64019879200488, 70.99045832655165, -34.47869737299617, -18.727142387628383, 25.176184105749755, -1.9875156378889045, -4.2842887979727635, 5.173419279193496, 30.397168000591563, 19.179098823824546, 1.1192686366446054, -2.3789342872504022, 30.60429296307268, 30.611289540547403, -2.631372951399584, -8.189669856178597, 23.214327488085587, 8.327703520131053, 31.39412862701346, 78.2686556460337, 2.669976140858978, 1.790414589173949, 4.836008790071688, -20.550057164643263, -26.292267863746183, -7.201948141614636, -48.111082935505344, 80.73455734479023, -3.9258691905528735, -19.30083372775171, 12.23689551449479, -19.913191962364678, 0.08356074087330967, -24.505308041170395, 2.3703597267119676, 26.430016823343834, 50.94775054638146, 2.1795607828893537, 8.026909505790172, -41.00302825557464, -45.29962161337584, 22.44683222771539, 24.686750616913884, 28.128777152977904, -2.4591051849286885, 13.90803858858564, -15.932002283634546, 7.792786863582876, -10.9081383469412, 14.892398695155435, 33.393277408221536, 2.4513204862005864, 8.715781330355355, -11.545070420846187, 4.295304792831814, -27.685022687512458, 43.5321832397417, -43.82807404818332, -73.66297522899126, 6.0213876830328275, 29.636443951160203, 5.225327179706284, 11.225113102679217, 55.05626362812308, 4.001262915236964, 4.2024653342308795, -5.304176296078069, -9.436010691102226, 6.371557846509376, -29.685196321597203, 0.5763922078627104, -25.085227246827415, 1.9735134098420275, 24.371140588650263, 63.105741870882355, -8.279469591317465, -8.516547147375682, 7.004525228141276, 16.248883537217523, 7.866539180106237, -11.713754262458302, 7.854205839759061, 19.03196094426292, -67.82459967186293, 46.56112226545511, 51.823562511529474, 6.505857219787636, -13.979721464993936, 14.441219170881013, 2.9046682626837423, 16.030098847260717, 10.03563876968498, 20.729338028568705, -25.836001329044862, 29.314605275195674, 11.424624663113917, 31.223060021897908, 43.10182646813257, -19.357884484854424, -16.04497340495071, 1.1346036557240637, 6.934323872405585, -30.85146342741494, 55.18621675247667, 0.9782483024112878, 19.85592782469496, 14.719356308088791, 15.815627571751904, 37.8635216537196, -31.84172475008966, -62.61356597127061, -7.677125428312152, 20.788344285793926, 47.65912991882786, 22.780932305096286, -31.6912074677592, 7.123450315943899, 17.46642673826642, 2.151229266097502, -26.37480124379381, -0.18666325946838924, -0.8935889640133468, -85.3393585086902, -1.3827005148061176, 1.7921258838050846, -27.9229341948854, 22.110354394009647, -1.5481031259370042, 9.69666183549107, 24.633166986764024, 5.811549381656704, -36.64834287185781, 58.80695513492742, 77.46313670933029, 29.053445390227722, 29.862539064431303, 3.7404115093007135, -8.01615137073162, 37.008815725142, -12.940573354414383, 27.189784123314055, -19.16183641511809, -37.874250233271844, -25.137034425801232, 1.146704119000276, -9.675700969659658, -19.855174718084584, 53.44465920942761, -12.04005943927232, 50.17022053262127, -16.331007153484123, -39.236860397985616, 6.7226403831101464, 8.922909917265699, 23.280490419023508, -7.787464003910188, -21.426655397883437, 0.4019236900223291, -1.3604625444161513, 50.92076066825547, 20.273851596949868, 8.79639824780078, -14.45438778030713, -24.04800336995953, 31.845545597566087, -27.359691905725057, 34.13216739935291, -9.457852641975805, -11.435634188885018, 62.712298161349025, 16.05793676887852, -0.8016037138155383, 0.8367539390982728, -37.16453953761156, 3.5181630016021757, 5.557083798287849, -54.03111535209566, -4.961900436060326, 28.157662849568368, 11.259557651201618, -26.95705712738024, 3.0901850765527, 34.183515664672086, 55.695700262333844, 25.472805510499683, 69.66197779500007, 1.6755323379245795, 11.938303995086557, -7.437314267004382, 19.512117948401112, -18.77826230693678, -75.50759867989132, -20.935059137501867, 69.71674550957843, -4.267165170043469, -2.724967595119864, -5.351095827760972, 0.18025877402467927, -0.3084496158246566, -7.968835762926659, 12.701077141017308, 91.34762126913736, 5.155958348606987, -31.435118497579232, -59.99978584704879, 80.10507295481199, -5.832236445182389, -6.890479190818979, 9.689559068573686, 54.215586148824286, 58.61377013446142, 0.341518141067354, 1.0232040245190746, -0.653781512180089, 18.755362342380437, 78.42919230592156, 17.4725023684869, -6.012578358999001, -31.0248821313821, -80.72682872441763, 7.485020285185925, -1.3611138458350212, 3.4410504073462818, 17.68425031535233, -11.490584040689043, 32.54035384523465, -10.83553297941043, -5.683900891098375, -18.636740797938216, -8.56375011491501, 31.50999092933864, 99.23368032166675, 6.670488090293446, 46.623022920133025, 0.23711726722758897, 0.42131795553534346, 10.575136519180546, 40.23644774914689, -7.053484666218495, 12.314005765216507, 1.0590083394133103, 18.861655678236673, 13.273047369164573, -17.0249209289761, 1.9065221594680395, 0.7379659619646475, -0.8549763865931794, -16.257717063418724, 11.65381236248426, -21.527838696507146, 67.00787229799354, 12.502798852071749, -2.561119800617007, 27.780021609311774, -18.16601578223728, -62.19030512901516, -30.10869337406075, 32.82938833746738, -6.672968947734617, -7.146992433505076, -8.452760740460377, -8.840719676825316, 7.868036809348013, 4.668628720061207, 20.107712133881478, 1.7474740274043228, 4.38836044784243, 62.118220846914625, 33.84821327178892, -12.164671675262653, 1.0917768123637615, -1.3122472022999432, -4.40332846358622, -0.5852869229131343, -13.74436406652913, 33.508332025487476, 64.71010970128333, -17.833674068052403, 6.844556475481255, 19.571134227806624, 3.1551018717892987, -23.380054515290368, 72.01575310646547, 88.08892423040078, 88.83290650851782, 27.344522547026543, -21.012719536402955, 25.24672531506114, -35.287962030563435, 3.128089228314792, -13.787073541010514, 5.996835978471239, 0.14885589445860603, 0.32047154478659934, -74.48621216792755, -2.095500711294065, 29.27848902313289, -30.747973688729815, -13.691156029727708, -20.520797313746982, 4.766849984603027, 47.00647697443671, 8.202518772269116, -43.714483547194604, 1.6507999417475503, 17.915631606025528, -37.92390521447662, 20.75486113416376, 22.67849262826884, -24.93586117791922, -24.11987753204717, 36.47707777953599, 13.260877931739401, 14.187906282319787, -45.293757063281426, -10.628564607518896, -21.994050049012976, -47.608456628355576, 63.63571001908613, 21.75729118444403, 12.097413279950615, 39.77805161532842, -60.341709472433, -34.827883971007125, 36.52590759767506, -13.209004212392827, -6.373539528500515, -8.520970943934486, -8.558094639367823, -16.713532555470593, 79.55268598285087, -12.686454889842011, -0.5801448999335861, 1.220388156653641, -5.488354688249558, -79.13878359026072, 41.17268478699948, -16.078180206721854, -29.26545110916223, 62.5520334757455, 27.222233893193128, -15.758720591006018, 21.433264749301188, -1.4853332952729943, -1.7622105109164465, -5.266422599826726, -8.977378652199405, 55.034361025131744, -65.8508436442888, 6.264124094313587, -23.286895852628533, 30.357980540862286, -46.79464568468043, -50.48701070542254, 0.7420500957503009, 12.742630680489924, -11.329774518156512, -67.94468287965658, -7.231821732934094, -8.660351275094357, -38.37558100691434, 15.53067387953034, -18.73696177071291, 48.31872427882979, 68.07652353455501, -17.9406028344373, 40.38996495344617, 9.625079068978039, -9.656488241761878, 32.57356137920877, 4.53578555512334, 7.3052371452414775, 60.10539295874358, 2.7955834430272546, -66.8459960688997, -21.48489911929677, -25.309825679245805, 6.471883192605745, 9.1040188544129, -14.478104560236062, -5.119323417480118, 21.4175694515299, -17.6249264685288, 20.31523428269675, -8.218533817092123, -37.6734342564186, -66.1068801388075, -20.641282108225, -53.18398870746992, 75.69884635677423, 79.82561526278798, 28.65501147751499, 57.37534299849537, 37.584894950734025, -50.43284365377485, 11.837020897064832, -0.07349605409402216, 69.29637239096314, 27.854295028299276, 43.581750676859656, -43.86609396464149, 44.84215784254434, -0.815197539260808, 16.63473911565744, -8.644467345715995, -16.091065185603696, -31.574933346165153, -1.2253980212826576, -2.384063135840961, -23.227186733411827, -65.51038909288351, 28.470961124476503, -39.97281911410775, -13.677156246895912, -0.4425307621269212, 1.747336923897521, 35.29439531770723, -48.65799275726428, 27.48698044023459, 19.285537105883648, -28.340640899266063, 42.9678404754888, 3.7450902357136044, 17.94610744290415, -0.7987035255346413, 0.8692141027637064, 14.551112179783402, -33.94184192709967, -11.04476696103172, -9.711069480178281, 16.574645358683043, -11.989184844192181, 6.348224971766172, 8.898439038305, 32.88463796870204, 1.1395758333659387, -2.37561739897518, 62.23703272767901, 22.624832488190606, 66.78192565403808, 1.524505102680365, -2.17895294651899, 14.679835379316756, -1.8959152796020646, 25.058150043198737, 0.8496276043191529, -3.3713212049178054, 35.10416430318176, -13.745729768819572, 75.1146604593145, -35.371131249968755, 60.33234828340983, 14.065969894456344, -74.90094405113246, 21.94405333039313, 23.569511529297444, -70.24237899622779, 1.821412758476498, 19.806393879788686, -36.861541018436085, 1.5854380839227957, -31.311281950483604, 22.786069914396677, 19.724587414622732, -31.65805199480741, 64.88588779232211, -32.951473497704704, -6.785407295870421, -8.318960189779006, -10.338720807393074, 49.802431660383775, 0.5500296617471037, 1.6461259690110097, 4.051832435886951, 62.12689253518036, 24.24131552386666, 1.365775196935175, -2.511614932750007, -5.706932301955376, -22.022481536709734, -2.9304861357362455, 4.4875576479656445, 5.240956099591827, 8.580459725899004, 0.15989008049476183, 0.9366185747903302, -13.51132426132206, 4.2082081066895825, 13.406065987068928, -18.014895536699925, 24.29119680524832, -19.356769461933865, 6.391871060050107, -13.462331025990594, -47.22089329088146, -67.27809698957093, -7.649195650048483, -32.6700676925404, 0.9727155634964646, -13.87708839748312, 0.34837078530776466, -2.475384463674942, -13.242950707102509, 0.5861701727336168, 6.073809564330773, 71.68407504121609, -26.668444598504777, 4.583203810443081, 12.774284431098124, 41.719244911781345, -0.7375217908438003, -4.874492238338689, 11.339849421172005, -19.59310382933502, -33.5931188757216, 17.038689999929716, -1.8161677341616667, -16.265095361269942, 93.35379632637381, 7.774643067333443, 15.10739342532203, -15.743091110676204, -17.902707530291067, 12.42354847189722, 28.034940503024842, 45.39719917086501, 0.015980974684396188, -0.9988496127325561, -42.28882571475741, -5.232409443897666, -21.325623558068287, 7.78199910153171, 47.996196193151576, 22.015629730197368, -4.492131396417356, -26.398391862484516, 1.2183963959004416, -25.400082404505284, 47.38882717953064, -6.018301299078516, 21.40173769992468, -5.8166236132260565, 6.3571823914605545, -11.439131494211722, -51.46940082261173, -0.11285580105109716, -9.15600112443613, 12.104413357333556, 42.303994176789416, 89.26413945563877, 16.721510942661325, 36.18581247561178, 36.41689925440309, 71.6292356051772, -42.27881111176243, -48.610512344184166, -56.66712971716563, 32.98236536985786, 10.109105765025703, 5.149572307179625, 17.307523289844838, -11.539514915841757, -22.945029763688176, -24.573547228697777, 15.009047359013131, -36.79663802292108, -11.723624083490407, -31.827894145005956, 22.311523120596178, 13.71729470649015, 24.572747920656298, 30.945231603792045, -5.314676771618998, 21.855204096609498, 29.347052760436583, 2.9852381826169108, 21.740191372014266, -2.367252568460941, -13.255265130414756, 81.05997255684008, 5.961789553276873, 9.551957285296965, 3.482134917101675, 4.157621889493996, -33.6956406455743, -49.83705948212314, 54.3718434863863, 21.942006589786104, 38.099371229037615, 88.26609834831507, -32.00702232687324, -8.61043781675832, -55.34377661583534, 18.61631082524366, 23.035473276605416, 25.883420716657383, 50.933393159830985, -18.722467333822486, 4.301249971617182, 0.5645415916159067, -0.579714214142129, -44.487314888405294, -0.43393483853107284, 33.95459207216956, 3.9072894739995263, 5.074028945850614, -3.2740271133416456, -9.340415439817633, 20.214907223920335, 21.361013475957122, 11.16702774334135, -11.363766506388458, -10.807728819231514, 20.95819401967954, -0.3666934797085304, -33.62781510024659, -63.84413319632043, 20.87343117813876, 8.21100626860104, 21.422672751089664, 3.751672122848902, 0.5223663822342246, -3.4298536403221362, -41.212136016593945, 1.2068893603694022, 3.7560997931783078, -0.7712176555370718, -0.3250256381630976, -28.291307365586604, 19.72435245650479, -71.70297460982945, -26.382438529910146, -15.709580453776695, 0.2512172183801198, 1.7744239898150198, 41.26358237231079, -0.5919662835679844, -1.3084397337722322, 1.8590701608382005, -23.455863101586004, -56.30635452374288, 60.612259394137425, 6.706196107654705, -24.426795506634562, 2.603081042919868, -28.906127583788177, 52.73351466730415, -82.66639396854463, -15.634891800389596, -19.386812190428344, -20.602504325454873, -10.79435900910073, 37.206761097762495, 41.56932654727906, -17.60645184933813, -36.69008153327387, -1.1321727768090781, 36.454271028998676, 18.008121150351485, 33.79517454113764, -37.15718009346782, 50.204496141852616, -21.59481531177292, -7.866285656782004, -28.64017798933169, -65.13317609423476, -71.45700357948941, -34.81835694448378, 1.2500147734965807, -38.71950492404219, -5.366650416858775, -5.555516205490427, 36.168833510058164, 2.151303857854913, 23.85984112336436, 24.607169975332965, 53.22173187752489, 18.11357755425641, 23.781994758932456, 17.366687836242306, -55.298841574335796, 5.2459667238056795, -23.476023716168527, -32.505334807964715, -12.139775590103731, 37.323561878743504, -15.729976093264845, -56.95579381663227, 9.10804885400097, -19.630304260379432, -40.197203511803096, 51.240171658612866, 4.538607848649747, -20.081118398689398, 12.76052850624393, 72.11945443604571, 7.64425979624022, 37.50892690721926, 42.5794622846376, 64.49532596053177, 13.331921400862967, 0.7372893353754648, 1.1464178693148597, -7.21921226513787, 28.739290741532955, -30.473572695754413, 39.12767340855922, 93.70665233293732, 34.80372547687705, 63.652281624732325, -6.953465616336828]\n",
            "{}\n",
            "[-67.10680849047368, 26.513663070902126, -19.620676005100464, 38.69629506378112, -81.00250651076388, -17.447409756483594, 57.940556405092536, -85.81859362317972, -16.455029393203333, 12.393183907798289, -25.052781564739377, -6.9299008397118484, -35.32855191978361, 43.60238008248942, 55.839310084714725, 23.149208560119334, -60.88705446052598, -7.2621468743875255, -7.1712047632788085, -53.072330611210305, -95.10398878824793, 80.9653269824137, 96.06009456878212, -26.89412587711712, -36.328664317864124, -8.247266878552637, 39.708324234699376, -80.71409663111064, 23.097755237188238, 62.39384206149984, -3.9766334931073004, -96.1432622852275, -23.555639042576075, 53.15227341691343, -49.46869145047938, -41.166704758700945, 71.41698743350403, -43.85801634683182, 91.32552787017318, 50.10153333912126, -18.449175451539062, 84.28602893180204, -69.7105767282288, -28.028804359576085, 0.6569116867404716, 84.4054423884082, -30.740583624689762, 34.433194796049804, 72.43504888197069, 57.21373681287122, -50.543657630502814, -87.49958025478645, 82.77999313932685, 43.297171929527735, -46.65201313095795, -76.94360523997986, -70.63516670748946, -10.310946418317599, 62.68916313923242, -99.87744829944178, 48.583595466440585, -86.02089881117774, 27.537359768738895, -53.21459058435016, 13.473650588645356, -6.607693098520656, 81.86422682984329, 62.78820358945276, 93.74546934343505, -62.33978373481555, -2.0532845858987088, 33.96732671092815, 93.76668468458001, 78.02001856000896, 64.37039295230903, 82.29434109280007, 76.29628918081553, 53.845116369056626, 33.98241718493668, -27.584788667571814, -84.79284016797513, -48.29705208580215, 58.645325274227105, -90.03159012881451, 14.972288877425484, 72.46913403992284, 54.64712322942165, -19.574291712734748, 65.82688876517494, -48.23411393988635, -48.212064683110015, 35.53182114332631, -41.678143174786506, 15.794979836633317, 88.07328145307301, -66.25674850804369, 93.28378412775874, 70.69637863151448, -24.1643767278848, -24.04126815257284, -33.07445341974213, 15.304780569376504, 4.433690929316512, -92.84863614347796, -73.44277864419773, -60.21272389011831, -61.85144090252421, 95.35677431285984, -80.45733284891648, -36.77952189600191, -83.56347868394327, 43.0743136809796, -86.22853859485558, 72.5787712362775, -75.36121555134363, 73.97270283946597, -15.471908000107959, -98.00378410525119, 75.15157109180839, 71.89918667788356, -83.14315322435493, 16.45506177259348, -93.33442377724495, 77.86197381311487, 52.61550346587768, -46.36648672307526, -80.14890748570258, 67.99905970549347, 82.83181842967147, 40.91627633210993, -11.568617080776988, -20.91743364238492, 40.74324900610418, 52.440926074659046, -41.26330013742869, 60.950042392988564, 67.08572404119695, -12.437835714132305, -40.651643607147946, 70.64940581587427, 41.35671742966301, 19.563673774764695, 38.4932214548389, 48.29695038524375, 94.58653880348479, -65.36264328685593, 7.9469499329599955, -43.51985748345923, -51.921611110604516, -46.216661212197806, 58.32812344513417, 99.50702931753895, 80.86057787652703, 38.32140607122386, -43.51465304111892, -65.95832504941967, 73.08013566784518, -85.43255290073533, -97.0197712987376, 59.44404685930405, -2.765589775108907, -88.69529069497206, 30.785703676764598, 82.4667779716537, -73.01915375495275, 84.23590168858303, -65.24119690764367, -64.21823452307757, -8.052625966783637, 79.91078346676312, 66.31751830662816, 59.04267561079891, 33.57656909256909, 28.534673062039587, -17.418176947726764, -19.994158558867213, 72.80006897289431, 50.485600227574025, 68.3823095505571, -6.7299250845733525, 42.429884331821995, -74.55641749899529, 48.25831053427251, -59.54275144633867, -8.242710398618186, 97.16717287072612, 45.083528458691006, -29.497544224468328, 85.3552524349503, -86.73595458408367, -91.47797756095825, -18.38660152905763, 50.29115288523772, 20.96565868561457, 75.7068687893836, -36.06442284684268, -76.16409592972462, 77.02022978181125, 10.435242765245903, 21.27941667826589, -95.678889998732, -0.3848263561116596, 45.75011583492815, -96.54910237406575, -23.971054684922848, 37.334731201016524, -68.48149490489814, 29.353046848078122, 39.466578816822704, 34.48603967343388, 57.98913466702422, 14.25789387801504, 71.22527608724903, -17.847696251488316, -40.30731703572714, 64.19739695433702, 83.10430212184866, 73.62660483482935, -61.321824189044214, -55.56758557025563, 59.934243510208404, 50.60089596530861, 88.3089335650728, 63.52358516976108, -80.85119031864873, 70.643818634739, 52.778325064828806, -77.6781712136584, -92.38563905880164, -83.18812715460102, -3.5395358189930164, 36.70276220576869, 12.903790759321836, -5.208979083755466, 93.14718866319868, -71.07971034094479, -8.239310639020175, 94.95319381430431, 69.70691467156857, -80.1044732125545, -72.58934169134449, -76.55174031457854, -29.3339953515313, -73.00229673330225, -40.83113238265821, -60.65644183144443, 76.97673343430091, 47.20580088864003, 62.21401356429911, -91.40040322031626, -84.02546677942458, 7.343338577587332, 47.334302439628914, -1.5331493269245442, -84.65364254306888, -84.02840142278527, 6.647604628367219, 26.135683142892475, -16.30885705603751, -53.649774068637626, 59.75598545483999, -23.334509780451867, 9.283240882749851, -34.712574317739936, 98.69103472395372, -17.78024161088068, -27.86184390531625, 42.77391698151189, 91.95970695332909, 18.987863219938234, -56.473603889070056, 42.3718164134049, 23.327705262877913, -3.208959082872582, -24.650823992752095, -49.99875265389109, 35.55395469855577, -9.133679267945524, -47.573817061710685, -69.92539804382204, 98.10567933123545, -86.29525809874714, -1.4359874322900055, 85.24192121307442, -25.251432855226838, -60.86388645138534, -96.7695158956355, 95.24507965344179, 29.717011573459416, -33.64019879200488, 70.99045832655165, -78.38202386637431, -43.90332649337814, 25.176184105749755, -42.48573939021614, -40.498223752327235, 5.173419279193496, 30.397168000591563, 51.22451319472438, 32.045414370899834, -2.3789342872504022, 91.82687204416749, 30.611289540547403, -68.14873180082836, -8.189669856178597, 94.33028826224356, 71.11596077415797, 31.39412862701346, 78.2686556460337, 86.67254016125162, 84.00256402039264, 4.836008790071688, -20.550057164643263, -81.60529894086616, -55.31303107711998, -48.111082935505344, 80.73455734479023, -81.12920410155971, -19.30083372775171, 52.06327943922415, -19.913191962364678, 98.10479290555489, -24.505308041170395, 55.230393373399636, 26.430016823343834, 50.94775054638146, 74.4217463350009, 8.026909505790172, -86.30264986895048, -45.29962161337584, 96.50708407845704, 24.686750616913884, 28.128777152977904, -85.90733671644253, 13.90803858858564, -45.54106584109982, 29.609063557465277, -10.9081383469412, 48.28567610337697, 33.393277408221536, 72.17757112904343, 8.715781330355355, -11.545070420846187, 31.980327480344272, -27.685022687512458, 43.5321832397417, -43.82807404818332, -73.66297522899126, 94.93071953651344, 29.636443951160203, 38.90066648774393, 11.225113102679217, 55.05626362812308, 67.03824292870016, 4.2024653342308795, -80.79226182489587, -9.436010691102226, 65.74195048970378, -29.685196321597203, 52.006273453182416, -51.429881245319706, 26.34465399849229, 24.371140588650263, 63.105741870882355, -63.302834269410745, -55.02336467809328, 23.2534087653588, 16.248883537217523, 65.49842117084944, -57.6318819907432, 45.9181277282849, 19.03196094426292, -67.82459967186293, 98.38468477698459, 51.823562511529474, 63.80923619742461, -57.303378977636974, 14.441219170881013, 67.02506365172661, 16.030098847260717, 30.764976798253684, 20.729338028568705, -55.15060660424054, 29.314605275195674, 42.647684685011825, 31.223060021897908, 43.10182646813257, -98.94637639717946, -79.58849191232504, 63.54351850737433, 6.934323872405585, -30.85146342741494, 55.18621675247667, 60.546031776496164, 19.85592782469496, 30.534983879840695, 15.815627571751904, 37.8635216537196, -94.45529072136027, -62.61356597127061, -70.04215828569393, 20.788344285793926, 47.65912991882786, 54.472139772855485, -31.6912074677592, 53.11590756410163, 45.992457248157734, 28.526030509891314, -26.37480124379381, -67.2058355604694, -0.8935889640133468, -85.3393585086902, -92.78112058886543, 1.7921258838050846, -80.67137722130526, 52.748443026419864, -30.638088632410216, 9.69666183549107, 67.09305924027854, 42.45989225351451, -36.64834287185781, 58.80695513492742, 77.46313670933029, 88.77852351909033, 29.862539064431303, 75.8857738458853, -8.01615137073162, 37.008815725142, -67.3201416010425, 27.189784123314055, -94.91033688166178, -37.874250233271844, -86.49219403929027, 30.677579806744518, -29.530875687744242, -19.855174718084584, 53.44465920942761, -62.21027997189359, 50.17022053262127, -94.80472794945535, -39.236860397985616, 87.02882963850143, 8.922909917265699, 73.92126521870057, -50.64077479967706, -21.426655397883437, 98.35522688798522, -1.3604625444161513, 50.92076066825547, 67.57264099501731, 47.29878939806744, -38.50239115026666, -24.04800336995953, 31.845545597566087, -61.491859305077966, 34.13216739935291, -89.50729196417093, -11.435634188885018, 62.712298161349025, 78.70903152540077, -20.883698252174085, 0.8367539390982728, -37.16453953761156, 47.974833387904965, 5.557083798287849, -54.03111535209566, -61.27722613519706, 28.157662849568368, 92.13072903334233, -26.95705712738024, 71.45721640589687, 34.183515664672086, 55.695700262333844, 95.13478330549975, 69.66197779500007, 85.24366030353048, 11.938303995086557, -26.949432215405494, 19.512117948401112, -94.2858609868281, -75.50759867989132, -90.6518046470803, 69.71674550957843, -93.10386282173266, -8.076063422880836, -5.351095827760972, 48.298398842671105, -0.3084496158246566, -7.968835762926659, 12.701077141017308, 91.34762126913736, 96.59086269323501, -91.43490434462802, -59.99978584704879, 80.10507295481199, -88.51798673501014, -6.890479190818979, 63.90514521739797, 54.215586148824286, 58.61377013446142, 65.82657571028813, 1.0232040245190746, -38.16450619694096, 18.755362342380437, 78.42919230592156, 91.5474233492491, -37.0374604903811, -31.0248821313821, -80.72682872441763, 83.8304203769629, -25.448466697258993, 3.4410504073462818, 17.68425031535233, -76.57129173115834, 32.54035384523465, -96.75029795336005, -42.95738248697481, -18.636740797938216, -71.5837319735923, 31.50999092933864, 99.23368032166675, 99.9165339305595, 46.623022920133025, 47.8460462427214, 0.42131795553534346, 10.575136519180546, 40.23644774914689, -93.25152502273404, 12.314005765216507, 76.50563105236, 18.861655678236673, 47.322889227116775, -17.0249209289761, 93.2719851003097, 91.36546294084167, -0.8549763865931794, -92.49504551542442, 76.2373284520057, -21.527838696507146, 67.00787229799354, 73.18508167192931, -30.34114140992878, 27.780021609311774, -80.35632091125244, -62.19030512901516, -62.93808171152813, 32.82938833746738, -99.58387058330061, -7.146992433505076, -34.974919770936324, -8.840719676825316, 97.63614278499634, 44.88405298782416, 20.107712133881478, 85.1263225364105, 4.38836044784243, 62.118220846914625, 70.72511140081431, -36.87689812902539, 24.71222645376274, -1.3122472022999432, -46.221707586086744, -41.818379122500524, -13.74436406652913, 98.2184417267708, 64.71010970128333, -97.31967754549962, 79.48600347744721, 72.64144700196596, 26.535156387079667, -23.380054515290368, 72.01575310646547, 88.08892423040078, 88.83290650851782, 98.85069271355178, -71.50617016652524, 25.24672531506114, -35.287962030563435, 85.85053047437788, -13.787073541010514, 99.56406465953114, 6.2378152454039935, 0.32047154478659934, -74.48621216792755, -89.93096778069274, 29.27848902313289, -99.1718803756792, -34.21195334347469, -20.520797313746982, 51.773326959039736, 47.00647697443671, 95.63148586665832, -43.714483547194604, 95.41424197672632, 93.76344203497877, -37.92390521447662, 88.79033901897029, 22.67849262826884, -85.53281648950238, -60.59695531158316, 36.47707777953599, 70.01250306101855, 14.187906282319787, -45.293757063281426, -80.23107128488745, -69.60250667736855, -47.608456628355576, 63.63571001908613, 73.63275607972307, 51.87546489527904, 39.77805161532842, -60.341709472433, -71.35379156868218, 36.52590759767506, -79.45208252103477, -66.24307830864194, -59.869538780141426, -8.558094639367823, -16.713532555470593, 79.55268598285087, -87.06277108371079, -74.37631619386877, 6.708742844903199, -5.488354688249558, -79.13878359026072, 86.51631610288356, -45.34363131588408, -29.26545110916223, 62.5520334757455, 85.84748398280152, -58.62525008960839, 21.433264749301188, -33.20512249176903, -1.7622105109164465, -5.266422599826726, -64.01173967733115, 55.034361025131744, -65.8508436442888, 99.41170750482772, -23.286895852628533, 30.357980540862286, -46.79464568468043, -50.48701070542254, 77.19783417868985, 12.742630680489924, -79.2744573978131, -67.94468287965658, -92.64333502185713, -85.41151328892303, -38.37558100691434, 71.74155919166907, -18.73696177071291, 48.31872427882979, 68.07652353455501, -98.72053274132963, 40.38996495344617, 57.90752027778743, -9.656488241761878, 88.24600695102245, 55.67244557181368, 7.3052371452414775, 60.10539295874358, 69.64157951192695, -66.8459960688997, -97.41437615703418, -25.309825679245805, 70.20001517349604, 9.1040188544129, -14.478104560236062, -90.78960122359972, 21.4175694515299, -78.57062931661905, 20.31523428269675, -45.891968073510725, -37.6734342564186, -66.1068801388075, -73.82527081569492, -53.18398870746992, 75.69884635677423, 79.82561526278798, 86.03035447601036, 57.37534299849537, 88.01773860450888, -50.43284365377485, 81.206889342122, -69.36986844505716, 69.29637239096314, 71.43604570515893, 43.581750676859656, -43.86609396464149, 44.84215784254434, -58.276534371841635, 57.46133683258083, -40.82659771692339, -16.091065185603696, -31.574933346165153, -98.97198659076206, -2.384063135840961, -23.227186733411827, -65.51038909288351, 68.44378023858425, -39.97281911410775, -43.82441471528069, -30.147258468384777, 1.747336923897521, 83.95238807497151, -48.65799275726428, 75.1131584453843, 47.62617800514971, -28.340640899266063, 42.9678404754888, 75.5295200073302, 17.94610744290415, -63.3821189245215, 0.8692141027637064, 14.551112179783402, -71.27232372699271, -37.33048179989304, -26.285714838861324, 16.574645358683043, -89.52492212239835, 77.53573727820617, 8.898439038305, 95.79026617542266, 62.90562820672062, -2.37561739897518, 62.23703272767901, 89.40675814222868, 66.78192565403808, 73.42995233780704, -2.17895294651899, 41.63390070211756, -26.9540653228008, 25.058150043198737, 34.56283965349721, -3.3713212049178054, 35.10416430318176, -88.86039022813408, 75.1146604593145, -95.70347953337858, 60.33234828340983, 88.9669139455888, -74.90094405113246, 92.65258791828546, 23.569511529297444, -70.24237899622779, 95.35088867513736, 93.52947591666086, -36.861541018436085, 95.51928393537361, -31.311281950483604, 74.16870932382682, 51.38263940943014, -31.65805199480741, 64.88588779232211, -89.65064193224916, -56.699168434544454, -8.318960189779006, -60.14115246777685, 49.802431660383775, 71.33344632922052, 1.6461259690110097, 66.17872497106731, 62.12689253518036, 65.79292964480194, 41.551614120935284, -2.511614932750007, -5.706932301955376, -22.022481536709734, -92.68163909504914, 4.4875576479656445, 5.240956099591827, 8.580459725899004, 10.462694403188394, 0.9366185747903302, -66.35414654259759, 17.61427409375851, 13.406065987068928, -90.88848595244488, 24.29119680524832, -79.59796462594635, 60.24119516401248, -13.462331025990594, -47.22089329088146, -67.27809698957093, -72.98933103512928, -32.6700676925404, 70.35815755091207, -13.87708839748312, 64.70836684085626, -2.475384463674942, -13.242950707102509, 24.88140843005671, 6.073809564330773, 71.68407504121609, -85.74517775182733, 59.07673315332255, 54.49352934287947, 41.719244911781345, -64.10592088924676, -4.874492238338689, 11.339849421172005, -86.77934158077822, -33.5931188757216, 85.73140691333282, -34.34635845670155, -16.265095361269942, 93.35379632637381, 98.41900361926562, 15.10739342532203, -15.743091110676204, -17.902707530291067, 85.85568814578707, 73.43213967388985, 45.39719917086501, 47.96076238584709, -0.9988496127325561, -90.17248227479165, -47.88365656003424, -21.325623558068287, 55.778195294683286, 47.996196193151576, 79.30454485158376, -57.28891512138639, -26.398391862484516, 52.01856120491101, -25.400082404505284, 47.38882717953064, -70.22351439885256, 21.40173769992468, -93.52295975287805, 29.235445379884, -11.439131494211722, -51.46940082261173, -73.36086479654014, -9.15600112443613, 96.71240171091239, 42.303994176789416, 89.26413945563877, 89.3242226726762, 72.60271173001487, 36.41689925440309, 71.6292356051772, -90.8893234559466, -48.610512344184166, -56.66712971716563, 82.85609002175286, 49.873724651895, 39.7646188868693, 17.307523289844838, -59.05809190822771, -47.51857699238595, -24.573547228697777, 51.80568538193421, -36.79663802292108, -75.37941237350232, -31.827894145005956, 98.89160837488907, 38.29004262714645, 24.572747920656298, 79.97031656863004, -49.025084964837994, 21.855204096609498, 97.55286505909629, 68.20581229865971, 21.740191372014266, -81.89884335094948, -13.255265130414756, 81.05997255684008, 91.92940512094955, 9.551957285296965, 82.47695081748759, 4.157621889493996, -83.53270012769744, -49.83705948212314, 54.3718434863863, 98.14074904786133, 38.099371229037615, 88.26609834831507, -95.9612367594669, -63.95421443259366, -55.34377661583534, 64.68725737845449, 23.035473276605416, 76.81681387648837, 50.933393159830985, -59.75861802396363, 20.51807534507057, 16.21682537345339, -0.579714214142129, -44.487314888405294, -68.3431189828702, 33.95459207216956, 52.891034405803964, 48.98374493180444, -21.954857992976912, -9.340415439817633, 98.19801446877264, 77.9831072448523, 56.62209376889518, -11.363766506388458, -94.64050489794967, 20.95819401967954, -33.994508579955124, -33.62781510024659, -63.84413319632043, 80.14078921752017, 29.633679019690703, 21.422672751089664, 97.92481955824925, 31.39104914513345, -3.4298536403221362, -83.73612310192473, 42.52398708533079, 3.7560997931783078, -57.67885802487338, -56.907640369336306, -28.291307365586604, 91.42732706633424, -71.70297460982945, -93.79251367052417, -33.70503757030701, 17.995457116530318, 1.7744239898150198, 41.26358237231079, -42.462037764279415, -1.3084397337722322, 72.22665946559621, -23.455863101586004, -56.30635452374288, 60.612259394137425, 79.98658262755839, -24.426795506634562, 84.2427232940122, -81.63964225109233, 52.73351466730415, -82.66639396854463, -93.18214056210297, -19.386812190428344, -20.602504325454873, -85.20788120462572, 37.206761097762495, 95.86585992989106, -54.296533382612, -36.69008153327387, -37.586443805807754, 36.454271028998676, 51.803295691489126, 33.79517454113764, -37.15718009346782, 50.204496141852616, -58.10127895788661, -36.506463646113694, -28.64017798933169, -65.13317609423476, -71.45700357948941, -74.78787664202255, 39.96951969753877, -38.71950492404219, -47.091000132407366, -41.72434971554859, 36.168833510058164, 49.870986104583636, 23.85984112336436, 77.82890185285785, 53.22173187752489, 89.45956183105378, 23.781994758932456, 72.6655294105781, -55.298841574335796, 61.22732524793892, -55.98135852413324, -32.505334807964715, -49.463337468847236, 37.323561878743504, -72.68576990989712, -56.95579381663227, 87.6292658955187, -19.630304260379432, -40.197203511803096, 51.240171658612866, 84.86308144340734, -20.081118398689398, 84.87998294228964, 72.11945443604571, 87.73264898809708, 80.08838919185686, 42.5794622846376, 64.49532596053177, 99.64142240091351, 43.15475050002527, 1.1464178693148597, -93.43708448973673, 28.739290741532955, -30.473572695754413, 39.12767340855922, 93.70665233293732, 98.45600710160937, 63.652281624732325, -74.06027410681051]\n",
            "[-67.10680849047368, 53.02732614180425, -78.48270402040185, 309.570360510249, -1296.040104172222, -558.317112207475, 3708.1956099259223, -10984.779983767005, -4212.487524660053, 6345.310160792724, -25654.04832229312, -14192.436919729866, -144705.74866343365, 357190.6976357533, 914871.2564279661, 758553.2660979903, -3990294.0011250307, -951864.1151197217, -1879888.30146496, -27825186.07149023, -99723760.14762586, 169796597.41182286, 402905238.8902211, -225604279.48579168, -609493848.2522991, -276732355.6622467, 2664780530.7343445, -10833262667.400124, 6200256459.671013, 33497438890.74138, -4269877700.268524, -206466083622.90115, -101170699324.245, 456574552067.3867, -849865647822.895, -1414477204981.665, 4907738006491.885, -6027799868066.434, 25103369951509.14, 27543609237885.375, -20285082931846.734, 185346937739161.38, -306590358766634.4, -246543970448100.38, 11556512607889.5, 2969752491316227.0, -2163176264957881.0, 4846041351645800.0, 2.038865369708793e+16, 3.2208470473865056e+16, -5.69070994176686e+16, -1.9703153851526554e+17, 3.728079462560046e+17, 3.899862547360348e+17, -8.404079558106628e+17, -2.7721855350985267e+18, -5.089800167409638e+18, -1.4859639823159132e+18, 1.8068921072256983e+19, -5.757542898484249e+19, 5.601307198437907e+19, -1.9835068817003276e+20, 1.2699365702989801e+20, -4.908179667483707e+20, 2.4854498414732693e+20, -2.4378084701205483e+20, 6.040513764488905e+21, 9.265903379700852e+21, 2.7668778896770095e+22, -3.67989131573294e+22, -2.4240905770602353e+21, 8.020308258618496e+22, 4.4280064896426715e+23, 7.36878241281308e+23, 1.2159223446685304e+24, 3.1089923048518494e+24, 5.764784620717012e+24, 8.136843929838358e+24, 1.0270555386946459e+25, -1.6673981624420295e+25, -1.0250825379752158e+26, -1.167751065555976e+26, 2.8359139169484612e+26, -8.707321111014836e+26, 2.896061856423776e+26, 2.8035138325112364e+27, 4.2281163673414536e+27, -3.0289749314807935e+27, 2.0372435315998756e+28, -2.9855470452819208e+28, -5.968364524783851e+28, 8.797252812410096e+28, -2.0638016879654764e+29, 1.564259036757891e+29, 1.7444710640321529e+30, -2.624700219231013e+30, 7.390702808819621e+30, 1.1202288350775187e+31, -7.657996665811056e+30, -1.5237964001928388e+31, -4.192685072975672e+31, 3.8802228550262936e+31, 2.248148387109813e+31, -9.415970347012185e+32, -1.4895965188919399e+33, -2.442518258581924e+33, -5.017985035844203e+33, 1.5472521240771147e+34, -2.6109897287345e+34, -2.3871274499877953e+34, -1.0847159696472017e+35, 1.1182731180464706e+35, -4.4772417006211776e+35, 7.537010517728832e+35, -1.5651912110504302e+36, 3.072705860565516e+36, -1.2853558288720068e+36, -1.6283671690695078e+37, 2.4973393055613023e+37, 4.778520590320435e+37, -1.1051620692364747e+38, 4.374505756100284e+37, -4.962509162206692e+38, 8.279705231957143e+38, 1.1190080035066061e+39, -1.9722122309920397e+39, -6.818314986340549e+39, 1.1569440492491765e+40, 2.818620723161402e+40, 2.7846174711763083e+40, -1.5746385608995165e+40, -5.694267063793926e+40, 2.2182734732554086e+41, 5.7103111834275004e+41, -8.986351000149326e+41, 2.6547487602454642e+42, 5.843990774615912e+42, -2.1669766022035055e+42, -1.4165030406007542e+43, 4.923544992273124e+43, 5.7642851102909065e+43, 5.45355629997754e+43, 2.1460688088374366e+44, 5.385289922036981e+44, 2.1093503010674438e+45, -2.9152713068852444e+45, 7.088916222416835e+44, -7.764202022519924e+45, -1.8526249914796607e+46, -3.2981311539841175e+46, 8.324867960693614e+46, 2.8404235600296355e+47, 4.616322928205752e+47, 4.3755310717121936e+47, -9.936990104293977e+47, -3.012443751729086e+48, 6.675421120932516e+48, -1.5607476993222958e+49, -3.5448638651643684e+49, 4.3438785907223895e+49, -4.0419139845072714e+48, -2.5925662514848412e+50, 1.7997342531990183e+50, 9.642026482478073e+50, -1.7074818043100864e+51, 3.93954906367709e+51, -6.10240743052474e+51, -1.2013447027453156e+52, -3.0128450650285134e+51, 5.979634732905961e+52, 9.92493174669918e+52, 1.7672390057488379e+53, 2.0099977504663106e+53, 3.416348377159505e+53, -4.170824766000669e+53, -9.575299635884234e+53, 6.972861317230605e+54, 9.671119653336887e+54, 2.619889611508491e+55, -5.156790091235076e+54, 6.502360853797265e+55, -2.285147547202916e+56, 2.958225828139759e+56, -7.299920086591997e+56, -2.021106708885002e+56, 4.765064292573848e+57, 4.4217796050844395e+57, -5.7862214387829845e+57, 3.348647519898717e+58, -6.805630138002149e+58, -1.4355414292438872e+59, -5.770728418295552e+58, 3.156826830505226e+59, 2.632071450379921e+59, 1.9008788698341263e+60, -1.811040409901082e+60, -7.649436459754113e+60, 1.5470842176745226e+61, 4.192197150138007e+60, 1.7097352109972364e+61, -1.5375004837143347e+62, -1.236784224138768e+60, 2.9407040665760683e+62, -1.241187405951538e+63, -6.163199957474436e+62, 1.919827198051091e+63, -7.042913247386178e+63, 6.0375715449719266e+63, 1.6235608826239583e+64, 2.837346772329768e+64, 9.542138536970149e+64, 4.692285870815174e+64, 4.688060655921176e+65, -2.3494772415606903e+65, -1.061213982010875e+66, 3.380387496208643e+66, 8.751904503968022e+66, 1.5507572965862303e+67, -2.5831767338578438e+67, -4.6815598231138165e+67, 1.0098900053570237e+68, 1.7052468206684476e+68, 5.95201034786828e+68, 8.5629623414148e+68, -2.179743778966416e+69, 3.809107165512852e+69, 5.691603315717298e+69, -1.6753594824976213e+70, -3.985139042937474e+70, -7.176791908570206e+70, -6.107244602017349e+69, 1.2665657748539342e+71, 8.905869073289932e+70, -7.190210472363549e+70, 2.5715130762801715e+72, -3.924593049412377e+72, -9.09850113646882e+71, 2.0970971472767077e+73, 3.0790364395554555e+73, -7.076617668561031e+73, -1.282542653015472e+74, -2.705104353569804e+74, -2.073147343403034e+74, -1.0318711496425257e+75, -1.1542778624300368e+75, -3.429460998713229e+75, 8.704391393575852e+75, 1.067589513479763e+76, 2.8140197697066104e+76, -8.268315348448081e+76, -1.520231929301606e+77, 2.657189112111934e+76, 3.4255861075472656e+77, -2.219082045967226e+76, -2.4505555329027247e+78, -4.864912078008089e+78, 7.697400283422932e+77, 6.052610709520052e+78, -7.553746526365317e+78, -4.969775541214032e+79, 1.107083264040096e+80, -8.646245244182753e+79, 6.879525482923986e+79, -5.144885123912593e+80, 2.925476121517855e+81, -1.0541113975132868e+81, -3.3036094625797668e+81, 1.0143500722488892e+82, 4.361505420811194e+82, 1.8011294534771032e+82, -1.0713819678434995e+83, 1.607703313543384e+83, 1.7702346617657557e+83, -4.870269520876383e+82, -7.48256077163299e+83, -3.0353444197125885e+84, 4.316847611780443e+84, -2.217964323175605e+84, -2.3105043622555746e+85, -6.792094777811746e+85, 1.9058685138746378e+86, -3.3528622691005297e+86, -1.1158592457347576e+85, 1.3247746292335693e+87, -7.848827694716144e+86, -3.7836281238100902e+87, -1.2031432207756434e+88, 2.3683795632678796e+88, 1.4778960372139923e+88, -3.3460105073416925e+88, 1.41220817956699e+89, -3.118496142845953e+89, -3.493463107334775e+89, 4.0066244351744314e+89, -1.352265306547523e+90, -2.5780105862854495e+90, 6.586525745237235e+89, 7.740015599486054e+90, 2.6086544061968536e+91, 3.263883097503456e+91, -4.845974728464708e+90, 3.741092838964653e+92, 2.494251923043465e+92, -1.1105713473588595e+93, -2.6692243410140605e+92, 6.14893410714217e+93, 9.271409317667321e+93, 8.185724090739046e+93, 4.081563324679832e+94, 9.039620222400775e+94, 1.7522303489421383e+95, 2.0175101721079474e+94, -1.714634987934048e+95, -1.3617801609385976e+96, -1.846061207784667e+96, -3.211395294823598e+96, 1.0777997989955327e+97, -2.1661366024439133e+97, -1.0306582656235675e+97, 5.560324496485522e+97, -4.253431987541542e+97, 4.191011316159418e+98, -2.0937208114875358e+98, 9.437712338751501e+98, 9.032667727013437e+98, 3.482359509644904e+99, 1.0173688663178012e+100, 2.1946079542884003e+99, -4.719138336913911e+100, -4.954081510312625e+100, 2.1108518959730023e+101, 1.0799222635876472e+101, 2.46098752860443e+101, -1.5032070759777374e+102, 4.8672587973110463e+101, -3.1875113365867665e+102, 4.1447965264775803e+102, -3.053930688688705e+102, 2.7036897293759754e+103, 3.739620874957452e+103, 1.616593354394395e+104, 3.904225081726975e+103, -1.0343204309265095e+104, 5.730221626178034e+104, -9.92118144022868e+104, 3.1200313128554304e+105, -6.282476698188676e+105, -2.1118241467175296e+106, 5.44308684679838e+106, 3.3985571592426626e+106, 8.921862475073207e+106, 5.14895627306536e+106, 5.0508585773073916e+107, 1.23001693900304e+108, 1.542135748448764e+107, -5.929502101699398e+108, -1.3850545574726703e+108, 1.92997212749598e+109, -1.7429236909818047e+109, 6.1069473888089635e+109, -1.2078526613163467e+110, 1.2374308348780415e+110, 2.2894664585285155e+110, 1.185652176010407e+111, -2.3787104302717733e+111, -4.1351908798078624e+111, 3.4951437235258525e+111, 4.884632948440072e+111, 3.937941279339394e+112, -6.9299675638096285e+112, 1.1042885457011199e+113, 9.154021521672184e+112, -6.52447582162773e+113, 1.892848612897004e+114, 1.9940940734360556e+114, 4.91057015632446e+114, -8.819797240434348e+114, 4.445414119176128e+114, 4.126440583311041e+115, 1.973806419089321e+115, 7.576261290229525e+115, 1.0209718818110248e+116, -5.432611357888e+116, 5.775271293490591e+116, 1.680404336220714e+117, 2.4605024089064362e+117, 6.793193734293117e+117, -3.1189485887299565e+118, -5.017514002385797e+118, 8.011974751898466e+118, 1.7486481420053186e+118, -1.5559802280125967e+119, 5.5665859953578354e+119, 1.2214451810429946e+120, 8.011401125722033e+119, 2.464029950034511e+120, 2.552493898064019e+120, 1.2221634271782308e+121, -6.097679073747402e+121, -8.084193654795007e+121, -1.808663546941771e+122, 1.073613989952401e+122, 4.922711296904855e+122, 1.125285410300713e+123, -1.3093538659207699e+123, 4.3890734666200623e+123, 7.60089709580625e+123, 9.428651367228196e+123, -1.7435219787866372e+124, -8.885363746956847e+124, -2.36284927322447e+123, -4.5131273851920434e+125, -9.813362169010771e+125, 3.7910256394011223e+124, -3.413010907051107e+126, 4.4633181576969236e+126, -5.184893788871536e+126, 3.281938526050294e+126, 4.541672168978828e+127, 5.748401194675529e+127, -9.923217736381712e+127, 3.1846144981667128e+128, 8.389831701777253e+128, 1.9230743878919824e+129, 1.2937337039601191e+129, 6.575193292418504e+129, -1.389133748069537e+129, 1.2826652722050384e+130, -4.666412910528311e+130, 3.7694145214200085e+130, -2.6315501473058065e+131, -2.100255716186821e+131, -9.592571407630285e+131, 6.804703665530657e+131, -1.3100698249641222e+132, -1.7616589187938214e+132, 9.48380076176607e+132, -2.2078535416427579e+133, 3.5610995204648153e+133, -1.345854443749496e+134, -1.1140183420717455e+134, 4.941869024327194e+134, 1.0133619470734406e+134, 1.679026190933673e+135, -2.3004797595461495e+135, -1.946715359414897e+135, 1.7872096909767039e+136, -4.944184301176954e+134, 3.701118072427672e+136, 9.822882435620682e+136, 1.3751436698727166e+137, -2.2388023092792227e+137, -2.7966432146044546e+137, 7.406904235722405e+137, -2.86045853259954e+138, 3.1754983692786906e+138, -1.665468567203646e+139, -4.255673223864532e+138, 4.6675688236278435e+139, 1.1716356518802433e+140, -6.217351412197215e+139, 4.9822528769516546e+138, -4.425748726833354e+140, 1.1426190687587249e+141, 2.6470670000136687e+140, -5.1474473883777094e+141, -1.1675542715755411e+142, 1.0730120017202945e+142, 7.021703364242967e+142, -4.109040723055891e+142, 2.1784322434055146e+143, 2.0842253998221503e+143, 6.791717638780262e+143, 2.3202099364732024e+144, 3.3979246592763486e+144, 8.315914780505474e+144, 2.3292739493683173e+144, -1.051616886878515e+145, 1.5227981479753956e+145, -1.471683749254629e+146, -2.3571573671679245e+146, -5.659842794811029e+146, 8.705525969091017e+146, -2.3251747903405035e+147, -4.033830285222121e+146, -5.345528205732726e+146, 9.649629220460296e+147, -1.2325147405390674e+146, -6.368435581599368e+147, 2.0300579406040252e+148, 2.920082475742657e+149, 6.17538325680901e+149, -1.1691490512327637e+150, -1.534396370839917e+150, 4.0971123977362e+150, -9.054810825258046e+150, -1.4097018666956659e+150, 2.6148312768858697e+151, 4.4367197625286395e+151, 9.593288232576469e+151, 2.1547609468002145e+152, 6.698692887644545e+150, -4.997093445602426e+152, 4.911490155138968e+152, 4.107670103665344e+153, 9.589455224592767e+153, -7.759236819810427e+153, -1.2999239395833728e+154, -6.764811339564778e+154, 1.404977718875831e+155, -8.530203839709731e+154, 2.306847146947484e+154, 2.3710703161327084e+155, -2.0533063449579456e+156, 1.7451792573171008e+156, -1.0377675296986959e+157, -9.215429336935009e+156, -7.996090913884184e+156, -6.142597946946664e+157, 5.407742800061516e+157, 3.4060956823916343e+158, 6.859067883348655e+158, 6.401152373006899e+158, 1.3138137051741393e+159, 2.3138100122640304e+157, 1.161538758918918e+159, 8.838882315529956e+159, -4.096978244989924e+160, 1.0820244219378319e+160, 1.344500933209745e+161, 6.629450228026795e+160, 3.3265874865861763e+161, -2.3935516130743047e+161, 2.6226413775763176e+162, 5.138066769617222e+162, -9.616162649131879e+160, -2.0806361809812187e+163, 3.4298516863184894e+163, -1.9370378095683365e+163, 1.2058505640977283e+164, 2.634026987908906e+164, -2.1840348741010304e+164, 3.9993575177869064e+164, -2.3137034280087905e+165, -3.581296916886743e+165, -7.2487169027604675e+165, 7.562065308561793e+165, -4.587717110591647e+166, -6.585078343391608e+165, -6.445021143879967e+166, -3.2582562371796076e+166, 7.196779964357168e+167, 6.616825369130759e+167, 5.928574222062256e+167, 5.0197428533695685e+168, 5.175471073978239e+167, 1.4651989460813871e+169, 3.336423911474885e+169, -3.479300697072841e+169, 4.663150703509073e+169, -4.952371633557177e+168, -3.488779752819603e+170, -6.312839659010344e+170, -4.149657083211867e+170, 5.930763336021715e+171, 7.814832720599142e+171, -2.350597160015771e+172, 3.839708037415938e+172, 7.018139941634174e+172, 5.127305376850022e+172, -9.03530979645287e+172, 5.56615160256565e+173, 1.361691812202432e+174, 2.7463848038468092e+174, 6.112195378684313e+174, -8.842824887545409e+174, 6.244282708055264e+174, -1.7455571632373847e+175, 8.49337846756275e+175, -2.727969947229878e+175, 3.940035213525756e+176, 4.93696431667463e+175, 5.072790773297639e+174, -2.3581062092421586e+177, -5.694121565712272e+177, 3.7076277476440792e+177, -2.511689829187526e+178, -1.7329471806711226e+178, -2.078890818829208e+178, 1.0489952454555733e+179, 1.904825273863975e+179, 7.750475380447683e+179, -7.085700393151407e+179, 3.0931475201203455e+180, 6.079263476812733e+180, -4.917682347507431e+180, 2.302730588283992e+181, 1.1763094779969298e+181, -8.872993841835776e+181, -1.2572400474610005e+182, 1.513622021534675e+182, 5.810359429360493e+182, 2.3549175203324162e+182, -1.5035772008575977e+183, -5.32672127047426e+183, -9.24213392290829e+183, -1.2643330047344446e+184, 3.3799343291007245e+184, 7.821830853950143e+184, 1.1021212120366069e+185, 1.690210759450184e+185, -5.127963912371291e+185, -1.212758708276986e+186, 1.2416190238233494e+186, -5.401602513322823e+186, -9.007159206619137e+186, -1.6281081169177557e+187, -4.654621910107914e+186, -1.8180489491231422e+187, 1.7307014740424285e+188, -3.7881729419237636e+188, -6.472349662628523e+188, 1.1676117267138914e+188, -1.9104226954335773e+188, -5.509429942038244e+189, 1.2046067952723302e+190, -1.2626808182743853e+190, -1.6299057963071078e+190, 6.967527789174916e+190, 1.9124709367373266e+191, -2.6120529514364118e+191, 1.9099218293058933e+191, -5.917828108186225e+191, -6.2812350092234035e+190, -3.754334434220771e+191, -9.12655503464106e+192, 1.569318775662156e+193, -3.755507046842395e+193, 1.133900030468008e+194, -5.312253974818513e+193, 1.3850648348861431e+194, -4.269955843180504e+194, -9.213759532189856e+194, 2.81768427399454e+195, 9.301999326724157e+194, -1.1573920139895769e+196, -1.9839589178982693e+196, -5.410300347592983e+196, -9.975934910514185e+196, -8.964419046952798e+196, 3.351722021146807e+197, -1.750758920878794e+197, 9.029685667488594e+197, 2.5443950270920054e+198, -7.379461216212486e+198, 6.03838272791969e+198, 1.7314586465478788e+199, -5.774659312393326e+198, 1.0554367448352435e+200, 1.3317031956798697e+200, 3.494873469845465e+199, 5.7509630165252004e+200, 1.332679576557794e+201, -2.55836511348593e+201, -7.456588462090489e+201, -3.874683831740747e+201, 2.1493855171333247e+202, 5.574940753224141e+201, -1.7731636200023102e+202, -2.2238383110776405e+203, 1.0492217354094436e+203, -7.698166893340591e+203, 3.98087848718388e+203, -1.7985551719083303e+204, -2.952924133342651e+204, -1.036319653861214e+205, -2.314632877464105e+205, -3.334939579817126e+205, 9.49349926536232e+205, 2.0022086367939894e+206, 4.3156753177852144e+206, 5.756418258095505e+206, 1.7661486313120933e+207, -2.0239533349639675e+207, 6.517933259301176e+207, -1.1135709701340724e+208, 2.224782325810368e+208, 4.5869544516401e+208, 5.596824496769522e+208, -1.1266680455278572e+209, 2.3034750426803362e+209, -5.987158020842617e+209, 1.1806814094688371e+210, -1.677761346787981e+210, -1.3225185887023304e+210, -5.1902637650987575e+210, -3.253788124460198e+211, -1.5675620115493795e+210, -3.054453970709691e+211, -1.7229677479593978e+212, 3.600235856706641e+212, -4.2052492181643446e+212, -9.220895088327712e+212, -1.268629412822472e+213, 1.4705967496791117e+212, 1.4131231057084134e+214, -1.638064989438506e+214, 5.057349394140894e+214, 6.41331632072759e+214, -7.6326718805565235e+214, 2.314410806242529e+215, 8.136612655457767e+215, 3.86658156762991e+215, -2.731200997548721e+216, 7.491066770357501e+214, 2.508089838283538e+216, -2.45695846038328e+217, -2.573774455278345e+217, -3.624571563455474e+217, 4.570999009136649e+217, -4.937883393084356e+218, 8.55320329579638e+218, 1.9632278167880817e+218, 4.226766387308894e+219, 5.551449129284013e+219, -4.192985434535011e+218, 2.196978114644321e+220, 6.312148324912584e+220, 9.429654511820897e+220, 2.073672103892462e+221, -1.2306787072676056e+220, 4.7029886695300736e+221, -6.089492537241806e+221, 1.1322330480223705e+222, 3.12339013229024e+222, -6.093221210865209e+221, 1.268923520012442e+223, -6.424140348941054e+223, 1.0860792301605498e+224, -2.767543931895883e+224, 3.48936998326262e+224, 1.0290946328393136e+225, -1.732782583978568e+225, 4.2869096708780604e+225, 2.1810587093785067e+225, -1.3000078706489437e+226, 3.529405111911333e+226, 6.923971344185801e+226, -5.457707342262909e+226, 2.8285105986266324e+227, -1.8543751419545908e+227, 8.785115288378404e+227, 1.217231404316768e+228, -1.4999297634562699e+228, 6.148468916783068e+228, -1.6990264109642261e+229, -2.1490841018807502e+229, -6.306316505742796e+228, -9.11818625957412e+229, 1.5101401600256923e+230, 4.326033828604549e+230, 1.99659402273096e+229, 1.60536981004648e+231, 3.0141601462277927e+231, 6.384044601188917e+231, 8.063704085881206e+231, -9.748319059967535e+230, -4.430057825160527e+231, -3.419030102310018e+232, -2.8777984303829697e+233, 2.7868057754836315e+232, 6.509343332456054e+232, 2.1314110343545258e+233, 5.197927153652272e+233, 9.30635061086011e+232, -1.3186049664839077e+235, 7.000698678605763e+234, 1.0656337915648856e+235, -1.4449256327474126e+236, 7.723524612871208e+235, -5.061725396668151e+236, 7.661612678672167e+236, -3.4243399651150335e+236, -2.4022643890157858e+237, -6.84526552952804e+237, -1.4852719506484605e+238, -1.3296172051820143e+238, 5.726919067630815e+238, -2.2590973076359135e+238, 2.1068179883931333e+239, -1.611904231514753e+238, -1.7246911415796093e+239, 6.480843379765493e+239, 3.164082018556351e+239, 7.468600734101116e+240, -1.7867190087469787e+241, 2.462028183210916e+241, 4.542045501961027e+241, 6.954613180015186e+241, -2.1372960286127577e+242, -3.2503184598203207e+241, 1.5122855921411838e+242, -2.3145836085457602e+243, -1.7919952120700824e+243, 9.146532138387183e+243, -7.328704444996831e+243, -6.941176999751369e+243, 7.967801104235352e+244, 1.6800239017034695e+245, 5.1576994510459656e+244, -1.0749456255399062e+245, -2.4448104898479655e+245, 2.3449066197030502e+246, 4.0111846783610624e+246, 4.959587193383309e+246, 1.0479306532478964e+247, -4.3649228039632567e+245, -7.880984667841017e+247, -8.369967282031701e+247, -7.455352588880418e+247, 3.89996673776945e+248, 6.711711187636434e+248, 2.2179641018582962e+249, -3.204476046396586e+249, -2.9532070630935365e+249, 1.1638707627537152e+250, -1.1366101867249583e+250, 4.241137713761852e+250, -1.2569528010539884e+251, 7.661528870956828e+250, -6.695987646335188e+251, 4.1863555562416027e+251, -3.276041877735304e+251, -2.948054449800507e+252, -8.403899033137381e+252, -2.0977426918414004e+252, 4.4315794885180373e+253, 3.8769280787097483e+253, 1.6361133524706487e+254, 3.2744292233155026e+254, 5.322910938768975e+254, 5.339853203228839e+254, 2.100615983360487e+255, -5.3308837922202566e+255, -5.702253741887207e+255, -1.3294669687239997e+256, 3.8877718137954176e+256, 4.68034783924092e+256, 7.463338637104412e+256, 6.49682611817197e+256, -4.433796188781142e+257, -7.134930329023788e+257, -7.379452774515027e+257, 3.111456438661062e+258, -4.420022067208239e+258, -1.8109190622063293e+259, -1.5292700858818995e+259, 9.503109300506158e+259, 7.359056368613153e+259, 9.445392309468306e+259, 6.147875813824813e+260, -7.537800200337439e+260, 6.720647682140456e+260, 5.999655126051057e+261, 8.389530151395039e+261, 5.348224289565306e+261, -4.029526472896631e+262, -1.3043515527902909e+262, 1.5953011883715437e+263, 3.6184342187607786e+263, 7.519493692314419e+262, 1.2985504287965277e+264, 1.3091855685410553e+263, -5.260690289551978e+264, -6.277238362381101e+264, 1.3696836262522804e+265, 4.944536304811753e+265, 3.839052097322098e+265, 1.7788122956122446e+266, -3.8677823319275765e+266, -5.155435444307993e+266, -8.922672887737953e+266, 2.085810809765791e+267, 1.4855364445986822e+267, 9.90769108159548e+267, 1.3138590360606157e+268, -3.083022567410662e+268, 2.1171068348106074e+268, 3.346585998897468e+268, -2.392655069944505e+267, -3.6722508063210585e+269, -1.1282904999813873e+270, 1.1211265811668497e+270, 3.492755527836818e+270, 6.469461140504161e+270, -5.799315704774925e+270, -4.934490395390785e+270, 1.0375494802446703e+272, 1.647921963136862e+272, 2.3930513983646523e+272, -9.605465117484268e+271, -1.5999379571681584e+273, 7.086143541169219e+272, -2.298766460343647e+273, -4.547940047744414e+273, -1.7268995283309087e+274, 4.335405124046028e+274, 3.206207603411415e+274, 4.6356401589082955e+274, 4.237979372344927e+275, 2.7170766176231263e+275, -5.937472866805146e+274, -2.8991380451000106e+276, 2.9445573599905596e+276, 5.2017941161860224e+275, -1.5975802604980055e+277, -3.1524383817157134e+277, -3.1344333600677047e+277, 2.025872189470641e+278, -3.177628983049678e+278, -8.31312261323351e+278, -5.974764915457423e+278, 6.379973651902064e+278, 1.2581817987745018e+278, 5.85171172065658e+279, -1.2043336510449534e+280, -7.42214968812362e+278, 8.194142445999793e+280, -5.322153478240742e+280, -2.5551910776229912e+281, 5.501187413337628e+281, 1.4519213967106278e+282, -8.867934066966487e+281, 6.116716501680241e+282, -1.1855422698188624e+283, 1.5315552334715321e+283, -4.8018095935199875e+283, -1.0825267076875046e+284, -4.5044558638515866e+283, -9.573835090293143e+283, -7.919097505427796e+284, 6.915885357758279e+284, 3.5638538665377696e+285, -4.036993160583622e+285, -5.455877161340671e+285, -1.1178335493757233e+286, 2.168324696254113e+286, 6.1625901286494895e+286, 8.040639354820732e+286, -1.7681073622509038e+287, 4.777915817250718e+287, -1.1058890779463913e+288, -1.3897146549888144e+288, -2.1805275613158123e+288, -9.917863337470772e+288, -2.1761591818620563e+289, -4.555195888264732e+289, 4.8689440042169106e+289, -9.43334334626849e+289, -2.2945829170059436e+290, -4.0661688989948925e+290, 7.049532799631273e+290, 1.9440336785893343e+291, 1.860173152074405e+291, 1.2135473403496496e+292, 1.6597199660064553e+292, 5.579593736741587e+292, 2.9665664863138023e+292, 1.812859908891406e+293, -2.7591914271158447e+293, 6.109998188741469e+293, -1.1172985192498021e+294, -1.29750914969316e+294, -3.948836910577775e+294, 5.959349543440776e+294, -2.321107032251816e+295, -3.637589413145057e+295, 1.1193217354829588e+296, -5.014905924005941e+295, -2.0538162969453368e+296, 5.23608064326339e+296, 1.7343811454574617e+297, -8.20811889881981e+296, 6.938906272925331e+297, 1.1791475856598024e+298, 2.8688442542113522e+298, 5.237756247238663e+298, 5.56936771574124e+298, 1.687189865478362e+299, 5.213214928460028e+299, 4.515692050952437e+299, 2.399212137505886e+298, -3.9108843852009136e+300, 2.4058122964047784e+300, -5.1019836617526995e+300, 1.3101762136388886e+301, 6.275467782834591e+301, 1.3187057379820838e+302, 1.7050991906986243e+302, -3.9678110578010854e+302]\n"
          ]
        }
      ],
      "source": [
        "import math\n",
        "import random\n",
        "\n",
        "input_mode = input(\"Введите 'random' для случайной генерации последовательности или 'manual' для ручного ввода: \").lower()\n",
        "\n",
        "num_list = []\n",
        "\n",
        "if input_mode == 'random':\n",
        "    for i in range(0, 1000):\n",
        "        num_list.append(random.uniform(-100.0, 100.0))\n",
        "elif input_mode == 'manual':\n",
        "    num_list = list(map(float, input(\"Введите числа: \").split()))\n",
        "\n",
        "int_parts, frac_parts = [], []\n",
        "ceil_values, floor_values = [], []\n",
        "\n",
        "fabs_copysign_values = []\n",
        "gcd_values, fmod_values = [], []\n",
        "close_pairs, finite_numbers = {}, []\n",
        "ldexp_values = []\n",
        "\n",
        "for i in range(0, len(num_list)):\n",
        "    frac_part, int_part = math.modf(num_list[i])\n",
        "\n",
        "    int_parts.append(int(int_part))\n",
        "    frac_parts.append(frac_part)\n",
        "\n",
        "    ceil_values.append(math.ceil(frac_part))\n",
        "    floor_values.append(math.floor(frac_part))\n",
        "\n",
        "    if i == len(num_list) - 1:\n",
        "        fabs_copysign_values.append(math.copysign(math.fabs(int_part), num_list[i-1]))\n",
        "        if num_list[i-1] != 0:\n",
        "            fmod_values.append(math.fmod(num_list[i], num_list[0]))\n",
        "    else:\n",
        "        fabs_copysign_values.append(math.copysign(math.fabs(int_part), num_list[i+1]))\n",
        "\n",
        "        if num_list[i+1] != 0:\n",
        "            fmod_values.append(math.fmod(num_list[i], num_list[i+1]))\n",
        "\n",
        "    if i != len(num_list) - 1:\n",
        "        if not math.isinf(num_list[i]) and not math.isnan(num_list[i]):\n",
        "            if not math.isinf(num_list[i+1]) and not math.isnan(num_list[i+1]):\n",
        "                if math.isclose(num_list[i], num_list[i+1], abs_tol=1e-09):\n",
        "                    close_pairs[num_list[i]] = num_list[i+1]\n",
        "    \n",
        "    if math.isfinite(num_list[i]):\n",
        "        finite_numbers.append(num_list[i])\n",
        "    \n",
        "    ldexp_values.append(math.ldexp(num_list[i], i))\n",
        "\n",
        "for i in range(0, len(int_parts)):\n",
        "    if i != len(num_list) - 1 and int_parts[i+1] != 0:\n",
        "        gcd_values.append(math.gcd(int_parts[i], int_parts[i+1]))\n",
        "\n",
        "print(frac_parts)\n",
        "print(int_parts)\n",
        "print(ceil_values)\n",
        "print(floor_values)\n",
        "print(fabs_copysign_values)\n",
        "print(gcd_values)\n",
        "print(fmod_values)\n",
        "print(close_pairs)\n",
        "print(finite_numbers)\n",
        "print(ldexp_values)"
      ]
    }
  ],
  "metadata": {
    "colab": {
      "authorship_tag": "ABX9TyOq7QKhPjNeAeTfkcbEuGbI",
      "collapsed_sections": [
        "nLwGZB0cl6Px"
      ],
      "include_colab_link": true,
      "provenance": []
    },
    "kernelspec": {
      "display_name": "Python 3",
      "name": "python3"
    },
    "language_info": {
      "codemirror_mode": {
        "name": "ipython",
        "version": 3
      },
      "file_extension": ".py",
      "mimetype": "text/x-python",
      "name": "python",
      "nbconvert_exporter": "python",
      "pygments_lexer": "ipython3",
      "version": "3.10.7"
    }
  },
  "nbformat": 4,
  "nbformat_minor": 0
}
