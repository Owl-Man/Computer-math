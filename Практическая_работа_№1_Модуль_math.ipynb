{
  "cells": [
    {
      "cell_type": "markdown",
      "metadata": {
        "colab_type": "text",
        "id": "view-in-github"
      },
      "source": [
        "<a href=\"https://colab.research.google.com/github/Alexandre77777/computer_math/blob/main/1.%20%D0%9C%D0%BE%D0%B4%D1%83%D0%BB%D1%8C%20math/%D0%9F%D1%80%D0%B0%D0%BA%D1%82%D0%B8%D1%87%D0%B5%D1%81%D0%BA%D0%B0%D1%8F_%D1%80%D0%B0%D0%B1%D0%BE%D1%82%D0%B0_%E2%84%961_%D0%9C%D0%BE%D0%B4%D1%83%D0%BB%D1%8C_math.ipynb\" target=\"_parent\"><img src=\"https://colab.research.google.com/assets/colab-badge.svg\" alt=\"Open In Colab\"/></a>"
      ]
    },
    {
      "cell_type": "markdown",
      "metadata": {
        "id": "5RnujUcdXQsu"
      },
      "source": [
        "### Задание 1: Решение квадратного уравнения"
      ]
    },
    {
      "cell_type": "markdown",
      "metadata": {
        "id": "ON9A-LvlXV_T"
      },
      "source": [
        "Напишите функцию для решения квадратного уравнения вида $ax^2 + bx + c = 0$.\n",
        "\n",
        "Программа должна запросить у пользователя значения коэффициентов $a$, $b$, и $c$, вычислить дискриминант по формуле $D = b^2 - 4ac$, а затем найти корни уравнения. Используйте функции `sqrt` и `pow` из библиотеки `math`."
      ]
    },
    {
      "cell_type": "markdown",
      "metadata": {
        "id": "pkFrJTHxb-jx"
      },
      "source": [
        "Примеры листинга программы:\n",
        "\n",
        "\n",
        "\n",
        "```\n",
        "Введите коэффициент a: 1\n",
        "Введите коэффициент b: -2\n",
        "Введите коэффициент c: 1\n",
        "Уравнение имеет один корень: x = 1.0\n",
        "```\n",
        "\n",
        "\n",
        "\n",
        "```\n",
        "Введите коэффициент a: 1\n",
        "Введите коэффициент b: -3\n",
        "Введите коэффициент c: 2\n",
        "Уравнение имеет два корня: x1 = 2.0, x2 = 1.0\n",
        "```\n",
        "\n",
        "```\n",
        "Введите коэффициент a: 1\n",
        "Введите коэффициент b: 2\n",
        "Введите коэффициент c: 3\n",
        "Корней нет\n",
        "```\n"
      ]
    },
    {
      "cell_type": "code",
      "execution_count": 21,
      "metadata": {
        "id": "_-P5nt8tXTNv"
      },
      "outputs": [
        {
          "name": "stdout",
          "output_type": "stream",
          "text": [
            "x1 = 2.0; x2 = 1.0\n"
          ]
        }
      ],
      "source": [
        "# Ваш код\n",
        "import math\n",
        "\n",
        "a = int(input('Введите а'))\n",
        "b = int(input('Введите b'))\n",
        "c = int(input('Введите c'))\n",
        "\n",
        "D = math.pow(b, 2) - 4 * a * c\n",
        "\n",
        "if (D > 0):\n",
        "    x1 = (-b + math.sqrt(D)) / (2 * a)\n",
        "    x2 = (-b - math.sqrt(D)) / (2 * a)\n",
        "    print(f\"x1 = {x1}; x2 = {x2}\")\n",
        "elif (D == 0):   \n",
        "    x1 = (-b + math.sqrt(D)) / (2 * a)\n",
        "    print(f\"x = {x1}\")\n",
        "else:\n",
        "    print(\"Корней нет\")"
      ]
    },
    {
      "cell_type": "markdown",
      "metadata": {
        "id": "SJjSHhMTPk-K"
      },
      "source": [
        "\n",
        "\n",
        "### Задание 2: Расчет интеграла методом трапеций\n",
        "Реализуйте функцию для вычисления определенного интеграла функции $f(x)$, используя метод трапеций. Функция $f(x)$ задается внутри вашей программы (например, $f(x) = x^2$), а интервал интегрирования и количество разбиений задаются пользователем. Используйте базовые операции Python и функции из библиотеки `math` для вычислений.\n",
        "\n",
        "\n",
        "\n",
        "\n",
        "\n"
      ]
    },
    {
      "cell_type": "markdown",
      "metadata": {
        "id": "vv5aTieQajgD"
      },
      "source": [
        "Чтобы написать программу для вычисления определенного интеграла функции $f(x)$ методом трапеций, следуйте этому алгоритму:\n",
        "\n",
        "*Шаг 1*: Определение целевой функции\n",
        "  Определите функцию $f(x)$, значение которой вы хотите интегрировать. Например, $f(x) = x^2$.\n",
        "\n",
        "\n",
        "*Шаг 2*: Реализация метода трапеций\n",
        "1. Создайте функцию для вычисления интеграла, например, с именем `trapezoidal_integral`, которая принимает четыре аргумента: функцию `f`, начало интервала `a`, конец интервала `b` и количество разбиений `n`.\n",
        "2. В этой функции, рассчитайте ширину одного разбиения $h = \\frac{b - a}{n}$.\n",
        "3. Инициализируйте переменную для хранения суммы значений, например, `integral`, начальным значением которой будет среднее арифметическое значений функции на концах интервала, умноженное на $h$ и деленное на 2.\n",
        "4. Используйте цикл `for` для перебора всех точек разбиения (кроме первой и последней), добавляя в `integral` значение функции в каждой точке, умноженное на $h$.\n",
        "5. После завершения цикла, верните полученное значение интеграла."
      ]
    },
    {
      "cell_type": "code",
      "execution_count": 16,
      "metadata": {
        "id": "ieN0p64UYDRj"
      },
      "outputs": [
        {
          "name": "stdout",
          "output_type": "stream",
          "text": [
            "Значение интеграла: 1.9998355038874436\n"
          ]
        }
      ],
      "source": [
        "import math\n",
        "\n",
        "def trapezoidal_integral(f, a, b, n):\n",
        "    h = (b - a) / n\n",
        "    integral = (f(a) + f(b)) / 2\n",
        "    \n",
        "    for i in range(1, n):\n",
        "        integral += f(a + i * h)\n",
        "    \n",
        "    integral *= h\n",
        "    return integral\n",
        "\n",
        "\n",
        "def f(x):\n",
        "    return math.sin(x)\n",
        "\n",
        "a, b = 0, math.pi\n",
        "n = 100\n",
        "result = trapezoidal_integral(f, a, b, n)\n",
        "print(f\"Значение интеграла: {result}\")\n",
        "\n"
      ]
    },
    {
      "cell_type": "markdown",
      "metadata": {
        "id": "5pLFAgLcdE5Y"
      },
      "source": [
        "Проверка:\n",
        "\n",
        "Функция: $f(x) = x^2$\n",
        "\n",
        "```\n",
        "Входные данные:\n",
        "\n",
        "a = 0  # Начало интервала\n",
        "b = 1  # Конец интервала\n",
        "n = 100  # Количество разбиений\n",
        "\n",
        "Значение интеграла: 0.33335000000000015\n",
        "```\n",
        "\n",
        "Функция: $f(x) = \\sin(x)$\n",
        "\n",
        "```\n",
        "Входные данные:\n",
        "\n",
        "a = 0  # Начало интервала\n",
        "b = PI  # Конец интервала\n",
        "n = 1000  # Количество разбиений\n",
        "\n",
        "Значение интеграла: ~1.9999983550656637\n",
        "```\n",
        "\n"
      ]
    },
    {
      "cell_type": "markdown",
      "metadata": {
        "id": "525gZFYHYD1_"
      },
      "source": [
        "### Задание 3: Нахождение корней уравнения методом бисекции\n",
        "Разработайте программу для нахождения корня уравнения $f(x) = 0$ на заданном интервале с заданной точностью, используя метод бисекции. Функция $f(x)$ задается внутри программы (например, $f(x) = x^3 - x - 2$), а интервал поиска корня (начало и конец интервала) и точность задаются пользователем. Для вычислений используйте базовые операции Python и функции из библиотеки `math`.\n",
        "\n",
        "\n"
      ]
    },
    {
      "cell_type": "markdown",
      "metadata": {
        "id": "deeMps2EZg6z"
      },
      "source": [
        "**Метод бисекции** — это простой численный метод для нахождения корня функции, который заключается в последовательном делении пополам интервала, на концах которого значения функции имеют разные знаки. Алгоритм метода следующий:\n",
        "\n",
        "1. Проверяем, что на концах интервала [a, b] значения функции имеют разные знаки, т.е. $f(a) \\cdot f(b) < 0$. Если это условие не выполняется, метод бисекции не применим.\n",
        "2. Вычисляем середину интервала $c = \\frac{a + b}{2}$ и проверяем значение функции в этой точке ($f(c)$).\n",
        "3. Если $f(c) = 0$ или длина интервала $\\frac{b - a}{2}$ меньше заданной точности, то корень найден.\n",
        "4. Если $f(c) \\neq 0$, выбираем подинтервал [a, c] или [c, b], на концах которого значения функции имеют разные знаки, и повторяем шаги 2-4."
      ]
    },
    {
      "cell_type": "code",
      "execution_count": 1,
      "metadata": {
        "id": "-aNXlcMlXQZc"
      },
      "outputs": [
        {
          "name": "stdout",
          "output_type": "stream",
          "text": [
            "1.521484375\n"
          ]
        }
      ],
      "source": [
        "import math\n",
        "\n",
        "a = int(input('Введите a'))\n",
        "b = int(input('Введите b'))\n",
        "\n",
        "accuracy = float(input('Введите точность'))\n",
        "\n",
        "def f(x):\n",
        "    return math.pow(x, 3) - x - 2\n",
        "\n",
        "def bisekcia(a, b, accuracy):\n",
        "    if f(a) * f(b) >= 0:\n",
        "        print('Метод бисекции не применим')\n",
        "\n",
        "    while (b - a) / 2 > accuracy:\n",
        "        c = (a + b) / 2\n",
        "\n",
        "        if f(a) * f(c) < 0:\n",
        "            b = c\n",
        "        else:\n",
        "            a = c\n",
        "    \n",
        "    return c\n",
        "\n",
        "print(bisekcia(a, b, accuracy))"
      ]
    },
    {
      "cell_type": "markdown",
      "metadata": {
        "id": "MxcTpremfxGq"
      },
      "source": [
        "Примеры листинга программы:\n",
        "\n",
        "\n",
        "\n",
        "```\n",
        "Введите начало интервала a: 1\n",
        "Введите конец интервала b: 2\n",
        "Введите точность (например, 0.001): 0.001\n",
        "Найден корень: ~1.521484375\n",
        "```"
      ]
    },
    {
      "cell_type": "markdown",
      "metadata": {
        "id": "N226OfIShWQ9"
      },
      "source": [
        "### Задание 4: Расчет сложных процентов\n",
        "\n",
        "Написать программу для расчета итоговой суммы депозита, если известны первоначальная сумма, годовая процентная ставка и срок вклада в годах. Использовать формулу сложных процентов с ежедневной капитализацией.\n",
        "\n",
        "**Формула**: $A = P \\cdot exp(rt)$, где $P$ - первоначальная сумма, $r$ - годовая процентная ставка (в десятичной дроби), $t$ - срок вклада в годах, $A$ - итоговая сумма."
      ]
    },
    {
      "cell_type": "code",
      "execution_count": 8,
      "metadata": {
        "id": "4WPiyJBLjUMB"
      },
      "outputs": [
        {
          "name": "stdout",
          "output_type": "stream",
          "text": [
            "11051.709180756478\n"
          ]
        }
      ],
      "source": [
        "import math\n",
        "P = int(input())\n",
        "r = float(input())\n",
        "t = int(input())\n",
        "\n",
        "if P < 0 or t < 0:\n",
        "    print(\"Введены некорректные данные\")\n",
        "else:\n",
        "    print(P * math.exp(r * t))"
      ]
    },
    {
      "cell_type": "markdown",
      "metadata": {
        "id": "v0KFWVCIzvh2"
      },
      "source": [
        "\n",
        "\n",
        "```\n",
        "# Пример входных данных\n",
        "P = 10000  # первоначальная сумма\n",
        "r = 0.05   # годовая процентная ставка в десятичной форме\n",
        "t = 2      # срок вклада в годах\n",
        "\n",
        "# Пример выходных данных\n",
        "Итоговая сумма депозита: 11051.71\n",
        "```\n",
        "\n"
      ]
    },
    {
      "cell_type": "markdown",
      "metadata": {
        "id": "uZg7DKODbYJt"
      },
      "source": [
        "### Задание 5: Расчет годового процента по заданной итоговой сумме\n",
        "\n",
        "Написать программу, которая рассчитывает годовую процентную ставку по формуле сложных процентов, зная первоначальную сумму, итоговую сумму и срок вклада.\n",
        "\n",
        "**Формула**: $r = \\frac{1}{t} \\cdot log(\\frac{A}{P})$, где $P$ - первоначальная сумма, $A$ - итоговая сумма, $t$ - срок вклада в годах, $r$ - годовая процентная ставка.\n",
        "\n"
      ]
    },
    {
      "cell_type": "code",
      "execution_count": 56,
      "metadata": {
        "id": "MGnRI9j4jV0i"
      },
      "outputs": [
        {
          "name": "stdout",
          "output_type": "stream",
          "text": [
            "5.0%\n"
          ]
        }
      ],
      "source": [
        "import math\n",
        "P = int(input())\n",
        "A = float(input())\n",
        "t = int(input())\n",
        "\n",
        "r = round((1/t) * math.log(A / P), 6)\n",
        "\n",
        "print(f\"{r * 100}%\")\n",
        "\n"
      ]
    },
    {
      "cell_type": "markdown",
      "metadata": {
        "id": "NrGyrUpJ1ol8"
      },
      "source": [
        "\n",
        "\n",
        "```\n",
        "# Пример входных данных\n",
        "P = 10000  # первоначальная сумма\n",
        "A = 11051.71  # итоговая сумма\n",
        "t = 2  # срок вклада в годах\n",
        "\n",
        "# Пример выходных данных\n",
        "Годовая процентная ставка: 5.00%\n",
        "\n",
        "```\n",
        "\n"
      ]
    },
    {
      "cell_type": "markdown",
      "metadata": {
        "id": "ISJbONDvh7yk"
      },
      "source": [
        "### Задание 6: Вычисление квадратного корня при помощи итерационных методов\n",
        "\n",
        "Написать программу, которая использует метод Ньютона (метод касательных) для нахождения квадратного корня из числа, введенного пользователем. Сравнить результат с результатом, полученным при помощи функции `sqrt()`.\n",
        "\n",
        "**Формула метода Ньютона**: $x_{n+1} = \\frac{1}{2}(x_n + \\frac{a}{x_n})$, где $a$- это число, из которого мы хотим извлечь квадратный корень.\n",
        "\n",
        "Метод Ньютона (или метод касательных) - это численный метод нахождения корней уравнений. В случае извлечения квадратного корня из числа $a$, мы используем его для решения уравнения $x^2 - a = 0$."
      ]
    },
    {
      "cell_type": "markdown",
      "metadata": {
        "id": "Uy7qlc1Vi0ZF"
      },
      "source": [
        "Алгоритм:\n",
        "\n",
        "1. Напишите функцию `sqrt_newton_method(a, epsilon=1e-10)`, которая будет вычислять квадратный корень из числа `a` с заданной точностью `epsilon`, используя метод Ньютона.\n",
        "\n",
        "   Шаги для реализации метода Ньютона:\n",
        "   - Инициализируйте начальное приближение `x` значением `a`.\n",
        "   - В цикле выполняйте следующие шаги, пока разница между последовательными приближениями не станет меньше `epsilon`:\n",
        "     - Вычислите следующее приближение по формуле `next_x = 0.5 * (x + a / x)`.\n",
        "     - Проверьте условие остановки: если `abs(x - next_x) < epsilon`, выйдите из цикла.\n",
        "     - Обновите текущее приближение `x` значением `next_x`.\n",
        "   - Верните последнее вычисленное приближение `x` как результат функции.\n",
        "\n",
        "2. Напишите функцию `main()`, в которой реализуйте следующую логику:\n",
        "   - Спросите у пользователя число `a` для извлечения квадратного корня, используя ввод с клавиатуры.\n",
        "   - Вызовите функцию `sqrt_newton_method(a)` для вычисления квадратного корня из числа `a` методом Ньютона и сохраните результат в переменной.\n",
        "   - Выведите полученный квадратный корень на экран.\n",
        "   - Вычислите квадратный корень из числа `a`, используя стандартную функцию `sqrt` из модуля `math`, и сохраните результат в другой переменной.\n",
        "   - Выведите полученный квадратный корень на экран.\n",
        "   - Сравните результаты, полученные двумя методами, выведите разницу между ними на экран."
      ]
    },
    {
      "cell_type": "code",
      "execution_count": 20,
      "metadata": {
        "id": "euhduGDljXqb"
      },
      "outputs": [
        {
          "name": "stdout",
          "output_type": "stream",
          "text": [
            "Квадратный корень методом Ньютона: 1.414213562373095\n",
            "Квадратный корень с использованием math.sqrt: 1.4142135623730951\n",
            "Разница между методами: 2.220446049250313e-16\n"
          ]
        }
      ],
      "source": [
        "import math\n",
        "\n",
        "def sqrt_newton_method(a, epsilon=1e-10):\n",
        "    x = A\n",
        "\n",
        "    while True:\n",
        "        next_x = 0.5 * (x + a / x)\n",
        "\n",
        "        if (abs(x - next_x) < epsilon):\n",
        "            break\n",
        "\n",
        "        x = next_x\n",
        "\n",
        "    return x\n",
        "\n",
        "def main():\n",
        "    a = int(input())\n",
        "    sqrt_newton = sqrt_newton_method(a, 1e-20)\n",
        "    sqrt_math_lib = math.sqrt(a)\n",
        "\n",
        "    print(f\"Квадратный корень методом Ньютона: {sqrt_newton}\")\n",
        "    print(f\"Квадратный корень с использованием math.sqrt: {sqrt_math_lib}\")\n",
        "    print(f\"Разница между методами: {abs(sqrt_newton - sqrt_math_lib)}\")\n",
        "\n",
        "    \n",
        "main()\n"
      ]
    },
    {
      "cell_type": "markdown",
      "metadata": {
        "id": "2q029pUP2J3V"
      },
      "source": [
        "\n",
        "\n",
        "```\n",
        "# Пример 1\n",
        "# Входные данные:\n",
        "Введите число для извлечения квадратного корня: 25\n",
        "\n",
        "# Выходные данные:\n",
        "Квадратный корень из 25 методом Ньютона: 5.0\n",
        "Квадратный корень из 25 стандартной функцией: 5.0\n",
        "Разница между методами: 0.0\n",
        "\n",
        "# Пример 2\n",
        "# Входные данные:\n",
        "Введите число для извлечения квадратного корня: 2\n",
        "\n",
        "# Выходные данные:\n",
        "Квадратный корень из 2 методом Ньютона: 1.414213562373095\n",
        "Квадратный корень из 2 стандартной функцией: 1.4142135623730951\n",
        "Разница между методами: 2.220446049250313e-16```\n",
        "\n"
      ]
    },
    {
      "cell_type": "markdown",
      "metadata": {
        "id": "hEGfd1Uajt4L"
      },
      "source": [
        "### Задание 7: Расчет угла между двумя векторами\n",
        "\n",
        "Даны два вектора $A(x_1, y_1)$ и $B(x_2, y_2)$. Написать программу на Python, которая вычисляет угол между этими векторами.\n",
        "\n",
        "**Формула**: Угол между векторами можно вычислить, используя формулу:\n",
        "$\\theta = \\arccos\\left(\\frac{A \\cdot B}{|A| |B|}\\right) $\n",
        "где $(A \\cdot B = x_1x_2 + y_1y_2$) - скалярное произведение векторов, $(|A| = \\sqrt{x_1^2 + y_1^2}$) и $(|B| = \\sqrt{x_2^2 + y_2^2}$) - длины векторов $(A$) и $(B$) соответственно."
      ]
    },
    {
      "cell_type": "code",
      "execution_count": 96,
      "metadata": {
        "id": "VkNn7RGdj7cF"
      },
      "outputs": [
        {
          "name": "stdout",
          "output_type": "stream",
          "text": [
            "Угол 70.3461759419467\n"
          ]
        }
      ],
      "source": [
        "import math\n",
        "\n",
        "x1, y1 = map(int, input(\"Введите координаты вектора A (x1, y1): \").split())\n",
        "x2, y2 = map(int, input(\"Введите координаты вектора B (x2, y2): \").split())\n",
        "\n",
        "AB = x1 * x2 + y1 * y2\n",
        "\n",
        "A_Length = math.sqrt(x1**2 + y1**2)   \n",
        "B_Length = math.sqrt(x2**2 + y2**2)\n",
        "\n",
        "angle = math.degrees(math.acos(AB / (A_Length * B_Length)))\n",
        "\n",
        "if (math.isclose(angle, 0, abs_tol=1e-5)):\n",
        "    angle = 0\n",
        "\n",
        "print(f\"Угол {angle}\")"
      ]
    },
    {
      "cell_type": "markdown",
      "metadata": {
        "id": "zzvx_2hE3APe"
      },
      "source": [
        "```\n",
        "# Пример 1:\n",
        "# Входные данные\n",
        "Вектор A с координатами (3, 0)\n",
        "Вектор B с координатами (0, 4)\n",
        "\n",
        "# Выходные данные\n",
        "Угол между векторами: 90.0 градусов\n",
        "\n",
        "# Пример 2:\n",
        "# Входные данные\n",
        "Вектор A с координатами (5, 5)\n",
        "Вектор B с координатами (5, 5)\n",
        "\n",
        "# Выходные данные\n",
        "Угол между векторами: 0.0 градусов\n",
        "\n",
        "# Пример 3:\n",
        "# Входные данные\n",
        "Вектор A с координатами (2, 3)\n",
        "Вектор B с координатами (4, -1)\n",
        "\n",
        "# Выходные данные\n",
        "Угол между векторами: приблизительно 70.3461759419467 градусов\n",
        "```"
      ]
    },
    {
      "cell_type": "markdown",
      "metadata": {
        "id": "OyehGOeQfO1h"
      },
      "source": [
        "### Задание 8: Расчет координат точки на окружности\n",
        "\n",
        "Дана окружность с центром в точке $O(0, 0)$ и радиусом $R$, и угол $\\theta$ в градусах, отсчитываемый от положительного направления оси X. Написать программу на Python для расчета координат точки $P(x, y)$, находящейся на этой окружности.\n",
        "\n",
        "**Формула**: Координаты точки $P$ можно вычислить следующим образом:\n",
        "$x = R \\cdot \\cos(\\theta_{рад})$,\n",
        "$y = R \\cdot \\sin(\\theta_{рад})$,\n",
        "где $\\theta_{рад}$ - угол в радианах, который можно вычислить, используя функцию перевода из градусов в радианы, что была упомянута в теории."
      ]
    },
    {
      "cell_type": "code",
      "execution_count": 90,
      "metadata": {
        "id": "mqM7J6bvtHTD"
      },
      "outputs": [
        {
          "name": "stdout",
          "output_type": "stream",
          "text": [
            "Координаты точки P: (1.0, 0.0)\n"
          ]
        }
      ],
      "source": [
        "import math\n",
        "\n",
        "R = int(input())\n",
        "theta = int(input())\n",
        "\n",
        "x = round(R * math.cos(math.radians(theta)), 6)\n",
        "y = round(R * math.sin(math.radians(theta)), 6)\n",
        "\n",
        "print(f\"Координаты точки P: ({x}, {y})\")"
      ]
    },
    {
      "cell_type": "markdown",
      "metadata": {
        "id": "vf0bV5gp6srb"
      },
      "source": [
        "\n",
        "\n",
        "```\n",
        "# Пример входных-выходных данных\n",
        "\n",
        "# Пример 1\n",
        "# Входные данные:\n",
        "Радиус R = 5\n",
        "Угол theta = 45 градусов\n",
        "\n",
        "# Выходные данные:\n",
        "Координаты точки P: (3.5355339059327378, 3.5355339059327378)\n",
        "\n",
        "# Пример 2\n",
        "# Входные данные:\n",
        "Радиус R = 10\n",
        "Угол theta = 90 градусов\n",
        "\n",
        "# Выходные данные:\n",
        "Координаты точки P: (0.0, 10.0)\n",
        "\n",
        "# Пример 3\n",
        "# Входные данные:\n",
        "Радиус R = 1\n",
        "Угол theta = 0 градусов\n",
        "\n",
        "# Выходные данные:\n",
        "Координаты точки P: (1.0, 0.0)\n",
        "\n",
        "```\n",
        "\n"
      ]
    },
    {
      "cell_type": "markdown",
      "metadata": {
        "id": "7nd3IQvSlWfi"
      },
      "source": [
        "### Задание 9: Вычисление вероятности ошибки в теории вероятностей\n",
        "\n",
        "В теории вероятностей функция ошибок `erf(x)` часто используется для вычисления вероятностей, связанных с нормально распределенными случайными переменными. Напишите программу на Python, которая использует `math.erf(x)` для вычисления вероятности того, что случайная величина $Z$, следующая стандартному нормальному распределению, окажется в интервале от $-x$ до $x$.\n",
        "\n",
        "**Формула**:\n",
        "$P(-x \\leq Z \\leq x) = \\frac{1}{2} \\left[ \\text{erf}\\left(\\frac{x}{\\sqrt{2}}\\right) - \\text{erf}\\left(\\frac{-x}{\\sqrt{2}}\\right) \\right]$"
      ]
    },
    {
      "cell_type": "code",
      "execution_count": 95,
      "metadata": {
        "id": "dYOYeIU_tKLs"
      },
      "outputs": [
        {
          "name": "stdout",
          "output_type": "stream",
          "text": [
            "вероятность = 0.9544997361036417\n"
          ]
        }
      ],
      "source": [
        "x = int(input())\n",
        "\n",
        "print(f\"вероятность = {1/2 * (math.erf(x / math.sqrt(2)) - math.erf(-x / math.sqrt(2)))}\")"
      ]
    },
    {
      "cell_type": "markdown",
      "metadata": {
        "id": "g3zmjvBj7eky"
      },
      "source": [
        "\n",
        "\n",
        "```\n",
        "# Примеры входных и выходных данных\n",
        "\n",
        "# Входные данные: x = 1\n",
        "# Выходные данные: вероятность = 0.6826894921370859\n",
        "\n",
        "# Входные данные: x = 2\n",
        "# Выходные данные: вероятность = 0.9544997361036416\n",
        "\n",
        "# Входные данные: x = 0\n",
        "# Выходные данные: вероятность = 0.0\n",
        "```\n",
        "\n"
      ]
    },
    {
      "cell_type": "markdown",
      "metadata": {
        "id": "H3oPpRd5j0Z2"
      },
      "source": [
        "### Задание 10. Практическое применение: расчет объемов n-мерных сфер\n",
        "\n",
        "Гамма-функция находит применение в формуле для расчета объема n-мерной сферы радиуса R: $V_n(R) = \\frac{\\pi^{n/2} R^n}{\\Gamma(\\frac{n}{2} + 1)}$. Напишите функцию на Python, которая принимает в качестве параметров размерность пространства `n` и радиус `R`, а затем вычисляет и возвращает объем n-мерной сферы, используя гамма-функцию."
      ]
    },
    {
      "cell_type": "code",
      "execution_count": 101,
      "metadata": {
        "id": "5pPM-uJitV9-"
      },
      "outputs": [
        {
          "name": "stdout",
          "output_type": "stream",
          "text": [
            "Объем 10-мерной сферы радиуса 2.0: 2611.3679768344014\n"
          ]
        }
      ],
      "source": [
        "def n_sphere_volume(n, R):\n",
        "    return (math.pi**(n/2) * R**n) / math.gamma(n / 2 + 1)\n",
        "\n",
        "n = int(input(\"n: \"))\n",
        "R = float(input(\"R: \"))\n",
        "\n",
        "print(f\"Объем {n}-мерной сферы радиуса {R}: {n_sphere_volume(n, R)}\")"
      ]
    },
    {
      "cell_type": "markdown",
      "metadata": {
        "id": "E0_SrXl-9HuZ"
      },
      "source": [
        "```\n",
        "# Примеры входных и выходных данных\n",
        "# Пример 1\n",
        "# Входные данные:\n",
        "n1 = 2\n",
        "R1 = 1\n",
        "# Выходные данные:\n",
        "Объем 2-мерной сферы радиуса 1: 3.141592653589793\n",
        "\n",
        "# Пример 2\n",
        "# Входные данные:\n",
        "n2 = 3\n",
        "R2 = 1\n",
        "# Выходные данные:\n",
        "Объем 3-мерной сферы радиуса 1: 4.1887902047863905\n",
        "\n",
        "# Пример 3\n",
        "# Входные данные:\n",
        "n3 = 10\n",
        "R3 = 2\n",
        "# Выходные данные:\n",
        "Объем 10-мерной сферы радиуса 2: 2611.3679768344014\n",
        "\n",
        "```"
      ]
    },
    {
      "cell_type": "markdown",
      "metadata": {
        "id": "Gpta9ZTenjdY"
      },
      "source": [
        "### **Комплексное задание: Анализ функций и их применение**\n",
        "\n",
        "**Цель задания:** Применить различные математические функции из модуля `math` в Python, включая округление и сравнение, экспоненциальные и логарифмические функции, а также тригонометрические функции и их обратные аналоги.\n",
        "\n",
        "**Задача:** Вы разрабатываете программу для анализа погодных условий на различных планетах. Программа должна учитывать угол падения солнечных лучей, интенсивность солнечного света и атмосферное давление, чтобы рассчитать эффективную температуру на поверхности планеты в определенный момент времени.\n",
        "\n",
        "1. **Исходные данные:**\n",
        "    - Угол падения солнечных лучей к поверхности (в градусах) (a).\n",
        "    - Интенсивность солнечного света (в ваттах на квадратный метр) \\( I \\).\n",
        "    - Атмосферное давление на уровне моря (в паскалях) \\( P \\).\n",
        "\n",
        "2. **Расчеты:**\n",
        "\n",
        "    a. Используйте тригонометрические функции (`math.sin`, `math.cos`) для расчета эффективного угла падения солнечных лучей в радианах:\n",
        "    \n",
        "      ![image.png](data:image/png;base64,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)\n",
        "      \n",
        "      ![image.png](data:image/png;base64,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)\n",
        "\n",
        "    b. Примените экспоненциальную функцию (`math.exp`) для оценки влияния атмосферного давления на распространение солнечного света:\n",
        "\n",
        "      ![image.png](data:image/png;base64,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)\n",
        "\n",
        "    c. Вычислите интенсивность солнечного света на поверхности, учитывая атмосферное давление и угол падения. Используйте логарифмическую функцию (`math.log`) для моделирования затухания света в атмосфере:\n",
        "\n",
        "      ![image.png](data:image/png;base64,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)"
      ]
    },
    {
      "cell_type": "markdown",
      "metadata": {
        "id": "3irprKAxxcCS"
      },
      "source": [
        "3. **Округление и сравнение:**\n",
        "    - Округлите конечный результат до двух знаков после запятой с использованием `round`.\n",
        "    - Сравните полученную температуру с температурой замерзания воды (0 градусов Цельсия), используя соответствующие сравнения, и определите, существует ли на планете вода в жидком состоянии.\n",
        "\n",
        "4. **Вывод:**\n",
        "    - На основе проведенных расчетов программа должна выводить эффективную температуру на поверхности планеты и делать вывод о наличии жидкой воды.\n",
        "\n",
        "**Ход работы:**\n",
        "\n",
        "- Напишите функцию `calculate_temperature(angle, intensity, pressure)`, которая принимает угол падения солнечных лучей, интенсивность солнечного света и атмосферное давление в качестве аргументов.\n",
        "- Внутри функции проведите необходимые расчеты и верните округленную эффективную температуру на поверхности планеты."
      ]
    },
    {
      "cell_type": "code",
      "execution_count": 111,
      "metadata": {
        "id": "rGLRw1Pazivl"
      },
      "outputs": [
        {
          "name": "stdout",
          "output_type": "stream",
          "text": [
            "199.9387948461159\n"
          ]
        }
      ],
      "source": [
        "def calculate_temperature(angle, intensity, pressure):\n",
        "    theta = (math.pi * angle) / 180\n",
        "    pressure_eff = math.exp((-pressure) / 101325)\n",
        "    surface_intensity = intensity * math.sin(theta) * math.log(pressure_eff + 1)\n",
        "\n",
        "    const_steffan_bolz = 5.67 * 10**-8\n",
        "\n",
        "    return math.pow(surface_intensity * math.cos(theta) / const_steffan_bolz * pressure_eff,0.25)\n",
        "    #return math.pow(surface_intensity / const_steffan_bolz, 0.25)\n",
        "\n",
        "\n",
        "print(calculate_temperature(int(input()), int(input()), int(input())))"
      ]
    },
    {
      "cell_type": "markdown",
      "metadata": {
        "id": "5JGzg3RS_8TV"
      },
      "source": [
        "\n",
        "\n",
        "```\n",
        "# Пример №1\n",
        "#Входные данные:\n",
        "Угол: 45\n",
        "Интенсивность: 1361\n",
        "Давление: 101325\n",
        "\n",
        "#Выходные данные:\n",
        "Эффективная температура на поверхности: 301.47°C. На планете может существовать вода в жидком состоянии.\n",
        "\n",
        "# Пример №2\n",
        "#Входные данные:\n",
        "Угол: 187\n",
        "Интенсивность: 6500\n",
        "Давление: 101325\n",
        "\n",
        "#Выходные данные:\n",
        "Эффективная температура на поверхности: -248.15°C. Жидкой воды на планете не существует.\n",
        "\n",
        "# Пример №3\n",
        "#Входные данные:\n",
        "Угол: 210\n",
        "Интенсивность: 24000\n",
        "Давление: 101325\n",
        "\n",
        "#Выходные данные:\n",
        "Эффективная температура на поверхности: -3759.14°C. Жидкой воды на планете не существует.\n",
        "```\n",
        "\n"
      ]
    },
    {
      "cell_type": "markdown",
      "metadata": {
        "id": "nLwGZB0cl6Px"
      },
      "source": [
        "# Дополнительно:"
      ]
    },
    {
      "cell_type": "markdown",
      "metadata": {
        "id": "tok0rhVPbOjb"
      },
      "source": [
        "### Комплексное задание: Анализ и обработка числовой последовательности\n",
        "\n",
        "#### Цель:\n",
        "Разработка программы для анализа и обработки заданной числовой последовательности с использованием представленных математических функций.\n",
        "\n",
        "#### Задачи:\n",
        "1. **Подготовка данных:**\n",
        "   - Получить последовательность чисел от пользователя или сгенерировать случайную последовательность вещественных чисел.\n",
        "\n",
        "2. **Обработка данных:**\n",
        "   - Используя функцию `modf`, разделить каждое число на дробную и целую части.\n",
        "   - Для каждой дробной части применить округление вверх (`ceil`) и вниз (`floor`), сравнивать результаты и записывать в отдельные списки.\n",
        "   - Для каждой целой части вычислить абсолютное значение с помощью `fabs` и затем использовать `copysign`, чтобы присвоить знак следующего числа в последовательности. Если такового нет, использовать знак предыдущего.\n",
        "\n",
        "3. **Анализ данных:**\n",
        "   - Вычислить НОД (`gcd`) для пар целых частей, начиная с первого элемента.\n",
        "   - Для каждого числа использовать `fmod`, чтобы найти остаток от деления на следующее число в последовательности. Если следующего числа нет, использовать первое.\n",
        "   - Проверить, есть ли в последовательности бесконечные (`isinf`) или нечисловые значения (`isnan`), и исключить их из дальнейшего анализа.\n",
        "   - Использовать `isclose` для сравнения каждого числа с последующим, учитывая приближённое равенство. Зафиксировать пары чисел, которые удовлетворяют этому условию.\n",
        "\n",
        "4. **Дополнительная обработка:**\n",
        "   - Для каждого числа в последовательности использовать `ldexp`, чтобы умножить его дробную часть на 2 в степени, равной его порядковому номеру в последовательности (начиная с 0).\n",
        "   - Проверить каждое число на конечность (`isfinite`) и записать в новый список только конечные числа.\n",
        "\n",
        "5. **Вывод результатов:**\n",
        "   - Вывести исходную последовательность.\n",
        "   - Вывести отдельные списки, полученные в результате обработки данных.\n",
        "   - Вывести анализ данных, включая пары чисел, удовлетворяющих условию приближённого равенства, и список конечных чисел.\n",
        "   - Вывести результаты дополнительной обработки.\n",
        "\n",
        "#### Технические требования:\n",
        "- Программа должна быть написана на Python.\n",
        "- Использовать модуль `math` для математических функций.\n",
        "- Предусмотреть обработку исключений для нечисловых входных данных.\n",
        "- Предусмотреть интерактивный ввод последовательности чисел или возможность генерации случайной последовательности."
      ]
    },
    {
      "cell_type": "code",
      "execution_count": 48,
      "metadata": {},
      "outputs": [
        {
          "name": "stdout",
          "output_type": "stream",
          "text": [
            "[0.0898682036742855, -0.05856930401267846, 0.7639276763505904, -0.625052162404856, -0.4569536015877702, 0.9656920313245934, 0.6168161060192574, 0.611897664605948, 0.6874466865290003, -0.24677794563689304, 0.19769893547370998, -0.017400343901925908, -0.9420525105596198, -0.8783519344745514, -0.7969503823455852, 0.6009108242514003, -0.6640091135832336, -0.9649171896190509, 0.5692808844666501, 0.571254682582861, 0.5493295539341574, 0.174804131012678, 0.5794497670715657, -0.7788782969136463, -0.7701336769368936, 0.5778930948967513, 0.8134703486875026, 0.45264202070433157, -0.6182398984148989, -0.7356929213080292, 0.6059357444836451, 0.02443276139564432, -0.8198704579344138, -0.8755677818119949, 0.9320133695563868, 0.8861507881045441, -0.7155897641820985, 0.159104332998524, 0.4937040168184694, 0.6712762001388342, -0.7790966208801535, 0.5542901240458491, 0.11913836071019546, -0.25250011562302177, -0.14831544031715538, -0.49916520252914154, 0.5316053428262819, 0.09190124277560585, 0.22196686616513261, -0.6795197292938724, -0.5121706210397861, -0.8189477347739995, -0.8087978551918553, -0.21989836657175488, -0.2807989083809872, -0.6453448414403908, -0.3969489238263719, -0.9467988800953151, 0.89637044893027, 0.9400740934511873, 0.2774349112461323, -0.5512428982763282, 0.9053906508389247, 0.8610938126129213, -0.7282311568787492, 0.7791647644576472, -0.6357800577207939, 0.18782463653383275, 0.7771390125336097, 0.6350826919989458, -0.5929540906092967, 0.06850114132268459, 0.7558488031537252, 0.6395601755857285, 0.4882300689508696, 0.921383371883195, 0.07079329274512247, -0.06385500537014366, 0.581609516192799, 0.7239750043000015, -0.5567405925893354, -0.27679749457992386, 0.9472711660420998, 0.38856983920263133, 0.7192436301049554, -0.1613111852296072, 0.44786329160655214, 0.6055828088106239, 0.5501796963157801, -0.41772723857717153, 0.4878383731621341, 0.809167986560027, -0.555905433731084, -0.15546238368054333, -0.9438830640485207, -0.6512586511638929, -0.5406589678770146, 0.07983872790342161, -0.5280511287056697, 0.34335858579319734, 0.45775714412647517, 0.08298636284956729, 0.23588011430209121, 0.4053991970589266, -0.3982356074921256, 0.9287989352582287, 0.9218267127203035, 0.5159964537363493, 0.656882700043866, -0.45946788718021736, 0.586526029225638, 0.6814207502549152, 0.2959388907461289, 0.3742771078127589, 0.5902792765041909, 0.769728181224707, 0.6631175919507655, 0.42425127312736777, 0.15657298859608204, -0.444265414588628, -0.46069076188720715, -0.4295649539314823, 0.8109968092899749, 0.8682678765763967, 0.15228727148485177, 0.4700776309149717, 0.3361042728153052, -0.3128462571078643, -0.060187528246061106, 0.35192040731992336, -0.2685275199259962, 0.4379403289887307, -0.3938446139697902, -0.7192051115045217, 0.7673820351011216, -0.7275126090966779, -0.2745716739487989, -0.5162401915110593, 0.7645408065233426, 0.46104365076769227, 0.16682442549333132, -0.9663382356019525, 0.8292361243981929, -0.4789284881648399, -0.3144602111807018, 0.4098027031859033, 0.28452083659746563, -0.7438439721184693, 0.44643130778470663, 0.7857989549042088, -0.9757852040222019, -0.16718386143377018, 0.14299833553820918, 0.16345906648766118, 0.5098821269876623, -0.23320283726825863, -0.43564082135736726, 0.3841507799079409, -0.5641496910980663, 0.1555431277791115, -0.7367203868303847, -0.5225115937482769, -0.04230366123168494, 0.7347644624568659, -0.956671324472623, 0.37784900773087315, 0.2923678437027917, 0.8414033534176468, 0.06187651694528995, 0.4875739578181708, -0.9842235813140832, 0.8852304440410705, 0.8931009817957261, 0.26614604188608837, -0.9291534705354252, -0.8222740223248621, -0.9121798401523193, 0.4938819559073977, 0.928340107783697, -0.698206640318908, 0.8915932101995452, 0.6964250332541155, -0.9180205323158503, -0.18026591538798442, 0.6995466338336485, 0.9959071393302565, -0.5750383997257487, -0.7865473896315223, 0.3083169364635552, 0.3669888731249955, 0.15352440294114444, 0.20395286486302666, -0.8320230929666366, -0.5612037815429005, 0.2613194661854976, 0.7240047713531794, 0.6749223557521589, -0.7663526503643254, 0.3939771919102668, -0.4003403701989683, -0.6161865876056538, 0.21324226758360965, 0.11196992781106019, -0.4981856214276803, 0.35019894735660273, -0.6318808167188052, 0.20499373352762973, 0.3151840920794342, -0.27800876862986, -0.09142739994931048, -0.7898999211663238, 0.3724140184426403, 0.8003078100583707, 0.9207260890406985, 0.3893212891147755, 0.7686791074741848, 0.5409388758344846, -0.24345356536017704, 0.3103184925797109, -0.7010834028970407, -0.12718569115196487, 0.08535296549901261, 0.38121433369704505, -0.0699895041192633, 0.6691905333703971, -0.6328775899579, 0.7092616930337101, 0.7341329743308904, -0.8359804459142595, 0.8922360928320927, 0.07949525764354348, 0.5482529039253166, -0.908148982634998, 0.2374616466746886, -0.6773776719531526, 0.18113503249384166, 0.887788652665165, -0.5367418254533334, -0.8959802842245352, -0.2872246698071592, 0.9433714599738607, 0.5899542447769193, -0.4215403620172111, -0.44448023140606097, -0.9457241813340289, 0.06928741861062804, -0.7630526828029929, -0.2540075260143482, -0.13869849926608424, -0.7198050149623327, -0.490340065712374, 0.08455349631671538, -0.07031625577677403, -0.8071411685243959, -0.2484001192250389, -0.7201765311990158, -0.2329935733371684, 0.36847967622858846, -0.4551153240871457, -0.9523863648096338, -0.13414838421789455, 0.5269053775540442, -0.49197148291602133, 0.9009704041495752, 0.8110109641635006, 0.8561052527145989, -0.3167828534881494, 0.565744062619217, 0.9540404156683735, 0.5766958213440176, -0.3050697112082901, 0.9980057314997737, 0.9384118307376639, -0.7845014681251001, 0.09764179870242629, 0.30452396181098607, -0.6727521993741732, 0.8966769852981713, 0.8742694842628964, 0.7955862590451801, 0.7953686822309862, -0.6600414126482264, 0.8587531155814645, 0.44896722261538, -0.1206150882922401, -0.7048575069221528, 0.19088589849840787, 0.7974473063484027, -0.6605169869538301, -0.7177771386210026, -0.4765246599737978, -0.8368822773386313, -0.01874361620041043, 0.8735512256589857, -0.6074510611752544, 0.3842149996609976, -0.8026102635979413, 0.9955980823106643, 0.34918076704786927, 0.45809594156588673, 0.34457845596055847, 0.6556190004839948, -0.6842300088262192, -0.7400764951741863, -0.21885997725227924, -0.013801191615883113, 0.4280466390014368, -0.6144978238023526, -0.5603136765820977, -0.44676778291663766, 0.38509012215959615, -0.12474535495212535, 0.8846849967578692, -0.15651775409884294, -0.6545201185429477, 0.3148201929080585, -0.060792345677555204, -0.6303757842042614, -0.8826001447690999, 0.29485498573265545, 0.30796999727876084, -0.5149613742757779, -0.24145820953603447, 0.704333747186837, -0.4255951372538789, -0.8710029564254, 0.9025614834780527, 0.8552975623968564, -0.7591255354152509, -0.3655197661122429, 0.558785607506195, -0.09020923612409604, -0.4024198305734501, -0.5697694070618695, -0.6947983883316056, -0.2825696572728802, -0.7819448376358906, -0.5915215462043477, 0.30270101162500396, 0.1743331589727859, -0.14564970282896184, -0.5416229594316349, -0.8552992945792965, 0.41403041748394287, -0.5646925835301175, -0.5424199974500254, -0.5237622925173326, -0.6257101167504828, 0.11087197384577507, 0.13499404677267535, -0.5705230369746062, -0.22681279312980962, -0.8597194760504436, -0.8515400078026261, -0.17048146451651291, 0.923432255669951, -0.7084400440146013, 0.9521311335996074, 0.2526723600188774, -0.4420276584695273, 0.15738540573667592, 0.854184462540502, -0.17199367588861492, 0.8839427078879964, 0.6592742563710772, 0.15142799162535425, 0.08088594712020836, 0.8682193474410553, 0.32472592449754245, 0.6911040477837105, 0.572923768117434, 0.20857417050314098, 0.38018690928112164, 0.3040139429550095, -0.9701423262289097, 0.9337524870210245, -0.5718538317090065, 0.6754236011425974, -0.6203128845736643, 0.6384706821960435, -0.7865180516048014, 0.6857127442873434, 0.7664247140248222, -0.22996799088100772, -0.3286914110900625, 0.5032337367927653, 0.8646742896826254, -0.4379265078558632, -0.2634046246586763, -0.08002670704181014, -0.24687124595948262, 0.40640230530993904, 0.6798964235676408, 0.8153834229946995, 0.16826302088691136, -0.8398995609274209, -0.15951610609820932, 0.13323777062083764, -0.3256136967906258, -0.4692824112354259, -0.2891902363305121, 0.4828873025279563, 0.2515965316766824, 0.9072056374527904, -0.9432092305380095, 0.4323135992738685, -0.17323946633466392, 0.7942274640003006, 0.22985864675527523, -0.7050644400430883, -0.49964667640435323, -0.6706286091727804, 0.4586104050205222, 0.6851007596800116, -0.911706939229731, 0.4289991318561732, -0.9017972754389234, -0.521241187215935, -0.5800394586092423, 0.7590923471779263, 0.8580646564814742, 0.07590905159082695, 0.6746526840011029, -0.8998697536539382, -0.7756179262049869, 0.15685845080381, -0.6521043960999577, 0.7319712784140506, 0.5339474727022946, -0.8237546800286566, -0.346095051789149, 0.36398912934257055, 0.8545213633321964, -0.7717801798343658, 0.07521172339912141, 0.44246399301270856, -0.44270431906392105, 0.12995059691456845, -0.6244565108904112, 0.8323139019957466, -0.05727966629362413, 0.9634390650945903, -0.0650946772990153, -0.9323855900381943, 0.6971296800122815, -0.0424834249880206, 0.7094717992833353, -0.64867439476604, -0.9059507079180662, -0.046597866632822615, -0.6205672092510071, -0.5854664988535774, 0.4655866623933491, 0.11155039583383086, 0.2390689020644743, -0.5178649302377636, 0.9320465625619647, 0.8732700978546006, -0.43032080099916925, -0.742995999108544, -0.8122549969928627, 0.8640395001204979, -0.4677570820281858, -0.3286120533808372, 0.6760227554039204, 0.058595358686631016, 0.10863320775163743, 0.45698496546503975, -0.21435543218237285, -0.060221766770347074, -0.8550720134589938, 0.41965524615829963, 0.1486434447918441, -0.7327031231004071, 0.9695130666810599, 0.06606055942057765, -0.6327463739820445, 0.8618198993006274, 0.5335421351535672, -0.6204598905609302, -0.7178849754418266, 0.33579530548999514, -0.7621953567242343, 0.860001927274368, -0.03876443506096905, 0.3200599567290965, 0.6026716362751188, -0.5021118065926871, -0.9544624330236644, 0.0006033628821739967, -0.3833589625563718, 0.9749911726203209, 0.5628741201994671, 0.5996015688424734, -0.5997135663586164, -0.3789461280841664, -0.2513448043182933, 0.3711082999766404, 0.8292858238225165, -0.342211673976891, -0.32940675244910267, 0.9374724743061336, -0.28336288805896004, -0.13152539193777102, -0.469635096666984, -0.5952036571577253, -0.9891313505661259, 0.7131393751133146, 0.10312316645385522, 0.8196057769057887, 0.04435334418776904, -0.09844184709744752, 0.17534279231853134, -0.24566803298050388, -0.029183270379334658, -0.9149254725081732, -0.1823509015074194, 0.6299088636547907, -0.5756125424791918, 0.051736591130008946, 0.2694522263404906, -0.03006823571818984, 0.47422703627125884, -0.06570986935847145, 0.4486397949708305, -0.9616021420085161, 0.46560287401064215, 0.9605071223879236, 0.6989958080532119, 0.44552961668028956, -0.5790772404118911, -0.4844825192869422, 0.5566130717725883, 0.17084372502111478, 0.8703074731398033, 0.495457051714169, -0.6573218889390589, 0.3380973004806833, -0.7101573326269346, 0.8593614602030613, -0.14327303504002487, -0.9448151136481897, 0.6656808337308746, 0.922430892880385, 0.8296025125220297, 0.3203247272181784, 0.04726308394677403, -0.6436837828777371, 0.1775838530653573, 0.23927802667378728, -0.6849109559888547, -0.44717126322521494, -0.4147819478242383, 0.9257189973737923, 0.18611412119511783, 0.36775306136919994, 0.3502459259861439, 0.8774151153486542, 0.6776456608048989, 0.6991428515606941, 0.9689075648384744, 0.8082432517864362, -0.3245039185248828, 0.34026605346829797, 0.6576741338386967, 0.6125239770108379, -0.949634464488355, 0.12674915856700864, -0.36356365388006395, 0.7812020786491587, 0.33255884721521056, 0.488235205411911, 0.38776775618563875, 0.07252644865874913, -0.8092318834062695, 0.2746246943533208, 0.7680000001880387, 0.5794839020632594, 0.9065698602660177, 0.8977314110857719, -0.5458238697591469, 0.5555188450296953, -0.7662074083614527, -0.287529200942906, -0.9427693299605053, 0.10172518206329073, -0.10648917367787192, -0.8162294235586103, 0.4287271940486903, -0.519805794813891, 0.7846519036062602, 0.7039893004320561, -0.2592169939931068, -0.9391671601474343, -0.0706411630076218, 0.12516322330985474, 0.11742179845273881, 0.46740093256030946, 0.7599842236914185, -0.8986112000729065, 0.04797806344046762, -0.6872519194820086, -0.7843528107785573, 0.10335000366417546, -0.3381264552235024, -0.9174045733825267, 0.27136100551129516, 0.2681703548919643, 0.14178594824846869, -0.7493124442652004, -0.7053195180174754, 0.3625625991528807, -0.39362376022683065, -0.8069501623500273, -0.46837014619325146, 0.7358016670126801, 0.5055573207803832, 0.11495642819920704, -0.5004582022093587, -0.7535206998735475, 0.04518601022681423, 0.5917678805975868, -0.6920304020464414, 0.31003884359068934, 0.8939875151726397, 0.8115518792394028, 0.5796309176150203, 0.9137269220032636, -0.00769715965201101, 0.0420527060635294, 0.8821745688620979, 0.9426814678053006, 0.20260151364280432, 0.06394194247860696, 0.2236373522670192, 0.36543054489328597, -0.853413014778333, 0.6162865078774189, -0.8336567755220301, 0.5765566076714208, 0.47938547475507676, -0.5764035481391687, -0.7611549085271889, -0.27196423469517583, 0.47184283094266277, -0.9201012823290284, 0.266911377912578, -0.6303835561821813, -0.22702050689993314, -0.8543669396742359, 0.22662445512810336, 0.17590316059315114, -0.9128857391477112, 0.09544979706404888, -0.2633374235813051, -0.04737455272358204, 0.0028141538867885174, -0.4245315531045435, -0.6754743816974269, -0.2212137506454468, -0.1564681902025029, 0.4061676090045978, 0.8889748875553778, 0.9086160368362357, 0.9225558082808902, -0.7499619825395882, 0.24744831368923315, 0.7596190258059892, -0.39860014622129825, 0.22749065844094218, -0.5803977391702801, 0.5034642693087221, 0.3628474854892545, 0.281602254691137, 0.3524104613426431, 0.9837280427869644, -0.0607722763938483, -0.6284036300606886, 0.38918947796250336, -0.9184145118423217, 0.07552655212842296, -0.8927174399603217, 0.6601996949619036, 0.01984636531020101, 0.02107754719608579, 0.025043149325398417, 0.616801371927366, 0.4289791698552108, -0.3228464699700453, 0.38352119695380793, -0.18873578174917327, 0.4628146061698999, 0.8575476828501678, -0.6525121308068265, -0.22878082148855583, 0.943155887337582, 0.6267785341642025, -0.6932364127780346, -0.587508338876745, -0.24294844605938692, -0.9173242682881764, -0.4109219313144905, -0.04235278881044735, -0.6862595779353668, -0.9751185303958465, 0.5874976720957221, -0.5657223707075474, -0.8370144229723735, 0.7757030719987199, 0.4146074640632662, -0.7627029618600432, -0.06928807424289118, 0.15865412269677392, -0.11361919168514589, -0.26399260120858514, 0.11430949808587343, 0.8648039949368211, -0.27524940882649673, -0.9879753118209322, 0.34764338125435756, -0.3692931415685905, 0.7531668729156422, 0.780412545746259, 0.5023483012247709, 0.08437028373907651, -0.471972060580768, 0.9727592287235609, -0.9390129339283249, 0.9770482190692178, 0.8096549183172215, -0.37839057538246834, 0.9755684292780415, 0.39830949557014605, -0.781191183077965, -0.7902567619420182, -0.583235313465309, 0.7204769361237311, 0.4171453493571562, 0.6202722808595524, -0.8094686620267737, 0.5011509108722976, -0.4526476100272845, -0.24392286612408043, 0.6252100174067436, -0.3431747116067214, -0.7541230219870059, 0.5728362406874226, -0.3963899955646113, -0.5055120265199946, 0.9152048915452724, -0.6523287533735669, -0.06980017706702313, -0.911164839102355, -0.9401219622026531, 0.7977794868719457, -0.29595889144994203, -0.8987109216105296, -0.018792486559561894, 0.3859636953039285, 0.7791326541182002, 0.5533120749636282, 0.5136054161976062, 0.14134722695266078, 0.43854486471084897, 0.0836708018030663, 0.42693170860619034, 0.273743145468643, -0.7425306230271502, 0.26977010894663067, -0.012433916118808952, 0.8212546917263523, 0.7536055947546458, -0.3458396583670975, 0.5541009137975266, -0.7969738540805622, -0.003996287220331851, -0.5444014756979101, 0.4255848034042913, -0.5854850910035196, 0.3027433395324124, 0.48898224624845454, -0.17497682638892798, 0.1935503379667125, -0.07013233934107177, 0.6525337162976541, 0.927046638222123, -0.8298136476263807, 0.0931007205652179, 0.031600572409729466, -0.8894589092087273, -0.6443393360560989, 0.8839584945488497, 0.9494700238217035, -0.5685099252162829, 0.3199919745869977, 0.6349404652429484, -0.8656180052932001, 0.06859907838367008, 0.20097112387648508, 0.9481613051871136, 0.8538677796378238, -0.11035855860318122, -0.7907071555759586, -0.32466068993389285, -0.3740459947148338, -0.517445120736653, -0.36604198808569066, -0.9508259956891862, -0.7379628510477971, -0.9630414982902238, -0.9276391747641952, 0.4671283510023443, -0.6644128762562502, 0.5452914597494782, -0.8658473101492064, 0.332691683468596, 0.8576578730362598, 0.4539613524922572, 0.38280684569272694, -0.8371762919451555, 0.9947276326640804, 0.31074896982086386, -0.7120416834084153, 0.6425428424141444, -0.3453810189029909, -0.8919124447116928, -0.9943096927480184, -0.8929164650724672, -0.328575836999093, -0.9225355077385018, -0.7976040805161233, -0.5821378717558758, 0.9891501903658195, 0.5361357893450815, -0.6029644616529026, 0.14541870231829535, -0.5156682148149798, -0.8339844317780774, 0.29192201620926994, -0.3261740023439046, 0.9248194728463659, 0.5580588722109212, 0.4455844027875173, -0.9632231365943937, -0.4565783579377012, 0.7659442132077174, -0.3434228474549741, -0.6202370883753048, 0.5613537332563965, 0.44981183726017093, -0.760524832727441, -0.3292495340706978, 0.005549877237427836, -0.48842424957257435, -0.14372562229380748, -0.5121011130873399, -0.965740342282885, 0.3678615667952556, 0.8100282879935321, -0.10736731152761081, -0.2854010583058795, 0.7598655671571493, 0.25832875831589774, -0.9171673300429433, -0.24292449049831077, 0.7243475681283371, -0.2582615189193831, -0.4203686776840527, -0.01129031147863202, 0.16235607873008462, -0.856777129531352, 0.29552190292909586, -0.3334769079774489, -0.481451516723979, 0.8129274656574381, 0.14011537716152134, 0.6868786641627764, 0.8056896741483683, -0.22203280459599029, -0.7626135737130966, 0.3302323770449078, 0.11871870607004098, -0.12766444634076635, 0.2070236594073549, 0.9378937204630091, -0.8025342236098751, -0.8245305090074737, 0.4385261947757044, 0.9768546049615736, -0.6785779099356688, -0.978911804157363, -0.7893260798426525, -0.2761552440667927, -0.5989389493845749, 0.30546079646583735, -0.37822340914237884, 0.7351346767765392, 0.8524223569473577, 0.7911231586985252, -0.6463679943995544, -0.36800806564045274, 0.7525116968003118, -0.08543395124982567, -0.47695699886637044, -0.9116035001428315, -0.951292908563687, 0.502150976780456, -0.7922929209740914, 0.7089995406054186, -0.2954277262266629, 0.011333160775365059, 0.3970773584061078, -0.027485836139163666, 0.19528406368323203, -0.8994872910990281, -0.4642621852587041, 0.9666405318246802, -0.5750815117715149, 0.6710437760431489, 0.20816348029660503, 0.8884698720960671, -0.7435558332237235, 0.24869973227131936, -0.45843962175823094, -0.1692022583734598, -0.4323440802437517, -0.3706548444837239, 0.9462147785668549, -0.4879326793543015, 0.1540483764426881, -0.4603820426461738, 0.6514698414753468, 0.41387483861927876, -0.41416034370399757, 0.21510456680115908, -0.24939210608863505, -0.33590198775962676, -0.1364894836488233, -0.8037701102792738, 0.4834848639271456, 0.9624456836562842, 0.781305425957953, -0.8677768734288236, -0.34353021172714904, 0.7197356443660397, -0.38813506518497576, -0.8812638530363301, 0.5503604549999466, 0.49428262465448825, 0.07412672135612297, -0.43103470952587486, -0.39743533959692456, 0.9181279951675378, -0.1502531833286298, 0.6970311882579807, 0.9260840339550214, 0.7977012709332456, 0.42785621336085455, -0.03972717115603075, -0.6855424681927502, -0.26945690086392915, 0.7977558630370538, -0.9532800315681698, 0.4321397748003335, -0.4860087494293168, -0.3011834701187439, 0.6086229976878883, 0.1730758855267993, 0.13888709664979615, 0.051667793057760036, 0.3171898246550029, -0.24190717575379495, -0.2601344505965528, -0.26861958904626704, -0.5657428607109836, -0.8802980731250756, 0.5642504209215247, 0.6455113368086529, 0.4106752145823265, -0.7382701221055896, -0.2425616928398071, 0.4175714015415224, -0.8451055004923447, -0.13575755295839542, -0.9493532445000668, -0.8587083671933442, -0.42384099754531235, -0.13006674090831893, 0.39549480302878237, -0.4840176694886509, -0.050601151452482895, 0.5659501712432586, -0.8661352693120534, -0.33275670107849464, 0.5831387146181726, -0.7388313344914081, -0.8854180614146401, 0.11351175547645198, 0.0676522104361652, -0.2770975900324828]\n",
            "[57, -41, 45, -5, -88, 0, 90, 49, 22, -39, 30, -78, -71, -5, -34, 7, -72, -39, 80, 53, 15, 35, 29, -86, -16, 1, 4, 98, -3, -41, 50, 49, -74, -75, 55, 66, -86, 0, 71, 10, -46, 73, 16, -12, -60, -20, 20, 78, 32, -78, -3, -78, -71, -31, -11, -5, -87, -45, 85, 52, 85, -7, 8, 34, -6, 59, -62, 35, 18, 28, -5, 92, 31, 62, 21, 97, 51, -99, 80, 3, -87, -3, 3, 83, 25, -8, 74, 19, 41, -37, 11, 83, -61, -81, -7, -57, -59, 53, -31, 71, 1, 48, 49, 86, -54, 21, 26, 0, 57, -56, 74, 81, 36, 75, 36, 55, 26, 87, 38, -16, -32, -37, 86, 73, 89, 72, 2, -85, -21, 25, -39, 97, -28, -26, 94, -38, -29, -78, 86, 93, 22, -25, 75, -99, -20, 41, 75, -32, 42, 22, -34, -46, 1, 22, 92, -45, -75, 81, -29, 86, -10, -51, -80, 48, -14, 88, 4, 26, 18, 90, -97, 88, 20, 74, -17, -22, -87, 52, 12, -60, 27, 12, -56, -56, 66, 52, -55, -11, 18, 16, 45, 48, -99, -9, 12, 30, 74, -69, 91, -37, -53, 54, 37, -92, 49, -74, 93, 14, -11, -40, -29, 25, 63, 78, 85, 93, 64, -53, 59, -93, -37, 11, 1, -43, 57, -31, 69, 22, -19, 75, 13, 99, -77, 8, -27, 80, 89, -21, -3, -34, 37, 74, -6, -76, -3, 86, -25, -32, -17, -46, -13, 72, -42, -91, -69, -66, -17, 66, -42, -49, -44, 6, -51, 75, 80, 89, -72, 97, 53, 4, -74, 93, 84, -2, 65, 89, -30, 75, 21, 12, 86, -30, 98, 55, -76, -52, 95, 28, -63, -95, -37, -84, -65, 75, -27, 92, -9, 51, 80, 11, 0, 65, -12, -59, -44, -15, 20, -93, -60, -24, 86, -25, 42, -70, -2, 71, -77, 0, -76, 99, 6, -45, -87, 7, -11, -77, 82, 77, -39, -87, 78, -90, -3, -84, -80, -36, -71, -33, 41, 39, -16, -35, -43, 15, -10, -36, -93, -52, 17, 19, -74, -91, -63, -72, -86, 49, -50, 77, 12, -58, 16, 68, -34, 99, 4, 44, 80, 86, 22, 41, 15, 42, 52, 85, -23, 89, -72, 68, -88, 44, -15, 33, 45, -89, -1, 15, 64, -12, -20, -13, -25, 12, 98, 82, 30, -17, -14, 51, -95, -44, -74, 49, 97, 89, -45, 63, -38, 87, 54, -81, -39, -64, 68, 92, -68, 0, -33, -64, -40, 19, 57, 98, 54, -38, -36, 58, -2, 50, 48, -65, -64, 93, 26, -97, 57, 18, -91, 97, -30, 65, -83, 14, -89, -74, 3, -45, 51, -54, -79, -87, -2, -76, 37, 43, 93, -13, 34, 90, -33, -20, -27, 45, -15, -46, 58, 53, 63, 56, -98, -54, -33, 62, 94, -50, 29, 51, -89, 59, 39, -63, -49, 22, -1, 83, -4, 72, 44, -60, -26, 42, -76, 48, 76, 98, -73, -85, -65, 96, 55, -71, -25, 4, -68, -27, -58, -30, -47, 48, 10, 10, 15, -3, 13, -33, -87, -69, -49, 18, -70, 34, 14, -57, 95, -43, 5, -85, 29, 11, 88, 32, -33, -68, 19, 44, 57, 33, -51, 93, -71, 19, -73, -51, 44, 13, 51, 59, 34, -49, 8, 45, -45, -19, -41, 78, 29, 16, 89, 11, 83, 19, 83, 22, -59, 60, 29, 6, -6, 60, -34, 40, 58, 52, 15, 45, -97, 78, 86, 60, 15, 67, -7, 62, -90, -51, -63, 50, -69, -6, 91, -73, 18, 90, -84, 0, -36, 20, 37, 8, 7, -18, 33, -74, -85, 0, -72, -69, 14, 61, 16, -13, -37, 86, -65, -60, -19, 86, 54, 76, -90, -93, 74, 78, 0, 89, 22, 78, 38, 63, -20, 2, 69, 49, 52, 2, 30, 35, -56, 88, -53, 69, 32, -47, -95, -3, 7, -75, 1, -85, -26, -92, 45, 57, -93, 95, -24, -13, 43, -15, -89, -43, -85, 41, 97, 98, 97, -54, 99, 55, -97, 19, -70, 32, 80, 77, 18, 46, -20, -23, 75, -59, 74, -37, 96, 58, 82, 93, 4, 78, -91, 65, -42, 37, 47, -95, -73, 11, 11, -75, -67, -76, -38, -30, -37, -40, -18, 10, -23, -34, 31, 41, -96, -75, 22, -68, -61, 64, 20, -86, -28, 43, -20, 72, 21, 74, 16, -15, 37, -17, 90, 45, -29, 5, 15, -29, -16, -86, 52, 95, 8, -25, 32, -59, -63, 29, -82, -49, 20, -47, -38, 50, -66, -33, -19, 0, 49, -17, -40, -28, 67, 53, 85, 52, 68, 33, 94, 72, 36, -14, 76, -1, 82, 96, -32, 33, -83, -93, -39, 39, -29, 55, 3, -41, 67, -68, 19, 78, -30, 75, 6, -27, -51, 16, 82, -48, 21, 60, -34, 28, 10, 36, 53, -61, -44, -90, -88, -75, -42, -54, -11, -93, -2, 10, -2, 54, -56, 50, 79, 51, 70, -96, 56, 7, -77, 2, -60, -4, -88, -38, -93, -68, -73, -35, 82, 78, -82, 65, -82, -29, 5, -68, 20, 36, 0, -71, -8, 17, -63, -90, 88, 47, -54, -3, 77, -33, -45, -36, -22, 68, 63, -57, -22, 25, 13, -98, -10, 64, -92, -64, -12, 89, -18, 35, -53, -86, 0, 51, 91, 4, -54, -23, 9, 59, -62, 49, 5, -52, -22, 91, 20, -1, -41, -95, -56, -14, 68, -58, 73, 65, 62, -85, -47, 25, -78, -7, -73, -27, 55, -70, 40, -4, 29, 65, -1, 36, -44, -22, 49, -70, 73, 5, 65, -88, 69, -29, -18, -71, -95, 45, -54, 69, -25, 83, 73, -32, 26, -53, -13, -58, -46, 33, 34, 87, -76, -47, 89, -46, -53, 64, 56, 65, -89, -15, 72, -79, 9, 60, 14, 27, -47, -89, -4, 37, -60, 59, -91, -58, 1, 22, 85, 49, 83, -92, -11, -69, -53, -15, 50, 17, 20, -95, -53, 57, -42, -18, -42, -21, -6, -64, 32, -13, -29, 73, -28, -93, 38, -21, -47, 41, 42, -20]\n",
            "[1, 0, 1, 0, 0, 1, 1, 1, 1, 0, 1, 0, 0, 0, 0, 1, 0, 0, 1, 1, 1, 1, 1, 0, 0, 1, 1, 1, 0, 0, 1, 1, 0, 0, 1, 1, 0, 1, 1, 1, 0, 1, 1, 0, 0, 0, 1, 1, 1, 0, 0, 0, 0, 0, 0, 0, 0, 0, 1, 1, 1, 0, 1, 1, 0, 1, 0, 1, 1, 1, 0, 1, 1, 1, 1, 1, 1, 0, 1, 1, 0, 0, 1, 1, 1, 0, 1, 1, 1, 0, 1, 1, 0, 0, 0, 0, 0, 1, 0, 1, 1, 1, 1, 1, 0, 1, 1, 1, 1, 0, 1, 1, 1, 1, 1, 1, 1, 1, 1, 0, 0, 0, 1, 1, 1, 1, 1, 0, 0, 1, 0, 1, 0, 0, 1, 0, 0, 0, 1, 1, 1, 0, 1, 0, 0, 1, 1, 0, 1, 1, 0, 0, 1, 1, 1, 0, 0, 1, 0, 1, 0, 0, 0, 1, 0, 1, 1, 1, 1, 1, 0, 1, 1, 1, 0, 0, 0, 1, 1, 0, 1, 1, 0, 0, 1, 1, 0, 0, 1, 1, 1, 1, 0, 0, 1, 1, 1, 0, 1, 0, 0, 1, 1, 0, 1, 0, 1, 1, 0, 0, 0, 1, 1, 1, 1, 1, 1, 0, 1, 0, 0, 1, 1, 0, 1, 0, 1, 1, 0, 1, 1, 1, 0, 1, 0, 1, 1, 0, 0, 0, 1, 1, 0, 0, 0, 1, 0, 0, 0, 0, 0, 1, 0, 0, 0, 0, 0, 1, 0, 0, 0, 1, 0, 1, 1, 1, 0, 1, 1, 1, 0, 1, 1, 0, 1, 1, 0, 1, 1, 1, 1, 0, 1, 1, 0, 0, 1, 1, 0, 0, 0, 0, 0, 1, 0, 1, 0, 1, 1, 1, 1, 1, 0, 0, 0, 0, 1, 0, 0, 0, 1, 0, 1, 0, 0, 1, 0, 0, 0, 1, 1, 0, 0, 1, 0, 0, 1, 1, 0, 0, 1, 0, 0, 0, 0, 0, 0, 0, 1, 1, 0, 0, 0, 1, 0, 0, 0, 0, 1, 1, 0, 0, 0, 0, 0, 1, 0, 1, 1, 0, 1, 1, 0, 1, 1, 1, 1, 1, 1, 1, 1, 1, 1, 1, 0, 1, 0, 1, 0, 1, 0, 1, 1, 0, 0, 1, 1, 0, 0, 0, 0, 1, 1, 1, 1, 0, 0, 1, 0, 0, 0, 1, 1, 1, 0, 1, 0, 1, 1, 0, 0, 0, 1, 1, 0, 1, 0, 0, 0, 1, 1, 1, 1, 0, 0, 1, 0, 1, 1, 0, 0, 1, 1, 0, 1, 1, 0, 1, 0, 1, 0, 1, 0, 0, 1, 0, 1, 0, 0, 0, 0, 0, 1, 1, 1, 0, 1, 1, 0, 0, 0, 1, 0, 0, 1, 1, 1, 1, 0, 0, 0, 1, 1, 0, 1, 1, 0, 1, 1, 0, 0, 1, 0, 1, 0, 1, 1, 0, 0, 1, 0, 1, 1, 1, 0, 0, 0, 1, 1, 0, 0, 1, 0, 0, 0, 0, 0, 1, 1, 1, 1, 0, 1, 0, 0, 0, 0, 1, 0, 1, 1, 0, 1, 0, 1, 0, 1, 1, 1, 1, 0, 0, 1, 1, 1, 1, 0, 1, 0, 1, 0, 0, 1, 1, 1, 1, 1, 0, 1, 1, 0, 0, 0, 1, 1, 1, 1, 1, 1, 1, 1, 1, 0, 1, 1, 1, 0, 1, 0, 1, 1, 1, 1, 1, 0, 1, 1, 1, 1, 1, 0, 1, 0, 0, 0, 1, 0, 0, 1, 0, 1, 1, 0, 0, 0, 1, 1, 1, 1, 0, 1, 0, 0, 1, 0, 0, 1, 1, 1, 0, 0, 1, 0, 0, 0, 1, 1, 1, 0, 0, 1, 1, 0, 1, 1, 1, 1, 1, 0, 1, 1, 1, 1, 1, 1, 1, 0, 1, 0, 1, 1, 0, 0, 0, 1, 0, 1, 0, 0, 0, 1, 1, 0, 1, 0, 0, 1, 0, 0, 0, 0, 1, 1, 1, 1, 0, 1, 1, 0, 1, 0, 1, 1, 1, 1, 1, 0, 0, 1, 0, 1, 0, 1, 1, 1, 1, 1, 1, 0, 1, 0, 1, 1, 0, 0, 1, 1, 0, 0, 0, 0, 0, 0, 0, 0, 1, 0, 0, 1, 1, 0, 0, 1, 0, 0, 1, 1, 0, 0, 1, 0, 1, 1, 1, 1, 0, 1, 0, 1, 1, 0, 1, 1, 0, 0, 0, 1, 1, 1, 0, 1, 0, 0, 1, 0, 0, 1, 0, 0, 1, 0, 0, 0, 0, 1, 0, 0, 0, 1, 1, 1, 1, 1, 1, 1, 1, 1, 0, 1, 0, 1, 1, 0, 1, 0, 0, 0, 1, 0, 1, 1, 0, 1, 0, 1, 1, 0, 1, 1, 0, 0, 1, 1, 0, 1, 1, 0, 1, 1, 1, 1, 0, 0, 0, 0, 0, 0, 0, 0, 0, 0, 1, 0, 1, 0, 1, 1, 1, 1, 0, 1, 1, 0, 1, 0, 0, 0, 0, 0, 0, 0, 0, 1, 1, 0, 1, 0, 0, 1, 0, 1, 1, 1, 0, 0, 1, 0, 0, 1, 1, 0, 0, 1, 0, 0, 0, 0, 1, 1, 0, 0, 1, 1, 0, 0, 1, 0, 0, 0, 1, 0, 1, 0, 0, 1, 1, 1, 1, 0, 0, 1, 1, 0, 1, 1, 0, 0, 1, 1, 0, 0, 0, 0, 0, 1, 0, 1, 1, 1, 0, 0, 1, 0, 0, 0, 0, 1, 0, 1, 0, 1, 1, 0, 1, 0, 0, 1, 0, 1, 1, 1, 0, 1, 0, 0, 0, 0, 1, 0, 1, 0, 1, 1, 0, 1, 0, 0, 0, 0, 1, 1, 1, 0, 0, 1, 0, 0, 1, 1, 1, 0, 0, 1, 0, 1, 1, 1, 1, 0, 0, 0, 1, 0, 1, 0, 0, 1, 1, 1, 1, 1, 0, 0, 0, 0, 0, 1, 1, 1, 0, 0, 1, 0, 0, 0, 0, 0, 0, 1, 0, 0, 1, 0, 0, 1, 0, 0, 1, 1, 0]\n",
            "[0, -1, 0, -1, -1, 0, 0, 0, 0, -1, 0, -1, -1, -1, -1, 0, -1, -1, 0, 0, 0, 0, 0, -1, -1, 0, 0, 0, -1, -1, 0, 0, -1, -1, 0, 0, -1, 0, 0, 0, -1, 0, 0, -1, -1, -1, 0, 0, 0, -1, -1, -1, -1, -1, -1, -1, -1, -1, 0, 0, 0, -1, 0, 0, -1, 0, -1, 0, 0, 0, -1, 0, 0, 0, 0, 0, 0, -1, 0, 0, -1, -1, 0, 0, 0, -1, 0, 0, 0, -1, 0, 0, -1, -1, -1, -1, -1, 0, -1, 0, 0, 0, 0, 0, -1, 0, 0, 0, 0, -1, 0, 0, 0, 0, 0, 0, 0, 0, 0, -1, -1, -1, 0, 0, 0, 0, 0, -1, -1, 0, -1, 0, -1, -1, 0, -1, -1, -1, 0, 0, 0, -1, 0, -1, -1, 0, 0, -1, 0, 0, -1, -1, 0, 0, 0, -1, -1, 0, -1, 0, -1, -1, -1, 0, -1, 0, 0, 0, 0, 0, -1, 0, 0, 0, -1, -1, -1, 0, 0, -1, 0, 0, -1, -1, 0, 0, -1, -1, 0, 0, 0, 0, -1, -1, 0, 0, 0, -1, 0, -1, -1, 0, 0, -1, 0, -1, 0, 0, -1, -1, -1, 0, 0, 0, 0, 0, 0, -1, 0, -1, -1, 0, 0, -1, 0, -1, 0, 0, -1, 0, 0, 0, -1, 0, -1, 0, 0, -1, -1, -1, 0, 0, -1, -1, -1, 0, -1, -1, -1, -1, -1, 0, -1, -1, -1, -1, -1, 0, -1, -1, -1, 0, -1, 0, 0, 0, -1, 0, 0, 0, -1, 0, 0, -1, 0, 0, -1, 0, 0, 0, 0, -1, 0, 0, -1, -1, 0, 0, -1, -1, -1, -1, -1, 0, -1, 0, -1, 0, 0, 0, 0, 0, -1, -1, -1, -1, 0, -1, -1, -1, 0, -1, 0, -1, -1, 0, -1, -1, -1, 0, 0, -1, -1, 0, -1, -1, 0, 0, -1, -1, 0, -1, -1, -1, -1, -1, -1, -1, 0, 0, -1, -1, -1, 0, -1, -1, -1, -1, 0, 0, -1, -1, -1, -1, -1, 0, -1, 0, 0, -1, 0, 0, -1, 0, 0, 0, 0, 0, 0, 0, 0, 0, 0, 0, -1, 0, -1, 0, -1, 0, -1, 0, 0, -1, -1, 0, 0, -1, -1, -1, -1, 0, 0, 0, 0, -1, -1, 0, -1, -1, -1, 0, 0, 0, -1, 0, -1, 0, 0, -1, -1, -1, 0, 0, -1, 0, -1, -1, -1, 0, 0, 0, 0, -1, -1, 0, -1, 0, 0, -1, -1, 0, 0, -1, 0, 0, -1, 0, -1, 0, -1, 0, -1, -1, 0, -1, 0, -1, -1, -1, -1, -1, 0, 0, 0, -1, 0, 0, -1, -1, -1, 0, -1, -1, 0, 0, 0, 0, -1, -1, -1, 0, 0, -1, 0, 0, -1, 0, 0, -1, -1, 0, -1, 0, -1, 0, 0, -1, -1, 0, -1, 0, 0, 0, -1, -1, -1, 0, 0, -1, -1, 0, -1, -1, -1, -1, -1, 0, 0, 0, 0, -1, 0, -1, -1, -1, -1, 0, -1, 0, 0, -1, 0, -1, 0, -1, 0, 0, 0, 0, -1, -1, 0, 0, 0, 0, -1, 0, -1, 0, -1, -1, 0, 0, 0, 0, 0, -1, 0, 0, -1, -1, -1, 0, 0, 0, 0, 0, 0, 0, 0, 0, -1, 0, 0, 0, -1, 0, -1, 0, 0, 0, 0, 0, -1, 0, 0, 0, 0, 0, -1, 0, -1, -1, -1, 0, -1, -1, 0, -1, 0, 0, -1, -1, -1, 0, 0, 0, 0, -1, 0, -1, -1, 0, -1, -1, 0, 0, 0, -1, -1, 0, -1, -1, -1, 0, 0, 0, -1, -1, 0, 0, -1, 0, 0, 0, 0, 0, -1, 0, 0, 0, 0, 0, 0, 0, -1, 0, -1, 0, 0, -1, -1, -1, 0, -1, 0, -1, -1, -1, 0, 0, -1, 0, -1, -1, 0, -1, -1, -1, -1, 0, 0, 0, 0, -1, 0, 0, -1, 0, -1, 0, 0, 0, 0, 0, -1, -1, 0, -1, 0, -1, 0, 0, 0, 0, 0, 0, -1, 0, -1, 0, 0, -1, -1, 0, 0, -1, -1, -1, -1, -1, -1, -1, -1, 0, -1, -1, 0, 0, -1, -1, 0, -1, -1, 0, 0, -1, -1, 0, -1, 0, 0, 0, 0, -1, 0, -1, 0, 0, -1, 0, 0, -1, -1, -1, 0, 0, 0, -1, 0, -1, -1, 0, -1, -1, 0, -1, -1, 0, -1, -1, -1, -1, 0, -1, -1, -1, 0, 0, 0, 0, 0, 0, 0, 0, 0, -1, 0, -1, 0, 0, -1, 0, -1, -1, -1, 0, -1, 0, 0, -1, 0, -1, 0, 0, -1, 0, 0, -1, -1, 0, 0, -1, 0, 0, -1, 0, 0, 0, 0, -1, -1, -1, -1, -1, -1, -1, -1, -1, -1, 0, -1, 0, -1, 0, 0, 0, 0, -1, 0, 0, -1, 0, -1, -1, -1, -1, -1, -1, -1, -1, 0, 0, -1, 0, -1, -1, 0, -1, 0, 0, 0, -1, -1, 0, -1, -1, 0, 0, -1, -1, 0, -1, -1, -1, -1, 0, 0, -1, -1, 0, 0, -1, -1, 0, -1, -1, -1, 0, -1, 0, -1, -1, 0, 0, 0, 0, -1, -1, 0, 0, -1, 0, 0, -1, -1, 0, 0, -1, -1, -1, -1, -1, 0, -1, 0, 0, 0, -1, -1, 0, -1, -1, -1, -1, 0, -1, 0, -1, 0, 0, -1, 0, -1, -1, 0, -1, 0, 0, 0, -1, 0, -1, -1, -1, -1, 0, -1, 0, -1, 0, 0, -1, 0, -1, -1, -1, -1, 0, 0, 0, -1, -1, 0, -1, -1, 0, 0, 0, -1, -1, 0, -1, 0, 0, 0, 0, -1, -1, -1, 0, -1, 0, -1, -1, 0, 0, 0, 0, 0, -1, -1, -1, -1, -1, 0, 0, 0, -1, -1, 0, -1, -1, -1, -1, -1, -1, 0, -1, -1, 0, -1, -1, 0, -1, -1, 0, 0, -1]\n",
            "[-57.0, 41.0, -45.0, -5.0, 88.0, 0.0, 90.0, 49.0, -22.0, 39.0, -30.0, -78.0, -71.0, -5.0, 34.0, -7.0, -72.0, 39.0, 80.0, 53.0, 15.0, 35.0, -29.0, -86.0, 16.0, 1.0, 4.0, -98.0, -3.0, 41.0, 50.0, -49.0, -74.0, 75.0, 55.0, -66.0, 86.0, 0.0, 71.0, -10.0, 46.0, 73.0, -16.0, -12.0, -60.0, 20.0, 20.0, 78.0, -32.0, -78.0, -3.0, -78.0, -71.0, -31.0, -11.0, -5.0, -87.0, 45.0, 85.0, 52.0, -85.0, 7.0, 8.0, -34.0, 6.0, -59.0, 62.0, 35.0, 18.0, -28.0, 5.0, 92.0, 31.0, 62.0, 21.0, 97.0, -51.0, 99.0, 80.0, -3.0, -87.0, 3.0, 3.0, 83.0, -25.0, 8.0, 74.0, 19.0, -41.0, 37.0, 11.0, -83.0, -61.0, -81.0, -7.0, -57.0, 59.0, -53.0, 31.0, 71.0, 1.0, 48.0, 49.0, -86.0, 54.0, 21.0, 26.0, 0.0, -57.0, 56.0, 74.0, 81.0, 36.0, 75.0, 36.0, 55.0, 26.0, 87.0, -38.0, -16.0, -32.0, 37.0, 86.0, 73.0, 89.0, 72.0, -2.0, -85.0, 21.0, -25.0, 39.0, -97.0, -28.0, 26.0, -94.0, -38.0, -29.0, 78.0, 86.0, 93.0, -22.0, 25.0, -75.0, -99.0, 20.0, 41.0, -75.0, 32.0, 42.0, -22.0, -34.0, 46.0, 1.0, 22.0, -92.0, -45.0, 75.0, -81.0, 29.0, -86.0, -10.0, -51.0, 80.0, -48.0, 14.0, 88.0, 4.0, 26.0, 18.0, -90.0, 97.0, 88.0, 20.0, -74.0, -17.0, -22.0, 87.0, 52.0, -12.0, 60.0, 27.0, -12.0, -56.0, 56.0, 66.0, -52.0, -55.0, 11.0, 18.0, 16.0, 45.0, -48.0, -99.0, 9.0, 12.0, 30.0, -74.0, 69.0, -91.0, -37.0, 53.0, 54.0, -37.0, 92.0, -49.0, 74.0, 93.0, -14.0, -11.0, -40.0, 29.0, 25.0, 63.0, 78.0, 85.0, 93.0, -64.0, 53.0, -59.0, -93.0, 37.0, 11.0, -1.0, 43.0, -57.0, 31.0, 69.0, -22.0, 19.0, 75.0, 13.0, -99.0, 77.0, -8.0, 27.0, 80.0, -89.0, -21.0, -3.0, 34.0, 37.0, -74.0, -6.0, -76.0, 3.0, -86.0, -25.0, -32.0, -17.0, -46.0, 13.0, -72.0, -42.0, -91.0, -69.0, -66.0, 17.0, -66.0, -42.0, -49.0, 44.0, -6.0, 51.0, 75.0, 80.0, -89.0, 72.0, 97.0, 53.0, -4.0, 74.0, 93.0, -84.0, 2.0, 65.0, -89.0, 30.0, 75.0, 21.0, 12.0, -86.0, 30.0, 98.0, -55.0, -76.0, 52.0, 95.0, -28.0, -63.0, -95.0, -37.0, -84.0, 65.0, -75.0, 27.0, -92.0, 9.0, 51.0, 80.0, 11.0, 0.0, -65.0, -12.0, -59.0, -44.0, 15.0, -20.0, -93.0, -60.0, 24.0, -86.0, 25.0, -42.0, -70.0, 2.0, -71.0, -77.0, -0.0, 76.0, 99.0, -6.0, -45.0, 87.0, -7.0, -11.0, 77.0, 82.0, -77.0, -39.0, 87.0, -78.0, -90.0, -3.0, -84.0, -80.0, -36.0, -71.0, 33.0, 41.0, -39.0, -16.0, -35.0, 43.0, -15.0, -10.0, -36.0, -93.0, 52.0, 17.0, -19.0, -74.0, -91.0, -63.0, -72.0, 86.0, -49.0, 50.0, 77.0, -12.0, 58.0, 16.0, -68.0, 34.0, 99.0, 4.0, 44.0, 80.0, 86.0, 22.0, 41.0, 15.0, 42.0, 52.0, -85.0, 23.0, -89.0, 72.0, -68.0, 88.0, -44.0, 15.0, 33.0, -45.0, -89.0, 1.0, 15.0, -64.0, -12.0, -20.0, -13.0, 25.0, 12.0, 98.0, 82.0, -30.0, -17.0, 14.0, -51.0, -95.0, -44.0, 74.0, 49.0, 97.0, -89.0, 45.0, -63.0, 38.0, 87.0, -54.0, -81.0, -39.0, 64.0, 68.0, -92.0, 68.0, -0.0, -33.0, -64.0, 40.0, 19.0, 57.0, 98.0, -54.0, -38.0, 36.0, -58.0, 2.0, 50.0, -48.0, -65.0, 64.0, 93.0, -26.0, 97.0, 57.0, -18.0, 91.0, -97.0, 30.0, -65.0, 83.0, -14.0, -89.0, 74.0, -3.0, 45.0, -51.0, -54.0, -79.0, -87.0, -2.0, 76.0, 37.0, 43.0, -93.0, 13.0, 34.0, -90.0, -33.0, -20.0, 27.0, -45.0, -15.0, 46.0, 58.0, 53.0, 63.0, -56.0, -98.0, -54.0, 33.0, 62.0, -94.0, 50.0, 29.0, -51.0, 89.0, 59.0, -39.0, -63.0, 49.0, -22.0, 1.0, -83.0, 4.0, 72.0, -44.0, -60.0, 26.0, -42.0, 76.0, 48.0, 76.0, -98.0, -73.0, -85.0, 65.0, 96.0, -55.0, -71.0, 25.0, -4.0, -68.0, -27.0, -58.0, -30.0, 47.0, 48.0, 10.0, 10.0, -15.0, 3.0, -13.0, -33.0, -87.0, -69.0, 49.0, -18.0, 70.0, 34.0, -14.0, 57.0, -95.0, 43.0, -5.0, 85.0, 29.0, 11.0, 88.0, -32.0, -33.0, 68.0, 19.0, 44.0, 57.0, -33.0, 51.0, -93.0, 71.0, -19.0, -73.0, 51.0, 44.0, 13.0, 51.0, 59.0, -34.0, 49.0, 8.0, -45.0, -45.0, -19.0, 41.0, 78.0, 29.0, 16.0, 89.0, 11.0, 83.0, 19.0, 83.0, -22.0, 59.0, 60.0, 29.0, -6.0, 6.0, -60.0, 34.0, 40.0, 58.0, 52.0, 15.0, -45.0, 97.0, 78.0, 86.0, 60.0, 15.0, -67.0, 7.0, -62.0, -90.0, -51.0, 63.0, -50.0, -69.0, 6.0, -91.0, 73.0, 18.0, -90.0, -84.0, -0.0, 36.0, 20.0, 37.0, 8.0, -7.0, 18.0, -33.0, -74.0, 85.0, -0.0, -72.0, 69.0, 14.0, 61.0, -16.0, -13.0, 37.0, -86.0, -65.0, -60.0, 19.0, 86.0, 54.0, -76.0, -90.0, 93.0, 74.0, -78.0, 0.0, 89.0, 22.0, 78.0, 38.0, -63.0, 20.0, 2.0, 69.0, 49.0, 52.0, 2.0, 30.0, -35.0, 56.0, -88.0, 53.0, 69.0, -32.0, -47.0, -95.0, 3.0, -7.0, 75.0, -1.0, -85.0, -26.0, 92.0, 45.0, -57.0, 93.0, -95.0, -24.0, 13.0, -43.0, -15.0, -89.0, -43.0, 85.0, 41.0, 97.0, 98.0, -97.0, 54.0, 99.0, -55.0, 97.0, -19.0, 70.0, 32.0, 80.0, 77.0, 18.0, -46.0, -20.0, 23.0, -75.0, 59.0, -74.0, 37.0, 96.0, 58.0, 82.0, 93.0, 4.0, -78.0, 91.0, -65.0, 42.0, 37.0, -47.0, -95.0, 73.0, 11.0, -11.0, -75.0, -67.0, -76.0, -38.0, -30.0, -37.0, -40.0, 18.0, -10.0, -23.0, 34.0, 31.0, -41.0, -96.0, 75.0, -22.0, -68.0, 61.0, 64.0, -20.0, -86.0, 28.0, -43.0, 20.0, 72.0, 21.0, 74.0, -16.0, 15.0, -37.0, 17.0, 90.0, -45.0, 29.0, 5.0, -15.0, -29.0, -16.0, 86.0, 52.0, 95.0, -8.0, 25.0, -32.0, -59.0, 63.0, -29.0, -82.0, 49.0, -20.0, -47.0, 38.0, -50.0, -66.0, -33.0, -19.0, 0.0, -49.0, -17.0, -40.0, 28.0, 67.0, 53.0, 85.0, 52.0, 68.0, 33.0, 94.0, 72.0, -36.0, 14.0, -76.0, 1.0, 82.0, -96.0, 32.0, -33.0, -83.0, -93.0, 39.0, -39.0, 29.0, 55.0, -3.0, 41.0, -67.0, 68.0, 19.0, -78.0, 30.0, 75.0, -6.0, -27.0, 51.0, 16.0, -82.0, 48.0, 21.0, -60.0, 34.0, 28.0, 10.0, 36.0, -53.0, -61.0, -44.0, -90.0, -88.0, -75.0, -42.0, -54.0, -11.0, -93.0, 2.0, -10.0, 2.0, -54.0, 56.0, 50.0, 79.0, 51.0, -70.0, 96.0, 56.0, -7.0, 77.0, -2.0, -60.0, -4.0, -88.0, -38.0, -93.0, -68.0, -73.0, 35.0, 82.0, -78.0, 82.0, -65.0, -82.0, 29.0, -5.0, 68.0, 20.0, 36.0, -0.0, -71.0, 8.0, -17.0, -63.0, 90.0, 88.0, -47.0, -54.0, 3.0, -77.0, -33.0, -45.0, -36.0, 22.0, 68.0, -63.0, -57.0, 22.0, 25.0, -13.0, -98.0, 10.0, -64.0, -92.0, -64.0, 12.0, -89.0, 18.0, -35.0, -53.0, 86.0, 0.0, 51.0, 91.0, -4.0, -54.0, 23.0, 9.0, -59.0, 62.0, 49.0, -5.0, -52.0, 22.0, 91.0, -20.0, -1.0, -41.0, -95.0, -56.0, 14.0, -68.0, 58.0, 73.0, 65.0, -62.0, -85.0, 47.0, -25.0, -78.0, -7.0, -73.0, 27.0, -55.0, 70.0, -40.0, 4.0, 29.0, -65.0, 1.0, -36.0, -44.0, 22.0, -49.0, 70.0, 73.0, 5.0, -65.0, 88.0, -69.0, -29.0, -18.0, -71.0, 95.0, -45.0, 54.0, -69.0, 25.0, 83.0, -73.0, 32.0, -26.0, -53.0, -13.0, -58.0, 46.0, 33.0, 34.0, -87.0, -76.0, 47.0, -89.0, -46.0, 53.0, 64.0, 56.0, -65.0, -89.0, 15.0, -72.0, 79.0, 9.0, 60.0, 14.0, -27.0, -47.0, -89.0, 4.0, -37.0, 60.0, -59.0, -91.0, 58.0, 1.0, 22.0, 85.0, 49.0, -83.0, -92.0, -11.0, -69.0, -53.0, 15.0, 50.0, 17.0, -20.0, -95.0, 53.0, -57.0, -42.0, -18.0, -42.0, -21.0, -6.0, 64.0, -32.0, -13.0, 29.0, -73.0, -28.0, 93.0, -38.0, -21.0, 47.0, 41.0, -42.0, 20.0]\n",
            "[1, 1, 5, 1, 90, 1, 1, 1, 3, 6, 1, 1, 1, 1, 1, 3, 1, 1, 1, 5, 1, 1, 2, 1, 1, 2, 1, 1, 1, 1, 1, 1, 5, 11, 2, 71, 1, 2, 1, 1, 4, 12, 20, 20, 2, 2, 2, 3, 3, 1, 1, 1, 1, 1, 3, 5, 1, 1, 1, 1, 2, 2, 1, 1, 1, 1, 2, 1, 1, 1, 31, 1, 1, 1, 3, 1, 1, 3, 3, 3, 1, 1, 1, 2, 1, 1, 1, 1, 1, 1, 1, 1, 1, 1, 1, 1, 1, 1, 1, 1, 1, 2, 3, 1, 57, 1, 2, 1, 9, 3, 3, 1, 1, 1, 1, 2, 16, 1, 1, 1, 1, 1, 2, 1, 1, 1, 1, 1, 1, 2, 2, 2, 1, 1, 2, 1, 1, 1, 25, 3, 1, 1, 1, 1, 2, 2, 2, 2, 1, 1, 2, 1, 15, 3, 1, 1, 2, 1, 1, 16, 2, 2, 4, 2, 2, 18, 1, 1, 4, 2, 1, 1, 1, 1, 4, 12, 3, 3, 4, 56, 2, 2, 1, 11, 1, 2, 1, 3, 3, 9, 3, 6, 2, 1, 1, 1, 1, 1, 1, 1, 1, 1, 1, 1, 1, 1, 1, 1, 1, 3, 1, 1, 1, 1, 1, 1, 1, 1, 1, 1, 1, 1, 1, 1, 1, 1, 1, 1, 11, 1, 1, 1, 1, 1, 3, 1, 1, 37, 2, 2, 1, 1, 1, 1, 1, 1, 1, 1, 6, 7, 1, 3, 1, 1, 6, 7, 1, 2, 3, 3, 5, 1, 1, 1, 1, 1, 2, 1, 3, 2, 1, 1, 1, 15, 3, 3, 2, 2, 2, 1, 1, 4, 1, 1, 7, 1, 1, 1, 1, 5, 3, 1, 1, 3, 1, 1, 65, 1, 1, 1, 1, 5, 1, 3, 12, 2, 1, 1, 14, 2, 1, 1, 76, 1, 3, 3, 3, 1, 1, 11, 1, 1, 1, 3, 3, 6, 3, 3, 4, 4, 1, 1, 1, 1, 1, 1, 1, 1, 5, 2, 3, 1, 1, 1, 1, 1, 7, 9, 2, 1, 1, 1, 1, 2, 2, 4, 34, 1, 1, 4, 4, 2, 2, 1, 1, 3, 2, 1, 1, 1, 1, 4, 4, 44, 1, 3, 3, 1, 1, 1, 1, 4, 4, 1, 1, 1, 2, 2, 2, 1, 1, 1, 1, 1, 2, 1, 1, 1, 1, 9, 1, 1, 3, 27, 3, 1, 4, 4, 4, 33, 1, 8, 1, 19, 1, 2, 2, 2, 2, 2, 2, 2, 1, 1, 1, 1, 1, 1, 3, 1, 1, 1, 5, 1, 1, 1, 1, 1, 3, 3, 3, 1, 1, 1, 2, 1, 1, 1, 1, 1, 2, 3, 1, 1, 9, 15, 1, 2, 1, 1, 7, 14, 2, 3, 1, 2, 2, 1, 1, 1, 1, 1, 3, 7, 1, 1, 1, 1, 4, 4, 4, 2, 2, 2, 4, 4, 2, 1, 1, 5, 1, 1, 1, 1, 1, 4, 1, 1, 2, 1, 1, 2, 10, 5, 3, 1, 1, 3, 3, 1, 1, 2, 2, 2, 1, 19, 1, 1, 5, 1, 1, 11, 8, 1, 1, 1, 1, 1, 3, 3, 3, 1, 1, 1, 1, 1, 1, 1, 1, 1, 1, 1, 1, 45, 1, 1, 1, 1, 1, 1, 1, 1, 1, 1, 1, 1, 1, 1, 1, 6, 6, 2, 2, 2, 2, 1, 15, 1, 1, 2, 2, 15, 1, 1, 1, 2, 3, 3, 1, 1, 3, 1, 1, 1, 18, 6, 36, 4, 1, 1, 1, 1, 3, 1, 1, 72, 3, 1, 1, 1, 1, 1, 1, 1, 5, 1, 1, 2, 2, 2, 3, 1, 2, 89, 1, 2, 2, 1, 1, 2, 1, 1, 1, 2, 2, 5, 7, 8, 1, 1, 1, 1, 1, 1, 1, 1, 1, 1, 1, 2, 1, 3, 3, 1, 1, 1, 1, 1, 1, 1, 1, 1, 1, 1, 1, 1, 9, 11, 1, 1, 1, 2, 16, 1, 1, 2, 2, 1, 1, 1, 1, 37, 1, 2, 2, 1, 1, 2, 13, 13, 1, 1, 1, 1, 1, 1, 11, 1, 1, 1, 38, 2, 1, 1, 2, 2, 1, 1, 1, 1, 1, 3, 1, 2, 1, 1, 4, 2, 2, 1, 1, 4, 3, 1, 2, 1, 1, 1, 1, 45, 1, 1, 5, 1, 1, 2, 2, 1, 1, 1, 1, 1, 1, 1, 1, 1, 1, 1, 1, 2, 2, 33, 1, 49, 1, 1, 4, 1, 1, 1, 1, 4, 1, 1, 2, 36, 2, 2, 1, 1, 2, 32, 1, 1, 1, 3, 39, 1, 1, 1, 1, 1, 1, 1, 1, 6, 15, 3, 3, 3, 1, 2, 2, 3, 3, 2, 2, 2, 2, 1, 1, 1, 2, 2, 1, 3, 6, 1, 1, 1, 2, 2, 2, 2, 2, 1, 1, 1, 2, 8, 7, 7, 1, 2, 4, 4, 2, 1, 1, 1, 1, 1, 2, 2, 1, 1, 1, 1, 1, 4, 4, 71, 1, 1, 1, 9, 2, 1, 1, 3, 1, 11, 3, 9, 2, 2, 1, 3, 1, 1, 1, 1, 2, 2, 4, 4, 4, 1, 1, 1, 1, 1, 51, 1, 1, 2, 1, 1, 1, 1, 1, 1, 1, 2, 1, 1, 1, 1, 1, 1, 14, 2, 2, 1, 1, 1, 1, 1, 1, 1, 1, 1, 1, 1, 5, 10, 4, 1, 1, 1, 1, 4, 22, 1, 7, 1, 1, 5, 1, 1, 1, 1, 1, 1, 5, 9, 3, 1, 1, 1, 1, 2, 1, 1, 1, 2, 1, 1, 1, 1, 1, 1, 1, 1, 1, 8, 1, 1, 1, 3, 1, 1, 3, 2, 1, 1, 1, 1, 1, 1, 1, 1, 1, 1, 1, 1, 1, 1, 1, 1, 1, 1, 1, 5, 1, 1, 5, 1, 1, 3, 6, 6, 21, 3, 2, 32, 1, 1, 1, 1, 1, 1, 1, 1, 1, 1, 2]\n",
            "[16.031298899661607, -41.05856930401268, 0.7635103771117429, -5.625052162404856, -0.5789787510497746, 0.9656920313245934, 41.00491844141331, 4.237004291547947, 22.687446686529, -9.049079010163183, 30.19769893547371, -6.075347833342306, -1.401829296865003, -5.878351934474551, -4.393307085339984, 7.6009108242514, -32.69909192396418, -39.96491718961905, 26.99802620188379, 6.923266020780389, 15.549329553934157, 5.595354363941112, 29.579449767071566, -2.9282099122291783, -0.9912027279693802, 1.5778930948967513, 4.813470348687503, 0.7601647635020612, -3.618239898414899, -41.73569292130803, 1.5815029830880007, 49.024432761395644, -74.81987045793441, -19.943554412255608, 55.93201336955639, 66.88615078810454, -0.003728279986518146, 0.159104332998524, 7.4660468159854645, 10.671276200138834, -46.77909662088015, 9.077736681205067, 3.8666382450871737, -12.252500115623022, -19.149985035258872, -20.49916520252914, 20.531605342826282, 13.64796751044534, 32.22196686616513, -1.4117660664185792, -3.512170621039786, -7.010149879582144, -9.369001122048346, -8.65830054980978, -5.635454066940596, -5.645344841440391, -41.45015004373106, -45.946798880095315, 32.95629635547908, 52.94007409345119, 2.213763030206522, -7.551242898276328, 8.905390650838925, 1.2199380282191754, -6.728231156878749, 59.77916476445765, -27.44795542118696, 16.410685624000223, 18.77713901253361, 0.6703122389524623, -5.592954090609297, 28.556803535015234, 31.755848803153725, 19.66310003768399, 21.48823006895087, 46.85059007913807, 51.07079329274512, -18.482245489177345, 2.3781344258927675, 3.7239750043000015, -2.360005733511315, -3.276797494579924, 3.9472711660421, 6.230838948887765, 1.2353100744161338, -8.161311185229607, 15.63111486517468, 19.605582808810624, 4.132452457738609, -2.9542121190907693, 11.487838373162134, 22.253262552828943, -61.555905433731084, -1.716631743195336, -7.943883064048521, -57.65125865116389, -6.460820239973593, 21.551787599197752, -31.52805112870567, 1.3710156677223893, 1.4577571441264752, 48.08298636284957, 49.23588011430209, 32.0071635895668, -10.540637736975668, 21.92879893525823, 0.09001111843014087, 0.5159964537363493, 1.1974148128636486, -56.45946788718022, 74.58652602922564, 9.089542968762657, 36.29593889074613, 2.193718554804377, 36.59027927650419, 2.443492997323176, 26.663117591950765, 11.111105295935204, 5.268042159418826, -16.444265414588628, -32.46069076188721, -37.42956495393148, 12.942728932713578, 73.8682678765764, 16.68220964056988, 0.050845173640510666, 2.336104272815305, -1.0720961441236199, -21.06018752824606, 25.351920407319923, -39.268527519925996, 12.25640648707936, -1.6746395024652685, -26.71920511150452, 17.312356816907766, -9.452940935147879, -29.2745716739488, -78.51624019151106, 86.76454080652334, 4.793745948794367, 22.16682442549333, -25.966338235601953, 75.8292361243982, -18.221087643442033, -20.3144602111807, 41.4098027031859, 9.796832892360527, -32.74384397211847, 19.660632352880498, 22.78579895490421, -34.9757852040222, -0.44725043990540314, 1.1429983355382092, 22.16345906648766, 2.043476452451145, -45.23320283726826, -75.43564082135737, 22.255851397711808, -29.564149691098066, 0.26178003313603426, -10.736720386830385, -51.52251159374828, -31.30753919877482, 3.8647504890389968, -14.956671324472623, 2.5304921336750397, 4.292367843702792, 8.779526836472357, 18.06187651694529, 90.48757395781817, -9.098993137273013, 5.312826516858166, 20.893100981795726, 2.5495321597443876, -17.929153470535425, -22.822274022324862, -35.41829788424492, 0.7805215247726096, 12.928340107783697, -4.915020219919818, 2.498743143691314, 12.696425033254116, -0.7377546169278659, -56.180265915387984, 13.703639494503392, 52.99590713933026, -8.42884884119966, -11.786547389631522, 1.9413280633385597, 16.366988873124996, 45.153524402941144, 48.20395286486303, -4.219985277537631, -9.5612037815429, 12.261319466185498, 30.72400477135318, 4.908569705387833, -69.76635265036433, 16.59329645151233, -37.40034037019897, -53.616186587605654, 17.10127233977255, 37.11196992781106, -43.14798667407108, 49.3501989473566, -74.6318808167188, 7.3138891810510245, 3.037175323449574, -11.27800876862986, -10.301527478782987, -4.4174859027236835, 25.37241401844264, 63.80030781005837, 78.9207260890407, 85.38932128911478, 29.2277402316397, 11.297485310474308, -53.24345356536018, 59.31031849257971, -19.44671202059311, -3.871126794654927, 0.03563829592265222, 1.381214333697045, -43.06998950411926, 26.036312943412497, -31.6328775899579, 1.5068627700410389, 2.898152528416631, -19.83598044591426, 10.494759804614375, 13.079495257643543, 21.64010392129032, -3.7709941625628005, 8.237461646674689, -27.677377671953153, 80.18113503249384, 3.7408213508518315, -2.056840404330657, -3.8959802842245352, -34.28722466980716, 37.94337145997386, 3.953010262587597, -6.421540362017211, -1.4757207860595116, -3.945724181334029, 8.78012937020165, -25.763052682802993, -15.115309026748264, -17.138698499266084, -6.248784817825211, -13.490340065712374, 30.01423724053994, -42.070316255776774, -22.558741049299357, -2.528223588026023, -15.02119581118751, -17.23299357333717, 23.913364352141443, -42.455115324087146, -5.818237980591739, -4.972716118893629, 6.526905377554044, -51.49197148291602, 75.90097040414958, 80.8110109641635, 17.53932239922645, -72.31678285348815, 43.61170364695084, 3.6103863808841794, 4.576695821344018, -74.30506971120829, 9.05959390076211, 1.40336778698466, -2.7845014681251, 65.09764179870243, 27.95901956306264, -30.672752199374173, 10.273868532509482, 9.078683225217716, 12.79558625904518, 25.475285856934534, -30.660041412648226, 43.409785892966084, 55.44896722261538, -23.415757581370087, -52.70485750692215, 8.7985439794532, 28.797447306348403, -63.66051698695383, -20.764727818673407, -37.4765246599738, -19.81813866113822, -65.01874361620041, 20.658649103308477, -27.607451061175254, 4.160722627279526, -9.802610263597941, 51.995598082310664, 0.14250917608666214, 0.08700689486745716, 0.34457845596055847, 2.2344689563528988, -12.68423000882622, -15.521216517921907, -14.191257594020513, -15.013801191615883, 20.428046639001437, -33.054184147220255, -11.666778110748822, -24.446767782916638, 11.01085405730322, -25.124745354952125, 42.88468499675787, -1.1389946719822035, -2.6545201185429477, 71.31482019290806, -0.15494667275766005, -0.6303757842042614, -76.8826001447691, 4.675305026551243, 6.307969997278761, -45.51496137427578, -2.493786990480828, 7.704333747186837, -11.425595137253879, -77.8710029564254, 5.047263921081196, 38.096172026981606, -39.75912553541525, -8.806734158606048, 78.5587856075062, -1.6272936412143935, -3.40241983057345, -3.874971018730264, -8.129659073785845, -36.28256965727288, -4.598901745227195, -33.59152154620435, 2.128367852652218, 6.883033753314862, -16.145649702828962, -35.541622959431635, -13.02723845961141, 4.849337833953825, -10.564692583530118, -36.542419997450025, -40.89805217576685, -1.2930941952131576, 17.110871973845775, 19.134994046772675, -74.5705230369746, -27.367093317079366, -63.859719476050444, -72.85154000780263, -36.24704920884656, 49.92343225566995, -50.7084400440146, 4.436096973486343, 12.252672360018877, -9.9698714412595, 16.157385405736676, 0.5101971107632721, -34.171993675888615, 2.039183324095376, 4.659274256371077, 44.151427991625354, 80.08088594712021, 19.894041573948428, 22.324725924497542, 10.545256511548843, 15.572923768117434, 42.20857417050314, 52.38018690928112, 13.39358696426828, -23.97014232622891, 17.361898655312018, -3.896430230566409, 68.6754236011426, -43.98184220237762, 13.06543457898644, -15.786518051604801, 33.68571274428734, 45.76642471402482, -0.2076434478468201, -1.3286914110900625, 15.503233736792765, 2.6750417504033095, -12.437926507855863, -7.183377917616866, -13.08002670704181, -0.43406663533960455, 12.406402305309939, 15.864513000572941, 22.478857381220877, 12.32836345995949, -3.6803834548292116, -14.15951610609821, 51.13323777062084, -6.387048874319774, -44.469282411235426, -24.806302933802556, 49.482887302527956, 7.344390894223892, 43.96399640691478, -45.94320923053801, 25.259074132939205, -38.173239466334664, 33.564368817245025, 54.229858646755275, -2.705771087234382, -39.49964667640435, -64.67062860917278, 68.45861040502052, 23.77339382045028, -0.2718458422420156, 0.4289991318561732, -33.90179727543892, -23.941201728606693, -1.0618547642533898, 19.759092347177926, 57.858064656481474, 43.401256367589724, 15.774782930347165, -2.1242518274489512, -36.77561792620499, 2.4626661327046975, -2.6521043960999577, 2.198023805711756, 48.533947472702295, -1.4776596282395076, -64.34609505178915, 12.800425039345981, 26.854521363332196, -40.696568456435244, 1.7478197443609957, 18.44246399301271, -91.44270431906392, 5.256581064243335, -30.62445651089041, 65.83231390199575, -8.240084340820673, 14.96343906509459, -14.132709087260821, -0.9897919897925647, 3.6971296800122815, -45.04248342498802, 51.709471799283335, -54.64867439476604, -79.90595070791807, -0.5678799613495897, -2.620567209251007, -1.6542931740668791, 37.46558666239335, 43.11155039583383, 12.131879320637893, -13.517864930237764, 34.932046562561965, 24.012628495856262, -12.687324801890625, -20.742995999108544, -27.812254996992863, 14.928525336064126, -15.467757082028186, -46.32861205338084, 5.617427396717289, 53.05859535868663, 6.651648242286598, 56.45698496546504, -44.154133665412026, -20.205149753311353, -33.855072013458994, 62.4196552461583, 43.41594032169144, -20.763190056419347, 29.96951306668106, 51.06606055942058, -29.770926474681417, 20.32827776414706, 39.53354213515357, -13.902574915119104, -5.046294364461836, 1.1894510247991832, -1.7621953567242343, 3.084713226054987, -4.038764435060969, 27.717388320453978, 44.60267163627512, -6.593186940545358, -26.954462433023664, 42.000603362882174, -27.40836778993605, 48.97499117262032, 76.56287412019947, 24.999888002483857, -73.59971356635862, -20.127601323765873, -65.2513448043183, 40.541822476154124, 55.82928582382252, -20.683398169078686, -0.6420443809184349, 4.937472474306134, -14.020312104183418, -27.13152539193777, -27.87443143950926, -30.595203657157725, -47.989131350566126, 8.300646709297894, 10.103123166453855, 10.819605776905789, 2.650585955797979, -3.0984418470974475, 13.175342792318531, -33.245668032980504, -17.11425779787116, -20.732574571000754, -11.922533174197838, 18.62990886365479, -2.472139360219174, 5.512832138449028, 14.26945222634049, -57.03006823571819, 9.342807297554316, -4.925231304562658, 5.4486397949708305, -27.030396393987232, 5.544588629234795, 11.960507122387924, 23.807936574692633, 32.44552961668029, -33.57907724041189, -9.814643303969177, 19.55661307177259, 44.170843725021115, 24.374850421425634, 33.49545705171417, -51.65732188893906, 21.62793996785375, -12.13207295201775, 19.85936146020306, -21.198457921391835, -7.279134279917315, 2.8983881550897195, 13.922430892880385, 51.82960251252203, 25.273061643271404, 34.047263083946774, -0.5781806644855934, 8.177583853065357, 45.23927802667379, -6.790568429538425, -19.447171263225215, -41.41478194782424, 20.553490754983557, 12.818361059825918, 16.3677530613692, 6.208340118545564, 11.877415115348654, 4.881074254562122, 19.699142851560694, 15.544177809479166, 22.808243251786436, -59.32450391852488, 1.0249177857909046, 3.207578225795345, 6.612523977010838, -6.949634464488355, 25.763185504686945, -34.363563653880064, 40.78120207864916, 5.8443236418032996, 6.324931936854995, 15.387767756185639, 45.07252644865875, -19.53460718905295, 78.27462469435332, 26.18851609812478, 12.859774321265206, 15.906569860266018, 7.531140453012597, -7.545823869759147, 62.555518845029695, -39.47867820741855, -51.287529200942906, -13.841044147897215, 50.10172518206329, -0.9441949380917691, -6.81622942355861, 17.9089213992348, -17.16585008399511, 18.78465190360626, 6.444772306438949, -0.6733397408714552, -0.9391671601474343, -15.945477939697767, 20.125163223309855, 3.247818068211501, 0.707416708868891, 7.7599842236914185, -18.898611200072907, 33.04797806344047, -74.68725191948201, -0.0038497695129251497, 0.10335000366417546, -2.4207218818409757, -12.831960551337346, 14.271361005511295, 12.842812510146558, 2.3924735039832683, -13.7493124442652, -37.705319518017475, 20.96893883892605, -4.586673597876803, -2.401839723770273, -19.46837014619325, 32.2302443462323, 54.50555732078038, 76.1149564281992, -90.50045820220936, -19.708334689646733, 74.04518601022681, 0.3923324493497091, -0.6920304020464414, 20.62807629807277, 22.89398751517264, 1.6522900440093622, 38.57963091761502, 3.8906354430472305, -1.6292228050802464, 2.0420527060635294, 19.939493101056797, 49.9426814678053, 0.6040529516776303, 2.063941942478607, 30.22363735226702, 35.365430544893286, -56.85341301477833, 34.78262973235539, -53.83365677552203, 4.617785658161267, 32.47938547475508, -47.57640354813917, -0.8741921023670898, -3.271964234695176, 7.471842830942663, -1.1723299854869254, 1.266911377912578, -6.949322035482382, -26.227020506899933, -2.401118029418029, 45.2266244551281, 57.17590316059315, -93.91288573914771, 22.305437526320134, -11.215962870857723, -13.047374552723582, 12.153751047677702, -15.424531553104543, -3.2330468804065333, -43.22121375064545, -2.3441329721933073, 41.4061676090046, 97.88897488755538, 0.9860602285553455, 43.1725938257413, -54.74996198253959, 43.487829287883244, 55.75961902580599, -1.2611468540165873, 19.227490658440942, -5.573469200552836, 32.50346426930872, 3.0812452307981175, 3.8719604093205646, 18.352410461342643, 6.862183489999268, -20.06077227639385, -23.62840363006069, 15.470774966120182, -59.91841451184232, 36.1828091121681, -37.89271743996032, 38.6403533296517, 58.0198463653102, 82.02107754719609, 0.6890157107780794, 4.616801371927366, 78.42897916985521, -25.939325273016237, 23.194785415204635, -4.725921175579273, 37.4628146061699, 47.85754768285017, -22.42373130931827, -1.5698454974630636, 0.31637735317337956, 11.626778534164202, -8.10572807390129, -67.58750833887675, -37.32562417777121, -8.506402336973686, -30.41092193131449, -37.04235278881045, -2.736022517143674, -8.387620858300124, 10.587497672095722, -23.565722370707547, -3.0613113509736536, 31.77570307199872, 41.414607464063266, -21.693414887617152, -8.59332570615257, 22.158654122696774, -6.849626590476561, -61.263992601208585, 1.51989751327541, 20.86480399493682, -28.299298785184632, -28.987975311820932, 2.6090570981171766, -20.36929314156859, 7.411929235676865, 21.78041254574626, 10.164867166268465, 0.6123982231583085, -15.471972060580768, 2.094733360866911, -17.939012933928325, 45.167393300751996, 16.431264342934753, -5.476116858270302, 5.9755684292780415, 15.398309495570146, -12.990934421135947, -16.790256761942018, -33.86275837734158, 52.72047693612373, 0.5941502599020794, 8.620272280859552, -25.809468662026774, 32.5011509108723, -59.452647610027284, -3.993502831310593, 29.625210017406744, -32.589051689619716, -8.60845054061216, 20.572836240687423, -8.890877969044617, -38.505512026519995, 50.91520489154527, -0.5127283992395206, -13.158635337964668, -0.16860363284664004, -0.9401219622026531, 15.205861703972062, -17.295958891449942, -12.879918435050968, -28.018792486559562, 13.606831041185728, 53.7791326541182, 33.03970665876602, 52.513605416197606, 1.2642574975309628, 33.43854486471085, 21.656739093196876, 36.15318856313755, 6.7886818994143425, -14.74253062302715, 0.3372264000359593, -1.012433916118809, 82.82125469172635, 32.06192627802045, -32.3458396583671, 33.55410091379753, -83.79697385408056, -13.915193335824512, -0.11881667229361881, 9.840099712400772, -29.58548509100352, 2.9680096458055942, 3.4889822462484545, -41.17497682638893, 67.19355033796671, -9.11253119044811, 19.652533716297654, 17.26741934296936, -30.82981364762638, 2.7138938516484643, 6.0316005724097295, -27.889458909208727, -0.9924638524095499, 16.88395849454885, 34.38096009860542, -5.9285259760422875, 21.319991974586998, 25.76932245994975, -6.79701892690953, 7.6666568306307, 10.200971123876485, 36.948161305187114, 53.853867779637824, -16.319651403027223, -44.79070715557596, -1.950614695219059, -12.85660087397818, -33.15140313265096, -42.36604198808569, -7.998974591497998, -11.737962851047797, -0.2785879058359768, -2.927639174764195, 2.4738897222335936, -2.6644128762562502, 54.54529145974948, -6.53315562668061, 50.332691683468596, 28.403696520544003, 51.45396135249226, 70.38280684569273, -39.842448659281075, 5.819484843918033, 7.310748969820864, -1.078299253398228, 2.6425428424141444, -1.6424316823626768, -4.891912444711693, -11.208476762603084, -38.89291646507247, -24.40604032926059, -68.9225355077385, -2.6333283370043716, -35.582137871755876, 4.453014401020738, 78.53613578934508, -17.457545759334607, 65.1454187023183, -22.847699351258825, -3.3743743507317276, 5.29192201620927, -5.551715583804807, 20.924819472846366, 0.020137843634500996, 0.4455844027875173, -4.310596273092784, -8.456578357937701, 17.765944213207717, -63.343422847454974, -2.0588833551189083, 41.111541895996226, 47.44981183726017, -1.4925322875962763, -3.329249534070698, 10.02870137809228, -33.488424249572574, -8.631624509206468, -13.546360770804455, -22.965740342282885, 4.5578332788017235, 6.702660976465921, -12.536565194915852, -22.28540105830588, 12.501536808841252, 13.258328758315898, -6.730846915558146, -10.24292449049831, 64.72434756812834, -27.83789284123533, -4.363917120290893, -12.011290311478632, 13.735247560604677, -18.856777129531352, 35.295521902929096, -53.33347690797745, -0.3111401570355383, 0.8129274656574381, 51.14011537716152, 0.37877485534377797, 4.805689674148368, -6.696805657169797, -5.102148819623281, 9.330232377044908, 59.11871870607004, -12.920640786933411, 1.703873895703282, 5.937893720463009, -7.153473205594928, -22.824530509007474, 7.53110777492941, 0.833919685733548, -1.6785779099356688, -41.97891180415736, -39.51317083577586, -12.479338395913068, -14.598938949384575, 9.927237387323459, -58.37822340914238, 7.8827123198291815, 3.0612991982488325, 62.791123158698525, -38.2783599287591, -21.61549636884014, 25.752511696800312, -3.3158639625861213, -7.47695699886637, -18.009017683015458, -27.951292908563687, 55.502150976780456, -30.083293380368673, 2.0501500045654524, -4.295427726226663, 29.011333160775365, 0.6654696816387968, -1.0274858361391637, 36.19528406368323, -22.435225105840324, -22.464262185258704, 49.96664053182468, -70.57508151177151, 0.7567550518906785, 5.208163480296605, 65.88846987209607, -19.494856100952404, 10.331820488754857, -11.289237363384771, -18.16920225837346, -71.43234408024375, -3.478225287350014, 45.946214778566855, -54.4879326793543, 18.23328429115034, -25.460382042646174, 10.237595002856068, 8.585554151211284, -6.1990557769028385, 26.21510456680116, -13.241686142809755, -13.335901987759627, -11.33271937336955, -13.320285246352128, 33.483484863927146, 34.962445683656284, 10.91352855252913, -29.524246661701675, -47.34353021172715, 43.331600579181064, -46.388135065184976, -53.88126385303633, 8.056077830345458, 56.49428262465449, 65.07412672135612, -12.443858011541252, -15.397435339596925, 72.91812799516754, -1.574003677264784, 9.69703118825798, 1.735278950222039, 14.797701270933246, 27.427856213360855, -47.03972717115603, -0.026947550050238078, -4.269456900863929, 37.797755863037054, -1.5211402567678363, 59.43213977480033, -33.18482527931057, -0.3907555533547651, 1.6086229976878883, 22.1730758855268, 36.087219303592036, 49.05166779305776, 83.317189824655, -2.1608315709813724, -11.260134450596553, -15.702876728335283, -5.924848641335757, -15.880298073125076, 15.273227747304219, 17.645511336808653, 20.410675214582326, -42.49570842926578, -53.24256169283981, 14.572465901049178, -6.573590394575554, -18.135757552958395, -21.090644877306723, -2.587185374557407, -6.423840997545312, -31.734571937879537, 5.427459464051481, -13.48401766948865, -29.050601151452483, 15.833679632619152, -28.866135269312053, -16.16647927184215, 16.844307380126764, -21.738831334491408, -6.771906305938188, 41.11351175547645, 1.5134570303711996, -20.277097590032483]\n",
            "{}\n",
            "[57.089868203674285, -41.05856930401268, 45.76392767635059, -5.625052162404856, -88.45695360158777, 0.9656920313245934, 90.61681610601926, 49.61189766460595, 22.687446686529, -39.24677794563689, 30.19769893547371, -78.01740034390193, -71.94205251055962, -5.878351934474551, -34.796950382345585, 7.6009108242514, -72.66400911358323, -39.96491718961905, 80.56928088446665, 53.57125468258286, 15.549329553934157, 35.17480413101268, 29.579449767071566, -86.77887829691365, -16.770133676936894, 1.5778930948967513, 4.813470348687503, 98.45264202070433, -3.618239898414899, -41.73569292130803, 50.605935744483645, 49.024432761395644, -74.81987045793441, -75.875567781812, 55.93201336955639, 66.88615078810454, -86.7155897641821, 0.159104332998524, 71.49370401681847, 10.671276200138834, -46.77909662088015, 73.55429012404585, 16.119138360710195, -12.252500115623022, -60.148315440317155, -20.49916520252914, 20.531605342826282, 78.0919012427756, 32.22196686616513, -78.67951972929387, -3.512170621039786, -78.818947734774, -71.80879785519186, -31.219898366571755, -11.280798908380987, -5.645344841440391, -87.39694892382637, -45.946798880095315, 85.89637044893027, 52.94007409345119, 85.27743491124613, -7.551242898276328, 8.905390650838925, 34.86109381261292, -6.728231156878749, 59.77916476445765, -62.635780057720794, 35.18782463653383, 18.77713901253361, 28.635082691998946, -5.592954090609297, 92.06850114132268, 31.755848803153725, 62.63956017558573, 21.48823006895087, 97.9213833718832, 51.07079329274512, -99.06385500537014, 80.5816095161928, 3.7239750043000015, -87.55674059258934, -3.276797494579924, 3.9472711660421, 83.38856983920263, 25.719243630104955, -8.161311185229607, 74.44786329160655, 19.605582808810624, 41.55017969631578, -37.41772723857717, 11.487838373162134, 83.80916798656003, -61.555905433731084, -81.15546238368054, -7.943883064048521, -57.65125865116389, -59.540658967877015, 53.07983872790342, -31.52805112870567, 71.3433585857932, 1.4577571441264752, 48.08298636284957, 49.23588011430209, 86.40539919705893, -54.398235607492126, 21.92879893525823, 26.921826712720303, 0.5159964537363493, 57.656882700043866, -56.45946788718022, 74.58652602922564, 81.68142075025492, 36.29593889074613, 75.37427710781276, 36.59027927650419, 55.76972818122471, 26.663117591950765, 87.42425127312737, 38.15657298859608, -16.444265414588628, -32.46069076188721, -37.42956495393148, 86.81099680928997, 73.8682678765764, 89.15228727148485, 72.47007763091497, 2.336104272815305, -85.31284625710786, -21.06018752824606, 25.351920407319923, -39.268527519925996, 97.43794032898873, -28.39384461396979, -26.71920511150452, 94.76738203510112, -38.72751260909668, -29.2745716739488, -78.51624019151106, 86.76454080652334, 93.46104365076769, 22.16682442549333, -25.966338235601953, 75.8292361243982, -99.47892848816484, -20.3144602111807, 41.4098027031859, 75.28452083659747, -32.74384397211847, 42.44643130778471, 22.78579895490421, -34.9757852040222, -46.16718386143377, 1.1429983355382092, 22.16345906648766, 92.50988212698766, -45.23320283726826, -75.43564082135737, 81.38415077990794, -29.564149691098066, 86.15554312777911, -10.736720386830385, -51.52251159374828, -80.04230366123168, 48.734764462456866, -14.956671324472623, 88.37784900773087, 4.292367843702792, 26.841403353417647, 18.06187651694529, 90.48757395781817, -97.98422358131408, 88.88523044404107, 20.893100981795726, 74.26614604188609, -17.929153470535425, -22.822274022324862, -87.91217984015232, 52.4938819559074, 12.928340107783697, -60.69820664031891, 27.891593210199545, 12.696425033254116, -56.91802053231585, -56.180265915387984, 66.69954663383365, 52.99590713933026, -55.57503839972575, -11.786547389631522, 18.308316936463555, 16.366988873124996, 45.153524402941144, 48.20395286486303, -99.83202309296664, -9.5612037815429, 12.261319466185498, 30.72400477135318, 74.67492235575216, -69.76635265036433, 91.39397719191027, -37.40034037019897, -53.616186587605654, 54.21324226758361, 37.11196992781106, -92.49818562142768, 49.3501989473566, -74.6318808167188, 93.20499373352763, 14.315184092079434, -11.27800876862986, -40.09142739994931, -29.789899921166324, 25.37241401844264, 63.80030781005837, 78.9207260890407, 85.38932128911478, 93.76867910747418, 64.54093887583448, -53.24345356536018, 59.31031849257971, -93.70108340289704, -37.127185691151965, 11.085352965499013, 1.381214333697045, -43.06998950411926, 57.6691905333704, -31.6328775899579, 69.70926169303371, 22.73413297433089, -19.83598044591426, 75.89223609283209, 13.079495257643543, 99.54825290392532, -77.908148982635, 8.237461646674689, -27.677377671953153, 80.18113503249384, 89.88778865266517, -21.536741825453333, -3.8959802842245352, -34.28722466980716, 37.94337145997386, 74.58995424477692, -6.421540362017211, -76.44448023140606, -3.945724181334029, 86.06928741861063, -25.763052682802993, -32.25400752601435, -17.138698499266084, -46.71980501496233, -13.490340065712374, 72.08455349631672, -42.070316255776774, -91.8071411685244, -69.24840011922504, -66.72017653119902, -17.23299357333717, 66.36847967622859, -42.455115324087146, -49.952386364809634, -44.134148384217895, 6.526905377554044, -51.49197148291602, 75.90097040414958, 80.8110109641635, 89.8561052527146, -72.31678285348815, 97.56574406261922, 53.95404041566837, 4.576695821344018, -74.30506971120829, 93.99800573149977, 84.93841183073766, -2.7845014681251, 65.09764179870243, 89.30452396181099, -30.672752199374173, 75.89667698529817, 21.874269484262896, 12.79558625904518, 86.79536868223099, -30.660041412648226, 98.85875311558146, 55.44896722261538, -76.12061508829224, -52.70485750692215, 95.19088589849841, 28.797447306348403, -63.66051698695383, -95.717777138621, -37.4765246599738, -84.83688227733863, -65.01874361620041, 75.87355122565899, -27.607451061175254, 92.384214999661, -9.802610263597941, 51.995598082310664, 80.34918076704787, 11.458095941565887, 0.34457845596055847, 65.655619000484, -12.68423000882622, -59.740076495174186, -44.21885997725228, -15.013801191615883, 20.428046639001437, -93.61449782380235, -60.5603136765821, -24.446767782916638, 86.3850901221596, -25.124745354952125, 42.88468499675787, -70.15651775409884, -2.6545201185429477, 71.31482019290806, -77.06079234567756, -0.6303757842042614, -76.8826001447691, 99.29485498573266, 6.307969997278761, -45.51496137427578, -87.24145820953603, 7.704333747186837, -11.425595137253879, -77.8710029564254, 82.90256148347805, 77.85529756239686, -39.75912553541525, -87.36551976611224, 78.5587856075062, -90.0902092361241, -3.40241983057345, -84.56976940706187, -80.6947983883316, -36.28256965727288, -71.78194483763589, -33.59152154620435, 41.302701011625004, 39.174333158972786, -16.145649702828962, -35.541622959431635, -43.8552992945793, 15.414030417483943, -10.564692583530118, -36.542419997450025, -93.52376229251733, -52.62571011675048, 17.110871973845775, 19.134994046772675, -74.5705230369746, -91.22681279312981, -63.859719476050444, -72.85154000780263, -86.17048146451651, 49.92343225566995, -50.7084400440146, 77.95213113359961, 12.252672360018877, -58.44202765846953, 16.157385405736676, 68.8541844625405, -34.171993675888615, 99.883942707888, 4.659274256371077, 44.151427991625354, 80.08088594712021, 86.86821934744106, 22.324725924497542, 41.69110404778371, 15.572923768117434, 42.20857417050314, 52.38018690928112, 85.30401394295501, -23.97014232622891, 89.93375248702102, -72.571853831709, 68.6754236011426, -88.62031288457366, 44.63847068219604, -15.786518051604801, 33.68571274428734, 45.76642471402482, -89.22996799088101, -1.3286914110900625, 15.503233736792765, 64.86467428968263, -12.437926507855863, -20.263404624658676, -13.08002670704181, -25.246871245959483, 12.406402305309939, 98.67989642356764, 82.8153834229947, 30.16826302088691, -17.83989956092742, -14.15951610609821, 51.13323777062084, -95.32561369679063, -44.469282411235426, -74.28919023633051, 49.482887302527956, 97.25159653167668, 89.90720563745279, -45.94320923053801, 63.43231359927387, -38.173239466334664, 87.7942274640003, 54.229858646755275, -81.70506444004309, -39.49964667640435, -64.67062860917278, 68.45861040502052, 92.68510075968001, -68.91170693922973, 0.4289991318561732, -33.90179727543892, -64.52124118721594, -40.58003945860924, 19.759092347177926, 57.858064656481474, 98.07590905159083, 54.6746526840011, -38.89986975365394, -36.77561792620499, 58.15685845080381, -2.6521043960999577, 50.73197127841405, 48.533947472702295, -65.82375468002866, -64.34609505178915, 93.36398912934257, 26.854521363332196, -97.77178017983437, 57.07521172339912, 18.44246399301271, -91.44270431906392, 97.12995059691457, -30.62445651089041, 65.83231390199575, -83.05727966629362, 14.96343906509459, -89.06509467729902, -74.9323855900382, 3.6971296800122815, -45.04248342498802, 51.709471799283335, -54.64867439476604, -79.90595070791807, -87.04659786663282, -2.620567209251007, -76.58546649885358, 37.46558666239335, 43.11155039583383, 93.23906890206447, -13.517864930237764, 34.932046562561965, 90.8732700978546, -33.43032080099917, -20.742995999108544, -27.812254996992863, 45.8640395001205, -15.467757082028186, -46.32861205338084, 58.67602275540392, 53.05859535868663, 63.10863320775164, 56.45698496546504, -98.21435543218237, -54.06022176677035, -33.855072013458994, 62.4196552461583, 94.14864344479184, -50.73270312310041, 29.96951306668106, 51.06606055942058, -89.63274637398204, 59.86181989930063, 39.53354213515357, -63.62045989056093, -49.71788497544183, 22.335795305489995, -1.7621953567242343, 83.86000192727437, -4.038764435060969, 72.3200599567291, 44.60267163627512, -60.50211180659269, -26.954462433023664, 42.000603362882174, -76.38335896255637, 48.97499117262032, 76.56287412019947, 98.59960156884247, -73.59971356635862, -85.37894612808417, -65.2513448043183, 96.37110829997664, 55.82928582382252, -71.34221167397689, -25.329406752449103, 4.937472474306134, -68.28336288805896, -27.13152539193777, -58.469635096666984, -30.595203657157725, -47.989131350566126, 48.713139375113315, 10.103123166453855, 10.819605776905789, 15.044353344187769, -3.0984418470974475, 13.175342792318531, -33.245668032980504, -87.02918327037933, -69.91492547250817, -49.18235090150742, 18.62990886365479, -70.57561254247919, 34.05173659113001, 14.26945222634049, -57.03006823571819, 95.47422703627126, -43.06570986935847, 5.4486397949708305, -85.96160214200852, 29.465602874010642, 11.960507122387924, 88.69899580805321, 32.44552961668029, -33.57907724041189, -68.48448251928694, 19.55661307177259, 44.170843725021115, 57.8703074731398, 33.49545705171417, -51.65732188893906, 93.33809730048068, -71.71015733262693, 19.85936146020306, -73.14327303504002, -51.94481511364819, 44.665680833730875, 13.922430892880385, 51.82960251252203, 59.32032472721818, 34.047263083946774, -49.64368378287774, 8.177583853065357, 45.23927802667379, -45.684910955988855, -19.447171263225215, -41.41478194782424, 78.92571899737379, 29.186114121195118, 16.3677530613692, 89.35024592598614, 11.877415115348654, 83.6776456608049, 19.699142851560694, 83.96890756483847, 22.808243251786436, -59.32450391852488, 60.3402660534683, 29.657674133838697, 6.612523977010838, -6.949634464488355, 60.12674915856701, -34.363563653880064, 40.78120207864916, 58.33255884721521, 52.48823520541191, 15.387767756185639, 45.07252644865875, -97.80923188340627, 78.27462469435332, 86.76800000018804, 60.57948390206326, 15.906569860266018, 67.89773141108577, -7.545823869759147, 62.555518845029695, -90.76620740836145, -51.287529200942906, -63.942769329960505, 50.10172518206329, -69.10648917367787, -6.81622942355861, 91.42872719404869, -73.51980579481389, 18.78465190360626, 90.70398930043206, -84.2592169939931, -0.9391671601474343, -36.07064116300762, 20.125163223309855, 37.11742179845274, 8.46740093256031, 7.7599842236914185, -18.898611200072907, 33.04797806344047, -74.68725191948201, -85.78435281077856, 0.10335000366417546, -72.3381264552235, -69.91740457338253, 14.271361005511295, 61.268170354891964, 16.14178594824847, -13.7493124442652, -37.705319518017475, 86.36256259915288, -65.39362376022683, -60.80695016235003, -19.46837014619325, 86.73580166701268, 54.50555732078038, 76.1149564281992, -90.50045820220936, -93.75352069987355, 74.04518601022681, 78.59176788059759, -0.6920304020464414, 89.31003884359069, 22.89398751517264, 78.8115518792394, 38.57963091761502, 63.913726922003264, -20.00769715965201, 2.0420527060635294, 69.8821745688621, 49.9426814678053, 52.202601513642804, 2.063941942478607, 30.22363735226702, 35.365430544893286, -56.85341301477833, 88.61628650787742, -53.83365677552203, 69.57655660767142, 32.47938547475508, -47.57640354813917, -95.76115490852719, -3.271964234695176, 7.471842830942663, -75.92010128232903, 1.266911377912578, -85.63038355618218, -26.227020506899933, -92.85436693967424, 45.2266244551281, 57.17590316059315, -93.91288573914771, 95.09544979706405, -24.263337423581305, -13.047374552723582, 43.00281415388679, -15.424531553104543, -89.67547438169743, -43.22121375064545, -85.1564681902025, 41.4061676090046, 97.88897488755538, 98.90861603683624, 97.92255580828089, -54.74996198253959, 99.24744831368923, 55.75961902580599, -97.3986001462213, 19.227490658440942, -70.58039773917028, 32.50346426930872, 80.36284748548925, 77.28160225469114, 18.352410461342643, 46.983728042786964, -20.06077227639385, -23.62840363006069, 75.3891894779625, -59.91841451184232, 74.07552655212842, -37.89271743996032, 96.6601996949619, 58.0198463653102, 82.02107754719609, 93.0250431493254, 4.616801371927366, 78.42897916985521, -91.32284646997005, 65.38352119695381, -42.18873578174917, 37.4628146061699, 47.85754768285017, -95.65251213080683, -73.22878082148856, 11.943155887337582, 11.626778534164202, -75.69323641277803, -67.58750833887675, -76.24294844605939, -38.917324268288176, -30.41092193131449, -37.04235278881045, -40.68625957793537, -18.975118530395847, 10.587497672095722, -23.565722370707547, -34.83701442297237, 31.77570307199872, 41.414607464063266, -96.76270296186004, -75.06928807424289, 22.158654122696774, -68.11361919168515, -61.263992601208585, 64.11430949808587, 20.86480399493682, -86.2752494088265, -28.987975311820932, 43.34764338125436, -20.36929314156859, 72.75316687291564, 21.78041254574626, 74.50234830122477, 16.084370283739077, -15.471972060580768, 37.97275922872356, -17.939012933928325, 90.97704821906922, 45.80965491831722, -29.37839057538247, 5.9755684292780415, 15.398309495570146, -29.781191183077965, -16.790256761942018, -86.58323531346531, 52.72047693612373, 95.41714534935716, 8.620272280859552, -25.809468662026774, 32.5011509108723, -59.452647610027284, -63.24392286612408, 29.625210017406744, -82.34317471160672, -49.754123021987006, 20.572836240687423, -47.39638999556461, -38.505512026519995, 50.91520489154527, -66.65232875337357, -33.06980017706702, -19.911164839102355, -0.9401219622026531, 49.797779486871946, -17.295958891449942, -40.89871092161053, -28.018792486559562, 67.38596369530393, 53.7791326541182, 85.55331207496363, 52.513605416197606, 68.14134722695266, 33.43854486471085, 94.08367080180307, 72.42693170860619, 36.27374314546864, -14.74253062302715, 76.26977010894663, -1.012433916118809, 82.82125469172635, 96.75360559475465, -32.3458396583671, 33.55410091379753, -83.79697385408056, -93.00399628722033, -39.54440147569791, 39.42558480340429, -29.58548509100352, 55.30274333953241, 3.4889822462484545, -41.17497682638893, 67.19355033796671, -68.07013233934107, 19.652533716297654, 78.92704663822212, -30.82981364762638, 75.09310072056522, 6.0316005724097295, -27.889458909208727, -51.6443393360561, 16.88395849454885, 82.9494700238217, -48.56850992521628, 21.319991974586998, 60.63494046524295, -34.8656180052932, 28.06859907838367, 10.200971123876485, 36.948161305187114, 53.853867779637824, -61.11035855860318, -44.79070715557596, -90.32466068993389, -88.37404599471483, -75.51744512073665, -42.36604198808569, -54.950825995689186, -11.737962851047797, -93.96304149829022, -2.927639174764195, 10.467128351002344, -2.6644128762562502, 54.54529145974948, -56.865847310149206, 50.332691683468596, 79.85765787303626, 51.45396135249226, 70.38280684569273, -96.83717629194516, 56.99472763266408, 7.310748969820864, -77.71204168340842, 2.6425428424141444, -60.34538101890299, -4.891912444711693, -88.99430969274802, -38.89291646507247, -93.3285758369991, -68.9225355077385, -73.79760408051612, -35.582137871755876, 82.98915019036582, 78.53613578934508, -82.6029644616529, 65.1454187023183, -82.51566821481498, -29.833984431778077, 5.29192201620927, -68.3261740023439, 20.924819472846366, 36.55805887221092, 0.4455844027875173, -71.9632231365944, -8.456578357937701, 17.765944213207717, -63.343422847454974, -90.6202370883753, 88.5613537332564, 47.44981183726017, -54.76052483272744, -3.329249534070698, 77.00554987723743, -33.488424249572574, -45.14372562229381, -36.51210111308734, -22.965740342282885, 68.36786156679526, 63.81002828799353, -57.10736731152761, -22.28540105830588, 25.75986556715715, 13.258328758315898, -98.91716733004294, -10.24292449049831, 64.72434756812834, -92.25826151891938, -64.42036867768405, -12.011290311478632, 89.16235607873008, -18.856777129531352, 35.295521902929096, -53.33347690797745, -86.48145151672398, 0.8129274656574381, 51.14011537716152, 91.68687866416278, 4.805689674148368, -54.22203280459599, -23.762613573713097, 9.330232377044908, 59.11871870607004, -62.127664446340766, 49.207023659407355, 5.937893720463009, -52.802534223609875, -22.824530509007474, 91.4385261947757, 20.976854604961574, -1.6785779099356688, -41.97891180415736, -95.78932607984265, -56.27615524406679, -14.598938949384575, 68.30546079646584, -58.37822340914238, 73.73513467677654, 65.85242235694736, 62.791123158698525, -85.64636799439955, -47.36800806564045, 25.752511696800312, -78.08543395124983, -7.47695699886637, -73.91160350014283, -27.951292908563687, 55.502150976780456, -70.79229292097409, 40.70899954060542, -4.295427726226663, 29.011333160775365, 65.39707735840611, -1.0274858361391637, 36.19528406368323, -44.89948729109903, -22.464262185258704, 49.96664053182468, -70.57508151177151, 73.67104377604315, 5.208163480296605, 65.88846987209607, -88.74355583322372, 69.24869973227132, -29.45843962175823, -18.16920225837346, -71.43234408024375, -95.37065484448372, 45.946214778566855, -54.4879326793543, 69.15404837644269, -25.460382042646174, 83.65146984147535, 73.41387483861928, -32.414160343704, 26.21510456680116, -53.249392106088635, -13.335901987759627, -58.13648948364882, -46.803770110279274, 33.483484863927146, 34.962445683656284, 87.78130542595795, -76.86777687342882, -47.34353021172715, 89.71973564436604, -46.388135065184976, -53.88126385303633, 64.55036045499995, 56.49428262465449, 65.07412672135612, -89.43103470952587, -15.397435339596925, 72.91812799516754, -79.15025318332863, 9.69703118825798, 60.92608403395502, 14.797701270933246, 27.427856213360855, -47.03972717115603, -89.68554246819275, -4.269456900863929, 37.797755863037054, -60.95328003156817, 59.43213977480033, -91.48600874942932, -58.301183470118744, 1.6086229976878883, 22.1730758855268, 85.1388870966498, 49.05166779305776, 83.317189824655, -92.2419071757538, -11.260134450596553, -69.26861958904627, -53.565742860710984, -15.880298073125076, 50.564250420921525, 17.645511336808653, 20.410675214582326, -95.73827012210559, -53.24256169283981, 57.41757140154152, -42.845105500492345, -18.135757552958395, -42.94935324450007, -21.858708367193344, -6.423840997545312, -64.13006674090832, 32.39549480302878, -13.48401766948865, -29.050601151452483, 73.56595017124326, -28.866135269312053, -93.3327567010785, 38.58313871461817, -21.738831334491408, -47.88541806141464, 41.11351175547645, 42.067652210436165, -20.277097590032483]\n",
            "[57.089868203674285, -82.11713860802536, 183.05571070540236, -45.00041729923885, -1415.3112576254043, 30.902145002386987, 5799.4762307852325, 6350.322901069561, 5807.986351751424, -20094.35030816609, 30922.44370992508, -159779.63590431114, -294674.6470832522, -48155.459047215525, -570113.2350643501, 249066.64588906989, -4762108.501267791, -5238281.625877748, 21120753.568177626, 28086765.975022003, 16304653.786346063, 73766910.8329615, 124065204.47582734, -727953992.7125162, -281356155.0468445, 52945306.55598259, 323026526.9981022, 13214089927.616264, -971263877.0483971, -22406679521.614586, 54337709751.50867, 105279167707.57263, -321348896707.78485, -651766164376.6276, 960904672886.7178, 2298190641521.869, -5959049953448.231, 21867133020.177734, 19652039719816.906, 5866596132630.969, -51434160671514.72, 161747594528395.62, 70892720229324.12, -107774130771634.38, -1058140355484278.9, -721250255996222.5, 1444783283926102.0, 1.0990458041800556e+16, 9069677373225360.0, -4.429263196681718e+16, -3954352575044096.0, -1.774844918240314e+17, -3.233980752625653e+17, -2.8120384530047462e+17, -2.0321680704090445e+17, -2.0339498339431117e+17, -6.297613865706604e+18, -6.62163156208846e+18, 2.475794316456195e+19, 3.051787493890985e+19, 9.831818856688635e+19, -1.7411980647865025e+19, 4.1068865553107845e+19, 3.2153683784542506e+20, -1.2411395821970103e+20, 2.205461906700132e+21, -4.621704818327744e+21, 5.192806364645691e+21, 5.542033244810797e+21, 1.6903169342362064e+22, -6.602994734430505e+21, 2.1739060195891396e+23, 1.4996275602308929e+23, 5.9161391894976455e+23, 4.059011898152211e+23, 3.6993652703328816e+24, 3.858800039987575e+24, -1.4970106513318986e+25, 2.4354297082557345e+25, 2.2510047671488858e+24, -1.0584960438368153e+26, -7.922810193692396e+24, 1.9087832118594554e+25, 8.064847611147983e+26, 4.974825229662874e+26, -3.157254340394798e+26, 5.760124425495252e+27, 3.033816994068975e+27, 1.2859157771392942e+28, -2.3160451363846934e+28, 1.4221255086976431e+28, 2.075014494195143e+29, -3.0481007996352085e+29, -8.037247703318135e+29, -1.5734481459818708e+29, -2.2838016447831504e+30, -4.7172970049133505e+30, 8.410836177930549e+30, -9.991638234332512e+30, 4.5219225666789275e+31, 1.8479267187389158e+30, 1.2190485304726405e+32, 2.4965557191864076e+32, 8.762548492408922e+32, -1.1033272963071045e+33, 8.89537764242056e+32, 2.1841580666636975e+33, 8.372521142969868e+31, 1.87107281822718e+34, -3.664428971814423e+34, 9.68188461976436e+34, 2.1205709218110504e+35, 1.884592894799932e+35, 7.827312444824595e+35, 7.599503685612189e+35, 2.3165838754937143e+36, 2.2150851473828905e+36, 1.4525845287846996e+37, 1.2679696259913107e+37, -1.0929088979594425e+37, -4.314765892321727e+37, -9.950485121363134e+37, 4.6156642920361296e+38, 7.855021572934794e+38, 1.89605945807227e+39, 3.082536193398988e+39, 1.9873377283192745e+38, -1.4515228626565395e+40, -7.166410459910398e+39, 1.7253622964388132e+40, -5.344954995992171e+40, 2.652513037043956e+41, -1.5459079441963169e+41, -2.9094637944284148e+41, 2.063850820211522e+42, -1.68682107591474e+42, -2.550174858190837e+42, -1.3679458331699355e+43, 3.0233029949902965e+43, 6.513284126389121e+43, 3.0896043960843234e+43, -7.23835865913778e+43, 4.227621183523545e+44, -1.1092271184187066e+45, -4.530276010152294e+44, 1.846938917610347e+45, 6.715603666281718e+45, -5.841696969941255e+45, 1.5145392786909435e+46, 1.6260489492424452e+46, -4.991910873301994e+46, -1.3178401328992635e+47, 6.525366948654646e+45, 2.5306196652022e+47, 2.1125522530918953e+48, -2.0658875002621376e+48, -6.890582035844981e+48, 1.4867883702202567e+49, -1.0802013294958933e+49, 6.29582336731912e+49, -1.5691734424916693e+49, -1.5060047010732707e+50, -4.679278314265097e+50, 5.698075044545329e+50, -3.4974719407579045e+50, 4.1332598729146235e+51, 4.014913684222814e+50, 5.021280633507722e+51, 6.757750298312737e+51, 6.771084159869564e+52, -1.466410016734083e+53, 2.660473033287693e+53, 1.2507259409946357e+53, 8.891604503631665e+53, -4.2931793351712054e+53, -1.0929697866135083e+54, -8.420313974552095e+54, 1.0055830002521054e+55, 4.953155891494035e+54, -4.6509865507422506e+55, 4.2743742222276105e+55, 3.8914429496799953e+55, -3.489064506427486e+56, -6.887680559999358e+56, 1.6354681247060236e+57, 2.598911724005323e+57, -5.450783905985936e+57, -2.312042408552293e+57, 7.182698000867796e+57, 1.2842156782318425e+58, 7.085831659713167e+58, 1.5129055809026473e+59, -6.266557654040241e+59, -1.2003329769901727e+59, 3.078621987972939e+59, 1.5428616293463176e+60, 7.49987335534652e+60, -1.4013775785382434e+61, 3.671611474145476e+61, -3.0050014904554045e+61, -8.615789001571213e+61, 1.7423464300481927e+62, 2.3854654549758066e+62, -1.1891108280000164e+63, 1.2688433948841168e+63, -3.8377218751676215e+63, 9.585577622100885e+63, 2.9444625828010925e+63, -4.6395037065722395e+63, -3.298531324806443e+64, -4.901941608242182e+64, 8.350084579517564e+64, 4.1993478903978714e+65, 1.0389153155729206e+66, 2.2481362772448487e+66, 4.937497241770833e+66, 6.796954179454403e+66, -1.1214380222632984e+67, 2.4984422240182302e+67, -7.894300659988557e+67, -6.255918413342846e+67, 3.7357565592049196e+67, 9.309366193094085e+66, -5.805823099928966e+68, 1.5547583011174145e+69, -1.7056413855075393e+69, 7.517431909802544e+69, 4.9032881000949724e+69, -8.556431598599862e+69, 6.547362040043386e+70, 2.2567839653076458e+70, 3.4352839540452484e+71, -5.377022826261161e+71, 1.1370574165352883e+71, -7.640889609445816e+71, 4.427118846336282e+72, 9.926123471273826e+72, -4.756516134899011e+72, -1.7209003324041439e+72, -3.0290141133622894e+73, 6.704013449185074e+73, 2.635780834386762e+74, -4.538351895994413e+73, -1.0805256441229522e+75, -1.1154385901144196e+74, 4.866280570980458e+75, -2.9132399367898463e+75, -7.294451011158831e+75, -7.752053539212795e+75, -4.2263936183144775e+76, -2.4407416573917332e+76, 2.6083815784617495e+77, -3.0446311338318865e+77, -1.3288175853510828e+78, -2.0046042315366708e+78, -3.862834317415043e+78, -1.995444329669954e+78, 1.5369889842429734e+79, -1.9663866008748996e+79, -4.627272943656747e+79, -8.1766163969893e+79, 2.418444831748022e+79, -3.8159122924512977e+80, 1.1249576880942314e+81, 2.3954626029875603e+81, 5.327168592865283e+81, -8.574680446491359e+81, 2.3136955070472104e+82, 2.5589559552101732e+82, 4.341310840480716e+81, -1.4096694088147323e+83, 3.566543001285945e+83, 6.445594156977809e+83, -4.226065923815238e+82, 1.9759869324936337e+84, 5.4215350198636696e+84, -3.7241875960420325e+84, 1.8430264175330398e+85, 1.0623615716810018e+85, 1.242879369161903e+85, 1.686146627282334e+86, -1.1912461737340861e+86, 7.681992976074539e+86, 8.617518698353519e+86, -2.366034415825821e+87, -3.2764187887323955e+87, 1.1835159862938987e+88, 7.16081984736674e+87, -3.1659854339472078e+88, -9.520534941705937e+88, -7.455178613315739e+88, -3.3753082288865695e+89, -5.173653120401111e+89, 1.2074777617103507e+90, -8.787089222891825e+89, 5.880936549991547e+90, -1.248016860558418e+90, 1.3239612988086905e+91, 4.091854297286987e+91, 1.167027682663094e+91, 7.019187114614459e+89, 2.674857159049919e+92, -1.0335293144032202e+92, -9.735414803971523e+92, -1.4412065376985604e+93, -9.786769014033642e+92, 2.6632106195126214e+93, -2.4409100796617197e+94, -3.158106565050858e+94, -2.549706008519478e+94, 1.801928052712816e+95, -1.0481666085740595e+95, 3.578169187211983e+95, -1.1707297844383616e+96, -8.859407124685896e+94, 4.760235356283823e+96, -1.0287553339260035e+97, -1.6830931285234745e+95, -4.105505929927947e+97, 1.0604626149158585e+98, 1.3473742137165492e+97, -1.9443873487178806e+98, -7.453864949216193e+98, 1.316508560351924e+98, -3.904787694536844e+98, -5.322606489250673e+99, 1.1333042980694099e+100, 2.12861320026937e+100, -2.174079403601894e+100, -9.554514821473678e+100, 1.7182776075809117e+101, -3.9409975089513125e+101, -2.9767780961751485e+100, -1.479802315442626e+102, -2.823996100177557e+102, -2.539490456955527e+102, -1.004832709583701e+103, -9.404554220607951e+102, 2.3126876857132244e+103, 4.3870253360565454e+103, -3.6162134030955794e+103, -1.5920832630370587e+104, -3.928987040466718e+104, 2.7618794866662724e+104, -3.785954346669828e+104, -2.619062177783736e+105, -1.3406038711254559e+106, -1.5087124164782742e+106, 9.810940297599647e+105, 2.1943041181625694e+106, -1.71027391378957e+107, -4.1845713776445714e+107, -5.858487129433436e+107, -1.3366792494451252e+108, -3.1621100796490677e+108, 3.6639783290833e+108, -7.443183171837633e+108, 2.288423742315357e+109, 7.193980697570073e+108, -6.862679528978091e+109, 3.794630765166105e+109, 3.234139684248816e+110, -3.210175291444102e+110, 1.876653542278535e+111, 1.7508006393454977e+110, 3.318128279315351e+111, 1.2036695725636253e+112, 2.6113755165081995e+112, 1.3422225787503977e+112, 5.013162658768618e+112, 3.7451442798299682e+112, 2.0301544201747323e+113, 5.038780393476064e+113, 1.6411861747840011e+114, -9.223356410805948e+113, 6.92103568898166e+114, -1.1169830602972003e+115, 2.1140230205251846e+115, -5.455965808444358e+115, 5.496391557554568e+115, -3.8876280130551605e+115, 1.659105827850468e+116, 4.508222375422069e+116, -1.7579198758403873e+117, -5.235310721286677e+115, 1.221717023522521e+117, 1.0223193193156738e+118, -3.920634058662687e+117, -1.2774700713293595e+118, -1.6492137387515734e+118, -6.3665752145463625e+118, 6.257115398512448e+118, 9.953755879272903e+119, 1.6707032324042864e+120, 1.2172186485590472e+120, -1.4395962020714852e+120, -2.2852130461713575e+120, 1.650484962492182e+121, -6.153863858677433e+121, -5.741539954251249e+121, -1.9183325243093962e+122, 2.555543594086821e+122, 1.0045116931507173e+123, 1.8573029663715767e+123, -1.8981895429516497e+123, 5.241538689871856e+123, -6.308661949320003e+123, 2.9018449045203085e+124, 3.584897174508905e+124, -1.0802324105696475e+125, -1.0444590880217201e+125, -3.4200724038008864e+125, 7.240795683732005e+125, 1.9606412504035864e+126, -2.915487692268941e+126, 3.629983190007785e+124, -5.737212273061347e+126, -2.183790161948893e+127, -2.7469493553006027e+127, 2.6750701432790408e+127, 1.5666142815772346e+128, 5.3111738427870155e+128, 5.9216700208402784e+128, -8.42628827900025e+128, -1.5932287704149178e+129, 5.039054966619304e+129, -4.5958809279443364e+128, 1.7582874910833281e+130, 3.364215132340329e+130, -9.12537648772793e+130, -1.784104676851131e+131, 5.177350063623067e+131, 2.9783487013692468e+131, -2.1687108147589512e+132, 2.5320113572959646e+132, 1.636315551946902e+132, -1.622658656089082e+133, 3.4471586612674173e+133, -2.1737344631466679e+133, 9.345600596475495e+133, -2.358173718598137e+134, 8.496880438397188e+133, -1.0114993717893041e+135, -1.7019924859590587e+135, 1.67951063760972e+134, -4.092327648965539e+135, 9.39611162914769e+135, -1.9860386390768873e+136, -5.807873927617081e+136, -1.265376762953122e+137, -7.618918909211603e+135, -4.453222621568854e+137, 4.357030274348878e+137, 1.0027246173476361e+138, 4.337265017298351e+138, -1.2576393857400754e+138, 6.499830825105223e+138, 3.3817708395773316e+139, -2.4881614565162114e+139, -3.087731251212479e+139, -8.280073806560629e+139, 2.7308654560305895e+140, -1.8419818209633412e+140, -1.1034109307540408e+141, 2.794979690170141e+141, 5.054797154015589e+141, 1.202449244560073e+142, 2.1514222530658234e+142, -7.485364299087767e+142, -8.240352486825019e+142, -1.0320998240122962e+143, 3.805829458514037e+143, 1.1480796530781101e+144, -1.2373026752199243e+144, 1.4618325620248091e+144, 4.9817312663037455e+144, -1.7488181003363716e+145, 2.3359193686239844e+145, 3.085344446231796e+145, -9.930353921689766e+145, -1.5520673534686277e+146, 1.3945347323013627e+146, -2.2004523200909805e+145, 2.0943187155677206e+147, -2.017281123235099e+146, 7.22448135451791e+147, 8.911252833328773e+147, -2.417566461738071e+148, -2.1541133830358655e+148, 6.71310452021629e+148, -2.4417243147225744e+149, 3.1311382055908557e+149, 9.789851291351388e+149, 2.521523513419927e+150, -3.764384548936946e+150, -8.733707511491918e+150, -1.3349571202190514e+151, 3.943253509771068e+151, 4.568776496531246e+151, -1.1676546282006722e+152, -8.291304216704801e+151, 3.2324552048278845e+151, -8.940724750133447e+152, -7.104966431669183e+152, -3.0623032699607093e+153, -3.2048016735363133e+153, -1.0053578998018397e+154, 2.0410513012688852e+154, 8.466295931772923e+153, 1.813339951680627e+154, 5.04279500172648e+154, -2.0771656583989572e+154, 1.7665246557056044e+155, -8.915030629776702e+155, -4.6674822943560786e+156, -7.499247137373126e+156, -1.055084023088721e+157, 7.993159673478995e+156, -6.056091248048696e+157, 5.843957041854329e+157, 4.897845112736386e+157, -3.9149987898164724e+158, 1.310822500722747e+159, -1.182549537372143e+159, 2.9923047772328226e+158, -9.441744083928616e+159, 6.472812853243073e+159, 5.254813523695623e+159, 7.793928433651948e+160, 5.701939092333702e+160, -1.1802294828509418e+161, -4.814152861221444e+161, 2.7494848850981716e+161, 1.242005113444433e+162, 3.254419057317061e+162, 3.7673293446121514e+162, -1.1620091901765307e+163, 4.199200535015476e+163, -6.452356320652365e+163, 3.573822208965083e+163, -2.632522240283048e+164, -3.739123924316604e+164, 6.430305524657136e+164, 4.0086922494434505e+164, 2.9846644954787337e+165, 6.832051896628832e+165, 7.842595919606245e+165, -2.2870287747351452e+166, 7.534642135570317e+165, 8.336490986265707e+166, -1.683722044230663e+167, -1.433454953446899e+167, -6.105384019658834e+167, 2.327052326938378e+168, 1.7210515315616212e+168, 1.9303526572614098e+168, 2.1075279423327232e+169, 5.603114793666654e+168, 7.894907263035225e+169, 3.7171912461490965e+169, 3.168955020030137e+170, 1.72154906016863e+170, -8.955537946387648e+170, 1.8217751743161932e+171, 1.790831164619344e+171, 7.985733447190529e+170, -1.6785701974543249e+171, 2.904525978254107e+172, -3.319982029125289e+172, 7.880024283334454e+172, 2.2542836247867553e+173, 4.056855089365396e+173, 2.3786642355701793e+173, 1.3934757577442364e+174, -6.047799147374712e+174, 9.679847175405495e+174, 2.1460364275064842e+175, 2.996629614906156e+175, 1.5736713238398314e+175, 1.3434538535213492e+176, -2.986098635444584e+175, 4.9510021088958563e+176, -1.4367515211840712e+177, -1.623675544042596e+177, -4.0486376472783993e+177, 6.344540059532731e+177, -1.750234696880384e+178, -3.452642836196432e+177, 9.262327317741164e+178, -1.4896073181967153e+179, 7.612031790041422e+178, 7.351125307846832e+179, -1.36576145600897e+180, -3.0446005881355683e+178, -2.3386826107096833e+180, 2.609677441293607e+180, 9.626207476837649e+180, 4.391951499702055e+180, 8.050043837619607e+180, -3.9210040702465616e+181, 1.3713309949428375e+182, -6.198318292736548e+182, -1.4238540302188224e+183, 3.43081959398723e+180, -4.802690911194111e+183, -9.283947482016062e+183, 3.790031019615374e+183, 3.254185302585307e+184, 1.7147031578061175e+184, -2.9211128857030466e+184, -1.602138218185174e+185, 7.339270104548234e+185, -1.1114572181446953e+186, -2.0670004133465462e+186, -1.3235700534864581e+186, 1.1793581978309201e+187, 1.4822385824111892e+187, 4.139780626494404e+187, -9.844373855952733e+187, -2.039646486693317e+188, 3.2217670840496975e+188, 6.839185218604543e+188, -1.2044325313286217e+187, 3.108762731791795e+189, 1.5938180318994e+189, 1.0973297895253928e+190, 1.0743241889123524e+190, 3.5596018522041125e+190, -2.2286115768134903e+190, 4.549191508530061e+189, 3.113606168952551e+191, 4.450400751595355e+191, 9.303565214507415e+191, 7.356728555295663e+190, 2.1545867291916623e+192, 5.04227114930368e+192, -1.6211895049317188e+193, 5.053831811829821e+193, -6.14032155669435e+193, 1.58719453950565e+194, 1.481852675254309e+194, -4.3412903197682974e+194, -1.747618330980302e+195, -1.1942514019024313e+194, 5.454374275261122e+194, -1.1084190521103644e+196, 3.699333074890271e+194, -5.000749312502954e+196, -3.063276125181197e+196, -2.169049780475726e+197, 2.1129603933391026e+197, 5.342446856788448e+197, -1.7550211662413813e+198, 3.554241271440813e+198, -1.8137093927800015e+198, -1.9506092970041768e+198, 1.2858018101182577e+199, -9.223996606471121e+198, -1.0725334102143008e+200, -1.0338656382294464e+200, -4.0739414141748624e+200, 3.961796551914712e+200, 1.8732291616171904e+201, 3.7854825654927516e+201, 7.495487099782804e+201, -8.381677344230849e+201, 3.038760426057871e+202, 3.4144983381766573e+202, -1.1928609418442783e+203, 4.709661654622814e+202, -3.457651325439785e+203, 3.184613572949275e+203, 1.5747528493742587e+204, 3.028748412050922e+204, 1.438501077110475e+204, 7.365369637800718e+204, -6.289624480238293e+204, -1.4816357401699798e+205, 9.45466475872191e+205, -1.5028906027679389e+206, 3.715966574124818e+206, -3.801743381751317e+206, 1.939566752114503e+207, 2.3284322881201866e+207, 6.583282694849996e+207, 1.493299466591959e+208, 1.4822389310786696e+207, 5.035975208168273e+208, -1.1727797445026357e+209, 1.6793271836803995e+209, -2.1671726926417706e+209, 3.848818282870412e+209, 9.833484559633724e+209, -3.9308219775980336e+210, -6.018645922277015e+210, 1.9632069706491637e+210, 3.8224021991818184e+210, -4.9769588794905295e+211, -8.887986977738141e+211, -2.0052413518050938e+212, -2.0471041457582242e+212, -3.199311645001843e+212, -7.793912391289694e+212, -1.7121220376449136e+213, -1.596987235485936e+213, 1.7821336516016172e+213, -7.933369746437147e+213, -2.345567107443654e+214, 4.278899623064612e+214, 1.1153738934796924e+215, -5.212006070072741e+215, -8.087032981565485e+215, 4.774196514029166e+215, -2.9350862331459776e+216, -5.279857491211243e+216, 1.105100738376058e+217, 7.192687710865791e+216, -5.948303433143528e+217, -3.9971897907847415e+217, 1.1954526365797674e+218, -1.1234993781408058e+218, 8.025623390208674e+218, 4.805327269969611e+218, 3.287432368112503e+219, 1.4194526936972127e+219, -2.730816566738977e+219, 1.3404450264072703e+220, -1.266500573271521e+220, 1.2846022704636103e+221, 1.2936710493293438e+221, -1.6592997013852406e+221, 6.750035462198931e+220, 3.4788032764799507e+221, -1.3456399937275243e+222, -1.5173094229126175e+222, -1.5648784967382035e+223, 1.905707043550311e+223, 6.898159369386892e+223, 1.2464009855494605e+223, -7.463557096284765e+223, 1.8797302547739784e+224, -6.8769835717786746e+224, -1.4631052982468626e+225, 1.3707183164427331e+225, -7.619814188316324e+225, -9.208223361753231e+225, 7.615018003846866e+225, -3.508746765988082e+226, -5.701113135764582e+226, 1.5076976159538572e+227, -3.947408534377564e+227, -3.917042776768932e+227, -4.716864570844748e+227, -4.454212510036811e+226, 4.718747168565052e+228, -3.277867322102704e+228, -1.5501950355853747e+229, -2.124007922841938e+229, 1.0216594512117e+230, 1.6307241490968428e+230, 5.188400970805849e+230, 6.3694001953583816e+230, 1.6529792875560742e+231, 1.6223108088335173e+231, 9.12916256936645e+231, 1.4055515230929876e+232, 1.4078910627202224e+232, -1.1444022759273447e+232, 1.1841019798975546e+233, -3.1436439440666185e+231, 5.1432598534380054e+233, 1.2016937854494695e+234, -8.034800204843632e+233, 1.666987159665741e+234, -8.32616435126461e+234, -1.8481969522198723e+235, -1.5716710077497308e+235, 3.133897405789238e+235, -4.703436889423447e+235, 1.7583822763722055e+236, 2.2186836217924374e+235, -5.236727519070719e+236, 1.7091658151626627e+237, -3.462925910085815e+237, 1.9995632700032153e+237, 1.6060995060066116e+238, -1.2547219382651917e+238, 6.112327629570672e+238, 9.819042888231071e+237, -9.080435279873703e+238, -3.3629414069274107e+239, 2.198876541519456e+239, 2.160579153588195e+240, -2.530121290350083e+240, 2.2212814718035744e+240, 1.2634833067470334e+241, -1.4530277754410673e+241, 2.339522797067256e+241, 1.7005055670849758e+241, 1.2318543642568031e+242, 3.5909836762102836e+242, -8.149695057344579e+242, -1.1946603270891018e+243, -4.8182891290036385e+243, -9.428470626955945e+243, -1.61136452479771e+244, -1.8079832284195155e+244, -4.69008513072544e+244, -2.0036839860068934e+244, -3.207920214363586e+245, -1.999005723811033e+244, 1.4294008405051298e+245, -7.277094303345706e+244, 2.9795024134082378e+246, -6.212522649223446e+246, 1.0997567146919867e+247, 3.489739671295671e+247, 4.49702470519699e+247, 1.2302773698525243e+248, -3.3853889008318344e+248, 3.9850257044226477e+248, 1.022323424408152e+248, -2.1734254834762254e+249, 1.4781158313350078e+248, -6.750881128609865e+249, -1.0945235193882041e+249, -3.982342944658774e+250, -3.48078280547651e+250, -1.6705175726524506e+251, -2.4673323402797523e+251, -5.283706231688892e+251, -5.095167138615728e+251, 2.3767182985777747e+252, 4.498377693998713e+252, -9.462633450393917e+252, 1.4925547095556124e+253, -3.781053270036551e+253, -2.7341203636703045e+253, 9.699510154641893e+252, -2.504687017433765e+254, 1.5341155696493593e+254, 5.360551605694462e+254, 1.3067314072578821e+253, -4.220821162132892e+255, -9.919985052550455e+254, 4.1680664112582006e+255, -2.9721988313835023e+256, -8.504161937140618e+256, 1.662189633835371e+257, 1.781151304459236e+257, -4.1111556173587896e+257, -4.998879380865194e+256, 2.312481846458879e+258, -2.01131926899054e+258, -5.422676477189003e+258, -8.771686833968705e+258, -1.1034603654761458e+259, 6.56989275215495e+259, 1.2263804447196555e+260, -2.1951207482369278e+260, -1.713234160454589e+260, 3.9606809447051066e+260, 4.077040692219164e+260, -6.083561868394397e+261, -1.2599120361650893e+261, 1.5922598006001764e+262, -4.539222923342986e+262, -6.339126912162414e+262, -2.3638825801897654e+262, 3.509520374206002e+263, -1.4844435799681397e+263, 5.557069538502851e+263, -1.6794076071342692e+264, -5.44639562141412e+264, 1.0239246709747336e+263, 1.2882730138493238e+265, 4.619376809613848e+265, 4.842414041877213e+264, -1.0927277907458e+266, -9.577681576906399e+265, 7.521226103237523e+265, 9.531279229786546e+266, -2.0032779149922812e+267, 3.1733156119052973e+267, 7.658585886194864e+266, -1.3620747099822704e+268, -1.1775463519187295e+268, 9.434858071055718e+268, 4.328889675089529e+268, -6.927996327376165e+267, -3.465192113931681e+269, -1.5814055346609945e+270, -1.858149065548886e+270, -9.640674509179157e+269, 9.02135034636862e+270, -1.5420448082232995e+271, 3.895386840229279e+271, 6.957894918642261e+271, 1.326888278744258e+272, -3.619720625845917e+272, -4.003881537898869e+272, 4.353571549576594e+272, -2.640134893939231e+273, -5.056045429808179e+272, -9.996056554647847e+273, -7.560455773063833e+273, 3.0025198415154315e+274, -7.659352309085119e+274, 8.8089976116454e+274, -1.858970400074999e+274, 2.5110984539819866e+275, 1.1320989555327626e+276, -3.557393354271467e+274, 2.506328719195603e+276, -6.218095941827408e+276, -6.222117264933468e+276, 2.7679368604218448e+277, -7.819111609846504e+277, 1.6324235165146456e+278, 2.308078753148779e+277, 5.839900301309576e+278, -1.5731235509210333e+279, 2.455091175842008e+279, -2.0887946040595225e+279, -2.576628777671247e+279, -2.0260067645936076e+280, -5.409918835691295e+280, 5.212615833761651e+280, -1.2363354065276947e+281, 3.138221411909816e+281, -2.310792150495543e+281, 1.5184466561681296e+282, 2.665226396530726e+282, -2.353535376230365e+282, 3.80686560042446e+282, -1.5465380161702576e+283, -7.746371775625407e+282, -6.753901786072392e+283, -1.087468711476443e+284, 1.555953379606862e+284, 3.249359243333311e+284, 1.6316535677081505e+285, -2.857592098197154e+285, -3.5200314965933514e+285, 1.3341476392732915e+286, -1.3795988238936241e+286, -3.2048940159847122e+286, 7.678998195593645e+286, 1.3441272559229416e+287, 3.096522455650639e+287, -8.511069488366623e+287, -2.9307195772382698e+287, 2.77582052514205e+288, -6.026125557448046e+288, 1.476572092311145e+288, 1.8554494387369864e+289, 9.013015345758583e+288, 3.3411633932341257e+289, -1.1460422807337503e+290, -4.370068868176442e+290, -4.1607198157057666e+289, 7.367019996230629e+290, -2.3760354157297163e+291, 4.633478915798759e+291, -1.4264958126606023e+292, -1.8181226884881607e+292, 1.003298319259395e+291, 2.765869914919165e+292, 2.1240452847052386e+293, 2.447482395782266e+293, 8.314390296460122e+293, -1.8410011656972935e+294, -4.494686045456237e+293, -5.529964126465794e+294, -8.552693504926289e+294, -5.0711262434831305e+294, 3.2293814147674593e+295, 2.2539278597346937e+295, 5.214265387274832e+295, -4.891604446075439e+296, -5.4406989214442914e+296, 1.1734661476227534e+297, -1.7512855270225995e+297, -1.482591271655142e+297, -7.022186534815255e+297, -7.14776433026799e+297, -4.2011724365636107e+297, -8.388173644081181e+298, 8.47462195202718e+298, -7.0548051720257825e+298, -3.039840740011389e+299, 1.5395810313344377e+300, -1.2082153280183963e+300, -7.813035323252139e+300, 6.459713316402354e+300, -7.279170276586898e+300, -3.206852350719908e+301, 5.50668521470585e+301, 1.1268962856900189e+302, -1.0863542298237862e+302]\n"
          ]
        }
      ],
      "source": [
        "import math\n",
        "import random\n",
        "\n",
        "input_mode = input(\"Введите 'random' для случайной генерации последовательности или 'manual' для ручного ввода: \").lower()\n",
        "\n",
        "num_list = []\n",
        "\n",
        "if input_mode == 'random':\n",
        "    for i in range(0, 1000):\n",
        "        num_list.append(random.uniform(-100.0, 100.0))\n",
        "elif input_mode == 'manual':\n",
        "    num_list = list(map(float, input(\"Введите числа: \").split()))\n",
        "\n",
        "int_parts, frac_parts = [], []\n",
        "ceil_values, floor_values = [], []\n",
        "\n",
        "fabs_copysign_values = []\n",
        "gcd_values, fmod_values = [], []\n",
        "close_pairs, finite_numbers = {}, []\n",
        "ldexp_values = []\n",
        "\n",
        "for i in range(0, len(num_list)):\n",
        "    frac_part, int_part = math.modf(num_list[i])\n",
        "\n",
        "    int_parts.append(int(int_part))\n",
        "    frac_parts.append(frac_part)\n",
        "\n",
        "    ceil_values.append(math.ceil(frac_part))\n",
        "    floor_values.append(math.floor(frac_part))\n",
        "\n",
        "    if i == len(num_list) - 1:\n",
        "        fabs_copysign_values.append(math.copysign(math.fabs(int_part), num_list[i-1]))\n",
        "        if num_list[i-1] != 0:\n",
        "            fmod_values.append(math.fmod(num_list[i], num_list[0]))\n",
        "    else:\n",
        "        fabs_copysign_values.append(math.copysign(math.fabs(int_part), num_list[i+1]))\n",
        "\n",
        "        if num_list[i+1] != 0:\n",
        "            fmod_values.append(math.fmod(num_list[i], num_list[i+1]))\n",
        "\n",
        "    if i != len(num_list) - 1:\n",
        "        if not math.isinf(num_list[i]) and not math.isnan(num_list[i]):\n",
        "            if not math.isinf(num_list[i+1]) and not math.isnan(num_list[i+1]):\n",
        "                if math.isclose(num_list[i], num_list[i+1], abs_tol=1e-09):\n",
        "                    close_pairs[num_list[i]] = num_list[i+1]\n",
        "    \n",
        "    if math.isfinite(num_list[i]):\n",
        "        finite_numbers.append(num_list[i])\n",
        "    \n",
        "    ldexp_values.append(math.ldexp(num_list[i], i))\n",
        "\n",
        "for i in range(0, len(int_parts)):\n",
        "    if i != len(num_list) - 1 and int_parts[i+1] != 0:\n",
        "        gcd_values.append(math.gcd(int_parts[i], int_parts[i+1]))\n",
        "\n",
        "print(frac_parts)\n",
        "print(int_parts)\n",
        "print(ceil_values)\n",
        "print(floor_values)\n",
        "print(fabs_copysign_values)\n",
        "print(gcd_values)\n",
        "print(fmod_values)\n",
        "print(close_pairs)\n",
        "print(finite_numbers)\n",
        "print(ldexp_values)"
      ]
    }
  ],
  "metadata": {
    "colab": {
      "authorship_tag": "ABX9TyOq7QKhPjNeAeTfkcbEuGbI",
      "collapsed_sections": [
        "nLwGZB0cl6Px"
      ],
      "include_colab_link": true,
      "provenance": []
    },
    "kernelspec": {
      "display_name": "Python 3",
      "name": "python3"
    },
    "language_info": {
      "codemirror_mode": {
        "name": "ipython",
        "version": 3
      },
      "file_extension": ".py",
      "mimetype": "text/x-python",
      "name": "python",
      "nbconvert_exporter": "python",
      "pygments_lexer": "ipython3",
      "version": "3.10.7"
    }
  },
  "nbformat": 4,
  "nbformat_minor": 0
}
