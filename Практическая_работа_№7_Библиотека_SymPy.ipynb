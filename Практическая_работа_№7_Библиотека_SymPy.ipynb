{
  "cells": [
    {
      "cell_type": "markdown",
      "metadata": {
        "colab_type": "text",
        "id": "view-in-github"
      },
      "source": [
        "<a href=\"https://colab.research.google.com/github/Alexandre77777/computer_math/blob/main/7.%20%D0%91%D0%B8%D0%B1%D0%BB%D0%B8%D0%BE%D1%82%D0%B5%D0%BA%D0%B0%20SymPy/%D0%9F%D1%80%D0%B0%D0%BA%D1%82%D0%B8%D1%87%D0%B5%D1%81%D0%BA%D0%B0%D1%8F_%D1%80%D0%B0%D0%B1%D0%BE%D1%82%D0%B0_%E2%84%967_%D0%91%D0%B8%D0%B1%D0%BB%D0%B8%D0%BE%D1%82%D0%B5%D0%BA%D0%B0_SymPy.ipynb\" target=\"_parent\"><img src=\"https://colab.research.google.com/assets/colab-badge.svg\" alt=\"Open In Colab\"/></a>"
      ]
    },
    {
      "cell_type": "markdown",
      "metadata": {
        "id": "0qkHmBUjAFmt"
      },
      "source": [
        "# Практическая работа №7. Библиотека SymPy"
      ]
    },
    {
      "cell_type": "code",
      "execution_count": 1,
      "metadata": {
        "id": "DYTW0oZXAFmu"
      },
      "outputs": [],
      "source": [
        "import sympy as sym"
      ]
    },
    {
      "cell_type": "markdown",
      "metadata": {
        "id": "6hFSGKxwAFmw"
      },
      "source": [
        "### Задание №1. Создание выражения\n",
        "\n",
        "#### Создайте выражение:\n",
        "\n",
        "$$f = x e^{-x} + x (1-x)$$\n",
        "\n",
        "#### Затем вычислите его для\n",
        "\n",
        "$$x = 0, 0.1, 0.2, 0.4, 0.8$$"
      ]
    },
    {
      "cell_type": "markdown",
      "metadata": {
        "id": "qKSd5DSKj29u"
      },
      "source": [
        "- Выведите выражение:"
      ]
    },
    {
      "cell_type": "code",
      "execution_count": 7,
      "metadata": {
        "colab": {
          "base_uri": "https://localhost:8080/",
          "height": 39
        },
        "id": "JuTimvu7jgEN",
        "outputId": "b35bfea0-3ca8-4a60-9e59-763e8016ebf5"
      },
      "outputs": [
        {
          "data": {
            "text/latex": [
              "$\\displaystyle x \\left(1 - x\\right) + x e^{- x}$"
            ],
            "text/plain": [
              "x*(1 - x) + x*exp(-x)"
            ]
          },
          "metadata": {},
          "output_type": "display_data"
        },
        {
          "name": "stdout",
          "output_type": "stream",
          "text": [
            "None\n"
          ]
        }
      ],
      "source": [
        "x = sym.Symbol('x')\n",
        "\n",
        "f = x * sym.exp(-x) + x * (1 - x)\n",
        "\n",
        "print(display(f))"
      ]
    },
    {
      "cell_type": "markdown",
      "metadata": {
        "id": "AW9-JqqVj7Ze"
      },
      "source": [
        "- Выведите ответ:"
      ]
    },
    {
      "cell_type": "code",
      "execution_count": 10,
      "metadata": {
        "colab": {
          "base_uri": "https://localhost:8080/"
        },
        "id": "d-IRBMquAFmw",
        "outputId": "4e38014b-e7b7-4137-bef6-91245e41a3d4"
      },
      "outputs": [
        {
          "name": "stdout",
          "output_type": "stream",
          "text": [
            "f(0.1) = 0.180483741803596\n",
            "f(0.2) = 0.323746150615596\n",
            "f(0.4) = 0.508128018414256\n",
            "f(0.8) = 0.519463171293777\n"
          ]
        }
      ],
      "source": [
        "print(f\"f({0.1}) = {f.subs(x, 0.1).evalf()}\")\n",
        "print(f\"f({0.2}) = {f.subs(x, 0.2).evalf()}\")\n",
        "print(f\"f({0.4}) = {f.subs(x, 0.4).evalf()}\")\n",
        "print(f\"f({0.8}) = {f.subs(x, 0.8).evalf()}\")"
      ]
    },
    {
      "cell_type": "markdown",
      "metadata": {
        "id": "oJRj1psnAFmw"
      },
      "source": [
        "### Задание №2. Факторизация* полинома и нахождение его корней\n",
        "\n",
        "#### Факторизуйте:\n",
        "\n",
        "$$x^{4} - 6 x^{3} + x^{2} + 24 x + 16$$\n",
        "\n",
        "#### Затем найдите его нули."
      ]
    },
    {
      "cell_type": "markdown",
      "metadata": {
        "id": "7GS-N6qFm1HC"
      },
      "source": [
        "**Факторизация многочлена — представление многочлена в виде произведения многочленов меньших степеней.*"
      ]
    },
    {
      "cell_type": "markdown",
      "metadata": {
        "id": "zFACvm-LnKj_"
      },
      "source": [
        "- Выведите выражение:"
      ]
    },
    {
      "cell_type": "code",
      "execution_count": 18,
      "metadata": {
        "colab": {
          "base_uri": "https://localhost:8080/",
          "height": 39
        },
        "id": "UTr81ZEInhe_",
        "outputId": "0cb85433-a50c-4600-c75f-602aa4a91a8a"
      },
      "outputs": [
        {
          "data": {
            "text/latex": [
              "$\\displaystyle x^{4} - 6 x^{3} + x^{2} + 24 x + 16$"
            ],
            "text/plain": [
              "x**4 - 6*x**3 + x**2 + 24*x + 16"
            ]
          },
          "metadata": {},
          "output_type": "display_data"
        }
      ],
      "source": [
        "x = sym.Symbol('x')\n",
        "\n",
        "poly = x**4 - 6*x**3 + x**2 + 24*x + 16\n",
        "\n",
        "display(poly)"
      ]
    },
    {
      "cell_type": "markdown",
      "metadata": {
        "id": "qFc3xqTXna-z"
      },
      "source": [
        "- Факторизуйте полином и выведите результат факторизации:"
      ]
    },
    {
      "cell_type": "code",
      "execution_count": 19,
      "metadata": {
        "colab": {
          "base_uri": "https://localhost:8080/",
          "height": 40
        },
        "id": "eoXv5zxcnmyw",
        "outputId": "46eb6404-dc56-48b4-d8e2-260b6da6fdbf"
      },
      "outputs": [
        {
          "data": {
            "text/latex": [
              "$\\displaystyle \\left(x - 4\\right)^{2} \\left(x + 1\\right)^{2}$"
            ],
            "text/plain": [
              "(x - 4)**2*(x + 1)**2"
            ]
          },
          "metadata": {},
          "output_type": "display_data"
        }
      ],
      "source": [
        "factored_poly = sym.factor(poly)\n",
        "\n",
        "display(factored_poly)"
      ]
    },
    {
      "cell_type": "markdown",
      "metadata": {
        "id": "gYCmRhVVoPOm"
      },
      "source": [
        "> Создадим символьное представление уравнения. В данном случае, `sp.Eq(polynomial, factored_polynomial)` создает уравнение, которое показывает равенство между исходным полиномом и его факторизованным видом.\n",
        ">\n",
        ">\n",
        "> Это удобно использовать для демонстрации шагов решения или преобразования математических выражений."
      ]
    },
    {
      "cell_type": "code",
      "execution_count": 22,
      "metadata": {
        "colab": {
          "base_uri": "https://localhost:8080/",
          "height": 40
        },
        "id": "TTM-p2fLn7UR",
        "outputId": "e09d8675-e6af-4377-a8bc-69c7565491ac"
      },
      "outputs": [
        {
          "data": {
            "text/latex": [
              "$\\displaystyle x^{4} - 6 x^{3} + x^{2} + 24 x + 16 = \\left(x - 4\\right)^{2} \\left(x + 1\\right)^{2}$"
            ],
            "text/plain": [
              "Eq(x**4 - 6*x**3 + x**2 + 24*x + 16, (x - 4)**2*(x + 1)**2)"
            ]
          },
          "execution_count": 22,
          "metadata": {},
          "output_type": "execute_result"
        }
      ],
      "source": [
        "equation = sym.Eq(poly, factored_poly)\n",
        "equation"
      ]
    },
    {
      "cell_type": "markdown",
      "metadata": {
        "id": "I5XyFuhFn7L2"
      },
      "source": [
        "- Найдите корни полинома и выведите их:"
      ]
    },
    {
      "cell_type": "code",
      "execution_count": 24,
      "metadata": {
        "colab": {
          "base_uri": "https://localhost:8080/"
        },
        "id": "hFaHQyklAFmw",
        "outputId": "12af22d7-44e4-4b8c-d375-8efe84062bd0"
      },
      "outputs": [
        {
          "name": "stdout",
          "output_type": "stream",
          "text": [
            "Корни: [-1, 4]\n"
          ]
        }
      ],
      "source": [
        "roots = sym.solve(poly, x)\n",
        "\n",
        "print(\"Корни:\", roots)"
      ]
    },
    {
      "cell_type": "markdown",
      "metadata": {
        "id": "a_G4Cq2PAFmw"
      },
      "source": [
        "### Задание №3. Интегрирование и дифференцирование\n",
        "\n",
        "#### Интегрируйте функцию:\n",
        "\n",
        "$$f = \\sin(x) e^{-x}$$\n",
        "\n",
        "#### Затем продифференцируйте результат, чтобы увидеть, получите ли вы исходную функцию."
      ]
    },
    {
      "cell_type": "markdown",
      "metadata": {
        "id": "i72UGEbLrTM_"
      },
      "source": [
        "- Интегрируйте функцию и выведите результат:"
      ]
    },
    {
      "cell_type": "code",
      "execution_count": 25,
      "metadata": {
        "colab": {
          "base_uri": "https://localhost:8080/",
          "height": 53
        },
        "id": "BbQulP_GAFmw",
        "outputId": "5090c9d0-1d35-4294-f47a-54ade24c9dfc"
      },
      "outputs": [
        {
          "data": {
            "text/latex": [
              "$\\displaystyle - \\frac{e^{- x} \\sin{\\left(x \\right)}}{2} - \\frac{e^{- x} \\cos{\\left(x \\right)}}{2}$"
            ],
            "text/plain": [
              "-exp(-x)*sin(x)/2 - exp(-x)*cos(x)/2"
            ]
          },
          "metadata": {},
          "output_type": "display_data"
        }
      ],
      "source": [
        "x = sym.Symbol('x')\n",
        "\n",
        "f = sym.sin(x) * sym.exp(-x)\n",
        "\n",
        "integral_f = sym.integrate(f, x)\n",
        "\n",
        "display(integral_f)"
      ]
    },
    {
      "cell_type": "markdown",
      "metadata": {
        "id": "QeF-_fTVrjf5"
      },
      "source": [
        "- Продифференцируйте результат и выведите его:"
      ]
    },
    {
      "cell_type": "code",
      "execution_count": 26,
      "metadata": {
        "colab": {
          "base_uri": "https://localhost:8080/",
          "height": 39
        },
        "id": "8cg1hsyDq8fn",
        "outputId": "f774a702-3622-4168-e53a-3e23f967f390"
      },
      "outputs": [
        {
          "data": {
            "text/latex": [
              "$\\displaystyle e^{- x} \\sin{\\left(x \\right)}$"
            ],
            "text/plain": [
              "exp(-x)*sin(x)"
            ]
          },
          "metadata": {},
          "output_type": "display_data"
        }
      ],
      "source": [
        "derivative_of_integral = sym.diff(integral_f, x)\n",
        "\n",
        "display(derivative_of_integral)"
      ]
    },
    {
      "cell_type": "code",
      "execution_count": 27,
      "metadata": {
        "colab": {
          "base_uri": "https://localhost:8080/"
        },
        "id": "4TYFgx3orPJ5",
        "outputId": "2559a17e-0eff-480e-8747-7c791be4441f"
      },
      "outputs": [
        {
          "name": "stdout",
          "output_type": "stream",
          "text": [
            "Интеграл функции: -exp(-x)*sin(x)/2 - exp(-x)*cos(x)/2\n",
            "Производная интеграла: exp(-x)*sin(x)\n"
          ]
        }
      ],
      "source": [
        "print(f'Интеграл функции: {integral_f}')\n",
        "print(f'Производная интеграла: {derivative_of_integral}')"
      ]
    },
    {
      "cell_type": "markdown",
      "metadata": {
        "id": "0DufGORtr8vg"
      },
      "source": [
        "### Задание №4. Парсинг выражения\n",
        "\n",
        "#### Напишите функцию, которая считывает математическое выражение в виде строки (например, `\"sin(2*pi*x)\"`), преобразует его в выражение SymPy, а затем вычисляет его на указанном диапазоне значений.\n",
        "\n",
        "#### Пусть ваша программа либо создает график введенной функции, либо использует входную функцию в качестве функции для подгонки набора данных с использованием curvefit.\n",
        "\n",
        "- Подсказка: `parse_expr()` преобразует строку в выражение SymPy."
      ]
    },
    {
      "cell_type": "markdown",
      "metadata": {
        "id": "9ZR3KNaGt2PV"
      },
      "source": [
        "#### Пример:"
      ]
    },
    {
      "cell_type": "code",
      "execution_count": 28,
      "metadata": {
        "id": "OcNWJPq4AFmx"
      },
      "outputs": [],
      "source": [
        "from sympy.parsing.sympy_parser import parse_expr"
      ]
    },
    {
      "cell_type": "code",
      "execution_count": 29,
      "metadata": {
        "colab": {
          "base_uri": "https://localhost:8080/",
          "height": 39
        },
        "id": "9JfxaQh7AFmx",
        "outputId": "1657acb3-efbd-4056-8b8f-b95f03e218aa"
      },
      "outputs": [
        {
          "data": {
            "text/latex": [
              "$\\displaystyle \\sin{\\left(2 \\pi x \\right)}$"
            ],
            "text/plain": [
              "sin(2*pi*x)"
            ]
          },
          "execution_count": 29,
          "metadata": {},
          "output_type": "execute_result"
        }
      ],
      "source": [
        "s = \"sin(2*pi*x)\"\n",
        "a = parse_expr(s)\n",
        "a"
      ]
    },
    {
      "cell_type": "markdown",
      "metadata": {
        "id": "IAuedaQqsSuI"
      },
      "source": [
        "> `sympy.lambdify()` преобразует выражение SymPy в функцию, которую можно вызвать с помощью python. Вы также можете сделать ее совместимой с numpy (это означает, например, что любой `sin()` в вашем выражении SymPy будет вычислен с использованием `np.sin()`)"
      ]
    },
    {
      "cell_type": "code",
      "execution_count": 33,
      "metadata": {
        "id": "-i8k_NyzAFmy"
      },
      "outputs": [],
      "source": [
        "f = sym.lambdify(x, a, \"numpy\")"
      ]
    },
    {
      "cell_type": "code",
      "execution_count": 34,
      "metadata": {
        "colab": {
          "base_uri": "https://localhost:8080/"
        },
        "id": "jZ10pSLcAFmy",
        "outputId": "8c236636-82cd-4f17-b347-300af4c896d7"
      },
      "outputs": [
        {
          "data": {
            "text/plain": [
              "-2.4492935982947064e-16"
            ]
          },
          "execution_count": 34,
          "metadata": {},
          "output_type": "execute_result"
        }
      ],
      "source": [
        "f(1.0)"
      ]
    },
    {
      "cell_type": "markdown",
      "metadata": {
        "id": "lwaeE_cHu7ew"
      },
      "source": [
        "#### 4.1. Постройте график этой функции с помощью matplotlib:"
      ]
    },
    {
      "cell_type": "code",
      "execution_count": 47,
      "metadata": {
        "colab": {
          "base_uri": "https://localhost:8080/",
          "height": 564
        },
        "id": "IEdWOAXvAFmz",
        "outputId": "ce46cbbf-5419-4aa0-cfef-9320932de372"
      },
      "outputs": [
        {
          "data": {
            "text/latex": [
              "$\\displaystyle \\sin{\\left(2 \\pi x \\right)}$"
            ],
            "text/plain": [
              "sin(2*pi*x)"
            ]
          },
          "metadata": {},
          "output_type": "display_data"
        },
        {
          "name": "stdout",
          "output_type": "stream",
          "text": [
            "f(0.0) = 0\n",
            "f(0.1) = 0.587785252292473\n",
            "f(0.2) = 0.951056516295154\n",
            "f(0.3) = 0.951056516295154\n",
            "f(0.4) = 0.587785252292473\n",
            "f(0.5) = 0\n",
            "f(0.6) = -0.587785252292473\n",
            "f(0.7) = -0.951056516295154\n",
            "f(0.8) = -0.951056516295154\n",
            "f(0.9) = -0.587785252292473\n",
            "f(1.0) = 0\n"
          ]
        },
        {
          "data": {
            "image/png": "[encoded data removed]",
            "text/plain": [
              "<Figure size 800x600 with 1 Axes>"
            ]
          },
          "metadata": {},
          "output_type": "display_data"
        },
        {
          "data": {
            "text/latex": [
              "$\\displaystyle \\sin{\\left(2 \\pi x \\right)}$"
            ],
            "text/plain": [
              "sin(2*pi*x)"
            ]
          },
          "metadata": {},
          "output_type": "display_data"
        },
        {
          "name": "stdout",
          "output_type": "stream",
          "text": [
            "f(0.0) = 0\n",
            "f(0.001001001001001001) = 0.00628943331606775\n",
            "f(0.002002002002002002) = 0.0125786178387411\n",
            "f(0.003003003003003003) = 0.0188673047844671\n",
            "f(0.004004004004004004) = 0.0251552453893759\n",
            "f(0.005005005005005005) = 0.0314421909191206\n",
            "f(0.006006006006006006) = 0.0377278926787172\n",
            "f(0.007007007007007007) = 0.0440121020223817\n",
            "f(0.008008008008008008) = 0.0502945703633662\n",
            "f(0.009009009009009009) = 0.0565750491837924\n",
            "f(0.01001001001001001) = 0.0628532900444820\n",
            "f(0.011011011011011011) = 0.0691290445947845\n",
            "f(0.012012012012012012) = 0.0754020645824016\n",
            "f(0.013013013013013013) = 0.0816721018632066\n",
            "f(0.014014014014014014) = 0.0879389084110613\n",
            "f(0.015015015015015015) = 0.0942022363276263\n",
            "f(0.016016016016016016) = 0.100461837852168\n",
            "f(0.017017017017017015) = 0.106717465371359\n",
            "f(0.018018018018018018) = 0.112968871429073\n",
            "f(0.01901901901901902) = 0.119215808736173\n",
            "f(0.02002002002002002) = 0.125458030180296\n",
            "f(0.02102102102102102) = 0.131695288835624\n",
            "f(0.022022022022022022) = 0.137927337972654\n",
            "f(0.023023023023023025) = 0.144153931067958\n",
            "f(0.024024024024024024) = 0.150374821813937\n",
            "f(0.025025025025025023) = 0.156589764128558\n",
            "f(0.026026026026026026) = 0.162798512165094\n",
            "f(0.02702702702702703) = 0.169000820321849\n",
            "f(0.028028028028028028) = 0.175196443251869\n",
            "f(0.029029029029029027) = 0.181385135872651\n",
            "f(0.03003003003003003) = 0.187566653375837\n",
            "f(0.031031031031031032) = 0.193740751236898\n",
            "f(0.03203203203203203) = 0.199907185224805\n",
            "f(0.03303303303303303) = 0.206065711411693\n",
            "f(0.03403403403403403) = 0.212216086182508\n",
            "f(0.035035035035035036) = 0.218358066244645\n",
            "f(0.036036036036036036) = 0.224491408637573\n",
            "f(0.037037037037037035) = 0.230615870742440\n",
            "f(0.03803803803803804) = 0.236731210291680\n",
            "f(0.03903903903903904) = 0.242837185378587\n",
            "f(0.04004004004004004) = 0.248933554466892\n",
            "f(0.04104104104104104) = 0.255020076400310\n",
            "f(0.04204204204204204) = 0.261096510412088\n",
            "f(0.043043043043043044) = 0.267162616134521\n",
            "f(0.044044044044044044) = 0.273218153608466\n",
            "f(0.04504504504504504) = 0.279262883292830\n",
            "f(0.04604604604604605) = 0.285296566074050\n",
            "f(0.04704704704704705) = 0.291318963275547\n",
            "f(0.04804804804804805) = 0.297329836667172\n",
            "f(0.04904904904904905) = 0.303328948474627\n",
            "f(0.050050050050050046) = 0.309316061388869\n",
            "f(0.05105105105105105) = 0.315290938575502\n",
            "f(0.05205205205205205) = 0.321253343684144\n",
            "f(0.05305305305305305) = 0.327203040857772\n",
            "f(0.05405405405405406) = 0.333139794742058\n",
            "f(0.055055055055055056) = 0.339063370494675\n",
            "f(0.056056056056056056) = 0.344973533794591\n",
            "f(0.057057057057057055) = 0.350870050851330\n",
            "f(0.058058058058058054) = 0.356752688414232\n",
            "f(0.05905905905905906) = 0.362621213781667\n",
            "f(0.06006006006006006) = 0.368475394810250\n",
            "f(0.06106106106106106) = 0.374314999924019\n",
            "f(0.062062062062062065) = 0.380139798123597\n",
            "f(0.06306306306306306) = 0.385949558995329\n",
            "f(0.06406406406406406) = 0.391744052720397\n",
            "f(0.06506506506506507) = 0.397523050083913\n",
            "f(0.06606606606606606) = 0.403286322483981\n",
            "f(0.06706706706706707) = 0.409033641940746\n",
            "f(0.06806806806806806) = 0.414764781105407\n",
            "f(0.06906906906906907) = 0.420479513269214\n",
            "f(0.07007007007007007) = 0.426177612372435\n",
            "f(0.07107107107107107) = 0.431858853013297\n",
            "f(0.07207207207207207) = 0.437523010456904\n",
            "f(0.07307307307307308) = 0.443169860644126\n",
            "f(0.07407407407407407) = 0.448799180200462\n",
            "f(0.07507507507507508) = 0.454410746444877\n",
            "f(0.07607607607607608) = 0.460004337398611\n",
            "f(0.07707707707707707) = 0.465579731793957\n",
            "f(0.07807807807807808) = 0.471136709083018\n",
            "f(0.07907907907907907) = 0.476675049446427\n",
            "f(0.08008008008008008) = 0.482194533802048\n",
            "f(0.08108108108108109) = 0.487694943813635\n",
            "f(0.08208208208208208) = 0.493176061899474\n",
            "f(0.08308308308308308) = 0.498637671240992\n",
            "f(0.08408408408408408) = 0.504079555791325\n",
            "f(0.08508508508508508) = 0.509501500283873\n",
            "f(0.08608608608608609) = 0.514903290240813\n",
            "f(0.08708708708708708) = 0.520284711981579\n",
            "f(0.08808808808808809) = 0.525645552631321\n",
            "f(0.0890890890890891) = 0.530985600129320\n",
            "f(0.09009009009009009) = 0.536304643237382\n",
            "f(0.09109109109109109) = 0.541602471548190\n",
            "f(0.0920920920920921) = 0.546878875493627\n",
            "f(0.09309309309309309) = 0.552133646353070\n",
            "f(0.0940940940940941) = 0.557366576261642\n",
            "f(0.09509509509509509) = 0.562577458218437\n",
            "f(0.0960960960960961) = 0.567766086094708\n",
            "f(0.0970970970970971) = 0.572932254642020\n",
            "f(0.0980980980980981) = 0.578075759500371\n",
            "f(0.0990990990990991) = 0.583196397206273\n",
            "f(0.10010010010010009) = 0.588293965200805\n",
            "f(0.1011011011011011) = 0.593368261837620\n",
            "f(0.1021021021021021) = 0.598419086390927\n",
            "f(0.1031031031031031) = 0.603446239063426\n",
            "f(0.1041041041041041) = 0.608449520994217\n",
            "f(0.10510510510510511) = 0.613428734266662\n",
            "f(0.1061061061061061) = 0.618383681916215\n",
            "f(0.10710710710710711) = 0.623314167938217\n",
            "f(0.10810810810810811) = 0.628219997295642\n",
            "f(0.1091091091091091) = 0.633100975926821\n",
            "f(0.11011011011011011) = 0.637956910753112\n",
            "f(0.1111111111111111) = 0.642787609686539\n",
            "f(0.11211211211211211) = 0.647592881637394\n",
            "f(0.11311311311311312) = 0.652372536521791\n",
            "f(0.11411411411411411) = 0.657126385269189\n",
            "f(0.11511511511511512) = 0.661854239829868\n",
            "f(0.11611611611611611) = 0.666555913182372\n",
            "f(0.11711711711711711) = 0.671231219340903\n",
            "f(0.11811811811811812) = 0.675879973362679\n",
            "f(0.11911911911911911) = 0.680501991355252\n",
            "f(0.12012012012012012) = 0.685097090483781\n",
            "f(0.12112112112112113) = 0.689665088978262\n",
            "f(0.12212212212212212) = 0.694205806140723\n",
            "f(0.12312312312312312) = 0.698719062352367\n",
            "f(0.12412412412412413) = 0.703204679080684\n",
            "f(0.12512512512512514) = 0.707662478886504\n",
            "f(0.12612612612612611) = 0.712092285431025\n",
            "f(0.12712712712712712) = 0.716493923482783\n",
            "f(0.12812812812812813) = 0.720867218924585\n",
            "f(0.12912912912912913) = 0.725211998760397\n",
            "f(0.13013013013013014) = 0.729528091122188\n",
            "f(0.13113113113113112) = 0.733815325276728\n",
            "f(0.13213213213213212) = 0.738073531632339\n",
            "f(0.13313313313313313) = 0.742302541745609\n",
            "f(0.13413413413413414) = 0.746502188328052\n",
            "f(0.13513513513513514) = 0.750672305252724\n",
            "f(0.13613613613613612) = 0.754812727560799\n",
            "f(0.13713713713713713) = 0.758923291468089\n",
            "f(0.13813813813813813) = 0.763003834371527\n",
            "f(0.13913913913913914) = 0.767054194855599\n",
            "f(0.14014014014014015) = 0.771074212698725\n",
            "f(0.14114114114114115) = 0.775063728879602\n",
            "f(0.14214214214214213) = 0.779022585583491\n",
            "f(0.14314314314314314) = 0.782950626208463\n",
            "f(0.14414414414414414) = 0.786847695371590\n",
            "f(0.14514514514514515) = 0.790713638915094\n",
            "f(0.14614614614614616) = 0.794548303912444\n",
            "f(0.14714714714714713) = 0.798351538674406\n",
            "f(0.14814814814814814) = 0.802123192755044\n",
            "f(0.14914914914914915) = 0.805863116957669\n",
            "f(0.15015015015015015) = 0.809571163340744\n",
            "f(0.15115115115115116) = 0.813247185223733\n",
            "f(0.15215215215215216) = 0.816891037192905\n",
            "f(0.15315315315315314) = 0.820502575107087\n",
            "f(0.15415415415415415) = 0.824081656103364\n",
            "f(0.15515515515515516) = 0.827628138602731\n",
            "f(0.15615615615615616) = 0.831141882315694\n",
            "f(0.15715715715715717) = 0.834622748247817\n",
            "f(0.15815815815815815) = 0.838070598705226\n",
            "f(0.15915915915915915) = 0.841485297300050\n",
            "f(0.16016016016016016) = 0.844866708955818\n",
            "f(0.16116116116116116) = 0.848214699912802\n",
            "f(0.16216216216216217) = 0.851529137733311\n",
            "f(0.16316316316316315) = 0.854809891306926\n",
            "f(0.16416416416416416) = 0.858056830855688\n",
            "f(0.16516516516516516) = 0.861269827939231\n",
            "f(0.16616616616616617) = 0.864448755459865\n",
            "f(0.16716716716716717) = 0.867593487667601\n",
            "f(0.16816816816816815) = 0.870703900165127\n",
            "f(0.16916916916916916) = 0.873779869912728\n",
            "f(0.17017017017017017) = 0.876821275233154\n",
            "f(0.17117117117117117) = 0.879827995816429\n",
            "f(0.17217217217217218) = 0.882799912724620\n",
            "f(0.17317317317317318) = 0.885736908396529\n",
            "f(0.17417417417417416) = 0.888638866652356\n",
            "f(0.17517517517517517) = 0.891505672698284\n",
            "f(0.17617617617617617) = 0.894337213131027\n",
            "f(0.17717717717717718) = 0.897133375942314\n",
            "f(0.1781781781781782) = 0.899894050523318\n",
            "f(0.17917917917917917) = 0.902619127669034\n",
            "f(0.18018018018018017) = 0.905308499582597\n",
            "f(0.18118118118118118) = 0.907962059879546\n",
            "f(0.18218218218218218) = 0.910579703592036\n",
            "f(0.1831831831831832) = 0.913161327172983\n",
            "f(0.1841841841841842) = 0.915706828500169\n",
            "f(0.18518518518518517) = 0.918216106880274\n",
            "f(0.18618618618618618) = 0.920689063052863\n",
            "f(0.1871871871871872) = 0.923125599194312\n",
            "f(0.1881881881881882) = 0.925525618921678\n",
            "f(0.1891891891891892) = 0.927889027296509\n",
            "f(0.19019019019019018) = 0.930215730828604\n",
            "f(0.19119119119119118) = 0.932505637479707\n",
            "f(0.1921921921921922) = 0.934758656667151\n",
            "f(0.1931931931931932) = 0.936974699267438\n",
            "f(0.1941941941941942) = 0.939153677619768\n",
            "f(0.19519519519519518) = 0.941295505529503\n",
            "f(0.1961961961961962) = 0.943400098271581\n",
            "f(0.1971971971971972) = 0.945467372593863\n",
            "f(0.1981981981981982) = 0.947497246720430\n",
            "f(0.1991991991991992) = 0.949489640354813\n",
            "f(0.20020020020020018) = 0.951444474683177\n",
            "f(0.2012012012012012) = 0.953361672377429\n",
            "f(0.2022022022022022) = 0.955241157598287\n",
            "f(0.2032032032032032) = 0.957082855998271\n",
            "f(0.2042042042042042) = 0.958886694724650\n",
            "f(0.20520520520520522) = 0.960652602422321\n",
            "f(0.2062062062062062) = 0.962380509236633\n",
            "f(0.2072072072072072) = 0.964070346816151\n",
            "f(0.2082082082082082) = 0.965722048315355\n",
            "f(0.2092092092092092) = 0.967335548397290\n",
            "f(0.21021021021021022) = 0.968910783236150\n",
            "f(0.2112112112112112) = 0.970447690519797\n",
            "f(0.2122122122122122) = 0.971946209452234\n",
            "f(0.2132132132132132) = 0.973406280756003\n",
            "f(0.21421421421421422) = 0.974827846674534\n",
            "f(0.21521521521521522) = 0.976210850974430\n",
            "f(0.21621621621621623) = 0.977555238947686\n",
            "f(0.2172172172172172) = 0.978860957413861\n",
            "f(0.2182182182182182) = 0.980127954722177\n",
            "f(0.21921921921921922) = 0.981356180753559\n",
            "f(0.22022022022022023) = 0.982545586922628\n",
            "f(0.22122122122122123) = 0.983696126179610\n",
            "f(0.2222222222222222) = 0.984807753012208\n",
            "f(0.22322322322322322) = 0.985880423447396\n",
            "f(0.22422422422422422) = 0.986914095053160\n",
            "f(0.22522522522522523) = 0.987908726940178\n",
            "f(0.22622622622622623) = 0.988864279763436\n",
            "f(0.2272272272272272) = 0.989780715723783\n",
            "f(0.22822822822822822) = 0.990657998569432\n",
            "f(0.22922922922922923) = 0.991496093597385\n",
            "f(0.23023023023023023) = 0.992294967654814\n",
            "f(0.23123123123123124) = 0.993054589140368\n",
            "f(0.23223223223223222) = 0.993774928005424\n",
            "f(0.23323323323323322) = 0.994455955755278\n",
            "f(0.23423423423423423) = 0.995097645450266\n",
            "f(0.23523523523523523) = 0.995699971706838\n",
            "f(0.23623623623623624) = 0.996262910698554\n",
            "f(0.23723723723723725) = 0.996786440157034\n",
            "f(0.23823823823823823) = 0.997270539372833\n",
            "f(0.23923923923923923) = 0.997715189196261\n",
            "f(0.24024024024024024) = 0.998120372038146\n",
            "f(0.24124124124124124) = 0.998486071870522\n",
            "f(0.24224224224224225) = 0.998812274227269\n",
            "f(0.24324324324324323) = 0.999098966204681\n",
            "f(0.24424424424424424) = 0.999346136461981\n",
            "f(0.24524524524524524) = 0.999553775221764\n",
            "f(0.24624624624624625) = 0.999721874270389\n",
            "f(0.24724724724724725) = 0.999850426958300\n",
            "f(0.24824824824824826) = 0.999939428200294\n",
            "f(0.24924924924924924) = 0.999988874475714\n",
            "f(0.2502502502502503) = 0.999998763828597\n",
            "f(0.25125125125125125) = 0.999969095867747\n",
            "f(0.25225225225225223) = 0.999899871766749\n",
            "f(0.25325325325325326) = 0.999791094263926\n",
            "f(0.25425425425425424) = 0.999642767662230\n",
            "f(0.2552552552552553) = 0.999454897829069\n",
            "f(0.25625625625625625) = 0.999227492196079\n",
            "f(0.25725725725725723) = 0.998960559758827\n",
            "f(0.25825825825825827) = 0.998654111076456\n",
            "f(0.25925925925925924) = 0.998308158271268\n",
            "f(0.2602602602602603) = 0.997922715028243\n",
            "f(0.26126126126126126) = 0.997497796594500\n",
            "f(0.26226226226226224) = 0.997033419778690\n",
            "f(0.26326326326326327) = 0.996529602950337\n",
            "f(0.26426426426426425) = 0.995986366039104\n",
            "f(0.2652652652652653) = 0.995403730534013\n",
            "f(0.26626626626626626) = 0.994781719482585\n",
            "f(0.26726726726726724) = 0.994120357489939\n",
            "f(0.2682682682682683) = 0.993419670717811\n",
            "f(0.26926926926926925) = 0.992679686883520\n",
            "f(0.2702702702702703) = 0.991900435258877\n",
            "f(0.27127127127127126) = 0.991081946669020\n",
            "f(0.27227227227227224) = 0.990224253491199\n",
            "f(0.2732732732732733) = 0.989327389653494\n",
            "f(0.27427427427427425) = 0.988391390633473\n",
            "f(0.2752752752752753) = 0.987416293456789\n",
            "f(0.27627627627627627) = 0.986402136695715\n",
            "f(0.2772772772772773) = 0.985348960467616\n",
            "f(0.2782782782782783) = 0.984256806433369\n",
            "f(0.27927927927927926) = 0.983125717795704\n",
            "f(0.2802802802802803) = 0.981955739297507\n",
            "f(0.28128128128128127) = 0.980746917220040\n",
            "f(0.2822822822822823) = 0.979499299381116\n",
            "f(0.2832832832832833) = 0.978212935133208\n",
            "f(0.28428428428428426) = 0.976887875361493\n",
            "f(0.2852852852852853) = 0.975524172481839\n",
            "f(0.2862862862862863) = 0.974121880438736\n",
            "f(0.2872872872872873) = 0.972681054703160\n",
            "f(0.2882882882882883) = 0.971201752270376\n",
            "f(0.28928928928928926) = 0.969684031657688\n",
            "f(0.2902902902902903) = 0.968127952902119\n",
            "f(0.2912912912912913) = 0.966533577558041\n",
            "f(0.2922922922922923) = 0.964900968694739\n",
            "f(0.2932932932932933) = 0.963230190893913\n",
            "f(0.29429429429429427) = 0.961521310247126\n",
            "f(0.2952952952952953) = 0.959774394353189\n",
            "f(0.2962962962962963) = 0.957989512315489\n",
            "f(0.2972972972972973) = 0.956166734739251\n",
            "f(0.2982982982982983) = 0.954306133728749\n",
            "f(0.29929929929929927) = 0.952407782884451\n",
            "f(0.3003003003003003) = 0.950471757300112\n",
            "f(0.3013013013013013) = 0.948498133559795\n",
            "f(0.3023023023023023) = 0.946486989734852\n",
            "f(0.3033033033033033) = 0.944438405380829\n",
            "f(0.30430430430430433) = 0.942352461534319\n",
            "f(0.3053053053053053) = 0.940229240709759\n",
            "f(0.3063063063063063) = 0.938068826896166\n",
            "f(0.3073073073073073) = 0.935871305553812\n",
            "f(0.3083083083083083) = 0.933636763610846\n",
            "f(0.30930930930930933) = 0.931365289459854\n",
            "f(0.3103103103103103) = 0.929056972954363\n",
            "f(0.3113113113113113) = 0.926711905405285\n",
            "f(0.3123123123123123) = 0.924330179577308\n",
            "f(0.3133133133133133) = 0.921911889685225\n",
            "f(0.31431431431431434) = 0.919457131390205\n",
            "f(0.3153153153153153) = 0.916966001796013\n",
            "f(0.3163163163163163) = 0.914438599445166\n",
            "f(0.3173173173173173) = 0.911875024315034\n",
            "f(0.3183183183183183) = 0.909275377813888\n",
            "f(0.31931931931931934) = 0.906639762776889\n",
            "f(0.3203203203203203) = 0.903968283462016\n",
            "f(0.3213213213213213) = 0.901261045545945\n",
            "f(0.32232232232232233) = 0.898518156119867\n",
            "f(0.3233233233233233) = 0.895739723685255\n",
            "f(0.32432432432432434) = 0.892925858149568\n",
            "f(0.3253253253253253) = 0.890076670821906\n",
            "f(0.3263263263263263) = 0.887192274408604\n",
            "f(0.32732732732732733) = 0.884272783008778\n",
            "f(0.3283283283283283) = 0.881318312109807\n",
            "f(0.32932932932932935) = 0.878328978582769\n",
            "f(0.3303303303303303) = 0.875304900677813\n",
            "f(0.3313313313313313) = 0.872246198019486\n",
            "f(0.33233233233233234) = 0.869152991601999\n",
            "f(0.3333333333333333) = 0.866025403784439\n",
            "f(0.33433433433433435) = 0.862863558285931\n",
            "f(0.3353353353353353) = 0.859667580180745\n",
            "f(0.3363363363363363) = 0.856437595893346\n",
            "f(0.33733733733733734) = 0.853173733193393\n",
            "f(0.3383383383383383) = 0.849876121190686\n",
            "f(0.33933933933933935) = 0.846544890330061\n",
            "f(0.34034034034034033) = 0.843180172386222\n",
            "f(0.34134134134134136) = 0.839782100458540\n",
            "f(0.34234234234234234) = 0.836350808965776\n",
            "f(0.3433433433433433) = 0.832886433640774\n",
            "f(0.34434434434434436) = 0.829389111525083\n",
            "f(0.34534534534534533) = 0.825858980963543\n",
            "f(0.34634634634634637) = 0.822296181598809\n",
            "f(0.34734734734734735) = 0.818700854365828\n",
            "f(0.3483483483483483) = 0.815073141486262\n",
            "f(0.34934934934934936) = 0.811413186462866\n",
            "f(0.35035035035035034) = 0.807721134073807\n",
            "f(0.35135135135135137) = 0.803997130366940\n",
            "f(0.35235235235235235) = 0.800241322654032\n",
            "f(0.3533533533533533) = 0.796453859504929\n",
            "f(0.35435435435435436) = 0.792634890741685\n",
            "f(0.35535535535535534) = 0.788784567432631\n",
            "f(0.3563563563563564) = 0.784903041886404\n",
            "f(0.35735735735735735) = 0.780990467645918\n",
            "f(0.35835835835835833) = 0.777046999482289\n",
            "f(0.35935935935935936) = 0.773072793388718\n",
            "f(0.36036036036036034) = 0.769068006574317\n",
            "f(0.3613613613613614) = 0.765032797457890\n",
            "f(0.36236236236236236) = 0.760967325661668\n",
            "f(0.36336336336336333) = 0.756871752004992\n",
            "f(0.36436436436436437) = 0.752746238497955\n",
            "f(0.36536536536536535) = 0.748590948334991\n",
            "f(0.3663663663663664) = 0.744406045888419\n",
            "f(0.36736736736736736) = 0.740191696701944\n",
            "f(0.3683683683683684) = 0.735948067484103\n",
            "f(0.36936936936936937) = 0.731675326101678\n",
            "f(0.37037037037037035) = 0.727373641573049\n",
            "f(0.3713713713713714) = 0.723043184061509\n",
            "f(0.37237237237237236) = 0.718684124868538\n",
            "f(0.3733733733733734) = 0.714296636427021\n",
            "f(0.3743743743743744) = 0.709880892294429\n",
            "f(0.37537537537537535) = 0.705437067145953\n",
            "f(0.3763763763763764) = 0.700965336767597\n",
            "f(0.37737737737737737) = 0.696465878049222\n",
            "f(0.3783783783783784) = 0.691938868977546\n",
            "f(0.3793793793793794) = 0.687384488629110\n",
            "f(0.38038038038038036) = 0.682802917163189\n",
            "f(0.3813813813813814) = 0.678194335814666\n",
            "f(0.38238238238238237) = 0.673558926886866\n",
            "f(0.3833833833833834) = 0.668896873744339\n",
            "f(0.3843843843843844) = 0.664208360805614\n",
            "f(0.38538538538538536) = 0.659493573535896\n",
            "f(0.3863863863863864) = 0.654752698439735\n",
            "f(0.38738738738738737) = 0.649985923053647\n",
            "f(0.3883883883883884) = 0.645193435938693\n",
            "f(0.3893893893893894) = 0.640375426673026\n",
            "f(0.39039039039039036) = 0.635532085844384\n",
            "f(0.3913913913913914) = 0.630663605042557\n",
            "f(0.3923923923923924) = 0.625770176851806\n",
            "f(0.3933933933933934) = 0.620851994843244\n",
            "f(0.3943943943943944) = 0.615909253567180\n",
            "f(0.39539539539539537) = 0.610942148545423\n",
            "f(0.3963963963963964) = 0.605950876263548\n",
            "f(0.3973973973973974) = 0.600935634163123\n",
            "f(0.3983983983983984) = 0.595896620633898\n",
            "f(0.3993993993993994) = 0.590834035005958\n",
            "f(0.40040040040040037) = 0.585748077541840\n",
            "f(0.4014014014014014) = 0.580638949428605\n",
            "f(0.4024024024024024) = 0.575506852769890\n",
            "f(0.4034034034034034) = 0.570351990577901\n",
            "f(0.4044044044044044) = 0.565174566765393\n",
            "f(0.40540540540540543) = 0.559974786137595\n",
            "f(0.4064064064064064) = 0.554752854384117\n",
            "f(0.4074074074074074) = 0.549508978070806\n",
            "f(0.4084084084084084) = 0.544243364631579\n",
            "f(0.4094094094094094) = 0.538956222360216\n",
            "f(0.41041041041041043) = 0.533647760402122\n",
            "f(0.4114114114114114) = 0.528318188746051\n",
            "f(0.4124124124124124) = 0.522967718215803\n",
            "f(0.4134134134134134) = 0.517596560461878\n",
            "f(0.4144144144144144) = 0.512204927953114\n",
            "f(0.41541541541541543) = 0.506793033968272\n",
            "f(0.4164164164164164) = 0.501361092587606\n",
            "f(0.4174174174174174) = 0.495909318684390\n",
            "f(0.4184184184184184) = 0.490437927916420\n",
            "f(0.4194194194194194) = 0.484947136717488\n",
            "f(0.42042042042042044) = 0.479437162288810\n",
            "f(0.4214214214214214) = 0.473908222590443\n",
            "f(0.4224224224224224) = 0.468360536332661\n",
            "f(0.42342342342342343) = 0.462794322967299\n",
            "f(0.4244244244244244) = 0.457209802679079\n",
            "f(0.42542542542542544) = 0.451607196376895\n",
            "f(0.4264264264264264) = 0.445986725685076\n",
            "f(0.4274274274274274) = 0.440348612934619\n",
            "f(0.42842842842842843) = 0.434693081154396\n",
            "f(0.4294294294294294) = 0.429020354062327\n",
            "f(0.43043043043043044) = 0.423330656056534\n",
            "f(0.4314314314314314) = 0.417624212206467\n",
            "f(0.43243243243243246) = 0.411901248243993\n",
            "f(0.43343343343343343) = 0.406161990554472\n",
            "f(0.4344344344344344) = 0.400406666167804\n",
            "f(0.43543543543543545) = 0.394635502749441\n",
            "f(0.4364364364364364) = 0.388848728591388\n",
            "f(0.43743743743743746) = 0.383046572603168\n",
            "f(0.43843843843843844) = 0.377229264302770\n",
            "f(0.4394394394394394) = 0.371397033807568\n",
            "f(0.44044044044044045) = 0.365550111825219\n",
            "f(0.44144144144144143) = 0.359688729644536\n",
            "f(0.44244244244244246) = 0.353813119126339\n",
            "f(0.44344344344344344) = 0.347923512694284\n",
            "f(0.4444444444444444) = 0.342020143325669\n",
            "f(0.44544544544544545) = 0.336103244542216\n",
            "f(0.44644644644644643) = 0.330173050400837\n",
            "f(0.44744744744744747) = 0.324229795484371\n",
            "f(0.44844844844844844) = 0.318273714892309\n",
            "f(0.4494494494494494) = 0.312305044231490\n",
            "f(0.45045045045045046) = 0.306324019606783\n",
            "f(0.45145145145145144) = 0.300330877611751\n",
            "f(0.45245245245245247) = 0.294325855319282\n",
            "f(0.45345345345345345) = 0.288309190272222\n",
            "f(0.4544544544544544) = 0.282281120473972\n",
            "f(0.45545545545545546) = 0.276241884379074\n",
            "f(0.45645645645645644) = 0.270191720883782\n",
            "f(0.4574574574574575) = 0.264130869316606\n",
            "f(0.45845845845845845) = 0.258059569428850\n",
            "f(0.45945945945945943) = 0.251978061385125\n",
            "f(0.46046046046046046) = 0.245886585753850\n",
            "f(0.46146146146146144) = 0.239785383497736\n",
            "f(0.4624624624624625) = 0.233674695964252\n",
            "f(0.46346346346346345) = 0.227554764876082\n",
            "f(0.46446446446446443) = 0.221425832321559\n",
            "f(0.46546546546546547) = 0.215288140745090\n",
            "f(0.46646646646646645) = 0.209141932937567\n",
            "f(0.4674674674674675) = 0.202987452026761\n",
            "f(0.46846846846846846) = 0.196824941467705\n",
            "f(0.4694694694694695) = 0.190654645033064\n",
            "f(0.47047047047047047) = 0.184476806803492\n",
            "f(0.47147147147147145) = 0.178291671157976\n",
            "f(0.4724724724724725) = 0.172099482764169\n",
            "f(0.47347347347347346) = 0.165900486568713\n",
            "f(0.4744744744744745) = 0.159694927787549\n",
            "f(0.4754754754754755) = 0.153483051896216\n",
            "f(0.47647647647647645) = 0.147265104620141\n",
            "f(0.4774774774774775) = 0.141041331924919\n",
            "f(0.47847847847847846) = 0.134811980006584\n",
            "f(0.4794794794794795) = 0.128577295281869\n",
            "f(0.4804804804804805) = 0.122337524378457\n",
            "f(0.48148148148148145) = 0.116092914125230\n",
            "f(0.4824824824824825) = 0.109843711542500\n",
            "f(0.48348348348348347) = 0.103590163832239\n",
            "f(0.4844844844844845) = 0.0973325183683025\n",
            "f(0.4854854854854855) = 0.0910710226866409\n",
            "f(0.48648648648648646) = 0.0848059244755094\n",
            "f(0.4874874874874875) = 0.0785374715656696\n",
            "f(0.48848848848848847) = 0.0722659119205871\n",
            "f(0.4894894894894895) = 0.0659914936266204\n",
            "f(0.4904904904904905) = 0.0597144648832099\n",
            "f(0.49149149149149146) = 0.0534350739930576\n",
            "f(0.4924924924924925) = 0.0471535693523056\n",
            "f(0.4934934934934935) = 0.0408701994407117\n",
            "f(0.4944944944944945) = 0.0345852128118172\n",
            "f(0.4954954954954955) = 0.0282988580831182\n",
            "f(0.4964964964964965) = 0.0220113839262274\n",
            "f(0.4974974974974975) = 0.0157230390570410\n",
            "f(0.4984984984984985) = 0.00943407222589689\n",
            "f(0.4994994994994995) = 0.00314473220773629\n",
            "f(0.5005005005005005) = -0.00314473220773664\n",
            "f(0.5015015015015015) = -0.00943407222589689\n",
            "f(0.5025025025025025) = -0.0157230390570410\n",
            "f(0.5035035035035035) = -0.0220113839262274\n",
            "f(0.5045045045045045) = -0.0282988580831178\n",
            "f(0.5055055055055055) = -0.0345852128118176\n",
            "f(0.5065065065065065) = -0.0408701994407117\n",
            "f(0.5075075075075075) = -0.0471535693523056\n",
            "f(0.5085085085085085) = -0.0534350739930573\n",
            "f(0.5095095095095095) = -0.0597144648832096\n",
            "f(0.5105105105105106) = -0.0659914936266208\n",
            "f(0.5115115115115115) = -0.0722659119205871\n",
            "f(0.5125125125125125) = -0.0785374715656696\n",
            "f(0.5135135135135135) = -0.0848059244755090\n",
            "f(0.5145145145145145) = -0.0910710226866405\n",
            "f(0.5155155155155156) = -0.0973325183683029\n",
            "f(0.5165165165165165) = -0.103590163832239\n",
            "f(0.5175175175175175) = -0.109843711542500\n",
            "f(0.5185185185185185) = -0.116092914125230\n",
            "f(0.5195195195195195) = -0.122337524378457\n",
            "f(0.5205205205205206) = -0.128577295281869\n",
            "f(0.5215215215215215) = -0.134811980006584\n",
            "f(0.5225225225225225) = -0.141041331924919\n",
            "f(0.5235235235235235) = -0.147265104620141\n",
            "f(0.5245245245245245) = -0.153483051896216\n",
            "f(0.5255255255255256) = -0.159694927787550\n",
            "f(0.5265265265265265) = -0.165900486568713\n",
            "f(0.5275275275275275) = -0.172099482764169\n",
            "f(0.5285285285285285) = -0.178291671157976\n",
            "f(0.5295295295295295) = -0.184476806803492\n",
            "f(0.5305305305305306) = -0.190654645033065\n",
            "f(0.5315315315315315) = -0.196824941467705\n",
            "f(0.5325325325325325) = -0.202987452026761\n",
            "f(0.5335335335335335) = -0.209141932937567\n",
            "f(0.5345345345345345) = -0.215288140745090\n",
            "f(0.5355355355355356) = -0.221425832321559\n",
            "f(0.5365365365365365) = -0.227554764876082\n",
            "f(0.5375375375375375) = -0.233674695964252\n",
            "f(0.5385385385385385) = -0.239785383497736\n",
            "f(0.5395395395395395) = -0.245886585753850\n",
            "f(0.5405405405405406) = -0.251978061385125\n",
            "f(0.5415415415415415) = -0.258059569428850\n",
            "f(0.5425425425425425) = -0.264130869316606\n",
            "f(0.5435435435435435) = -0.270191720883782\n",
            "f(0.5445445445445445) = -0.276241884379074\n",
            "f(0.5455455455455456) = -0.282281120473972\n",
            "f(0.5465465465465466) = -0.288309190272222\n",
            "f(0.5475475475475475) = -0.294325855319282\n",
            "f(0.5485485485485485) = -0.300330877611750\n",
            "f(0.5495495495495496) = -0.306324019606784\n",
            "f(0.5505505505505506) = -0.312305044231490\n",
            "f(0.5515515515515516) = -0.318273714892309\n",
            "f(0.5525525525525525) = -0.324229795484371\n",
            "f(0.5535535535535535) = -0.330173050400836\n",
            "f(0.5545545545545546) = -0.336103244542216\n",
            "f(0.5555555555555556) = -0.342020143325669\n",
            "f(0.5565565565565566) = -0.347923512694284\n",
            "f(0.5575575575575575) = -0.353813119126339\n",
            "f(0.5585585585585585) = -0.359688729644535\n",
            "f(0.5595595595595596) = -0.365550111825219\n",
            "f(0.5605605605605606) = -0.371397033807568\n",
            "f(0.5615615615615616) = -0.377229264302770\n",
            "f(0.5625625625625625) = -0.383046572603168\n",
            "f(0.5635635635635635) = -0.388848728591387\n",
            "f(0.5645645645645646) = -0.394635502749441\n",
            "f(0.5655655655655656) = -0.400406666167804\n",
            "f(0.5665665665665666) = -0.406161990554472\n",
            "f(0.5675675675675675) = -0.411901248243993\n",
            "f(0.5685685685685685) = -0.417624212206467\n",
            "f(0.5695695695695696) = -0.423330656056535\n",
            "f(0.5705705705705706) = -0.429020354062327\n",
            "f(0.5715715715715716) = -0.434693081154396\n",
            "f(0.5725725725725725) = -0.440348612934619\n",
            "f(0.5735735735735735) = -0.445986725685076\n",
            "f(0.5745745745745746) = -0.451607196376895\n",
            "f(0.5755755755755756) = -0.457209802679079\n",
            "f(0.5765765765765766) = -0.462794322967299\n",
            "f(0.5775775775775776) = -0.468360536332660\n",
            "f(0.5785785785785785) = -0.473908222590443\n",
            "f(0.5795795795795796) = -0.479437162288810\n",
            "f(0.5805805805805806) = -0.484947136717488\n",
            "f(0.5815815815815816) = -0.490437927916420\n",
            "f(0.5825825825825826) = -0.495909318684389\n",
            "f(0.5835835835835835) = -0.501361092587606\n",
            "f(0.5845845845845846) = -0.506793033968273\n",
            "f(0.5855855855855856) = -0.512204927953114\n",
            "f(0.5865865865865866) = -0.517596560461878\n",
            "f(0.5875875875875876) = -0.522967718215802\n",
            "f(0.5885885885885885) = -0.528318188746051\n",
            "f(0.5895895895895896) = -0.533647760402122\n",
            "f(0.5905905905905906) = -0.538956222360216\n",
            "f(0.5915915915915916) = -0.544243364631579\n",
            "f(0.5925925925925926) = -0.549508978070806\n",
            "f(0.5935935935935935) = -0.554752854384117\n",
            "f(0.5945945945945946) = -0.559974786137596\n",
            "f(0.5955955955955956) = -0.565174566765393\n",
            "f(0.5965965965965966) = -0.570351990577901\n",
            "f(0.5975975975975976) = -0.575506852769890\n",
            "f(0.5985985985985985) = -0.580638949428605\n",
            "f(0.5995995995995996) = -0.585748077541840\n",
            "f(0.6006006006006006) = -0.590834035005958\n",
            "f(0.6016016016016016) = -0.595896620633898\n",
            "f(0.6026026026026026) = -0.600935634163123\n",
            "f(0.6036036036036035) = -0.605950876263548\n",
            "f(0.6046046046046046) = -0.610942148545423\n",
            "f(0.6056056056056056) = -0.615909253567180\n",
            "f(0.6066066066066066) = -0.620851994843244\n",
            "f(0.6076076076076076) = -0.625770176851806\n",
            "f(0.6086086086086087) = -0.630663605042557\n",
            "f(0.6096096096096096) = -0.635532085844384\n",
            "f(0.6106106106106106) = -0.640375426673026\n",
            "f(0.6116116116116116) = -0.645193435938693\n",
            "f(0.6126126126126126) = -0.649985923053646\n",
            "f(0.6136136136136137) = -0.654752698439735\n",
            "f(0.6146146146146146) = -0.659493573535896\n",
            "f(0.6156156156156156) = -0.664208360805614\n",
            "f(0.6166166166166166) = -0.668896873744339\n",
            "f(0.6176176176176176) = -0.673558926886866\n",
            "f(0.6186186186186187) = -0.678194335814667\n",
            "f(0.6196196196196196) = -0.682802917163189\n",
            "f(0.6206206206206206) = -0.687384488629110\n",
            "f(0.6216216216216216) = -0.691938868977546\n",
            "f(0.6226226226226226) = -0.696465878049222\n",
            "f(0.6236236236236237) = -0.700965336767598\n",
            "f(0.6246246246246246) = -0.705437067145953\n",
            "f(0.6256256256256256) = -0.709880892294429\n",
            "f(0.6266266266266266) = -0.714296636427021\n",
            "f(0.6276276276276276) = -0.718684124868538\n",
            "f(0.6286286286286287) = -0.723043184061509\n",
            "f(0.6296296296296297) = -0.727373641573049\n",
            "f(0.6306306306306306) = -0.731675326101678\n",
            "f(0.6316316316316316) = -0.735948067484103\n",
            "f(0.6326326326326326) = -0.740191696701943\n",
            "f(0.6336336336336337) = -0.744406045888419\n",
            "f(0.6346346346346347) = -0.748590948334991\n",
            "f(0.6356356356356356) = -0.752746238497955\n",
            "f(0.6366366366366366) = -0.756871752004992\n",
            "f(0.6376376376376376) = -0.760967325661667\n",
            "f(0.6386386386386387) = -0.765032797457890\n",
            "f(0.6396396396396397) = -0.769068006574317\n",
            "f(0.6406406406406406) = -0.773072793388718\n",
            "f(0.6416416416416416) = -0.777046999482288\n",
            "f(0.6426426426426426) = -0.780990467645917\n",
            "f(0.6436436436436437) = -0.784903041886405\n",
            "f(0.6446446446446447) = -0.788784567432631\n",
            "f(0.6456456456456456) = -0.792634890741685\n",
            "f(0.6466466466466466) = -0.796453859504929\n",
            "f(0.6476476476476476) = -0.800241322654032\n",
            "f(0.6486486486486487) = -0.803997130366941\n",
            "f(0.6496496496496497) = -0.807721134073807\n",
            "f(0.6506506506506506) = -0.811413186462866\n",
            "f(0.6516516516516516) = -0.815073141486262\n",
            "f(0.6526526526526526) = -0.818700854365828\n",
            "f(0.6536536536536537) = -0.822296181598810\n",
            "f(0.6546546546546547) = -0.825858980963543\n",
            "f(0.6556556556556556) = -0.829389111525083\n",
            "f(0.6566566566566566) = -0.832886433640773\n",
            "f(0.6576576576576576) = -0.836350808965776\n",
            "f(0.6586586586586587) = -0.839782100458540\n",
            "f(0.6596596596596597) = -0.843180172386222\n",
            "f(0.6606606606606606) = -0.846544890330061\n",
            "f(0.6616616616616616) = -0.849876121190686\n",
            "f(0.6626626626626626) = -0.853173733193393\n",
            "f(0.6636636636636637) = -0.856437595893346\n",
            "f(0.6646646646646647) = -0.859667580180745\n",
            "f(0.6656656656656657) = -0.862863558285931\n",
            "f(0.6666666666666666) = -0.866025403784438\n",
            "f(0.6676676676676676) = -0.869152991601999\n",
            "f(0.6686686686686687) = -0.872246198019486\n",
            "f(0.6696696696696697) = -0.875304900677813\n",
            "f(0.6706706706706707) = -0.878328978582769\n",
            "f(0.6716716716716716) = -0.881318312109807\n",
            "f(0.6726726726726726) = -0.884272783008778\n",
            "f(0.6736736736736737) = -0.887192274408604\n",
            "f(0.6746746746746747) = -0.890076670821906\n",
            "f(0.6756756756756757) = -0.892925858149568\n",
            "f(0.6766766766766766) = -0.895739723685255\n",
            "f(0.6776776776776777) = -0.898518156119867\n",
            "f(0.6786786786786787) = -0.901261045545945\n",
            "f(0.6796796796796797) = -0.903968283462016\n",
            "f(0.6806806806806807) = -0.906639762776889\n",
            "f(0.6816816816816816) = -0.909275377813888\n",
            "f(0.6826826826826827) = -0.911875024315034\n",
            "f(0.6836836836836837) = -0.914438599445166\n",
            "f(0.6846846846846847) = -0.916966001796013\n",
            "f(0.6856856856856857) = -0.919457131390205\n",
            "f(0.6866866866866866) = -0.921911889685225\n",
            "f(0.6876876876876877) = -0.924330179577308\n",
            "f(0.6886886886886887) = -0.926711905405285\n",
            "f(0.6896896896896897) = -0.929056972954363\n",
            "f(0.6906906906906907) = -0.931365289459854\n",
            "f(0.6916916916916916) = -0.933636763610846\n",
            "f(0.6926926926926927) = -0.935871305553812\n",
            "f(0.6936936936936937) = -0.938068826896166\n",
            "f(0.6946946946946947) = -0.940229240709759\n",
            "f(0.6956956956956957) = -0.942352461534319\n",
            "f(0.6966966966966966) = -0.944438405380829\n",
            "f(0.6976976976976977) = -0.946486989734853\n",
            "f(0.6986986986986987) = -0.948498133559795\n",
            "f(0.6996996996996997) = -0.950471757300112\n",
            "f(0.7007007007007007) = -0.952407782884451\n",
            "f(0.7017017017017017) = -0.954306133728749\n",
            "f(0.7027027027027027) = -0.956166734739251\n",
            "f(0.7037037037037037) = -0.957989512315489\n",
            "f(0.7047047047047047) = -0.959774394353189\n",
            "f(0.7057057057057057) = -0.961521310247125\n",
            "f(0.7067067067067067) = -0.963230190893912\n",
            "f(0.7077077077077077) = -0.964900968694739\n",
            "f(0.7087087087087087) = -0.966533577558041\n",
            "f(0.7097097097097097) = -0.968127952902119\n",
            "f(0.7107107107107107) = -0.969684031657688\n",
            "f(0.7117117117117117) = -0.971201752270376\n",
            "f(0.7127127127127127) = -0.972681054703160\n",
            "f(0.7137137137137137) = -0.974121880438736\n",
            "f(0.7147147147147147) = -0.975524172481839\n",
            "f(0.7157157157157157) = -0.976887875361492\n",
            "f(0.7167167167167167) = -0.978212935133208\n",
            "f(0.7177177177177178) = -0.979499299381116\n",
            "f(0.7187187187187187) = -0.980746917220040\n",
            "f(0.7197197197197197) = -0.981955739297507\n",
            "f(0.7207207207207207) = -0.983125717795704\n",
            "f(0.7217217217217217) = -0.984256806433369\n",
            "f(0.7227227227227228) = -0.985348960467617\n",
            "f(0.7237237237237237) = -0.986402136695715\n",
            "f(0.7247247247247247) = -0.987416293456789\n",
            "f(0.7257257257257257) = -0.988391390633473\n",
            "f(0.7267267267267267) = -0.989327389653494\n",
            "f(0.7277277277277278) = -0.990224253491199\n",
            "f(0.7287287287287287) = -0.991081946669020\n",
            "f(0.7297297297297297) = -0.991900435258877\n",
            "f(0.7307307307307307) = -0.992679686883520\n",
            "f(0.7317317317317317) = -0.993419670717811\n",
            "f(0.7327327327327328) = -0.994120357489939\n",
            "f(0.7337337337337337) = -0.994781719482585\n",
            "f(0.7347347347347347) = -0.995403730534013\n",
            "f(0.7357357357357357) = -0.995986366039104\n",
            "f(0.7367367367367368) = -0.996529602950337\n",
            "f(0.7377377377377378) = -0.997033419778690\n",
            "f(0.7387387387387387) = -0.997497796594500\n",
            "f(0.7397397397397397) = -0.997922715028243\n",
            "f(0.7407407407407407) = -0.998308158271268\n",
            "f(0.7417417417417418) = -0.998654111076457\n",
            "f(0.7427427427427428) = -0.998960559758827\n",
            "f(0.7437437437437437) = -0.999227492196079\n",
            "f(0.7447447447447447) = -0.999454897829069\n",
            "f(0.7457457457457457) = -0.999642767662230\n",
            "f(0.7467467467467468) = -0.999791094263926\n",
            "f(0.7477477477477478) = -0.999899871766749\n",
            "f(0.7487487487487487) = -0.999969095867747\n",
            "f(0.7497497497497497) = -0.999998763828597\n",
            "f(0.7507507507507507) = -0.999988874475714\n",
            "f(0.7517517517517518) = -0.999939428200294\n",
            "f(0.7527527527527528) = -0.999850426958300\n",
            "f(0.7537537537537538) = -0.999721874270389\n",
            "f(0.7547547547547547) = -0.999553775221764\n",
            "f(0.7557557557557557) = -0.999346136461981\n",
            "f(0.7567567567567568) = -0.999098966204681\n",
            "f(0.7577577577577578) = -0.998812274227269\n",
            "f(0.7587587587587588) = -0.998486071870522\n",
            "f(0.7597597597597597) = -0.998120372038146\n",
            "f(0.7607607607607607) = -0.997715189196261\n",
            "f(0.7617617617617618) = -0.997270539372833\n",
            "f(0.7627627627627628) = -0.996786440157034\n",
            "f(0.7637637637637638) = -0.996262910698554\n",
            "f(0.7647647647647647) = -0.995699971706838\n",
            "f(0.7657657657657657) = -0.995097645450266\n",
            "f(0.7667667667667668) = -0.994455955755278\n",
            "f(0.7677677677677678) = -0.993774928005424\n",
            "f(0.7687687687687688) = -0.993054589140368\n",
            "f(0.7697697697697697) = -0.992294967654814\n",
            "f(0.7707707707707707) = -0.991496093597385\n",
            "f(0.7717717717717718) = -0.990657998569432\n",
            "f(0.7727727727727728) = -0.989780715723783\n",
            "f(0.7737737737737738) = -0.988864279763436\n",
            "f(0.7747747747747747) = -0.987908726940178\n",
            "f(0.7757757757757757) = -0.986914095053160\n",
            "f(0.7767767767767768) = -0.985880423447396\n",
            "f(0.7777777777777778) = -0.984807753012208\n",
            "f(0.7787787787787788) = -0.983696126179610\n",
            "f(0.7797797797797797) = -0.982545586922628\n",
            "f(0.7807807807807807) = -0.981356180753560\n",
            "f(0.7817817817817818) = -0.980127954722177\n",
            "f(0.7827827827827828) = -0.978860957413861\n",
            "f(0.7837837837837838) = -0.977555238947686\n",
            "f(0.7847847847847848) = -0.976210850974430\n",
            "f(0.7857857857857857) = -0.974827846674534\n",
            "f(0.7867867867867868) = -0.973406280756003\n",
            "f(0.7877877877877878) = -0.971946209452234\n",
            "f(0.7887887887887888) = -0.970447690519797\n",
            "f(0.7897897897897898) = -0.968910783236150\n",
            "f(0.7907907907907907) = -0.967335548397290\n",
            "f(0.7917917917917918) = -0.965722048315355\n",
            "f(0.7927927927927928) = -0.964070346816151\n",
            "f(0.7937937937937938) = -0.962380509236634\n",
            "f(0.7947947947947948) = -0.960652602422321\n",
            "f(0.7957957957957957) = -0.958886694724650\n",
            "f(0.7967967967967968) = -0.957082855998271\n",
            "f(0.7977977977977978) = -0.955241157598287\n",
            "f(0.7987987987987988) = -0.953361672377429\n",
            "f(0.7997997997997998) = -0.951444474683177\n",
            "f(0.8008008008008007) = -0.949489640354813\n",
            "f(0.8018018018018018) = -0.947497246720430\n",
            "f(0.8028028028028028) = -0.945467372593863\n",
            "f(0.8038038038038038) = -0.943400098271581\n",
            "f(0.8048048048048048) = -0.941295505529503\n",
            "f(0.8058058058058059) = -0.939153677619768\n",
            "f(0.8068068068068068) = -0.936974699267438\n",
            "f(0.8078078078078078) = -0.934758656667151\n",
            "f(0.8088088088088088) = -0.932505637479707\n",
            "f(0.8098098098098098) = -0.930215730828604\n",
            "f(0.8108108108108109) = -0.927889027296509\n",
            "f(0.8118118118118118) = -0.925525618921678\n",
            "f(0.8128128128128128) = -0.923125599194312\n",
            "f(0.8138138138138138) = -0.920689063052863\n",
            "f(0.8148148148148148) = -0.918216106880274\n",
            "f(0.8158158158158159) = -0.915706828500169\n",
            "f(0.8168168168168168) = -0.913161327172983\n",
            "f(0.8178178178178178) = -0.910579703592036\n",
            "f(0.8188188188188188) = -0.907962059879546\n",
            "f(0.8198198198198198) = -0.905308499582597\n",
            "f(0.8208208208208209) = -0.902619127669034\n",
            "f(0.8218218218218218) = -0.899894050523318\n",
            "f(0.8228228228228228) = -0.897133375942314\n",
            "f(0.8238238238238238) = -0.894337213131027\n",
            "f(0.8248248248248248) = -0.891505672698284\n",
            "f(0.8258258258258259) = -0.888638866652356\n",
            "f(0.8268268268268268) = -0.885736908396529\n",
            "f(0.8278278278278278) = -0.882799912724620\n",
            "f(0.8288288288288288) = -0.879827995816429\n",
            "f(0.8298298298298298) = -0.876821275233154\n",
            "f(0.8308308308308309) = -0.873779869912728\n",
            "f(0.8318318318318318) = -0.870703900165127\n",
            "f(0.8328328328328328) = -0.867593487667601\n",
            "f(0.8338338338338338) = -0.864448755459865\n",
            "f(0.8348348348348348) = -0.861269827939231\n",
            "f(0.8358358358358359) = -0.858056830855687\n",
            "f(0.8368368368368369) = -0.854809891306926\n",
            "f(0.8378378378378378) = -0.851529137733311\n",
            "f(0.8388388388388388) = -0.848214699912802\n",
            "f(0.8398398398398398) = -0.844866708955818\n",
            "f(0.8408408408408409) = -0.841485297300050\n",
            "f(0.8418418418418419) = -0.838070598705226\n",
            "f(0.8428428428428428) = -0.834622748247817\n",
            "f(0.8438438438438438) = -0.831141882315694\n",
            "f(0.8448448448448448) = -0.827628138602731\n",
            "f(0.8458458458458459) = -0.824081656103364\n",
            "f(0.8468468468468469) = -0.820502575107087\n",
            "f(0.8478478478478478) = -0.816891037192905\n",
            "f(0.8488488488488488) = -0.813247185223733\n",
            "f(0.8498498498498498) = -0.809571163340744\n",
            "f(0.8508508508508509) = -0.805863116957669\n",
            "f(0.8518518518518519) = -0.802123192755044\n",
            "f(0.8528528528528528) = -0.798351538674406\n",
            "f(0.8538538538538538) = -0.794548303912444\n",
            "f(0.8548548548548548) = -0.790713638915094\n",
            "f(0.8558558558558559) = -0.786847695371590\n",
            "f(0.8568568568568569) = -0.782950626208463\n",
            "f(0.8578578578578578) = -0.779022585583491\n",
            "f(0.8588588588588588) = -0.775063728879602\n",
            "f(0.8598598598598598) = -0.771074212698725\n",
            "f(0.8608608608608609) = -0.767054194855599\n",
            "f(0.8618618618618619) = -0.763003834371527\n",
            "f(0.8628628628628628) = -0.758923291468089\n",
            "f(0.8638638638638638) = -0.754812727560799\n",
            "f(0.8648648648648649) = -0.750672305252724\n",
            "f(0.8658658658658659) = -0.746502188328052\n",
            "f(0.8668668668668669) = -0.742302541745609\n",
            "f(0.8678678678678678) = -0.738073531632339\n",
            "f(0.8688688688688688) = -0.733815325276728\n",
            "f(0.8698698698698699) = -0.729528091122188\n",
            "f(0.8708708708708709) = -0.725211998760397\n",
            "f(0.8718718718718719) = -0.720867218924585\n",
            "f(0.8728728728728729) = -0.716493923482783\n",
            "f(0.8738738738738738) = -0.712092285431026\n",
            "f(0.8748748748748749) = -0.707662478886504\n",
            "f(0.8758758758758759) = -0.703204679080684\n",
            "f(0.8768768768768769) = -0.698719062352367\n",
            "f(0.8778778778778779) = -0.694205806140723\n",
            "f(0.8788788788788788) = -0.689665088978262\n",
            "f(0.8798798798798799) = -0.685097090483781\n",
            "f(0.8808808808808809) = -0.680501991355252\n",
            "f(0.8818818818818819) = -0.675879973362679\n",
            "f(0.8828828828828829) = -0.671231219340903\n",
            "f(0.8838838838838838) = -0.666555913182372\n",
            "f(0.8848848848848849) = -0.661854239829868\n",
            "f(0.8858858858858859) = -0.657126385269188\n",
            "f(0.8868868868868869) = -0.652372536521791\n",
            "f(0.8878878878878879) = -0.647592881637394\n",
            "f(0.8888888888888888) = -0.642787609686540\n",
            "f(0.8898898898898899) = -0.637956910753112\n",
            "f(0.8908908908908909) = -0.633100975926821\n",
            "f(0.8918918918918919) = -0.628219997295642\n",
            "f(0.8928928928928929) = -0.623314167938217\n",
            "f(0.8938938938938938) = -0.618383681916216\n",
            "f(0.8948948948948949) = -0.613428734266662\n",
            "f(0.8958958958958959) = -0.608449520994217\n",
            "f(0.8968968968968969) = -0.603446239063426\n",
            "f(0.8978978978978979) = -0.598419086390927\n",
            "f(0.8988988988988988) = -0.593368261837621\n",
            "f(0.8998998998998999) = -0.588293965200805\n",
            "f(0.9009009009009009) = -0.583196397206273\n",
            "f(0.9019019019019019) = -0.578075759500371\n",
            "f(0.9029029029029029) = -0.572932254642020\n",
            "f(0.9039039039039038) = -0.567766086094708\n",
            "f(0.9049049049049049) = -0.562577458218437\n",
            "f(0.9059059059059059) = -0.557366576261642\n",
            "f(0.9069069069069069) = -0.552133646353070\n",
            "f(0.9079079079079079) = -0.546878875493628\n",
            "f(0.9089089089089089) = -0.541602471548190\n",
            "f(0.9099099099099099) = -0.536304643237382\n",
            "f(0.9109109109109109) = -0.530985600129320\n",
            "f(0.9119119119119119) = -0.525645552631321\n",
            "f(0.9129129129129129) = -0.520284711981579\n",
            "f(0.9139139139139139) = -0.514903290240813\n",
            "f(0.914914914914915) = -0.509501500283873\n",
            "f(0.9159159159159159) = -0.504079555791325\n",
            "f(0.9169169169169169) = -0.498637671240992\n",
            "f(0.9179179179179179) = -0.493176061899475\n",
            "f(0.9189189189189189) = -0.487694943813635\n",
            "f(0.91991991991992) = -0.482194533802048\n",
            "f(0.9209209209209209) = -0.476675049446427\n",
            "f(0.9219219219219219) = -0.471136709083018\n",
            "f(0.9229229229229229) = -0.465579731793957\n",
            "f(0.9239239239239239) = -0.460004337398611\n",
            "f(0.924924924924925) = -0.454410746444877\n",
            "f(0.9259259259259259) = -0.448799180200462\n",
            "f(0.9269269269269269) = -0.443169860644126\n",
            "f(0.9279279279279279) = -0.437523010456905\n",
            "f(0.9289289289289289) = -0.431858853013298\n",
            "f(0.92992992992993) = -0.426177612372435\n",
            "f(0.9309309309309309) = -0.420479513269214\n",
            "f(0.9319319319319319) = -0.414764781105407\n",
            "f(0.9329329329329329) = -0.409033641940746\n",
            "f(0.933933933933934) = -0.403286322483981\n",
            "f(0.934934934934935) = -0.397523050083913\n",
            "f(0.9359359359359359) = -0.391744052720397\n",
            "f(0.9369369369369369) = -0.385949558995329\n",
            "f(0.9379379379379379) = -0.380139798123597\n",
            "f(0.938938938938939) = -0.374314999924019\n",
            "f(0.93993993993994) = -0.368475394810250\n",
            "f(0.9409409409409409) = -0.362621213781667\n",
            "f(0.9419419419419419) = -0.356752688414232\n",
            "f(0.9429429429429429) = -0.350870050851331\n",
            "f(0.943943943943944) = -0.344973533794590\n",
            "f(0.944944944944945) = -0.339063370494675\n",
            "f(0.9459459459459459) = -0.333139794742058\n",
            "f(0.9469469469469469) = -0.327203040857772\n",
            "f(0.9479479479479479) = -0.321253343684144\n",
            "f(0.948948948948949) = -0.315290938575502\n",
            "f(0.94994994994995) = -0.309316061388869\n",
            "f(0.950950950950951) = -0.303328948474627\n",
            "f(0.9519519519519519) = -0.297329836667172\n",
            "f(0.9529529529529529) = -0.291318963275548\n",
            "f(0.953953953953954) = -0.285296566074050\n",
            "f(0.954954954954955) = -0.279262883292830\n",
            "f(0.955955955955956) = -0.273218153608466\n",
            "f(0.9569569569569569) = -0.267162616134522\n",
            "f(0.9579579579579579) = -0.261096510412089\n",
            "f(0.958958958958959) = -0.255020076400310\n",
            "f(0.95995995995996) = -0.248933554466892\n",
            "f(0.960960960960961) = -0.242837185378587\n",
            "f(0.9619619619619619) = -0.236731210291680\n",
            "f(0.9629629629629629) = -0.230615870742440\n",
            "f(0.963963963963964) = -0.224491408637572\n",
            "f(0.964964964964965) = -0.218358066244645\n",
            "f(0.965965965965966) = -0.212216086182508\n",
            "f(0.9669669669669669) = -0.206065711411693\n",
            "f(0.9679679679679679) = -0.199907185224805\n",
            "f(0.968968968968969) = -0.193740751236897\n",
            "f(0.96996996996997) = -0.187566653375837\n",
            "f(0.970970970970971) = -0.181385135872651\n",
            "f(0.9719719719719719) = -0.175196443251869\n",
            "f(0.9729729729729729) = -0.169000820321849\n",
            "f(0.973973973973974) = -0.162798512165094\n",
            "f(0.974974974974975) = -0.156589764128558\n",
            "f(0.975975975975976) = -0.150374821813937\n",
            "f(0.9769769769769769) = -0.144153931067959\n",
            "f(0.9779779779779779) = -0.137927337972654\n",
            "f(0.978978978978979) = -0.131695288835623\n",
            "f(0.97997997997998) = -0.125458030180296\n",
            "f(0.980980980980981) = -0.119215808736173\n",
            "f(0.9819819819819819) = -0.112968871429073\n",
            "f(0.9829829829829829) = -0.106717465371359\n",
            "f(0.983983983983984) = -0.100461837852168\n",
            "f(0.984984984984985) = -0.0942022363276262\n",
            "f(0.985985985985986) = -0.0879389084110614\n",
            "f(0.986986986986987) = -0.0816721018632069\n",
            "f(0.9879879879879879) = -0.0754020645824020\n",
            "f(0.988988988988989) = -0.0691290445947844\n",
            "f(0.98998998998999) = -0.0628532900444819\n",
            "f(0.990990990990991) = -0.0565750491837925\n",
            "f(0.991991991991992) = -0.0502945703633665\n",
            "f(0.992992992992993) = -0.0440121020223814\n",
            "f(0.993993993993994) = -0.0377278926787170\n",
            "f(0.994994994994995) = -0.0314421909191206\n",
            "f(0.995995995995996) = -0.0251552453893760\n",
            "f(0.996996996996997) = -0.0188673047844674\n",
            "f(0.997997997997998) = -0.0125786178387408\n",
            "f(0.998998998998999) = -0.00628943331606761\n",
            "f(1.0) = 0\n"
          ]
        },
        {
          "data": {
            "image/png": "[encoded data removed]",
            "text/plain": [
              "<Figure size 800x600 with 1 Axes>"
            ]
          },
          "metadata": {},
          "output_type": "display_data"
        }
      ],
      "source": [
        "import sympy as sym\n",
        "from sympy.parsing.sympy_parser import parse_expr\n",
        "import numpy as np\n",
        "import matplotlib.pyplot as plt\n",
        "\n",
        "\n",
        "def cal_sin(x_values):\n",
        "    x = sym.Symbol('x')\n",
        "\n",
        "    expr_str = \"sin(2*pi*x)\"\n",
        "    f = parse_expr(expr_str, transformations='all')\n",
        "    display(f)\n",
        "\n",
        "    results = []\n",
        "    for val in x_values:\n",
        "        f_val = f.subs(x, val).evalf()\n",
        "        results.append(f_val)\n",
        "\n",
        "    for i, val in enumerate(x_values):\n",
        "        print(f\"f({val}) = {results[i]}\")\n",
        "    \n",
        "    x = np.linspace(0, 1, 1000)\n",
        "    f = np.sin(2 * np.pi * x)\n",
        "\n",
        "    plt.figure(figsize=(8, 6))\n",
        "    plt.plot(x_values, results, label='sin(2πx)', color='blue')\n",
        "    plt.xlabel('x')\n",
        "    plt.ylabel('f(x)')\n",
        "    plt.title('График функции sin(2*π*x)')\n",
        "    plt.grid(True)\n",
        "    plt.legend()\n",
        "    plt.show()\n",
        "    \n",
        "cal_sin([0.0, 0.1, 0.2, 0.3, 0.4, 0.5, 0.6, 0.7, 0.8, 0.9, 1.0])\n",
        "cal_sin(np.linspace(0, 1, 1000))"
      ]
    },
    {
      "cell_type": "markdown",
      "metadata": {
        "id": "ymxEVBxYvFBo"
      },
      "source": [
        "#### 4.2. Напишите функцию, которая принимает на вход четыре параметра: expr_str, x_start, x_end и num_points. Если эти параметры не предоставлены при вызове функции (т.е. они равны None), функция запрашивает соответствующие значения у пользователя. Если параметры предоставлены, функция использует их для построения графика.\n",
        "\n",
        "  - Значения параметров:\n",
        "\n",
        "    - `expr_str`: Это строка, которая представляет математическое выражение, которое нужно визуализировать. Например, `\"sin(2*pi*x)\"`. Это выражение затем преобразуется в выражение SymPy, которое можно использовать для дальнейших вычислений.\n",
        "\n",
        "    - `x_start`: Это начальное значение `x` для диапазона значений `x`, используемых при построении графика. Например, если `x_start = 0`, то график будет начинаться с `x = 0`.\n",
        "\n",
        "    - `x_end`: Это конечное значение `x` для диапазона значений `x`, используемых при построении графика. Например, если `x_end = 1`, то график будет заканчиваться на `x = 1`.\n",
        "\n",
        "    - `num_points`: Это количество точек, которые будут использоваться при построении графика. Например, если `num_points = 400`, то график будет состоять из 400 точек, равномерно распределенных между `x_start` и `x_end`."
      ]
    },
    {
      "cell_type": "code",
      "execution_count": 55,
      "metadata": {
        "colab": {
          "base_uri": "https://localhost:8080/",
          "height": 668
        },
        "id": "2i-dGP7ovFJN",
        "outputId": "ca278ae5-f3df-4bc1-e440-ee2d8c8eb2ea"
      },
      "outputs": [
        {
          "data": {
            "image/png": "[encoded data removed]",
            "text/plain": [
              "<Figure size 800x600 with 1 Axes>"
            ]
          },
          "metadata": {},
          "output_type": "display_data"
        }
      ],
      "source": [
        "import sympy as sym\n",
        "from sympy.parsing.sympy_parser import parse_expr\n",
        "import numpy as np\n",
        "import matplotlib.pyplot as plt\n",
        "\n",
        "def evaluate_function(expr_str=None, x_start=None, x_end=None, num_points=None):\n",
        "    if expr_str is None:\n",
        "        expr_str = input(\"Введите математическое выражение: \")\n",
        "    \n",
        "    if x_start is None:\n",
        "        x_start = input(\"Введите начальное значение x: \")\n",
        "    \n",
        "    if x_end is None:\n",
        "        x_end = input(\"Введите конечное значение x: \")\n",
        "    \n",
        "    if num_points is None:\n",
        "        num_points = input(\"Введите количество точек: \")\n",
        "    \n",
        "    x = sym.Symbol('x')\n",
        "    \n",
        "    f = parse_expr(expr_str, transformations='all')\n",
        "    \n",
        "    x_values = np.linspace(x_start, x_end, num_points)\n",
        "    \n",
        "    f_values = []\n",
        "    for val in x_values:\n",
        "        f_val = f.subs(x, val).evalf()\n",
        "        f_values.append(float(f_val))\n",
        "    \n",
        "    plt.figure(figsize=(8, 6))\n",
        "    plt.plot(x_values, f_values, label=f'{expr_str}', color='blue')\n",
        "    plt.xlabel('x')\n",
        "    plt.ylabel('f(x)')\n",
        "    plt.title(f'График функции {expr_str}')\n",
        "    plt.grid(True)\n",
        "    plt.legend()\n",
        "    plt.ylim(-1.2, 1.2)\n",
        "    plt.show()\n",
        "    \n",
        "    return x_values, f_values\n",
        "\n",
        "# Пример вызова с предоставленными параметрами\n",
        "x_values, f_values = evaluate_function(expr_str=\"sin(2*pi*x)\", x_start=0, x_end=1, num_points=400)\n",
        "\n",
        "# Пример вызова без параметров (запросит у пользователя)\n",
        "#x_values, f_values = evaluate_function()"
      ]
    },
    {
      "cell_type": "markdown",
      "metadata": {
        "id": "lKGjO8YAzAWN"
      },
      "source": [
        "### Задание №5. Работа с физическими единицами измерения\n",
        "\n",
        "SymPy позволяет работать с физическими единицами измерения. Подробнее об этом можно прочитать в документации SymPy:\n",
        "\n",
        "http://docs.sympy.org/latest/modules/physics/units/quantities.html"
      ]
    },
    {
      "cell_type": "markdown",
      "metadata": {
        "id": "nfQVdhaD0kAf"
      },
      "source": [
        "Давайте попробуем это на практике. Второй закон Ньютона гласит:\n",
        "\n"
      ]
    },
    {
      "cell_type": "markdown",
      "metadata": {
        "id": "mPR6GWwb0lN_"
      },
      "source": [
        "$$F = ma$$\n",
        "\n"
      ]
    },
    {
      "cell_type": "markdown",
      "metadata": {
        "id": "vpvHdNoI0moX"
      },
      "source": [
        "Создайте величину массы равную 1 кг и величину ускорения равную 10 м/с$^2$ , затем вычислите силу, $F$ (используя предопределенные единицы измерения kilograms, meters, seconds, newtons), и выразите результат в Ньютонах, используя метод convert_to."
      ]
    },
    {
      "cell_type": "code",
      "execution_count": 57,
      "metadata": {
        "colab": {
          "base_uri": "https://localhost:8080/",
          "height": 37
        },
        "id": "At5_qfo8zcVL",
        "outputId": "fcd862e3-a39c-4937-f2e2-daf95666cd23"
      },
      "outputs": [
        {
          "data": {
            "text/latex": [
              "$\\displaystyle 10 \\text{N}$"
            ],
            "text/plain": [
              "10*newton"
            ]
          },
          "metadata": {},
          "output_type": "display_data"
        }
      ],
      "source": [
        "from sympy.physics.units import kilograms, meters, seconds, newtons\n",
        "from sympy.physics.units import convert_to\n",
        "\n",
        "# Масса: 1 кг\n",
        "m = 1 * kilograms\n",
        "\n",
        "# Ускорение: 10 м/с^2\n",
        "a = 10 * meters / seconds**2\n",
        "\n",
        "F = m * a\n",
        "\n",
        "# Преобразуем силу в Ньютоны\n",
        "F_in_newtons = convert_to(F, newtons)\n",
        "\n",
        "display(F_in_newtons)"
      ]
    },
    {
      "cell_type": "markdown",
      "metadata": {
        "id": "dsw2R5zpJvxn"
      },
      "source": [
        "### Задание №6. Решение обыкновенных дифференциальных уравнений\n",
        "\n",
        "Найдите решение следующего уравнения:\n",
        "\n",
        "$$ \\frac{dy}{dt} = \\cos(t) - y^{1/n}, \\qquad y(0) = 2, $$\n",
        "\n",
        "где $n > 1$ - целое число. Это небольшое изменение относительно предыдущих примеров означает, что `sympy` может представить решение только в виде степенного ряда."
      ]
    },
    {
      "cell_type": "markdown",
      "metadata": {
        "id": "qHWdpA4TJxqW"
      },
      "source": [
        "#### 6.1. Найдите общее решение в виде степенного ряда для $n = 3$."
      ]
    },
    {
      "cell_type": "markdown",
      "metadata": {
        "id": "nLHeVcukNB-h"
      },
      "source": [
        "- Определите дифференциальное уравнение и отобразите его:"
      ]
    },
    {
      "cell_type": "code",
      "execution_count": 81,
      "metadata": {
        "colab": {
          "base_uri": "https://localhost:8080/",
          "height": 52
        },
        "id": "doK6dbn1J18f",
        "outputId": "17af31ed-83f1-445c-f645-b992e790634e"
      },
      "outputs": [
        {
          "data": {
            "text/latex": [
              "$\\displaystyle \\frac{d}{d t} y{\\left(t \\right)} = - y^{0.333333333333333}{\\left(t \\right)} + \\cos{\\left(t \\right)}$"
            ],
            "text/plain": [
              "Eq(Derivative(y(t), t), -y(t)**0.333333333333333 + cos(t))"
            ]
          },
          "metadata": {},
          "output_type": "display_data"
        }
      ],
      "source": [
        "import sympy as sym\n",
        "\n",
        "t = sym.Symbol('t')\n",
        "y = sym.Function('y')(t)\n",
        "\n",
        "eq = sym.Eq(sym.diff(y, t), sym.cos(t) - y**(1/3))\n",
        "\n",
        "display(eq)"
      ]
    },
    {
      "cell_type": "markdown",
      "metadata": {
        "id": "pn4zRWSmNGnO"
      },
      "source": [
        "- Отобразите общее решение дифференциального уравнения для $n = 3$ в виде степенного ряда:"
      ]
    },
    {
      "cell_type": "code",
      "execution_count": 93,
      "metadata": {
        "colab": {
          "base_uri": "https://localhost:8080/",
          "height": 440
        },
        "id": "UnVEYg49KsXm",
        "outputId": "1ebc412b-4109-49c9-e550-ed3fe11daf4f"
      },
      "outputs": [
        {
          "name": "stdout",
          "output_type": "stream",
          "text": [
            "Ряд Тейлора для n=3:\n"
          ]
        },
        {
          "data": {
            "text/latex": [
              "$\\displaystyle t^{3} \\left(- \\frac{1}{6} + \\frac{\\sqrt[3]{2} \\left(1 - \\sqrt[3]{2}\\right)}{54}\\right) - \\frac{\\sqrt[3]{2} t^{2}}{6} + t \\left(1 - \\sqrt[3]{2}\\right) + 2$"
            ],
            "text/plain": [
              "t**3*(-1/6 + 2**(1/3)*(1 - 2**(1/3))/54) - 2**(1/3)*t**2/6 + t*(1 - 2**(1/3)) + 2"
            ]
          },
          "metadata": {},
          "output_type": "display_data"
        }
      ],
      "source": [
        "t = sym.Symbol('t')\n",
        "y = sym.Symbol('y')  # Временная переменная y для вычисления производных\n",
        "\n",
        "# Правая часть уравнения: dy/dt = cos(t) - y^(1/3)\n",
        "f = sym.cos(t) - y**(sym.Rational(1, 3))\n",
        "\n",
        "# Начальное условие\n",
        "y0 = 2\n",
        "\n",
        "# Список для хранения значений производных y^(n)(0)\n",
        "derivatives = [y0]  # y(0) = 2\n",
        "\n",
        "# Функция для вычисления n-й производной f(t, y) по t\n",
        "def compute_derivative(f, n, t, y, y_derivatives):\n",
        "    # Подставляем y(t) как y, а производные y'(t), y''(t), ... из списка\n",
        "    f_n = f\n",
        "    for k in range(n):\n",
        "        # Вычисляем производную по t, учитывая, что y зависит от t\n",
        "        f_n = sym.diff(f_n, t) + sym.diff(f_n, y) * sym.Symbol(f'y{k+1}')\n",
        "        # Подставляем известные производные y^(k+1)(0)\n",
        "        for i in range(len(y_derivatives)):\n",
        "            f_n = f_n.subs(sym.Symbol(f'y{i+1}'), y_derivatives[i])\n",
        "    # Подставляем t = 0 и y = y(0)\n",
        "    f_n = f_n.subs({t: 0, y: y0})\n",
        "    return f_n\n",
        "\n",
        "# Вычисляем производные y'(0), y''(0), y'''(0) для n=3\n",
        "for n in range(1, 4):  # Нам нужны производные до y'''(0), то есть n от 1 до 3\n",
        "    y_n = compute_derivative(f, n-1, t, y, derivatives)\n",
        "    derivatives.append(y_n)\n",
        "\n",
        "# Вычисляем коэффициенты ряда Тейлора: a_n = y^(n)(0) / n!\n",
        "taylor_coeffs = [derivatives[n] / sym.factorial(n) for n in range(len(derivatives))]\n",
        "\n",
        "# Выводим разложение для n=3\n",
        "print(\"Ряд Тейлора для n=3:\")\n",
        "taylor_series = sum(taylor_coeffs[i] * t**i for i in range(4))  # До t^3\n",
        "display(taylor_series)"
      ]
    },
    {
      "cell_type": "markdown",
      "metadata": {
        "id": "uJ95iSWmJzYp"
      },
      "source": [
        "#### 6.2. Изучив [документацию](https://docs.sympy.org/latest/modules/solvers/ode.html) (метод `dsolve`), укажите начальное условие $y(0) = 2$ с помощью параметра `ics`. Используя данное условие, найдите решения ОДУ для $n = 3, \\dots, 10$."
      ]
    },
    {
      "cell_type": "code",
      "execution_count": 94,
      "metadata": {
        "colab": {
          "base_uri": "https://localhost:8080/",
          "height": 507
        },
        "id": "h0FZmWfFJ2U9",
        "outputId": "ee2024fa-c3d4-4a4f-980d-498d81179aa6"
      },
      "outputs": [
        {
          "name": "stdout",
          "output_type": "stream",
          "text": [
            "Ряд Тейлора для n=3:\n"
          ]
        },
        {
          "data": {
            "text/latex": [
              "$\\displaystyle t^{3} \\left(- \\frac{1}{6} + \\frac{\\sqrt[3]{2} \\left(1 - \\sqrt[3]{2}\\right)}{54}\\right) - \\frac{\\sqrt[3]{2} t^{2}}{6} + t \\left(1 - \\sqrt[3]{2}\\right) + 2$"
            ],
            "text/plain": [
              "t**3*(-1/6 + 2**(1/3)*(1 - 2**(1/3))/54) - 2**(1/3)*t**2/6 + t*(1 - 2**(1/3)) + 2"
            ]
          },
          "metadata": {},
          "output_type": "display_data"
        },
        {
          "name": "stdout",
          "output_type": "stream",
          "text": [
            "Ряд Тейлора для n=4:\n"
          ]
        },
        {
          "data": {
            "text/latex": [
              "$\\displaystyle t^{4} \\left(\\frac{1}{24} - \\frac{\\sqrt[3]{2}}{24}\\right) + t^{3} \\left(- \\frac{1}{6} + \\frac{\\sqrt[3]{2} \\left(1 - \\sqrt[3]{2}\\right)}{54}\\right) - \\frac{\\sqrt[3]{2} t^{2}}{6} + t \\left(1 - \\sqrt[3]{2}\\right) + 2$"
            ],
            "text/plain": [
              "t**4*(1/24 - 2**(1/3)/24) + t**3*(-1/6 + 2**(1/3)*(1 - 2**(1/3))/54) - 2**(1/3)*t**2/6 + t*(1 - 2**(1/3)) + 2"
            ]
          },
          "metadata": {},
          "output_type": "display_data"
        },
        {
          "name": "stdout",
          "output_type": "stream",
          "text": [
            "Ряд Тейлора для n=5:\n"
          ]
        },
        {
          "data": {
            "text/latex": [
              "$\\displaystyle - \\frac{\\sqrt[3]{2} t^{5}}{360} + t^{4} \\left(\\frac{1}{24} - \\frac{\\sqrt[3]{2}}{24}\\right) + t^{3} \\left(- \\frac{1}{6} + \\frac{\\sqrt[3]{2} \\left(1 - \\sqrt[3]{2}\\right)}{54}\\right) - \\frac{\\sqrt[3]{2} t^{2}}{6} + t \\left(1 - \\sqrt[3]{2}\\right) + 2$"
            ],
            "text/plain": [
              "-2**(1/3)*t**5/360 + t**4*(1/24 - 2**(1/3)/24) + t**3*(-1/6 + 2**(1/3)*(1 - 2**(1/3))/54) - 2**(1/3)*t**2/6 + t*(1 - 2**(1/3)) + 2"
            ]
          },
          "metadata": {},
          "output_type": "display_data"
        },
        {
          "name": "stdout",
          "output_type": "stream",
          "text": [
            "Ряд Тейлора для n=6:\n"
          ]
        },
        {
          "data": {
            "text/latex": [
              "$\\displaystyle t^{6} \\left(- \\frac{1}{720} + \\frac{\\sqrt[3]{2} \\left(1 - \\sqrt[3]{2}\\right)}{6480}\\right) - \\frac{\\sqrt[3]{2} t^{5}}{360} + t^{4} \\left(\\frac{1}{24} - \\frac{\\sqrt[3]{2}}{24}\\right) + t^{3} \\left(- \\frac{1}{6} + \\frac{\\sqrt[3]{2} \\left(1 - \\sqrt[3]{2}\\right)}{54}\\right) - \\frac{\\sqrt[3]{2} t^{2}}{6} + t \\left(1 - \\sqrt[3]{2}\\right) + 2$"
            ],
            "text/plain": [
              "t**6*(-1/720 + 2**(1/3)*(1 - 2**(1/3))/6480) - 2**(1/3)*t**5/360 + t**4*(1/24 - 2**(1/3)/24) + t**3*(-1/6 + 2**(1/3)*(1 - 2**(1/3))/54) - 2**(1/3)*t**2/6 + t*(1 - 2**(1/3)) + 2"
            ]
          },
          "metadata": {},
          "output_type": "display_data"
        },
        {
          "name": "stdout",
          "output_type": "stream",
          "text": [
            "Ряд Тейлора для n=7:\n"
          ]
        },
        {
          "data": {
            "text/latex": [
              "$\\displaystyle \\frac{2^{\\frac{2}{3}} t^{7} \\left(1 - \\sqrt[3]{2}\\right)}{163296} + t^{6} \\left(- \\frac{1}{720} + \\frac{\\sqrt[3]{2} \\left(1 - \\sqrt[3]{2}\\right)}{6480}\\right) - \\frac{\\sqrt[3]{2} t^{5}}{360} + t^{4} \\left(\\frac{1}{24} - \\frac{\\sqrt[3]{2}}{24}\\right) + t^{3} \\left(- \\frac{1}{6} + \\frac{\\sqrt[3]{2} \\left(1 - \\sqrt[3]{2}\\right)}{54}\\right) - \\frac{\\sqrt[3]{2} t^{2}}{6} + t \\left(1 - \\sqrt[3]{2}\\right) + 2$"
            ],
            "text/plain": [
              "2**(2/3)*t**7*(1 - 2**(1/3))/163296 + t**6*(-1/720 + 2**(1/3)*(1 - 2**(1/3))/6480) - 2**(1/3)*t**5/360 + t**4*(1/24 - 2**(1/3)/24) + t**3*(-1/6 + 2**(1/3)*(1 - 2**(1/3))/54) - 2**(1/3)*t**2/6 + t*(1 - 2**(1/3)) + 2"
            ]
          },
          "metadata": {},
          "output_type": "display_data"
        },
        {
          "name": "stdout",
          "output_type": "stream",
          "text": [
            "Ряд Тейлора для n=8:\n"
          ]
        },
        {
          "data": {
            "text/latex": [
              "$\\displaystyle t^{8} \\left(- \\frac{2^{\\frac{2}{3}} \\left(-1 + \\frac{\\sqrt[3]{2} \\left(1 - \\sqrt[3]{2}\\right)}{9}\\right) \\left(1 - \\sqrt[3]{2}\\right)}{979776} + \\frac{1}{40320}\\right) + \\frac{2^{\\frac{2}{3}} t^{7} \\left(1 - \\sqrt[3]{2}\\right)}{163296} + t^{6} \\left(- \\frac{1}{720} + \\frac{\\sqrt[3]{2} \\left(1 - \\sqrt[3]{2}\\right)}{6480}\\right) - \\frac{\\sqrt[3]{2} t^{5}}{360} + t^{4} \\left(\\frac{1}{24} - \\frac{\\sqrt[3]{2}}{24}\\right) + t^{3} \\left(- \\frac{1}{6} + \\frac{\\sqrt[3]{2} \\left(1 - \\sqrt[3]{2}\\right)}{54}\\right) - \\frac{\\sqrt[3]{2} t^{2}}{6} + t \\left(1 - \\sqrt[3]{2}\\right) + 2$"
            ],
            "text/plain": [
              "t**8*(-2**(2/3)*(-1 + 2**(1/3)*(1 - 2**(1/3))/9)*(1 - 2**(1/3))/979776 + 1/40320) + 2**(2/3)*t**7*(1 - 2**(1/3))/163296 + t**6*(-1/720 + 2**(1/3)*(1 - 2**(1/3))/6480) - 2**(1/3)*t**5/360 + t**4*(1/24 - 2**(1/3)/24) + t**3*(-1/6 + 2**(1/3)*(1 - 2**(1/3))/54) - 2**(1/3)*t**2/6 + t*(1 - 2**(1/3)) + 2"
            ]
          },
          "metadata": {},
          "output_type": "display_data"
        },
        {
          "name": "stdout",
          "output_type": "stream",
          "text": [
            "Ряд Тейлора для n=9:\n"
          ]
        },
        {
          "data": {
            "text/latex": [
              "$\\displaystyle \\frac{11 \\cdot 2^{\\frac{2}{3}} t^{9} \\left(-1 + \\frac{\\sqrt[3]{2} \\left(1 - \\sqrt[3]{2}\\right)}{9}\\right) \\left(1 - \\sqrt[3]{2}\\right)^{2}}{52907904} + t^{8} \\left(- \\frac{2^{\\frac{2}{3}} \\left(-1 + \\frac{\\sqrt[3]{2} \\left(1 - \\sqrt[3]{2}\\right)}{9}\\right) \\left(1 - \\sqrt[3]{2}\\right)}{979776} + \\frac{1}{40320}\\right) + \\frac{2^{\\frac{2}{3}} t^{7} \\left(1 - \\sqrt[3]{2}\\right)}{163296} + t^{6} \\left(- \\frac{1}{720} + \\frac{\\sqrt[3]{2} \\left(1 - \\sqrt[3]{2}\\right)}{6480}\\right) - \\frac{\\sqrt[3]{2} t^{5}}{360} + t^{4} \\left(\\frac{1}{24} - \\frac{\\sqrt[3]{2}}{24}\\right) + t^{3} \\left(- \\frac{1}{6} + \\frac{\\sqrt[3]{2} \\left(1 - \\sqrt[3]{2}\\right)}{54}\\right) - \\frac{\\sqrt[3]{2} t^{2}}{6} + t \\left(1 - \\sqrt[3]{2}\\right) + 2$"
            ],
            "text/plain": [
              "11*2**(2/3)*t**9*(-1 + 2**(1/3)*(1 - 2**(1/3))/9)*(1 - 2**(1/3))**2/52907904 + t**8*(-2**(2/3)*(-1 + 2**(1/3)*(1 - 2**(1/3))/9)*(1 - 2**(1/3))/979776 + 1/40320) + 2**(2/3)*t**7*(1 - 2**(1/3))/163296 + t**6*(-1/720 + 2**(1/3)*(1 - 2**(1/3))/6480) - 2**(1/3)*t**5/360 + t**4*(1/24 - 2**(1/3)/24) + t**3*(-1/6 + 2**(1/3)*(1 - 2**(1/3))/54) - 2**(1/3)*t**2/6 + t*(1 - 2**(1/3)) + 2"
            ]
          },
          "metadata": {},
          "output_type": "display_data"
        },
        {
          "name": "stdout",
          "output_type": "stream",
          "text": [
            "Ряд Тейлора для n=10:\n"
          ]
        },
        {
          "data": {
            "text/latex": [
              "$\\displaystyle t^{10} \\left(- \\frac{1}{3628800} + \\frac{11 \\left(-1 + \\frac{\\sqrt[3]{2} \\left(1 - \\sqrt[3]{2}\\right)}{9}\\right) \\left(1 - \\sqrt[3]{2}\\right)^{2}}{340122240}\\right) + \\frac{11 \\cdot 2^{\\frac{2}{3}} t^{9} \\left(-1 + \\frac{\\sqrt[3]{2} \\left(1 - \\sqrt[3]{2}\\right)}{9}\\right) \\left(1 - \\sqrt[3]{2}\\right)^{2}}{52907904} + t^{8} \\left(- \\frac{2^{\\frac{2}{3}} \\left(-1 + \\frac{\\sqrt[3]{2} \\left(1 - \\sqrt[3]{2}\\right)}{9}\\right) \\left(1 - \\sqrt[3]{2}\\right)}{979776} + \\frac{1}{40320}\\right) + \\frac{2^{\\frac{2}{3}} t^{7} \\left(1 - \\sqrt[3]{2}\\right)}{163296} + t^{6} \\left(- \\frac{1}{720} + \\frac{\\sqrt[3]{2} \\left(1 - \\sqrt[3]{2}\\right)}{6480}\\right) - \\frac{\\sqrt[3]{2} t^{5}}{360} + t^{4} \\left(\\frac{1}{24} - \\frac{\\sqrt[3]{2}}{24}\\right) + t^{3} \\left(- \\frac{1}{6} + \\frac{\\sqrt[3]{2} \\left(1 - \\sqrt[3]{2}\\right)}{54}\\right) - \\frac{\\sqrt[3]{2} t^{2}}{6} + t \\left(1 - \\sqrt[3]{2}\\right) + 2$"
            ],
            "text/plain": [
              "t**10*(-1/3628800 + 11*(-1 + 2**(1/3)*(1 - 2**(1/3))/9)*(1 - 2**(1/3))**2/340122240) + 11*2**(2/3)*t**9*(-1 + 2**(1/3)*(1 - 2**(1/3))/9)*(1 - 2**(1/3))**2/52907904 + t**8*(-2**(2/3)*(-1 + 2**(1/3)*(1 - 2**(1/3))/9)*(1 - 2**(1/3))/979776 + 1/40320) + 2**(2/3)*t**7*(1 - 2**(1/3))/163296 + t**6*(-1/720 + 2**(1/3)*(1 - 2**(1/3))/6480) - 2**(1/3)*t**5/360 + t**4*(1/24 - 2**(1/3)/24) + t**3*(-1/6 + 2**(1/3)*(1 - 2**(1/3))/54) - 2**(1/3)*t**2/6 + t*(1 - 2**(1/3)) + 2"
            ]
          },
          "metadata": {},
          "output_type": "display_data"
        }
      ],
      "source": [
        "# Вычисляем производные y'(0), y''(0), ..., y^(10)(0)\n",
        "for n in range(1, 11):\n",
        "    y_n = compute_derivative(f, n-1, t, y, derivatives)\n",
        "    derivatives.append(y_n)\n",
        "\n",
        "# Вычисляем коэффициенты ряда Тейлора: a_n = y^(n)(0) / n!\n",
        "taylor_coeffs = [derivatives[n] / sym.factorial(n) for n in range(len(derivatives))]\n",
        "\n",
        "# Выводим разложение для n от 3 до 10\n",
        "for n in range(3, 11):\n",
        "    print(f\"Ряд Тейлора для n={n}:\")\n",
        "    taylor_series = sum(taylor_coeffs[i] * t**i for i in range(n+1))\n",
        "    display(taylor_series)"
      ]
    },
    {
      "cell_type": "markdown",
      "metadata": {
        "id": "04BwZEZtJrji"
      },
      "source": [
        "#### 6.3. Постройте график каждого из этих решений для $t \\in [0, 1]$:"
      ]
    },
    {
      "cell_type": "code",
      "execution_count": 104,
      "metadata": {
        "colab": {
          "base_uri": "https://localhost:8080/",
          "height": 1000
        },
        "id": "cIS02mKBJ2uZ",
        "outputId": "a67a8375-9770-4708-9c5d-8b87c769f924"
      },
      "outputs": [
        {
          "data": {
            "text/plain": [
              "<Figure size 1000x600 with 0 Axes>"
            ]
          },
          "metadata": {},
          "output_type": "display_data"
        },
        {
          "data": {
            "image/png": "[encoded data removed]",
            "text/plain": [
              "<Figure size 800x500 with 1 Axes>"
            ]
          },
          "metadata": {},
          "output_type": "display_data"
        },
        {
          "data": {
            "image/png": "[encoded data removed]",
            "text/plain": [
              "<Figure size 800x500 with 1 Axes>"
            ]
          },
          "metadata": {},
          "output_type": "display_data"
        },
        {
          "data": {
            "image/png": "[encoded data removed]",
            "text/plain": [
              "<Figure size 800x500 with 1 Axes>"
            ]
          },
          "metadata": {},
          "output_type": "display_data"
        },
        {
          "data": {
            "image/png": "[encoded data removed]",
            "text/plain": [
              "<Figure size 800x500 with 1 Axes>"
            ]
          },
          "metadata": {},
          "output_type": "display_data"
        },
        {
          "data": {
            "image/png": "[encoded data removed]",
            "text/plain": [
              "<Figure size 800x500 with 1 Axes>"
            ]
          },
          "metadata": {},
          "output_type": "display_data"
        },
        {
          "data": {
            "image/png": "[encoded data removed]",
            "text/plain": [
              "<Figure size 800x500 with 1 Axes>"
            ]
          },
          "metadata": {},
          "output_type": "display_data"
        },
        {
          "data": {
            "image/png": "[encoded data removed]",
            "text/plain": [
              "<Figure size 800x500 with 1 Axes>"
            ]
          },
          "metadata": {},
          "output_type": "display_data"
        },
        {
          "data": {
            "image/png": "[encoded data removed]",
            "text/plain": [
              "<Figure size 800x500 with 1 Axes>"
            ]
          },
          "metadata": {},
          "output_type": "display_data"
        }
      ],
      "source": [
        "t_values = np.linspace(0, 1, 400)\n",
        "\n",
        "plt.figure(figsize=(10, 6))\n",
        "\n",
        "for n in range(3, 11):\n",
        "    y_func = sym.lambdify(t, taylor_series, 'numpy')\n",
        "    y_values = y_func(t_values)\n",
        "    \n",
        "    plt.figure(figsize=(8, 5))\n",
        "    plt.plot(t_values, y_values, label=f'n={n}', color='blue')\n",
        "    plt.xlabel('t')\n",
        "    plt.ylabel('y(t)')\n",
        "    plt.grid(True)\n",
        "    plt.legend()\n",
        "    plt.show()"
      ]
    }
  ],
  "metadata": {
    "colab": {
      "include_colab_link": true,
      "provenance": []
    },
    "kernelspec": {
      "display_name": "Python 3",
      "language": "python",
      "name": "python3"
    },
    "language_info": {
      "codemirror_mode": {
        "name": "ipython",
        "version": 3
      },
      "file_extension": ".py",
      "mimetype": "text/x-python",
      "name": "python",
      "nbconvert_exporter": "python",
      "pygments_lexer": "ipython3",
      "version": "3.10.7"
    }
  },
  "nbformat": 4,
  "nbformat_minor": 0
}
